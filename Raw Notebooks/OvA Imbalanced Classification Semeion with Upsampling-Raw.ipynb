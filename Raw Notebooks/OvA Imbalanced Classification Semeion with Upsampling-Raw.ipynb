{
 "cells": [
  {
   "cell_type": "markdown",
   "metadata": {
    "heading_collapsed": true
   },
   "source": [
    "# Imports"
   ]
  },
  {
   "cell_type": "code",
   "execution_count": 1,
   "metadata": {
    "ExecuteTime": {
     "end_time": "2020-10-09T00:41:36.554186Z",
     "start_time": "2020-10-09T00:41:28.622475Z"
    },
    "hidden": true
   },
   "outputs": [
    {
     "data": {
      "application/javascript": [
       "if (!(\"Notification\" in window)) {\n",
       "    alert(\"This browser does not support desktop notifications, so the %%notify magic will not work.\");\n",
       "} else if (Notification.permission !== 'granted' && Notification.permission !== 'denied') {\n",
       "    Notification.requestPermission(function (permission) {\n",
       "        if(!('permission' in Notification)) {\n",
       "            Notification.permission = permission;\n",
       "        }\n",
       "    })\n",
       "}\n"
      ],
      "text/plain": [
       "<IPython.core.display.Javascript object>"
      ]
     },
     "metadata": {},
     "output_type": "display_data"
    }
   ],
   "source": [
    "import numpy as np\n",
    "from collections import Counter\n",
    "import matplotlib.pyplot as plt\n",
    "import matplotlib.cm as cm\n",
    "import matplotlib as mpl\n",
    "import itertools\n",
    "import seaborn as sns\n",
    "import cv2\n",
    "import sklearn\n",
    "from sklearn import datasets\n",
    "from sklearn.metrics import accuracy_score, precision_score, recall_score, f1_score, confusion_matrix, roc_curve, auc\n",
    "from functools import partial, lru_cache\n",
    "from copy import copy\n",
    "from scipy.special import softmax, expit\n",
    "\n",
    "from qiskit import ClassicalRegister, QuantumRegister, QuantumCircuit, Aer, execute, IBMQ\n",
    "from qiskit.tools.visualization import circuit_drawer\n",
    "from qiskit.tools.visualization import plot_histogram\n",
    "from qiskit.extensions.unitary import unitary\n",
    "from qiskit.tools.monitor import job_monitor\n",
    "from qiskit.compiler import transpile, assemble\n",
    "S_simulator = Aer.backends(name = 'statevector_simulator')[0]\n",
    "M_simulator = Aer.backends(name = 'qasm_simulator')[0]\n",
    "\n",
    "import functools\n",
    "from tqdm import tqdm, tqdm_notebook, notebook\n",
    "from operator import itemgetter\n",
    "\n",
    "%matplotlib qt\n",
    "%load_ext jupyternotify"
   ]
  },
  {
   "cell_type": "markdown",
   "metadata": {
    "heading_collapsed": true
   },
   "source": [
    "# Auxiliar functions definition"
   ]
  },
  {
   "cell_type": "code",
   "execution_count": 2,
   "metadata": {
    "ExecuteTime": {
     "end_time": "2020-10-09T00:41:36.673899Z",
     "start_time": "2020-10-09T00:41:36.555183Z"
    },
    "hidden": true
   },
   "outputs": [],
   "source": [
    "def preprocess(vector):\n",
    "    \"\"\"\n",
    "    Input: a vector of size m = 2^N with entries in {-1, 1}.\n",
    "    Output: a (m, 2) numpy array with the form:\n",
    "    [[1 list([])]\n",
    "     [-1 list([])]\n",
    "     [1 list([])]\n",
    "     [1 list([])]]\n",
    "    where the frst column represents the sign and the second is the position in binary.\n",
    "    \"\"\"\n",
    "    # Factorize the sign\n",
    "    i_unsigned = np.multiply(-1, vector)\n",
    "    # To binary string\n",
    "    i_binary = [bin(int(n)) for n in i_unsigned]\n",
    "    # Remove the -0b or 0b par of the binary representation. bin(7) = 0b111 -> 111\n",
    "    for index, e in enumerate(i_binary):\n",
    "        if(e[0] == '-'):\n",
    "            #i_binary[index] = [-1, [int(e) for e in bin(index)[2:]]]\n",
    "            i_binary[index] = [-1, list(map(int, str(int(bin(index)[2:]))))]\n",
    "        else:\n",
    "            #i_binary[index] = [1, [int(e) for e in bin(index)[2:]]]\n",
    "            i_binary[index] = [1, list(map(int, str(int(bin(index)[2:]))))]\n",
    "            \n",
    "    n = int(np.log2(len(i_binary)))\n",
    "    for index, element in enumerate(i_binary):\n",
    "        if (len(element[1]) != n):\n",
    "            while (len(i_binary[index][1]) != n):\n",
    "                i_binary[index][1].insert(0, 0)\n",
    "    #for i in range(len(i_binary)):\n",
    "    #    i_binary[i][1] = i_binary[i][1][::-1]\n",
    "    i_binary = np.array(i_binary)\n",
    "    #print(i_binary)\n",
    "    return i_binary\n",
    "\n",
    "def check_z(binary):\n",
    "    \"\"\"\n",
    "    Input: a preprocessed vector via preprocess().\n",
    "    Output: a vector whose entries represents the qubit to perform a Z-gate.\n",
    "    \"\"\"\n",
    "    positive = True # Controls the sign to achieve\n",
    "    \n",
    "    if (int(binary[0][0]) < 0):\n",
    "        positive = False\n",
    "        \n",
    "    #print(f'The sign will be positive: {positive}')\n",
    "    z_index = []\n",
    "    for index, element in enumerate(binary):\n",
    "        counts = Counter(element[1])\n",
    "        #print(counts[1])\n",
    "        if (counts[1] == 1):\n",
    "            if (positive):\n",
    "                if (int(binary[index][0]) == -1):\n",
    "                    #print(f'Z gate in qubit {np.where(np.array(binary[2**i][1]) == 1)[0]}')\n",
    "                    z_index.append(int(np.where(np.array(binary[index][1]) == 1)[0][0]))\n",
    "            else:\n",
    "                if (int(binary[index][0]) == 1):\n",
    "                    #print(f'Z gate in qubit {np.where(np.array(binary[2**i][1]) == 1)[0]}')\n",
    "                    z_index.append(int(np.where(np.array(binary[index][1]) == 1)[0][0]))\n",
    "    #print(z_index)\n",
    "    #z_index = reindex(int(np.log2(len(i_binary))), z_index)\n",
    "    return z_index\n",
    "\n",
    "def apply_z(binary, Z):\n",
    "    \"\"\"\n",
    "    Input: the preprocessed vector and a vector containing the qubits to apply a Z-gate.\n",
    "    Output: the resultant vector with the signs flipped accordingly to the action of the Z-gates.\n",
    "    \"\"\"\n",
    "    '''for ind, e in enumerate(binary):\n",
    "        counts = Counter(e[1])\n",
    "        if counts[1] > 0:\n",
    "            ones = np.where(np.array(e[1]) == 1)[0]\n",
    "            #print(counts[1], e[1], ones)\n",
    "            for z in Z:\n",
    "                #print(f'z = {z}, ones = {ones}, changes = {z in ones}')\n",
    "                if (z in ones):\n",
    "                    binary[ind][0] *= -1'''\n",
    "    \n",
    "    for z in Z:\n",
    "        mask = np.array(list(map(lambda x : x[z] == 1, binary[:,1])))\n",
    "        binary[mask, 0] *= -1\n",
    "    \n",
    "    #print(binary)\n",
    "    return binary\n",
    "\n",
    "\n",
    "def check_cpz(binary):\n",
    "    \"\"\"\n",
    "    Input: the current preprocessed vector.\n",
    "    Output: the final desired vector and a vector whose elements are vectos containing the qubits to whom apply\n",
    "            the CPZ.\n",
    "    \"\"\"\n",
    "    CPZ = set()\n",
    "    n = int(np.log2(len(binary)))\n",
    "    #print(n)\n",
    "    sequence = 0\n",
    "    '''\n",
    "    # Ordered by the number of ones in its binary representation\n",
    "    aux_binary = sorted(binary, key = lambda item : Counter(item[1])[1])\n",
    "    \n",
    "    # Index holds the positions of the first appearance of n number of ones\n",
    "    index = []\n",
    "    cuenta = 1\n",
    "    for i, e in enumerate(aux_binary):\n",
    "        if (np.sum(e[1]) > cuenta):\n",
    "            index.append(i)\n",
    "            cuenta -= -1\n",
    "    \n",
    "    for ind in index: # Now ind holds where in the aux_binary star to appear elements with 2,3,... ones\n",
    "        for i in range(ind, len(aux_binary)):\n",
    "            if (aux_binary[i][0] != aux_binary[0][0]):\n",
    "                ones = np.where(np.array(aux_binary[i][1]) == 1)[0]\n",
    "                CPZ.add(tuple([sequence, tuple(ones)]))\n",
    "                sequence -= -1\n",
    "                \n",
    "                for j in range(ind, len(aux_binary)):\n",
    "                    pos = np.where(np.array(aux_binary[j][1]) == 1)[0]\n",
    "                    pos_set = set(pos)\n",
    "                    ones_set = set(ones)\n",
    "                    if (set.issubset(ones_set, pos_set)):\n",
    "                        aux_binary[j][0] *= -1\n",
    "        \n",
    "    \n",
    "    \n",
    "    \n",
    "    '''\n",
    "    for p in range(2, n + 1):\n",
    "        for ind, e in enumerate(binary):\n",
    "            counts = Counter(e[1])\n",
    "            #print(f'manifold of {p}')\n",
    "            if (counts[1] == p) and (binary[0][0] != e[0]):\n",
    "                ones = np.where(np.array(e[1]) == 1)[0]\n",
    "                #cadena = lambda a : str(a)\n",
    "                #unos = cadena(ones)[1:-1]\n",
    "                #CPZ.add(tuple(ones))\n",
    "                CPZ.add(tuple([sequence, tuple(ones)]))\n",
    "                #print(f'applying {tuple([sequence, tuple(ones)])} because {e}')\n",
    "                sequence += 1\n",
    "                \n",
    "                ones_set = set(ones)\n",
    "                mask = np.array(list(map(partial(check_set, ones_set) , binary[:, 1])))\n",
    "                \n",
    "                binary[mask, 0] *= -1\n",
    "                \n",
    "                #for ind, e in enumerate(binary):\n",
    "                #    pos = np.where(np.array(e[1]) == 1)[0]\n",
    "                #    pos_set = set(pos)\n",
    "                #    ones_set = set(ones)\n",
    "                #    if (set.issubset(ones_set, pos_set)):\n",
    "                #        binary[ind][0] *= -1\n",
    "                        #CPZ.append(ones)\n",
    "                        #print(f'C{p}Z = {ones}')\n",
    "    #'''\n",
    "    #print(binary)\n",
    "    CPZ = [list(ele) for _, ele in enumerate(CPZ)]\n",
    "    CPZ = sorted(CPZ, key = lambda l: l[0])\n",
    "    #print(CPZ)\n",
    "    CPZ = [list(e[1]) for e in CPZ]\n",
    "    #sett = [list(e) for e in sett]\n",
    "    #if(binary[0][0] < 0):\n",
    "    #    CPZ = list(map(partial(reindex, int(np.log2(len(binary)))), CPZ))\n",
    "    #CPZ = sorted(CPZ, key = lambda l: (len(l), l.sort()))\n",
    "    return CPZ\n",
    "\n",
    "def check_set(ones_set, pos_set):\n",
    "    return set.issubset(ones_set, set(np.where(np.array(pos_set) == 1)[0]))\n",
    "\n",
    "def vectorize(number, digits):\n",
    "    \"\"\"\n",
    "    Input: an integer in decimal form and the number of final digits as binary.\n",
    "    Output: its representation on binary as an array. Most significant bit as first element of the array.\n",
    "    \"\"\"\n",
    "    digits = 2**(np.ceil(np.log2(digits)))\n",
    "    binary_number = bin(number)[2:]\n",
    "    as_text = str(binary_number)\n",
    "    vectorized_number = [int(d) for d in as_text]\n",
    "    #print(vectorized_number)\n",
    "    if (digits < len(vectorized_number)):\n",
    "        digits = 2**(np.ceil(np.log2(len(vectorized_number))))\n",
    "    if (digits > len(vectorized_number)):\n",
    "        while (len(vectorized_number) != digits):\n",
    "            vectorized_number.insert(0, 0)\n",
    "    #print(vectorized_number)\n",
    "    return np.array(vectorized_number)\n",
    "\n",
    "def o_product(i, w):\n",
    "    return (np.abs(np.dot(i, w))/len(i))**2\n",
    "\n",
    "def sign(p):\n",
    "    #Can be substitute in code by:\n",
    "    #sign = lambda p : [(-1)**i for i in p]\n",
    "    #list(map(sign, inputs))\n",
    "    return [(-1)**i for i in p]\n",
    "\n",
    "def design(p):\n",
    "    return [1 if i < 0 else 0 for i in w]\n",
    "\n",
    "def reindex(N, change):\n",
    "    origin = np.array([i for i in range(N)])\n",
    "    destiny = np.flipud(origin)\n",
    "    \n",
    "    for index, element in enumerate(change):\n",
    "        #print(f'{element} -> {np.where(d == element)[0]}')\n",
    "        change[index] = np.where(destiny == element)[0][0]\n",
    "        \n",
    "    return change\n",
    "\n",
    "def U(qc, q, Z, CPZ):\n",
    "    for z in Z:\n",
    "        #print(f'Z gate in qubit {type(int(z))}')\n",
    "        qc.z(q[int(z)])\n",
    "    for cpz in CPZ:\n",
    "        controls = [q[int(i)] for i in cpz[:-1]]\n",
    "        target = q[int(cpz[-1])]\n",
    "        #print(f'CPZ gate with control {controls} and target {target}')\n",
    "        qc.h(cpz[-1])\n",
    "        #qc.mct(controls, target, None, mode='advanced')\n",
    "        \n",
    "        #try:\n",
    "        #    qc.mct(controls, target, None, mode='advanced')\n",
    "        #except AssertionError:\n",
    "            #print(\"Going to mode noancilla\")\n",
    "        qc.mct(controls, target, None, mode='noancilla')\n",
    "        \n",
    "        qc.h(cpz[-1])\n",
    "    return qc\n",
    "\n",
    "#@lru_cache(maxsize = None)\n",
    "def gates_sequence(vector):\n",
    "    #print('Preprocessing')\n",
    "    binary = preprocess(vector)\n",
    "    #print('Getting Z gates')\n",
    "    Z_GATES = check_z(binary)\n",
    "    #print('Applying Z gates')\n",
    "    binary = apply_z(binary, Z_GATES)\n",
    "    #print('Getting CpZ gates')\n",
    "    CPZ_GATES = check_cpz(binary)\n",
    "    return Z_GATES, CPZ_GATES\n",
    "\n",
    "def perceptron(N = 1, shots = 512, z_gates_w = [], CPZ_gates_w = [], z_gates_i = [], CPZ_gates_i = [], simulation = True):\n",
    "    \n",
    "    q = QuantumRegister(N, name = 'q_r')\n",
    "    #A = QuantumRegister(1, name = 'auxiliar_ancillar')\n",
    "    a = QuantumRegister(1, name = 'a_r')\n",
    "    c = ClassicalRegister(1, name = 'c_r')\n",
    "    qc = QuantumCircuit(q, a, c, name = 'qc')\n",
    "\n",
    "    for index in range(N):\n",
    "        qc.h(q[index])\n",
    "\n",
    "        \n",
    "    qc = U(qc, q, z_gates_i, CPZ_gates_i)\n",
    "    qc = U(qc, q, z_gates_w, CPZ_gates_w)\n",
    "\n",
    "    for index in range(N):\n",
    "        qc.h(q[index])\n",
    "    \n",
    "    for index in range(N):\n",
    "        qc.x(q[index])\n",
    "\n",
    "    #qc.mct(q[:], a[0], None, mode='advanced')\n",
    "    \n",
    "    #try:\n",
    "    #    qc.mct(q[:], a[0], None, mode='advanced')\n",
    "    #except AssertionError:\n",
    "        #print(\"Going to mode noancilla\")\n",
    "    qc.mct(q[:], a[0], None, mode='noancilla')    \n",
    "        \n",
    "    qc.measure(a[0], c)\n",
    "    #print(qc)\n",
    "        \n",
    "    #results = execute(qc, backend = M_simulator, shots = shots).result()\n",
    "    \n",
    "    # Optimized\n",
    "    transpiled_circuit = transpile(qc, M_simulator, optimization_level = 1) # optimization_level = [0, 1, 2, 3]\n",
    "    job = M_simulator.run(assemble(transpiled_circuit, shots = shots))\n",
    "    results = job.result()\n",
    "    \n",
    "    #results = execute(qc, backend = qcomp, shots = shots, memory=True) # For Real Quantum Computing\n",
    "\n",
    "    #job_monitor(results) # For Real Quantum Computing\n",
    "        \n",
    "    #results = results.result() # For Real Quantum Computing\n",
    "    \n",
    "    # Optimized for Real Quantum Computer\n",
    "    #transpiled_circuit = transpile(qc, qcomp, optimization_level = 2) # optimization_level = 0,1,2,3\n",
    "    #job = M_simulator.run(assemble(transpiled_circuit, shots = shots))\n",
    "    #results = job.result()\n",
    "    \n",
    "    return results\n",
    "\n",
    "\n",
    "def fit(qubits = 1, X_train = np.array([[1]]), Y_train = np.array([[1]]), negative_class = 0, positive_class = 1, epochs = 1, shots = 64, threshold = 0.5, Ip = 0.5, In = 0.5, bias = 0, weight_passed = []):\n",
    "    # Train and return a weight vector\n",
    "    n = len(X_train)\n",
    "    result_matrix = np.zeros((epochs, len(X_train)))\n",
    "    np.random.seed(10)\n",
    "    \n",
    "    w = weight_passed\n",
    "    #w = np.random.randint(2, size = 2**qubits) # Random generation of initial weight vector. Sign it at once.\n",
    "    \n",
    "    #w = np.array(X_train[23])\n",
    "    \n",
    "    #print(f'Starting training with qubits = {qubits}, train = {X_train}, target = {Y_train}, epochs = {epochs}, shots = {shots}, Ip = {Ip}, In = {In}')\n",
    "    #print(f'Initial weight vector = {w}')\n",
    "    \n",
    "    weights = []\n",
    "\n",
    "    for epoch in notebook.tqdm(range(epochs), desc = f'Epoches'):\n",
    "        errors = 0\n",
    "        correct = 0\n",
    "        for index, training_element in enumerate(notebook.tqdm(X_train, desc = f'Training {epoch}')):\n",
    "\n",
    "            pattern = sign(training_element) # Signing the training pattern.\n",
    "            \n",
    "            wei = sign(w) # Signing the weight vector\n",
    "            #print('Calculating Z gates')\n",
    "            #print(pattern)\n",
    "            z_gates_i, CPZ_gates_i = gates_sequence(tuple(pattern)) # Gates to apply to the training pattern vector\n",
    "            #print('Calculating CpZ gates')\n",
    "            z_gates_w, CPZ_gates_w = gates_sequence(tuple(wei)) # Gates to apply to the weight vector\n",
    "            \n",
    "            #print('Ahora sí, Quantum Realm')\n",
    "            \n",
    "            ############################  Quantum Proccess  ############################\n",
    "            \n",
    "            results = perceptron(qubits, shots, z_gates_w, CPZ_gates_w, z_gates_i, CPZ_gates_i)\n",
    "            \n",
    "            #########################  End of Quantum Proccess  #########################\n",
    "            \n",
    "            counts = results.get_counts()\n",
    "        \n",
    "            #list_count_value = [ (v,oq.From_binary(k)) for k, v in counts.items()]\n",
    "\n",
    "            #sorte = sorted(list_count_value, key = itemgetter(0))\n",
    "        \n",
    "            #readout = sorte[0][1] * sorte[0][0] / shots\n",
    "            \n",
    "            readout = counts.get('1', shots) / shots\n",
    "            \n",
    "            #try:\n",
    "            #    readout = counts['1'] / shots\n",
    "            #except KeyError:\n",
    "            #    readout = 0\n",
    "            \n",
    "            #print(readout)\n",
    "            \n",
    "            clazz = negative_class if (readout + bias) < threshold else positive_class # Classification part.\n",
    "            \n",
    "            result_matrix[epoch][index] = readout + bias\n",
    "            #print(f'Weight vector = {w} and Training element = {training_element}')\n",
    "            if (Y_train[index] == clazz):\n",
    "                # Correctly classified. We do not modify the weight vector and we continue.\n",
    "                correct -= -np.power(np.inf, np.log(1))\n",
    "                #if clazz:\n",
    "                    #Ip *= (n - correct) / float(n)\n",
    "                    #Ip *= 1.0 / np.log(3 + correct)\n",
    "                    #Ip *= np.exp(-0.001 * correct)\n",
    "                    #Ip *= 1.0 / (1.0 + 0.01 * correct)\n",
    "                    #Ip *= .982**np.floor((correct + 1) / 10)\n",
    "                #else:\n",
    "                    #In *= (n - correct) / float(n)\n",
    "                    #In *= 1.0 / np.log(3 + correct)\n",
    "                    #In *= np.exp(-0.001 * correct)\n",
    "                    #In *= 1.0 / (1.0 + 0.01 * correct)\n",
    "                    #In *= .982**np.floor((correct + 1) / 10)\n",
    "                continue # Skip the execution to the next iteration\n",
    "            # If we reach this point the classification was incorrect\n",
    "            #if (clazz < Y_train[index]): # Classified as 0 (negative) when is 1 (positive)\n",
    "            if (clazz == negative_class): # Classified as (negative) when is (positive)\n",
    "                # We flip +-1 signs Ip fraction where i and w coincide\n",
    "                coincide = np.argwhere(training_element == w).flatten()\n",
    "                pos = np.array(list(set(np.random.choice(coincide, int(np.floor(len(coincide) * Ip)), replace = False)))) if len(coincide) > 0 else np.array([])\n",
    "                #print(f'Missclasiffied as 0. Before changes: {Counter(w)} with len(coincide) * Ip = {int(np.ceil(len(coincide) * Ip))}')\n",
    "                #for indexed in pos:\n",
    "                    #print('entre en Ip')\n",
    "                #    w[indexed] = (w[indexed] + 1) % 2\n",
    "#                print(f'Coincide in {len(coincide)} and change {len(pos)} bits')\n",
    "                try:\n",
    "                    w[pos] = (w[pos] + 1) % 2\n",
    "                except IndexError:\n",
    "                    pass\n",
    "                #print(f'Missclasiffied as 0. After  changes: {Counter(w)} with len(coincide) * Ip = {int(np.ceil(len(coincide) * Ip))}')\n",
    "            else: # Classified as 1 (positive) when is 0 (negative)\n",
    "                # We flip +-1 signs In fraction where i and w coincide\n",
    "                coincide = np.argwhere(training_element == w).flatten()\n",
    "                pos = np.array(list(set(np.random.choice(coincide, int(np.floor(len(coincide) * In)), replace = False)))) if len(coincide) > 0 else np.array([])\n",
    "                #print(f'Missclasified as 1. Before changes: {Counter(w)} with len(coincide) * In = {int(np.ceil(len(coincide) * In))}')\n",
    "                #for indexed in pos:\n",
    "                    #print('entre en In')\n",
    "                #    w[indexed] = (w[indexed] + 1) % 2\n",
    "#                print(f'Coincide in {len(coincide)} and change {len(pos)} bits')\n",
    "                try:\n",
    "                    w[pos] = (w[pos] + 1) % 2\n",
    "                except IndexError:\n",
    "                    pass\n",
    "                #print(f'Missclasified as 1. After  changes: {Counter(w)} with len(coincide) * In = {int(np.ceil(len(coincide) * In))}')\n",
    "            errors -= -1\n",
    "        print(f'Errors = {errors} for accuracy of = {1 - errors/len(X_train)}')\n",
    "        #print(f'Final weight vector = {w}')\n",
    "        weights.append(w)\n",
    "    return w, result_matrix, weights\n",
    "\n",
    "def predict(qubits = 1, X_test = np.array([[1]]), negative_class = 0, positive_class = 1, shots = 64, threshold = 0.5, w = 0, bias = 0):\n",
    "    # Train and return a weight vector\n",
    "    result_matrix = np.zeros(len(X_test))\n",
    "    readout_matrix = np.zeros(len(X_test))\n",
    "    np.random.seed(10)\n",
    "    Y_predicted = np.zeros(len(X_test))\n",
    "    wei = sign(w) # Signing the weight vector\n",
    "    z_gates_w, CPZ_gates_w = gates_sequence(tuple(wei)) # Gates to apply to the weight vector\n",
    "    \n",
    "    #print(f'Starting predict with qubits = {qubits}, train = {X_test}, shots = {shots}')\n",
    "    #print(f'Passed weight vector = {w}')\n",
    "         \n",
    "    for index, training_element in enumerate(notebook.tqdm(X_test, desc = 'Predicting')):\n",
    "            \n",
    "        pattern = sign(training_element) # Signing the training pattern.\n",
    "            \n",
    "        z_gates_i, CPZ_gates_i = gates_sequence(tuple(pattern)) # Gates to apply to the training pattern vector\n",
    "            \n",
    "        ############################  Quantum Proccess  ############################\n",
    "            \n",
    "        results = perceptron(qubits, shots, z_gates_w, CPZ_gates_w, z_gates_i, CPZ_gates_i)\n",
    "            \n",
    "        #########################  End of Quantum Proccess  #########################\n",
    "            \n",
    "        counts = results.get_counts()\n",
    "        \n",
    "        #list_count_value = [ (v,oq.From_binary(k)) for k, v in counts.items()]\n",
    "\n",
    "        #sorte = sorted(list_count_value, key = itemgetter(0))\n",
    "        \n",
    "        #readout = sorte[0][1] * sorte[0][0] / shots\n",
    "        \n",
    "        readout = counts.get('1', shots) / shots\n",
    "        \n",
    "        #try:\n",
    "        #    readout = counts['1'] / shots\n",
    "        #except KeyError:\n",
    "        #    readout = 0\n",
    "        \n",
    "        #print(readout)\n",
    "            \n",
    "        clazz = negative_class if (readout + bias) < threshold else positive_class # Classification part.\n",
    "            \n",
    "        result_matrix[index] = clazz\n",
    "        \n",
    "        readout_matrix[index] = readout + bias\n",
    "\n",
    "    return result_matrix, readout_matrix\n",
    "\n",
    "def evaluate(Y_test, predicted, negative_class, positive_class):\n",
    "    correct = np.argwhere(Y_test == predicted)\n",
    "    accuracy = len(correct) / len(predicted)\n",
    "    ones_and_zeros = [Y_test[ind][0] for ind in correct]\n",
    "    counts = Counter(ones_and_zeros)\n",
    "    confusion_matrix = np.zeros((2,2))\n",
    "    \n",
    "    Y_test_aux = np.zeros_like(Y_test)\n",
    "    predicted_aux = np.zeros_like(predicted)\n",
    "    \n",
    "    #Y_test_aux[Y_test == negative_class] = 0\n",
    "    #predicted_aux[predicted == negative_class] = 0\n",
    "    Y_test_aux[Y_test == positive_class] = 1\n",
    "    predicted_aux[predicted == positive_class] = 1\n",
    "    \n",
    "    for i in range(len(predicted_aux)):\n",
    "        confusion_matrix[int(Y_test_aux[i])][int(predicted_aux[i])] += 1\n",
    "    return accuracy, counts, confusion_matrix\n",
    "\n",
    "def plot_confusion_matrix(cm, target_names = None, cmap = None, normalize = True, labels = True, title = 'Confusion Matrix'):\n",
    "    accuracy = np.trace(cm) / float(np.sum(cm))\n",
    "    misclass = 1 - accuracy\n",
    "    \n",
    "    if cmap is None:\n",
    "        cmap = plt.get_cmap('Blues')\n",
    "        \n",
    "    if normalize:\n",
    "        cm = cm.astype('float') / cm.sum(axis = 1)[:, np.newaxis]\n",
    "        \n",
    "    plt.figure(figsize = (8, 6))\n",
    "    plt.imshow(cm, interpolation = 'nearest', cmap = cmap)\n",
    "    plt.title(title)\n",
    "    plt.colorbar()\n",
    "    \n",
    "    thresh = cm.max() / 1.5 if normalize else cm.max() / 2\n",
    "    \n",
    "    if target_names is not None:\n",
    "        tick_marks = np.arange(len(target_names))\n",
    "        plt.xticks(tick_marks, target_names)\n",
    "        plt.yticks(tick_marks, target_names)\n",
    "        \n",
    "    if labels:\n",
    "        for i, j in itertools.product(range(cm.shape[0]), range(cm.shape[1])):\n",
    "            if normalize:\n",
    "                plt.text(j, i, \"{:0.4f}\".format(cm[i, j]), horizontalalignment = 'center', color = 'white' if cm[i, j] > thresh else 'black', fontsize = 20)\n",
    "            else:\n",
    "                plt.text(j, i, \"{:,}\".format(cm[i, j]), horizontalalignment = 'center', color = 'white' if cm[i, j] > thresh else 'black', fontsize = 20)\n",
    "    \n",
    "    plt.tight_layout()\n",
    "    plt.ylabel('True label')\n",
    "    plt.xlabel('Predicted label\\naccuracy = {:0.4f}; misclass = {:0.4f}'.format(accuracy, misclass))\n",
    "    plt.axis('equal')\n",
    "    plt.show()\n",
    "    \n",
    "def save_weight(filename = 'weights.txt', mode = 'a+', weight = []):\n",
    "    with open(filename, mode) as file:\n",
    "        file.write(f'{number_negative_class, number_positive_class}:')\n",
    "        for p in w:\n",
    "            file.write(f'{p},')\n",
    "        file.write('\\n')\n",
    "        \n",
    "def retrieve_weights_from_file(filename = 'weights.txt', full = False):\n",
    "    with open(filename, 'r+') as file:\n",
    "        lines = file.readlines()\n",
    "        \n",
    "        cuadratic = lambda w : int(np.abs((1 - np.sqrt(1 + 8 * w)) / 2))\n",
    "        \n",
    "        nc = int(np.sqrt(len(lines))) if full else cuadratic(len(lines))\n",
    "        \n",
    "        weights_matrix = np.empty((nc, nc), dtype = object)\n",
    "    \n",
    "        #print(weights_matrix)\n",
    "    \n",
    "        for line in lines:\n",
    "            #print(line, end = '\\n')\n",
    "            xy, peso = line.split(sep = ':')[0], line.split(sep = ':')[1]\n",
    "            weight = np.array(list(map(int , peso.split(sep = ',')[:-1])))\n",
    "            coordinates = [int(c) for c in xy if c.isdigit()]\n",
    "            #print(f'Coordenates: {coordinates[0], coordinates[1]}, weight: {weight}')\n",
    "            weights_matrix[coordinates[0]][coordinates[1]] = weight\n",
    "            if not full:\n",
    "                weights_matrix[coordinates[1]][coordinates[0]] = weight\n",
    "    \n",
    "        #print(weights_matrix)\n",
    "    return weights_matrix\n",
    "\n",
    "def retrieve_weights_from_file_total(filename = 'weights.txt'):\n",
    "    with open(filename, 'r+') as file:\n",
    "        lines = file.readlines()\n",
    "        \n",
    "        weights_vector = []\n",
    "        \n",
    "        for line in lines:\n",
    "            xy, peso = line.split(sep = ':')[0], line.split(sep = ':')[1]\n",
    "            weight = np.array(list(map(int , peso.split(sep = ',')[:-1])))\n",
    "            weights_vector.append(weight)\n",
    "            \n",
    "        \n",
    "    return np.array(weights_vector)\n",
    "\n",
    "def print_weights_matrix(weights_matrix):\n",
    "    n_classes = weights_matrix.shape[0]\n",
    "    fig, axs = plt.subplots(2, n_classes // 2, figsize=(20, 10))\n",
    "    count = 0\n",
    "\n",
    "    for i in range(2):\n",
    "        for j in range(n_classes // 2):\n",
    "            ax = axs[i][j]\n",
    "        \n",
    "            #c = ax.pcolor(thetas[i + j][1:].reshape(28, 28), cmap = 'gray')\n",
    "            try:\n",
    "                c = ax.imshow(weights_matrix[i * 5 + j].reshape(16, 16), cmap = 'gray_r', interpolation='nearest')\n",
    "                ax.axis('off')\n",
    "                ax.axis('equal')\n",
    "                ax.set_title(f'Weight vector for {i * 5 + j}').set_position([0.5, 0.9])\n",
    "                count += 1\n",
    "            except IndexError:\n",
    "                continue\n",
    "        \n",
    "    fig.tight_layout()\n",
    "    plt.colorbar(c)\n",
    "    plt.show()\n",
    "    \n",
    "def multi_class_prediction_OVA(qubits = 1, classification_patterns = np.array([[1]]), shots = 64, test_threshold = 0.35, weights_matrix = np.zeros((1,1)), bias = 0):\n",
    "\n",
    "    # Declaring and populating the Classification Matrix\n",
    "\n",
    "    patterns = len(classification_patterns)\n",
    "    holder_for_classes = np.zeros((patterns, 10), dtype = 'int64')\n",
    "    holder_for_readouts = np.zeros((patterns, 10), dtype = 'float64')\n",
    "    \n",
    "    '''for i, x in enumerate(classification_patterns):\n",
    "        for j, w in enumerate(weights_matrix):\n",
    "            asigned_class, read_out = predict(qubits = Q, X_test = [x], negative_class = j, positive_class = 10, shots = shots, threshold = test_threshold, w = weights_matrix[j], bias = bias)\n",
    "            holder_for_classes[i, j] = asigned_class\n",
    "            holder_for_readouts[i, j] = read_out'''\n",
    "            \n",
    "    for i, w in enumerate(weights_matrix):\n",
    "        asigned_class, read_out = predict(qubits = Q, X_test = classification_patterns, negative_class = i, positive_class = 10, shots = shots, threshold = test_threshold, w = weights_matrix[i], bias = bias)\n",
    "        holder_for_classes[: ,i] = asigned_class\n",
    "        holder_for_readouts[:, i] = read_out\n",
    "    \n",
    "    return holder_for_classes, holder_for_readouts"
   ]
  },
  {
   "cell_type": "markdown",
   "metadata": {},
   "source": [
    "# Training binary imbalanced classifiers $SemeionHandwrittenDigit$"
   ]
  },
  {
   "cell_type": "code",
   "execution_count": 3,
   "metadata": {
    "ExecuteTime": {
     "end_time": "2020-10-09T00:41:37.985395Z",
     "start_time": "2020-10-09T00:41:37.744006Z"
    }
   },
   "outputs": [],
   "source": [
    "data = np.loadtxt(\"C:/Users/jeff_/OneDrive - Instituto Politecnico Nacional/Datasets/Semeion Handwritten Digit Data Set/semeion.data\")"
   ]
  },
  {
   "cell_type": "code",
   "execution_count": 4,
   "metadata": {
    "ExecuteTime": {
     "end_time": "2020-10-09T00:41:38.023259Z",
     "start_time": "2020-10-09T00:41:38.019270Z"
    }
   },
   "outputs": [],
   "source": [
    "images = data[:,:-10]\n",
    "labels_oh = data[:,-10:]"
   ]
  },
  {
   "cell_type": "code",
   "execution_count": 5,
   "metadata": {
    "ExecuteTime": {
     "end_time": "2020-10-09T00:41:38.389826Z",
     "start_time": "2020-10-09T00:41:38.386827Z"
    }
   },
   "outputs": [],
   "source": [
    "targets = np.argmax(labels_oh, axis = 1)"
   ]
  },
  {
   "cell_type": "code",
   "execution_count": 6,
   "metadata": {
    "ExecuteTime": {
     "end_time": "2020-10-09T00:41:38.784570Z",
     "start_time": "2020-10-09T00:41:38.778587Z"
    }
   },
   "outputs": [
    {
     "name": "stdout",
     "output_type": "stream",
     "text": [
      "Total count for digits: Counter({1: 162, 0: 161, 4: 161, 6: 161, 2: 159, 3: 159, 5: 159, 7: 158, 9: 158, 8: 155})\n"
     ]
    }
   ],
   "source": [
    "targets_count = Counter(targets)\n",
    "print(f'Total count for digits: {targets_count}')"
   ]
  },
  {
   "cell_type": "code",
   "execution_count": 7,
   "metadata": {
    "ExecuteTime": {
     "end_time": "2020-10-09T00:41:40.397189Z",
     "start_time": "2020-10-09T00:41:40.061055Z"
    }
   },
   "outputs": [],
   "source": [
    "images_and_labels = list(zip(images, targets))\n",
    "for index, (image, label) in enumerate(images_and_labels[45:65]):\n",
    "    plt.subplot(2, 10, index + 1)\n",
    "    plt.axis('off')\n",
    "    plt.imshow(np.round(image / np.max(image)).reshape(16,16), cmap=plt.cm.gray_r, interpolation='nearest')\n",
    "    plt.title('L: %i' % label)"
   ]
  },
  {
   "cell_type": "code",
   "execution_count": 8,
   "metadata": {
    "ExecuteTime": {
     "end_time": "2020-10-09T00:42:14.126297Z",
     "start_time": "2020-10-09T00:42:14.123275Z"
    }
   },
   "outputs": [],
   "source": [
    "# Getting 0 and 1 from digits\n",
    "number_negative_class = 0\n",
    "number_positive_class = 10"
   ]
  },
  {
   "cell_type": "code",
   "execution_count": 9,
   "metadata": {
    "ExecuteTime": {
     "end_time": "2020-10-09T00:42:21.303432Z",
     "start_time": "2020-10-09T00:42:21.298426Z"
    }
   },
   "outputs": [],
   "source": [
    "targets[targets != number_negative_class] = number_positive_class"
   ]
  },
  {
   "cell_type": "code",
   "execution_count": 10,
   "metadata": {
    "ExecuteTime": {
     "end_time": "2020-10-09T00:42:23.774747Z",
     "start_time": "2020-10-09T00:42:23.769760Z"
    }
   },
   "outputs": [
    {
     "name": "stdout",
     "output_type": "stream",
     "text": [
      "Total count for digits: Counter({10: 1432, 0: 161})\n"
     ]
    }
   ],
   "source": [
    "targets_count = Counter(targets)\n",
    "print(f'Total count for digits: {targets_count}')"
   ]
  },
  {
   "cell_type": "code",
   "execution_count": 46,
   "metadata": {
    "ExecuteTime": {
     "end_time": "2020-10-09T00:53:21.810102Z",
     "start_time": "2020-10-09T00:53:21.788148Z"
    }
   },
   "outputs": [],
   "source": [
    "from sklearn.utils import resample, shuffle\n",
    "\n",
    "X_negative = images[targets == number_negative_class]\n",
    "Y_negative = targets[targets == number_negative_class]\n",
    "X_positive = images[targets == number_positive_class]\n",
    "Y_positive = targets[targets == number_positive_class]\n",
    "\n",
    "X_upsampled, Y_upsampled = resample(X_negative, Y_negative, n_samples = Y_positive.shape[0])\n",
    "\n",
    "images = np.append(X_positive, X_upsampled, axis = 0)\n",
    "targets = np.append(Y_positive, Y_upsampled)\n",
    "\n",
    "images, targets = shuffle(images, targets)"
   ]
  },
  {
   "cell_type": "code",
   "execution_count": 47,
   "metadata": {
    "ExecuteTime": {
     "end_time": "2020-10-09T00:53:25.462183Z",
     "start_time": "2020-10-09T00:53:25.452258Z"
    }
   },
   "outputs": [],
   "source": [
    "# NO SPLITTING FOR RESUSTITUTION ERROR MEASURE\n",
    "X_train = copy(images)\n",
    "X_test = copy(images)\n",
    "Y_train = copy(targets)\n",
    "Y_test = copy(targets)"
   ]
  },
  {
   "cell_type": "code",
   "execution_count": 53,
   "metadata": {
    "ExecuteTime": {
     "end_time": "2020-10-09T00:55:46.815309Z",
     "start_time": "2020-10-09T00:55:46.620605Z"
    }
   },
   "outputs": [],
   "source": [
    "images_and_labels = list(zip(X_test, Y_test))\n",
    "for index, (image, label) in enumerate(images_and_labels[10:30]):\n",
    "    plt.subplot(2, 10, index + 1)\n",
    "    plt.axis('off')\n",
    "    plt.imshow(image.reshape(16, 16), cmap=plt.cm.gray_r, interpolation='nearest')\n",
    "    plt.title('T: %i' % label)"
   ]
  },
  {
   "cell_type": "code",
   "execution_count": 54,
   "metadata": {
    "ExecuteTime": {
     "end_time": "2020-10-09T00:55:49.127081Z",
     "start_time": "2020-10-09T00:55:49.124095Z"
    }
   },
   "outputs": [],
   "source": [
    "# Reshaping digits\n",
    "X_train = X_train.reshape(X_train.shape[0], -1)\n",
    "X_test = X_test.reshape(X_test.shape[0], -1)"
   ]
  },
  {
   "cell_type": "code",
   "execution_count": 55,
   "metadata": {
    "ExecuteTime": {
     "end_time": "2020-10-09T00:55:49.823496Z",
     "start_time": "2020-10-09T00:55:49.819538Z"
    }
   },
   "outputs": [
    {
     "name": "stdout",
     "output_type": "stream",
     "text": [
      "(2864, 256)\n",
      "(2864, 256)\n"
     ]
    }
   ],
   "source": [
    "print(X_train.shape)\n",
    "print(X_test.shape)"
   ]
  },
  {
   "cell_type": "code",
   "execution_count": 56,
   "metadata": {
    "ExecuteTime": {
     "end_time": "2020-10-09T00:55:50.264439Z",
     "start_time": "2020-10-09T00:55:50.259421Z"
    }
   },
   "outputs": [
    {
     "data": {
      "text/plain": [
       "'for i in range(len(X_test)):\\n    X_test[i] = np.array(list(map(lambda x : 0 if 0 <= x < 10 else 1, X_test[i])))\\n    \\nfor i in range(len(X_train)):\\n    X_train[i] = np.array(list(map(lambda x : 0 if 0 <= x < 10 else 1, X_train[i])))'"
      ]
     },
     "execution_count": 56,
     "metadata": {},
     "output_type": "execute_result"
    }
   ],
   "source": [
    "# Preprocessing digits by mapping in interval\n",
    "\n",
    "'''for i in range(len(X_test)):\n",
    "    X_test[i] = np.array(list(map(lambda x : 0 if 0 <= x < 10 else 1, X_test[i])))\n",
    "    \n",
    "for i in range(len(X_train)):\n",
    "    X_train[i] = np.array(list(map(lambda x : 0 if 0 <= x < 10 else 1, X_train[i])))'''"
   ]
  },
  {
   "cell_type": "code",
   "execution_count": 57,
   "metadata": {
    "ExecuteTime": {
     "end_time": "2020-10-09T00:55:50.623816Z",
     "start_time": "2020-10-09T00:55:50.619827Z"
    }
   },
   "outputs": [
    {
     "data": {
      "text/plain": [
       "'X_train = X_train.tolist()\\nX_test = X_test.tolist()'"
      ]
     },
     "execution_count": 57,
     "metadata": {},
     "output_type": "execute_result"
    }
   ],
   "source": [
    "'''X_train = X_train.tolist()\n",
    "X_test = X_test.tolist()'''"
   ]
  },
  {
   "cell_type": "code",
   "execution_count": 58,
   "metadata": {
    "ExecuteTime": {
     "end_time": "2020-10-09T00:55:51.038916Z",
     "start_time": "2020-10-09T00:55:51.034902Z"
    }
   },
   "outputs": [
    {
     "data": {
      "text/plain": [
       "'c = plt.imshow(np.array(X_train[35]).reshape(16, 16))\\nplt.colorbar(c)'"
      ]
     },
     "execution_count": 58,
     "metadata": {},
     "output_type": "execute_result"
    }
   ],
   "source": [
    "'''c = plt.imshow(np.array(X_train[35]).reshape(16, 16))\n",
    "plt.colorbar(c)'''"
   ]
  },
  {
   "cell_type": "markdown",
   "metadata": {},
   "source": [
    "## Fitting the classifier"
   ]
  },
  {
   "cell_type": "code",
   "execution_count": 59,
   "metadata": {
    "ExecuteTime": {
     "end_time": "2020-10-09T04:01:51.489177Z",
     "start_time": "2020-10-09T00:56:29.536954Z"
    },
    "scrolled": false
   },
   "outputs": [
    {
     "data": {
      "application/vnd.jupyter.widget-view+json": {
       "model_id": "eb4e4a2d7d7649ab84ceef97b4f57add",
       "version_major": 2,
       "version_minor": 0
      },
      "text/plain": [
       "HBox(children=(FloatProgress(value=0.0, description='Epoches', max=1.0, style=ProgressStyle(description_width=…"
      ]
     },
     "metadata": {},
     "output_type": "display_data"
    },
    {
     "data": {
      "application/vnd.jupyter.widget-view+json": {
       "model_id": "84b6af1ea6204923b62c2c7d915fea59",
       "version_major": 2,
       "version_minor": 0
      },
      "text/plain": [
       "HBox(children=(FloatProgress(value=0.0, description='Training 0', max=2864.0, style=ProgressStyle(description_…"
      ]
     },
     "metadata": {},
     "output_type": "display_data"
    },
    {
     "name": "stdout",
     "output_type": "stream",
     "text": [
      "\n",
      "Errors = 1513 for accuracy of = 0.47171787709497204\n",
      "\n"
     ]
    },
    {
     "data": {
      "application/vnd.jupyter.widget-view+json": {
       "model_id": "98fb6ee432854ccb9b3cca4e4cc6c1f5",
       "version_major": 2,
       "version_minor": 0
      },
      "text/plain": [
       "HBox(children=(FloatProgress(value=0.0, description='Predicting', max=2864.0, style=ProgressStyle(description_…"
      ]
     },
     "metadata": {},
     "output_type": "display_data"
    },
    {
     "name": "stdout",
     "output_type": "stream",
     "text": [
      "\n",
      "acc: 0.4193435754189944, precision: 0.44954128440366975, recall: 0.7185754189944135, f1: 0.5530771298038162\n"
     ]
    },
    {
     "data": {
      "application/vnd.jupyter.widget-view+json": {
       "model_id": "7d188eca7d31458cafcdf454185488d8",
       "version_major": 2,
       "version_minor": 0
      },
      "text/plain": [
       "HBox(children=(FloatProgress(value=0.0, description='Epoches', max=1.0, style=ProgressStyle(description_width=…"
      ]
     },
     "metadata": {},
     "output_type": "display_data"
    },
    {
     "data": {
      "application/vnd.jupyter.widget-view+json": {
       "model_id": "5361e241faf5450c8e3a095db06406f3",
       "version_major": 2,
       "version_minor": 0
      },
      "text/plain": [
       "HBox(children=(FloatProgress(value=0.0, description='Training 0', max=2864.0, style=ProgressStyle(description_…"
      ]
     },
     "metadata": {},
     "output_type": "display_data"
    },
    {
     "name": "stdout",
     "output_type": "stream",
     "text": [
      "\n",
      "Errors = 1462 for accuracy of = 0.4895251396648045\n",
      "\n"
     ]
    },
    {
     "data": {
      "application/vnd.jupyter.widget-view+json": {
       "model_id": "6487449ecb034f1fb37429dd6f80fbf7",
       "version_major": 2,
       "version_minor": 0
      },
      "text/plain": [
       "HBox(children=(FloatProgress(value=0.0, description='Predicting', max=2864.0, style=ProgressStyle(description_…"
      ]
     },
     "metadata": {},
     "output_type": "display_data"
    },
    {
     "name": "stdout",
     "output_type": "stream",
     "text": [
      "\n",
      "acc: 0.4483240223463687, precision: 0.4691923397169026, recall: 0.7870111731843575, f1: 0.5878977569118414\n"
     ]
    },
    {
     "data": {
      "application/vnd.jupyter.widget-view+json": {
       "model_id": "1a766ae7f4414e3d925ca7821de78be4",
       "version_major": 2,
       "version_minor": 0
      },
      "text/plain": [
       "HBox(children=(FloatProgress(value=0.0, description='Epoches', max=1.0, style=ProgressStyle(description_width=…"
      ]
     },
     "metadata": {},
     "output_type": "display_data"
    },
    {
     "data": {
      "application/vnd.jupyter.widget-view+json": {
       "model_id": "9fc17eed724d428586e976906cb6b94c",
       "version_major": 2,
       "version_minor": 0
      },
      "text/plain": [
       "HBox(children=(FloatProgress(value=0.0, description='Training 0', max=2864.0, style=ProgressStyle(description_…"
      ]
     },
     "metadata": {},
     "output_type": "display_data"
    },
    {
     "name": "stdout",
     "output_type": "stream",
     "text": [
      "\n",
      "Errors = 1488 for accuracy of = 0.4804469273743017\n",
      "\n"
     ]
    },
    {
     "data": {
      "application/vnd.jupyter.widget-view+json": {
       "model_id": "78fec110a3b4453bad413f3b995c2992",
       "version_major": 2,
       "version_minor": 0
      },
      "text/plain": [
       "HBox(children=(FloatProgress(value=0.0, description='Predicting', max=2864.0, style=ProgressStyle(description_…"
      ]
     },
     "metadata": {},
     "output_type": "display_data"
    },
    {
     "name": "stdout",
     "output_type": "stream",
     "text": [
      "\n",
      "acc: 0.39420391061452514, precision: 0.4318488529014845, recall: 0.6703910614525139, f1: 0.5253077975376197\n"
     ]
    },
    {
     "data": {
      "application/vnd.jupyter.widget-view+json": {
       "model_id": "df80b02413c84d4190d8e223475a21e6",
       "version_major": 2,
       "version_minor": 0
      },
      "text/plain": [
       "HBox(children=(FloatProgress(value=0.0, description='Epoches', max=1.0, style=ProgressStyle(description_width=…"
      ]
     },
     "metadata": {},
     "output_type": "display_data"
    },
    {
     "data": {
      "application/vnd.jupyter.widget-view+json": {
       "model_id": "5e6a66455114455e8d4de2f696803930",
       "version_major": 2,
       "version_minor": 0
      },
      "text/plain": [
       "HBox(children=(FloatProgress(value=0.0, description='Training 0', max=2864.0, style=ProgressStyle(description_…"
      ]
     },
     "metadata": {},
     "output_type": "display_data"
    },
    {
     "name": "stdout",
     "output_type": "stream",
     "text": [
      "\n",
      "Errors = 1512 for accuracy of = 0.4720670391061452\n",
      "\n"
     ]
    },
    {
     "data": {
      "application/vnd.jupyter.widget-view+json": {
       "model_id": "92aecdf54b4d4465b3e3b83578bad5e8",
       "version_major": 2,
       "version_minor": 0
      },
      "text/plain": [
       "HBox(children=(FloatProgress(value=0.0, description='Predicting', max=2864.0, style=ProgressStyle(description_…"
      ]
     },
     "metadata": {},
     "output_type": "display_data"
    },
    {
     "name": "stdout",
     "output_type": "stream",
     "text": [
      "\n",
      "acc: 0.4378491620111732, precision: 0.4624789207419899, recall: 0.7660614525139665, f1: 0.5767613038906414\n"
     ]
    },
    {
     "data": {
      "application/vnd.jupyter.widget-view+json": {
       "model_id": "d582d473f3ee4101939e4ea2aed27ca9",
       "version_major": 2,
       "version_minor": 0
      },
      "text/plain": [
       "HBox(children=(FloatProgress(value=0.0, description='Epoches', max=1.0, style=ProgressStyle(description_width=…"
      ]
     },
     "metadata": {},
     "output_type": "display_data"
    },
    {
     "data": {
      "application/vnd.jupyter.widget-view+json": {
       "model_id": "067bfbc11f744f5887f00b782d64076e",
       "version_major": 2,
       "version_minor": 0
      },
      "text/plain": [
       "HBox(children=(FloatProgress(value=0.0, description='Training 0', max=2864.0, style=ProgressStyle(description_…"
      ]
     },
     "metadata": {},
     "output_type": "display_data"
    },
    {
     "name": "stdout",
     "output_type": "stream",
     "text": [
      "\n",
      "Errors = 1477 for accuracy of = 0.4842877094972067\n",
      "\n"
     ]
    },
    {
     "data": {
      "application/vnd.jupyter.widget-view+json": {
       "model_id": "01d88979abc34b4184dd4b5ceb2e8eb1",
       "version_major": 2,
       "version_minor": 0
      },
      "text/plain": [
       "HBox(children=(FloatProgress(value=0.0, description='Predicting', max=2864.0, style=ProgressStyle(description_…"
      ]
     },
     "metadata": {},
     "output_type": "display_data"
    },
    {
     "ename": "KeyboardInterrupt",
     "evalue": "",
     "output_type": "error",
     "traceback": [
      "\u001b[1;31m---------------------------------------------------------------------------\u001b[0m",
      "\u001b[1;31mKeyboardInterrupt\u001b[0m                         Traceback (most recent call last)",
      "\u001b[1;32m<ipython-input-59-3601995f0e66>\u001b[0m in \u001b[0;36m<module>\u001b[1;34m\u001b[0m\n\u001b[0;32m      6\u001b[0m \u001b[1;32mwhile\u001b[0m \u001b[0mrs\u001b[0m \u001b[1;33m<\u001b[0m \u001b[1;36m0.8\u001b[0m\u001b[1;33m:\u001b[0m\u001b[1;33m\u001b[0m\u001b[1;33m\u001b[0m\u001b[0m\n\u001b[0;32m      7\u001b[0m     \u001b[0mw\u001b[0m\u001b[1;33m,\u001b[0m \u001b[0mm\u001b[0m\u001b[1;33m,\u001b[0m \u001b[0mweights\u001b[0m \u001b[1;33m=\u001b[0m \u001b[0mfit\u001b[0m\u001b[1;33m(\u001b[0m\u001b[0mqubits\u001b[0m \u001b[1;33m=\u001b[0m \u001b[0mQ\u001b[0m\u001b[1;33m,\u001b[0m \u001b[0mX_train\u001b[0m \u001b[1;33m=\u001b[0m \u001b[0mX_train\u001b[0m\u001b[1;33m[\u001b[0m\u001b[1;33m:\u001b[0m\u001b[1;33m]\u001b[0m\u001b[1;33m,\u001b[0m \u001b[0mY_train\u001b[0m \u001b[1;33m=\u001b[0m \u001b[0mY_train\u001b[0m\u001b[1;33m[\u001b[0m\u001b[1;33m:\u001b[0m\u001b[1;33m]\u001b[0m\u001b[1;33m,\u001b[0m \u001b[0mnegative_class\u001b[0m \u001b[1;33m=\u001b[0m \u001b[0mnumber_negative_class\u001b[0m\u001b[1;33m,\u001b[0m \u001b[0mpositive_class\u001b[0m \u001b[1;33m=\u001b[0m \u001b[0mnumber_positive_class\u001b[0m\u001b[1;33m,\u001b[0m \u001b[0mepochs\u001b[0m \u001b[1;33m=\u001b[0m \u001b[1;36m1\u001b[0m\u001b[1;33m,\u001b[0m \u001b[0mshots\u001b[0m \u001b[1;33m=\u001b[0m \u001b[1;36m1024\u001b[0m\u001b[1;33m,\u001b[0m \u001b[0mthreshold\u001b[0m \u001b[1;33m=\u001b[0m \u001b[1;36m0.35\u001b[0m\u001b[1;33m,\u001b[0m \u001b[0mIp\u001b[0m \u001b[1;33m=\u001b[0m \u001b[1;36m.8\u001b[0m\u001b[1;33m,\u001b[0m \u001b[0mIn\u001b[0m \u001b[1;33m=\u001b[0m \u001b[1;36m.1\u001b[0m\u001b[1;33m,\u001b[0m \u001b[0mbias\u001b[0m \u001b[1;33m=\u001b[0m \u001b[1;36m0.0\u001b[0m\u001b[1;33m,\u001b[0m \u001b[0mweight_passed\u001b[0m \u001b[1;33m=\u001b[0m \u001b[0mw\u001b[0m\u001b[1;33m)\u001b[0m\u001b[1;33m\u001b[0m\u001b[1;33m\u001b[0m\u001b[0m\n\u001b[1;32m----> 8\u001b[1;33m     \u001b[0mclassification\u001b[0m\u001b[1;33m,\u001b[0m \u001b[0mreadouts\u001b[0m \u001b[1;33m=\u001b[0m \u001b[0mpredict\u001b[0m\u001b[1;33m(\u001b[0m\u001b[0mqubits\u001b[0m \u001b[1;33m=\u001b[0m \u001b[0mQ\u001b[0m\u001b[1;33m,\u001b[0m \u001b[0mX_test\u001b[0m \u001b[1;33m=\u001b[0m \u001b[0mX_test\u001b[0m\u001b[1;33m,\u001b[0m \u001b[0mnegative_class\u001b[0m \u001b[1;33m=\u001b[0m \u001b[0mnumber_negative_class\u001b[0m\u001b[1;33m,\u001b[0m \u001b[0mpositive_class\u001b[0m \u001b[1;33m=\u001b[0m \u001b[0mnumber_positive_class\u001b[0m\u001b[1;33m,\u001b[0m \u001b[0mshots\u001b[0m \u001b[1;33m=\u001b[0m \u001b[1;36m1024\u001b[0m\u001b[1;33m,\u001b[0m \u001b[0mthreshold\u001b[0m \u001b[1;33m=\u001b[0m \u001b[0mtest_threshold\u001b[0m\u001b[1;33m,\u001b[0m \u001b[0mw\u001b[0m \u001b[1;33m=\u001b[0m \u001b[0mweights\u001b[0m\u001b[1;33m[\u001b[0m\u001b[1;36m0\u001b[0m\u001b[1;33m]\u001b[0m\u001b[1;33m,\u001b[0m \u001b[0mbias\u001b[0m \u001b[1;33m=\u001b[0m \u001b[1;36m0.0\u001b[0m\u001b[1;33m)\u001b[0m\u001b[1;33m\u001b[0m\u001b[1;33m\u001b[0m\u001b[0m\n\u001b[0m\u001b[0;32m      9\u001b[0m     \u001b[0macc\u001b[0m \u001b[1;33m=\u001b[0m \u001b[0maccuracy_score\u001b[0m\u001b[1;33m(\u001b[0m\u001b[0mY_test\u001b[0m\u001b[1;33m,\u001b[0m \u001b[0mclassification\u001b[0m\u001b[1;33m)\u001b[0m\u001b[1;33m\u001b[0m\u001b[1;33m\u001b[0m\u001b[0m\n\u001b[0;32m     10\u001b[0m     \u001b[0mps\u001b[0m \u001b[1;33m=\u001b[0m \u001b[0mprecision_score\u001b[0m\u001b[1;33m(\u001b[0m\u001b[0mY_test\u001b[0m\u001b[1;33m,\u001b[0m \u001b[0mclassification\u001b[0m\u001b[1;33m,\u001b[0m \u001b[0maverage\u001b[0m \u001b[1;33m=\u001b[0m \u001b[1;34m'binary'\u001b[0m\u001b[1;33m,\u001b[0m \u001b[0mpos_label\u001b[0m \u001b[1;33m=\u001b[0m \u001b[0mnumber_negative_class\u001b[0m\u001b[1;33m)\u001b[0m\u001b[1;33m\u001b[0m\u001b[1;33m\u001b[0m\u001b[0m\n",
      "\u001b[1;32m<ipython-input-2-c1ce100ae6da>\u001b[0m in \u001b[0;36mpredict\u001b[1;34m(qubits, X_test, negative_class, positive_class, shots, threshold, w, bias)\u001b[0m\n\u001b[0;32m    421\u001b[0m         \u001b[1;31m############################  Quantum Proccess  ############################\u001b[0m\u001b[1;33m\u001b[0m\u001b[1;33m\u001b[0m\u001b[1;33m\u001b[0m\u001b[0m\n\u001b[0;32m    422\u001b[0m \u001b[1;33m\u001b[0m\u001b[0m\n\u001b[1;32m--> 423\u001b[1;33m         \u001b[0mresults\u001b[0m \u001b[1;33m=\u001b[0m \u001b[0mperceptron\u001b[0m\u001b[1;33m(\u001b[0m\u001b[0mqubits\u001b[0m\u001b[1;33m,\u001b[0m \u001b[0mshots\u001b[0m\u001b[1;33m,\u001b[0m \u001b[0mz_gates_w\u001b[0m\u001b[1;33m,\u001b[0m \u001b[0mCPZ_gates_w\u001b[0m\u001b[1;33m,\u001b[0m \u001b[0mz_gates_i\u001b[0m\u001b[1;33m,\u001b[0m \u001b[0mCPZ_gates_i\u001b[0m\u001b[1;33m)\u001b[0m\u001b[1;33m\u001b[0m\u001b[1;33m\u001b[0m\u001b[0m\n\u001b[0m\u001b[0;32m    424\u001b[0m \u001b[1;33m\u001b[0m\u001b[0m\n\u001b[0;32m    425\u001b[0m         \u001b[1;31m#########################  End of Quantum Proccess  #########################\u001b[0m\u001b[1;33m\u001b[0m\u001b[1;33m\u001b[0m\u001b[1;33m\u001b[0m\u001b[0m\n",
      "\u001b[1;32m<ipython-input-2-c1ce100ae6da>\u001b[0m in \u001b[0;36mperceptron\u001b[1;34m(N, shots, z_gates_w, CPZ_gates_w, z_gates_i, CPZ_gates_i, simulation)\u001b[0m\n\u001b[0;32m    272\u001b[0m \u001b[1;33m\u001b[0m\u001b[0m\n\u001b[0;32m    273\u001b[0m     \u001b[1;31m# Optimized\u001b[0m\u001b[1;33m\u001b[0m\u001b[1;33m\u001b[0m\u001b[1;33m\u001b[0m\u001b[0m\n\u001b[1;32m--> 274\u001b[1;33m     \u001b[0mtranspiled_circuit\u001b[0m \u001b[1;33m=\u001b[0m \u001b[0mtranspile\u001b[0m\u001b[1;33m(\u001b[0m\u001b[0mqc\u001b[0m\u001b[1;33m,\u001b[0m \u001b[0mM_simulator\u001b[0m\u001b[1;33m,\u001b[0m \u001b[0moptimization_level\u001b[0m \u001b[1;33m=\u001b[0m \u001b[1;36m1\u001b[0m\u001b[1;33m)\u001b[0m \u001b[1;31m# optimization_level = [0, 1, 2, 3]\u001b[0m\u001b[1;33m\u001b[0m\u001b[1;33m\u001b[0m\u001b[0m\n\u001b[0m\u001b[0;32m    275\u001b[0m     \u001b[0mjob\u001b[0m \u001b[1;33m=\u001b[0m \u001b[0mM_simulator\u001b[0m\u001b[1;33m.\u001b[0m\u001b[0mrun\u001b[0m\u001b[1;33m(\u001b[0m\u001b[0massemble\u001b[0m\u001b[1;33m(\u001b[0m\u001b[0mtranspiled_circuit\u001b[0m\u001b[1;33m,\u001b[0m \u001b[0mshots\u001b[0m \u001b[1;33m=\u001b[0m \u001b[0mshots\u001b[0m\u001b[1;33m)\u001b[0m\u001b[1;33m)\u001b[0m\u001b[1;33m\u001b[0m\u001b[1;33m\u001b[0m\u001b[0m\n\u001b[0;32m    276\u001b[0m     \u001b[0mresults\u001b[0m \u001b[1;33m=\u001b[0m \u001b[0mjob\u001b[0m\u001b[1;33m.\u001b[0m\u001b[0mresult\u001b[0m\u001b[1;33m(\u001b[0m\u001b[1;33m)\u001b[0m\u001b[1;33m\u001b[0m\u001b[1;33m\u001b[0m\u001b[0m\n",
      "\u001b[1;32m~\\Anaconda3\\lib\\site-packages\\qiskit\\compiler\\transpile.py\u001b[0m in \u001b[0;36mtranspile\u001b[1;34m(circuits, backend, basis_gates, coupling_map, backend_properties, initial_layout, layout_method, routing_method, translation_method, seed_transpiler, optimization_level, pass_manager, callback, output_name)\u001b[0m\n\u001b[0;32m    214\u001b[0m \u001b[1;33m\u001b[0m\u001b[0m\n\u001b[0;32m    215\u001b[0m     \u001b[1;31m# Transpile circuits in parallel\u001b[0m\u001b[1;33m\u001b[0m\u001b[1;33m\u001b[0m\u001b[1;33m\u001b[0m\u001b[0m\n\u001b[1;32m--> 216\u001b[1;33m     \u001b[0mcircuits\u001b[0m \u001b[1;33m=\u001b[0m \u001b[0mparallel_map\u001b[0m\u001b[1;33m(\u001b[0m\u001b[0m_transpile_circuit\u001b[0m\u001b[1;33m,\u001b[0m \u001b[0mlist\u001b[0m\u001b[1;33m(\u001b[0m\u001b[0mzip\u001b[0m\u001b[1;33m(\u001b[0m\u001b[0mcircuits\u001b[0m\u001b[1;33m,\u001b[0m \u001b[0mtranspile_args\u001b[0m\u001b[1;33m)\u001b[0m\u001b[1;33m)\u001b[0m\u001b[1;33m)\u001b[0m\u001b[1;33m\u001b[0m\u001b[1;33m\u001b[0m\u001b[0m\n\u001b[0m\u001b[0;32m    217\u001b[0m \u001b[1;33m\u001b[0m\u001b[0m\n\u001b[0;32m    218\u001b[0m     \u001b[1;32mif\u001b[0m \u001b[0mlen\u001b[0m\u001b[1;33m(\u001b[0m\u001b[0mcircuits\u001b[0m\u001b[1;33m)\u001b[0m \u001b[1;33m==\u001b[0m \u001b[1;36m1\u001b[0m\u001b[1;33m:\u001b[0m\u001b[1;33m\u001b[0m\u001b[1;33m\u001b[0m\u001b[0m\n",
      "\u001b[1;32m~\\Anaconda3\\lib\\site-packages\\qiskit\\tools\\parallel.py\u001b[0m in \u001b[0;36mparallel_map\u001b[1;34m(task, values, task_args, task_kwargs, num_processes)\u001b[0m\n\u001b[0;32m    106\u001b[0m         \u001b[1;32mreturn\u001b[0m \u001b[1;33m[\u001b[0m\u001b[1;33m]\u001b[0m\u001b[1;33m\u001b[0m\u001b[1;33m\u001b[0m\u001b[0m\n\u001b[0;32m    107\u001b[0m     \u001b[1;32mif\u001b[0m \u001b[0mlen\u001b[0m\u001b[1;33m(\u001b[0m\u001b[0mvalues\u001b[0m\u001b[1;33m)\u001b[0m \u001b[1;33m==\u001b[0m \u001b[1;36m1\u001b[0m\u001b[1;33m:\u001b[0m\u001b[1;33m\u001b[0m\u001b[1;33m\u001b[0m\u001b[0m\n\u001b[1;32m--> 108\u001b[1;33m         \u001b[1;32mreturn\u001b[0m \u001b[1;33m[\u001b[0m\u001b[0mtask\u001b[0m\u001b[1;33m(\u001b[0m\u001b[0mvalues\u001b[0m\u001b[1;33m[\u001b[0m\u001b[1;36m0\u001b[0m\u001b[1;33m]\u001b[0m\u001b[1;33m,\u001b[0m \u001b[1;33m*\u001b[0m\u001b[0mtask_args\u001b[0m\u001b[1;33m,\u001b[0m \u001b[1;33m**\u001b[0m\u001b[0mtask_kwargs\u001b[0m\u001b[1;33m)\u001b[0m\u001b[1;33m]\u001b[0m\u001b[1;33m\u001b[0m\u001b[1;33m\u001b[0m\u001b[0m\n\u001b[0m\u001b[0;32m    109\u001b[0m \u001b[1;33m\u001b[0m\u001b[0m\n\u001b[0;32m    110\u001b[0m     \u001b[0mPublisher\u001b[0m\u001b[1;33m(\u001b[0m\u001b[1;33m)\u001b[0m\u001b[1;33m.\u001b[0m\u001b[0mpublish\u001b[0m\u001b[1;33m(\u001b[0m\u001b[1;34m\"terra.parallel.start\"\u001b[0m\u001b[1;33m,\u001b[0m \u001b[0mlen\u001b[0m\u001b[1;33m(\u001b[0m\u001b[0mvalues\u001b[0m\u001b[1;33m)\u001b[0m\u001b[1;33m)\u001b[0m\u001b[1;33m\u001b[0m\u001b[1;33m\u001b[0m\u001b[0m\n",
      "\u001b[1;32m~\\Anaconda3\\lib\\site-packages\\qiskit\\compiler\\transpile.py\u001b[0m in \u001b[0;36m_transpile_circuit\u001b[1;34m(circuit_config_tuple)\u001b[0m\n\u001b[0;32m    315\u001b[0m \u001b[1;33m\u001b[0m\u001b[0m\n\u001b[0;32m    316\u001b[0m     result = pass_manager.run(circuit, callback=transpile_config['callback'],\n\u001b[1;32m--> 317\u001b[1;33m                               output_name=transpile_config['output_name'])\n\u001b[0m\u001b[0;32m    318\u001b[0m \u001b[1;33m\u001b[0m\u001b[0m\n\u001b[0;32m    319\u001b[0m     \u001b[1;32mif\u001b[0m \u001b[0mtranspile_config\u001b[0m\u001b[1;33m[\u001b[0m\u001b[1;34m'faulty_qubits_map'\u001b[0m\u001b[1;33m]\u001b[0m\u001b[1;33m:\u001b[0m\u001b[1;33m\u001b[0m\u001b[1;33m\u001b[0m\u001b[0m\n",
      "\u001b[1;32m~\\Anaconda3\\lib\\site-packages\\qiskit\\transpiler\\passmanager.py\u001b[0m in \u001b[0;36mrun\u001b[1;34m(self, circuits, output_name, callback)\u001b[0m\n\u001b[0;32m    212\u001b[0m         \"\"\"\n\u001b[0;32m    213\u001b[0m         \u001b[1;32mif\u001b[0m \u001b[0misinstance\u001b[0m\u001b[1;33m(\u001b[0m\u001b[0mcircuits\u001b[0m\u001b[1;33m,\u001b[0m \u001b[0mQuantumCircuit\u001b[0m\u001b[1;33m)\u001b[0m\u001b[1;33m:\u001b[0m\u001b[1;33m\u001b[0m\u001b[1;33m\u001b[0m\u001b[0m\n\u001b[1;32m--> 214\u001b[1;33m             \u001b[1;32mreturn\u001b[0m \u001b[0mself\u001b[0m\u001b[1;33m.\u001b[0m\u001b[0m_run_single_circuit\u001b[0m\u001b[1;33m(\u001b[0m\u001b[0mcircuits\u001b[0m\u001b[1;33m,\u001b[0m \u001b[0moutput_name\u001b[0m\u001b[1;33m,\u001b[0m \u001b[0mcallback\u001b[0m\u001b[1;33m)\u001b[0m\u001b[1;33m\u001b[0m\u001b[1;33m\u001b[0m\u001b[0m\n\u001b[0m\u001b[0;32m    215\u001b[0m         \u001b[1;32melif\u001b[0m \u001b[0mlen\u001b[0m\u001b[1;33m(\u001b[0m\u001b[0mcircuits\u001b[0m\u001b[1;33m)\u001b[0m \u001b[1;33m==\u001b[0m \u001b[1;36m1\u001b[0m\u001b[1;33m:\u001b[0m\u001b[1;33m\u001b[0m\u001b[1;33m\u001b[0m\u001b[0m\n\u001b[0;32m    216\u001b[0m             \u001b[1;32mreturn\u001b[0m \u001b[0mself\u001b[0m\u001b[1;33m.\u001b[0m\u001b[0m_run_single_circuit\u001b[0m\u001b[1;33m(\u001b[0m\u001b[0mcircuits\u001b[0m\u001b[1;33m[\u001b[0m\u001b[1;36m0\u001b[0m\u001b[1;33m]\u001b[0m\u001b[1;33m,\u001b[0m \u001b[0moutput_name\u001b[0m\u001b[1;33m,\u001b[0m \u001b[0mcallback\u001b[0m\u001b[1;33m)\u001b[0m\u001b[1;33m\u001b[0m\u001b[1;33m\u001b[0m\u001b[0m\n",
      "\u001b[1;32m~\\Anaconda3\\lib\\site-packages\\qiskit\\transpiler\\passmanager.py\u001b[0m in \u001b[0;36m_run_single_circuit\u001b[1;34m(self, circuit, output_name, callback)\u001b[0m\n\u001b[0;32m    275\u001b[0m         \u001b[1;32mif\u001b[0m \u001b[0mcallback\u001b[0m \u001b[1;32mis\u001b[0m \u001b[1;32mNone\u001b[0m \u001b[1;32mand\u001b[0m \u001b[0mself\u001b[0m\u001b[1;33m.\u001b[0m\u001b[0mcallback\u001b[0m\u001b[1;33m:\u001b[0m  \u001b[1;31m# TODO to remove with __init__(callback)\u001b[0m\u001b[1;33m\u001b[0m\u001b[1;33m\u001b[0m\u001b[0m\n\u001b[0;32m    276\u001b[0m             \u001b[0mcallback\u001b[0m \u001b[1;33m=\u001b[0m \u001b[0mself\u001b[0m\u001b[1;33m.\u001b[0m\u001b[0mcallback\u001b[0m\u001b[1;33m\u001b[0m\u001b[1;33m\u001b[0m\u001b[0m\n\u001b[1;32m--> 277\u001b[1;33m         \u001b[0mresult\u001b[0m \u001b[1;33m=\u001b[0m \u001b[0mrunning_passmanager\u001b[0m\u001b[1;33m.\u001b[0m\u001b[0mrun\u001b[0m\u001b[1;33m(\u001b[0m\u001b[0mcircuit\u001b[0m\u001b[1;33m,\u001b[0m \u001b[0moutput_name\u001b[0m\u001b[1;33m=\u001b[0m\u001b[0moutput_name\u001b[0m\u001b[1;33m,\u001b[0m \u001b[0mcallback\u001b[0m\u001b[1;33m=\u001b[0m\u001b[0mcallback\u001b[0m\u001b[1;33m)\u001b[0m\u001b[1;33m\u001b[0m\u001b[1;33m\u001b[0m\u001b[0m\n\u001b[0m\u001b[0;32m    278\u001b[0m         \u001b[0mself\u001b[0m\u001b[1;33m.\u001b[0m\u001b[0mproperty_set\u001b[0m \u001b[1;33m=\u001b[0m \u001b[0mrunning_passmanager\u001b[0m\u001b[1;33m.\u001b[0m\u001b[0mproperty_set\u001b[0m\u001b[1;33m\u001b[0m\u001b[1;33m\u001b[0m\u001b[0m\n\u001b[0;32m    279\u001b[0m         \u001b[1;32mreturn\u001b[0m \u001b[0mresult\u001b[0m\u001b[1;33m\u001b[0m\u001b[1;33m\u001b[0m\u001b[0m\n",
      "\u001b[1;32m~\\Anaconda3\\lib\\site-packages\\qiskit\\transpiler\\runningpassmanager.py\u001b[0m in \u001b[0;36mrun\u001b[1;34m(***failed resolving arguments***)\u001b[0m\n\u001b[0;32m    113\u001b[0m         \u001b[1;32mfor\u001b[0m \u001b[0mpassset\u001b[0m \u001b[1;32min\u001b[0m \u001b[0mself\u001b[0m\u001b[1;33m.\u001b[0m\u001b[0mworking_list\u001b[0m\u001b[1;33m:\u001b[0m\u001b[1;33m\u001b[0m\u001b[1;33m\u001b[0m\u001b[0m\n\u001b[0;32m    114\u001b[0m             \u001b[1;32mfor\u001b[0m \u001b[0mpass_\u001b[0m \u001b[1;32min\u001b[0m \u001b[0mpassset\u001b[0m\u001b[1;33m:\u001b[0m\u001b[1;33m\u001b[0m\u001b[1;33m\u001b[0m\u001b[0m\n\u001b[1;32m--> 115\u001b[1;33m                 \u001b[0mdag\u001b[0m \u001b[1;33m=\u001b[0m \u001b[0mself\u001b[0m\u001b[1;33m.\u001b[0m\u001b[0m_do_pass\u001b[0m\u001b[1;33m(\u001b[0m\u001b[0mpass_\u001b[0m\u001b[1;33m,\u001b[0m \u001b[0mdag\u001b[0m\u001b[1;33m,\u001b[0m \u001b[0mpassset\u001b[0m\u001b[1;33m.\u001b[0m\u001b[0moptions\u001b[0m\u001b[1;33m)\u001b[0m\u001b[1;33m\u001b[0m\u001b[1;33m\u001b[0m\u001b[0m\n\u001b[0m\u001b[0;32m    116\u001b[0m \u001b[1;33m\u001b[0m\u001b[0m\n\u001b[0;32m    117\u001b[0m         \u001b[0mcircuit\u001b[0m \u001b[1;33m=\u001b[0m \u001b[0mdag_to_circuit\u001b[0m\u001b[1;33m(\u001b[0m\u001b[0mdag\u001b[0m\u001b[1;33m)\u001b[0m\u001b[1;33m\u001b[0m\u001b[1;33m\u001b[0m\u001b[0m\n",
      "\u001b[1;32m~\\Anaconda3\\lib\\site-packages\\qiskit\\transpiler\\runningpassmanager.py\u001b[0m in \u001b[0;36m_do_pass\u001b[1;34m(self, pass_, dag, options)\u001b[0m\n\u001b[0;32m    143\u001b[0m         \u001b[1;31m# Run the pass itself, if not already run\u001b[0m\u001b[1;33m\u001b[0m\u001b[1;33m\u001b[0m\u001b[1;33m\u001b[0m\u001b[0m\n\u001b[0;32m    144\u001b[0m         \u001b[1;32mif\u001b[0m \u001b[0mpass_\u001b[0m \u001b[1;32mnot\u001b[0m \u001b[1;32min\u001b[0m \u001b[0mself\u001b[0m\u001b[1;33m.\u001b[0m\u001b[0mvalid_passes\u001b[0m\u001b[1;33m:\u001b[0m\u001b[1;33m\u001b[0m\u001b[1;33m\u001b[0m\u001b[0m\n\u001b[1;32m--> 145\u001b[1;33m             \u001b[0mdag\u001b[0m \u001b[1;33m=\u001b[0m \u001b[0mself\u001b[0m\u001b[1;33m.\u001b[0m\u001b[0m_run_this_pass\u001b[0m\u001b[1;33m(\u001b[0m\u001b[0mpass_\u001b[0m\u001b[1;33m,\u001b[0m \u001b[0mdag\u001b[0m\u001b[1;33m)\u001b[0m\u001b[1;33m\u001b[0m\u001b[1;33m\u001b[0m\u001b[0m\n\u001b[0m\u001b[0;32m    146\u001b[0m \u001b[1;33m\u001b[0m\u001b[0m\n\u001b[0;32m    147\u001b[0m             \u001b[1;31m# update the valid_passes property\u001b[0m\u001b[1;33m\u001b[0m\u001b[1;33m\u001b[0m\u001b[1;33m\u001b[0m\u001b[0m\n",
      "\u001b[1;32m~\\Anaconda3\\lib\\site-packages\\qiskit\\transpiler\\runningpassmanager.py\u001b[0m in \u001b[0;36m_run_this_pass\u001b[1;34m(self, pass_, dag)\u001b[0m\n\u001b[0;32m    155\u001b[0m             \u001b[1;31m# Measure time if we have a callback or logging set\u001b[0m\u001b[1;33m\u001b[0m\u001b[1;33m\u001b[0m\u001b[1;33m\u001b[0m\u001b[0m\n\u001b[0;32m    156\u001b[0m             \u001b[0mstart_time\u001b[0m \u001b[1;33m=\u001b[0m \u001b[0mtime\u001b[0m\u001b[1;33m(\u001b[0m\u001b[1;33m)\u001b[0m\u001b[1;33m\u001b[0m\u001b[1;33m\u001b[0m\u001b[0m\n\u001b[1;32m--> 157\u001b[1;33m             \u001b[0mnew_dag\u001b[0m \u001b[1;33m=\u001b[0m \u001b[0mpass_\u001b[0m\u001b[1;33m.\u001b[0m\u001b[0mrun\u001b[0m\u001b[1;33m(\u001b[0m\u001b[0mdag\u001b[0m\u001b[1;33m)\u001b[0m\u001b[1;33m\u001b[0m\u001b[1;33m\u001b[0m\u001b[0m\n\u001b[0m\u001b[0;32m    158\u001b[0m             \u001b[0mend_time\u001b[0m \u001b[1;33m=\u001b[0m \u001b[0mtime\u001b[0m\u001b[1;33m(\u001b[0m\u001b[1;33m)\u001b[0m\u001b[1;33m\u001b[0m\u001b[1;33m\u001b[0m\u001b[0m\n\u001b[0;32m    159\u001b[0m             \u001b[0mrun_time\u001b[0m \u001b[1;33m=\u001b[0m \u001b[0mend_time\u001b[0m \u001b[1;33m-\u001b[0m \u001b[0mstart_time\u001b[0m\u001b[1;33m\u001b[0m\u001b[1;33m\u001b[0m\u001b[0m\n",
      "\u001b[1;32m~\\Anaconda3\\lib\\site-packages\\qiskit\\transpiler\\passes\\basis\\unroll_custom_definitions.py\u001b[0m in \u001b[0;36mrun\u001b[1;34m(self, dag)\u001b[0m\n\u001b[0;32m     67\u001b[0m \u001b[1;33m\u001b[0m\u001b[0m\n\u001b[0;32m     68\u001b[0m             \u001b[1;32mtry\u001b[0m\u001b[1;33m:\u001b[0m\u001b[1;33m\u001b[0m\u001b[1;33m\u001b[0m\u001b[0m\n\u001b[1;32m---> 69\u001b[1;33m                 \u001b[0mrule\u001b[0m \u001b[1;33m=\u001b[0m \u001b[0mnode\u001b[0m\u001b[1;33m.\u001b[0m\u001b[0mop\u001b[0m\u001b[1;33m.\u001b[0m\u001b[0mdefinition\u001b[0m\u001b[1;33m.\u001b[0m\u001b[0mdata\u001b[0m\u001b[1;33m\u001b[0m\u001b[1;33m\u001b[0m\u001b[0m\n\u001b[0m\u001b[0;32m     70\u001b[0m             \u001b[1;32mexcept\u001b[0m \u001b[0mTypeError\u001b[0m \u001b[1;32mas\u001b[0m \u001b[0merr\u001b[0m\u001b[1;33m:\u001b[0m\u001b[1;33m\u001b[0m\u001b[1;33m\u001b[0m\u001b[0m\n\u001b[0;32m     71\u001b[0m                 \u001b[1;32mraise\u001b[0m \u001b[0mQiskitError\u001b[0m\u001b[1;33m(\u001b[0m\u001b[1;34m'Error decomposing node {}: {}'\u001b[0m\u001b[1;33m.\u001b[0m\u001b[0mformat\u001b[0m\u001b[1;33m(\u001b[0m\u001b[0mnode\u001b[0m\u001b[1;33m.\u001b[0m\u001b[0mname\u001b[0m\u001b[1;33m,\u001b[0m \u001b[0merr\u001b[0m\u001b[1;33m)\u001b[0m\u001b[1;33m)\u001b[0m\u001b[1;33m\u001b[0m\u001b[1;33m\u001b[0m\u001b[0m\n",
      "\u001b[1;32m~\\Anaconda3\\lib\\site-packages\\qiskit\\circuit\\controlledgate.py\u001b[0m in \u001b[0;36mdefinition\u001b[1;34m(self)\u001b[0m\n\u001b[0;32m    122\u001b[0m             \u001b[1;32mreturn\u001b[0m \u001b[0mqc_open_ctrl\u001b[0m\u001b[1;33m\u001b[0m\u001b[1;33m\u001b[0m\u001b[0m\n\u001b[0;32m    123\u001b[0m         \u001b[1;32melse\u001b[0m\u001b[1;33m:\u001b[0m\u001b[1;33m\u001b[0m\u001b[1;33m\u001b[0m\u001b[0m\n\u001b[1;32m--> 124\u001b[1;33m             \u001b[1;32mreturn\u001b[0m \u001b[0msuper\u001b[0m\u001b[1;33m(\u001b[0m\u001b[1;33m)\u001b[0m\u001b[1;33m.\u001b[0m\u001b[0mdefinition\u001b[0m\u001b[1;33m\u001b[0m\u001b[1;33m\u001b[0m\u001b[0m\n\u001b[0m\u001b[0;32m    125\u001b[0m \u001b[1;33m\u001b[0m\u001b[0m\n\u001b[0;32m    126\u001b[0m     \u001b[1;33m@\u001b[0m\u001b[0mdefinition\u001b[0m\u001b[1;33m.\u001b[0m\u001b[0msetter\u001b[0m\u001b[1;33m\u001b[0m\u001b[1;33m\u001b[0m\u001b[0m\n",
      "\u001b[1;32m~\\Anaconda3\\lib\\site-packages\\qiskit\\circuit\\instruction.py\u001b[0m in \u001b[0;36mdefinition\u001b[1;34m(self)\u001b[0m\n\u001b[0;32m    174\u001b[0m         \u001b[1;34m\"\"\"Return definition in terms of other basic gates.\"\"\"\u001b[0m\u001b[1;33m\u001b[0m\u001b[1;33m\u001b[0m\u001b[0m\n\u001b[0;32m    175\u001b[0m         \u001b[1;32mif\u001b[0m \u001b[0mself\u001b[0m\u001b[1;33m.\u001b[0m\u001b[0m_definition\u001b[0m \u001b[1;32mis\u001b[0m \u001b[1;32mNone\u001b[0m\u001b[1;33m:\u001b[0m\u001b[1;33m\u001b[0m\u001b[1;33m\u001b[0m\u001b[0m\n\u001b[1;32m--> 176\u001b[1;33m             \u001b[0mself\u001b[0m\u001b[1;33m.\u001b[0m\u001b[0m_define\u001b[0m\u001b[1;33m(\u001b[0m\u001b[1;33m)\u001b[0m\u001b[1;33m\u001b[0m\u001b[1;33m\u001b[0m\u001b[0m\n\u001b[0m\u001b[0;32m    177\u001b[0m         \u001b[1;32mreturn\u001b[0m \u001b[0mself\u001b[0m\u001b[1;33m.\u001b[0m\u001b[0m_definition\u001b[0m\u001b[1;33m\u001b[0m\u001b[1;33m\u001b[0m\u001b[0m\n\u001b[0;32m    178\u001b[0m \u001b[1;33m\u001b[0m\u001b[0m\n",
      "\u001b[1;32m~\\Anaconda3\\lib\\site-packages\\qiskit\\circuit\\library\\standard_gates\\x.py\u001b[0m in \u001b[0;36m_define\u001b[1;34m(self)\u001b[0m\n\u001b[0;32m    870\u001b[0m         \u001b[1;31m# pylint: disable=cyclic-import\u001b[0m\u001b[1;33m\u001b[0m\u001b[1;33m\u001b[0m\u001b[1;33m\u001b[0m\u001b[0m\n\u001b[0;32m    871\u001b[0m         \u001b[1;32mfrom\u001b[0m \u001b[0mqiskit\u001b[0m\u001b[1;33m.\u001b[0m\u001b[0mcircuit\u001b[0m\u001b[1;33m.\u001b[0m\u001b[0mquantumcircuit\u001b[0m \u001b[1;32mimport\u001b[0m \u001b[0mQuantumCircuit\u001b[0m\u001b[1;33m\u001b[0m\u001b[1;33m\u001b[0m\u001b[0m\n\u001b[1;32m--> 872\u001b[1;33m         \u001b[1;32mfrom\u001b[0m \u001b[1;33m.\u001b[0m\u001b[0mu1\u001b[0m \u001b[1;32mimport\u001b[0m \u001b[0mMCU1Gate\u001b[0m\u001b[1;33m\u001b[0m\u001b[1;33m\u001b[0m\u001b[0m\n\u001b[0m\u001b[0;32m    873\u001b[0m         \u001b[0mq\u001b[0m \u001b[1;33m=\u001b[0m \u001b[0mQuantumRegister\u001b[0m\u001b[1;33m(\u001b[0m\u001b[0mself\u001b[0m\u001b[1;33m.\u001b[0m\u001b[0mnum_qubits\u001b[0m\u001b[1;33m,\u001b[0m \u001b[0mname\u001b[0m\u001b[1;33m=\u001b[0m\u001b[1;34m'q'\u001b[0m\u001b[1;33m)\u001b[0m\u001b[1;33m\u001b[0m\u001b[1;33m\u001b[0m\u001b[0m\n\u001b[0;32m    874\u001b[0m         \u001b[0mqc\u001b[0m \u001b[1;33m=\u001b[0m \u001b[0mQuantumCircuit\u001b[0m\u001b[1;33m(\u001b[0m\u001b[0mq\u001b[0m\u001b[1;33m,\u001b[0m \u001b[0mname\u001b[0m\u001b[1;33m=\u001b[0m\u001b[0mself\u001b[0m\u001b[1;33m.\u001b[0m\u001b[0mname\u001b[0m\u001b[1;33m)\u001b[0m\u001b[1;33m\u001b[0m\u001b[1;33m\u001b[0m\u001b[0m\n",
      "\u001b[1;32m~\\Anaconda3\\lib\\importlib\\_bootstrap.py\u001b[0m in \u001b[0;36m_handle_fromlist\u001b[1;34m(module, fromlist, import_, recursive)\u001b[0m\n",
      "\u001b[1;31mKeyboardInterrupt\u001b[0m: "
     ]
    }
   ],
   "source": [
    "Q = 8\n",
    "test_threshold = 0.109375\n",
    "rs = 0\n",
    "w = X_train[Y_train == number_negative_class][0].astype(int)\n",
    "#w = np.random.randint(2, size = 2 ** Q)\n",
    "while rs < 0.8:\n",
    "    w, m, weights = fit(qubits = Q, X_train = X_train[:], Y_train = Y_train[:], negative_class = number_negative_class, positive_class = number_positive_class, epochs = 1, shots = 1024, threshold = 0.35, Ip = .8, In = .1, bias = 0.0, weight_passed = w)\n",
    "    classification, readouts = predict(qubits = Q, X_test = X_test, negative_class = number_negative_class, positive_class = number_positive_class, shots = 1024, threshold = test_threshold, w = weights[0], bias = 0.0)\n",
    "    acc = accuracy_score(Y_test, classification)\n",
    "    ps = precision_score(Y_test, classification, average = 'binary', pos_label = number_negative_class)\n",
    "    rs = recall_score(Y_test, classification, average = 'binary', pos_label = number_negative_class)\n",
    "    f1s = f1_score(Y_test, classification, average = 'binary', pos_label = number_negative_class)\n",
    "    print(f'acc: {acc}, precision: {ps}, recall: {rs}, f1: {f1s}')"
   ]
  },
  {
   "cell_type": "code",
   "execution_count": 60,
   "metadata": {
    "ExecuteTime": {
     "end_time": "2020-10-09T04:02:03.234834Z",
     "start_time": "2020-10-09T04:01:57.696584Z"
    }
   },
   "outputs": [],
   "source": [
    "from winsound import Beep\n",
    "Beep(100, 500)\n",
    "Beep(100, 500)\n",
    "Beep(100, 1500)"
   ]
  },
  {
   "cell_type": "code",
   "execution_count": 61,
   "metadata": {
    "ExecuteTime": {
     "end_time": "2020-10-09T04:02:09.544966Z",
     "start_time": "2020-10-09T04:02:09.539981Z"
    }
   },
   "outputs": [
    {
     "data": {
      "text/plain": [
       "'Q = 6\\nw, m, weights = fit(qubits = Q, X_train = X_train[:], Y_train = Y_train[:], negative_class = number_negative_class, positive_class = number_positive_class, epochs = 1, shots = 1024, threshold = 0.35, Ip = .8, In = .1, bias = 0.0)'"
      ]
     },
     "execution_count": 61,
     "metadata": {},
     "output_type": "execute_result"
    }
   ],
   "source": [
    "'''Q = 6\n",
    "w, m, weights = fit(qubits = Q, X_train = X_train[:], Y_train = Y_train[:], negative_class = number_negative_class, positive_class = number_positive_class, epochs = 1, shots = 1024, threshold = 0.35, Ip = .8, In = .1, bias = 0.0)'''"
   ]
  },
  {
   "cell_type": "code",
   "execution_count": 62,
   "metadata": {
    "ExecuteTime": {
     "end_time": "2020-10-09T04:02:10.932259Z",
     "start_time": "2020-10-09T04:02:10.835517Z"
    },
    "scrolled": true
   },
   "outputs": [
    {
     "data": {
      "text/plain": [
       "<matplotlib.colorbar.Colorbar at 0x2795b1a6648>"
      ]
     },
     "execution_count": 62,
     "metadata": {},
     "output_type": "execute_result"
    }
   ],
   "source": [
    "c = plt.imshow(np.array(w).reshape(16, 16), cmap = 'gray_r')\n",
    "plt.colorbar(c)"
   ]
  },
  {
   "cell_type": "markdown",
   "metadata": {},
   "source": [
    "## Predicting and evaluating the trained classifier"
   ]
  },
  {
   "cell_type": "code",
   "execution_count": null,
   "metadata": {
    "ExecuteTime": {
     "end_time": "2020-10-09T04:01:51.501145Z",
     "start_time": "2020-10-09T00:56:32.466Z"
    }
   },
   "outputs": [],
   "source": [
    "test_threshold = 0.109375\n",
    "classification, readouts = predict(qubits = Q, X_test = X_test, negative_class = number_negative_class, positive_class = number_positive_class, shots = 1024, threshold = test_threshold, w = weights[0], bias = 0.0)"
   ]
  },
  {
   "cell_type": "code",
   "execution_count": 63,
   "metadata": {
    "ExecuteTime": {
     "end_time": "2020-10-09T04:04:43.121985Z",
     "start_time": "2020-10-09T04:04:43.110989Z"
    }
   },
   "outputs": [
    {
     "name": "stdout",
     "output_type": "stream",
     "text": [
      "Accuracy = 0.4378491620111732\n",
      "Counts = Counter({0: 1097, 10: 157})\n",
      "Confusion Matrix = \n",
      "[[1097.  335.]\n",
      " [1275.  157.]]\n"
     ]
    }
   ],
   "source": [
    "accuracy, counts, confusion_matriX = evaluate(Y_test, classification, number_negative_class, number_positive_class)\n",
    "print(f'Accuracy = {accuracy}')\n",
    "print(f'Counts = {counts}')\n",
    "print(f'Confusion Matrix = \\n{confusion_matriX}')"
   ]
  },
  {
   "cell_type": "code",
   "execution_count": 64,
   "metadata": {
    "ExecuteTime": {
     "end_time": "2020-10-09T04:07:27.851357Z",
     "start_time": "2020-10-09T04:07:27.720707Z"
    }
   },
   "outputs": [],
   "source": [
    "plot_confusion_matrix(confusion_matriX, target_names = np.array([number_negative_class, number_positive_class]), labels = True, normalize = False)"
   ]
  },
  {
   "cell_type": "code",
   "execution_count": 65,
   "metadata": {
    "ExecuteTime": {
     "end_time": "2020-10-09T04:07:52.009909Z",
     "start_time": "2020-10-09T04:07:52.003926Z"
    }
   },
   "outputs": [
    {
     "data": {
      "text/plain": [
       "array([[1097.,  335.],\n",
       "       [1275.,  157.]])"
      ]
     },
     "execution_count": 65,
     "metadata": {},
     "output_type": "execute_result"
    }
   ],
   "source": [
    "confusion_matriX"
   ]
  },
  {
   "cell_type": "code",
   "execution_count": 66,
   "metadata": {
    "ExecuteTime": {
     "end_time": "2020-10-09T04:09:00.408977Z",
     "start_time": "2020-10-09T04:09:00.402992Z"
    }
   },
   "outputs": [
    {
     "data": {
      "text/plain": [
       "0.4378491620111732"
      ]
     },
     "execution_count": 66,
     "metadata": {},
     "output_type": "execute_result"
    }
   ],
   "source": [
    "accuracy_score(Y_test, classification)"
   ]
  },
  {
   "cell_type": "code",
   "execution_count": 67,
   "metadata": {
    "ExecuteTime": {
     "end_time": "2020-10-09T04:09:05.778623Z",
     "start_time": "2020-10-09T04:09:05.746707Z"
    }
   },
   "outputs": [
    {
     "data": {
      "text/plain": [
       "array([[1097,  335],\n",
       "       [1275,  157]], dtype=int64)"
      ]
     },
     "execution_count": 67,
     "metadata": {},
     "output_type": "execute_result"
    }
   ],
   "source": [
    "confusion_matrix(Y_test, classification)"
   ]
  },
  {
   "cell_type": "code",
   "execution_count": 68,
   "metadata": {
    "ExecuteTime": {
     "end_time": "2020-10-09T04:09:08.915238Z",
     "start_time": "2020-10-09T04:09:08.907260Z"
    }
   },
   "outputs": [
    {
     "data": {
      "text/plain": [
       "0.4624789207419899"
      ]
     },
     "execution_count": 68,
     "metadata": {},
     "output_type": "execute_result"
    }
   ],
   "source": [
    "precision_score(Y_test, classification, average = 'binary', pos_label = number_negative_class)"
   ]
  },
  {
   "cell_type": "code",
   "execution_count": 69,
   "metadata": {
    "ExecuteTime": {
     "end_time": "2020-10-09T04:10:02.964739Z",
     "start_time": "2020-10-09T04:10:02.955761Z"
    }
   },
   "outputs": [
    {
     "data": {
      "text/plain": [
       "0.7660614525139665"
      ]
     },
     "execution_count": 69,
     "metadata": {},
     "output_type": "execute_result"
    }
   ],
   "source": [
    "recall_score(Y_test, classification, average = 'binary', pos_label = number_negative_class)"
   ]
  },
  {
   "cell_type": "code",
   "execution_count": 70,
   "metadata": {
    "ExecuteTime": {
     "end_time": "2020-10-09T04:10:03.716392Z",
     "start_time": "2020-10-09T04:10:03.708414Z"
    }
   },
   "outputs": [
    {
     "data": {
      "text/plain": [
       "0.5767613038906414"
      ]
     },
     "execution_count": 70,
     "metadata": {},
     "output_type": "execute_result"
    }
   ],
   "source": [
    "f1_score(Y_test, classification, average = 'binary', pos_label = number_negative_class)"
   ]
  },
  {
   "cell_type": "code",
   "execution_count": 71,
   "metadata": {
    "ExecuteTime": {
     "end_time": "2020-10-09T04:12:27.180427Z",
     "start_time": "2020-10-09T04:12:27.172447Z"
    }
   },
   "outputs": [
    {
     "data": {
      "text/plain": [
       "0.39079230589945024"
      ]
     },
     "execution_count": 71,
     "metadata": {},
     "output_type": "execute_result"
    }
   ],
   "source": [
    "# Average Precision Score\n",
    "precision_score(Y_test, classification, average = 'macro')"
   ]
  },
  {
   "cell_type": "code",
   "execution_count": 72,
   "metadata": {
    "ExecuteTime": {
     "end_time": "2020-10-09T04:12:27.779824Z",
     "start_time": "2020-10-09T04:12:27.771846Z"
    }
   },
   "outputs": [
    {
     "data": {
      "text/plain": [
       "0.4378491620111732"
      ]
     },
     "execution_count": 72,
     "metadata": {},
     "output_type": "execute_result"
    }
   ],
   "source": [
    "# Average Recall Score\n",
    "recall_score(Y_test, classification, average = 'macro')"
   ]
  },
  {
   "cell_type": "code",
   "execution_count": 73,
   "metadata": {
    "ExecuteTime": {
     "end_time": "2020-10-09T04:12:28.571708Z",
     "start_time": "2020-10-09T04:12:28.563729Z"
    }
   },
   "outputs": [
    {
     "data": {
      "text/plain": [
       "0.36998148354615235"
      ]
     },
     "execution_count": 73,
     "metadata": {},
     "output_type": "execute_result"
    }
   ],
   "source": [
    "# Average F1 Score\n",
    "f1_score(Y_test, classification, average = 'macro')"
   ]
  },
  {
   "cell_type": "code",
   "execution_count": 74,
   "metadata": {
    "ExecuteTime": {
     "end_time": "2020-10-09T04:12:30.160461Z",
     "start_time": "2020-10-09T04:12:30.148492Z"
    }
   },
   "outputs": [
    {
     "data": {
      "text/plain": [
       "'The accuracy is 0.4378491620111732.'"
      ]
     },
     "execution_count": 74,
     "metadata": {},
     "output_type": "execute_result"
    },
    {
     "data": {
      "application/javascript": [
       "$(document).ready(\n",
       "    function() {\n",
       "        function appendUniqueDiv(){\n",
       "            // append a div with our uuid so we can check that it's already\n",
       "            // been sent and avoid duplicates on page reload\n",
       "            var notifiedDiv = document.createElement(\"div\")\n",
       "            notifiedDiv.id = \"302e8082-9a72-4c04-9b81-b392547572ff\"\n",
       "            element.append(notifiedDiv)\n",
       "        }\n",
       "\n",
       "        // only send notifications if the pageload is complete; this will\n",
       "        // help stop extra notifications when a saved notebook is loaded,\n",
       "        // which during testing gives us state \"interactive\", not \"complete\"\n",
       "        if (document.readyState === 'complete') {\n",
       "            // check for the div that signifies that the notification\n",
       "            // was already sent\n",
       "            if (document.getElementById(\"302e8082-9a72-4c04-9b81-b392547572ff\") === null) {\n",
       "                var notificationPayload = {\"requireInteraction\": false, \"icon\": \"/static/base/images/favicon.ico\", \"body\": \"The accuracy is 0.4378491620111732.\"};\n",
       "                if (Notification.permission !== 'denied') {\n",
       "                    if (Notification.permission !== 'granted') { \n",
       "                        Notification.requestPermission(function (permission) {\n",
       "                            if(!('permission' in Notification)) {\n",
       "                                Notification.permission = permission\n",
       "                            }\n",
       "                        })\n",
       "                    }\n",
       "                    if (Notification.permission === 'granted') {\n",
       "                    var notification = new Notification(\"Jupyter Notebook\", notificationPayload)\n",
       "                    appendUniqueDiv()\n",
       "                    notification.onclick = function () {\n",
       "                        window.focus();\n",
       "                        this.close();\n",
       "                        };\n",
       "                    } \n",
       "                }     \n",
       "            }\n",
       "        }\n",
       "    }\n",
       ")\n"
      ],
      "text/plain": [
       "<IPython.core.display.Javascript object>"
      ]
     },
     "metadata": {},
     "output_type": "display_data"
    }
   ],
   "source": [
    "%%notify -o\n",
    "f'The accuracy is {accuracy}.'"
   ]
  },
  {
   "cell_type": "code",
   "execution_count": 75,
   "metadata": {
    "ExecuteTime": {
     "end_time": "2020-10-09T04:12:36.294563Z",
     "start_time": "2020-10-09T04:12:36.180865Z"
    }
   },
   "outputs": [
    {
     "name": "stdout",
     "output_type": "stream",
     "text": [
      "AUC: 0.4378491620111732\n"
     ]
    }
   ],
   "source": [
    "test = [0 if ele == number_negative_class else 1 for ele in Y_test]\n",
    "classi = [0 if ele == number_negative_class else 1 for ele in classification]\n",
    "\n",
    "fpr, tpr, thresholds = roc_curve(test, classi)\n",
    "\n",
    "def ROC_curve(fpr,tpr):\n",
    "    # Seaborn's beautiful styling\n",
    "    sns.set_style('darkgrid', {'axes.facecolor': '0.9'})\n",
    "    print('AUC: {}'.format(auc(fpr, tpr)))\n",
    "    plt.figure(figsize=(10, 8))\n",
    "    lw = 2\n",
    "    plt.plot(fpr, tpr, color='darkorange',\n",
    "             lw=lw, label='ROC curve')\n",
    "    plt.plot([0, 1], [0, 1], color='navy', lw=lw, linestyle='--')\n",
    "    plt.xlim([0.0, 1.0])\n",
    "    plt.ylim([0.0, 1.05])\n",
    "    plt.yticks([i/20.0 for i in range(21)], fontsize = 15)\n",
    "    plt.xticks([i/20.0 for i in range(21)], fontsize = 15)\n",
    "    plt.xlabel('False Positive Rate', fontsize = 20)\n",
    "    plt.ylabel('True Positive Rate', fontsize = 20)\n",
    "    plt.title('Receiver operating characteristic (ROC) Curve', fontsize = 20)\n",
    "    plt.legend(loc='lower right')\n",
    "    plt.show()\n",
    "\n",
    "ROC_curve(fpr,tpr)\n",
    "sns.set_style('white', {'axes.facecolor': '0.9'})"
   ]
  },
  {
   "cell_type": "code",
   "execution_count": null,
   "metadata": {
    "ExecuteTime": {
     "end_time": "2020-10-09T04:01:51.523087Z",
     "start_time": "2020-10-09T00:56:36.050Z"
    }
   },
   "outputs": [],
   "source": [
    "readouts[Y_test == number_negative_class].max()"
   ]
  },
  {
   "cell_type": "code",
   "execution_count": null,
   "metadata": {
    "ExecuteTime": {
     "end_time": "2020-10-09T04:01:51.525082Z",
     "start_time": "2020-10-09T00:56:36.410Z"
    }
   },
   "outputs": [],
   "source": [
    "readouts[(readouts < test_threshold) & (Y_test == number_positive_class)].shape"
   ]
  },
  {
   "cell_type": "code",
   "execution_count": null,
   "metadata": {
    "ExecuteTime": {
     "end_time": "2020-10-09T04:01:51.526079Z",
     "start_time": "2020-10-09T00:56:36.962Z"
    }
   },
   "outputs": [],
   "source": [
    "readouts[(readouts == 1) & (Y_test == number_negative_class)].shape"
   ]
  },
  {
   "cell_type": "markdown",
   "metadata": {},
   "source": [
    "## Manual process analysis"
   ]
  },
  {
   "cell_type": "code",
   "execution_count": null,
   "metadata": {
    "ExecuteTime": {
     "end_time": "2020-10-09T04:01:51.528075Z",
     "start_time": "2020-10-09T00:56:39.962Z"
    }
   },
   "outputs": [],
   "source": [
    "classification.astype(int)"
   ]
  },
  {
   "cell_type": "code",
   "execution_count": null,
   "metadata": {
    "ExecuteTime": {
     "end_time": "2020-10-09T04:01:51.529071Z",
     "start_time": "2020-10-09T00:56:40.234Z"
    }
   },
   "outputs": [],
   "source": [
    "Y_test"
   ]
  },
  {
   "cell_type": "code",
   "execution_count": null,
   "metadata": {
    "ExecuteTime": {
     "end_time": "2020-10-09T04:01:51.531065Z",
     "start_time": "2020-10-09T00:56:40.393Z"
    }
   },
   "outputs": [],
   "source": [
    "fails = np.where(classification != Y_test)[0]\n",
    "print(fails)"
   ]
  },
  {
   "cell_type": "code",
   "execution_count": null,
   "metadata": {
    "ExecuteTime": {
     "end_time": "2020-10-09T04:01:51.532064Z",
     "start_time": "2020-10-09T00:56:40.562Z"
    }
   },
   "outputs": [],
   "source": [
    "X_test = np.array(X_test)\n",
    "for x in X_test[fails]:\n",
    "    print(np.power((np.where(weights[0] == x)[0].shape[0] - np.where(weights[0] != x)[0].shape[0]) / x.shape[0], 2))"
   ]
  },
  {
   "cell_type": "code",
   "execution_count": null,
   "metadata": {
    "ExecuteTime": {
     "end_time": "2020-10-09T04:01:51.534057Z",
     "start_time": "2020-10-09T00:56:40.699Z"
    }
   },
   "outputs": [],
   "source": [
    "print(np.sort(readouts[np.where(Y_test == number_negative_class)]), end = '\\n\\n')\n",
    "print(np.sort(readouts[np.where(Y_test == number_positive_class)]))\n",
    "print(np.sort(readouts[fails]))"
   ]
  },
  {
   "cell_type": "code",
   "execution_count": 167,
   "metadata": {
    "ExecuteTime": {
     "end_time": "2020-10-08T02:10:51.448050Z",
     "start_time": "2020-10-08T02:10:34.524850Z"
    }
   },
   "outputs": [
    {
     "name": "stderr",
     "output_type": "stream",
     "text": [
      "C:\\Users\\jeff_\\Anaconda3\\lib\\site-packages\\ipykernel_launcher.py:18: UserWarning: Tight layout not applied. tight_layout cannot make axes width small enough to accommodate all axes decorations\n"
     ]
    }
   ],
   "source": [
    "fig, axs = plt.subplots(3, int(np.ceil(len(fails) / 3)), figsize=(15,9))\n",
    "count = 0\n",
    "\n",
    "for i in range(3):\n",
    "    for j in range(int(np.ceil(len(fails) / 3))):\n",
    "        ax = axs[i][j]\n",
    "        \n",
    "        #c = ax.pcolor(thetas[i + j][1:].reshape(28, 28), cmap = 'gray')\n",
    "        try:\n",
    "            c = ax.imshow(np.array(X_test[fails[count]]).reshape(16, 16), cmap = 'gray_r', interpolation='nearest')\n",
    "            ax.axis('off')\n",
    "            ax.axis('equal')\n",
    "            ax.set_title(f'Classified as {classification[fails[count]]}').set_position([0.5, 1.1])\n",
    "            count += 1\n",
    "        except IndexError:\n",
    "            continue\n",
    "        \n",
    "fig.tight_layout()\n",
    "plt.colorbar(c)\n",
    "plt.show()"
   ]
  },
  {
   "cell_type": "code",
   "execution_count": null,
   "metadata": {
    "ExecuteTime": {
     "end_time": "2020-10-09T04:01:51.536052Z",
     "start_time": "2020-10-09T00:56:44.458Z"
    }
   },
   "outputs": [],
   "source": [
    "Counter(Y_test)"
   ]
  },
  {
   "cell_type": "code",
   "execution_count": null,
   "metadata": {
    "ExecuteTime": {
     "end_time": "2020-10-09T04:01:51.537050Z",
     "start_time": "2020-10-09T00:56:44.754Z"
    }
   },
   "outputs": [],
   "source": [
    "readouts"
   ]
  },
  {
   "cell_type": "code",
   "execution_count": null,
   "metadata": {
    "ExecuteTime": {
     "end_time": "2020-10-09T04:01:51.538047Z",
     "start_time": "2020-10-09T00:56:45.042Z"
    }
   },
   "outputs": [],
   "source": [
    "indexes = [i for i in range(len(readouts))]"
   ]
  },
  {
   "cell_type": "code",
   "execution_count": null,
   "metadata": {
    "ExecuteTime": {
     "end_time": "2020-10-09T04:01:51.540041Z",
     "start_time": "2020-10-09T00:56:45.306Z"
    }
   },
   "outputs": [],
   "source": [
    "list(zip(indexes, Y_test, readouts))"
   ]
  },
  {
   "cell_type": "code",
   "execution_count": null,
   "metadata": {
    "ExecuteTime": {
     "end_time": "2020-10-09T04:01:51.541040Z",
     "start_time": "2020-10-09T00:56:45.578Z"
    }
   },
   "outputs": [],
   "source": [
    "#%matplotlib qt\n",
    "plt.scatter(Y_train, m[-1])\n",
    "plt.xlabel(\"Number\")\n",
    "plt.ylabel(\"Training Readout\")\n",
    "#%matplotlib inline"
   ]
  },
  {
   "cell_type": "code",
   "execution_count": null,
   "metadata": {
    "ExecuteTime": {
     "end_time": "2020-10-09T04:01:51.543034Z",
     "start_time": "2020-10-09T00:56:45.866Z"
    }
   },
   "outputs": [],
   "source": [
    "#%matplotlib qt\n",
    "plt.scatter(Y_test, readouts)\n",
    "plt.xlabel(\"Number\")\n",
    "plt.ylabel(\"Prediction Readout\")\n",
    "plt.plot([i for i in range(number_negative_class, number_positive_class + 1)], [test_threshold for _ in range(number_negative_class, number_positive_class + 1)])\n",
    "plt.plot([i for i in range(min(number_negative_class, number_positive_class), max(number_negative_class, number_positive_class) + 1)], [test_threshold for _ in range(abs(number_negative_class - number_positive_class) + 1)])\n",
    "#%matplotlib inline"
   ]
  },
  {
   "cell_type": "code",
   "execution_count": null,
   "metadata": {
    "ExecuteTime": {
     "end_time": "2020-10-09T04:01:51.545029Z",
     "start_time": "2020-10-09T00:56:46.097Z"
    }
   },
   "outputs": [],
   "source": [
    "classification_auxiliar = classification / np.max(classification)\n",
    "palette = np.array(sns.color_palette(\"hls\", 2))  #Choosing color palette \n",
    "plt.scatter(Y_test, readouts, lw=0, s=40, c=palette[classification_auxiliar.astype(np.int)])\n",
    "plt.plot([i for i in range(number_negative_class, number_positive_class + 1)], [test_threshold for _ in range(number_negative_class, number_positive_class + 1)])"
   ]
  },
  {
   "cell_type": "code",
   "execution_count": null,
   "metadata": {
    "ExecuteTime": {
     "end_time": "2020-10-09T04:01:51.547023Z",
     "start_time": "2020-10-09T00:56:46.377Z"
    }
   },
   "outputs": [],
   "source": [
    "Y_test"
   ]
  },
  {
   "cell_type": "code",
   "execution_count": null,
   "metadata": {
    "ExecuteTime": {
     "end_time": "2020-10-09T04:01:51.549018Z",
     "start_time": "2020-10-09T00:56:46.658Z"
    }
   },
   "outputs": [],
   "source": [
    "plt.imshow(np.array(X_test[2]).reshape(16, 16), cmap=plt.cm.gray_r, interpolation='nearest')"
   ]
  },
  {
   "cell_type": "code",
   "execution_count": null,
   "metadata": {
    "ExecuteTime": {
     "end_time": "2020-10-09T04:01:51.551012Z",
     "start_time": "2020-10-09T00:56:46.962Z"
    }
   },
   "outputs": [],
   "source": [
    "np.array(X_test[2]).reshape(16, 16)"
   ]
  },
  {
   "cell_type": "code",
   "execution_count": null,
   "metadata": {
    "ExecuteTime": {
     "end_time": "2020-10-09T04:01:51.553007Z",
     "start_time": "2020-10-09T00:56:47.258Z"
    }
   },
   "outputs": [],
   "source": [
    "import seaborn as sns\n",
    "sns.set_style('white')\n",
    "sns.distplot(readouts, bins = 100, kde = False)"
   ]
  },
  {
   "cell_type": "code",
   "execution_count": null,
   "metadata": {
    "ExecuteTime": {
     "end_time": "2020-10-09T04:01:51.554005Z",
     "start_time": "2020-10-09T00:56:47.562Z"
    }
   },
   "outputs": [],
   "source": [
    "palette = np.array(sns.color_palette(\"hls\", 2))  #Choosing color palette \n",
    "plt.scatter(Y_train, m[-1], lw=0, s=40, c=palette[m[-1].astype(np.int)])\n",
    "plt.plot([i for i in range(number_negative_class, number_positive_class + 1)], [test_threshold for _ in range(number_negative_class, number_positive_class + 1)])"
   ]
  },
  {
   "cell_type": "code",
   "execution_count": null,
   "metadata": {
    "ExecuteTime": {
     "end_time": "2020-10-09T04:01:51.555001Z",
     "start_time": "2020-10-09T00:56:47.913Z"
    }
   },
   "outputs": [],
   "source": [
    "filename = 'weights_OvA.txt'\n",
    "mode = 'a+'\n",
    "save_weight(filename = filename, mode = mode, weight = w)"
   ]
  },
  {
   "cell_type": "markdown",
   "metadata": {
    "heading_collapsed": true
   },
   "source": [
    "# Multi label prediction"
   ]
  },
  {
   "cell_type": "code",
   "execution_count": 236,
   "metadata": {
    "ExecuteTime": {
     "end_time": "2020-10-08T02:50:34.818251Z",
     "start_time": "2020-10-08T02:50:34.814262Z"
    },
    "hidden": true
   },
   "outputs": [],
   "source": [
    "weights_vector = retrieve_weights_from_file_total(filename = 'weights_OvA.txt')"
   ]
  },
  {
   "cell_type": "code",
   "execution_count": 239,
   "metadata": {
    "ExecuteTime": {
     "end_time": "2020-10-08T02:51:04.266088Z",
     "start_time": "2020-10-08T02:51:04.110267Z"
    },
    "hidden": true
   },
   "outputs": [],
   "source": [
    "print_weights_matrix(weights_vector)"
   ]
  },
  {
   "cell_type": "code",
   "execution_count": 240,
   "metadata": {
    "ExecuteTime": {
     "end_time": "2020-10-08T02:55:23.835005Z",
     "start_time": "2020-10-08T02:55:23.830054Z"
    },
    "hidden": true
   },
   "outputs": [
    {
     "name": "stdout",
     "output_type": "stream",
     "text": [
      "[[1 0 0 ... 1 1 1]\n",
      " [1 1 0 ... 1 1 1]\n",
      " [1 0 0 ... 1 1 1]\n",
      " ...\n",
      " [1 0 0 ... 1 1 1]\n",
      " [1 0 0 ... 1 1 1]\n",
      " [1 1 1 ... 1 1 1]]\n"
     ]
    }
   ],
   "source": [
    "print(weights_vector)"
   ]
  },
  {
   "cell_type": "code",
   "execution_count": 245,
   "metadata": {
    "ExecuteTime": {
     "end_time": "2020-10-08T02:58:06.475471Z",
     "start_time": "2020-10-08T02:58:06.246075Z"
    },
    "hidden": true
   },
   "outputs": [
    {
     "name": "stdout",
     "output_type": "stream",
     "text": [
      "Total count for digits: Counter({1: 162, 0: 161, 4: 161, 6: 161, 2: 159, 3: 159, 5: 159, 7: 158, 9: 158, 8: 155})\n"
     ]
    }
   ],
   "source": [
    "data = np.loadtxt(\"C:/Users/jeff_/OneDrive - Instituto Politecnico Nacional/Datasets/Semeion Handwritten Digit Data Set/semeion.data\")\n",
    "\n",
    "images = data[:,:-10]\n",
    "labels_oh = data[:,-10:]\n",
    "\n",
    "targets = np.argmax(labels_oh, axis = 1)\n",
    "\n",
    "targets_count = Counter(targets)\n",
    "print(f'Total count for digits: {targets_count}')"
   ]
  },
  {
   "cell_type": "code",
   "execution_count": 246,
   "metadata": {
    "ExecuteTime": {
     "end_time": "2020-10-08T02:58:07.365155Z",
     "start_time": "2020-10-08T02:58:07.358194Z"
    },
    "hidden": true
   },
   "outputs": [],
   "source": [
    "# NO SPLITTING FOR RESUSTITUTION ERROR MEASURE\n",
    "X_train = copy(images)\n",
    "X_test = copy(images)\n",
    "Y_train = copy(targets)\n",
    "Y_test = copy(targets)"
   ]
  },
  {
   "cell_type": "code",
   "execution_count": 247,
   "metadata": {
    "ExecuteTime": {
     "end_time": "2020-10-08T02:58:09.113663Z",
     "start_time": "2020-10-08T02:58:08.911062Z"
    },
    "hidden": true
   },
   "outputs": [],
   "source": [
    "images_and_labels = list(zip(X_test, Y_test))\n",
    "for index, (image, label) in enumerate(images_and_labels[:20]):\n",
    "    plt.subplot(2, 10, index + 1)\n",
    "    plt.axis('off')\n",
    "    plt.imshow(image.reshape(16, 16), cmap=plt.cm.gray_r, interpolation='nearest')\n",
    "    plt.title('Test: %i' % label)"
   ]
  },
  {
   "cell_type": "code",
   "execution_count": 248,
   "metadata": {
    "ExecuteTime": {
     "end_time": "2020-10-08T02:58:11.906075Z",
     "start_time": "2020-10-08T02:58:11.903083Z"
    },
    "hidden": true
   },
   "outputs": [],
   "source": [
    "# Reshaping digits\n",
    "X_train = X_train.reshape(X_train.shape[0], -1)\n",
    "X_test = X_test.reshape(X_test.shape[0], -1)"
   ]
  },
  {
   "cell_type": "code",
   "execution_count": 249,
   "metadata": {
    "ExecuteTime": {
     "end_time": "2020-10-08T02:58:24.727976Z",
     "start_time": "2020-10-08T02:58:24.526362Z"
    },
    "hidden": true
   },
   "outputs": [],
   "source": [
    "images_and_labels = list(zip(X_test, Y_test))\n",
    "for index, (image, label) in enumerate(images_and_labels[:20]):\n",
    "    plt.subplot(2, 10, index + 1)\n",
    "    plt.axis('off')\n",
    "    plt.imshow(image.reshape(16, 16), cmap=plt.cm.gray_r, interpolation='nearest')\n",
    "    plt.title('T: %i' % label)"
   ]
  },
  {
   "cell_type": "code",
   "execution_count": 250,
   "metadata": {
    "ExecuteTime": {
     "end_time": "2020-10-08T04:14:21.591631Z",
     "start_time": "2020-10-08T02:59:01.470746Z"
    },
    "hidden": true,
    "scrolled": true
   },
   "outputs": [
    {
     "data": {
      "application/vnd.jupyter.widget-view+json": {
       "model_id": "eca0b6eff0ad4bd08a67c59da31862ef",
       "version_major": 2,
       "version_minor": 0
      },
      "text/plain": [
       "HBox(children=(FloatProgress(value=0.0, description='Predicting', max=1592.0, style=ProgressStyle(description_…"
      ]
     },
     "metadata": {},
     "output_type": "display_data"
    },
    {
     "name": "stdout",
     "output_type": "stream",
     "text": [
      "\n"
     ]
    },
    {
     "data": {
      "application/vnd.jupyter.widget-view+json": {
       "model_id": "2ad8eaf0373f4f839ffeb8161e86b625",
       "version_major": 2,
       "version_minor": 0
      },
      "text/plain": [
       "HBox(children=(FloatProgress(value=0.0, description='Predicting', max=1592.0, style=ProgressStyle(description_…"
      ]
     },
     "metadata": {},
     "output_type": "display_data"
    },
    {
     "name": "stdout",
     "output_type": "stream",
     "text": [
      "\n"
     ]
    },
    {
     "data": {
      "application/vnd.jupyter.widget-view+json": {
       "model_id": "770a9476fbc54deab257df4b83214628",
       "version_major": 2,
       "version_minor": 0
      },
      "text/plain": [
       "HBox(children=(FloatProgress(value=0.0, description='Predicting', max=1592.0, style=ProgressStyle(description_…"
      ]
     },
     "metadata": {},
     "output_type": "display_data"
    },
    {
     "name": "stdout",
     "output_type": "stream",
     "text": [
      "\n"
     ]
    },
    {
     "data": {
      "application/vnd.jupyter.widget-view+json": {
       "model_id": "2fb685cb52d14c1388f2debcd973a9c1",
       "version_major": 2,
       "version_minor": 0
      },
      "text/plain": [
       "HBox(children=(FloatProgress(value=0.0, description='Predicting', max=1592.0, style=ProgressStyle(description_…"
      ]
     },
     "metadata": {},
     "output_type": "display_data"
    },
    {
     "name": "stdout",
     "output_type": "stream",
     "text": [
      "\n"
     ]
    },
    {
     "data": {
      "application/vnd.jupyter.widget-view+json": {
       "model_id": "34524c1abd09435faf365434f4df8229",
       "version_major": 2,
       "version_minor": 0
      },
      "text/plain": [
       "HBox(children=(FloatProgress(value=0.0, description='Predicting', max=1592.0, style=ProgressStyle(description_…"
      ]
     },
     "metadata": {},
     "output_type": "display_data"
    },
    {
     "name": "stdout",
     "output_type": "stream",
     "text": [
      "\n"
     ]
    },
    {
     "data": {
      "application/vnd.jupyter.widget-view+json": {
       "model_id": "58f5fae0deba42cb80d1d334ab4a956c",
       "version_major": 2,
       "version_minor": 0
      },
      "text/plain": [
       "HBox(children=(FloatProgress(value=0.0, description='Predicting', max=1592.0, style=ProgressStyle(description_…"
      ]
     },
     "metadata": {},
     "output_type": "display_data"
    },
    {
     "name": "stdout",
     "output_type": "stream",
     "text": [
      "\n"
     ]
    },
    {
     "data": {
      "application/vnd.jupyter.widget-view+json": {
       "model_id": "7399308c2935461aa197043b31c5ab9c",
       "version_major": 2,
       "version_minor": 0
      },
      "text/plain": [
       "HBox(children=(FloatProgress(value=0.0, description='Predicting', max=1592.0, style=ProgressStyle(description_…"
      ]
     },
     "metadata": {},
     "output_type": "display_data"
    },
    {
     "name": "stdout",
     "output_type": "stream",
     "text": [
      "\n"
     ]
    },
    {
     "data": {
      "application/vnd.jupyter.widget-view+json": {
       "model_id": "1d6acc6c2f9147688a55fe7a02c58762",
       "version_major": 2,
       "version_minor": 0
      },
      "text/plain": [
       "HBox(children=(FloatProgress(value=0.0, description='Predicting', max=1592.0, style=ProgressStyle(description_…"
      ]
     },
     "metadata": {},
     "output_type": "display_data"
    },
    {
     "name": "stdout",
     "output_type": "stream",
     "text": [
      "\n"
     ]
    },
    {
     "data": {
      "application/vnd.jupyter.widget-view+json": {
       "model_id": "e2d1326c6a7f4ebaa8676f7d24a9fe71",
       "version_major": 2,
       "version_minor": 0
      },
      "text/plain": [
       "HBox(children=(FloatProgress(value=0.0, description='Predicting', max=1592.0, style=ProgressStyle(description_…"
      ]
     },
     "metadata": {},
     "output_type": "display_data"
    },
    {
     "name": "stdout",
     "output_type": "stream",
     "text": [
      "\n"
     ]
    },
    {
     "data": {
      "application/vnd.jupyter.widget-view+json": {
       "model_id": "c9c81f6aa4f64ce29a2ba2b524923cf2",
       "version_major": 2,
       "version_minor": 0
      },
      "text/plain": [
       "HBox(children=(FloatProgress(value=0.0, description='Predicting', max=1592.0, style=ProgressStyle(description_…"
      ]
     },
     "metadata": {},
     "output_type": "display_data"
    },
    {
     "name": "stdout",
     "output_type": "stream",
     "text": [
      "\n"
     ]
    }
   ],
   "source": [
    "N = -1\n",
    "test_threshold = 0.109375\n",
    "Q = 8\n",
    "classification_patterns = X_test[:N]\n",
    "classification_labels = Y_test[:N]\n",
    "shots = 1024\n",
    "bias = 0.0\n",
    "\n",
    "holder_for_classes, holder_for_readouts = multi_class_prediction_OVA(qubits = Q, classification_patterns = classification_patterns, shots = shots, test_threshold = test_threshold, weights_matrix = weights_vector, bias = bias)"
   ]
  },
  {
   "cell_type": "code",
   "execution_count": 251,
   "metadata": {
    "ExecuteTime": {
     "end_time": "2020-10-08T04:14:21.596584Z",
     "start_time": "2020-10-08T04:14:21.592595Z"
    },
    "hidden": true
   },
   "outputs": [],
   "source": [
    "# To print only two decimal places\n",
    "np.set_printoptions(precision = 2)"
   ]
  },
  {
   "cell_type": "code",
   "execution_count": 252,
   "metadata": {
    "ExecuteTime": {
     "end_time": "2020-10-08T04:14:21.606557Z",
     "start_time": "2020-10-08T04:14:21.598580Z"
    },
    "hidden": true
   },
   "outputs": [
    {
     "data": {
      "text/plain": [
       "array([[10, 10, 10, ..., 10, 10,  9],\n",
       "       [ 0,  1, 10, ...,  7,  8,  9],\n",
       "       [ 0,  1,  2, ...,  7,  8,  9],\n",
       "       ...,\n",
       "       [ 0,  1,  2, ...,  7,  8,  9],\n",
       "       [10, 10, 10, ..., 10, 10,  9],\n",
       "       [10, 10, 10, ..., 10, 10,  9]], dtype=int64)"
      ]
     },
     "execution_count": 252,
     "metadata": {},
     "output_type": "execute_result"
    }
   ],
   "source": [
    "holder_for_classes"
   ]
  },
  {
   "cell_type": "code",
   "execution_count": 253,
   "metadata": {
    "ExecuteTime": {
     "end_time": "2020-10-08T04:14:21.616531Z",
     "start_time": "2020-10-08T04:14:21.612542Z"
    },
    "hidden": true
   },
   "outputs": [],
   "source": [
    "mx, my = np.where(holder_for_classes == 10)"
   ]
  },
  {
   "cell_type": "code",
   "execution_count": 254,
   "metadata": {
    "ExecuteTime": {
     "end_time": "2020-10-08T04:14:21.623513Z",
     "start_time": "2020-10-08T04:14:21.618526Z"
    },
    "hidden": true
   },
   "outputs": [],
   "source": [
    "for i, j in zip(mx, my):\n",
    "    holder_for_readouts[i, j] = 0"
   ]
  },
  {
   "cell_type": "code",
   "execution_count": 255,
   "metadata": {
    "ExecuteTime": {
     "end_time": "2020-10-08T04:14:21.630494Z",
     "start_time": "2020-10-08T04:14:21.625507Z"
    },
    "hidden": true
   },
   "outputs": [
    {
     "name": "stdout",
     "output_type": "stream",
     "text": [
      "[[0.   0.   0.   ... 0.   0.   0.08]\n",
      " [0.   0.   0.   ... 0.   0.01 0.04]\n",
      " [0.   0.01 0.01 ... 0.   0.01 0.03]\n",
      " ...\n",
      " [0.08 0.07 0.06 ... 0.08 0.09 0.  ]\n",
      " [0.   0.   0.   ... 0.   0.   0.03]\n",
      " [0.   0.   0.   ... 0.   0.   0.05]]\n"
     ]
    }
   ],
   "source": [
    "print(holder_for_readouts)"
   ]
  },
  {
   "cell_type": "code",
   "execution_count": 265,
   "metadata": {
    "ExecuteTime": {
     "end_time": "2020-10-08T04:19:03.750546Z",
     "start_time": "2020-10-08T04:19:03.745558Z"
    },
    "hidden": true
   },
   "outputs": [],
   "source": [
    "classified_as = np.argmin(holder_for_readouts, axis = 1)"
   ]
  },
  {
   "cell_type": "code",
   "execution_count": 260,
   "metadata": {
    "ExecuteTime": {
     "end_time": "2020-10-08T04:16:52.095874Z",
     "start_time": "2020-10-08T04:16:26.347035Z"
    },
    "hidden": true
   },
   "outputs": [
    {
     "name": "stderr",
     "output_type": "stream",
     "text": [
      "C:\\Users\\jeff_\\Anaconda3\\lib\\site-packages\\ipykernel_launcher.py:18: UserWarning: Tight layout not applied. tight_layout cannot make axes width small enough to accommodate all axes decorations\n"
     ]
    }
   ],
   "source": [
    "fig, axs = plt.subplots(3, int(np.ceil(len(classification_patterns) / 3)), figsize=(15,9))\n",
    "count = 0\n",
    "\n",
    "for i in range(3):\n",
    "    for j in range(int(np.ceil(len(classification_patterns) / 3))):\n",
    "        ax = axs[i][j]\n",
    "        \n",
    "        #c = ax.pcolor(thetas[i + j][1:].reshape(28, 28), cmap = 'gray')\n",
    "        try:\n",
    "            c = ax.imshow(np.array(classification_patterns[count]).reshape(16, 16), cmap = 'gray_r', interpolation='nearest')\n",
    "            ax.axis('off')\n",
    "            ax.axis('equal')\n",
    "            ax.set_title(f'Clas. as {classified_as[count]} is {classification_labels[count]}').set_position([0.5, 1.1])\n",
    "            count += 1\n",
    "        except IndexError:\n",
    "            continue\n",
    "        \n",
    "fig.tight_layout()\n",
    "plt.colorbar(c)\n",
    "plt.show()"
   ]
  },
  {
   "cell_type": "code",
   "execution_count": 266,
   "metadata": {
    "ExecuteTime": {
     "end_time": "2020-10-08T04:19:05.605567Z",
     "start_time": "2020-10-08T04:19:05.601563Z"
    },
    "hidden": true
   },
   "outputs": [
    {
     "name": "stdout",
     "output_type": "stream",
     "text": [
      "Accuracy = 0.10615577889447236\n"
     ]
    }
   ],
   "source": [
    "accuracy = len(np.where(classification_labels == classified_as)[0]) / len(classification_labels)\n",
    "print(f'Accuracy = {accuracy}')"
   ]
  },
  {
   "cell_type": "code",
   "execution_count": 262,
   "metadata": {
    "ExecuteTime": {
     "end_time": "2020-10-08T04:17:29.607688Z",
     "start_time": "2020-10-08T04:17:29.521827Z"
    },
    "hidden": true
   },
   "outputs": [],
   "source": [
    "fig, ax = plt.subplots(1, 1, figsize=(15,9))\n",
    "\n",
    "c = ax.imshow(holder_for_readouts, cmap = 'hot', interpolation='nearest')\n",
    "ax.axis('on')\n",
    "#ax.axis('equal')\n",
    "ax.set_title(f'Heatmap for Readouts').set_position([0.5, 1.1])\n",
    "        \n",
    "fig.tight_layout()\n",
    "norm = mpl.colors.Normalize(vmin=np.nan_to_num(holder_for_readouts.astype(float)).min(), vmax=np.nan_to_num(holder_for_readouts.astype(float)).max())\n",
    "plt.colorbar(c, norm = norm)\n",
    "plt.show()"
   ]
  },
  {
   "cell_type": "markdown",
   "metadata": {
    "hidden": true
   },
   "source": [
    "## Evaluating"
   ]
  },
  {
   "cell_type": "code",
   "execution_count": 267,
   "metadata": {
    "ExecuteTime": {
     "end_time": "2020-10-08T04:19:09.256667Z",
     "start_time": "2020-10-08T04:19:09.249680Z"
    },
    "hidden": true
   },
   "outputs": [
    {
     "data": {
      "text/plain": [
       "array([[35, 14, 38, 13,  9, 12, 12, 19,  3,  6],\n",
       "       [32, 18, 20, 12,  2,  8,  6, 15,  3, 46],\n",
       "       [25, 33, 12, 22,  4,  2,  3,  3,  2, 53],\n",
       "       [15,  3,  6, 26, 12,  1,  5,  6,  3, 82],\n",
       "       [32, 18, 12, 25, 11, 28,  4, 14,  6, 11],\n",
       "       [18,  7, 16, 18, 17, 11, 14, 13,  1, 44],\n",
       "       [43, 22, 19, 17, 16,  6,  7, 14,  8,  9],\n",
       "       [23, 19,  9, 20,  7,  4,  9, 18,  4, 45],\n",
       "       [45, 11,  8, 22, 27,  8, 10, 11,  5,  8],\n",
       "       [40, 14, 14, 20,  9, 10, 14,  7,  3, 26]], dtype=int64)"
      ]
     },
     "execution_count": 267,
     "metadata": {},
     "output_type": "execute_result"
    }
   ],
   "source": [
    "conf = confusion_matrix(classification_labels, classified_as)\n",
    "conf"
   ]
  },
  {
   "cell_type": "code",
   "execution_count": 268,
   "metadata": {
    "ExecuteTime": {
     "end_time": "2020-10-08T04:19:54.469649Z",
     "start_time": "2020-10-08T04:19:54.320923Z"
    },
    "hidden": true
   },
   "outputs": [],
   "source": [
    "plot_confusion_matrix(conf, target_names = np.unique(classification_labels), labels = True, normalize = False)"
   ]
  },
  {
   "cell_type": "code",
   "execution_count": 269,
   "metadata": {
    "ExecuteTime": {
     "end_time": "2020-10-08T04:20:18.544893Z",
     "start_time": "2020-10-08T04:20:18.538903Z"
    },
    "hidden": true
   },
   "outputs": [
    {
     "data": {
      "text/plain": [
       "0.10615577889447236"
      ]
     },
     "execution_count": 269,
     "metadata": {},
     "output_type": "execute_result"
    }
   ],
   "source": [
    "accuracy_score(classification_labels, classified_as)"
   ]
  },
  {
   "cell_type": "code",
   "execution_count": 270,
   "metadata": {
    "ExecuteTime": {
     "end_time": "2020-10-08T04:20:20.745152Z",
     "start_time": "2020-10-08T04:20:20.738171Z"
    },
    "hidden": true
   },
   "outputs": [
    {
     "data": {
      "text/plain": [
       "array([[35, 14, 38, 13,  9, 12, 12, 19,  3,  6],\n",
       "       [32, 18, 20, 12,  2,  8,  6, 15,  3, 46],\n",
       "       [25, 33, 12, 22,  4,  2,  3,  3,  2, 53],\n",
       "       [15,  3,  6, 26, 12,  1,  5,  6,  3, 82],\n",
       "       [32, 18, 12, 25, 11, 28,  4, 14,  6, 11],\n",
       "       [18,  7, 16, 18, 17, 11, 14, 13,  1, 44],\n",
       "       [43, 22, 19, 17, 16,  6,  7, 14,  8,  9],\n",
       "       [23, 19,  9, 20,  7,  4,  9, 18,  4, 45],\n",
       "       [45, 11,  8, 22, 27,  8, 10, 11,  5,  8],\n",
       "       [40, 14, 14, 20,  9, 10, 14,  7,  3, 26]], dtype=int64)"
      ]
     },
     "execution_count": 270,
     "metadata": {},
     "output_type": "execute_result"
    }
   ],
   "source": [
    "confusion_matrix(classification_labels, classified_as)"
   ]
  },
  {
   "cell_type": "code",
   "execution_count": 271,
   "metadata": {
    "ExecuteTime": {
     "end_time": "2020-10-08T04:20:25.985379Z",
     "start_time": "2020-10-08T04:20:25.978397Z"
    },
    "hidden": true
   },
   "outputs": [
    {
     "data": {
      "text/plain": [
       "array([0.11, 0.11, 0.08, 0.13, 0.1 , 0.12, 0.08, 0.15, 0.13, 0.08])"
      ]
     },
     "execution_count": 271,
     "metadata": {},
     "output_type": "execute_result"
    }
   ],
   "source": [
    "precision_score(classification_labels, classified_as, average = None)"
   ]
  },
  {
   "cell_type": "code",
   "execution_count": 272,
   "metadata": {
    "ExecuteTime": {
     "end_time": "2020-10-08T04:20:28.431564Z",
     "start_time": "2020-10-08T04:20:28.426576Z"
    },
    "hidden": true
   },
   "outputs": [
    {
     "data": {
      "text/plain": [
       "array([0.22, 0.11, 0.08, 0.16, 0.07, 0.07, 0.04, 0.11, 0.03, 0.17])"
      ]
     },
     "execution_count": 272,
     "metadata": {},
     "output_type": "execute_result"
    }
   ],
   "source": [
    "recall_score(classification_labels, classified_as, average = None)"
   ]
  },
  {
   "cell_type": "code",
   "execution_count": 273,
   "metadata": {
    "ExecuteTime": {
     "end_time": "2020-10-08T04:20:29.656723Z",
     "start_time": "2020-10-08T04:20:29.650704Z"
    },
    "hidden": true
   },
   "outputs": [
    {
     "data": {
      "text/plain": [
       "array([0.15, 0.11, 0.08, 0.15, 0.08, 0.09, 0.06, 0.13, 0.05, 0.11])"
      ]
     },
     "execution_count": 273,
     "metadata": {},
     "output_type": "execute_result"
    }
   ],
   "source": [
    "f1_score(classification_labels, classified_as, average = None)"
   ]
  },
  {
   "cell_type": "code",
   "execution_count": 275,
   "metadata": {
    "ExecuteTime": {
     "end_time": "2020-10-08T04:20:52.097588Z",
     "start_time": "2020-10-08T04:20:52.091605Z"
    },
    "hidden": true
   },
   "outputs": [
    {
     "data": {
      "text/plain": [
       "0.11005129318436171"
      ]
     },
     "execution_count": 275,
     "metadata": {},
     "output_type": "execute_result"
    }
   ],
   "source": [
    "precision_score(classification_labels, classified_as, average = 'macro')"
   ]
  },
  {
   "cell_type": "code",
   "execution_count": 276,
   "metadata": {
    "ExecuteTime": {
     "end_time": "2020-10-08T04:21:25.560103Z",
     "start_time": "2020-10-08T04:21:25.554138Z"
    },
    "hidden": true
   },
   "outputs": [
    {
     "data": {
      "text/plain": [
       "0.10602669690143347"
      ]
     },
     "execution_count": 276,
     "metadata": {},
     "output_type": "execute_result"
    }
   ],
   "source": [
    "recall_score(classification_labels, classified_as, average = 'macro')"
   ]
  },
  {
   "cell_type": "code",
   "execution_count": 277,
   "metadata": {
    "ExecuteTime": {
     "end_time": "2020-10-08T04:21:34.312725Z",
     "start_time": "2020-10-08T04:21:34.305744Z"
    },
    "hidden": true
   },
   "outputs": [
    {
     "data": {
      "text/plain": [
       "0.09985555615906413"
      ]
     },
     "execution_count": 277,
     "metadata": {},
     "output_type": "execute_result"
    }
   ],
   "source": [
    "f1_score(classification_labels, classified_as, average = 'macro')"
   ]
  },
  {
   "cell_type": "code",
   "execution_count": null,
   "metadata": {
    "hidden": true
   },
   "outputs": [],
   "source": []
  }
 ],
 "metadata": {
  "kernelspec": {
   "display_name": "Python 3",
   "language": "python",
   "name": "python3"
  },
  "language_info": {
   "codemirror_mode": {
    "name": "ipython",
    "version": 3
   },
   "file_extension": ".py",
   "mimetype": "text/x-python",
   "name": "python",
   "nbconvert_exporter": "python",
   "pygments_lexer": "ipython3",
   "version": "3.7.4"
  },
  "varInspector": {
   "cols": {
    "lenName": 16,
    "lenType": 16,
    "lenVar": 40
   },
   "kernels_config": {
    "python": {
     "delete_cmd_postfix": "",
     "delete_cmd_prefix": "del ",
     "library": "var_list.py",
     "varRefreshCmd": "print(var_dic_list())"
    },
    "r": {
     "delete_cmd_postfix": ") ",
     "delete_cmd_prefix": "rm(",
     "library": "var_list.r",
     "varRefreshCmd": "cat(var_dic_list()) "
    }
   },
   "position": {
    "height": "144px",
    "left": "1166px",
    "right": "20px",
    "top": "119px",
    "width": "350px"
   },
   "types_to_exclude": [
    "module",
    "function",
    "builtin_function_or_method",
    "instance",
    "_Feature"
   ],
   "window_display": false
  }
 },
 "nbformat": 4,
 "nbformat_minor": 2
}
