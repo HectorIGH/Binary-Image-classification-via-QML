{
 "cells": [
  {
   "cell_type": "markdown",
   "metadata": {
    "heading_collapsed": true
   },
   "source": [
    "# Imports"
   ]
  },
  {
   "cell_type": "code",
   "execution_count": 1,
   "metadata": {
    "ExecuteTime": {
     "end_time": "2020-10-07T23:05:59.138763Z",
     "start_time": "2020-10-07T23:05:55.212082Z"
    },
    "hidden": true
   },
   "outputs": [
    {
     "data": {
      "application/javascript": [
       "if (!(\"Notification\" in window)) {\n",
       "    alert(\"This browser does not support desktop notifications, so the %%notify magic will not work.\");\n",
       "} else if (Notification.permission !== 'granted' && Notification.permission !== 'denied') {\n",
       "    Notification.requestPermission(function (permission) {\n",
       "        if(!('permission' in Notification)) {\n",
       "            Notification.permission = permission;\n",
       "        }\n",
       "    })\n",
       "}\n"
      ],
      "text/plain": [
       "<IPython.core.display.Javascript object>"
      ]
     },
     "metadata": {},
     "output_type": "display_data"
    }
   ],
   "source": [
    "import numpy as np\n",
    "from collections import Counter\n",
    "import matplotlib.pyplot as plt\n",
    "import matplotlib.cm as cm\n",
    "import matplotlib as mpl\n",
    "import itertools\n",
    "import seaborn as sns\n",
    "import cv2\n",
    "import sklearn\n",
    "from sklearn import datasets\n",
    "from sklearn.metrics import accuracy_score, precision_score, recall_score, f1_score, confusion_matrix, roc_curve, auc\n",
    "from functools import partial, lru_cache\n",
    "from copy import copy\n",
    "from scipy.special import softmax, expit\n",
    "\n",
    "from qiskit import ClassicalRegister, QuantumRegister, QuantumCircuit, Aer, execute, IBMQ\n",
    "from qiskit.tools.visualization import circuit_drawer\n",
    "from qiskit.tools.visualization import plot_histogram\n",
    "from qiskit.extensions.unitary import unitary\n",
    "from qiskit.tools.monitor import job_monitor\n",
    "from qiskit.compiler import transpile, assemble\n",
    "S_simulator = Aer.backends(name = 'statevector_simulator')[0]\n",
    "M_simulator = Aer.backends(name = 'qasm_simulator')[0]\n",
    "\n",
    "import functools\n",
    "from tqdm import tqdm, tqdm_notebook, notebook\n",
    "from operator import itemgetter\n",
    "\n",
    "%matplotlib qt\n",
    "%load_ext jupyternotify"
   ]
  },
  {
   "cell_type": "markdown",
   "metadata": {
    "heading_collapsed": true
   },
   "source": [
    "# Auxiliar functions definition"
   ]
  },
  {
   "cell_type": "code",
   "execution_count": 238,
   "metadata": {
    "ExecuteTime": {
     "end_time": "2020-10-08T02:50:59.134710Z",
     "start_time": "2020-10-08T02:50:59.063846Z"
    },
    "hidden": true
   },
   "outputs": [],
   "source": [
    "def preprocess(vector):\n",
    "    \"\"\"\n",
    "    Input: a vector of size m = 2^N with entries in {-1, 1}.\n",
    "    Output: a (m, 2) numpy array with the form:\n",
    "    [[1 list([])]\n",
    "     [-1 list([])]\n",
    "     [1 list([])]\n",
    "     [1 list([])]]\n",
    "    where the frst column represents the sign and the second is the position in binary.\n",
    "    \"\"\"\n",
    "    # Factorize the sign\n",
    "    i_unsigned = np.multiply(-1, vector)\n",
    "    # To binary string\n",
    "    i_binary = [bin(int(n)) for n in i_unsigned]\n",
    "    # Remove the -0b or 0b par of the binary representation. bin(7) = 0b111 -> 111\n",
    "    for index, e in enumerate(i_binary):\n",
    "        if(e[0] == '-'):\n",
    "            #i_binary[index] = [-1, [int(e) for e in bin(index)[2:]]]\n",
    "            i_binary[index] = [-1, list(map(int, str(int(bin(index)[2:]))))]\n",
    "        else:\n",
    "            #i_binary[index] = [1, [int(e) for e in bin(index)[2:]]]\n",
    "            i_binary[index] = [1, list(map(int, str(int(bin(index)[2:]))))]\n",
    "            \n",
    "    n = int(np.log2(len(i_binary)))\n",
    "    for index, element in enumerate(i_binary):\n",
    "        if (len(element[1]) != n):\n",
    "            while (len(i_binary[index][1]) != n):\n",
    "                i_binary[index][1].insert(0, 0)\n",
    "    #for i in range(len(i_binary)):\n",
    "    #    i_binary[i][1] = i_binary[i][1][::-1]\n",
    "    i_binary = np.array(i_binary)\n",
    "    #print(i_binary)\n",
    "    return i_binary\n",
    "\n",
    "def check_z(binary):\n",
    "    \"\"\"\n",
    "    Input: a preprocessed vector via preprocess().\n",
    "    Output: a vector whose entries represents the qubit to perform a Z-gate.\n",
    "    \"\"\"\n",
    "    positive = True # Controls the sign to achieve\n",
    "    \n",
    "    if (int(binary[0][0]) < 0):\n",
    "        positive = False\n",
    "        \n",
    "    #print(f'The sign will be positive: {positive}')\n",
    "    z_index = []\n",
    "    for index, element in enumerate(binary):\n",
    "        counts = Counter(element[1])\n",
    "        #print(counts[1])\n",
    "        if (counts[1] == 1):\n",
    "            if (positive):\n",
    "                if (int(binary[index][0]) == -1):\n",
    "                    #print(f'Z gate in qubit {np.where(np.array(binary[2**i][1]) == 1)[0]}')\n",
    "                    z_index.append(int(np.where(np.array(binary[index][1]) == 1)[0][0]))\n",
    "            else:\n",
    "                if (int(binary[index][0]) == 1):\n",
    "                    #print(f'Z gate in qubit {np.where(np.array(binary[2**i][1]) == 1)[0]}')\n",
    "                    z_index.append(int(np.where(np.array(binary[index][1]) == 1)[0][0]))\n",
    "    #print(z_index)\n",
    "    #z_index = reindex(int(np.log2(len(i_binary))), z_index)\n",
    "    return z_index\n",
    "\n",
    "def apply_z(binary, Z):\n",
    "    \"\"\"\n",
    "    Input: the preprocessed vector and a vector containing the qubits to apply a Z-gate.\n",
    "    Output: the resultant vector with the signs flipped accordingly to the action of the Z-gates.\n",
    "    \"\"\"\n",
    "    '''for ind, e in enumerate(binary):\n",
    "        counts = Counter(e[1])\n",
    "        if counts[1] > 0:\n",
    "            ones = np.where(np.array(e[1]) == 1)[0]\n",
    "            #print(counts[1], e[1], ones)\n",
    "            for z in Z:\n",
    "                #print(f'z = {z}, ones = {ones}, changes = {z in ones}')\n",
    "                if (z in ones):\n",
    "                    binary[ind][0] *= -1'''\n",
    "    \n",
    "    for z in Z:\n",
    "        mask = np.array(list(map(lambda x : x[z] == 1, binary[:,1])))\n",
    "        binary[mask, 0] *= -1\n",
    "    \n",
    "    #print(binary)\n",
    "    return binary\n",
    "\n",
    "\n",
    "def check_cpz(binary):\n",
    "    \"\"\"\n",
    "    Input: the current preprocessed vector.\n",
    "    Output: the final desired vector and a vector whose elements are vectos containing the qubits to whom apply\n",
    "            the CPZ.\n",
    "    \"\"\"\n",
    "    CPZ = set()\n",
    "    n = int(np.log2(len(binary)))\n",
    "    #print(n)\n",
    "    sequence = 0\n",
    "    '''\n",
    "    # Ordered by the number of ones in its binary representation\n",
    "    aux_binary = sorted(binary, key = lambda item : Counter(item[1])[1])\n",
    "    \n",
    "    # Index holds the positions of the first appearance of n number of ones\n",
    "    index = []\n",
    "    cuenta = 1\n",
    "    for i, e in enumerate(aux_binary):\n",
    "        if (np.sum(e[1]) > cuenta):\n",
    "            index.append(i)\n",
    "            cuenta -= -1\n",
    "    \n",
    "    for ind in index: # Now ind holds where in the aux_binary star to appear elements with 2,3,... ones\n",
    "        for i in range(ind, len(aux_binary)):\n",
    "            if (aux_binary[i][0] != aux_binary[0][0]):\n",
    "                ones = np.where(np.array(aux_binary[i][1]) == 1)[0]\n",
    "                CPZ.add(tuple([sequence, tuple(ones)]))\n",
    "                sequence -= -1\n",
    "                \n",
    "                for j in range(ind, len(aux_binary)):\n",
    "                    pos = np.where(np.array(aux_binary[j][1]) == 1)[0]\n",
    "                    pos_set = set(pos)\n",
    "                    ones_set = set(ones)\n",
    "                    if (set.issubset(ones_set, pos_set)):\n",
    "                        aux_binary[j][0] *= -1\n",
    "        \n",
    "    \n",
    "    \n",
    "    \n",
    "    '''\n",
    "    for p in range(2, n + 1):\n",
    "        for ind, e in enumerate(binary):\n",
    "            counts = Counter(e[1])\n",
    "            #print(f'manifold of {p}')\n",
    "            if (counts[1] == p) and (binary[0][0] != e[0]):\n",
    "                ones = np.where(np.array(e[1]) == 1)[0]\n",
    "                #cadena = lambda a : str(a)\n",
    "                #unos = cadena(ones)[1:-1]\n",
    "                #CPZ.add(tuple(ones))\n",
    "                CPZ.add(tuple([sequence, tuple(ones)]))\n",
    "                #print(f'applying {tuple([sequence, tuple(ones)])} because {e}')\n",
    "                sequence += 1\n",
    "                \n",
    "                ones_set = set(ones)\n",
    "                mask = np.array(list(map(partial(check_set, ones_set) , binary[:, 1])))\n",
    "                \n",
    "                binary[mask, 0] *= -1\n",
    "                \n",
    "                #for ind, e in enumerate(binary):\n",
    "                #    pos = np.where(np.array(e[1]) == 1)[0]\n",
    "                #    pos_set = set(pos)\n",
    "                #    ones_set = set(ones)\n",
    "                #    if (set.issubset(ones_set, pos_set)):\n",
    "                #        binary[ind][0] *= -1\n",
    "                        #CPZ.append(ones)\n",
    "                        #print(f'C{p}Z = {ones}')\n",
    "    #'''\n",
    "    #print(binary)\n",
    "    CPZ = [list(ele) for _, ele in enumerate(CPZ)]\n",
    "    CPZ = sorted(CPZ, key = lambda l: l[0])\n",
    "    #print(CPZ)\n",
    "    CPZ = [list(e[1]) for e in CPZ]\n",
    "    #sett = [list(e) for e in sett]\n",
    "    #if(binary[0][0] < 0):\n",
    "    #    CPZ = list(map(partial(reindex, int(np.log2(len(binary)))), CPZ))\n",
    "    #CPZ = sorted(CPZ, key = lambda l: (len(l), l.sort()))\n",
    "    return CPZ\n",
    "\n",
    "def check_set(ones_set, pos_set):\n",
    "    return set.issubset(ones_set, set(np.where(np.array(pos_set) == 1)[0]))\n",
    "\n",
    "def vectorize(number, digits):\n",
    "    \"\"\"\n",
    "    Input: an integer in decimal form and the number of final digits as binary.\n",
    "    Output: its representation on binary as an array. Most significant bit as first element of the array.\n",
    "    \"\"\"\n",
    "    digits = 2**(np.ceil(np.log2(digits)))\n",
    "    binary_number = bin(number)[2:]\n",
    "    as_text = str(binary_number)\n",
    "    vectorized_number = [int(d) for d in as_text]\n",
    "    #print(vectorized_number)\n",
    "    if (digits < len(vectorized_number)):\n",
    "        digits = 2**(np.ceil(np.log2(len(vectorized_number))))\n",
    "    if (digits > len(vectorized_number)):\n",
    "        while (len(vectorized_number) != digits):\n",
    "            vectorized_number.insert(0, 0)\n",
    "    #print(vectorized_number)\n",
    "    return np.array(vectorized_number)\n",
    "\n",
    "def o_product(i, w):\n",
    "    return (np.abs(np.dot(i, w))/len(i))**2\n",
    "\n",
    "def sign(p):\n",
    "    #Can be substitute in code by:\n",
    "    #sign = lambda p : [(-1)**i for i in p]\n",
    "    #list(map(sign, inputs))\n",
    "    return [(-1)**i for i in p]\n",
    "\n",
    "def design(p):\n",
    "    return [1 if i < 0 else 0 for i in w]\n",
    "\n",
    "def reindex(N, change):\n",
    "    origin = np.array([i for i in range(N)])\n",
    "    destiny = np.flipud(origin)\n",
    "    \n",
    "    for index, element in enumerate(change):\n",
    "        #print(f'{element} -> {np.where(d == element)[0]}')\n",
    "        change[index] = np.where(destiny == element)[0][0]\n",
    "        \n",
    "    return change\n",
    "\n",
    "def U(qc, q, Z, CPZ):\n",
    "    for z in Z:\n",
    "        #print(f'Z gate in qubit {type(int(z))}')\n",
    "        qc.z(q[int(z)])\n",
    "    for cpz in CPZ:\n",
    "        controls = [q[int(i)] for i in cpz[:-1]]\n",
    "        target = q[int(cpz[-1])]\n",
    "        #print(f'CPZ gate with control {controls} and target {target}')\n",
    "        qc.h(cpz[-1])\n",
    "        #qc.mct(controls, target, None, mode='advanced')\n",
    "        \n",
    "        #try:\n",
    "        #    qc.mct(controls, target, None, mode='advanced')\n",
    "        #except AssertionError:\n",
    "            #print(\"Going to mode noancilla\")\n",
    "        qc.mct(controls, target, None, mode='noancilla')\n",
    "        \n",
    "        qc.h(cpz[-1])\n",
    "    return qc\n",
    "\n",
    "#@lru_cache(maxsize = None)\n",
    "def gates_sequence(vector):\n",
    "    #print('Preprocessing')\n",
    "    binary = preprocess(vector)\n",
    "    #print('Getting Z gates')\n",
    "    Z_GATES = check_z(binary)\n",
    "    #print('Applying Z gates')\n",
    "    binary = apply_z(binary, Z_GATES)\n",
    "    #print('Getting CpZ gates')\n",
    "    CPZ_GATES = check_cpz(binary)\n",
    "    return Z_GATES, CPZ_GATES\n",
    "\n",
    "def perceptron(N = 1, shots = 512, z_gates_w = [], CPZ_gates_w = [], z_gates_i = [], CPZ_gates_i = [], simulation = True):\n",
    "    \n",
    "    q = QuantumRegister(N, name = 'q_r')\n",
    "    #A = QuantumRegister(1, name = 'auxiliar_ancillar')\n",
    "    a = QuantumRegister(1, name = 'a_r')\n",
    "    c = ClassicalRegister(1, name = 'c_r')\n",
    "    qc = QuantumCircuit(q, a, c, name = 'qc')\n",
    "\n",
    "    for index in range(N):\n",
    "        qc.h(q[index])\n",
    "\n",
    "        \n",
    "    qc = U(qc, q, z_gates_i, CPZ_gates_i)\n",
    "    qc = U(qc, q, z_gates_w, CPZ_gates_w)\n",
    "\n",
    "    for index in range(N):\n",
    "        qc.h(q[index])\n",
    "    \n",
    "    for index in range(N):\n",
    "        qc.x(q[index])\n",
    "\n",
    "    #qc.mct(q[:], a[0], None, mode='advanced')\n",
    "    \n",
    "    #try:\n",
    "    #    qc.mct(q[:], a[0], None, mode='advanced')\n",
    "    #except AssertionError:\n",
    "        #print(\"Going to mode noancilla\")\n",
    "    qc.mct(q[:], a[0], None, mode='noancilla')    \n",
    "        \n",
    "    qc.measure(a[0], c)\n",
    "    #print(qc)\n",
    "        \n",
    "    #results = execute(qc, backend = M_simulator, shots = shots).result()\n",
    "    \n",
    "    # Optimized\n",
    "    transpiled_circuit = transpile(qc, M_simulator, optimization_level = 1) # optimization_level = [0, 1, 2, 3]\n",
    "    job = M_simulator.run(assemble(transpiled_circuit, shots = shots))\n",
    "    results = job.result()\n",
    "    \n",
    "    #results = execute(qc, backend = qcomp, shots = shots, memory=True) # For Real Quantum Computing\n",
    "\n",
    "    #job_monitor(results) # For Real Quantum Computing\n",
    "        \n",
    "    #results = results.result() # For Real Quantum Computing\n",
    "    \n",
    "    # Optimized for Real Quantum Computer\n",
    "    #transpiled_circuit = transpile(qc, qcomp, optimization_level = 2) # optimization_level = 0,1,2,3\n",
    "    #job = M_simulator.run(assemble(transpiled_circuit, shots = shots))\n",
    "    #results = job.result()\n",
    "    \n",
    "    return results\n",
    "\n",
    "\n",
    "def fit(qubits = 1, X_train = np.array([[1]]), Y_train = np.array([[1]]), negative_class = 0, positive_class = 1, epochs = 1, shots = 64, threshold = 0.5, Ip = 0.5, In = 0.5, bias = 0, weight_passed = []):\n",
    "    # Train and return a weight vector\n",
    "    n = len(X_train)\n",
    "    result_matrix = np.zeros((epochs, len(X_train)))\n",
    "    np.random.seed(10)\n",
    "    \n",
    "    w = weight_passed\n",
    "    #w = np.random.randint(2, size = 2**qubits) # Random generation of initial weight vector. Sign it at once.\n",
    "    \n",
    "    #w = np.array(X_train[23])\n",
    "    \n",
    "    #print(f'Starting training with qubits = {qubits}, train = {X_train}, target = {Y_train}, epochs = {epochs}, shots = {shots}, Ip = {Ip}, In = {In}')\n",
    "    #print(f'Initial weight vector = {w}')\n",
    "    \n",
    "    weights = []\n",
    "\n",
    "    for epoch in notebook.tqdm(range(epochs), desc = f'Epoches'):\n",
    "        errors = 0\n",
    "        correct = 0\n",
    "        for index, training_element in enumerate(notebook.tqdm(X_train, desc = f'Training {epoch}')):\n",
    "\n",
    "            pattern = sign(training_element) # Signing the training pattern.\n",
    "            \n",
    "            wei = sign(w) # Signing the weight vector\n",
    "            #print('Calculating Z gates')\n",
    "            #print(pattern)\n",
    "            z_gates_i, CPZ_gates_i = gates_sequence(tuple(pattern)) # Gates to apply to the training pattern vector\n",
    "            #print('Calculating CpZ gates')\n",
    "            z_gates_w, CPZ_gates_w = gates_sequence(tuple(wei)) # Gates to apply to the weight vector\n",
    "            \n",
    "            #print('Ahora sí, Quantum Realm')\n",
    "            \n",
    "            ############################  Quantum Proccess  ############################\n",
    "            \n",
    "            results = perceptron(qubits, shots, z_gates_w, CPZ_gates_w, z_gates_i, CPZ_gates_i)\n",
    "            \n",
    "            #########################  End of Quantum Proccess  #########################\n",
    "            \n",
    "            counts = results.get_counts()\n",
    "        \n",
    "            #list_count_value = [ (v,oq.From_binary(k)) for k, v in counts.items()]\n",
    "\n",
    "            #sorte = sorted(list_count_value, key = itemgetter(0))\n",
    "        \n",
    "            #readout = sorte[0][1] * sorte[0][0] / shots\n",
    "            \n",
    "            readout = counts.get('1', shots) / shots\n",
    "            \n",
    "            #try:\n",
    "            #    readout = counts['1'] / shots\n",
    "            #except KeyError:\n",
    "            #    readout = 0\n",
    "            \n",
    "            #print(readout)\n",
    "            \n",
    "            clazz = negative_class if (readout + bias) < threshold else positive_class # Classification part.\n",
    "            \n",
    "            result_matrix[epoch][index] = readout + bias\n",
    "            #print(f'Weight vector = {w} and Training element = {training_element}')\n",
    "            if (Y_train[index] == clazz):\n",
    "                # Correctly classified. We do not modify the weight vector and we continue.\n",
    "                correct -= -np.power(np.inf, np.log(1))\n",
    "                #if clazz:\n",
    "                    #Ip *= (n - correct) / float(n)\n",
    "                    #Ip *= 1.0 / np.log(3 + correct)\n",
    "                    #Ip *= np.exp(-0.001 * correct)\n",
    "                    #Ip *= 1.0 / (1.0 + 0.01 * correct)\n",
    "                    #Ip *= .982**np.floor((correct + 1) / 10)\n",
    "                #else:\n",
    "                    #In *= (n - correct) / float(n)\n",
    "                    #In *= 1.0 / np.log(3 + correct)\n",
    "                    #In *= np.exp(-0.001 * correct)\n",
    "                    #In *= 1.0 / (1.0 + 0.01 * correct)\n",
    "                    #In *= .982**np.floor((correct + 1) / 10)\n",
    "                continue # Skip the execution to the next iteration\n",
    "            # If we reach this point the classification was incorrect\n",
    "            #if (clazz < Y_train[index]): # Classified as 0 (negative) when is 1 (positive)\n",
    "            if (clazz == negative_class): # Classified as (negative) when is (positive)\n",
    "                # We flip +-1 signs Ip fraction where i and w coincide\n",
    "                coincide = np.argwhere(training_element == w).flatten()\n",
    "                pos = np.array(list(set(np.random.choice(coincide, int(np.floor(len(coincide) * Ip)), replace = False)))) if len(coincide) > 0 else np.array([])\n",
    "                #print(f'Missclasiffied as 0. Before changes: {Counter(w)} with len(coincide) * Ip = {int(np.ceil(len(coincide) * Ip))}')\n",
    "                #for indexed in pos:\n",
    "                    #print('entre en Ip')\n",
    "                #    w[indexed] = (w[indexed] + 1) % 2\n",
    "#                print(f'Coincide in {len(coincide)} and change {len(pos)} bits')\n",
    "                try:\n",
    "                    w[pos] = (w[pos] + 1) % 2\n",
    "                except IndexError:\n",
    "                    pass\n",
    "                #print(f'Missclasiffied as 0. After  changes: {Counter(w)} with len(coincide) * Ip = {int(np.ceil(len(coincide) * Ip))}')\n",
    "            else: # Classified as 1 (positive) when is 0 (negative)\n",
    "                # We flip +-1 signs In fraction where i and w coincide\n",
    "                coincide = np.argwhere(training_element == w).flatten()\n",
    "                pos = np.array(list(set(np.random.choice(coincide, int(np.floor(len(coincide) * In)), replace = False)))) if len(coincide) > 0 else np.array([])\n",
    "                #print(f'Missclasified as 1. Before changes: {Counter(w)} with len(coincide) * In = {int(np.ceil(len(coincide) * In))}')\n",
    "                #for indexed in pos:\n",
    "                    #print('entre en In')\n",
    "                #    w[indexed] = (w[indexed] + 1) % 2\n",
    "#                print(f'Coincide in {len(coincide)} and change {len(pos)} bits')\n",
    "                try:\n",
    "                    w[pos] = (w[pos] + 1) % 2\n",
    "                except IndexError:\n",
    "                    pass\n",
    "                #print(f'Missclasified as 1. After  changes: {Counter(w)} with len(coincide) * In = {int(np.ceil(len(coincide) * In))}')\n",
    "            errors -= -1\n",
    "        print(f'Errors = {errors} for accuracy of = {1 - errors/len(X_train)}')\n",
    "        #print(f'Final weight vector = {w}')\n",
    "        weights.append(w)\n",
    "    return w, result_matrix, weights\n",
    "\n",
    "def predict(qubits = 1, X_test = np.array([[1]]), negative_class = 0, positive_class = 1, shots = 64, threshold = 0.5, w = 0, bias = 0):\n",
    "    # Train and return a weight vector\n",
    "    result_matrix = np.zeros(len(X_test))\n",
    "    readout_matrix = np.zeros(len(X_test))\n",
    "    np.random.seed(10)\n",
    "    Y_predicted = np.zeros(len(X_test))\n",
    "    wei = sign(w) # Signing the weight vector\n",
    "    z_gates_w, CPZ_gates_w = gates_sequence(tuple(wei)) # Gates to apply to the weight vector\n",
    "    \n",
    "    #print(f'Starting predict with qubits = {qubits}, train = {X_test}, shots = {shots}')\n",
    "    #print(f'Passed weight vector = {w}')\n",
    "         \n",
    "    for index, training_element in enumerate(notebook.tqdm(X_test, desc = 'Predicting')):\n",
    "            \n",
    "        pattern = sign(training_element) # Signing the training pattern.\n",
    "            \n",
    "        z_gates_i, CPZ_gates_i = gates_sequence(tuple(pattern)) # Gates to apply to the training pattern vector\n",
    "            \n",
    "        ############################  Quantum Proccess  ############################\n",
    "            \n",
    "        results = perceptron(qubits, shots, z_gates_w, CPZ_gates_w, z_gates_i, CPZ_gates_i)\n",
    "            \n",
    "        #########################  End of Quantum Proccess  #########################\n",
    "            \n",
    "        counts = results.get_counts()\n",
    "        \n",
    "        #list_count_value = [ (v,oq.From_binary(k)) for k, v in counts.items()]\n",
    "\n",
    "        #sorte = sorted(list_count_value, key = itemgetter(0))\n",
    "        \n",
    "        #readout = sorte[0][1] * sorte[0][0] / shots\n",
    "        \n",
    "        readout = counts.get('1', shots) / shots\n",
    "        \n",
    "        #try:\n",
    "        #    readout = counts['1'] / shots\n",
    "        #except KeyError:\n",
    "        #    readout = 0\n",
    "        \n",
    "        #print(readout)\n",
    "            \n",
    "        clazz = negative_class if (readout + bias) < threshold else positive_class # Classification part.\n",
    "            \n",
    "        result_matrix[index] = clazz\n",
    "        \n",
    "        readout_matrix[index] = readout + bias\n",
    "\n",
    "    return result_matrix, readout_matrix\n",
    "\n",
    "def evaluate(Y_test, predicted, negative_class, positive_class):\n",
    "    correct = np.argwhere(Y_test == predicted)\n",
    "    accuracy = len(correct) / len(predicted)\n",
    "    ones_and_zeros = [Y_test[ind][0] for ind in correct]\n",
    "    counts = Counter(ones_and_zeros)\n",
    "    confusion_matrix = np.zeros((2,2))\n",
    "    \n",
    "    Y_test_aux = np.zeros_like(Y_test)\n",
    "    predicted_aux = np.zeros_like(predicted)\n",
    "    \n",
    "    #Y_test_aux[Y_test == negative_class] = 0\n",
    "    #predicted_aux[predicted == negative_class] = 0\n",
    "    Y_test_aux[Y_test == positive_class] = 1\n",
    "    predicted_aux[predicted == positive_class] = 1\n",
    "    \n",
    "    for i in range(len(predicted_aux)):\n",
    "        confusion_matrix[int(Y_test_aux[i])][int(predicted_aux[i])] += 1\n",
    "    return accuracy, counts, confusion_matrix\n",
    "\n",
    "def plot_confusion_matrix(cm, target_names = None, cmap = None, normalize = True, labels = True, title = 'Confusion Matrix'):\n",
    "    accuracy = np.trace(cm) / float(np.sum(cm))\n",
    "    misclass = 1 - accuracy\n",
    "    \n",
    "    if cmap is None:\n",
    "        cmap = plt.get_cmap('Blues')\n",
    "        \n",
    "    if normalize:\n",
    "        cm = cm.astype('float') / cm.sum(axis = 1)[:, np.newaxis]\n",
    "        \n",
    "    plt.figure(figsize = (8, 6))\n",
    "    plt.imshow(cm, interpolation = 'nearest', cmap = cmap)\n",
    "    plt.title(title)\n",
    "    plt.colorbar()\n",
    "    \n",
    "    thresh = cm.max() / 1.5 if normalize else cm.max() / 2\n",
    "    \n",
    "    if target_names is not None:\n",
    "        tick_marks = np.arange(len(target_names))\n",
    "        plt.xticks(tick_marks, target_names)\n",
    "        plt.yticks(tick_marks, target_names)\n",
    "        \n",
    "    if labels:\n",
    "        for i, j in itertools.product(range(cm.shape[0]), range(cm.shape[1])):\n",
    "            if normalize:\n",
    "                plt.text(j, i, \"{:0.4f}\".format(cm[i, j]), horizontalalignment = 'center', color = 'white' if cm[i, j] > thresh else 'black', fontsize = 20)\n",
    "            else:\n",
    "                plt.text(j, i, \"{:,}\".format(cm[i, j]), horizontalalignment = 'center', color = 'white' if cm[i, j] > thresh else 'black', fontsize = 20)\n",
    "    \n",
    "    plt.tight_layout()\n",
    "    plt.ylabel('True label')\n",
    "    plt.xlabel('Predicted label\\naccuracy = {:0.4f}; misclass = {:0.4f}'.format(accuracy, misclass))\n",
    "    plt.axis('equal')\n",
    "    plt.show()\n",
    "    \n",
    "def save_weight(filename = 'weights.txt', mode = 'a+', weight = []):\n",
    "    with open(filename, mode) as file:\n",
    "        file.write(f'{number_negative_class, number_positive_class}:')\n",
    "        for p in w:\n",
    "            file.write(f'{p},')\n",
    "        file.write('\\n')\n",
    "        \n",
    "def retrieve_weights_from_file(filename = 'weights.txt', full = False):\n",
    "    with open(filename, 'r+') as file:\n",
    "        lines = file.readlines()\n",
    "        \n",
    "        cuadratic = lambda w : int(np.abs((1 - np.sqrt(1 + 8 * w)) / 2))\n",
    "        \n",
    "        nc = int(np.sqrt(len(lines))) if full else cuadratic(len(lines))\n",
    "        \n",
    "        weights_matrix = np.empty((nc, nc), dtype = object)\n",
    "    \n",
    "        #print(weights_matrix)\n",
    "    \n",
    "        for line in lines:\n",
    "            #print(line, end = '\\n')\n",
    "            xy, peso = line.split(sep = ':')[0], line.split(sep = ':')[1]\n",
    "            weight = np.array(list(map(int , peso.split(sep = ',')[:-1])))\n",
    "            coordinates = [int(c) for c in xy if c.isdigit()]\n",
    "            #print(f'Coordenates: {coordinates[0], coordinates[1]}, weight: {weight}')\n",
    "            weights_matrix[coordinates[0]][coordinates[1]] = weight\n",
    "            if not full:\n",
    "                weights_matrix[coordinates[1]][coordinates[0]] = weight\n",
    "    \n",
    "        #print(weights_matrix)\n",
    "    return weights_matrix\n",
    "\n",
    "def retrieve_weights_from_file_total(filename = 'weights.txt'):\n",
    "    with open(filename, 'r+') as file:\n",
    "        lines = file.readlines()\n",
    "        \n",
    "        weights_vector = []\n",
    "        \n",
    "        for line in lines:\n",
    "            xy, peso = line.split(sep = ':')[0], line.split(sep = ':')[1]\n",
    "            weight = np.array(list(map(int , peso.split(sep = ',')[:-1])))\n",
    "            weights_vector.append(weight)\n",
    "            \n",
    "        \n",
    "    return np.array(weights_vector)\n",
    "\n",
    "def print_weights_matrix(weights_matrix):\n",
    "    n_classes = weights_matrix.shape[0]\n",
    "    fig, axs = plt.subplots(2, n_classes // 2, figsize=(20, 10))\n",
    "    count = 0\n",
    "\n",
    "    for i in range(2):\n",
    "        for j in range(n_classes // 2):\n",
    "            ax = axs[i][j]\n",
    "        \n",
    "            #c = ax.pcolor(thetas[i + j][1:].reshape(28, 28), cmap = 'gray')\n",
    "            try:\n",
    "                c = ax.imshow(weights_matrix[i * 5 + j].reshape(16, 16), cmap = 'gray_r', interpolation='nearest')\n",
    "                ax.axis('off')\n",
    "                ax.axis('equal')\n",
    "                ax.set_title(f'Weight vector for {i * 5 + j}').set_position([0.5, 0.9])\n",
    "                count += 1\n",
    "            except IndexError:\n",
    "                continue\n",
    "        \n",
    "    fig.tight_layout()\n",
    "    plt.colorbar(c)\n",
    "    plt.show()\n",
    "    \n",
    "def multi_class_prediction_OVA(qubits = 1, classification_patterns = np.array([[1]]), shots = 64, test_threshold = 0.35, weights_matrix = np.zeros((1,1)), bias = 0):\n",
    "\n",
    "    # Declaring and populating the Classification Matrix\n",
    "\n",
    "    patterns = len(classification_patterns)\n",
    "    holder_for_classes = np.zeros((patterns, 10), dtype = 'int64')\n",
    "    holder_for_readouts = np.zeros((patterns, 10), dtype = 'float64')\n",
    "    \n",
    "    '''for i, x in enumerate(classification_patterns):\n",
    "        for j, w in enumerate(weights_matrix):\n",
    "            asigned_class, read_out = predict(qubits = Q, X_test = [x], negative_class = j, positive_class = 10, shots = shots, threshold = test_threshold, w = weights_matrix[j], bias = bias)\n",
    "            holder_for_classes[i, j] = asigned_class\n",
    "            holder_for_readouts[i, j] = read_out'''\n",
    "            \n",
    "    for i, w in enumerate(weights_matrix):\n",
    "        asigned_class, read_out = predict(qubits = Q, X_test = classification_patterns, negative_class = i, positive_class = 10, shots = shots, threshold = test_threshold, w = weights_matrix[i], bias = bias)\n",
    "        holder_for_classes[: ,i] = asigned_class\n",
    "        holder_for_readouts[:, i] = read_out\n",
    "    \n",
    "    return holder_for_classes, holder_for_readouts"
   ]
  },
  {
   "cell_type": "markdown",
   "metadata": {
    "heading_collapsed": true
   },
   "source": [
    "# Training binary imbalanced classifiers $SemeionHandwrittenDigit$"
   ]
  },
  {
   "cell_type": "code",
   "execution_count": 181,
   "metadata": {
    "ExecuteTime": {
     "end_time": "2020-10-08T02:16:41.328513Z",
     "start_time": "2020-10-08T02:16:41.101120Z"
    },
    "hidden": true
   },
   "outputs": [],
   "source": [
    "data = np.loadtxt(\"C:/Users/jeff_/OneDrive - Instituto Politecnico Nacional/Datasets/Semeion Handwritten Digit Data Set/semeion.data\")"
   ]
  },
  {
   "cell_type": "code",
   "execution_count": 182,
   "metadata": {
    "ExecuteTime": {
     "end_time": "2020-10-08T02:16:41.335494Z",
     "start_time": "2020-10-08T02:16:41.331505Z"
    },
    "hidden": true
   },
   "outputs": [],
   "source": [
    "images = data[:,:-10]\n",
    "labels_oh = data[:,-10:]"
   ]
  },
  {
   "cell_type": "code",
   "execution_count": 183,
   "metadata": {
    "ExecuteTime": {
     "end_time": "2020-10-08T02:16:41.568647Z",
     "start_time": "2020-10-08T02:16:41.564657Z"
    },
    "hidden": true
   },
   "outputs": [],
   "source": [
    "targets = np.argmax(labels_oh, axis = 1)"
   ]
  },
  {
   "cell_type": "code",
   "execution_count": 184,
   "metadata": {
    "ExecuteTime": {
     "end_time": "2020-10-08T02:16:42.137269Z",
     "start_time": "2020-10-08T02:16:42.132317Z"
    },
    "hidden": true
   },
   "outputs": [
    {
     "name": "stdout",
     "output_type": "stream",
     "text": [
      "Total count for digits: Counter({1: 162, 0: 161, 4: 161, 6: 161, 2: 159, 3: 159, 5: 159, 7: 158, 9: 158, 8: 155})\n"
     ]
    }
   ],
   "source": [
    "targets_count = Counter(targets)\n",
    "print(f'Total count for digits: {targets_count}')"
   ]
  },
  {
   "cell_type": "code",
   "execution_count": 185,
   "metadata": {
    "ExecuteTime": {
     "end_time": "2020-10-08T02:16:42.902209Z",
     "start_time": "2020-10-08T02:16:42.700698Z"
    },
    "hidden": true
   },
   "outputs": [],
   "source": [
    "images_and_labels = list(zip(images, targets))\n",
    "for index, (image, label) in enumerate(images_and_labels[45:65]):\n",
    "    plt.subplot(2, 10, index + 1)\n",
    "    plt.axis('off')\n",
    "    plt.imshow(np.round(image / np.max(image)).reshape(16,16), cmap=plt.cm.gray_r, interpolation='nearest')\n",
    "    plt.title('L: %i' % label)"
   ]
  },
  {
   "cell_type": "code",
   "execution_count": 187,
   "metadata": {
    "ExecuteTime": {
     "end_time": "2020-10-08T02:16:47.377087Z",
     "start_time": "2020-10-08T02:16:47.373107Z"
    },
    "hidden": true
   },
   "outputs": [],
   "source": [
    "# Getting 0 and 1 from digits\n",
    "number_negative_class = 9\n",
    "number_positive_class = 10"
   ]
  },
  {
   "cell_type": "code",
   "execution_count": 188,
   "metadata": {
    "ExecuteTime": {
     "end_time": "2020-10-08T02:16:47.664495Z",
     "start_time": "2020-10-08T02:16:47.660506Z"
    },
    "hidden": true
   },
   "outputs": [],
   "source": [
    "targets[targets != number_negative_class] = number_positive_class"
   ]
  },
  {
   "cell_type": "code",
   "execution_count": 189,
   "metadata": {
    "ExecuteTime": {
     "end_time": "2020-10-08T02:16:47.890027Z",
     "start_time": "2020-10-08T02:16:47.885040Z"
    },
    "hidden": true
   },
   "outputs": [
    {
     "name": "stdout",
     "output_type": "stream",
     "text": [
      "Total count for digits: Counter({10: 1435, 9: 158})\n"
     ]
    }
   ],
   "source": [
    "targets_count = Counter(targets)\n",
    "print(f'Total count for digits: {targets_count}')"
   ]
  },
  {
   "cell_type": "code",
   "execution_count": 190,
   "metadata": {
    "ExecuteTime": {
     "end_time": "2020-10-08T02:16:48.107181Z",
     "start_time": "2020-10-08T02:16:48.100206Z"
    },
    "hidden": true
   },
   "outputs": [],
   "source": [
    "# NO SPLITTING FOR RESUSTITUTION ERROR MEASURE\n",
    "X_train = copy(images)\n",
    "X_test = copy(images)\n",
    "Y_train = copy(targets)\n",
    "Y_test = copy(targets)"
   ]
  },
  {
   "cell_type": "code",
   "execution_count": 191,
   "metadata": {
    "ExecuteTime": {
     "end_time": "2020-10-08T02:16:48.518642Z",
     "start_time": "2020-10-08T02:16:48.324162Z"
    },
    "hidden": true
   },
   "outputs": [],
   "source": [
    "images_and_labels = list(zip(X_test, Y_test))\n",
    "for index, (image, label) in enumerate(images_and_labels[10:30]):\n",
    "    plt.subplot(2, 10, index + 1)\n",
    "    plt.axis('off')\n",
    "    plt.imshow(image.reshape(16, 16), cmap=plt.cm.gray_r, interpolation='nearest')\n",
    "    plt.title('T: %i' % label)"
   ]
  },
  {
   "cell_type": "code",
   "execution_count": 192,
   "metadata": {
    "ExecuteTime": {
     "end_time": "2020-10-08T02:16:50.032486Z",
     "start_time": "2020-10-08T02:16:50.028498Z"
    },
    "hidden": true
   },
   "outputs": [],
   "source": [
    "# Reshaping digits\n",
    "X_train = X_train.reshape(X_train.shape[0], -1)\n",
    "X_test = X_test.reshape(X_test.shape[0], -1)"
   ]
  },
  {
   "cell_type": "code",
   "execution_count": 193,
   "metadata": {
    "ExecuteTime": {
     "end_time": "2020-10-08T02:16:50.472896Z",
     "start_time": "2020-10-08T02:16:50.468907Z"
    },
    "hidden": true
   },
   "outputs": [
    {
     "name": "stdout",
     "output_type": "stream",
     "text": [
      "(1593, 256)\n",
      "(1593, 256)\n"
     ]
    }
   ],
   "source": [
    "print(X_train.shape)\n",
    "print(X_test.shape)"
   ]
  },
  {
   "cell_type": "code",
   "execution_count": 194,
   "metadata": {
    "ExecuteTime": {
     "end_time": "2020-10-08T02:16:50.792274Z",
     "start_time": "2020-10-08T02:16:50.788310Z"
    },
    "hidden": true
   },
   "outputs": [
    {
     "data": {
      "text/plain": [
       "'for i in range(len(X_test)):\\n    X_test[i] = np.array(list(map(lambda x : 0 if 0 <= x < 10 else 1, X_test[i])))\\n    \\nfor i in range(len(X_train)):\\n    X_train[i] = np.array(list(map(lambda x : 0 if 0 <= x < 10 else 1, X_train[i])))'"
      ]
     },
     "execution_count": 194,
     "metadata": {},
     "output_type": "execute_result"
    }
   ],
   "source": [
    "# Preprocessing digits by mapping in interval\n",
    "\n",
    "'''for i in range(len(X_test)):\n",
    "    X_test[i] = np.array(list(map(lambda x : 0 if 0 <= x < 10 else 1, X_test[i])))\n",
    "    \n",
    "for i in range(len(X_train)):\n",
    "    X_train[i] = np.array(list(map(lambda x : 0 if 0 <= x < 10 else 1, X_train[i])))'''"
   ]
  },
  {
   "cell_type": "code",
   "execution_count": 195,
   "metadata": {
    "ExecuteTime": {
     "end_time": "2020-10-08T02:16:51.105151Z",
     "start_time": "2020-10-08T02:16:51.101136Z"
    },
    "hidden": true
   },
   "outputs": [
    {
     "data": {
      "text/plain": [
       "'X_train = X_train.tolist()\\nX_test = X_test.tolist()'"
      ]
     },
     "execution_count": 195,
     "metadata": {},
     "output_type": "execute_result"
    }
   ],
   "source": [
    "'''X_train = X_train.tolist()\n",
    "X_test = X_test.tolist()'''"
   ]
  },
  {
   "cell_type": "code",
   "execution_count": 196,
   "metadata": {
    "ExecuteTime": {
     "end_time": "2020-10-08T02:16:51.434112Z",
     "start_time": "2020-10-08T02:16:51.430010Z"
    },
    "hidden": true
   },
   "outputs": [
    {
     "data": {
      "text/plain": [
       "'c = plt.imshow(np.array(X_train[35]).reshape(16, 16))\\nplt.colorbar(c)'"
      ]
     },
     "execution_count": 196,
     "metadata": {},
     "output_type": "execute_result"
    }
   ],
   "source": [
    "'''c = plt.imshow(np.array(X_train[35]).reshape(16, 16))\n",
    "plt.colorbar(c)'''"
   ]
  },
  {
   "cell_type": "markdown",
   "metadata": {
    "heading_collapsed": true,
    "hidden": true
   },
   "source": [
    "## Fitting the classifier"
   ]
  },
  {
   "cell_type": "code",
   "execution_count": 197,
   "metadata": {
    "ExecuteTime": {
     "end_time": "2020-10-08T02:35:14.494524Z",
     "start_time": "2020-10-08T02:16:53.096484Z"
    },
    "hidden": true,
    "scrolled": false
   },
   "outputs": [
    {
     "data": {
      "application/vnd.jupyter.widget-view+json": {
       "model_id": "8cc04107ae7c4e548f8dacfcdbb316d4",
       "version_major": 2,
       "version_minor": 0
      },
      "text/plain": [
       "HBox(children=(FloatProgress(value=0.0, description='Epoches', max=1.0, style=ProgressStyle(description_width=…"
      ]
     },
     "metadata": {},
     "output_type": "display_data"
    },
    {
     "data": {
      "application/vnd.jupyter.widget-view+json": {
       "model_id": "c1691ed2355242aab795e7f8f0b20b05",
       "version_major": 2,
       "version_minor": 0
      },
      "text/plain": [
       "HBox(children=(FloatProgress(value=0.0, description='Training 0', max=1593.0, style=ProgressStyle(description_…"
      ]
     },
     "metadata": {},
     "output_type": "display_data"
    },
    {
     "name": "stdout",
     "output_type": "stream",
     "text": [
      "\n",
      "Errors = 1375 for accuracy of = 0.13684871311989955\n",
      "\n"
     ]
    },
    {
     "data": {
      "application/vnd.jupyter.widget-view+json": {
       "model_id": "0f88b0aa84de47b194522edc645f21c9",
       "version_major": 2,
       "version_minor": 0
      },
      "text/plain": [
       "HBox(children=(FloatProgress(value=0.0, description='Predicting', max=1593.0, style=ProgressStyle(description_…"
      ]
     },
     "metadata": {},
     "output_type": "display_data"
    },
    {
     "name": "stdout",
     "output_type": "stream",
     "text": [
      "\n",
      "acc: 0.20464532328939108, precision: 0.10193826274228285, recall: 0.8987341772151899, f1: 0.1831076724693746\n"
     ]
    }
   ],
   "source": [
    "Q = 8\n",
    "test_threshold = 0.109375\n",
    "rs = 0\n",
    "w = X_train[Y_train == number_negative_class][0].astype(int)\n",
    "#w = np.random.randint(2, size = 2 ** Q)\n",
    "while rs < 0.8:\n",
    "    w, m, weights = fit(qubits = Q, X_train = X_train[:], Y_train = Y_train[:], negative_class = number_negative_class, positive_class = number_positive_class, epochs = 1, shots = 1024, threshold = 0.35, Ip = .8, In = .1, bias = 0.0, weight_passed = w)\n",
    "    classification, readouts = predict(qubits = Q, X_test = X_test, negative_class = number_negative_class, positive_class = number_positive_class, shots = 1024, threshold = test_threshold, w = weights[0], bias = 0.0)\n",
    "    acc = accuracy_score(Y_test, classification)\n",
    "    ps = precision_score(Y_test, classification, average = 'binary', pos_label = number_negative_class)\n",
    "    rs = recall_score(Y_test, classification, average = 'binary', pos_label = number_negative_class)\n",
    "    f1s = f1_score(Y_test, classification, average = 'binary', pos_label = number_negative_class)\n",
    "    print(f'acc: {acc}, precision: {ps}, recall: {rs}, f1: {f1s}')"
   ]
  },
  {
   "cell_type": "code",
   "execution_count": 198,
   "metadata": {
    "ExecuteTime": {
     "end_time": "2020-10-08T02:35:17.000254Z",
     "start_time": "2020-10-08T02:35:14.495522Z"
    },
    "hidden": true
   },
   "outputs": [],
   "source": [
    "from winsound import Beep\n",
    "Beep(100, 500)\n",
    "Beep(100, 500)\n",
    "Beep(100, 1500)"
   ]
  },
  {
   "cell_type": "code",
   "execution_count": 199,
   "metadata": {
    "ExecuteTime": {
     "end_time": "2020-10-08T02:35:17.006130Z",
     "start_time": "2020-10-08T02:35:17.001145Z"
    },
    "hidden": true
   },
   "outputs": [
    {
     "data": {
      "text/plain": [
       "'Q = 6\\nw, m, weights = fit(qubits = Q, X_train = X_train[:], Y_train = Y_train[:], negative_class = number_negative_class, positive_class = number_positive_class, epochs = 1, shots = 1024, threshold = 0.35, Ip = .8, In = .1, bias = 0.0)'"
      ]
     },
     "execution_count": 199,
     "metadata": {},
     "output_type": "execute_result"
    }
   ],
   "source": [
    "'''Q = 6\n",
    "w, m, weights = fit(qubits = Q, X_train = X_train[:], Y_train = Y_train[:], negative_class = number_negative_class, positive_class = number_positive_class, epochs = 1, shots = 1024, threshold = 0.35, Ip = .8, In = .1, bias = 0.0)'''"
   ]
  },
  {
   "cell_type": "code",
   "execution_count": 200,
   "metadata": {
    "ExecuteTime": {
     "end_time": "2020-10-08T02:35:17.089911Z",
     "start_time": "2020-10-08T02:35:17.015106Z"
    },
    "hidden": true,
    "scrolled": true
   },
   "outputs": [
    {
     "data": {
      "text/plain": [
       "<matplotlib.colorbar.Colorbar at 0x15208d91e48>"
      ]
     },
     "execution_count": 200,
     "metadata": {},
     "output_type": "execute_result"
    }
   ],
   "source": [
    "c = plt.imshow(np.array(w).reshape(16, 16), cmap = 'gray_r')\n",
    "plt.colorbar(c)"
   ]
  },
  {
   "cell_type": "markdown",
   "metadata": {
    "heading_collapsed": true,
    "hidden": true
   },
   "source": [
    "## Predicting and evaluating the trained classifier"
   ]
  },
  {
   "cell_type": "code",
   "execution_count": 201,
   "metadata": {
    "ExecuteTime": {
     "end_time": "2020-10-08T02:42:40.533189Z",
     "start_time": "2020-10-08T02:35:17.091901Z"
    },
    "hidden": true
   },
   "outputs": [
    {
     "data": {
      "application/vnd.jupyter.widget-view+json": {
       "model_id": "98576a4551314f96b42a8f9a9d09a400",
       "version_major": 2,
       "version_minor": 0
      },
      "text/plain": [
       "HBox(children=(FloatProgress(value=0.0, description='Predicting', max=1593.0, style=ProgressStyle(description_…"
      ]
     },
     "metadata": {},
     "output_type": "display_data"
    },
    {
     "name": "stdout",
     "output_type": "stream",
     "text": [
      "\n"
     ]
    }
   ],
   "source": [
    "test_threshold = 0.109375\n",
    "classification, readouts = predict(qubits = Q, X_test = X_test, negative_class = number_negative_class, positive_class = number_positive_class, shots = 1024, threshold = test_threshold, w = weights[0], bias = 0.0)"
   ]
  },
  {
   "cell_type": "code",
   "execution_count": 202,
   "metadata": {
    "ExecuteTime": {
     "end_time": "2020-10-08T02:42:40.544137Z",
     "start_time": "2020-10-08T02:42:40.534156Z"
    },
    "hidden": true
   },
   "outputs": [
    {
     "name": "stdout",
     "output_type": "stream",
     "text": [
      "Accuracy = 0.21155053358443188\n",
      "Counts = Counter({10: 199, 9: 138})\n",
      "Confusion Matrix = \n",
      "[[ 138.   20.]\n",
      " [1236.  199.]]\n"
     ]
    }
   ],
   "source": [
    "accuracy, counts, confusion_matriX = evaluate(Y_test, classification, number_negative_class, number_positive_class)\n",
    "print(f'Accuracy = {accuracy}')\n",
    "print(f'Counts = {counts}')\n",
    "print(f'Confusion Matrix = \\n{confusion_matriX}')"
   ]
  },
  {
   "cell_type": "code",
   "execution_count": 203,
   "metadata": {
    "ExecuteTime": {
     "end_time": "2020-10-08T02:42:40.653895Z",
     "start_time": "2020-10-08T02:42:40.546120Z"
    },
    "hidden": true
   },
   "outputs": [],
   "source": [
    "plot_confusion_matrix(confusion_matriX, target_names = np.array([number_negative_class, number_positive_class]), labels = True, normalize = False)"
   ]
  },
  {
   "cell_type": "code",
   "execution_count": 204,
   "metadata": {
    "ExecuteTime": {
     "end_time": "2020-10-08T02:42:40.659880Z",
     "start_time": "2020-10-08T02:42:40.654892Z"
    },
    "hidden": true
   },
   "outputs": [
    {
     "data": {
      "text/plain": [
       "array([[ 138.,   20.],\n",
       "       [1236.,  199.]])"
      ]
     },
     "execution_count": 204,
     "metadata": {},
     "output_type": "execute_result"
    }
   ],
   "source": [
    "confusion_matriX"
   ]
  },
  {
   "cell_type": "code",
   "execution_count": 205,
   "metadata": {
    "ExecuteTime": {
     "end_time": "2020-10-08T02:42:40.666860Z",
     "start_time": "2020-10-08T02:42:40.661875Z"
    },
    "hidden": true
   },
   "outputs": [
    {
     "data": {
      "text/plain": [
       "0.21155053358443188"
      ]
     },
     "execution_count": 205,
     "metadata": {},
     "output_type": "execute_result"
    }
   ],
   "source": [
    "accuracy_score(Y_test, classification)"
   ]
  },
  {
   "cell_type": "code",
   "execution_count": 206,
   "metadata": {
    "ExecuteTime": {
     "end_time": "2020-10-08T02:42:40.676834Z",
     "start_time": "2020-10-08T02:42:40.667858Z"
    },
    "hidden": true
   },
   "outputs": [
    {
     "data": {
      "text/plain": [
       "array([[ 138,   20],\n",
       "       [1236,  199]], dtype=int64)"
      ]
     },
     "execution_count": 206,
     "metadata": {},
     "output_type": "execute_result"
    }
   ],
   "source": [
    "confusion_matrix(Y_test, classification)"
   ]
  },
  {
   "cell_type": "code",
   "execution_count": 207,
   "metadata": {
    "ExecuteTime": {
     "end_time": "2020-10-08T02:42:40.683817Z",
     "start_time": "2020-10-08T02:42:40.677832Z"
    },
    "hidden": true
   },
   "outputs": [
    {
     "data": {
      "text/plain": [
       "0.10043668122270742"
      ]
     },
     "execution_count": 207,
     "metadata": {},
     "output_type": "execute_result"
    }
   ],
   "source": [
    "precision_score(Y_test, classification, average = 'binary', pos_label = number_negative_class)"
   ]
  },
  {
   "cell_type": "code",
   "execution_count": 208,
   "metadata": {
    "ExecuteTime": {
     "end_time": "2020-10-08T02:42:40.690797Z",
     "start_time": "2020-10-08T02:42:40.684814Z"
    },
    "hidden": true
   },
   "outputs": [
    {
     "data": {
      "text/plain": [
       "0.8734177215189873"
      ]
     },
     "execution_count": 208,
     "metadata": {},
     "output_type": "execute_result"
    }
   ],
   "source": [
    "recall_score(Y_test, classification, average = 'binary', pos_label = number_negative_class)"
   ]
  },
  {
   "cell_type": "code",
   "execution_count": 209,
   "metadata": {
    "ExecuteTime": {
     "end_time": "2020-10-08T02:42:40.697777Z",
     "start_time": "2020-10-08T02:42:40.691795Z"
    },
    "hidden": true
   },
   "outputs": [
    {
     "data": {
      "text/plain": [
       "0.18015665796344646"
      ]
     },
     "execution_count": 209,
     "metadata": {},
     "output_type": "execute_result"
    }
   ],
   "source": [
    "f1_score(Y_test, classification, average = 'binary', pos_label = number_negative_class)"
   ]
  },
  {
   "cell_type": "code",
   "execution_count": 210,
   "metadata": {
    "ExecuteTime": {
     "end_time": "2020-10-08T02:42:40.704760Z",
     "start_time": "2020-10-08T02:42:40.698776Z"
    },
    "hidden": true
   },
   "outputs": [
    {
     "data": {
      "text/plain": [
       "0.5045562401547327"
      ]
     },
     "execution_count": 210,
     "metadata": {},
     "output_type": "execute_result"
    }
   ],
   "source": [
    "# Average Precision Score\n",
    "precision_score(Y_test, classification, average = 'macro')"
   ]
  },
  {
   "cell_type": "code",
   "execution_count": 211,
   "metadata": {
    "ExecuteTime": {
     "end_time": "2020-10-08T02:42:40.711741Z",
     "start_time": "2020-10-08T02:42:40.705757Z"
    },
    "hidden": true
   },
   "outputs": [
    {
     "data": {
      "text/plain": [
       "0.5060468398535704"
      ]
     },
     "execution_count": 211,
     "metadata": {},
     "output_type": "execute_result"
    }
   ],
   "source": [
    "# Average Recall Score\n",
    "recall_score(Y_test, classification, average = 'macro')"
   ]
  },
  {
   "cell_type": "code",
   "execution_count": 212,
   "metadata": {
    "ExecuteTime": {
     "end_time": "2020-10-08T02:42:40.718722Z",
     "start_time": "2020-10-08T02:42:40.712738Z"
    },
    "hidden": true
   },
   "outputs": [
    {
     "data": {
      "text/plain": [
       "0.2103927183408526"
      ]
     },
     "execution_count": 212,
     "metadata": {},
     "output_type": "execute_result"
    }
   ],
   "source": [
    "# Average F1 Score\n",
    "f1_score(Y_test, classification, average = 'macro')"
   ]
  },
  {
   "cell_type": "code",
   "execution_count": 213,
   "metadata": {
    "ExecuteTime": {
     "end_time": "2020-10-08T02:42:40.726701Z",
     "start_time": "2020-10-08T02:42:40.719721Z"
    },
    "hidden": true
   },
   "outputs": [
    {
     "data": {
      "text/plain": [
       "'The accuracy is 0.21155053358443188.'"
      ]
     },
     "execution_count": 213,
     "metadata": {},
     "output_type": "execute_result"
    },
    {
     "data": {
      "application/javascript": [
       "$(document).ready(\n",
       "    function() {\n",
       "        function appendUniqueDiv(){\n",
       "            // append a div with our uuid so we can check that it's already\n",
       "            // been sent and avoid duplicates on page reload\n",
       "            var notifiedDiv = document.createElement(\"div\")\n",
       "            notifiedDiv.id = \"5b514d89-aa47-49e1-bbc6-8cb1a3de5574\"\n",
       "            element.append(notifiedDiv)\n",
       "        }\n",
       "\n",
       "        // only send notifications if the pageload is complete; this will\n",
       "        // help stop extra notifications when a saved notebook is loaded,\n",
       "        // which during testing gives us state \"interactive\", not \"complete\"\n",
       "        if (document.readyState === 'complete') {\n",
       "            // check for the div that signifies that the notification\n",
       "            // was already sent\n",
       "            if (document.getElementById(\"5b514d89-aa47-49e1-bbc6-8cb1a3de5574\") === null) {\n",
       "                var notificationPayload = {\"requireInteraction\": false, \"icon\": \"/static/base/images/favicon.ico\", \"body\": \"The accuracy is 0.21155053358443188.\"};\n",
       "                if (Notification.permission !== 'denied') {\n",
       "                    if (Notification.permission !== 'granted') { \n",
       "                        Notification.requestPermission(function (permission) {\n",
       "                            if(!('permission' in Notification)) {\n",
       "                                Notification.permission = permission\n",
       "                            }\n",
       "                        })\n",
       "                    }\n",
       "                    if (Notification.permission === 'granted') {\n",
       "                    var notification = new Notification(\"Jupyter Notebook\", notificationPayload)\n",
       "                    appendUniqueDiv()\n",
       "                    notification.onclick = function () {\n",
       "                        window.focus();\n",
       "                        this.close();\n",
       "                        };\n",
       "                    } \n",
       "                }     \n",
       "            }\n",
       "        }\n",
       "    }\n",
       ")\n"
      ],
      "text/plain": [
       "<IPython.core.display.Javascript object>"
      ]
     },
     "metadata": {},
     "output_type": "display_data"
    }
   ],
   "source": [
    "%%notify -o\n",
    "f'The accuracy is {accuracy}.'"
   ]
  },
  {
   "cell_type": "code",
   "execution_count": 214,
   "metadata": {
    "ExecuteTime": {
     "end_time": "2020-10-08T02:42:40.811474Z",
     "start_time": "2020-10-08T02:42:40.727698Z"
    },
    "hidden": true
   },
   "outputs": [
    {
     "name": "stdout",
     "output_type": "stream",
     "text": [
      "AUC: 0.5060468398535704\n"
     ]
    }
   ],
   "source": [
    "test = [0 if ele == number_negative_class else 1 for ele in Y_test]\n",
    "classi = [0 if ele == number_negative_class else 1 for ele in classification]\n",
    "\n",
    "fpr, tpr, thresholds = roc_curve(test, classi)\n",
    "\n",
    "def ROC_curve(fpr,tpr):\n",
    "    # Seaborn's beautiful styling\n",
    "    sns.set_style('darkgrid', {'axes.facecolor': '0.9'})\n",
    "    print('AUC: {}'.format(auc(fpr, tpr)))\n",
    "    plt.figure(figsize=(10, 8))\n",
    "    lw = 2\n",
    "    plt.plot(fpr, tpr, color='darkorange',\n",
    "             lw=lw, label='ROC curve')\n",
    "    plt.plot([0, 1], [0, 1], color='navy', lw=lw, linestyle='--')\n",
    "    plt.xlim([0.0, 1.0])\n",
    "    plt.ylim([0.0, 1.05])\n",
    "    plt.yticks([i/20.0 for i in range(21)], fontsize = 15)\n",
    "    plt.xticks([i/20.0 for i in range(21)], fontsize = 15)\n",
    "    plt.xlabel('False Positive Rate', fontsize = 20)\n",
    "    plt.ylabel('True Positive Rate', fontsize = 20)\n",
    "    plt.title('Receiver operating characteristic (ROC) Curve', fontsize = 20)\n",
    "    plt.legend(loc='lower right')\n",
    "    plt.show()\n",
    "\n",
    "ROC_curve(fpr,tpr)\n",
    "sns.set_style('white', {'axes.facecolor': '0.9'})"
   ]
  },
  {
   "cell_type": "code",
   "execution_count": 215,
   "metadata": {
    "ExecuteTime": {
     "end_time": "2020-10-08T02:42:40.817458Z",
     "start_time": "2020-10-08T02:42:40.812471Z"
    },
    "hidden": true
   },
   "outputs": [
    {
     "data": {
      "text/plain": [
       "1.0"
      ]
     },
     "execution_count": 215,
     "metadata": {},
     "output_type": "execute_result"
    }
   ],
   "source": [
    "readouts[Y_test == number_negative_class].max()"
   ]
  },
  {
   "cell_type": "code",
   "execution_count": 216,
   "metadata": {
    "ExecuteTime": {
     "end_time": "2020-10-08T02:42:40.824439Z",
     "start_time": "2020-10-08T02:42:40.818457Z"
    },
    "hidden": true
   },
   "outputs": [
    {
     "data": {
      "text/plain": [
       "(1236,)"
      ]
     },
     "execution_count": 216,
     "metadata": {},
     "output_type": "execute_result"
    }
   ],
   "source": [
    "readouts[(readouts < test_threshold) & (Y_test == number_positive_class)].shape"
   ]
  },
  {
   "cell_type": "code",
   "execution_count": 217,
   "metadata": {
    "ExecuteTime": {
     "end_time": "2020-10-08T02:42:40.830424Z",
     "start_time": "2020-10-08T02:42:40.826434Z"
    },
    "hidden": true
   },
   "outputs": [
    {
     "data": {
      "text/plain": [
       "(12,)"
      ]
     },
     "execution_count": 217,
     "metadata": {},
     "output_type": "execute_result"
    }
   ],
   "source": [
    "readouts[(readouts == 1) & (Y_test == number_negative_class)].shape"
   ]
  },
  {
   "cell_type": "markdown",
   "metadata": {
    "heading_collapsed": true,
    "hidden": true
   },
   "source": [
    "## Manual process analysis"
   ]
  },
  {
   "cell_type": "code",
   "execution_count": 218,
   "metadata": {
    "ExecuteTime": {
     "end_time": "2020-10-08T02:49:52.918380Z",
     "start_time": "2020-10-08T02:49:52.913393Z"
    },
    "hidden": true
   },
   "outputs": [
    {
     "data": {
      "text/plain": [
       "array([9, 9, 9, ..., 9, 9, 9])"
      ]
     },
     "execution_count": 218,
     "metadata": {},
     "output_type": "execute_result"
    }
   ],
   "source": [
    "classification.astype(int)"
   ]
  },
  {
   "cell_type": "code",
   "execution_count": 219,
   "metadata": {
    "ExecuteTime": {
     "end_time": "2020-10-08T02:49:53.130446Z",
     "start_time": "2020-10-08T02:49:53.126424Z"
    },
    "hidden": true
   },
   "outputs": [
    {
     "data": {
      "text/plain": [
       "array([10, 10, 10, ...,  9,  9,  9], dtype=int64)"
      ]
     },
     "execution_count": 219,
     "metadata": {},
     "output_type": "execute_result"
    }
   ],
   "source": [
    "Y_test"
   ]
  },
  {
   "cell_type": "code",
   "execution_count": 220,
   "metadata": {
    "ExecuteTime": {
     "end_time": "2020-10-08T02:49:53.353790Z",
     "start_time": "2020-10-08T02:49:53.349801Z"
    },
    "hidden": true
   },
   "outputs": [
    {
     "name": "stdout",
     "output_type": "stream",
     "text": [
      "[   0    1    2 ... 1571 1574 1579]\n"
     ]
    }
   ],
   "source": [
    "fails = np.where(classification != Y_test)[0]\n",
    "print(fails)"
   ]
  },
  {
   "cell_type": "code",
   "execution_count": 221,
   "metadata": {
    "ExecuteTime": {
     "end_time": "2020-10-08T02:49:55.132738Z",
     "start_time": "2020-10-08T02:49:54.951224Z"
    },
    "hidden": true
   },
   "outputs": [
    {
     "name": "stdout",
     "output_type": "stream",
     "text": [
      "0.0625\n",
      "0.03515625\n",
      "0.0244140625\n",
      "0.070556640625\n",
      "0.00738525390625\n",
      "0.05133056640625\n",
      "0.04449462890625\n",
      "0.03515625\n",
      "0.0625\n",
      "0.05133056640625\n",
      "0.03515625\n",
      "0.019775390625\n",
      "0.00494384765625\n",
      "0.0087890625\n",
      "0.06646728515625\n",
      "0.02691650390625\n",
      "0.00390625\n",
      "0.041259765625\n",
      "0.015625\n",
      "0.088134765625\n",
      "0.02203369140625\n",
      "0.02203369140625\n",
      "0.00152587890625\n",
      "0.011962890625\n",
      "0.02203369140625\n",
      "0.01763916015625\n",
      "0.01763916015625\n",
      "0.01373291015625\n",
      "0.03228759765625\n",
      "0.01031494140625\n",
      "0.015625\n",
      "0.03814697265625\n",
      "0.01031494140625\n",
      "6.103515625e-05\n",
      "0.03814697265625\n",
      "0.03515625\n",
      "0.019775390625\n",
      "0.00494384765625\n",
      "0.02203369140625\n",
      "0.03228759765625\n",
      "0.01763916015625\n",
      "0.02691650390625\n",
      "0.006103515625\n",
      "0.00054931640625\n",
      "0.011962890625\n",
      "0.0009765625\n",
      "0.03228759765625\n",
      "0.006103515625\n",
      "0.006103515625\n",
      "0.00299072265625\n",
      "0.0009765625\n",
      "0.0244140625\n",
      "0.0087890625\n",
      "0.00152587890625\n",
      "0.006103515625\n",
      "0.05865478515625\n",
      "0.006103515625\n",
      "0.011962890625\n",
      "0.00054931640625\n",
      "0.015625\n",
      "0.05133056640625\n",
      "0.01031494140625\n",
      "0.000244140625\n",
      "0.00152587890625\n",
      "0.00299072265625\n",
      "0.00494384765625\n",
      "0.04449462890625\n",
      "0.00152587890625\n",
      "0.00152587890625\n",
      "0.0244140625\n",
      "0.02203369140625\n",
      "0.00738525390625\n",
      "0.019775390625\n",
      "0.00738525390625\n",
      "0.002197265625\n",
      "0.01373291015625\n",
      "0.00738525390625\n",
      "0.01763916015625\n",
      "0.02203369140625\n",
      "0.00299072265625\n",
      "0.00299072265625\n",
      "0.00390625\n",
      "0.019775390625\n",
      "0.02691650390625\n",
      "0.03228759765625\n",
      "0.019775390625\n",
      "0.00152587890625\n",
      "0.01373291015625\n",
      "0.02691650390625\n",
      "0.019775390625\n",
      "0.02203369140625\n",
      "0.0087890625\n",
      "0.03515625\n",
      "0.015625\n",
      "0.03228759765625\n",
      "0.00390625\n",
      "0.03228759765625\n",
      "0.00299072265625\n",
      "0.015625\n",
      "0.0625\n",
      "0.041259765625\n",
      "0.002197265625\n",
      "0.041259765625\n",
      "0.006103515625\n",
      "0.0244140625\n",
      "0.03228759765625\n",
      "0.02691650390625\n",
      "0.03814697265625\n",
      "0.00299072265625\n",
      "0.02203369140625\n",
      "0.002197265625\n",
      "0.011962890625\n",
      "0.0087890625\n",
      "0.0009765625\n",
      "0.006103515625\n",
      "0.002197265625\n",
      "0.00299072265625\n",
      "0.0009765625\n",
      "0.015625\n",
      "0.000244140625\n",
      "0.006103515625\n",
      "0.0791015625\n",
      "0.00738525390625\n",
      "0.011962890625\n",
      "0.088134765625\n",
      "0.01031494140625\n",
      "0.04449462890625\n",
      "0.0009765625\n",
      "0.015625\n",
      "0.015625\n",
      "0.03228759765625\n",
      "0.00494384765625\n",
      "0.00390625\n",
      "0.01763916015625\n",
      "0.04449462890625\n",
      "0.04449462890625\n",
      "0.054931640625\n",
      "0.01031494140625\n",
      "0.019775390625\n",
      "0.09283447265625\n",
      "0.02691650390625\n",
      "0.03228759765625\n",
      "0.015625\n",
      "0.01373291015625\n",
      "0.0478515625\n",
      "0.04449462890625\n",
      "0.05133056640625\n",
      "0.03515625\n",
      "0.01373291015625\n",
      "0.070556640625\n",
      "0.054931640625\n",
      "0.08355712890625\n",
      "0.011962890625\n",
      "6.103515625e-05\n",
      "6.103515625e-05\n",
      "6.103515625e-05\n",
      "0.0244140625\n",
      "0.019775390625\n",
      "0.0625\n",
      "0.0625\n",
      "0.04449462890625\n",
      "0.03228759765625\n",
      "0.05133056640625\n",
      "0.02691650390625\n",
      "0.006103515625\n",
      "0.05865478515625\n",
      "0.03814697265625\n",
      "0.09765625\n",
      "0.019775390625\n",
      "0.05865478515625\n",
      "0.0244140625\n",
      "0.0244140625\n",
      "0.03814697265625\n",
      "0.03515625\n",
      "0.0244140625\n",
      "0.019775390625\n",
      "0.011962890625\n",
      "0.0087890625\n",
      "0.03515625\n",
      "0.041259765625\n",
      "0.02691650390625\n",
      "0.0244140625\n",
      "0.0244140625\n",
      "0.00738525390625\n",
      "0.00494384765625\n",
      "0.015625\n",
      "0.02203369140625\n",
      "0.03814697265625\n",
      "0.03228759765625\n",
      "0.0087890625\n",
      "0.00738525390625\n",
      "0.0244140625\n",
      "0.03515625\n",
      "0.03515625\n",
      "0.00299072265625\n",
      "0.0087890625\n",
      "0.006103515625\n",
      "0.0791015625\n",
      "0.006103515625\n",
      "0.00494384765625\n",
      "0.01373291015625\n",
      "0.05133056640625\n",
      "0.00152587890625\n",
      "0.00054931640625\n",
      "0.01031494140625\n",
      "0.00390625\n",
      "0.0625\n",
      "0.01031494140625\n",
      "0.00494384765625\n",
      "0.00738525390625\n",
      "0.01763916015625\n",
      "0.00738525390625\n",
      "0.08355712890625\n",
      "0.04449462890625\n",
      "0.01031494140625\n",
      "0.006103515625\n",
      "0.00299072265625\n",
      "0.00152587890625\n",
      "0.00738525390625\n",
      "0.01031494140625\n",
      "0.002197265625\n",
      "0.00390625\n",
      "0.00299072265625\n",
      "0.011962890625\n",
      "0.011962890625\n",
      "0.011962890625\n",
      "0.029541015625\n",
      "0.00299072265625\n",
      "0.02203369140625\n",
      "0.015625\n",
      "0.00738525390625\n",
      "0.006103515625\n",
      "0.0244140625\n",
      "0.002197265625\n",
      "0.00390625\n",
      "0.03515625\n",
      "0.00738525390625\n",
      "0.015625\n",
      "0.00738525390625\n",
      "0.01373291015625\n",
      "0.015625\n",
      "0.03515625\n",
      "0.01031494140625\n",
      "0.01763916015625\n",
      "0.02203369140625\n",
      "0.03515625\n",
      "0.01031494140625\n",
      "0.03228759765625\n",
      "0.02691650390625\n",
      "0.006103515625\n",
      "0.00494384765625\n",
      "6.103515625e-05\n",
      "0.0625\n",
      "0.03515625\n",
      "0.019775390625\n",
      "0.03814697265625\n",
      "0.00738525390625\n",
      "0.019775390625\n",
      "0.0478515625\n",
      "0.03228759765625\n",
      "0.00494384765625\n",
      "0.02691650390625\n",
      "0.00390625\n",
      "0.00494384765625\n",
      "0.0009765625\n",
      "0.011962890625\n",
      "0.00390625\n",
      "0.0009765625\n",
      "0.00738525390625\n",
      "0.002197265625\n",
      "0.029541015625\n",
      "0.00494384765625\n",
      "0.00054931640625\n",
      "0.00054931640625\n",
      "0.02691650390625\n",
      "0.09765625\n",
      "0.03515625\n",
      "0.05133056640625\n",
      "0.015625\n",
      "0.05133056640625\n",
      "0.02203369140625\n",
      "0.02203369140625\n",
      "0.006103515625\n",
      "0.0009765625\n",
      "0.02691650390625\n",
      "0.002197265625\n",
      "0.015625\n",
      "0.011962890625\n",
      "0.01763916015625\n",
      "0.02691650390625\n",
      "0.006103515625\n",
      "0.0478515625\n",
      "0.0009765625\n",
      "0.01763916015625\n",
      "0.02203369140625\n",
      "0.0478515625\n",
      "0.0244140625\n",
      "0.03814697265625\n",
      "0.03814697265625\n",
      "0.05133056640625\n",
      "0.03515625\n",
      "0.041259765625\n",
      "0.088134765625\n",
      "0.00494384765625\n",
      "0.02691650390625\n",
      "0.05133056640625\n",
      "0.03515625\n",
      "0.00738525390625\n",
      "0.054931640625\n",
      "0.03814697265625\n",
      "0.070556640625\n",
      "0.0625\n",
      "0.029541015625\n",
      "0.00054931640625\n",
      "0.17144775390625\n",
      "0.029541015625\n",
      "0.00299072265625\n",
      "0.0244140625\n",
      "0.01373291015625\n",
      "0.05133056640625\n",
      "0.03515625\n",
      "0.0625\n",
      "0.02691650390625\n",
      "0.03515625\n",
      "0.015625\n",
      "0.06646728515625\n",
      "0.015625\n",
      "0.05133056640625\n",
      "0.04449462890625\n",
      "0.05133056640625\n",
      "0.041259765625\n",
      "0.03814697265625\n",
      "0.088134765625\n",
      "0.05865478515625\n",
      "0.070556640625\n",
      "0.01763916015625\n",
      "0.0009765625\n",
      "0.03814697265625\n",
      "0.01031494140625\n",
      "0.00494384765625\n",
      "0.029541015625\n",
      "0.02691650390625\n",
      "0.00152587890625\n",
      "0.029541015625\n",
      "0.002197265625\n",
      "0.011962890625\n",
      "0.02203369140625\n",
      "0.00390625\n",
      "0.02691650390625\n",
      "0.0087890625\n",
      "0.0244140625\n",
      "0.03515625\n",
      "0.01763916015625\n",
      "0.01763916015625\n",
      "0.00738525390625\n",
      "0.015625\n",
      "0.015625\n",
      "0.00494384765625\n",
      "0.00390625\n",
      "0.0009765625\n",
      "0.002197265625\n",
      "0.00152587890625\n",
      "0.01373291015625\n",
      "0.00494384765625\n",
      "0.041259765625\n",
      "0.01031494140625\n",
      "0.02203369140625\n",
      "0.002197265625\n",
      "0.03228759765625\n",
      "0.01031494140625\n",
      "0.006103515625\n",
      "0.00054931640625\n",
      "0.011962890625\n",
      "0.002197265625\n",
      "0.0478515625\n",
      "0.01031494140625\n",
      "0.0087890625\n",
      "0.01763916015625\n",
      "0.0244140625\n",
      "0.00738525390625\n",
      "0.00299072265625\n",
      "0.01763916015625\n",
      "0.0009765625\n",
      "0.03814697265625\n",
      "0.015625\n",
      "0.00299072265625\n",
      "0.00390625\n",
      "0.0244140625\n",
      "0.002197265625\n",
      "0.011962890625\n",
      "0.00152587890625\n",
      "0.015625\n",
      "0.041259765625\n",
      "0.00390625\n",
      "0.00299072265625\n",
      "0.02203369140625\n",
      "0.019775390625\n",
      "0.0009765625\n",
      "0.02691650390625\n",
      "0.02691650390625\n",
      "0.04449462890625\n",
      "0.00152587890625\n",
      "0.002197265625\n",
      "0.00390625\n",
      "0.03228759765625\n",
      "0.011962890625\n",
      "0.019775390625\n",
      "0.00738525390625\n",
      "0.006103515625\n",
      "0.03228759765625\n",
      "0.0478515625\n",
      "0.02203369140625\n",
      "0.011962890625\n",
      "0.029541015625\n",
      "0.0478515625\n",
      "0.03228759765625\n",
      "0.0009765625\n",
      "0.054931640625\n",
      "0.015625\n",
      "0.09283447265625\n",
      "0.002197265625\n",
      "0.0087890625\n",
      "0.07476806640625\n",
      "0.019775390625\n",
      "0.054931640625\n",
      "0.011962890625\n",
      "0.0087890625\n",
      "0.01031494140625\n",
      "0.015625\n",
      "0.00494384765625\n",
      "0.00299072265625\n",
      "0.00299072265625\n",
      "0.006103515625\n",
      "0.00152587890625\n",
      "0.02691650390625\n",
      "0.002197265625\n",
      "0.0009765625\n",
      "0.00054931640625\n",
      "0.01373291015625\n",
      "0.00738525390625\n",
      "0.006103515625\n",
      "0.0087890625\n",
      "0.03228759765625\n",
      "0.01031494140625\n",
      "0.002197265625\n",
      "0.006103515625\n",
      "0.006103515625\n",
      "0.011962890625\n",
      "0.006103515625\n",
      "0.02203369140625\n",
      "0.00390625\n",
      "0.05133056640625\n",
      "0.00390625\n",
      "0.00152587890625\n",
      "0.00494384765625\n",
      "0.041259765625\n",
      "0.03515625\n",
      "0.054931640625\n",
      "0.0244140625\n",
      "0.041259765625\n",
      "0.011962890625\n",
      "0.029541015625\n",
      "0.070556640625\n",
      "0.0478515625\n",
      "0.019775390625\n",
      "0.041259765625\n",
      "0.0244140625\n",
      "0.01763916015625\n",
      "0.0478515625\n",
      "0.00390625\n",
      "0.14654541015625\n",
      "0.000244140625\n",
      "0.06646728515625\n",
      "0.041259765625\n",
      "0.006103515625\n",
      "0.00152587890625\n",
      "0.05133056640625\n",
      "0.00494384765625\n",
      "0.0087890625\n",
      "0.0625\n",
      "0.029541015625\n",
      "0.06646728515625\n",
      "0.00299072265625\n",
      "0.07476806640625\n",
      "0.00738525390625\n",
      "0.015625\n",
      "0.054931640625\n",
      "0.06646728515625\n",
      "0.070556640625\n",
      "0.03515625\n",
      "0.05865478515625\n",
      "0.015625\n",
      "0.0244140625\n",
      "0.02203369140625\n",
      "0.04449462890625\n",
      "0.029541015625\n",
      "0.0244140625\n",
      "0.02691650390625\n",
      "0.0087890625\n",
      "0.01763916015625\n",
      "0.03515625\n",
      "0.00299072265625\n",
      "0.015625\n",
      "0.0087890625\n",
      "0.00152587890625\n",
      "0.02203369140625\n",
      "0.00494384765625\n",
      "0.00299072265625\n",
      "0.0087890625\n",
      "0.00494384765625\n",
      "0.070556640625\n",
      "0.04449462890625\n",
      "0.0087890625\n",
      "0.0087890625\n",
      "0.00494384765625\n",
      "0.00152587890625\n",
      "0.0009765625\n",
      "0.054931640625\n",
      "0.01763916015625\n",
      "0.0087890625\n",
      "0.0791015625\n",
      "0.019775390625\n",
      "0.05865478515625\n",
      "0.002197265625\n",
      "0.02203369140625\n",
      "0.00299072265625\n",
      "0.03515625\n",
      "0.015625\n",
      "0.01763916015625\n",
      "0.00152587890625\n",
      "0.029541015625\n",
      "0.03814697265625\n",
      "0.0625\n",
      "0.002197265625\n",
      "0.00494384765625\n",
      "0.02691650390625\n",
      "0.0087890625\n",
      "0.006103515625\n",
      "0.019775390625\n",
      "0.00494384765625\n",
      "0.029541015625\n",
      "0.011962890625\n",
      "0.0009765625\n",
      "0.0244140625\n",
      "0.00494384765625\n",
      "0.0244140625\n",
      "0.015625\n",
      "0.03814697265625\n",
      "0.09765625\n",
      "0.00738525390625\n",
      "0.00390625\n",
      "0.002197265625\n",
      "0.019775390625\n",
      "0.02203369140625\n",
      "0.03515625\n",
      "0.01031494140625\n",
      "0.0087890625\n",
      "0.0244140625\n",
      "0.00299072265625\n",
      "0.002197265625\n",
      "0.02691650390625\n",
      "0.03515625\n",
      "0.011962890625\n",
      "0.00299072265625\n",
      "0.00054931640625\n",
      "0.00299072265625\n",
      "0.03515625\n",
      "0.02203369140625\n",
      "0.0087890625\n",
      "0.01373291015625\n",
      "0.002197265625\n",
      "0.070556640625\n",
      "0.04449462890625\n",
      "0.01373291015625\n",
      "0.09283447265625\n",
      "0.02203369140625\n",
      "0.00152587890625\n",
      "0.00299072265625\n",
      "0.03515625\n",
      "0.02691650390625\n",
      "0.000244140625\n",
      "0.01763916015625\n",
      "0.041259765625\n",
      "0.019775390625\n",
      "0.05133056640625\n",
      "0.0009765625\n",
      "0.03228759765625\n",
      "0.011962890625\n",
      "0.02203369140625\n",
      "0.0244140625\n",
      "0.00390625\n",
      "0.00390625\n",
      "0.03814697265625\n",
      "0.02203369140625\n",
      "0.02203369140625\n",
      "0.00738525390625\n",
      "0.00299072265625\n",
      "0.00738525390625\n",
      "0.02203369140625\n",
      "0.00494384765625\n",
      "0.029541015625\n",
      "0.00738525390625\n",
      "0.00494384765625\n",
      "0.06646728515625\n",
      "0.0244140625\n",
      "0.0244140625\n",
      "0.03515625\n",
      "0.054931640625\n",
      "0.06646728515625\n",
      "0.05865478515625\n",
      "0.01763916015625\n",
      "0.041259765625\n",
      "0.02691650390625\n",
      "0.09765625\n",
      "0.08355712890625\n",
      "0.070556640625\n",
      "0.0244140625\n",
      "0.02203369140625\n",
      "0.00152587890625\n",
      "0.05865478515625\n",
      "0.041259765625\n",
      "0.14654541015625\n",
      "6.103515625e-05\n",
      "0.029541015625\n",
      "0.07476806640625\n",
      "0.0625\n",
      "0.011962890625\n",
      "0.01373291015625\n",
      "0.02691650390625\n",
      "0.02203369140625\n",
      "0.05133056640625\n",
      "0.02203369140625\n",
      "0.070556640625\n",
      "0.015625\n",
      "0.041259765625\n",
      "0.05133056640625\n",
      "0.03515625\n",
      "0.0791015625\n",
      "0.0244140625\n",
      "0.02203369140625\n",
      "0.05133056640625\n",
      "0.03515625\n",
      "0.02203369140625\n",
      "0.041259765625\n",
      "0.05865478515625\n",
      "0.10260009765625\n",
      "0.029541015625\n",
      "0.015625\n",
      "0.015625\n",
      "0.03515625\n",
      "0.03228759765625\n",
      "0.041259765625\n",
      "0.054931640625\n",
      "0.011962890625\n",
      "0.015625\n",
      "0.070556640625\n",
      "0.0478515625\n",
      "0.0478515625\n",
      "0.041259765625\n",
      "0.0244140625\n",
      "0.03228759765625\n",
      "0.0478515625\n",
      "0.03228759765625\n",
      "0.03515625\n",
      "0.011962890625\n",
      "0.002197265625\n",
      "0.00494384765625\n",
      "0.03515625\n",
      "0.019775390625\n",
      "0.015625\n",
      "0.041259765625\n",
      "0.02203369140625\n",
      "0.02203369140625\n",
      "0.015625\n",
      "0.029541015625\n",
      "0.03515625\n",
      "0.002197265625\n",
      "0.07476806640625\n",
      "0.0087890625\n",
      "0.01031494140625\n",
      "0.011962890625\n",
      "0.03814697265625\n",
      "0.00299072265625\n",
      "0.00494384765625\n",
      "0.00299072265625\n",
      "0.02203369140625\n",
      "0.03515625\n",
      "0.01763916015625\n",
      "0.0478515625\n",
      "0.0009765625\n",
      "0.015625\n",
      "0.00390625\n",
      "0.0244140625\n",
      "0.01763916015625\n",
      "0.00738525390625\n",
      "0.03228759765625\n",
      "0.03228759765625\n",
      "0.00738525390625\n",
      "0.02203369140625\n",
      "0.0625\n",
      "0.041259765625\n",
      "0.0244140625\n",
      "0.01031494140625\n",
      "0.0244140625\n",
      "0.03228759765625\n",
      "0.01373291015625\n",
      "0.00054931640625\n",
      "0.029541015625\n",
      "0.00494384765625\n",
      "0.002197265625\n",
      "0.019775390625\n",
      "0.000244140625\n",
      "0.01763916015625\n",
      "0.05133056640625\n",
      "0.011962890625\n",
      "0.01373291015625\n",
      "0.00299072265625\n",
      "0.00299072265625\n",
      "0.070556640625\n",
      "0.019775390625\n",
      "0.002197265625\n",
      "0.006103515625\n",
      "0.0009765625\n",
      "0.0009765625\n",
      "0.03228759765625\n",
      "0.0244140625\n",
      "0.00494384765625\n",
      "0.0009765625\n",
      "0.02203369140625\n",
      "0.00152587890625\n",
      "0.029541015625\n",
      "0.041259765625\n",
      "0.002197265625\n",
      "0.000244140625\n",
      "0.05133056640625\n",
      "0.00738525390625\n",
      "0.00299072265625\n",
      "0.00152587890625\n",
      "0.01373291015625\n",
      "0.00494384765625\n",
      "0.0009765625\n",
      "0.029541015625\n",
      "0.00152587890625\n",
      "0.002197265625\n",
      "0.00152587890625\n",
      "0.00494384765625\n",
      "0.00054931640625\n",
      "0.01763916015625\n",
      "0.00054931640625\n",
      "0.002197265625\n",
      "0.00738525390625\n",
      "0.0009765625\n",
      "0.00152587890625\n",
      "0.00299072265625\n",
      "0.00054931640625\n",
      "0.00299072265625\n",
      "0.00494384765625\n",
      "0.00152587890625\n",
      "0.0087890625\n",
      "0.01031494140625\n",
      "0.006103515625\n",
      "0.00299072265625\n",
      "0.01373291015625\n",
      "0.0244140625\n",
      "0.02203369140625\n",
      "0.00494384765625\n",
      "0.0087890625\n",
      "0.0087890625\n",
      "0.011962890625\n",
      "0.00494384765625\n",
      "0.01031494140625\n",
      "0.002197265625\n",
      "0.01031494140625\n",
      "0.015625\n",
      "0.006103515625\n",
      "0.01031494140625\n",
      "0.00152587890625\n",
      "0.006103515625\n",
      "0.00152587890625\n",
      "0.015625\n",
      "0.05133056640625\n",
      "0.054931640625\n",
      "0.006103515625\n",
      "0.0087890625\n",
      "0.00494384765625\n",
      "0.00494384765625\n",
      "0.01763916015625\n",
      "0.00494384765625\n",
      "0.0087890625\n",
      "0.00738525390625\n",
      "0.029541015625\n",
      "0.00054931640625\n",
      "0.06646728515625\n",
      "0.00738525390625\n",
      "0.0244140625\n",
      "0.00390625\n",
      "0.01373291015625\n",
      "0.00738525390625\n",
      "0.0244140625\n",
      "0.015625\n",
      "0.04449462890625\n",
      "0.00738525390625\n",
      "0.00738525390625\n",
      "0.00152587890625\n",
      "0.01031494140625\n",
      "0.07476806640625\n",
      "0.01031494140625\n",
      "0.015625\n",
      "0.00152587890625\n",
      "0.011962890625\n",
      "0.019775390625\n",
      "0.00738525390625\n",
      "0.00152587890625\n",
      "0.03814697265625\n",
      "0.019775390625\n",
      "0.03814697265625\n",
      "0.029541015625\n",
      "0.0087890625\n",
      "0.09283447265625\n",
      "0.03814697265625\n",
      "0.06646728515625\n",
      "0.0478515625\n",
      "0.000244140625\n",
      "0.01031494140625\n",
      "0.00390625\n",
      "0.00299072265625\n",
      "0.01373291015625\n",
      "0.015625\n",
      "0.0244140625\n",
      "0.03515625\n",
      "0.00152587890625\n",
      "0.01031494140625\n",
      "0.002197265625\n",
      "0.00738525390625\n",
      "0.02203369140625\n",
      "0.00152587890625\n",
      "0.006103515625\n",
      "0.0244140625\n",
      "0.00494384765625\n",
      "0.01373291015625\n",
      "0.0244140625\n",
      "0.006103515625\n",
      "0.00299072265625\n",
      "0.002197265625\n",
      "0.0478515625\n",
      "0.00390625\n",
      "0.03515625\n",
      "0.03814697265625\n",
      "0.0478515625\n",
      "0.019775390625\n",
      "0.029541015625\n",
      "0.00299072265625\n",
      "0.01031494140625\n",
      "0.0009765625\n",
      "0.00054931640625\n",
      "0.0087890625\n",
      "0.01763916015625\n",
      "0.0244140625\n",
      "0.02203369140625\n",
      "0.011962890625\n",
      "0.05133056640625\n",
      "0.0087890625\n",
      "0.03228759765625\n",
      "0.041259765625\n",
      "0.02203369140625\n",
      "0.006103515625\n",
      "0.00299072265625\n",
      "0.0244140625\n",
      "0.07476806640625\n",
      "0.05865478515625\n",
      "0.02203369140625\n",
      "0.054931640625\n",
      "0.011962890625\n",
      "0.03228759765625\n",
      "0.015625\n",
      "0.002197265625\n",
      "0.02203369140625\n",
      "0.00390625\n",
      "0.00738525390625\n",
      "0.00390625\n",
      "0.01373291015625\n",
      "0.041259765625\n",
      "0.03515625\n",
      "0.006103515625\n",
      "0.00152587890625\n",
      "0.019775390625\n",
      "0.00299072265625\n",
      "0.02203369140625\n",
      "0.00494384765625\n",
      "0.002197265625\n",
      "0.0087890625\n",
      "0.015625\n",
      "0.00054931640625\n",
      "0.00299072265625\n",
      "0.00152587890625\n",
      "0.015625\n",
      "0.002197265625\n",
      "0.01031494140625\n",
      "0.00390625\n",
      "0.03515625\n",
      "0.00054931640625\n",
      "0.02203369140625\n",
      "0.10260009765625\n",
      "0.0625\n",
      "0.03515625\n",
      "0.05133056640625\n",
      "0.07476806640625\n",
      "0.09283447265625\n",
      "0.07476806640625\n",
      "0.019775390625\n",
      "0.01763916015625\n",
      "0.03515625\n",
      "0.0791015625\n",
      "0.03515625\n",
      "0.070556640625\n",
      "0.019775390625\n",
      "0.05133056640625\n",
      "0.04449462890625\n",
      "0.02203369140625\n",
      "0.054931640625\n",
      "0.0625\n",
      "0.00152587890625\n",
      "0.02691650390625\n",
      "0.070556640625\n",
      "0.03515625\n",
      "0.01031494140625\n",
      "0.04449462890625\n",
      "0.019775390625\n",
      "0.09765625\n",
      "0.029541015625\n",
      "0.00494384765625\n",
      "0.041259765625\n",
      "0.0478515625\n",
      "0.03228759765625\n",
      "0.000244140625\n",
      "0.129150390625\n",
      "0.13482666015625\n",
      "6.103515625e-05\n",
      "0.00152587890625\n",
      "0.0\n",
      "0.107666015625\n",
      "0.11285400390625\n",
      "0.029541015625\n",
      "0.070556640625\n",
      "0.041259765625\n",
      "0.04449462890625\n",
      "0.011962890625\n",
      "0.02691650390625\n",
      "0.0478515625\n",
      "0.029541015625\n",
      "0.029541015625\n",
      "0.04449462890625\n",
      "0.0478515625\n",
      "0.01763916015625\n",
      "0.041259765625\n",
      "0.01763916015625\n",
      "0.054931640625\n",
      "0.09283447265625\n",
      "0.02691650390625\n",
      "0.002197265625\n",
      "0.04449462890625\n",
      "0.06646728515625\n",
      "0.041259765625\n",
      "0.0478515625\n",
      "0.0087890625\n",
      "0.05133056640625\n",
      "0.05133056640625\n",
      "0.00494384765625\n",
      "0.03228759765625\n",
      "0.05133056640625\n",
      "0.019775390625\n",
      "0.041259765625\n",
      "0.002197265625\n",
      "0.01031494140625\n",
      "0.00738525390625\n",
      "0.0244140625\n",
      "0.06646728515625\n",
      "0.01373291015625\n",
      "0.02691650390625\n",
      "0.029541015625\n",
      "0.00390625\n",
      "0.0478515625\n",
      "0.02691650390625\n",
      "0.0244140625\n",
      "0.01031494140625\n",
      "0.019775390625\n",
      "0.015625\n",
      "0.02691650390625\n",
      "0.0087890625\n",
      "0.01763916015625\n",
      "0.029541015625\n",
      "0.006103515625\n",
      "0.00390625\n",
      "0.00738525390625\n",
      "0.00054931640625\n",
      "0.02691650390625\n",
      "0.006103515625\n",
      "0.00299072265625\n",
      "0.00054931640625\n",
      "0.02203369140625\n",
      "0.029541015625\n",
      "0.05133056640625\n",
      "0.015625\n",
      "0.002197265625\n",
      "0.02203369140625\n",
      "0.01373291015625\n",
      "0.03814697265625\n",
      "0.0244140625\n",
      "0.00738525390625\n",
      "0.01373291015625\n",
      "0.00152587890625\n",
      "0.01031494140625\n",
      "0.0009765625\n",
      "0.03515625\n",
      "0.006103515625\n",
      "0.002197265625\n",
      "0.00299072265625\n",
      "0.01763916015625\n",
      "0.00494384765625\n",
      "0.0625\n",
      "0.01373291015625\n",
      "0.00152587890625\n",
      "0.00738525390625\n",
      "0.00494384765625\n",
      "0.002197265625\n",
      "0.0791015625\n",
      "0.00738525390625\n",
      "0.00494384765625\n",
      "0.03814697265625\n",
      "0.0009765625\n",
      "0.029541015625\n",
      "0.054931640625\n",
      "0.019775390625\n",
      "0.015625\n",
      "0.00054931640625\n",
      "0.019775390625\n",
      "0.00152587890625\n",
      "0.03515625\n",
      "0.00494384765625\n",
      "0.00054931640625\n",
      "0.01373291015625\n",
      "0.00494384765625\n",
      "0.002197265625\n",
      "0.011962890625\n",
      "0.03228759765625\n",
      "0.02691650390625\n",
      "0.05133056640625\n",
      "0.00152587890625\n",
      "0.0087890625\n",
      "0.00390625\n",
      "0.01763916015625\n",
      "0.00738525390625\n",
      "0.00390625\n",
      "0.00054931640625\n",
      "0.011962890625\n",
      "0.000244140625\n",
      "0.03228759765625\n",
      "0.015625\n",
      "0.00494384765625\n",
      "0.00152587890625\n",
      "0.00494384765625\n",
      "0.029541015625\n",
      "0.00738525390625\n",
      "0.00738525390625\n",
      "0.0087890625\n",
      "0.06646728515625\n",
      "0.00054931640625\n",
      "0.000244140625\n",
      "0.00152587890625\n",
      "0.00390625\n",
      "0.05133056640625\n",
      "0.019775390625\n",
      "0.00494384765625\n",
      "0.05865478515625\n",
      "0.08355712890625\n",
      "0.03814697265625\n",
      "0.00494384765625\n",
      "0.00054931640625\n",
      "0.05865478515625\n",
      "0.02691650390625\n",
      "0.011962890625\n",
      "0.00390625\n",
      "0.015625\n",
      "0.002197265625\n",
      "0.00390625\n",
      "0.0087890625\n",
      "0.00738525390625\n",
      "0.00299072265625\n",
      "0.00299072265625\n",
      "0.00738525390625\n",
      "0.0087890625\n",
      "0.00299072265625\n",
      "0.01763916015625\n",
      "0.01763916015625\n",
      "0.0087890625\n",
      "0.029541015625\n",
      "0.0478515625\n",
      "0.03515625\n",
      "0.006103515625\n",
      "0.0087890625\n",
      "0.002197265625\n",
      "0.011962890625\n",
      "0.029541015625\n",
      "0.00390625\n",
      "0.041259765625\n",
      "0.01373291015625\n",
      "0.002197265625\n",
      "0.03814697265625\n",
      "0.0625\n",
      "0.00738525390625\n",
      "0.02203369140625\n",
      "0.04449462890625\n",
      "0.0087890625\n",
      "0.011962890625\n",
      "0.00494384765625\n",
      "0.04449462890625\n",
      "0.00738525390625\n",
      "0.041259765625\n",
      "0.02203369140625\n",
      "0.019775390625\n",
      "0.00054931640625\n",
      "0.041259765625\n",
      "0.05133056640625\n",
      "0.03814697265625\n",
      "0.02203369140625\n",
      "0.02203369140625\n",
      "0.01763916015625\n",
      "0.011962890625\n",
      "0.01763916015625\n",
      "0.011962890625\n",
      "0.070556640625\n",
      "0.002197265625\n",
      "0.00738525390625\n",
      "0.01031494140625\n",
      "0.00299072265625\n",
      "0.029541015625\n",
      "0.05133056640625\n",
      "0.00299072265625\n",
      "0.00738525390625\n",
      "0.01763916015625\n",
      "0.08355712890625\n",
      "0.01763916015625\n",
      "0.00299072265625\n",
      "0.029541015625\n",
      "0.00390625\n",
      "0.00494384765625\n",
      "0.0478515625\n",
      "0.011962890625\n",
      "0.00054931640625\n",
      "0.03515625\n",
      "0.0244140625\n",
      "0.0087890625\n",
      "0.041259765625\n",
      "0.00738525390625\n",
      "0.00738525390625\n",
      "0.011962890625\n",
      "0.01763916015625\n",
      "0.03515625\n",
      "0.00738525390625\n",
      "0.00054931640625\n",
      "0.0791015625\n",
      "0.02203369140625\n",
      "0.00152587890625\n",
      "0.029541015625\n",
      "0.01031494140625\n",
      "0.019775390625\n",
      "0.01373291015625\n",
      "0.05133056640625\n",
      "0.02203369140625\n",
      "0.006103515625\n",
      "0.02203369140625\n",
      "0.00390625\n",
      "0.02203369140625\n",
      "0.00390625\n",
      "0.00390625\n",
      "0.011962890625\n",
      "0.02691650390625\n",
      "0.00390625\n",
      "0.0087890625\n",
      "0.0087890625\n",
      "0.07476806640625\n",
      "0.00299072265625\n",
      "0.01763916015625\n",
      "0.00299072265625\n",
      "0.01031494140625\n",
      "0.03228759765625\n",
      "0.01373291015625\n",
      "0.029541015625\n",
      "0.00299072265625\n",
      "0.02691650390625\n",
      "0.00494384765625\n",
      "0.01373291015625\n",
      "0.00390625\n",
      "0.00738525390625\n",
      "0.00390625\n",
      "0.01763916015625\n",
      "0.01031494140625\n",
      "0.015625\n",
      "0.0791015625\n",
      "0.00738525390625\n",
      "0.0244140625\n",
      "0.01763916015625\n",
      "0.03814697265625\n",
      "0.03228759765625\n",
      "0.00299072265625\n",
      "0.00494384765625\n",
      "0.011962890625\n",
      "0.00152587890625\n",
      "0.002197265625\n",
      "0.00152587890625\n",
      "0.019775390625\n",
      "0.00390625\n",
      "0.02203369140625\n",
      "0.015625\n",
      "0.015625\n",
      "0.041259765625\n",
      "0.041259765625\n",
      "0.04449462890625\n",
      "0.02691650390625\n",
      "0.0791015625\n",
      "0.06646728515625\n",
      "0.00152587890625\n",
      "0.015625\n",
      "0.002197265625\n",
      "0.01373291015625\n",
      "0.05865478515625\n",
      "0.04449462890625\n",
      "0.054931640625\n",
      "0.06646728515625\n",
      "0.0478515625\n",
      "0.08355712890625\n",
      "0.02691650390625\n",
      "0.07476806640625\n",
      "0.02203369140625\n",
      "0.05865478515625\n",
      "0.015625\n",
      "0.01031494140625\n",
      "0.088134765625\n",
      "0.019775390625\n",
      "0.054931640625\n",
      "0.0478515625\n",
      "0.05133056640625\n",
      "0.03814697265625\n",
      "0.015625\n",
      "0.029541015625\n",
      "0.0009765625\n",
      "0.015625\n",
      "0.03515625\n",
      "0.07476806640625\n",
      "0.00152587890625\n",
      "0.06646728515625\n",
      "0.054931640625\n",
      "0.00152587890625\n",
      "0.11285400390625\n",
      "0.129150390625\n",
      "0.0009765625\n"
     ]
    }
   ],
   "source": [
    "X_test = np.array(X_test)\n",
    "for x in X_test[fails]:\n",
    "    print(np.power((np.where(weights[0] == x)[0].shape[0] - np.where(weights[0] != x)[0].shape[0]) / x.shape[0], 2))"
   ]
  },
  {
   "cell_type": "code",
   "execution_count": 222,
   "metadata": {
    "ExecuteTime": {
     "end_time": "2020-10-08T02:49:57.044868Z",
     "start_time": "2020-10-08T02:49:57.037903Z"
    },
    "hidden": true
   },
   "outputs": [
    {
     "name": "stdout",
     "output_type": "stream",
     "text": [
      "[9.76562500e-04 9.76562500e-04 9.76562500e-04 9.76562500e-04\n",
      " 9.76562500e-04 9.76562500e-04 9.76562500e-04 1.95312500e-03\n",
      " 2.92968750e-03 2.92968750e-03 3.90625000e-03 3.90625000e-03\n",
      " 3.90625000e-03 4.88281250e-03 4.88281250e-03 4.88281250e-03\n",
      " 5.85937500e-03 5.85937500e-03 5.85937500e-03 5.85937500e-03\n",
      " 6.83593750e-03 6.83593750e-03 7.81250000e-03 7.81250000e-03\n",
      " 7.81250000e-03 7.81250000e-03 9.76562500e-03 1.07421875e-02\n",
      " 1.07421875e-02 1.17187500e-02 1.36718750e-02 1.46484375e-02\n",
      " 1.46484375e-02 1.56250000e-02 1.66015625e-02 1.66015625e-02\n",
      " 1.75781250e-02 1.85546875e-02 1.85546875e-02 1.85546875e-02\n",
      " 1.85546875e-02 1.95312500e-02 1.95312500e-02 2.14843750e-02\n",
      " 2.14843750e-02 2.14843750e-02 2.24609375e-02 2.34375000e-02\n",
      " 2.34375000e-02 2.73437500e-02 2.83203125e-02 2.83203125e-02\n",
      " 2.92968750e-02 2.92968750e-02 3.02734375e-02 3.02734375e-02\n",
      " 3.02734375e-02 3.12500000e-02 3.12500000e-02 3.12500000e-02\n",
      " 3.22265625e-02 3.22265625e-02 3.22265625e-02 3.41796875e-02\n",
      " 3.41796875e-02 3.51562500e-02 3.51562500e-02 3.61328125e-02\n",
      " 3.61328125e-02 3.61328125e-02 3.80859375e-02 3.80859375e-02\n",
      " 3.90625000e-02 3.90625000e-02 4.10156250e-02 4.19921875e-02\n",
      " 4.19921875e-02 4.29687500e-02 4.29687500e-02 4.29687500e-02\n",
      " 4.29687500e-02 4.39453125e-02 4.39453125e-02 4.49218750e-02\n",
      " 4.58984375e-02 4.68750000e-02 4.78515625e-02 4.98046875e-02\n",
      " 5.17578125e-02 5.17578125e-02 5.27343750e-02 5.27343750e-02\n",
      " 5.27343750e-02 5.76171875e-02 5.85937500e-02 5.85937500e-02\n",
      " 5.95703125e-02 6.05468750e-02 6.25000000e-02 6.34765625e-02\n",
      " 6.34765625e-02 6.54296875e-02 6.73828125e-02 6.73828125e-02\n",
      " 6.83593750e-02 6.93359375e-02 7.32421875e-02 7.32421875e-02\n",
      " 7.42187500e-02 7.42187500e-02 7.51953125e-02 7.61718750e-02\n",
      " 7.71484375e-02 7.71484375e-02 7.81250000e-02 8.00781250e-02\n",
      " 8.10546875e-02 8.10546875e-02 8.10546875e-02 8.20312500e-02\n",
      " 8.20312500e-02 8.39843750e-02 8.49609375e-02 8.49609375e-02\n",
      " 8.78906250e-02 8.88671875e-02 9.27734375e-02 9.37500000e-02\n",
      " 9.47265625e-02 9.57031250e-02 9.86328125e-02 9.96093750e-02\n",
      " 1.01562500e-01 1.03515625e-01 1.04492188e-01 1.05468750e-01\n",
      " 1.05468750e-01 1.08398438e-01 1.15234375e-01 1.24023438e-01\n",
      " 1.26953125e-01 1.29882812e-01 1.32812500e-01 1.46484375e-01\n",
      " 1.47460938e-01 1.70898438e-01 1.00000000e+00 1.00000000e+00\n",
      " 1.00000000e+00 1.00000000e+00 1.00000000e+00 1.00000000e+00\n",
      " 1.00000000e+00 1.00000000e+00 1.00000000e+00 1.00000000e+00\n",
      " 1.00000000e+00 1.00000000e+00]\n",
      "\n",
      "[9.765625e-04 9.765625e-04 9.765625e-04 ... 1.000000e+00 1.000000e+00\n",
      " 1.000000e+00]\n",
      "[9.765625e-04 9.765625e-04 9.765625e-04 ... 1.000000e+00 1.000000e+00\n",
      " 1.000000e+00]\n"
     ]
    }
   ],
   "source": [
    "print(np.sort(readouts[np.where(Y_test == number_negative_class)]), end = '\\n\\n')\n",
    "print(np.sort(readouts[np.where(Y_test == number_positive_class)]))\n",
    "print(np.sort(readouts[fails]))"
   ]
  },
  {
   "cell_type": "code",
   "execution_count": 167,
   "metadata": {
    "ExecuteTime": {
     "end_time": "2020-10-08T02:10:51.448050Z",
     "start_time": "2020-10-08T02:10:34.524850Z"
    },
    "hidden": true
   },
   "outputs": [
    {
     "name": "stderr",
     "output_type": "stream",
     "text": [
      "C:\\Users\\jeff_\\Anaconda3\\lib\\site-packages\\ipykernel_launcher.py:18: UserWarning: Tight layout not applied. tight_layout cannot make axes width small enough to accommodate all axes decorations\n"
     ]
    }
   ],
   "source": [
    "fig, axs = plt.subplots(3, int(np.ceil(len(fails) / 3)), figsize=(15,9))\n",
    "count = 0\n",
    "\n",
    "for i in range(3):\n",
    "    for j in range(int(np.ceil(len(fails) / 3))):\n",
    "        ax = axs[i][j]\n",
    "        \n",
    "        #c = ax.pcolor(thetas[i + j][1:].reshape(28, 28), cmap = 'gray')\n",
    "        try:\n",
    "            c = ax.imshow(np.array(X_test[fails[count]]).reshape(16, 16), cmap = 'gray_r', interpolation='nearest')\n",
    "            ax.axis('off')\n",
    "            ax.axis('equal')\n",
    "            ax.set_title(f'Classified as {classification[fails[count]]}').set_position([0.5, 1.1])\n",
    "            count += 1\n",
    "        except IndexError:\n",
    "            continue\n",
    "        \n",
    "fig.tight_layout()\n",
    "plt.colorbar(c)\n",
    "plt.show()"
   ]
  },
  {
   "cell_type": "code",
   "execution_count": 223,
   "metadata": {
    "ExecuteTime": {
     "end_time": "2020-10-08T02:49:58.027280Z",
     "start_time": "2020-10-08T02:49:58.021290Z"
    },
    "hidden": true
   },
   "outputs": [
    {
     "data": {
      "text/plain": [
       "Counter({10: 1435, 9: 158})"
      ]
     },
     "execution_count": 223,
     "metadata": {},
     "output_type": "execute_result"
    }
   ],
   "source": [
    "Counter(Y_test)"
   ]
  },
  {
   "cell_type": "code",
   "execution_count": 224,
   "metadata": {
    "ExecuteTime": {
     "end_time": "2020-10-08T02:49:58.306417Z",
     "start_time": "2020-10-08T02:49:58.301430Z"
    },
    "hidden": true
   },
   "outputs": [
    {
     "data": {
      "text/plain": [
       "array([0.07421875, 0.02832031, 0.02441406, ..., 0.015625  , 0.03027344,\n",
       "       0.01074219])"
      ]
     },
     "execution_count": 224,
     "metadata": {},
     "output_type": "execute_result"
    }
   ],
   "source": [
    "readouts"
   ]
  },
  {
   "cell_type": "code",
   "execution_count": 225,
   "metadata": {
    "ExecuteTime": {
     "end_time": "2020-10-08T02:49:58.682277Z",
     "start_time": "2020-10-08T02:49:58.678257Z"
    },
    "hidden": true
   },
   "outputs": [],
   "source": [
    "indexes = [i for i in range(len(readouts))]"
   ]
  },
  {
   "cell_type": "code",
   "execution_count": 226,
   "metadata": {
    "ExecuteTime": {
     "end_time": "2020-10-08T02:49:59.064186Z",
     "start_time": "2020-10-08T02:49:59.022261Z"
    },
    "hidden": true
   },
   "outputs": [
    {
     "data": {
      "text/plain": [
       "[(0, 10, 0.07421875),\n",
       " (1, 10, 0.0283203125),\n",
       " (2, 10, 0.0244140625),\n",
       " (3, 10, 0.0654296875),\n",
       " (4, 10, 0.0078125),\n",
       " (5, 10, 0.0576171875),\n",
       " (6, 10, 0.048828125),\n",
       " (7, 10, 0.0283203125),\n",
       " (8, 10, 0.0634765625),\n",
       " (9, 10, 0.0478515625),\n",
       " (10, 10, 0.02734375),\n",
       " (11, 10, 0.0126953125),\n",
       " (12, 10, 0.0087890625),\n",
       " (13, 10, 0.015625),\n",
       " (14, 10, 0.0703125),\n",
       " (15, 10, 0.021484375),\n",
       " (16, 10, 0.0029296875),\n",
       " (17, 10, 0.0498046875),\n",
       " (18, 10, 0.0166015625),\n",
       " (19, 10, 0.09765625),\n",
       " (20, 10, 0.0185546875),\n",
       " (21, 10, 0.0205078125),\n",
       " (22, 10, 0.0009765625),\n",
       " (23, 10, 0.01171875),\n",
       " (24, 10, 0.025390625),\n",
       " (25, 10, 0.0146484375),\n",
       " (26, 10, 0.0146484375),\n",
       " (27, 10, 0.0087890625),\n",
       " (28, 10, 0.0263671875),\n",
       " (29, 10, 0.005859375),\n",
       " (30, 10, 0.015625),\n",
       " (31, 10, 0.025390625),\n",
       " (32, 10, 0.0087890625),\n",
       " (33, 10, 0.0009765625),\n",
       " (34, 10, 0.0390625),\n",
       " (35, 10, 0.04296875),\n",
       " (36, 10, 0.013671875),\n",
       " (37, 10, 0.0048828125),\n",
       " (38, 10, 0.017578125),\n",
       " (39, 10, 0.0380859375),\n",
       " (40, 10, 0.0185546875),\n",
       " (41, 10, 0.01953125),\n",
       " (42, 10, 0.0048828125),\n",
       " (43, 10, 1.0),\n",
       " (44, 10, 0.0009765625),\n",
       " (45, 10, 0.0126953125),\n",
       " (46, 10, 0.0009765625),\n",
       " (47, 10, 0.0302734375),\n",
       " (48, 10, 0.0029296875),\n",
       " (49, 10, 0.0048828125),\n",
       " (50, 10, 1.0),\n",
       " (51, 10, 0.00390625),\n",
       " (52, 10, 0.001953125),\n",
       " (53, 10, 0.0185546875),\n",
       " (54, 10, 0.0107421875),\n",
       " (55, 10, 1.0),\n",
       " (56, 10, 0.0029296875),\n",
       " (57, 10, 0.0078125),\n",
       " (58, 10, 0.068359375),\n",
       " (59, 10, 1.0),\n",
       " (60, 10, 1.0),\n",
       " (61, 10, 0.00390625),\n",
       " (62, 10, 0.0185546875),\n",
       " (63, 10, 0.001953125),\n",
       " (64, 10, 0.009765625),\n",
       " (65, 10, 0.0439453125),\n",
       " (66, 10, 0.0126953125),\n",
       " (67, 10, 0.0009765625),\n",
       " (68, 10, 0.001953125),\n",
       " (69, 10, 1.0),\n",
       " (70, 10, 1.0),\n",
       " (71, 10, 1.0),\n",
       " (72, 10, 0.001953125),\n",
       " (73, 10, 1.0),\n",
       " (74, 10, 0.00390625),\n",
       " (75, 10, 1.0),\n",
       " (76, 10, 0.052734375),\n",
       " (77, 10, 1.0),\n",
       " (78, 10, 0.0009765625),\n",
       " (79, 10, 0.0009765625),\n",
       " (80, 10, 0.0234375),\n",
       " (81, 10, 0.01953125),\n",
       " (82, 10, 0.0029296875),\n",
       " (83, 10, 0.0224609375),\n",
       " (84, 10, 0.009765625),\n",
       " (85, 10, 0.0029296875),\n",
       " (86, 10, 0.013671875),\n",
       " (87, 10, 0.0087890625),\n",
       " (88, 10, 0.015625),\n",
       " (89, 10, 0.0244140625),\n",
       " (90, 10, 0.0029296875),\n",
       " (91, 10, 0.00390625),\n",
       " (92, 10, 0.0048828125),\n",
       " (93, 10, 0.0146484375),\n",
       " (94, 10, 0.03125),\n",
       " (95, 10, 0.03125),\n",
       " (96, 10, 0.025390625),\n",
       " (97, 10, 0.0029296875),\n",
       " (98, 10, 0.015625),\n",
       " (99, 10, 1.0),\n",
       " (100, 10, 0.02734375),\n",
       " (101, 10, 0.0205078125),\n",
       " (102, 10, 0.0205078125),\n",
       " (103, 10, 0.013671875),\n",
       " (104, 10, 0.0361328125),\n",
       " (105, 10, 0.015625),\n",
       " (106, 10, 0.029296875),\n",
       " (107, 10, 0.001953125),\n",
       " (108, 10, 0.0283203125),\n",
       " (109, 10, 0.001953125),\n",
       " (110, 10, 0.015625),\n",
       " (111, 10, 0.064453125),\n",
       " (112, 10, 0.0380859375),\n",
       " (113, 10, 0.0029296875),\n",
       " (114, 10, 0.04296875),\n",
       " (115, 10, 0.0107421875),\n",
       " (116, 10, 0.0283203125),\n",
       " (117, 10, 1.0),\n",
       " (118, 10, 0.03125),\n",
       " (119, 10, 0.0283203125),\n",
       " (120, 10, 0.033203125),\n",
       " (121, 10, 0.0029296875),\n",
       " (122, 10, 1.0),\n",
       " (123, 10, 1.0),\n",
       " (124, 10, 0.0205078125),\n",
       " (125, 10, 0.001953125),\n",
       " (126, 10, 1.0),\n",
       " (127, 10, 0.009765625),\n",
       " (128, 10, 0.01171875),\n",
       " (129, 10, 0.001953125),\n",
       " (130, 10, 0.0087890625),\n",
       " (131, 10, 0.001953125),\n",
       " (132, 10, 0.0009765625),\n",
       " (133, 10, 0.0009765625),\n",
       " (134, 10, 1.0),\n",
       " (135, 10, 1.0),\n",
       " (136, 10, 1.0),\n",
       " (137, 10, 0.01171875),\n",
       " (138, 10, 1.0),\n",
       " (139, 10, 0.0009765625),\n",
       " (140, 10, 1.0),\n",
       " (141, 10, 0.0078125),\n",
       " (142, 10, 0.0869140625),\n",
       " (143, 10, 0.0107421875),\n",
       " (144, 10, 0.0068359375),\n",
       " (145, 10, 0.08203125),\n",
       " (146, 10, 1.0),\n",
       " (147, 10, 0.009765625),\n",
       " (148, 10, 0.0419921875),\n",
       " (149, 10, 0.001953125),\n",
       " (150, 10, 0.0185546875),\n",
       " (151, 10, 0.017578125),\n",
       " (152, 10, 0.0400390625),\n",
       " (153, 10, 0.00390625),\n",
       " (154, 10, 0.00390625),\n",
       " (155, 10, 1.0),\n",
       " (156, 10, 1.0),\n",
       " (157, 10, 0.0107421875),\n",
       " (158, 10, 0.0390625),\n",
       " (159, 10, 1.0),\n",
       " (160, 10, 0.0419921875),\n",
       " (161, 10, 0.05859375),\n",
       " (162, 10, 0.0126953125),\n",
       " (163, 10, 0.01171875),\n",
       " (164, 10, 0.091796875),\n",
       " (165, 10, 0.01953125),\n",
       " (166, 10, 0.0244140625),\n",
       " (167, 10, 0.015625),\n",
       " (168, 10, 0.013671875),\n",
       " (169, 10, 0.044921875),\n",
       " (170, 10, 0.0419921875),\n",
       " (171, 10, 0.0498046875),\n",
       " (172, 10, 0.033203125),\n",
       " (173, 10, 0.0048828125),\n",
       " (174, 10, 0.0654296875),\n",
       " (175, 10, 0.0439453125),\n",
       " (176, 10, 0.0771484375),\n",
       " (177, 10, 0.01171875),\n",
       " (178, 10, 1.0),\n",
       " (179, 9, 0.0654296875),\n",
       " (180, 9, 0.0302734375),\n",
       " (181, 9, 0.068359375),\n",
       " (182, 9, 1.0),\n",
       " (183, 9, 0.04296875),\n",
       " (184, 9, 0.021484375),\n",
       " (185, 9, 0.03515625),\n",
       " (186, 9, 1.0),\n",
       " (187, 9, 0.052734375),\n",
       " (188, 9, 0.0185546875),\n",
       " (189, 9, 0.0947265625),\n",
       " (190, 9, 0.0078125),\n",
       " (191, 9, 0.0595703125),\n",
       " (192, 9, 0.0478515625),\n",
       " (193, 9, 0.0078125),\n",
       " (194, 9, 0.1015625),\n",
       " (195, 9, 0.0361328125),\n",
       " (196, 9, 0.0380859375),\n",
       " (197, 9, 1.0),\n",
       " (198, 9, 0.0390625),\n",
       " (199, 10, 0.029296875),\n",
       " (200, 10, 0.0244140625),\n",
       " (201, 10, 0.0703125),\n",
       " (202, 10, 0.0625),\n",
       " (203, 10, 0.0419921875),\n",
       " (204, 10, 0.0283203125),\n",
       " (205, 10, 0.056640625),\n",
       " (206, 10, 0.01953125),\n",
       " (207, 10, 0.0048828125),\n",
       " (208, 10, 0.048828125),\n",
       " (209, 10, 0.0341796875),\n",
       " (210, 10, 0.0908203125),\n",
       " (211, 10, 0.0205078125),\n",
       " (212, 10, 0.0546875),\n",
       " (213, 10, 0.0234375),\n",
       " (214, 10, 0.025390625),\n",
       " (215, 10, 0.03515625),\n",
       " (216, 10, 0.0224609375),\n",
       " (217, 10, 1.0),\n",
       " (218, 10, 0.0234375),\n",
       " (219, 10, 0.02734375),\n",
       " (220, 10, 0.009765625),\n",
       " (221, 10, 1.0),\n",
       " (222, 10, 0.0126953125),\n",
       " (223, 10, 0.0380859375),\n",
       " (224, 10, 0.044921875),\n",
       " (225, 10, 0.0185546875),\n",
       " (226, 10, 0.025390625),\n",
       " (227, 10, 0.0263671875),\n",
       " (228, 10, 0.0068359375),\n",
       " (229, 10, 0.0048828125),\n",
       " (230, 10, 0.0166015625),\n",
       " (231, 10, 0.033203125),\n",
       " (232, 10, 1.0),\n",
       " (233, 10, 0.048828125),\n",
       " (234, 10, 0.041015625),\n",
       " (235, 10, 0.0087890625),\n",
       " (236, 10, 0.0048828125),\n",
       " (237, 10, 0.017578125),\n",
       " (238, 10, 0.041015625),\n",
       " (239, 10, 0.033203125),\n",
       " (240, 10, 0.001953125),\n",
       " (241, 10, 0.0107421875),\n",
       " (242, 10, 0.0078125),\n",
       " (243, 10, 0.08203125),\n",
       " (244, 10, 0.0068359375),\n",
       " (245, 10, 0.001953125),\n",
       " (246, 10, 1.0),\n",
       " (247, 10, 0.01171875),\n",
       " (248, 10, 0.046875),\n",
       " (249, 10, 0.001953125),\n",
       " (250, 10, 0.0009765625),\n",
       " (251, 10, 1.0),\n",
       " (252, 10, 0.013671875),\n",
       " (253, 10, 1.0),\n",
       " (254, 10, 1.0),\n",
       " (255, 10, 0.00390625),\n",
       " (256, 10, 0.0458984375),\n",
       " (257, 10, 0.0087890625),\n",
       " (258, 10, 1.0),\n",
       " (259, 10, 1.0),\n",
       " (260, 10, 0.0029296875),\n",
       " (261, 10, 0.005859375),\n",
       " (262, 10, 0.021484375),\n",
       " (263, 10, 0.009765625),\n",
       " (264, 10, 0.0791015625),\n",
       " (265, 10, 0.044921875),\n",
       " (266, 10, 1.0),\n",
       " (267, 10, 0.0068359375),\n",
       " (268, 10, 0.0078125),\n",
       " (269, 10, 0.0029296875),\n",
       " (270, 10, 0.001953125),\n",
       " (271, 10, 0.0048828125),\n",
       " (272, 10, 1.0),\n",
       " (273, 10, 0.0068359375),\n",
       " (274, 10, 1.0),\n",
       " (275, 10, 0.00390625),\n",
       " (276, 10, 1.0),\n",
       " (277, 10, 0.005859375),\n",
       " (278, 10, 0.0009765625),\n",
       " (279, 10, 0.015625),\n",
       " (280, 10, 0.0166015625),\n",
       " (281, 10, 0.017578125),\n",
       " (282, 10, 0.0400390625),\n",
       " (283, 10, 0.001953125),\n",
       " (284, 10, 0.01953125),\n",
       " (285, 10, 1.0),\n",
       " (286, 10, 0.0205078125),\n",
       " (287, 10, 0.005859375),\n",
       " (288, 10, 0.0146484375),\n",
       " (289, 10, 0.025390625),\n",
       " (290, 10, 0.001953125),\n",
       " (291, 10, 0.00390625),\n",
       " (292, 10, 1.0),\n",
       " (293, 10, 0.0322265625),\n",
       " (294, 10, 0.0068359375),\n",
       " (295, 10, 0.0078125),\n",
       " (296, 10, 0.0068359375),\n",
       " (297, 10, 0.0126953125),\n",
       " (298, 10, 0.015625),\n",
       " (299, 10, 0.0263671875),\n",
       " (300, 10, 0.00390625),\n",
       " (301, 10, 0.013671875),\n",
       " (302, 10, 0.021484375),\n",
       " (303, 10, 0.0322265625),\n",
       " (304, 10, 0.0126953125),\n",
       " (305, 10, 0.0341796875),\n",
       " (306, 10, 0.0302734375),\n",
       " (307, 10, 0.00390625),\n",
       " (308, 10, 0.0068359375),\n",
       " (309, 10, 0.0009765625),\n",
       " (310, 10, 0.0458984375),\n",
       " (311, 10, 0.03125),\n",
       " (312, 10, 0.0244140625),\n",
       " (313, 10, 0.0361328125),\n",
       " (314, 10, 0.005859375),\n",
       " (315, 10, 0.0166015625),\n",
       " (316, 10, 1.0),\n",
       " (317, 10, 0.041015625),\n",
       " (318, 10, 0.029296875),\n",
       " (319, 10, 0.0087890625),\n",
       " (320, 10, 0.041015625),\n",
       " (321, 10, 1.0),\n",
       " (322, 10, 1.0),\n",
       " (323, 10, 0.0029296875),\n",
       " (324, 10, 0.0068359375),\n",
       " (325, 10, 0.0009765625),\n",
       " (326, 10, 0.0126953125),\n",
       " (327, 10, 0.0048828125),\n",
       " (328, 10, 0.001953125),\n",
       " (329, 10, 0.0078125),\n",
       " (330, 10, 0.001953125),\n",
       " (331, 10, 0.03125),\n",
       " (332, 10, 0.0068359375),\n",
       " (333, 10, 0.001953125),\n",
       " (334, 10, 0.0009765625),\n",
       " (335, 10, 0.0322265625),\n",
       " (336, 10, 0.1025390625),\n",
       " (337, 10, 1.0),\n",
       " (338, 10, 0.03515625),\n",
       " (339, 10, 0.0546875),\n",
       " (340, 10, 0.009765625),\n",
       " (341, 10, 0.05859375),\n",
       " (342, 10, 0.0244140625),\n",
       " (343, 10, 1.0),\n",
       " (344, 10, 0.0234375),\n",
       " (345, 10, 0.009765625),\n",
       " (346, 10, 0.001953125),\n",
       " (347, 10, 0.0234375),\n",
       " (348, 10, 0.0009765625),\n",
       " (349, 10, 0.015625),\n",
       " (350, 10, 0.009765625),\n",
       " (351, 10, 0.0166015625),\n",
       " (352, 10, 0.021484375),\n",
       " (353, 10, 0.0087890625),\n",
       " (354, 10, 0.0419921875),\n",
       " (355, 10, 0.001953125),\n",
       " (356, 10, 0.021484375),\n",
       " (357, 10, 0.015625),\n",
       " (358, 10, 0.0439453125),\n",
       " (359, 10, 0.1484375),\n",
       " (360, 10, 0.0224609375),\n",
       " (361, 10, 0.1171875),\n",
       " (362, 10, 0.04296875),\n",
       " (363, 10, 0.044921875),\n",
       " (364, 10, 0.0576171875),\n",
       " (365, 10, 0.0322265625),\n",
       " (366, 10, 0.04296875),\n",
       " (367, 10, 0.0791015625),\n",
       " (368, 10, 0.0048828125),\n",
       " (369, 10, 0.0302734375),\n",
       " (370, 10, 0.0439453125),\n",
       " (371, 10, 0.041015625),\n",
       " (372, 10, 0.0078125),\n",
       " (373, 10, 0.056640625),\n",
       " (374, 10, 0.03125),\n",
       " (375, 10, 0.0771484375),\n",
       " (376, 10, 0.0595703125),\n",
       " (377, 10, 0.0224609375),\n",
       " (378, 9, 0.0517578125),\n",
       " (379, 9, 1.0),\n",
       " (380, 9, 0.07421875),\n",
       " (381, 9, 0.0361328125),\n",
       " (382, 9, 0.09375),\n",
       " (383, 9, 0.0810546875),\n",
       " (384, 9, 0.0302734375),\n",
       " (385, 9, 0.0009765625),\n",
       " (386, 9, 0.052734375),\n",
       " (387, 9, 0.0751953125),\n",
       " (388, 9, 0.1708984375),\n",
       " (389, 9, 0.0009765625),\n",
       " (390, 9, 0.0986328125),\n",
       " (391, 9, 0.04296875),\n",
       " (392, 9, 0.02734375),\n",
       " (393, 9, 0.0078125),\n",
       " (394, 9, 0.01953125),\n",
       " (395, 9, 0.017578125),\n",
       " (396, 9, 0.0810546875),\n",
       " (397, 9, 0.080078125),\n",
       " (398, 10, 0.03125),\n",
       " (399, 10, 0.001953125),\n",
       " (400, 10, 0.0224609375),\n",
       " (401, 10, 0.0068359375),\n",
       " (402, 10, 0.0537109375),\n",
       " (403, 10, 0.0302734375),\n",
       " (404, 10, 0.064453125),\n",
       " (405, 10, 0.0390625),\n",
       " (406, 10, 0.03515625),\n",
       " (407, 10, 0.0185546875),\n",
       " (408, 10, 0.0712890625),\n",
       " (409, 10, 0.017578125),\n",
       " (410, 10, 0.068359375),\n",
       " (411, 10, 0.046875),\n",
       " (412, 10, 0.0498046875),\n",
       " (413, 10, 0.0400390625),\n",
       " (414, 10, 0.0361328125),\n",
       " (415, 10, 0.091796875),\n",
       " (416, 10, 0.0498046875),\n",
       " (417, 10, 0.06640625),\n",
       " (418, 10, 0.013671875),\n",
       " (419, 10, 0.00390625),\n",
       " (420, 10, 0.033203125),\n",
       " (421, 10, 1.0),\n",
       " (422, 10, 0.0068359375),\n",
       " (423, 10, 0.0009765625),\n",
       " (424, 10, 0.0302734375),\n",
       " (425, 10, 0.0234375),\n",
       " (426, 10, 0.001953125),\n",
       " (427, 10, 0.0302734375),\n",
       " (428, 10, 0.0009765625),\n",
       " (429, 10, 0.0068359375),\n",
       " (430, 10, 0.017578125),\n",
       " (431, 10, 0.0068359375),\n",
       " (432, 10, 0.025390625),\n",
       " (433, 10, 0.0068359375),\n",
       " (434, 10, 0.0146484375),\n",
       " (435, 10, 0.0380859375),\n",
       " (436, 10, 0.015625),\n",
       " (437, 10, 0.01171875),\n",
       " (438, 10, 0.005859375),\n",
       " (439, 10, 0.0224609375),\n",
       " (440, 10, 0.017578125),\n",
       " (441, 10, 0.0087890625),\n",
       " (442, 10, 1.0),\n",
       " (443, 10, 0.0029296875),\n",
       " (444, 10, 1.0),\n",
       " (445, 10, 0.0029296875),\n",
       " (446, 10, 0.0009765625),\n",
       " (447, 10, 0.001953125),\n",
       " (448, 10, 0.0068359375),\n",
       " (449, 10, 0.0029296875),\n",
       " (450, 10, 0.0458984375),\n",
       " (451, 10, 0.009765625),\n",
       " (452, 10, 0.0224609375),\n",
       " (453, 10, 0.001953125),\n",
       " (454, 10, 0.033203125),\n",
       " (455, 10, 1.0),\n",
       " (456, 10, 0.0087890625),\n",
       " (457, 10, 0.0048828125),\n",
       " (458, 10, 0.001953125),\n",
       " (459, 10, 0.009765625),\n",
       " (460, 10, 0.0048828125),\n",
       " (461, 10, 0.044921875),\n",
       " (462, 10, 1.0),\n",
       " (463, 10, 1.0),\n",
       " (464, 10, 1.0),\n",
       " (465, 10, 0.01171875),\n",
       " (466, 10, 1.0),\n",
       " (467, 10, 0.005859375),\n",
       " (468, 10, 0.0234375),\n",
       " (469, 10, 0.0244140625),\n",
       " (470, 10, 0.0107421875),\n",
       " (471, 10, 1.0),\n",
       " (472, 10, 0.0029296875),\n",
       " (473, 10, 0.0166015625),\n",
       " (474, 10, 0.001953125),\n",
       " (475, 10, 1.0),\n",
       " (476, 10, 1.0),\n",
       " (477, 10, 1.0),\n",
       " (478, 10, 0.041015625),\n",
       " (479, 10, 0.0107421875),\n",
       " (480, 10, 0.001953125),\n",
       " (481, 10, 0.0029296875),\n",
       " (482, 10, 0.0361328125),\n",
       " (483, 10, 1.0),\n",
       " (484, 10, 1.0),\n",
       " (485, 10, 0.0009765625),\n",
       " (486, 10, 1.0),\n",
       " (487, 10, 0.0087890625),\n",
       " (488, 10, 0.0009765625),\n",
       " (489, 10, 0.021484375),\n",
       " (490, 10, 1.0),\n",
       " (491, 10, 0.0400390625),\n",
       " (492, 10, 0.001953125),\n",
       " (493, 10, 1.0),\n",
       " (494, 10, 0.001953125),\n",
       " (495, 10, 0.0283203125),\n",
       " (496, 10, 0.013671875),\n",
       " (497, 10, 0.001953125),\n",
       " (498, 10, 0.02734375),\n",
       " (499, 10, 0.02734375),\n",
       " (500, 10, 0.0390625),\n",
       " (501, 10, 0.0009765625),\n",
       " (502, 10, 0.001953125),\n",
       " (503, 10, 0.0009765625),\n",
       " (504, 10, 0.037109375),\n",
       " (505, 10, 0.01171875),\n",
       " (506, 10, 0.013671875),\n",
       " (507, 10, 0.0048828125),\n",
       " (508, 10, 0.0078125),\n",
       " (509, 10, 0.0361328125),\n",
       " (510, 10, 0.0498046875),\n",
       " (511, 10, 0.017578125),\n",
       " (512, 10, 0.009765625),\n",
       " (513, 10, 0.033203125),\n",
       " (514, 10, 1.0),\n",
       " (515, 10, 0.048828125),\n",
       " (516, 10, 0.0380859375),\n",
       " (517, 10, 0.0009765625),\n",
       " (518, 10, 0.0576171875),\n",
       " (519, 10, 0.0146484375),\n",
       " (520, 10, 0.0947265625),\n",
       " (521, 10, 0.00390625),\n",
       " (522, 10, 0.0107421875),\n",
       " (523, 10, 0.072265625),\n",
       " (524, 10, 1.0),\n",
       " (525, 10, 0.0234375),\n",
       " (526, 10, 1.0),\n",
       " (527, 10, 0.041015625),\n",
       " (528, 10, 0.0126953125),\n",
       " (529, 10, 0.0087890625),\n",
       " (530, 10, 0.013671875),\n",
       " (531, 10, 0.009765625),\n",
       " (532, 10, 0.0048828125),\n",
       " (533, 10, 0.00390625),\n",
       " (534, 10, 0.0029296875),\n",
       " (535, 10, 1.0),\n",
       " (536, 10, 0.005859375),\n",
       " (537, 10, 0.0009765625),\n",
       " (538, 10, 0.0234375),\n",
       " (539, 10, 0.001953125),\n",
       " (540, 10, 0.0009765625),\n",
       " (541, 10, 0.001953125),\n",
       " (542, 10, 0.015625),\n",
       " (543, 10, 0.0078125),\n",
       " (544, 10, 0.005859375),\n",
       " (545, 10, 0.0126953125),\n",
       " (546, 10, 0.03515625),\n",
       " (547, 10, 0.009765625),\n",
       " (548, 10, 0.00390625),\n",
       " (549, 10, 1.0),\n",
       " (550, 10, 1.0),\n",
       " (551, 10, 0.0068359375),\n",
       " (552, 10, 0.00390625),\n",
       " (553, 10, 0.009765625),\n",
       " (554, 10, 0.005859375),\n",
       " (555, 10, 0.029296875),\n",
       " (556, 10, 1.0),\n",
       " (557, 10, 0.0068359375),\n",
       " (558, 10, 0.0615234375),\n",
       " (559, 10, 0.0087890625),\n",
       " (560, 10, 0.0009765625),\n",
       " (561, 10, 0.0068359375),\n",
       " (562, 10, 0.0341796875),\n",
       " (563, 10, 0.03125),\n",
       " (564, 10, 0.0517578125),\n",
       " (565, 10, 0.0283203125),\n",
       " (566, 10, 0.0380859375),\n",
       " (567, 10, 0.15625),\n",
       " (568, 10, 0.0146484375),\n",
       " (569, 10, 0.0361328125),\n",
       " (570, 10, 0.068359375),\n",
       " (571, 10, 0.046875),\n",
       " (572, 10, 0.0244140625),\n",
       " (573, 10, 0.048828125),\n",
       " (574, 10, 0.0146484375),\n",
       " (575, 10, 0.01953125),\n",
       " (576, 10, 0.046875),\n",
       " (577, 10, 0.0068359375),\n",
       " (578, 9, 0.0185546875),\n",
       " (579, 9, 0.0283203125),\n",
       " (580, 9, 0.0068359375),\n",
       " (581, 9, 0.1474609375),\n",
       " (582, 9, 0.03125),\n",
       " (583, 9, 0.0185546875),\n",
       " (584, 9, 0.087890625),\n",
       " (585, 9, 0.1083984375),\n",
       " (586, 9, 0.0380859375),\n",
       " (587, 9, 0.0390625),\n",
       " (588, 9, 1.0),\n",
       " (589, 9, 0.021484375),\n",
       " (590, 9, 0.03515625),\n",
       " (591, 9, 0.013671875),\n",
       " (592, 9, 0.099609375),\n",
       " (593, 9, 0.0029296875),\n",
       " (594, 9, 0.083984375),\n",
       " (595, 9, 0.03125),\n",
       " (596, 9, 0.0771484375),\n",
       " (597, 10, 0.0625),\n",
       " (598, 10, 0.0400390625),\n",
       " (599, 10, 0.0048828125),\n",
       " (600, 10, 0.0009765625),\n",
       " (601, 10, 0.0439453125),\n",
       " (602, 10, 0.005859375),\n",
       " (603, 10, 0.009765625),\n",
       " (604, 10, 0.064453125),\n",
       " (605, 10, 0.03125),\n",
       " (606, 10, 0.07421875),\n",
       " (607, 10, 0.0048828125),\n",
       " (608, 10, 0.080078125),\n",
       " (609, 10, 0.0078125),\n",
       " (610, 10, 0.021484375),\n",
       " (611, 10, 0.048828125),\n",
       " (612, 10, 0.068359375),\n",
       " (613, 10, 0.0771484375),\n",
       " (614, 10, 0.1123046875),\n",
       " (615, 10, 0.0224609375),\n",
       " (616, 10, 0.0556640625),\n",
       " (617, 10, 0.0224609375),\n",
       " (618, 10, 1.0),\n",
       " (619, 10, 0.01171875),\n",
       " (620, 10, 1.0),\n",
       " (621, 10, 0.0205078125),\n",
       " (622, 10, 0.0556640625),\n",
       " (623, 10, 0.01953125),\n",
       " (624, 10, 0.0263671875),\n",
       " (625, 10, 1.0),\n",
       " (626, 10, 0.0224609375),\n",
       " (627, 10, 0.00390625),\n",
       " (628, 10, 0.013671875),\n",
       " (629, 10, 0.033203125),\n",
       " (630, 10, 0.001953125),\n",
       " (631, 10, 0.0185546875),\n",
       " (632, 10, 0.0087890625),\n",
       " (633, 10, 0.00390625),\n",
       " (634, 10, 0.0234375),\n",
       " (635, 10, 0.0087890625),\n",
       " (636, 10, 0.00390625),\n",
       " (637, 10, 0.01171875),\n",
       " (638, 10, 0.0068359375),\n",
       " (639, 10, 0.0595703125),\n",
       " (640, 10, 0.044921875),\n",
       " (641, 10, 0.013671875),\n",
       " (642, 10, 0.009765625),\n",
       " (643, 10, 1.0),\n",
       " (644, 10, 0.0048828125),\n",
       " (645, 10, 0.0068359375),\n",
       " (646, 10, 0.0009765625),\n",
       " (647, 10, 1.0),\n",
       " (648, 10, 1.0),\n",
       " (649, 10, 1.0),\n",
       " (650, 10, 0.0478515625),\n",
       " (651, 10, 0.0234375),\n",
       " (652, 10, 0.0029296875),\n",
       " (653, 10, 1.0),\n",
       " (654, 10, 0.080078125),\n",
       " (655, 10, 1.0),\n",
       " (656, 10, 0.0205078125),\n",
       " (657, 10, 0.0595703125),\n",
       " (658, 10, 0.0029296875),\n",
       " (659, 10, 0.0205078125),\n",
       " (660, 10, 1.0),\n",
       " (661, 10, 1.0),\n",
       " (662, 10, 0.0009765625),\n",
       " (663, 10, 1.0),\n",
       " (664, 10, 0.0390625),\n",
       " (665, 10, 0.01953125),\n",
       " (666, 10, 0.0205078125),\n",
       " (667, 10, 0.0009765625),\n",
       " (668, 10, 0.0341796875),\n",
       " (669, 10, 1.0),\n",
       " (670, 10, 1.0),\n",
       " (671, 10, 0.029296875),\n",
       " (672, 10, 0.0595703125),\n",
       " (673, 10, 0.00390625),\n",
       " (674, 10, 0.001953125),\n",
       " (675, 10, 1.0),\n",
       " (676, 10, 1.0),\n",
       " (677, 10, 1.0),\n",
       " (678, 10, 0.0283203125),\n",
       " (679, 10, 0.0107421875),\n",
       " (680, 10, 0.0029296875),\n",
       " (681, 10, 0.015625),\n",
       " (682, 10, 0.0078125),\n",
       " (683, 10, 0.0234375),\n",
       " (684, 10, 0.01171875),\n",
       " (685, 10, 0.0009765625),\n",
       " (686, 10, 0.0166015625),\n",
       " (687, 10, 0.0068359375),\n",
       " (688, 10, 0.03515625),\n",
       " (689, 10, 0.0126953125),\n",
       " (690, 10, 1.0),\n",
       " (691, 10, 0.0322265625),\n",
       " (692, 10, 0.0859375),\n",
       " (693, 10, 0.005859375),\n",
       " (694, 10, 1.0),\n",
       " (695, 10, 1.0),\n",
       " (696, 10, 0.0087890625),\n",
       " (697, 10, 0.005859375),\n",
       " (698, 10, 0.01953125),\n",
       " (699, 10, 0.0205078125),\n",
       " (700, 10, 0.029296875),\n",
       " (701, 10, 0.0107421875),\n",
       " (702, 10, 0.0068359375),\n",
       " (703, 10, 1.0),\n",
       " (704, 10, 0.0234375),\n",
       " (705, 10, 0.0068359375),\n",
       " (706, 10, 0.0009765625),\n",
       " (707, 10, 0.0263671875),\n",
       " (708, 10, 1.0),\n",
       " (709, 10, 0.0390625),\n",
       " (710, 10, 0.01953125),\n",
       " (711, 10, 0.0029296875),\n",
       " (712, 10, 0.0009765625),\n",
       " (713, 10, 0.00390625),\n",
       " (714, 10, 0.0390625),\n",
       " (715, 10, 0.01953125),\n",
       " (716, 10, 0.009765625),\n",
       " (717, 10, 0.0185546875),\n",
       " (718, 10, 0.001953125),\n",
       " (719, 10, 0.0654296875),\n",
       " (720, 10, 0.05078125),\n",
       " (721, 10, 0.013671875),\n",
       " (722, 10, 0.0859375),\n",
       " (723, 10, 0.0283203125),\n",
       " (724, 10, 0.001953125),\n",
       " (725, 10, 0.001953125),\n",
       " (726, 10, 0.0341796875),\n",
       " (727, 10, 1.0),\n",
       " (728, 10, 0.033203125),\n",
       " (729, 10, 1.0),\n",
       " (730, 10, 1.0),\n",
       " (731, 10, 1.0),\n",
       " (732, 10, 0.0009765625),\n",
       " (733, 10, 0.015625),\n",
       " (734, 10, 0.0390625),\n",
       " (735, 10, 0.017578125),\n",
       " (736, 10, 0.0498046875),\n",
       " (737, 10, 0.0009765625),\n",
       " (738, 10, 0.03515625),\n",
       " (739, 10, 0.0205078125),\n",
       " (740, 10, 0.0205078125),\n",
       " (741, 10, 1.0),\n",
       " (742, 10, 0.0234375),\n",
       " (743, 10, 0.00390625),\n",
       " (744, 10, 0.00390625),\n",
       " (745, 10, 0.0244140625),\n",
       " (746, 10, 1.0),\n",
       " (747, 10, 0.021484375),\n",
       " (748, 10, 0.0224609375),\n",
       " (749, 10, 0.0078125),\n",
       " (750, 10, 0.005859375),\n",
       " (751, 10, 0.009765625),\n",
       " (752, 10, 0.025390625),\n",
       " (753, 10, 0.005859375),\n",
       " (754, 10, 0.0322265625),\n",
       " (755, 10, 0.005859375),\n",
       " (756, 10, 0.0048828125),\n",
       " (757, 10, 0.0810546875),\n",
       " (758, 10, 0.0185546875),\n",
       " (759, 10, 0.025390625),\n",
       " (760, 10, 0.0263671875),\n",
       " (761, 10, 0.0517578125),\n",
       " (762, 10, 0.056640625),\n",
       " (763, 10, 0.0546875),\n",
       " (764, 10, 0.0146484375),\n",
       " (765, 10, 0.0546875),\n",
       " (766, 10, 0.0224609375),\n",
       " (767, 10, 0.1650390625),\n",
       " (768, 10, 0.07421875),\n",
       " (769, 10, 0.0712890625),\n",
       " (770, 10, 0.087890625),\n",
       " (771, 10, 1.0),\n",
       " (772, 10, 0.0224609375),\n",
       " (773, 10, 0.0185546875),\n",
       " (774, 10, 0.0009765625),\n",
       " (775, 10, 0.0732421875),\n",
       " (776, 10, 0.0439453125),\n",
       " (777, 9, 0.001953125),\n",
       " (778, 9, 0.0029296875),\n",
       " (779, 9, 0.10546875),\n",
       " (780, 9, 0.146484375),\n",
       " (781, 9, 0.0439453125),\n",
       " (782, 9, 0.0458984375),\n",
       " (783, 9, 0.0322265625),\n",
       " (784, 9, 0.0419921875),\n",
       " (785, 9, 0.021484375),\n",
       " (786, 9, 0.005859375),\n",
       " (787, 9, 1.0),\n",
       " (788, 9, 0.005859375),\n",
       " (789, 9, 0.0625),\n",
       " (790, 9, 0.0009765625),\n",
       " (791, 9, 0.0146484375),\n",
       " (792, 9, 0.08203125),\n",
       " (793, 9, 0.0849609375),\n",
       " (794, 9, 0.0009765625),\n",
       " (795, 9, 0.0283203125),\n",
       " (796, 10, 0.0283203125),\n",
       " (797, 10, 0.064453125),\n",
       " (798, 10, 0.0771484375),\n",
       " (799, 10, 0.01171875),\n",
       " (800, 10, 0.013671875),\n",
       " (801, 10, 0.03125),\n",
       " (802, 10, 0.02734375),\n",
       " (803, 10, 0.0458984375),\n",
       " (804, 10, 0.0205078125),\n",
       " (805, 10, 0.0849609375),\n",
       " (806, 10, 0.0244140625),\n",
       " (807, 10, 0.05078125),\n",
       " (808, 10, 0.05078125),\n",
       " (809, 10, 0.0361328125),\n",
       " (810, 10, 0.068359375),\n",
       " (811, 10, 0.0244140625),\n",
       " (812, 10, 0.017578125),\n",
       " (813, 10, 0.0400390625),\n",
       " (814, 10, 0.0322265625),\n",
       " (815, 10, 0.0146484375),\n",
       " (816, 10, 0.0458984375),\n",
       " (817, 10, 1.0),\n",
       " (818, 10, 0.0478515625),\n",
       " (819, 10, 0.1005859375),\n",
       " (820, 10, 0.0302734375),\n",
       " (821, 10, 0.009765625),\n",
       " (822, 10, 0.017578125),\n",
       " (823, 10, 0.0234375),\n",
       " (824, 10, 0.025390625),\n",
       " (825, 10, 0.0419921875),\n",
       " (826, 10, 0.0537109375),\n",
       " (827, 10, 0.015625),\n",
       " (828, 10, 0.01953125),\n",
       " (829, 10, 0.072265625),\n",
       " (830, 10, 0.0380859375),\n",
       " (831, 10, 0.0517578125),\n",
       " (832, 10, 0.0458984375),\n",
       " (833, 10, 0.033203125),\n",
       " (834, 10, 0.0302734375),\n",
       " (835, 10, 0.0537109375),\n",
       " (836, 10, 0.0390625),\n",
       " (837, 10, 0.033203125),\n",
       " (838, 10, 0.013671875),\n",
       " (839, 10, 0.001953125),\n",
       " (840, 10, 0.0087890625),\n",
       " (841, 10, 0.0390625),\n",
       " (842, 10, 0.0244140625),\n",
       " (843, 10, 0.017578125),\n",
       " (844, 10, 0.0390625),\n",
       " (845, 10, 0.0205078125),\n",
       " (846, 10, 0.0244140625),\n",
       " (847, 10, 0.0166015625),\n",
       " (848, 10, 0.0322265625),\n",
       " (849, 10, 0.0361328125),\n",
       " (850, 10, 0.0009765625),\n",
       " (851, 10, 1.0),\n",
       " (852, 10, 0.080078125),\n",
       " (853, 10, 0.0126953125),\n",
       " (854, 10, 0.013671875),\n",
       " (855, 10, 0.013671875),\n",
       " (856, 10, 0.03125),\n",
       " (857, 10, 0.00390625),\n",
       " (858, 10, 0.0087890625),\n",
       " (859, 10, 0.001953125),\n",
       " (860, 10, 0.021484375),\n",
       " (861, 10, 0.02734375),\n",
       " (862, 10, 0.0126953125),\n",
       " (863, 10, 1.0),\n",
       " (864, 10, 0.048828125),\n",
       " (865, 10, 0.0009765625),\n",
       " (866, 10, 0.01953125),\n",
       " (867, 10, 0.0048828125),\n",
       " (868, 10, 0.029296875),\n",
       " (869, 10, 0.015625),\n",
       " (870, 10, 0.005859375),\n",
       " (871, 10, 1.0),\n",
       " (872, 10, 0.0361328125),\n",
       " (873, 10, 0.0341796875),\n",
       " (874, 10, 0.0068359375),\n",
       " (875, 10, 0.0283203125),\n",
       " (876, 10, 0.0615234375),\n",
       " (877, 10, 0.0400390625),\n",
       " (878, 10, 0.0234375),\n",
       " (879, 10, 0.0107421875),\n",
       " (880, 10, 0.029296875),\n",
       " (881, 10, 1.0),\n",
       " (882, 10, 0.029296875),\n",
       " (883, 10, 0.0107421875),\n",
       " (884, 10, 0.0009765625),\n",
       " (885, 10, 0.0400390625),\n",
       " (886, 10, 0.009765625),\n",
       " (887, 10, 0.001953125),\n",
       " (888, 10, 0.0224609375),\n",
       " (889, 10, 1.0),\n",
       " (890, 10, 0.0009765625),\n",
       " (891, 10, 0.0126953125),\n",
       " (892, 10, 1.0),\n",
       " (893, 10, 0.046875),\n",
       " (894, 10, 0.017578125),\n",
       " (895, 10, 0.017578125),\n",
       " (896, 10, 0.00390625),\n",
       " (897, 10, 0.0068359375),\n",
       " (898, 10, 1.0),\n",
       " (899, 10, 1.0),\n",
       " (900, 10, 0.06640625),\n",
       " (901, 10, 1.0),\n",
       " (902, 10, 1.0),\n",
       " (903, 10, 1.0),\n",
       " (904, 10, 1.0),\n",
       " (905, 10, 1.0),\n",
       " (906, 10, 1.0),\n",
       " (907, 10, 0.015625),\n",
       " (908, 10, 1.0),\n",
       " (909, 10, 0.0009765625),\n",
       " (910, 10, 0.0078125),\n",
       " (911, 10, 0.0029296875),\n",
       " (912, 10, 0.0009765625),\n",
       " (913, 10, 0.0390625),\n",
       " (914, 10, 0.0224609375),\n",
       " (915, 10, 0.00390625),\n",
       " (916, 10, 0.0009765625),\n",
       " (917, 10, 0.01953125),\n",
       " (918, 10, 1.0),\n",
       " (919, 10, 0.0009765625),\n",
       " (920, 10, 0.025390625),\n",
       " (921, 10, 1.0),\n",
       " (922, 10, 0.0419921875),\n",
       " (923, 10, 0.001953125),\n",
       " (924, 10, 0.0009765625),\n",
       " (925, 10, 1.0),\n",
       " (926, 10, 0.0625),\n",
       " (927, 10, 0.009765625),\n",
       " (928, 10, 0.00390625),\n",
       " (929, 10, 1.0),\n",
       " (930, 10, 0.001953125),\n",
       " (931, 10, 0.0087890625),\n",
       " (932, 10, 0.0078125),\n",
       " (933, 10, 0.001953125),\n",
       " (934, 10, 1.0),\n",
       " (935, 10, 0.0224609375),\n",
       " (936, 10, 0.0029296875),\n",
       " (937, 10, 0.0009765625),\n",
       " (938, 10, 0.0009765625),\n",
       " (939, 10, 0.005859375),\n",
       " (940, 10, 0.0009765625),\n",
       " (941, 10, 0.0087890625),\n",
       " (942, 10, 0.0009765625),\n",
       " (943, 10, 1.0),\n",
       " (944, 10, 0.001953125),\n",
       " (945, 10, 0.0048828125),\n",
       " (946, 10, 0.0009765625),\n",
       " (947, 10, 0.0009765625),\n",
       " (948, 10, 0.0029296875),\n",
       " (949, 10, 1.0),\n",
       " (950, 10, 0.001953125),\n",
       " (951, 10, 0.0009765625),\n",
       " (952, 10, 1.0),\n",
       " (953, 10, 1.0),\n",
       " (954, 10, 0.0068359375),\n",
       " (955, 10, 0.00390625),\n",
       " (956, 10, 0.0078125),\n",
       " (957, 10, 0.013671875),\n",
       " (958, 10, 0.0068359375),\n",
       " (959, 10, 0.005859375),\n",
       " (960, 10, 0.01171875),\n",
       " (961, 10, 0.0263671875),\n",
       " (962, 10, 0.0244140625),\n",
       " (963, 10, 1.0),\n",
       " (964, 10, 0.0068359375),\n",
       " (965, 10, 0.0029296875),\n",
       " (966, 10, 1.0),\n",
       " (967, 10, 0.01171875),\n",
       " (968, 10, 0.0107421875),\n",
       " (969, 10, 0.001953125),\n",
       " (970, 10, 1.0),\n",
       " (971, 10, 0.0107421875),\n",
       " (972, 10, 0.0029296875),\n",
       " (973, 10, 0.013671875),\n",
       " (974, 10, 0.013671875),\n",
       " (975, 10, 1.0),\n",
       " (976, 10, 1.0),\n",
       " (977, 10, 1.0),\n",
       " (978, 10, 0.0068359375),\n",
       " (979, 10, 1.0),\n",
       " (980, 10, 0.01171875),\n",
       " (981, 10, 0.0009765625),\n",
       " (982, 10, 0.0029296875),\n",
       " (983, 10, 0.001953125),\n",
       " (984, 10, 0.0146484375),\n",
       " (985, 10, 0.0537109375),\n",
       " (986, 10, 0.048828125),\n",
       " (987, 10, 0.0048828125),\n",
       " (988, 10, 0.009765625),\n",
       " (989, 10, 0.0078125),\n",
       " (990, 10, 0.0009765625),\n",
       " (991, 10, 0.0234375),\n",
       " (992, 10, 0.00390625),\n",
       " (993, 10, 0.0078125),\n",
       " (994, 10, 0.0107421875),\n",
       " (995, 10, 0.037109375),\n",
       " (996, 10, 0.001953125),\n",
       " (997, 10, 0.056640625),\n",
       " (998, 10, 0.005859375),\n",
       " (999, 10, 0.0205078125),\n",
       " ...]"
      ]
     },
     "execution_count": 226,
     "metadata": {},
     "output_type": "execute_result"
    }
   ],
   "source": [
    "list(zip(indexes, Y_test, readouts))"
   ]
  },
  {
   "cell_type": "code",
   "execution_count": 227,
   "metadata": {
    "ExecuteTime": {
     "end_time": "2020-10-08T02:49:59.422263Z",
     "start_time": "2020-10-08T02:49:59.366412Z"
    },
    "hidden": true
   },
   "outputs": [
    {
     "data": {
      "text/plain": [
       "Text(0, 0.5, 'Training Readout')"
      ]
     },
     "execution_count": 227,
     "metadata": {},
     "output_type": "execute_result"
    }
   ],
   "source": [
    "#%matplotlib qt\n",
    "plt.scatter(Y_train, m[-1])\n",
    "plt.xlabel(\"Number\")\n",
    "plt.ylabel(\"Training Readout\")\n",
    "#%matplotlib inline"
   ]
  },
  {
   "cell_type": "code",
   "execution_count": 228,
   "metadata": {
    "ExecuteTime": {
     "end_time": "2020-10-08T02:50:01.984422Z",
     "start_time": "2020-10-08T02:50:01.925528Z"
    },
    "hidden": true
   },
   "outputs": [
    {
     "data": {
      "text/plain": [
       "[<matplotlib.lines.Line2D at 0x15208e0af08>]"
      ]
     },
     "execution_count": 228,
     "metadata": {},
     "output_type": "execute_result"
    }
   ],
   "source": [
    "#%matplotlib qt\n",
    "plt.scatter(Y_test, readouts)\n",
    "plt.xlabel(\"Number\")\n",
    "plt.ylabel(\"Prediction Readout\")\n",
    "plt.plot([i for i in range(number_negative_class, number_positive_class + 1)], [test_threshold for _ in range(number_negative_class, number_positive_class + 1)])\n",
    "plt.plot([i for i in range(min(number_negative_class, number_positive_class), max(number_negative_class, number_positive_class) + 1)], [test_threshold for _ in range(abs(number_negative_class - number_positive_class) + 1)])\n",
    "#%matplotlib inline"
   ]
  },
  {
   "cell_type": "code",
   "execution_count": 229,
   "metadata": {
    "ExecuteTime": {
     "end_time": "2020-10-08T02:50:03.730608Z",
     "start_time": "2020-10-08T02:50:03.671766Z"
    },
    "hidden": true
   },
   "outputs": [
    {
     "data": {
      "text/plain": [
       "[<matplotlib.lines.Line2D at 0x1520b119388>]"
      ]
     },
     "execution_count": 229,
     "metadata": {},
     "output_type": "execute_result"
    }
   ],
   "source": [
    "classification_auxiliar = classification / np.max(classification)\n",
    "palette = np.array(sns.color_palette(\"hls\", 2))  #Choosing color palette \n",
    "plt.scatter(Y_test, readouts, lw=0, s=40, c=palette[classification_auxiliar.astype(np.int)])\n",
    "plt.plot([i for i in range(number_negative_class, number_positive_class + 1)], [test_threshold for _ in range(number_negative_class, number_positive_class + 1)])"
   ]
  },
  {
   "cell_type": "code",
   "execution_count": 230,
   "metadata": {
    "ExecuteTime": {
     "end_time": "2020-10-08T02:50:05.234210Z",
     "start_time": "2020-10-08T02:50:05.230158Z"
    },
    "hidden": true
   },
   "outputs": [
    {
     "data": {
      "text/plain": [
       "array([10, 10, 10, ...,  9,  9,  9], dtype=int64)"
      ]
     },
     "execution_count": 230,
     "metadata": {},
     "output_type": "execute_result"
    }
   ],
   "source": [
    "Y_test"
   ]
  },
  {
   "cell_type": "code",
   "execution_count": 231,
   "metadata": {
    "ExecuteTime": {
     "end_time": "2020-10-08T02:50:05.706497Z",
     "start_time": "2020-10-08T02:50:05.661616Z"
    },
    "hidden": true
   },
   "outputs": [
    {
     "data": {
      "text/plain": [
       "<matplotlib.image.AxesImage at 0x1520869db88>"
      ]
     },
     "execution_count": 231,
     "metadata": {},
     "output_type": "execute_result"
    }
   ],
   "source": [
    "plt.imshow(np.array(X_test[2]).reshape(16, 16), cmap=plt.cm.gray_r, interpolation='nearest')"
   ]
  },
  {
   "cell_type": "code",
   "execution_count": 232,
   "metadata": {
    "ExecuteTime": {
     "end_time": "2020-10-08T02:50:07.779972Z",
     "start_time": "2020-10-08T02:50:07.773984Z"
    },
    "hidden": true
   },
   "outputs": [
    {
     "data": {
      "text/plain": [
       "array([[0., 0., 0., 0., 0., 0., 0., 0., 0., 1., 1., 1., 1., 1., 0., 0.],\n",
       "       [0., 0., 0., 0., 0., 0., 0., 0., 0., 0., 0., 0., 0., 1., 1., 0.],\n",
       "       [0., 0., 0., 0., 0., 0., 0., 0., 0., 0., 0., 0., 0., 0., 1., 1.],\n",
       "       [0., 0., 0., 0., 0., 1., 1., 1., 0., 0., 0., 0., 0., 0., 1., 1.],\n",
       "       [0., 0., 0., 1., 1., 1., 1., 1., 0., 0., 0., 0., 0., 0., 1., 1.],\n",
       "       [0., 0., 1., 1., 1., 0., 0., 0., 0., 0., 0., 0., 0., 0., 1., 1.],\n",
       "       [0., 1., 1., 1., 0., 0., 0., 0., 0., 0., 0., 0., 0., 0., 1., 1.],\n",
       "       [0., 1., 1., 0., 0., 0., 0., 0., 0., 0., 0., 0., 0., 0., 1., 0.],\n",
       "       [1., 1., 0., 0., 0., 0., 0., 0., 0., 0., 0., 0., 0., 0., 1., 0.],\n",
       "       [1., 1., 0., 0., 0., 0., 0., 0., 0., 0., 0., 0., 0., 1., 1., 0.],\n",
       "       [1., 0., 0., 0., 0., 0., 0., 0., 0., 0., 0., 0., 1., 1., 0., 0.],\n",
       "       [1., 0., 0., 0., 0., 0., 0., 0., 0., 0., 0., 1., 1., 0., 0., 0.],\n",
       "       [1., 0., 0., 0., 0., 0., 0., 0., 0., 0., 1., 1., 0., 0., 0., 0.],\n",
       "       [1., 1., 0., 0., 0., 0., 0., 0., 1., 1., 1., 0., 0., 0., 0., 0.],\n",
       "       [0., 1., 1., 1., 1., 1., 1., 1., 1., 0., 0., 0., 0., 0., 0., 0.],\n",
       "       [0., 0., 1., 1., 1., 1., 1., 0., 0., 0., 0., 0., 0., 0., 0., 0.]])"
      ]
     },
     "execution_count": 232,
     "metadata": {},
     "output_type": "execute_result"
    }
   ],
   "source": [
    "np.array(X_test[2]).reshape(16, 16)"
   ]
  },
  {
   "cell_type": "code",
   "execution_count": 233,
   "metadata": {
    "ExecuteTime": {
     "end_time": "2020-10-08T02:50:08.263095Z",
     "start_time": "2020-10-08T02:50:08.173303Z"
    },
    "hidden": true
   },
   "outputs": [
    {
     "data": {
      "text/plain": [
       "<matplotlib.axes._subplots.AxesSubplot at 0x15208a51588>"
      ]
     },
     "execution_count": 233,
     "metadata": {},
     "output_type": "execute_result"
    }
   ],
   "source": [
    "import seaborn as sns\n",
    "sns.set_style('white')\n",
    "sns.distplot(readouts, bins = 100, kde = False)"
   ]
  },
  {
   "cell_type": "code",
   "execution_count": 234,
   "metadata": {
    "ExecuteTime": {
     "end_time": "2020-10-08T02:50:09.771547Z",
     "start_time": "2020-10-08T02:50:09.709714Z"
    },
    "hidden": true
   },
   "outputs": [
    {
     "data": {
      "text/plain": [
       "[<matplotlib.lines.Line2D at 0x1520886fdc8>]"
      ]
     },
     "execution_count": 234,
     "metadata": {},
     "output_type": "execute_result"
    }
   ],
   "source": [
    "palette = np.array(sns.color_palette(\"hls\", 2))  #Choosing color palette \n",
    "plt.scatter(Y_train, m[-1], lw=0, s=40, c=palette[m[-1].astype(np.int)])\n",
    "plt.plot([i for i in range(number_negative_class, number_positive_class + 1)], [test_threshold for _ in range(number_negative_class, number_positive_class + 1)])"
   ]
  },
  {
   "cell_type": "code",
   "execution_count": 235,
   "metadata": {
    "ExecuteTime": {
     "end_time": "2020-10-08T02:50:11.363094Z",
     "start_time": "2020-10-08T02:50:11.358104Z"
    },
    "hidden": true
   },
   "outputs": [],
   "source": [
    "filename = 'weights_OvA.txt'\n",
    "mode = 'a+'\n",
    "save_weight(filename = filename, mode = mode, weight = w)"
   ]
  },
  {
   "cell_type": "markdown",
   "metadata": {},
   "source": [
    "# Multi label prediction"
   ]
  },
  {
   "cell_type": "code",
   "execution_count": 236,
   "metadata": {
    "ExecuteTime": {
     "end_time": "2020-10-08T02:50:34.818251Z",
     "start_time": "2020-10-08T02:50:34.814262Z"
    }
   },
   "outputs": [],
   "source": [
    "weights_vector = retrieve_weights_from_file_total(filename = 'weights_OvA.txt')"
   ]
  },
  {
   "cell_type": "code",
   "execution_count": 239,
   "metadata": {
    "ExecuteTime": {
     "end_time": "2020-10-08T02:51:04.266088Z",
     "start_time": "2020-10-08T02:51:04.110267Z"
    }
   },
   "outputs": [],
   "source": [
    "print_weights_matrix(weights_vector)"
   ]
  },
  {
   "cell_type": "code",
   "execution_count": 240,
   "metadata": {
    "ExecuteTime": {
     "end_time": "2020-10-08T02:55:23.835005Z",
     "start_time": "2020-10-08T02:55:23.830054Z"
    }
   },
   "outputs": [
    {
     "name": "stdout",
     "output_type": "stream",
     "text": [
      "[[1 0 0 ... 1 1 1]\n",
      " [1 1 0 ... 1 1 1]\n",
      " [1 0 0 ... 1 1 1]\n",
      " ...\n",
      " [1 0 0 ... 1 1 1]\n",
      " [1 0 0 ... 1 1 1]\n",
      " [1 1 1 ... 1 1 1]]\n"
     ]
    }
   ],
   "source": [
    "print(weights_vector)"
   ]
  },
  {
   "cell_type": "code",
   "execution_count": 245,
   "metadata": {
    "ExecuteTime": {
     "end_time": "2020-10-08T02:58:06.475471Z",
     "start_time": "2020-10-08T02:58:06.246075Z"
    }
   },
   "outputs": [
    {
     "name": "stdout",
     "output_type": "stream",
     "text": [
      "Total count for digits: Counter({1: 162, 0: 161, 4: 161, 6: 161, 2: 159, 3: 159, 5: 159, 7: 158, 9: 158, 8: 155})\n"
     ]
    }
   ],
   "source": [
    "data = np.loadtxt(\"C:/Users/jeff_/OneDrive - Instituto Politecnico Nacional/Datasets/Semeion Handwritten Digit Data Set/semeion.data\")\n",
    "\n",
    "images = data[:,:-10]\n",
    "labels_oh = data[:,-10:]\n",
    "\n",
    "targets = np.argmax(labels_oh, axis = 1)\n",
    "\n",
    "targets_count = Counter(targets)\n",
    "print(f'Total count for digits: {targets_count}')"
   ]
  },
  {
   "cell_type": "code",
   "execution_count": 246,
   "metadata": {
    "ExecuteTime": {
     "end_time": "2020-10-08T02:58:07.365155Z",
     "start_time": "2020-10-08T02:58:07.358194Z"
    }
   },
   "outputs": [],
   "source": [
    "# NO SPLITTING FOR RESUSTITUTION ERROR MEASURE\n",
    "X_train = copy(images)\n",
    "X_test = copy(images)\n",
    "Y_train = copy(targets)\n",
    "Y_test = copy(targets)"
   ]
  },
  {
   "cell_type": "code",
   "execution_count": 247,
   "metadata": {
    "ExecuteTime": {
     "end_time": "2020-10-08T02:58:09.113663Z",
     "start_time": "2020-10-08T02:58:08.911062Z"
    }
   },
   "outputs": [],
   "source": [
    "images_and_labels = list(zip(X_test, Y_test))\n",
    "for index, (image, label) in enumerate(images_and_labels[:20]):\n",
    "    plt.subplot(2, 10, index + 1)\n",
    "    plt.axis('off')\n",
    "    plt.imshow(image.reshape(16, 16), cmap=plt.cm.gray_r, interpolation='nearest')\n",
    "    plt.title('Test: %i' % label)"
   ]
  },
  {
   "cell_type": "code",
   "execution_count": 248,
   "metadata": {
    "ExecuteTime": {
     "end_time": "2020-10-08T02:58:11.906075Z",
     "start_time": "2020-10-08T02:58:11.903083Z"
    }
   },
   "outputs": [],
   "source": [
    "# Reshaping digits\n",
    "X_train = X_train.reshape(X_train.shape[0], -1)\n",
    "X_test = X_test.reshape(X_test.shape[0], -1)"
   ]
  },
  {
   "cell_type": "code",
   "execution_count": 249,
   "metadata": {
    "ExecuteTime": {
     "end_time": "2020-10-08T02:58:24.727976Z",
     "start_time": "2020-10-08T02:58:24.526362Z"
    }
   },
   "outputs": [],
   "source": [
    "images_and_labels = list(zip(X_test, Y_test))\n",
    "for index, (image, label) in enumerate(images_and_labels[:20]):\n",
    "    plt.subplot(2, 10, index + 1)\n",
    "    plt.axis('off')\n",
    "    plt.imshow(image.reshape(16, 16), cmap=plt.cm.gray_r, interpolation='nearest')\n",
    "    plt.title('T: %i' % label)"
   ]
  },
  {
   "cell_type": "code",
   "execution_count": 250,
   "metadata": {
    "ExecuteTime": {
     "end_time": "2020-10-08T04:14:21.591631Z",
     "start_time": "2020-10-08T02:59:01.470746Z"
    },
    "scrolled": true
   },
   "outputs": [
    {
     "data": {
      "application/vnd.jupyter.widget-view+json": {
       "model_id": "eca0b6eff0ad4bd08a67c59da31862ef",
       "version_major": 2,
       "version_minor": 0
      },
      "text/plain": [
       "HBox(children=(FloatProgress(value=0.0, description='Predicting', max=1592.0, style=ProgressStyle(description_…"
      ]
     },
     "metadata": {},
     "output_type": "display_data"
    },
    {
     "name": "stdout",
     "output_type": "stream",
     "text": [
      "\n"
     ]
    },
    {
     "data": {
      "application/vnd.jupyter.widget-view+json": {
       "model_id": "2ad8eaf0373f4f839ffeb8161e86b625",
       "version_major": 2,
       "version_minor": 0
      },
      "text/plain": [
       "HBox(children=(FloatProgress(value=0.0, description='Predicting', max=1592.0, style=ProgressStyle(description_…"
      ]
     },
     "metadata": {},
     "output_type": "display_data"
    },
    {
     "name": "stdout",
     "output_type": "stream",
     "text": [
      "\n"
     ]
    },
    {
     "data": {
      "application/vnd.jupyter.widget-view+json": {
       "model_id": "770a9476fbc54deab257df4b83214628",
       "version_major": 2,
       "version_minor": 0
      },
      "text/plain": [
       "HBox(children=(FloatProgress(value=0.0, description='Predicting', max=1592.0, style=ProgressStyle(description_…"
      ]
     },
     "metadata": {},
     "output_type": "display_data"
    },
    {
     "name": "stdout",
     "output_type": "stream",
     "text": [
      "\n"
     ]
    },
    {
     "data": {
      "application/vnd.jupyter.widget-view+json": {
       "model_id": "2fb685cb52d14c1388f2debcd973a9c1",
       "version_major": 2,
       "version_minor": 0
      },
      "text/plain": [
       "HBox(children=(FloatProgress(value=0.0, description='Predicting', max=1592.0, style=ProgressStyle(description_…"
      ]
     },
     "metadata": {},
     "output_type": "display_data"
    },
    {
     "name": "stdout",
     "output_type": "stream",
     "text": [
      "\n"
     ]
    },
    {
     "data": {
      "application/vnd.jupyter.widget-view+json": {
       "model_id": "34524c1abd09435faf365434f4df8229",
       "version_major": 2,
       "version_minor": 0
      },
      "text/plain": [
       "HBox(children=(FloatProgress(value=0.0, description='Predicting', max=1592.0, style=ProgressStyle(description_…"
      ]
     },
     "metadata": {},
     "output_type": "display_data"
    },
    {
     "name": "stdout",
     "output_type": "stream",
     "text": [
      "\n"
     ]
    },
    {
     "data": {
      "application/vnd.jupyter.widget-view+json": {
       "model_id": "58f5fae0deba42cb80d1d334ab4a956c",
       "version_major": 2,
       "version_minor": 0
      },
      "text/plain": [
       "HBox(children=(FloatProgress(value=0.0, description='Predicting', max=1592.0, style=ProgressStyle(description_…"
      ]
     },
     "metadata": {},
     "output_type": "display_data"
    },
    {
     "name": "stdout",
     "output_type": "stream",
     "text": [
      "\n"
     ]
    },
    {
     "data": {
      "application/vnd.jupyter.widget-view+json": {
       "model_id": "7399308c2935461aa197043b31c5ab9c",
       "version_major": 2,
       "version_minor": 0
      },
      "text/plain": [
       "HBox(children=(FloatProgress(value=0.0, description='Predicting', max=1592.0, style=ProgressStyle(description_…"
      ]
     },
     "metadata": {},
     "output_type": "display_data"
    },
    {
     "name": "stdout",
     "output_type": "stream",
     "text": [
      "\n"
     ]
    },
    {
     "data": {
      "application/vnd.jupyter.widget-view+json": {
       "model_id": "1d6acc6c2f9147688a55fe7a02c58762",
       "version_major": 2,
       "version_minor": 0
      },
      "text/plain": [
       "HBox(children=(FloatProgress(value=0.0, description='Predicting', max=1592.0, style=ProgressStyle(description_…"
      ]
     },
     "metadata": {},
     "output_type": "display_data"
    },
    {
     "name": "stdout",
     "output_type": "stream",
     "text": [
      "\n"
     ]
    },
    {
     "data": {
      "application/vnd.jupyter.widget-view+json": {
       "model_id": "e2d1326c6a7f4ebaa8676f7d24a9fe71",
       "version_major": 2,
       "version_minor": 0
      },
      "text/plain": [
       "HBox(children=(FloatProgress(value=0.0, description='Predicting', max=1592.0, style=ProgressStyle(description_…"
      ]
     },
     "metadata": {},
     "output_type": "display_data"
    },
    {
     "name": "stdout",
     "output_type": "stream",
     "text": [
      "\n"
     ]
    },
    {
     "data": {
      "application/vnd.jupyter.widget-view+json": {
       "model_id": "c9c81f6aa4f64ce29a2ba2b524923cf2",
       "version_major": 2,
       "version_minor": 0
      },
      "text/plain": [
       "HBox(children=(FloatProgress(value=0.0, description='Predicting', max=1592.0, style=ProgressStyle(description_…"
      ]
     },
     "metadata": {},
     "output_type": "display_data"
    },
    {
     "name": "stdout",
     "output_type": "stream",
     "text": [
      "\n"
     ]
    }
   ],
   "source": [
    "N = -1\n",
    "test_threshold = 0.109375\n",
    "Q = 8\n",
    "classification_patterns = X_test[:N]\n",
    "classification_labels = Y_test[:N]\n",
    "shots = 1024\n",
    "bias = 0.0\n",
    "\n",
    "holder_for_classes, holder_for_readouts = multi_class_prediction_OVA(qubits = Q, classification_patterns = classification_patterns, shots = shots, test_threshold = test_threshold, weights_matrix = weights_vector, bias = bias)"
   ]
  },
  {
   "cell_type": "code",
   "execution_count": 251,
   "metadata": {
    "ExecuteTime": {
     "end_time": "2020-10-08T04:14:21.596584Z",
     "start_time": "2020-10-08T04:14:21.592595Z"
    }
   },
   "outputs": [],
   "source": [
    "# To print only two decimal places\n",
    "np.set_printoptions(precision = 2)"
   ]
  },
  {
   "cell_type": "code",
   "execution_count": 252,
   "metadata": {
    "ExecuteTime": {
     "end_time": "2020-10-08T04:14:21.606557Z",
     "start_time": "2020-10-08T04:14:21.598580Z"
    }
   },
   "outputs": [
    {
     "data": {
      "text/plain": [
       "array([[10, 10, 10, ..., 10, 10,  9],\n",
       "       [ 0,  1, 10, ...,  7,  8,  9],\n",
       "       [ 0,  1,  2, ...,  7,  8,  9],\n",
       "       ...,\n",
       "       [ 0,  1,  2, ...,  7,  8,  9],\n",
       "       [10, 10, 10, ..., 10, 10,  9],\n",
       "       [10, 10, 10, ..., 10, 10,  9]], dtype=int64)"
      ]
     },
     "execution_count": 252,
     "metadata": {},
     "output_type": "execute_result"
    }
   ],
   "source": [
    "holder_for_classes"
   ]
  },
  {
   "cell_type": "code",
   "execution_count": 253,
   "metadata": {
    "ExecuteTime": {
     "end_time": "2020-10-08T04:14:21.616531Z",
     "start_time": "2020-10-08T04:14:21.612542Z"
    }
   },
   "outputs": [],
   "source": [
    "mx, my = np.where(holder_for_classes == 10)"
   ]
  },
  {
   "cell_type": "code",
   "execution_count": 254,
   "metadata": {
    "ExecuteTime": {
     "end_time": "2020-10-08T04:14:21.623513Z",
     "start_time": "2020-10-08T04:14:21.618526Z"
    }
   },
   "outputs": [],
   "source": [
    "for i, j in zip(mx, my):\n",
    "    holder_for_readouts[i, j] = 0"
   ]
  },
  {
   "cell_type": "code",
   "execution_count": 255,
   "metadata": {
    "ExecuteTime": {
     "end_time": "2020-10-08T04:14:21.630494Z",
     "start_time": "2020-10-08T04:14:21.625507Z"
    }
   },
   "outputs": [
    {
     "name": "stdout",
     "output_type": "stream",
     "text": [
      "[[0.   0.   0.   ... 0.   0.   0.08]\n",
      " [0.   0.   0.   ... 0.   0.01 0.04]\n",
      " [0.   0.01 0.01 ... 0.   0.01 0.03]\n",
      " ...\n",
      " [0.08 0.07 0.06 ... 0.08 0.09 0.  ]\n",
      " [0.   0.   0.   ... 0.   0.   0.03]\n",
      " [0.   0.   0.   ... 0.   0.   0.05]]\n"
     ]
    }
   ],
   "source": [
    "print(holder_for_readouts)"
   ]
  },
  {
   "cell_type": "code",
   "execution_count": 265,
   "metadata": {
    "ExecuteTime": {
     "end_time": "2020-10-08T04:19:03.750546Z",
     "start_time": "2020-10-08T04:19:03.745558Z"
    }
   },
   "outputs": [],
   "source": [
    "classified_as = np.argmin(holder_for_readouts, axis = 1)"
   ]
  },
  {
   "cell_type": "code",
   "execution_count": 260,
   "metadata": {
    "ExecuteTime": {
     "end_time": "2020-10-08T04:16:52.095874Z",
     "start_time": "2020-10-08T04:16:26.347035Z"
    }
   },
   "outputs": [
    {
     "name": "stderr",
     "output_type": "stream",
     "text": [
      "C:\\Users\\jeff_\\Anaconda3\\lib\\site-packages\\ipykernel_launcher.py:18: UserWarning: Tight layout not applied. tight_layout cannot make axes width small enough to accommodate all axes decorations\n"
     ]
    }
   ],
   "source": [
    "fig, axs = plt.subplots(3, int(np.ceil(len(classification_patterns) / 3)), figsize=(15,9))\n",
    "count = 0\n",
    "\n",
    "for i in range(3):\n",
    "    for j in range(int(np.ceil(len(classification_patterns) / 3))):\n",
    "        ax = axs[i][j]\n",
    "        \n",
    "        #c = ax.pcolor(thetas[i + j][1:].reshape(28, 28), cmap = 'gray')\n",
    "        try:\n",
    "            c = ax.imshow(np.array(classification_patterns[count]).reshape(16, 16), cmap = 'gray_r', interpolation='nearest')\n",
    "            ax.axis('off')\n",
    "            ax.axis('equal')\n",
    "            ax.set_title(f'Clas. as {classified_as[count]} is {classification_labels[count]}').set_position([0.5, 1.1])\n",
    "            count += 1\n",
    "        except IndexError:\n",
    "            continue\n",
    "        \n",
    "fig.tight_layout()\n",
    "plt.colorbar(c)\n",
    "plt.show()"
   ]
  },
  {
   "cell_type": "code",
   "execution_count": 266,
   "metadata": {
    "ExecuteTime": {
     "end_time": "2020-10-08T04:19:05.605567Z",
     "start_time": "2020-10-08T04:19:05.601563Z"
    }
   },
   "outputs": [
    {
     "name": "stdout",
     "output_type": "stream",
     "text": [
      "Accuracy = 0.10615577889447236\n"
     ]
    }
   ],
   "source": [
    "accuracy = len(np.where(classification_labels == classified_as)[0]) / len(classification_labels)\n",
    "print(f'Accuracy = {accuracy}')"
   ]
  },
  {
   "cell_type": "code",
   "execution_count": 262,
   "metadata": {
    "ExecuteTime": {
     "end_time": "2020-10-08T04:17:29.607688Z",
     "start_time": "2020-10-08T04:17:29.521827Z"
    }
   },
   "outputs": [],
   "source": [
    "fig, ax = plt.subplots(1, 1, figsize=(15,9))\n",
    "\n",
    "c = ax.imshow(holder_for_readouts, cmap = 'hot', interpolation='nearest')\n",
    "ax.axis('on')\n",
    "#ax.axis('equal')\n",
    "ax.set_title(f'Heatmap for Readouts').set_position([0.5, 1.1])\n",
    "        \n",
    "fig.tight_layout()\n",
    "norm = mpl.colors.Normalize(vmin=np.nan_to_num(holder_for_readouts.astype(float)).min(), vmax=np.nan_to_num(holder_for_readouts.astype(float)).max())\n",
    "plt.colorbar(c, norm = norm)\n",
    "plt.show()"
   ]
  },
  {
   "cell_type": "markdown",
   "metadata": {},
   "source": [
    "## Evaluating"
   ]
  },
  {
   "cell_type": "code",
   "execution_count": 267,
   "metadata": {
    "ExecuteTime": {
     "end_time": "2020-10-08T04:19:09.256667Z",
     "start_time": "2020-10-08T04:19:09.249680Z"
    }
   },
   "outputs": [
    {
     "data": {
      "text/plain": [
       "array([[35, 14, 38, 13,  9, 12, 12, 19,  3,  6],\n",
       "       [32, 18, 20, 12,  2,  8,  6, 15,  3, 46],\n",
       "       [25, 33, 12, 22,  4,  2,  3,  3,  2, 53],\n",
       "       [15,  3,  6, 26, 12,  1,  5,  6,  3, 82],\n",
       "       [32, 18, 12, 25, 11, 28,  4, 14,  6, 11],\n",
       "       [18,  7, 16, 18, 17, 11, 14, 13,  1, 44],\n",
       "       [43, 22, 19, 17, 16,  6,  7, 14,  8,  9],\n",
       "       [23, 19,  9, 20,  7,  4,  9, 18,  4, 45],\n",
       "       [45, 11,  8, 22, 27,  8, 10, 11,  5,  8],\n",
       "       [40, 14, 14, 20,  9, 10, 14,  7,  3, 26]], dtype=int64)"
      ]
     },
     "execution_count": 267,
     "metadata": {},
     "output_type": "execute_result"
    }
   ],
   "source": [
    "conf = confusion_matrix(classification_labels, classified_as)\n",
    "conf"
   ]
  },
  {
   "cell_type": "code",
   "execution_count": 268,
   "metadata": {
    "ExecuteTime": {
     "end_time": "2020-10-08T04:19:54.469649Z",
     "start_time": "2020-10-08T04:19:54.320923Z"
    }
   },
   "outputs": [],
   "source": [
    "plot_confusion_matrix(conf, target_names = np.unique(classification_labels), labels = True, normalize = False)"
   ]
  },
  {
   "cell_type": "code",
   "execution_count": 269,
   "metadata": {
    "ExecuteTime": {
     "end_time": "2020-10-08T04:20:18.544893Z",
     "start_time": "2020-10-08T04:20:18.538903Z"
    }
   },
   "outputs": [
    {
     "data": {
      "text/plain": [
       "0.10615577889447236"
      ]
     },
     "execution_count": 269,
     "metadata": {},
     "output_type": "execute_result"
    }
   ],
   "source": [
    "accuracy_score(classification_labels, classified_as)"
   ]
  },
  {
   "cell_type": "code",
   "execution_count": 270,
   "metadata": {
    "ExecuteTime": {
     "end_time": "2020-10-08T04:20:20.745152Z",
     "start_time": "2020-10-08T04:20:20.738171Z"
    }
   },
   "outputs": [
    {
     "data": {
      "text/plain": [
       "array([[35, 14, 38, 13,  9, 12, 12, 19,  3,  6],\n",
       "       [32, 18, 20, 12,  2,  8,  6, 15,  3, 46],\n",
       "       [25, 33, 12, 22,  4,  2,  3,  3,  2, 53],\n",
       "       [15,  3,  6, 26, 12,  1,  5,  6,  3, 82],\n",
       "       [32, 18, 12, 25, 11, 28,  4, 14,  6, 11],\n",
       "       [18,  7, 16, 18, 17, 11, 14, 13,  1, 44],\n",
       "       [43, 22, 19, 17, 16,  6,  7, 14,  8,  9],\n",
       "       [23, 19,  9, 20,  7,  4,  9, 18,  4, 45],\n",
       "       [45, 11,  8, 22, 27,  8, 10, 11,  5,  8],\n",
       "       [40, 14, 14, 20,  9, 10, 14,  7,  3, 26]], dtype=int64)"
      ]
     },
     "execution_count": 270,
     "metadata": {},
     "output_type": "execute_result"
    }
   ],
   "source": [
    "confusion_matrix(classification_labels, classified_as)"
   ]
  },
  {
   "cell_type": "code",
   "execution_count": 271,
   "metadata": {
    "ExecuteTime": {
     "end_time": "2020-10-08T04:20:25.985379Z",
     "start_time": "2020-10-08T04:20:25.978397Z"
    }
   },
   "outputs": [
    {
     "data": {
      "text/plain": [
       "array([0.11, 0.11, 0.08, 0.13, 0.1 , 0.12, 0.08, 0.15, 0.13, 0.08])"
      ]
     },
     "execution_count": 271,
     "metadata": {},
     "output_type": "execute_result"
    }
   ],
   "source": [
    "precision_score(classification_labels, classified_as, average = None)"
   ]
  },
  {
   "cell_type": "code",
   "execution_count": 272,
   "metadata": {
    "ExecuteTime": {
     "end_time": "2020-10-08T04:20:28.431564Z",
     "start_time": "2020-10-08T04:20:28.426576Z"
    }
   },
   "outputs": [
    {
     "data": {
      "text/plain": [
       "array([0.22, 0.11, 0.08, 0.16, 0.07, 0.07, 0.04, 0.11, 0.03, 0.17])"
      ]
     },
     "execution_count": 272,
     "metadata": {},
     "output_type": "execute_result"
    }
   ],
   "source": [
    "recall_score(classification_labels, classified_as, average = None)"
   ]
  },
  {
   "cell_type": "code",
   "execution_count": 273,
   "metadata": {
    "ExecuteTime": {
     "end_time": "2020-10-08T04:20:29.656723Z",
     "start_time": "2020-10-08T04:20:29.650704Z"
    }
   },
   "outputs": [
    {
     "data": {
      "text/plain": [
       "array([0.15, 0.11, 0.08, 0.15, 0.08, 0.09, 0.06, 0.13, 0.05, 0.11])"
      ]
     },
     "execution_count": 273,
     "metadata": {},
     "output_type": "execute_result"
    }
   ],
   "source": [
    "f1_score(classification_labels, classified_as, average = None)"
   ]
  },
  {
   "cell_type": "code",
   "execution_count": 275,
   "metadata": {
    "ExecuteTime": {
     "end_time": "2020-10-08T04:20:52.097588Z",
     "start_time": "2020-10-08T04:20:52.091605Z"
    }
   },
   "outputs": [
    {
     "data": {
      "text/plain": [
       "0.11005129318436171"
      ]
     },
     "execution_count": 275,
     "metadata": {},
     "output_type": "execute_result"
    }
   ],
   "source": [
    "precision_score(classification_labels, classified_as, average = 'macro')"
   ]
  },
  {
   "cell_type": "code",
   "execution_count": 276,
   "metadata": {
    "ExecuteTime": {
     "end_time": "2020-10-08T04:21:25.560103Z",
     "start_time": "2020-10-08T04:21:25.554138Z"
    }
   },
   "outputs": [
    {
     "data": {
      "text/plain": [
       "0.10602669690143347"
      ]
     },
     "execution_count": 276,
     "metadata": {},
     "output_type": "execute_result"
    }
   ],
   "source": [
    "recall_score(classification_labels, classified_as, average = 'macro')"
   ]
  },
  {
   "cell_type": "code",
   "execution_count": 277,
   "metadata": {
    "ExecuteTime": {
     "end_time": "2020-10-08T04:21:34.312725Z",
     "start_time": "2020-10-08T04:21:34.305744Z"
    }
   },
   "outputs": [
    {
     "data": {
      "text/plain": [
       "0.09985555615906413"
      ]
     },
     "execution_count": 277,
     "metadata": {},
     "output_type": "execute_result"
    }
   ],
   "source": [
    "f1_score(classification_labels, classified_as, average = 'macro')"
   ]
  },
  {
   "cell_type": "code",
   "execution_count": null,
   "metadata": {},
   "outputs": [],
   "source": []
  }
 ],
 "metadata": {
  "kernelspec": {
   "display_name": "Python 3",
   "language": "python",
   "name": "python3"
  },
  "language_info": {
   "codemirror_mode": {
    "name": "ipython",
    "version": 3
   },
   "file_extension": ".py",
   "mimetype": "text/x-python",
   "name": "python",
   "nbconvert_exporter": "python",
   "pygments_lexer": "ipython3",
   "version": "3.7.4"
  },
  "varInspector": {
   "cols": {
    "lenName": 16,
    "lenType": 16,
    "lenVar": 40
   },
   "kernels_config": {
    "python": {
     "delete_cmd_postfix": "",
     "delete_cmd_prefix": "del ",
     "library": "var_list.py",
     "varRefreshCmd": "print(var_dic_list())"
    },
    "r": {
     "delete_cmd_postfix": ") ",
     "delete_cmd_prefix": "rm(",
     "library": "var_list.r",
     "varRefreshCmd": "cat(var_dic_list()) "
    }
   },
   "position": {
    "height": "144px",
    "left": "1166px",
    "right": "20px",
    "top": "119px",
    "width": "350px"
   },
   "types_to_exclude": [
    "module",
    "function",
    "builtin_function_or_method",
    "instance",
    "_Feature"
   ],
   "window_display": false
  }
 },
 "nbformat": 4,
 "nbformat_minor": 2
}
