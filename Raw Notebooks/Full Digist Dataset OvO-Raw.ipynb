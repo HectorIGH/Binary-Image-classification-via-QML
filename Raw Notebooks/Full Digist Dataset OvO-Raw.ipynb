{
 "cells": [
  {
   "cell_type": "markdown",
   "metadata": {
    "heading_collapsed": true
   },
   "source": [
    "# Imports"
   ]
  },
  {
   "cell_type": "code",
   "execution_count": 2,
   "metadata": {
    "ExecuteTime": {
     "end_time": "2020-11-13T00:43:24.275907Z",
     "start_time": "2020-11-13T00:43:21.355478Z"
    },
    "hidden": true
   },
   "outputs": [
    {
     "data": {
      "application/javascript": [
       "if (!(\"Notification\" in window)) {\n",
       "    alert(\"This browser does not support desktop notifications, so the %%notify magic will not work.\");\n",
       "} else if (Notification.permission !== 'granted' && Notification.permission !== 'denied') {\n",
       "    Notification.requestPermission(function (permission) {\n",
       "        if(!('permission' in Notification)) {\n",
       "            Notification.permission = permission;\n",
       "        }\n",
       "    })\n",
       "}\n"
      ],
      "text/plain": [
       "<IPython.core.display.Javascript object>"
      ]
     },
     "metadata": {},
     "output_type": "display_data"
    }
   ],
   "source": [
    "import numpy as np\n",
    "from collections import Counter\n",
    "import matplotlib.pyplot as plt\n",
    "import matplotlib.cm as cm\n",
    "import matplotlib as mpl\n",
    "import itertools\n",
    "import seaborn as sns\n",
    "import cv2\n",
    "import sklearn\n",
    "from sklearn import datasets\n",
    "from sklearn.metrics import accuracy_score, precision_score, recall_score, f1_score, confusion_matrix, roc_curve, auc, log_loss\n",
    "from functools import partial, lru_cache\n",
    "from copy import copy\n",
    "\n",
    "from qiskit import ClassicalRegister, QuantumRegister, QuantumCircuit, Aer, execute, IBMQ\n",
    "from qiskit.tools.visualization import circuit_drawer\n",
    "from qiskit.tools.visualization import plot_histogram\n",
    "from qiskit.extensions.unitary import unitary\n",
    "from qiskit.tools.monitor import job_monitor\n",
    "from qiskit.compiler import transpile, assemble\n",
    "S_simulator = Aer.backends(name = 'statevector_simulator')[0]\n",
    "M_simulator = Aer.backends(name = 'qasm_simulator')[0]\n",
    "\n",
    "import functools\n",
    "from tqdm import tqdm, tqdm_notebook, notebook\n",
    "from operator import itemgetter\n",
    "\n",
    "%matplotlib qt\n",
    "%load_ext jupyternotify"
   ]
  },
  {
   "cell_type": "markdown",
   "metadata": {},
   "source": [
    "# Auxiliar functions definition"
   ]
  },
  {
   "cell_type": "code",
   "execution_count": 9,
   "metadata": {
    "ExecuteTime": {
     "end_time": "2020-11-13T00:55:16.083293Z",
     "start_time": "2020-11-13T00:55:15.997523Z"
    }
   },
   "outputs": [],
   "source": [
    "def preprocess(vector):\n",
    "    \"\"\"\n",
    "    Input: a vector of size m = 2^N with entries in {-1, 1}.\n",
    "    Output: a (m, 2) numpy array with the form:\n",
    "    [[1 list([])]\n",
    "     [-1 list([])]\n",
    "     [1 list([])]\n",
    "     [1 list([])]]\n",
    "    where the frst column represents the sign and the second is the position in binary.\n",
    "    \"\"\"\n",
    "    # Factorize the sign\n",
    "    i_unsigned = np.multiply(-1, vector)\n",
    "    # To binary string\n",
    "    i_binary = [bin(int(n)) for n in i_unsigned]\n",
    "    # Remove the -0b or 0b par of the binary representation. bin(7) = 0b111 -> 111\n",
    "    for index, e in enumerate(i_binary):\n",
    "        if(e[0] == '-'):\n",
    "            #i_binary[index] = [-1, [int(e) for e in bin(index)[2:]]]\n",
    "            i_binary[index] = [-1, list(map(int, str(int(bin(index)[2:]))))]\n",
    "        else:\n",
    "            #i_binary[index] = [1, [int(e) for e in bin(index)[2:]]]\n",
    "            i_binary[index] = [1, list(map(int, str(int(bin(index)[2:]))))]\n",
    "            \n",
    "    n = int(np.log2(len(i_binary)))\n",
    "    for index, element in enumerate(i_binary):\n",
    "        if (len(element[1]) != n):\n",
    "            while (len(i_binary[index][1]) != n):\n",
    "                i_binary[index][1].insert(0, 0)\n",
    "    #for i in range(len(i_binary)):\n",
    "    #    i_binary[i][1] = i_binary[i][1][::-1]\n",
    "    i_binary = np.array(i_binary)\n",
    "    #print(i_binary)\n",
    "    return i_binary\n",
    "\n",
    "def check_z(binary):\n",
    "    \"\"\"\n",
    "    Input: a preprocessed vector via preprocess().\n",
    "    Output: a vector whose entries represents the qubit to perform a Z-gate.\n",
    "    \"\"\"\n",
    "    positive = True # Controls the sign to achieve\n",
    "    \n",
    "    if (int(binary[0][0]) < 0):\n",
    "        positive = False\n",
    "        \n",
    "    #print(f'The sign will be positive: {positive}')\n",
    "    z_index = []\n",
    "    for index, element in enumerate(binary):\n",
    "        counts = Counter(element[1])\n",
    "        #print(counts[1])\n",
    "        if (counts[1] == 1):\n",
    "            if (positive):\n",
    "                if (int(binary[index][0]) == -1):\n",
    "                    #print(f'Z gate in qubit {np.where(np.array(binary[2**i][1]) == 1)[0]}')\n",
    "                    z_index.append(int(np.where(np.array(binary[index][1]) == 1)[0][0]))\n",
    "            else:\n",
    "                if (int(binary[index][0]) == 1):\n",
    "                    #print(f'Z gate in qubit {np.where(np.array(binary[2**i][1]) == 1)[0]}')\n",
    "                    z_index.append(int(np.where(np.array(binary[index][1]) == 1)[0][0]))\n",
    "    #print(z_index)\n",
    "    #z_index = reindex(int(np.log2(len(i_binary))), z_index)\n",
    "    return z_index\n",
    "\n",
    "def apply_z(binary, Z):\n",
    "    \"\"\"\n",
    "    Input: the preprocessed vector and a vector containing the qubits to apply a Z-gate.\n",
    "    Output: the resultant vector with the signs flipped accordingly to the action of the Z-gates.\n",
    "    \"\"\"\n",
    "    '''for ind, e in enumerate(binary):\n",
    "        counts = Counter(e[1])\n",
    "        if counts[1] > 0:\n",
    "            ones = np.where(np.array(e[1]) == 1)[0]\n",
    "            #print(counts[1], e[1], ones)\n",
    "            for z in Z:\n",
    "                #print(f'z = {z}, ones = {ones}, changes = {z in ones}')\n",
    "                if (z in ones):\n",
    "                    binary[ind][0] *= -1'''\n",
    "    \n",
    "    for z in Z:\n",
    "        mask = np.array(list(map(lambda x : x[z] == 1, binary[:,1])))\n",
    "        binary[mask, 0] *= -1\n",
    "    \n",
    "    #print(binary)\n",
    "    return binary\n",
    "\n",
    "\n",
    "def check_cpz(binary):\n",
    "    \"\"\"\n",
    "    Input: the current preprocessed vector.\n",
    "    Output: the final desired vector and a vector whose elements are vectos containing the qubits to whom apply\n",
    "            the CPZ.\n",
    "    \"\"\"\n",
    "    CPZ = set()\n",
    "    n = int(np.log2(len(binary)))\n",
    "    #print(n)\n",
    "    sequence = 0\n",
    "    '''\n",
    "    # Ordered by the number of ones in its binary representation\n",
    "    aux_binary = sorted(binary, key = lambda item : Counter(item[1])[1])\n",
    "    \n",
    "    # Index holds the positions of the first appearance of n number of ones\n",
    "    index = []\n",
    "    cuenta = 1\n",
    "    for i, e in enumerate(aux_binary):\n",
    "        if (np.sum(e[1]) > cuenta):\n",
    "            index.append(i)\n",
    "            cuenta -= -1\n",
    "    \n",
    "    for ind in index: # Now ind holds where in the aux_binary star to appear elements with 2,3,... ones\n",
    "        for i in range(ind, len(aux_binary)):\n",
    "            if (aux_binary[i][0] != aux_binary[0][0]):\n",
    "                ones = np.where(np.array(aux_binary[i][1]) == 1)[0]\n",
    "                CPZ.add(tuple([sequence, tuple(ones)]))\n",
    "                sequence -= -1\n",
    "                \n",
    "                for j in range(ind, len(aux_binary)):\n",
    "                    pos = np.where(np.array(aux_binary[j][1]) == 1)[0]\n",
    "                    pos_set = set(pos)\n",
    "                    ones_set = set(ones)\n",
    "                    if (set.issubset(ones_set, pos_set)):\n",
    "                        aux_binary[j][0] *= -1\n",
    "        \n",
    "    \n",
    "    \n",
    "    \n",
    "    '''\n",
    "    for p in range(2, n + 1):\n",
    "        for ind, e in enumerate(binary):\n",
    "            counts = Counter(e[1])\n",
    "            #print(f'manifold of {p}')\n",
    "            if (counts[1] == p) and (binary[0][0] != e[0]):\n",
    "                ones = np.where(np.array(e[1]) == 1)[0]\n",
    "                #cadena = lambda a : str(a)\n",
    "                #unos = cadena(ones)[1:-1]\n",
    "                #CPZ.add(tuple(ones))\n",
    "                CPZ.add(tuple([sequence, tuple(ones)]))\n",
    "                #print(f'applying {tuple([sequence, tuple(ones)])} because {e}')\n",
    "                sequence += 1\n",
    "                \n",
    "                ones_set = set(ones)\n",
    "                mask = np.array(list(map(partial(check_set, ones_set) , binary[:, 1])))\n",
    "                \n",
    "                binary[mask, 0] *= -1\n",
    "                \n",
    "                #for ind, e in enumerate(binary):\n",
    "                #    pos = np.where(np.array(e[1]) == 1)[0]\n",
    "                #    pos_set = set(pos)\n",
    "                #    ones_set = set(ones)\n",
    "                #    if (set.issubset(ones_set, pos_set)):\n",
    "                #        binary[ind][0] *= -1\n",
    "                        #CPZ.append(ones)\n",
    "                        #print(f'C{p}Z = {ones}')\n",
    "    #'''\n",
    "    #print(binary)\n",
    "    CPZ = [list(ele) for _, ele in enumerate(CPZ)]\n",
    "    CPZ = sorted(CPZ, key = lambda l: l[0])\n",
    "    #print(CPZ)\n",
    "    CPZ = [list(e[1]) for e in CPZ]\n",
    "    #sett = [list(e) for e in sett]\n",
    "    #if(binary[0][0] < 0):\n",
    "    #    CPZ = list(map(partial(reindex, int(np.log2(len(binary)))), CPZ))\n",
    "    #CPZ = sorted(CPZ, key = lambda l: (len(l), l.sort()))\n",
    "    return CPZ\n",
    "\n",
    "def check_set(ones_set, pos_set):\n",
    "    return set.issubset(ones_set, set(np.where(np.array(pos_set) == 1)[0]))\n",
    "\n",
    "def vectorize(number, digits):\n",
    "    \"\"\"\n",
    "    Input: an integer in decimal form and the number of final digits as binary.\n",
    "    Output: its representation on binary as an array. Most significant bit as first element of the array.\n",
    "    \"\"\"\n",
    "    digits = 2**(np.ceil(np.log2(digits)))\n",
    "    binary_number = bin(number)[2:]\n",
    "    as_text = str(binary_number)\n",
    "    vectorized_number = [int(d) for d in as_text]\n",
    "    #print(vectorized_number)\n",
    "    if (digits < len(vectorized_number)):\n",
    "        digits = 2**(np.ceil(np.log2(len(vectorized_number))))\n",
    "    if (digits > len(vectorized_number)):\n",
    "        while (len(vectorized_number) != digits):\n",
    "            vectorized_number.insert(0, 0)\n",
    "    #print(vectorized_number)\n",
    "    return np.array(vectorized_number)\n",
    "\n",
    "def o_product(i, w):\n",
    "    return (np.abs(np.dot(i, w))/len(i))**2\n",
    "\n",
    "def sign(p):\n",
    "    #Can be substitute in code by:\n",
    "    #sign = lambda p : [(-1)**i for i in p]\n",
    "    #list(map(sign, inputs))\n",
    "    return [(-1)**i for i in p]\n",
    "\n",
    "def design(p):\n",
    "    return [1 if i < 0 else 0 for i in w]\n",
    "\n",
    "def reindex(N, change):\n",
    "    origin = np.array([i for i in range(N)])\n",
    "    destiny = np.flipud(origin)\n",
    "    \n",
    "    for index, element in enumerate(change):\n",
    "        #print(f'{element} -> {np.where(d == element)[0]}')\n",
    "        change[index] = np.where(destiny == element)[0][0]\n",
    "        \n",
    "    return change\n",
    "\n",
    "def U(qc, q, Z, CPZ):\n",
    "    for z in Z:\n",
    "        #print(f'Z gate in qubit {type(int(z))}')\n",
    "        qc.z(q[int(z)])\n",
    "    for cpz in CPZ:\n",
    "        controls = [q[int(i)] for i in cpz[:-1]]\n",
    "        target = q[int(cpz[-1])]\n",
    "        #print(f'CPZ gate with control {controls} and target {target}')\n",
    "        qc.h(cpz[-1])\n",
    "        #qc.mct(controls, target, None, mode='advanced')\n",
    "        \n",
    "        #try:\n",
    "        #    qc.mct(controls, target, None, mode='advanced')\n",
    "        #except AssertionError:\n",
    "            #print(\"Going to mode noancilla\")\n",
    "        qc.mct(controls, target, None, mode='noancilla')\n",
    "        \n",
    "        qc.h(cpz[-1])\n",
    "    return qc\n",
    "\n",
    "#@lru_cache(maxsize = None)\n",
    "def gates_sequence(vector):\n",
    "    #print('Preprocessing')\n",
    "    binary = preprocess(vector)\n",
    "    #print('Getting Z gates')\n",
    "    Z_GATES = check_z(binary)\n",
    "    #print('Applying Z gates')\n",
    "    binary = apply_z(binary, Z_GATES)\n",
    "    #print('Getting CpZ gates')\n",
    "    CPZ_GATES = check_cpz(binary)\n",
    "    return Z_GATES, CPZ_GATES\n",
    "\n",
    "def perceptron(N = 1, shots = 512, z_gates_w = [], CPZ_gates_w = [], z_gates_i = [], CPZ_gates_i = [], simulation = True):\n",
    "    \n",
    "    q = QuantumRegister(N, name = 'q_r')\n",
    "    #A = QuantumRegister(1, name = 'auxiliar_ancillar')\n",
    "    a = QuantumRegister(1, name = 'a_r')\n",
    "    c = ClassicalRegister(1, name = 'c_r')\n",
    "    qc = QuantumCircuit(q, a, c, name = 'qc')\n",
    "\n",
    "    for index in range(N):\n",
    "        qc.h(q[index])\n",
    "\n",
    "        \n",
    "    qc = U(qc, q, z_gates_i, CPZ_gates_i)\n",
    "    qc = U(qc, q, z_gates_w, CPZ_gates_w)\n",
    "\n",
    "    for index in range(N):\n",
    "        qc.h(q[index])\n",
    "    \n",
    "    for index in range(N):\n",
    "        qc.x(q[index])\n",
    "\n",
    "    #qc.mct(q[:], a[0], None, mode='advanced')\n",
    "    \n",
    "    #try:\n",
    "    #    qc.mct(q[:], a[0], None, mode='advanced')\n",
    "    #except AssertionError:\n",
    "        #print(\"Going to mode noancilla\")\n",
    "    qc.mct(q[:], a[0], None, mode='noancilla')    \n",
    "        \n",
    "    qc.measure(a[0], c)\n",
    "    #print(qc)\n",
    "        \n",
    "    #results = execute(qc, backend = M_simulator, shots = shots).result()\n",
    "    \n",
    "    # Optimized\n",
    "    transpiled_circuit = transpile(qc, M_simulator, optimization_level = 1) # optimization_level = [0, 1, 2, 3]\n",
    "    job = M_simulator.run(assemble(transpiled_circuit, shots = shots))\n",
    "    results = job.result()\n",
    "    \n",
    "    #results = execute(qc, backend = qcomp, shots = shots, memory=True) # For Real Quantum Computing\n",
    "\n",
    "    #job_monitor(results) # For Real Quantum Computing\n",
    "        \n",
    "    #results = results.result() # For Real Quantum Computing\n",
    "    \n",
    "    # Optimized for Real Quantum Computer\n",
    "    #transpiled_circuit = transpile(qc, qcomp, optimization_level = 2) # optimization_level = 0,1,2,3\n",
    "    #job = M_simulator.run(assemble(transpiled_circuit, shots = shots))\n",
    "    #results = job.result()\n",
    "    \n",
    "    return results\n",
    "\n",
    "\n",
    "def fit(qubits = 1, X_train = np.array([[1]]), Y_train = np.array([[1]]), negative_class = 0, positive_class = 1, epochs = 1, shots = 64, threshold = 0.5, Ip = 0.5, In = 0.5, bias = 0, weight_passed = []):\n",
    "    # Train and return a weight vector\n",
    "    n = len(X_train)\n",
    "    result_matrix = np.zeros((epochs, len(X_train)))\n",
    "    np.random.seed(10)\n",
    "    \n",
    "    w = weight_passed\n",
    "    #w = np.random.randint(2, size = 2**qubits) # Random generation of initial weight vector. Sign it at once.\n",
    "    \n",
    "    #w = np.array(X_train[23])\n",
    "    \n",
    "    #print(f'Starting training with qubits = {qubits}, train = {X_train}, target = {Y_train}, epochs = {epochs}, shots = {shots}, Ip = {Ip}, In = {In}')\n",
    "    #print(f'Initial weight vector = {w}')\n",
    "    \n",
    "    weights = []\n",
    "    \n",
    "    true_labels = np.array([x == number_negative_class for x in Y_train], dtype = 'int')\n",
    "\n",
    "    for epoch in notebook.tqdm(range(epochs), desc = f'Epoches'):\n",
    "        errors = 0\n",
    "        correct = 0\n",
    "        pred_labels = []\n",
    "        for index, training_element in enumerate(notebook.tqdm(X_train, desc = f'Training {epoch}')):\n",
    "\n",
    "            pattern = sign(training_element) # Signing the training pattern.\n",
    "            \n",
    "            wei = sign(w) # Signing the weight vector\n",
    "            #print('Calculating Z gates')\n",
    "            #print(pattern)\n",
    "            z_gates_i, CPZ_gates_i = gates_sequence(tuple(pattern)) # Gates to apply to the training pattern vector\n",
    "            #print('Calculating CpZ gates')\n",
    "            z_gates_w, CPZ_gates_w = gates_sequence(tuple(wei)) # Gates to apply to the weight vector\n",
    "            \n",
    "            #print('Ahora sí, Quantum Realm')\n",
    "            \n",
    "            ############################  Quantum Proccess  ############################\n",
    "            \n",
    "            results = perceptron(qubits, shots, z_gates_w, CPZ_gates_w, z_gates_i, CPZ_gates_i)\n",
    "            \n",
    "            #########################  End of Quantum Proccess  #########################\n",
    "            \n",
    "            counts = results.get_counts()\n",
    "        \n",
    "            #list_count_value = [ (v,oq.From_binary(k)) for k, v in counts.items()]\n",
    "\n",
    "            #sorte = sorted(list_count_value, key = itemgetter(0))\n",
    "        \n",
    "            #readout = sorte[0][1] * sorte[0][0] / shots\n",
    "            \n",
    "            readout = counts.get('1', shots) / shots\n",
    "            \n",
    "            '''try:\n",
    "                readout = (counts['1'] + bias) / shots\n",
    "            except KeyError:\n",
    "                readout = 0'''\n",
    "            \n",
    "            #print(readout)\n",
    "            \n",
    "            clazz = negative_class if readout + 0 * bias < threshold else positive_class # Classification part.\n",
    "            \n",
    "            pred_labels.append(clazz)\n",
    "            \n",
    "            result_matrix[epoch][index] = readout + 0 * bias\n",
    "            #print(f'Weight vector = {w} and Training element = {training_element}')\n",
    "            if (Y_train[index] == clazz):\n",
    "                # Correctly classified. We do not modify the weight vector and we continue.\n",
    "                correct -= -np.power(np.inf, np.log(1))\n",
    "                #if clazz:\n",
    "                    #Ip *= (n - correct) / float(n)\n",
    "                    #Ip *= 1.0 / np.log(3 + correct)\n",
    "                    #Ip *= np.exp(-0.001 * correct)\n",
    "                    #Ip *= 1.0 / (1.0 + 0.01 * correct)\n",
    "                    #Ip *= .982**np.floor((correct + 1) / 10)\n",
    "                #else:\n",
    "                    #In *= (n - correct) / float(n)\n",
    "                    #In *= 1.0 / np.log(3 + correct)\n",
    "                    #In *= np.exp(-0.001 * correct)\n",
    "                    #In *= 1.0 / (1.0 + 0.01 * correct)\n",
    "                    #In *= .982**np.floor((correct + 1) / 10)\n",
    "                continue # Skip the execution to the next iteration\n",
    "            # If we reach this point the classification was incorrect\n",
    "            #if (clazz < Y_train[index]): # Classified as 0 (negative) when is 1 (positive)\n",
    "            if (clazz == negative_class): # Classified as (negative) when is (positive)\n",
    "                # We flip +-1 signs Ip fraction where i and w coincide\n",
    "                coincide = np.argwhere(training_element == w).flatten()\n",
    "                pos = np.array(list(set(np.random.choice(coincide, int(np.floor(len(coincide) * Ip)), replace = False)))) if len(coincide) > 0 else np.array([])\n",
    "                #print(f'Missclasiffied as 0. Before changes: {Counter(w)} with len(coincide) * Ip = {int(np.ceil(len(coincide) * Ip))}')\n",
    "                #for indexed in pos:\n",
    "                    #print('entre en Ip')\n",
    "                #    w[indexed] = (w[indexed] + 1) % 2\n",
    "                #print(f'Coincide in {len(coincide)} and change {len(pos)} bits')\n",
    "                try:\n",
    "                    w[pos] = (w[pos] + 1) % 2\n",
    "                except IndexError:\n",
    "                    pass\n",
    "                #print(f'Missclasiffied as 0. After  changes: {Counter(w)} with len(coincide) * Ip = {int(np.ceil(len(coincide) * Ip))}')\n",
    "            else: # Classified as 1 (positive) when is 0 (negative)\n",
    "                # We flip +-1 signs In fraction where i and w coincide\n",
    "                coincide = np.argwhere(training_element == w).flatten()\n",
    "                pos = np.array(list(set(np.random.choice(coincide, int(np.floor(len(coincide) * In)), replace = False)))) if len(coincide) > 0 else np.array([])\n",
    "                #print(f'Missclasified as 1. Before changes: {Counter(w)} with len(coincide) * In = {int(np.ceil(len(coincide) * In))}')\n",
    "                #for indexed in pos:\n",
    "                    #print('entre en In')\n",
    "                #    w[indexed] = (w[indexed] + 1) % 2\n",
    "                #print(f'Coincide in {len(coincide)} and change {len(pos)} bits')\n",
    "                try:\n",
    "                    w[pos] = (w[pos] + 1) % 2\n",
    "                except IndexError:\n",
    "                    pass\n",
    "                #print(f'Missclasified as 1. After  changes: {Counter(w)} with len(coincide) * In = {int(np.ceil(len(coincide) * In))}')\n",
    "            errors -= -1\n",
    "        print(f'Errors = {errors} for accuracy of = {1 - errors/len(X_train)}')\n",
    "        #print(f'Final weight vector = {w}')\n",
    "        weights.append(w)\n",
    "        pred_labels = np.array([x == number_negative_class for x in pred_labels], dtype = 'int')\n",
    "        loss = 0 if number_negative_class == number_positive_class else log_loss(true_labels, pred_labels) \n",
    "    return w, result_matrix, weights, (1 - errors/len(X_train) , loss)\n",
    "\n",
    "def predict(qubits = 1, X_test = np.array([[1]]), negative_class = 0, positive_class = 1, shots = 64, threshold = 0.5, w = 0, bias = 0):\n",
    "    # Train and return a weight vector\n",
    "    result_matrix = np.zeros(len(X_test))\n",
    "    readout_matrix = np.zeros(len(X_test))\n",
    "    np.random.seed(10)\n",
    "    Y_predicted = np.zeros(len(X_test))\n",
    "    wei = sign(w) # Signing the weight vector\n",
    "    z_gates_w, CPZ_gates_w = gates_sequence(tuple(wei)) # Gates to apply to the weight vector\n",
    "    \n",
    "    #print(f'Starting predict with qubits = {qubits}, train = {X_test}, shots = {shots}')\n",
    "    #print(f'Passed weight vector = {w}')\n",
    "         \n",
    "    for index, training_element in enumerate(notebook.tqdm(X_test, desc = 'Predicting')):\n",
    "            \n",
    "        pattern = sign(training_element) # Signing the training pattern.\n",
    "            \n",
    "        z_gates_i, CPZ_gates_i = gates_sequence(tuple(pattern)) # Gates to apply to the training pattern vector\n",
    "            \n",
    "        ############################  Quantum Proccess  ############################\n",
    "            \n",
    "        results = perceptron(qubits, shots, z_gates_w, CPZ_gates_w, z_gates_i, CPZ_gates_i)\n",
    "            \n",
    "        #########################  End of Quantum Proccess  #########################\n",
    "            \n",
    "        counts = results.get_counts()\n",
    "        \n",
    "        #list_count_value = [ (v,oq.From_binary(k)) for k, v in counts.items()]\n",
    "\n",
    "        #sorte = sorted(list_count_value, key = itemgetter(0))\n",
    "        \n",
    "        #readout = sorte[0][1] * sorte[0][0] / shots\n",
    "        \n",
    "        readout = counts.get('1', shots) / shots\n",
    "        \n",
    "        '''try:\n",
    "            readout = (counts['1'] + bias) / shots\n",
    "        except KeyError:\n",
    "            readout = 0'''\n",
    "        \n",
    "        #print(readout)\n",
    "            \n",
    "        clazz = negative_class if readout + 0 * bias < threshold else positive_class # Classification part.\n",
    "            \n",
    "        result_matrix[index] = clazz\n",
    "        \n",
    "        readout_matrix[index] = readout + 0 * bias\n",
    "\n",
    "    return result_matrix, readout_matrix\n",
    "\n",
    "def evaluate(Y_test, predicted, negative_class, positive_class):\n",
    "    correct = np.argwhere(Y_test == predicted)\n",
    "    accuracy = len(correct) / len(predicted)\n",
    "    ones_and_zeros = [Y_test[ind][0] for ind in correct]\n",
    "    counts = Counter(ones_and_zeros)\n",
    "    confusion_matrix = np.zeros((2,2))\n",
    "    \n",
    "    Y_test_aux = np.zeros_like(Y_test)\n",
    "    predicted_aux = np.zeros_like(predicted)\n",
    "    \n",
    "    #Y_test_aux[Y_test == negative_class] = 0\n",
    "    #predicted_aux[predicted == negative_class] = 0\n",
    "    Y_test_aux[Y_test == positive_class] = 1\n",
    "    predicted_aux[predicted == positive_class] = 1\n",
    "    \n",
    "    for i in range(len(predicted_aux)):\n",
    "        confusion_matrix[int(Y_test_aux[i])][int(predicted_aux[i])] += 1\n",
    "    return accuracy, counts, confusion_matrix\n",
    "\n",
    "def plot_confusion_matrix(cm, target_names = None, cmap = None, normalize = True, labels = True, title = 'Confusion Matrix'):\n",
    "    accuracy = np.trace(cm) / float(np.sum(cm))\n",
    "    misclass = 1 - accuracy\n",
    "    \n",
    "    if cmap is None:\n",
    "        cmap = plt.get_cmap('Blues')\n",
    "        \n",
    "    if normalize:\n",
    "        cm = cm.astype('float') / cm.sum(axis = 1)[:, np.newaxis]\n",
    "        \n",
    "    plt.figure(figsize = (8, 6))\n",
    "    plt.imshow(cm, interpolation = 'nearest', cmap = cmap)\n",
    "    plt.title(title)\n",
    "    plt.colorbar()\n",
    "    \n",
    "    thresh = cm.max() / 1.5 if normalize else cm.max() / 2\n",
    "    \n",
    "    if target_names is not None:\n",
    "        tick_marks = np.arange(len(target_names))\n",
    "        plt.xticks(tick_marks, target_names)\n",
    "        plt.yticks(tick_marks, target_names)\n",
    "        \n",
    "    if labels:\n",
    "        for i, j in itertools.product(range(cm.shape[0]), range(cm.shape[1])):\n",
    "            if normalize:\n",
    "                plt.text(j, i, \"{:0.4f}\".format(cm[i, j]), horizontalalignment = 'center', color = 'white' if cm[i, j] > thresh else 'black', fontsize = 20)\n",
    "            else:\n",
    "                plt.text(j, i, \"{:,}\".format(cm[i, j]), horizontalalignment = 'center', color = 'white' if cm[i, j] > thresh else 'black', fontsize = 20)\n",
    "    \n",
    "    plt.tight_layout()\n",
    "    plt.ylabel('True label')\n",
    "    plt.xlabel('Predicted label\\naccuracy = {:0.4f}; misclass = {:0.4f}'.format(accuracy, misclass))\n",
    "    plt.axis('equal')\n",
    "    plt.show()\n",
    "    \n",
    "def save_weight(filename = 'weights.txt', mode = 'a+', weight = []):\n",
    "    with open(filename, mode) as file:\n",
    "        file.write(f'{number_negative_class, number_positive_class}:')\n",
    "        for p in w:\n",
    "            file.write(f'{p},')\n",
    "        file.write('\\n')\n",
    "        \n",
    "def retrieve_weights_from_file(filename = 'weights.txt', full = False):\n",
    "    with open(filename, 'r+') as file:\n",
    "        lines = file.readlines()\n",
    "        \n",
    "        cuadratic = lambda w : int(np.abs((1 - np.sqrt(1 + 8 * w)) / 2))\n",
    "        \n",
    "        nc = int(np.sqrt(len(lines))) if full else cuadratic(len(lines))\n",
    "        \n",
    "        weights_matrix = np.empty((nc, nc), dtype = object)\n",
    "    \n",
    "        #print(weights_matrix)\n",
    "    \n",
    "        for line in lines:\n",
    "            #print(line, end = '\\n')\n",
    "            xy, peso = line.split(sep = ':')[0], line.split(sep = ':')[1]\n",
    "            weight = np.array(list(map(int , peso.split(sep = ',')[:-1])))\n",
    "            coordinates = [int(c) for c in xy if c.isdigit()]\n",
    "            #print(f'Coordenates: {coordinates[0], coordinates[1]}, weight: {weight}')\n",
    "            weights_matrix[coordinates[0]][coordinates[1]] = weight\n",
    "            if not full:\n",
    "                weights_matrix[coordinates[1]][coordinates[0]] = weight\n",
    "    \n",
    "        #print(weights_matrix)\n",
    "    return weights_matrix\n",
    "\n",
    "def print_weights_matrix(weights_matrix):\n",
    "    n_classes = weights_matrix.shape[0]\n",
    "    fig, axs = plt.subplots(n_classes, n_classes, figsize=(20,10))\n",
    "    count = 0\n",
    "\n",
    "    for i in range(n_classes):\n",
    "        for j in range(n_classes):\n",
    "            ax = axs[i][j]\n",
    "        \n",
    "            #c = ax.pcolor(thetas[i + j][1:].reshape(28, 28), cmap = 'gray')\n",
    "            try:\n",
    "                c = ax.imshow(weights_matrix[i][j].reshape(8, 8), cmap = 'gray_r', interpolation='nearest')\n",
    "                ax.axis('off')\n",
    "                ax.axis('equal')\n",
    "                #ax.set_title(f'Weight vector for {i, j}').set_position([0.5, 1.1])\n",
    "                ax.set_title(f'Vector de pesos {i}/{j}').set_position([0.5, 1.1])\n",
    "                count += 1\n",
    "            except IndexError:\n",
    "                continue\n",
    "        \n",
    "    fig.tight_layout()\n",
    "    #plt.colorbar(c)\n",
    "    plt.show()\n",
    "    \n",
    "def multi_class_prediction(qubits = 1, classification_patterns = np.array([[1]]), shots = 64, test_threshold = 0.35, weights_matrix = np.zeros((1,1)), bias = 0):\n",
    "\n",
    "    # Declaring and populating the Classification Matrix\n",
    "\n",
    "    depth = len(classification_patterns)\n",
    "    rows = weights_matrix.shape[0]\n",
    "    columns = weights_matrix.shape[1]\n",
    "    holder_for_test = np.empty((depth, rows, columns), dtype = object)\n",
    "    holder_for_readouts = np.empty((depth, rows, columns), dtype = object)\n",
    "\n",
    "    #for i, row_weights in enumerate(notebook.tqdm(weights_matrix, desc = 'By row')):\n",
    "    for i, row_weights in enumerate(weights_matrix):\n",
    "\n",
    "        #for j, row_x_column_weight in enumerate(notebook.tqdm(row_weights, desc = 'By column')):\n",
    "        for j, row_x_column_weight in enumerate(row_weights):\n",
    "            if (j < i):\n",
    "                continue\n",
    "            asigned_class, read_outs = predict(qubits = Q, X_test = classification_patterns, negative_class = i, positive_class = j, shots = shots, threshold = test_threshold, w = weights_matrix[i][j], bias = bias)\n",
    "            for z_index, clazz in enumerate(asigned_class):\n",
    "                holder_for_test[z_index][i][j] = clazz\n",
    "                holder_for_test[z_index][j][i] = clazz\n",
    "                holder_for_readouts[z_index][i][j] = read_outs[z_index]\n",
    "                holder_for_readouts[z_index][j][i] = read_outs[z_index]\n",
    "\n",
    "    # Declaring and populating a multi dimensional array. It holds as many arrays as testing patterns. Each array holds\n",
    "    # as many tupples as rows in the weights_matrix. Each tupple holds the most common class and the number of ocurrences\n",
    "\n",
    "    holder_for_most_common = np.empty((depth, rows), dtype = object)\n",
    "    for z, matrix in enumerate(holder_for_test):\n",
    "        for j, row in enumerate(matrix):\n",
    "            holder_for_most_common[z][j] = Counter(row).most_common(1)[0]\n",
    "\n",
    "    # Ordering for the most common, which is the assigned class\n",
    "    for i in range(depth):\n",
    "        holder_for_most_common[i] = sorted(holder_for_most_common[i], key = lambda l:l[1], reverse = True)\n",
    "\n",
    "    classified_as = []\n",
    "    for i in range(depth):\n",
    "        classified_as.append(holder_for_most_common[i][0][0])\n",
    "    \n",
    "    return classified_as, holder_for_most_common, holder_for_test, holder_for_readouts"
   ]
  },
  {
   "cell_type": "markdown",
   "metadata": {
    "heading_collapsed": true
   },
   "source": [
    "# Training binary classifiers $sklearn.datasets.load\\_digits()$"
   ]
  },
  {
   "cell_type": "code",
   "execution_count": 3,
   "metadata": {
    "ExecuteTime": {
     "end_time": "2020-11-13T00:14:01.302105Z",
     "start_time": "2020-11-13T00:14:01.117433Z"
    },
    "hidden": true
   },
   "outputs": [],
   "source": [
    "digits = datasets.load_digits()\n",
    "data = np.loadtxt(\"C:/Users/jeff_/OneDrive - Instituto Politecnico Nacional/Datasets/Digits/optdigits.tra\", delimiter = ',')"
   ]
  },
  {
   "cell_type": "code",
   "execution_count": 4,
   "metadata": {
    "ExecuteTime": {
     "end_time": "2020-11-13T00:14:01.886551Z",
     "start_time": "2020-11-13T00:14:01.883533Z"
    },
    "hidden": true
   },
   "outputs": [],
   "source": [
    "# Getting images and labels from digits\n",
    "images = digits.images\n",
    "targets = digits.target\n",
    "images_tr = data[:,:-1]\n",
    "labels_tr = data[:,-1]"
   ]
  },
  {
   "cell_type": "code",
   "execution_count": 5,
   "metadata": {
    "ExecuteTime": {
     "end_time": "2020-11-13T00:14:02.311981Z",
     "start_time": "2020-11-13T00:14:02.306993Z"
    },
    "hidden": true
   },
   "outputs": [
    {
     "name": "stdout",
     "output_type": "stream",
     "text": [
      "Total count for digits: Counter({3: 183, 1: 182, 5: 182, 4: 181, 6: 181, 9: 180, 7: 179, 0: 178, 2: 177, 8: 174})\n"
     ]
    }
   ],
   "source": [
    "targets_count = Counter(targets)\n",
    "print(f'Total count for digits: {targets_count}')"
   ]
  },
  {
   "cell_type": "code",
   "execution_count": 6,
   "metadata": {
    "ExecuteTime": {
     "end_time": "2020-11-13T00:14:02.744082Z",
     "start_time": "2020-11-13T00:14:02.739129Z"
    },
    "hidden": true
   },
   "outputs": [
    {
     "data": {
      "text/plain": [
       "\"images_and_labels = list(zip(digits.images, digits.target))\\nfor index, (image, label) in enumerate(images_and_labels[45:65]):\\n    plt.subplot(2, 10, index + 1)\\n    plt.axis('off')\\n    plt.imshow(np.round(image / np.max(image)), cmap=plt.cm.gray_r, interpolation='nearest')\\n    plt.title('Training: %i' % label)\""
      ]
     },
     "execution_count": 6,
     "metadata": {},
     "output_type": "execute_result"
    }
   ],
   "source": [
    "'''images_and_labels = list(zip(digits.images, digits.target))\n",
    "for index, (image, label) in enumerate(images_and_labels[45:65]):\n",
    "    plt.subplot(2, 10, index + 1)\n",
    "    plt.axis('off')\n",
    "    plt.imshow(np.round(image / np.max(image)), cmap=plt.cm.gray_r, interpolation='nearest')\n",
    "    plt.title('Training: %i' % label)'''"
   ]
  },
  {
   "cell_type": "code",
   "execution_count": 9,
   "metadata": {
    "ExecuteTime": {
     "end_time": "2020-11-13T00:14:14.755001Z",
     "start_time": "2020-11-13T00:14:14.748021Z"
    },
    "hidden": true
   },
   "outputs": [
    {
     "name": "stdout",
     "output_type": "stream",
     "text": [
      "(361,)\n",
      "(361, 8, 8)\n"
     ]
    }
   ],
   "source": [
    "# Getting 0 and 1 from digits\n",
    "number_negative_class = 0\n",
    "number_positive_class = 3\n",
    "\n",
    "zo_targets = []\n",
    "zo_images = []\n",
    "for i in range(len(targets)):\n",
    "    if (targets[i] == number_negative_class or targets[i] == number_positive_class):\n",
    "        zo_targets.append(targets[i])\n",
    "        zo_images.append(images[i])\n",
    "        \n",
    "zo_targets = np.array(zo_targets)\n",
    "zo_images = np.array(zo_images)\n",
    "print(zo_targets.shape)\n",
    "print(zo_images.shape)"
   ]
  },
  {
   "cell_type": "code",
   "execution_count": 10,
   "metadata": {
    "ExecuteTime": {
     "end_time": "2020-11-13T00:14:15.694527Z",
     "start_time": "2020-11-13T00:14:15.690539Z"
    },
    "hidden": true
   },
   "outputs": [],
   "source": [
    "# Splitting digits into training and test\n",
    "# MNIST already splitted\n",
    "#X_train, X_test, Y_train, Y_test = sklearn.model_selection.train_test_split(zo_images, zo_targets, test_size = 0.2, random_state = 10, shuffle = True)"
   ]
  },
  {
   "cell_type": "code",
   "execution_count": 11,
   "metadata": {
    "ExecuteTime": {
     "end_time": "2020-11-13T00:14:16.134887Z",
     "start_time": "2020-11-13T00:14:16.129868Z"
    },
    "hidden": true
   },
   "outputs": [],
   "source": [
    "# SPLITTING\n",
    "X_test = copy(zo_images)\n",
    "X_train = images_tr[(labels_tr == number_negative_class) | (labels_tr == number_positive_class)]\n",
    "Y_test = copy(zo_targets)\n",
    "Y_train = labels_tr[(labels_tr == number_negative_class) | (labels_tr == number_positive_class)]"
   ]
  },
  {
   "cell_type": "code",
   "execution_count": 12,
   "metadata": {
    "ExecuteTime": {
     "end_time": "2020-11-13T00:14:16.719433Z",
     "start_time": "2020-11-13T00:14:16.714413Z"
    },
    "hidden": true
   },
   "outputs": [
    {
     "data": {
      "text/plain": [
       "\"images_and_labels = list(zip(X_test, Y_test))\\nfor index, (image, label) in enumerate(images_and_labels[10:30]):\\n    plt.subplot(2, 10, index + 1)\\n    plt.axis('off')\\n    plt.imshow(image.reshape(8,8), cmap=plt.cm.gray_r, interpolation='nearest')\\n    plt.title('Test: %i' % label)\""
      ]
     },
     "execution_count": 12,
     "metadata": {},
     "output_type": "execute_result"
    }
   ],
   "source": [
    "'''images_and_labels = list(zip(X_test, Y_test))\n",
    "for index, (image, label) in enumerate(images_and_labels[10:30]):\n",
    "    plt.subplot(2, 10, index + 1)\n",
    "    plt.axis('off')\n",
    "    plt.imshow(image.reshape(8,8), cmap=plt.cm.gray_r, interpolation='nearest')\n",
    "    plt.title('Test: %i' % label)'''"
   ]
  },
  {
   "cell_type": "code",
   "execution_count": 13,
   "metadata": {
    "ExecuteTime": {
     "end_time": "2020-11-13T00:14:17.126512Z",
     "start_time": "2020-11-13T00:14:17.122523Z"
    },
    "hidden": true
   },
   "outputs": [],
   "source": [
    "# Reshaping digits\n",
    "X_train = X_train.reshape(X_train.shape[0], -1)\n",
    "X_test = X_test.reshape(X_test.shape[0], -1)"
   ]
  },
  {
   "cell_type": "code",
   "execution_count": 14,
   "metadata": {
    "ExecuteTime": {
     "end_time": "2020-11-13T00:14:17.542671Z",
     "start_time": "2020-11-13T00:14:17.538714Z"
    },
    "hidden": true
   },
   "outputs": [
    {
     "name": "stdout",
     "output_type": "stream",
     "text": [
      "(765, 64)\n",
      "(361, 64)\n"
     ]
    }
   ],
   "source": [
    "print(X_train.shape)\n",
    "print(X_test.shape)"
   ]
  },
  {
   "cell_type": "code",
   "execution_count": 15,
   "metadata": {
    "ExecuteTime": {
     "end_time": "2020-11-13T00:14:18.097312Z",
     "start_time": "2020-11-13T00:14:18.090348Z"
    },
    "hidden": true
   },
   "outputs": [
    {
     "data": {
      "text/plain": [
       "'X_train = np.floor(X_train / np.max(X_train)).astype(int)\\nX_test = np.floor(X_test / np.max(X_test)).astype(int)'"
      ]
     },
     "execution_count": 15,
     "metadata": {},
     "output_type": "execute_result"
    }
   ],
   "source": [
    "# Preprocessing roundin up/down/around\n",
    "\n",
    "'''X_train = np.floor(X_train / np.max(X_train)).astype(int)\n",
    "X_test = np.floor(X_test / np.max(X_test)).astype(int)'''"
   ]
  },
  {
   "cell_type": "code",
   "execution_count": 16,
   "metadata": {
    "ExecuteTime": {
     "end_time": "2020-11-13T00:14:18.663625Z",
     "start_time": "2020-11-13T00:14:18.612707Z"
    },
    "hidden": true
   },
   "outputs": [],
   "source": [
    "# Preprocessing digits by mapping in interval\n",
    "\n",
    "for i in range(len(X_test)):\n",
    "    X_test[i] = np.array(list(map(lambda x : 0 if 0 <= x < 10 else 1, X_test[i])))\n",
    "    \n",
    "for i in range(len(X_train)):\n",
    "    X_train[i] = np.array(list(map(lambda x : 0 if 0 <= x < 10 else 1, X_train[i])))"
   ]
  },
  {
   "cell_type": "code",
   "execution_count": 17,
   "metadata": {
    "ExecuteTime": {
     "end_time": "2020-11-13T00:14:19.095893Z",
     "start_time": "2020-11-13T00:14:19.090873Z"
    },
    "hidden": true
   },
   "outputs": [
    {
     "data": {
      "text/plain": [
       "'X_train = X_train.tolist()\\nX_test = X_test.tolist()'"
      ]
     },
     "execution_count": 17,
     "metadata": {},
     "output_type": "execute_result"
    }
   ],
   "source": [
    "'''X_train = X_train.tolist()\n",
    "X_test = X_test.tolist()'''"
   ]
  },
  {
   "cell_type": "code",
   "execution_count": 18,
   "metadata": {
    "ExecuteTime": {
     "end_time": "2020-11-13T00:14:19.488343Z",
     "start_time": "2020-11-13T00:14:19.483356Z"
    },
    "hidden": true
   },
   "outputs": [
    {
     "data": {
      "text/plain": [
       "'c = plt.imshow(np.array(X_train[35]).reshape(8, 8))\\nplt.colorbar(c)'"
      ]
     },
     "execution_count": 18,
     "metadata": {},
     "output_type": "execute_result"
    }
   ],
   "source": [
    "'''c = plt.imshow(np.array(X_train[35]).reshape(8, 8))\n",
    "plt.colorbar(c)'''"
   ]
  },
  {
   "cell_type": "markdown",
   "metadata": {
    "hidden": true
   },
   "source": [
    "## Fitting the classifier"
   ]
  },
  {
   "cell_type": "code",
   "execution_count": 19,
   "metadata": {
    "ExecuteTime": {
     "end_time": "2020-11-13T00:14:22.407343Z",
     "start_time": "2020-11-13T00:14:22.361413Z"
    },
    "hidden": true
   },
   "outputs": [],
   "source": [
    "from livelossplot import PlotLosses\n",
    "groups = {'acccuracy': ['acc', 'val_acc'], 'log-loss': ['loss', 'val_loss']}\n",
    "plotlosses = PlotLosses(groups=groups)\n",
    "%matplotlib inline"
   ]
  },
  {
   "cell_type": "code",
   "execution_count": 20,
   "metadata": {
    "ExecuteTime": {
     "end_time": "2020-11-13T00:14:25.012749Z",
     "start_time": "2020-11-13T00:14:25.009756Z"
    },
    "hidden": true
   },
   "outputs": [],
   "source": [
    "from sklearn.utils import shuffle"
   ]
  },
  {
   "cell_type": "code",
   "execution_count": 26,
   "metadata": {
    "ExecuteTime": {
     "end_time": "2020-11-13T00:15:35.631427Z",
     "start_time": "2020-11-13T00:15:35.626443Z"
    },
    "hidden": true
   },
   "outputs": [
    {
     "data": {
      "text/plain": [
       "array([3.])"
      ]
     },
     "execution_count": 26,
     "metadata": {},
     "output_type": "execute_result"
    }
   ],
   "source": [
    "Y_train[3:4]"
   ]
  },
  {
   "cell_type": "code",
   "execution_count": 27,
   "metadata": {
    "ExecuteTime": {
     "end_time": "2020-11-13T00:16:20.038693Z",
     "start_time": "2020-11-13T00:16:19.636178Z"
    },
    "hidden": true
   },
   "outputs": [
    {
     "data": {
      "application/vnd.jupyter.widget-view+json": {
       "model_id": "f2cb9f73382e454381fe01637968e755",
       "version_major": 2,
       "version_minor": 0
      },
      "text/plain": [
       "HBox(children=(FloatProgress(value=0.0, description='Epoches', max=1.0, style=ProgressStyle(description_width=…"
      ]
     },
     "metadata": {},
     "output_type": "display_data"
    },
    {
     "data": {
      "application/vnd.jupyter.widget-view+json": {
       "model_id": "3b331111fa2f40b89b16e3af66164360",
       "version_major": 2,
       "version_minor": 0
      },
      "text/plain": [
       "HBox(children=(FloatProgress(value=0.0, description='Training 0', max=1.0, style=ProgressStyle(description_wid…"
      ]
     },
     "metadata": {},
     "output_type": "display_data"
    },
    {
     "name": "stdout",
     "output_type": "stream",
     "text": [
      "\n",
      "Errors = 1 for accuracy of = 0.0\n"
     ]
    },
    {
     "ename": "ValueError",
     "evalue": "y_true contains only one label (0). Please provide the true labels explicitly through the labels argument.",
     "output_type": "error",
     "traceback": [
      "\u001b[1;31m---------------------------------------------------------------------------\u001b[0m",
      "\u001b[1;31mValueError\u001b[0m                                Traceback (most recent call last)",
      "\u001b[1;32m<ipython-input-27-82bf1b48563a>\u001b[0m in \u001b[0;36m<module>\u001b[1;34m\u001b[0m\n\u001b[0;32m      7\u001b[0m \u001b[1;32mwhile\u001b[0m \u001b[0macc\u001b[0m \u001b[1;33m<\u001b[0m \u001b[1;36m0.8\u001b[0m\u001b[1;33m:\u001b[0m\u001b[1;33m\u001b[0m\u001b[1;33m\u001b[0m\u001b[0m\n\u001b[0;32m      8\u001b[0m     \u001b[1;31m#X_train, Y_train = shuffle(X_train, Y_train)\u001b[0m\u001b[1;33m\u001b[0m\u001b[1;33m\u001b[0m\u001b[1;33m\u001b[0m\u001b[0m\n\u001b[1;32m----> 9\u001b[1;33m     \u001b[0mw\u001b[0m\u001b[1;33m,\u001b[0m \u001b[0mm\u001b[0m\u001b[1;33m,\u001b[0m \u001b[0mweights\u001b[0m\u001b[1;33m,\u001b[0m \u001b[0mae\u001b[0m \u001b[1;33m=\u001b[0m \u001b[0mfit\u001b[0m\u001b[1;33m(\u001b[0m\u001b[0mqubits\u001b[0m \u001b[1;33m=\u001b[0m \u001b[0mQ\u001b[0m\u001b[1;33m,\u001b[0m \u001b[0mX_train\u001b[0m \u001b[1;33m=\u001b[0m \u001b[0mX_train\u001b[0m\u001b[1;33m[\u001b[0m\u001b[1;36m3\u001b[0m\u001b[1;33m:\u001b[0m\u001b[1;36m4\u001b[0m\u001b[1;33m]\u001b[0m\u001b[1;33m,\u001b[0m \u001b[0mY_train\u001b[0m \u001b[1;33m=\u001b[0m \u001b[0mY_train\u001b[0m\u001b[1;33m[\u001b[0m\u001b[1;36m3\u001b[0m\u001b[1;33m:\u001b[0m\u001b[1;36m4\u001b[0m\u001b[1;33m]\u001b[0m\u001b[1;33m,\u001b[0m \u001b[0mnegative_class\u001b[0m \u001b[1;33m=\u001b[0m \u001b[0mnumber_negative_class\u001b[0m\u001b[1;33m,\u001b[0m \u001b[0mpositive_class\u001b[0m \u001b[1;33m=\u001b[0m \u001b[0mnumber_positive_class\u001b[0m\u001b[1;33m,\u001b[0m \u001b[0mepochs\u001b[0m \u001b[1;33m=\u001b[0m \u001b[1;36m1\u001b[0m\u001b[1;33m,\u001b[0m \u001b[0mshots\u001b[0m \u001b[1;33m=\u001b[0m \u001b[0mshots\u001b[0m\u001b[1;33m,\u001b[0m \u001b[0mthreshold\u001b[0m \u001b[1;33m=\u001b[0m \u001b[0mtest_threshold\u001b[0m\u001b[1;33m,\u001b[0m \u001b[0mIp\u001b[0m \u001b[1;33m=\u001b[0m \u001b[1;36m.8\u001b[0m\u001b[1;33m,\u001b[0m \u001b[0mIn\u001b[0m \u001b[1;33m=\u001b[0m \u001b[1;36m.1\u001b[0m\u001b[1;33m,\u001b[0m \u001b[0mbias\u001b[0m \u001b[1;33m=\u001b[0m \u001b[0mbias\u001b[0m\u001b[1;33m,\u001b[0m \u001b[0mweight_passed\u001b[0m \u001b[1;33m=\u001b[0m \u001b[0mw\u001b[0m\u001b[1;33m)\u001b[0m\u001b[1;33m\u001b[0m\u001b[1;33m\u001b[0m\u001b[0m\n\u001b[0m\u001b[0;32m     10\u001b[0m     \u001b[0mclassification\u001b[0m\u001b[1;33m,\u001b[0m \u001b[0mreadouts\u001b[0m \u001b[1;33m=\u001b[0m \u001b[0mpredict\u001b[0m\u001b[1;33m(\u001b[0m\u001b[0mqubits\u001b[0m \u001b[1;33m=\u001b[0m \u001b[0mQ\u001b[0m\u001b[1;33m,\u001b[0m \u001b[0mX_test\u001b[0m \u001b[1;33m=\u001b[0m \u001b[0mX_test\u001b[0m\u001b[1;33m,\u001b[0m \u001b[0mnegative_class\u001b[0m \u001b[1;33m=\u001b[0m \u001b[0mnumber_negative_class\u001b[0m\u001b[1;33m,\u001b[0m \u001b[0mpositive_class\u001b[0m \u001b[1;33m=\u001b[0m \u001b[0mnumber_positive_class\u001b[0m\u001b[1;33m,\u001b[0m \u001b[0mshots\u001b[0m \u001b[1;33m=\u001b[0m \u001b[0mshots\u001b[0m\u001b[1;33m,\u001b[0m \u001b[0mthreshold\u001b[0m \u001b[1;33m=\u001b[0m \u001b[0mtest_threshold\u001b[0m\u001b[1;33m,\u001b[0m \u001b[0mw\u001b[0m \u001b[1;33m=\u001b[0m \u001b[0mweights\u001b[0m\u001b[1;33m[\u001b[0m\u001b[1;36m0\u001b[0m\u001b[1;33m]\u001b[0m\u001b[1;33m,\u001b[0m \u001b[0mbias\u001b[0m \u001b[1;33m=\u001b[0m \u001b[1;36m0.0\u001b[0m\u001b[1;33m)\u001b[0m\u001b[1;33m\u001b[0m\u001b[1;33m\u001b[0m\u001b[0m\n\u001b[0;32m     11\u001b[0m     \u001b[0macc\u001b[0m \u001b[1;33m=\u001b[0m \u001b[0maccuracy_score\u001b[0m\u001b[1;33m(\u001b[0m\u001b[0mY_test\u001b[0m\u001b[1;33m,\u001b[0m \u001b[0mclassification\u001b[0m\u001b[1;33m)\u001b[0m\u001b[1;33m\u001b[0m\u001b[1;33m\u001b[0m\u001b[0m\n",
      "\u001b[1;32m<ipython-input-2-8df05870d446>\u001b[0m in \u001b[0;36mfit\u001b[1;34m(qubits, X_train, Y_train, negative_class, positive_class, epochs, shots, threshold, Ip, In, bias, weight_passed)\u001b[0m\n\u001b[0;32m    405\u001b[0m         \u001b[0mweights\u001b[0m\u001b[1;33m.\u001b[0m\u001b[0mappend\u001b[0m\u001b[1;33m(\u001b[0m\u001b[0mw\u001b[0m\u001b[1;33m)\u001b[0m\u001b[1;33m\u001b[0m\u001b[1;33m\u001b[0m\u001b[0m\n\u001b[0;32m    406\u001b[0m         \u001b[0mpred_labels\u001b[0m \u001b[1;33m=\u001b[0m \u001b[0mnp\u001b[0m\u001b[1;33m.\u001b[0m\u001b[0marray\u001b[0m\u001b[1;33m(\u001b[0m\u001b[1;33m[\u001b[0m\u001b[0mx\u001b[0m \u001b[1;33m==\u001b[0m \u001b[0mnumber_negative_class\u001b[0m \u001b[1;32mfor\u001b[0m \u001b[0mx\u001b[0m \u001b[1;32min\u001b[0m \u001b[0mpred_labels\u001b[0m\u001b[1;33m]\u001b[0m\u001b[1;33m,\u001b[0m \u001b[0mdtype\u001b[0m \u001b[1;33m=\u001b[0m \u001b[1;34m'int'\u001b[0m\u001b[1;33m)\u001b[0m\u001b[1;33m\u001b[0m\u001b[1;33m\u001b[0m\u001b[0m\n\u001b[1;32m--> 407\u001b[1;33m         \u001b[0mloss\u001b[0m \u001b[1;33m=\u001b[0m \u001b[1;36m0\u001b[0m \u001b[1;32mif\u001b[0m \u001b[0mnumber_negative_class\u001b[0m \u001b[1;33m==\u001b[0m \u001b[0mnumber_positive_class\u001b[0m \u001b[1;32melse\u001b[0m \u001b[0mlog_loss\u001b[0m\u001b[1;33m(\u001b[0m\u001b[0mtrue_labels\u001b[0m\u001b[1;33m,\u001b[0m \u001b[0mpred_labels\u001b[0m\u001b[1;33m)\u001b[0m\u001b[1;33m\u001b[0m\u001b[1;33m\u001b[0m\u001b[0m\n\u001b[0m\u001b[0;32m    408\u001b[0m     \u001b[1;32mreturn\u001b[0m \u001b[0mw\u001b[0m\u001b[1;33m,\u001b[0m \u001b[0mresult_matrix\u001b[0m\u001b[1;33m,\u001b[0m \u001b[0mweights\u001b[0m\u001b[1;33m,\u001b[0m \u001b[1;33m(\u001b[0m\u001b[1;36m1\u001b[0m \u001b[1;33m-\u001b[0m \u001b[0merrors\u001b[0m\u001b[1;33m/\u001b[0m\u001b[0mlen\u001b[0m\u001b[1;33m(\u001b[0m\u001b[0mX_train\u001b[0m\u001b[1;33m)\u001b[0m \u001b[1;33m,\u001b[0m \u001b[0mloss\u001b[0m\u001b[1;33m)\u001b[0m\u001b[1;33m\u001b[0m\u001b[1;33m\u001b[0m\u001b[0m\n\u001b[0;32m    409\u001b[0m \u001b[1;33m\u001b[0m\u001b[0m\n",
      "\u001b[1;32m~\\Anaconda3\\lib\\site-packages\\sklearn\\utils\\validation.py\u001b[0m in \u001b[0;36minner_f\u001b[1;34m(*args, **kwargs)\u001b[0m\n\u001b[0;32m     70\u001b[0m                           FutureWarning)\n\u001b[0;32m     71\u001b[0m         \u001b[0mkwargs\u001b[0m\u001b[1;33m.\u001b[0m\u001b[0mupdate\u001b[0m\u001b[1;33m(\u001b[0m\u001b[1;33m{\u001b[0m\u001b[0mk\u001b[0m\u001b[1;33m:\u001b[0m \u001b[0marg\u001b[0m \u001b[1;32mfor\u001b[0m \u001b[0mk\u001b[0m\u001b[1;33m,\u001b[0m \u001b[0marg\u001b[0m \u001b[1;32min\u001b[0m \u001b[0mzip\u001b[0m\u001b[1;33m(\u001b[0m\u001b[0msig\u001b[0m\u001b[1;33m.\u001b[0m\u001b[0mparameters\u001b[0m\u001b[1;33m,\u001b[0m \u001b[0margs\u001b[0m\u001b[1;33m)\u001b[0m\u001b[1;33m}\u001b[0m\u001b[1;33m)\u001b[0m\u001b[1;33m\u001b[0m\u001b[1;33m\u001b[0m\u001b[0m\n\u001b[1;32m---> 72\u001b[1;33m         \u001b[1;32mreturn\u001b[0m \u001b[0mf\u001b[0m\u001b[1;33m(\u001b[0m\u001b[1;33m**\u001b[0m\u001b[0mkwargs\u001b[0m\u001b[1;33m)\u001b[0m\u001b[1;33m\u001b[0m\u001b[1;33m\u001b[0m\u001b[0m\n\u001b[0m\u001b[0;32m     73\u001b[0m     \u001b[1;32mreturn\u001b[0m \u001b[0minner_f\u001b[0m\u001b[1;33m\u001b[0m\u001b[1;33m\u001b[0m\u001b[0m\n\u001b[0;32m     74\u001b[0m \u001b[1;33m\u001b[0m\u001b[0m\n",
      "\u001b[1;32m~\\Anaconda3\\lib\\site-packages\\sklearn\\metrics\\_classification.py\u001b[0m in \u001b[0;36mlog_loss\u001b[1;34m(y_true, y_pred, eps, normalize, sample_weight, labels)\u001b[0m\n\u001b[0;32m   2198\u001b[0m             raise ValueError('y_true contains only one label ({0}). Please '\n\u001b[0;32m   2199\u001b[0m                              \u001b[1;34m'provide the true labels explicitly through the '\u001b[0m\u001b[1;33m\u001b[0m\u001b[1;33m\u001b[0m\u001b[0m\n\u001b[1;32m-> 2200\u001b[1;33m                              'labels argument.'.format(lb.classes_[0]))\n\u001b[0m\u001b[0;32m   2201\u001b[0m         \u001b[1;32melse\u001b[0m\u001b[1;33m:\u001b[0m\u001b[1;33m\u001b[0m\u001b[1;33m\u001b[0m\u001b[0m\n\u001b[0;32m   2202\u001b[0m             raise ValueError('The labels array needs to contain at least two '\n",
      "\u001b[1;31mValueError\u001b[0m: y_true contains only one label (0). Please provide the true labels explicitly through the labels argument."
     ]
    }
   ],
   "source": [
    "Q = 6\n",
    "test_threshold = 0.35\n",
    "acc = 0\n",
    "bias = - 0 // 2\n",
    "w = X_train[Y_train == number_negative_class][0].astype(int)\n",
    "shots = 1024 * 8 #8_192\n",
    "while acc < 0.8:\n",
    "    #X_train, Y_train = shuffle(X_train, Y_train)\n",
    "    w, m, weights, ae = fit(qubits = Q, X_train = X_train[3:4], Y_train = Y_train[3:4], negative_class = number_negative_class, positive_class = number_positive_class, epochs = 1, shots = shots, threshold = test_threshold, Ip = .8, In = .1, bias = bias, weight_passed = w)\n",
    "    classification, readouts = predict(qubits = Q, X_test = X_test, negative_class = number_negative_class, positive_class = number_positive_class, shots = shots, threshold = test_threshold, w = weights[0], bias = 0.0)\n",
    "    acc = accuracy_score(Y_test, classification)\n",
    "    ps = precision_score(Y_test, classification, average = 'binary', pos_label = number_negative_class)\n",
    "    rs = recall_score(Y_test, classification, average = 'binary', pos_label = number_negative_class)\n",
    "    f1s = f1_score(Y_test, classification, average = 'binary', pos_label = number_negative_class)\n",
    "    print(f'acc: {acc}, precision: {ps}, recall: {rs}, f1: {f1s}')\n",
    "    loss = 0 if number_negative_class == number_positive_class else log_loss(Y_test, np.array([x == number_negative_class for x in classification], dtype = 'int'))\n",
    "    plotlosses.update({\n",
    "        'acc': ae[0],\n",
    "        'val_acc': acc,\n",
    "        'loss': ae[1],\n",
    "        'val_loss': loss\n",
    "    })"
   ]
  },
  {
   "cell_type": "code",
   "execution_count": 121,
   "metadata": {
    "ExecuteTime": {
     "end_time": "2020-10-16T23:22:16.035205Z",
     "start_time": "2020-10-16T23:22:15.611307Z"
    },
    "hidden": true
   },
   "outputs": [
    {
     "data": {
      "image/png": "[encoded data removed]",
      "text/plain": [
       "<Figure size 864x576 with 2 Axes>"
      ]
     },
     "metadata": {
      "needs_background": "light"
     },
     "output_type": "display_data"
    },
    {
     "name": "stdout",
     "output_type": "stream",
     "text": [
      "acccuracy\n",
      "\ttraining         \t (min:    0.786, max:    0.786, cur:    0.786)\n",
      "\tvalidation       \t (min:    0.849, max:    0.849, cur:    0.849)\n",
      "log-loss\n",
      "\ttraining         \t (min:    7.382, max:    7.382, cur:    7.382)\n",
      "\tvalidation       \t (min:    5.210, max:    5.210, cur:    5.210)\n"
     ]
    }
   ],
   "source": [
    "plotlosses.send()"
   ]
  },
  {
   "cell_type": "code",
   "execution_count": 127,
   "metadata": {
    "ExecuteTime": {
     "end_time": "2020-10-16T23:48:14.580457Z",
     "start_time": "2020-10-16T23:48:14.575477Z"
    },
    "hidden": true
   },
   "outputs": [],
   "source": [
    "%matplotlib qt"
   ]
  },
  {
   "cell_type": "code",
   "execution_count": 128,
   "metadata": {
    "ExecuteTime": {
     "end_time": "2020-10-16T23:48:15.517924Z",
     "start_time": "2020-10-16T23:48:15.448135Z"
    },
    "hidden": true,
    "scrolled": true
   },
   "outputs": [],
   "source": [
    "c = plt.imshow(np.array(w).reshape(8,8), cmap = 'gray_r')\n",
    "plt.colorbar(c)\n",
    "figManager = plt.get_current_fig_manager()\n",
    "figManager.window.showMaximized()"
   ]
  },
  {
   "cell_type": "markdown",
   "metadata": {
    "hidden": true
   },
   "source": [
    "## Predicting and evaluating the trained classifier"
   ]
  },
  {
   "cell_type": "code",
   "execution_count": 123,
   "metadata": {
    "ExecuteTime": {
     "end_time": "2020-10-16T23:22:34.021103Z",
     "start_time": "2020-10-16T23:22:16.042154Z"
    },
    "hidden": true
   },
   "outputs": [
    {
     "data": {
      "application/vnd.jupyter.widget-view+json": {
       "model_id": "d7512441c63a4daf9d79b11a27062520",
       "version_major": 2,
       "version_minor": 0
      },
      "text/plain": [
       "HBox(children=(FloatProgress(value=0.0, description='Predicting', max=358.0, style=ProgressStyle(description_w…"
      ]
     },
     "metadata": {},
     "output_type": "display_data"
    },
    {
     "name": "stdout",
     "output_type": "stream",
     "text": [
      "\n"
     ]
    }
   ],
   "source": [
    "test_threshold = .35\n",
    "classification, readouts = predict(qubits = Q, X_test = X_test, negative_class = number_negative_class, positive_class = number_positive_class, shots = shots, threshold = test_threshold, w = weights[0], bias = bias)"
   ]
  },
  {
   "cell_type": "code",
   "execution_count": 129,
   "metadata": {
    "ExecuteTime": {
     "end_time": "2020-10-16T23:48:40.550335Z",
     "start_time": "2020-10-16T23:48:40.544351Z"
    },
    "hidden": true
   },
   "outputs": [
    {
     "name": "stdout",
     "output_type": "stream",
     "text": [
      "Accuracy = 0.8491620111731844\n",
      "Counts = Counter({9: 169, 0: 135})\n",
      "Confusion Matrix = \n",
      "[[169.  11.]\n",
      " [ 43. 135.]]\n"
     ]
    }
   ],
   "source": [
    "accuracy, counts, confusion_matriX = evaluate(Y_test, classification, number_negative_class, number_positive_class)\n",
    "print(f'Accuracy = {accuracy}')\n",
    "print(f'Counts = {counts}')\n",
    "print(f'Confusion Matrix = \\n{confusion_matriX}')"
   ]
  },
  {
   "cell_type": "code",
   "execution_count": 130,
   "metadata": {
    "ExecuteTime": {
     "end_time": "2020-10-16T23:48:41.483865Z",
     "start_time": "2020-10-16T23:48:41.393082Z"
    },
    "hidden": true
   },
   "outputs": [],
   "source": [
    "plot_confusion_matrix(confusion_matriX, target_names = np.array([number_negative_class, number_positive_class]), labels = True, normalize = False)\n",
    "figManager = plt.get_current_fig_manager()\n",
    "figManager.window.showMaximized()"
   ]
  },
  {
   "cell_type": "code",
   "execution_count": 131,
   "metadata": {
    "ExecuteTime": {
     "end_time": "2020-10-16T23:48:51.067266Z",
     "start_time": "2020-10-16T23:48:51.063276Z"
    },
    "hidden": true
   },
   "outputs": [
    {
     "data": {
      "text/plain": [
       "array([[169.,  11.],\n",
       "       [ 43., 135.]])"
      ]
     },
     "execution_count": 131,
     "metadata": {},
     "output_type": "execute_result"
    }
   ],
   "source": [
    "confusion_matriX"
   ]
  },
  {
   "cell_type": "code",
   "execution_count": 132,
   "metadata": {
    "ExecuteTime": {
     "end_time": "2020-10-16T23:48:51.567926Z",
     "start_time": "2020-10-16T23:48:51.562940Z"
    },
    "hidden": true
   },
   "outputs": [
    {
     "data": {
      "text/plain": [
       "0.8491620111731844"
      ]
     },
     "execution_count": 132,
     "metadata": {},
     "output_type": "execute_result"
    }
   ],
   "source": [
    "accuracy_score(Y_test, classification)"
   ]
  },
  {
   "cell_type": "code",
   "execution_count": 133,
   "metadata": {
    "ExecuteTime": {
     "end_time": "2020-10-16T23:48:51.601835Z",
     "start_time": "2020-10-16T23:48:51.595852Z"
    },
    "hidden": true
   },
   "outputs": [
    {
     "data": {
      "text/plain": [
       "array([[135,  43],\n",
       "       [ 11, 169]], dtype=int64)"
      ]
     },
     "execution_count": 133,
     "metadata": {},
     "output_type": "execute_result"
    }
   ],
   "source": [
    "confusion_matrix(Y_test, classification)"
   ]
  },
  {
   "cell_type": "code",
   "execution_count": 134,
   "metadata": {
    "ExecuteTime": {
     "end_time": "2020-10-16T23:48:51.636742Z",
     "start_time": "2020-10-16T23:48:51.630758Z"
    },
    "hidden": true
   },
   "outputs": [
    {
     "data": {
      "text/plain": [
       "0.7971698113207547"
      ]
     },
     "execution_count": 134,
     "metadata": {},
     "output_type": "execute_result"
    }
   ],
   "source": [
    "precision_score(Y_test, classification, average = 'binary', pos_label = number_negative_class)"
   ]
  },
  {
   "cell_type": "code",
   "execution_count": 135,
   "metadata": {
    "ExecuteTime": {
     "end_time": "2020-10-16T23:48:51.672646Z",
     "start_time": "2020-10-16T23:48:51.667660Z"
    },
    "hidden": true
   },
   "outputs": [
    {
     "data": {
      "text/plain": [
       "0.9388888888888889"
      ]
     },
     "execution_count": 135,
     "metadata": {},
     "output_type": "execute_result"
    }
   ],
   "source": [
    "recall_score(Y_test, classification, average = 'binary', pos_label = number_negative_class)"
   ]
  },
  {
   "cell_type": "code",
   "execution_count": 136,
   "metadata": {
    "ExecuteTime": {
     "end_time": "2020-10-16T23:48:51.700571Z",
     "start_time": "2020-10-16T23:48:51.694588Z"
    },
    "hidden": true
   },
   "outputs": [
    {
     "data": {
      "text/plain": [
       "0.8622448979591838"
      ]
     },
     "execution_count": 136,
     "metadata": {},
     "output_type": "execute_result"
    }
   ],
   "source": [
    "f1_score(Y_test, classification, average = 'binary', pos_label = number_negative_class)"
   ]
  },
  {
   "cell_type": "code",
   "execution_count": 137,
   "metadata": {
    "ExecuteTime": {
     "end_time": "2020-10-16T23:48:51.735478Z",
     "start_time": "2020-10-16T23:48:51.729495Z"
    },
    "hidden": true
   },
   "outputs": [
    {
     "data": {
      "text/plain": [
       "0.860913672783665"
      ]
     },
     "execution_count": 137,
     "metadata": {},
     "output_type": "execute_result"
    }
   ],
   "source": [
    "# Average Precision Score\n",
    "precision_score(Y_test, classification, average = 'macro')"
   ]
  },
  {
   "cell_type": "code",
   "execution_count": 138,
   "metadata": {
    "ExecuteTime": {
     "end_time": "2020-10-16T23:48:52.020717Z",
     "start_time": "2020-10-16T23:48:52.014732Z"
    },
    "hidden": true
   },
   "outputs": [
    {
     "data": {
      "text/plain": [
       "0.8486579275905118"
      ]
     },
     "execution_count": 138,
     "metadata": {},
     "output_type": "execute_result"
    }
   ],
   "source": [
    "# Average Recall Score\n",
    "recall_score(Y_test, classification, average = 'macro')"
   ]
  },
  {
   "cell_type": "code",
   "execution_count": 139,
   "metadata": {
    "ExecuteTime": {
     "end_time": "2020-10-16T23:48:52.285009Z",
     "start_time": "2020-10-16T23:48:52.279025Z"
    },
    "hidden": true
   },
   "outputs": [
    {
     "data": {
      "text/plain": [
       "0.8477891156462586"
      ]
     },
     "execution_count": 139,
     "metadata": {},
     "output_type": "execute_result"
    }
   ],
   "source": [
    "# Average F1 Score\n",
    "f1_score(Y_test, classification, average = 'macro')"
   ]
  },
  {
   "cell_type": "code",
   "execution_count": 140,
   "metadata": {
    "ExecuteTime": {
     "end_time": "2020-10-16T23:48:52.510407Z",
     "start_time": "2020-10-16T23:48:52.503426Z"
    },
    "hidden": true
   },
   "outputs": [
    {
     "data": {
      "text/plain": [
       "'The accuracy is 0.8491620111731844.'"
      ]
     },
     "execution_count": 140,
     "metadata": {},
     "output_type": "execute_result"
    },
    {
     "data": {
      "application/javascript": [
       "$(document).ready(\n",
       "    function() {\n",
       "        function appendUniqueDiv(){\n",
       "            // append a div with our uuid so we can check that it's already\n",
       "            // been sent and avoid duplicates on page reload\n",
       "            var notifiedDiv = document.createElement(\"div\")\n",
       "            notifiedDiv.id = \"24b8e9ef-b4e0-4a12-9127-9f554a72a45d\"\n",
       "            element.append(notifiedDiv)\n",
       "        }\n",
       "\n",
       "        // only send notifications if the pageload is complete; this will\n",
       "        // help stop extra notifications when a saved notebook is loaded,\n",
       "        // which during testing gives us state \"interactive\", not \"complete\"\n",
       "        if (document.readyState === 'complete') {\n",
       "            // check for the div that signifies that the notification\n",
       "            // was already sent\n",
       "            if (document.getElementById(\"24b8e9ef-b4e0-4a12-9127-9f554a72a45d\") === null) {\n",
       "                var notificationPayload = {\"requireInteraction\": false, \"icon\": \"/static/base/images/favicon.ico\", \"body\": \"The accuracy is 0.8491620111731844.\"};\n",
       "                if (Notification.permission !== 'denied') {\n",
       "                    if (Notification.permission !== 'granted') { \n",
       "                        Notification.requestPermission(function (permission) {\n",
       "                            if(!('permission' in Notification)) {\n",
       "                                Notification.permission = permission\n",
       "                            }\n",
       "                        })\n",
       "                    }\n",
       "                    if (Notification.permission === 'granted') {\n",
       "                    var notification = new Notification(\"Jupyter Notebook\", notificationPayload)\n",
       "                    appendUniqueDiv()\n",
       "                    notification.onclick = function () {\n",
       "                        window.focus();\n",
       "                        this.close();\n",
       "                        };\n",
       "                    } \n",
       "                }     \n",
       "            }\n",
       "        }\n",
       "    }\n",
       ")\n"
      ],
      "text/plain": [
       "<IPython.core.display.Javascript object>"
      ]
     },
     "metadata": {},
     "output_type": "display_data"
    }
   ],
   "source": [
    "%%notify -o\n",
    "f'The accuracy is {accuracy}.'"
   ]
  },
  {
   "cell_type": "code",
   "execution_count": 141,
   "metadata": {
    "ExecuteTime": {
     "end_time": "2020-10-16T23:48:53.006080Z",
     "start_time": "2020-10-16T23:48:52.911360Z"
    },
    "hidden": true
   },
   "outputs": [
    {
     "name": "stdout",
     "output_type": "stream",
     "text": [
      "AUC: 0.8486579275905118\n"
     ]
    }
   ],
   "source": [
    "from sklearn.metrics import roc_curve, auc\n",
    "\n",
    "test = [0 if ele == number_negative_class else 1 for ele in Y_test]\n",
    "classi = [0 if ele == number_negative_class else 1 for ele in classification]\n",
    "\n",
    "fpr, tpr, thresholds = roc_curve(test, classi)\n",
    "\n",
    "def ROC_curve(fpr,tpr):\n",
    "    # Seaborn's beautiful styling\n",
    "    sns.set_style('darkgrid', {'axes.facecolor': '0.9'})\n",
    "    print('AUC: {}'.format(auc(fpr, tpr)))\n",
    "    plt.figure(figsize=(10, 8))\n",
    "    lw = 2\n",
    "    plt.plot(fpr, tpr, color='darkorange',\n",
    "             lw=lw, label='ROC curve')\n",
    "    plt.plot([0, 1], [0, 1], color='navy', lw=lw, linestyle='--')\n",
    "    plt.xlim([0.0, 1.0])\n",
    "    plt.ylim([0.0, 1.05])\n",
    "    plt.yticks([i/20.0 for i in range(21)])\n",
    "    plt.xticks([i/20.0 for i in range(21)])\n",
    "    plt.xlabel('False Positive Rate')\n",
    "    plt.ylabel('True Positive Rate')\n",
    "    plt.title('Receiver operating characteristic (ROC) Curve')\n",
    "    plt.legend(loc='lower right')\n",
    "    plt.show()\n",
    "    \n",
    "ROC_curve(fpr,tpr)\n",
    "figManager = plt.get_current_fig_manager()\n",
    "figManager.window.showMaximized()\n",
    "sns.set_style('white', {'axes.facecolor': '0.9'})"
   ]
  },
  {
   "cell_type": "markdown",
   "metadata": {
    "hidden": true
   },
   "source": [
    "## Manual process analysis"
   ]
  },
  {
   "cell_type": "code",
   "execution_count": 36,
   "metadata": {
    "ExecuteTime": {
     "end_time": "2020-10-16T21:25:23.122855Z",
     "start_time": "2020-10-16T21:25:23.117876Z"
    },
    "hidden": true
   },
   "outputs": [
    {
     "data": {
      "text/plain": [
       "array([0, 7, 0, 7, 0, 7, 0, 0, 7, 7, 0, 0, 7, 0, 7, 0, 0, 0, 7, 7, 7, 0,\n",
       "       7, 7, 7, 0, 0, 7, 0, 7, 0, 7, 0, 0, 7, 7, 0, 0, 7, 0, 7, 0, 0, 0,\n",
       "       7, 7, 7, 0, 7, 7, 0, 0, 7, 0, 7, 0, 7, 0, 0, 7, 7, 0, 0, 7, 0, 7,\n",
       "       0, 0, 0, 7, 7, 7, 0, 7, 7, 7, 0, 0, 7, 0, 7, 0, 7, 0, 0, 7, 7, 0,\n",
       "       0, 7, 0, 7, 0, 0, 0, 7, 7, 0, 0, 7, 7, 0, 0, 0, 7, 0, 7, 0, 7, 0,\n",
       "       0, 7, 7, 0, 0, 7, 0, 7, 0, 0, 0, 7, 7, 7, 0, 7, 7, 7, 0, 0, 7, 0,\n",
       "       7, 0, 7, 0, 0, 7, 7, 0, 0, 7, 7, 7, 0, 0, 0, 7, 7, 7, 0, 7, 7, 7,\n",
       "       0, 0, 7, 0, 7, 0, 7, 0, 0, 7, 7, 0, 0, 7, 0, 7, 0, 0, 0, 7, 7, 7,\n",
       "       0, 7, 7, 7, 0, 7, 0, 7, 0, 7, 0, 0, 7, 7, 7, 0, 7, 0, 0, 0, 7, 7,\n",
       "       0, 7, 7, 7, 0, 0, 7, 0, 7, 0, 7, 0, 0, 7, 7, 7, 7, 7, 7, 7, 0, 0,\n",
       "       0, 7, 7, 7, 0, 7, 7, 7, 0, 0, 7, 0, 7, 0, 7, 0, 0, 7, 7, 0, 0, 7,\n",
       "       0, 7, 0, 7, 0, 7, 7, 0, 0, 7, 7, 7, 7, 0, 7, 0, 7, 0, 7, 0, 0, 7,\n",
       "       7, 0, 0, 7, 0, 7, 0, 0, 0, 7, 7, 7, 0, 7, 7, 7, 0, 0, 7, 0, 7, 0,\n",
       "       7, 0, 0, 7, 7, 0, 0, 7, 0, 7, 0, 0, 0, 7, 7, 7, 0, 7, 7, 7, 0, 0,\n",
       "       7, 0, 0, 7, 0, 0, 7, 7, 0, 0, 7, 0, 7, 0, 0, 7, 7, 7, 0, 7, 7, 7,\n",
       "       0, 0, 7, 0, 7, 0, 7, 0, 0, 7, 7, 0, 0, 7, 0, 7, 0, 0, 0, 7, 7, 7,\n",
       "       0, 7, 7, 7, 0])"
      ]
     },
     "execution_count": 36,
     "metadata": {},
     "output_type": "execute_result"
    }
   ],
   "source": [
    "classification.astype(int)"
   ]
  },
  {
   "cell_type": "code",
   "execution_count": 37,
   "metadata": {
    "ExecuteTime": {
     "end_time": "2020-10-16T21:25:23.626484Z",
     "start_time": "2020-10-16T21:25:23.621529Z"
    },
    "hidden": true
   },
   "outputs": [
    {
     "data": {
      "text/plain": [
       "array([0, 7, 0, 7, 0, 7, 0, 0, 7, 7, 0, 0, 7, 0, 7, 0, 0, 0, 7, 7, 7, 0,\n",
       "       7, 7, 7, 0, 0, 7, 0, 7, 0, 7, 0, 0, 7, 7, 0, 0, 7, 0, 7, 0, 0, 0,\n",
       "       7, 7, 7, 0, 7, 7, 0, 0, 7, 0, 7, 0, 7, 0, 0, 7, 7, 0, 0, 7, 0, 7,\n",
       "       0, 0, 0, 7, 7, 7, 0, 7, 7, 7, 0, 0, 7, 0, 7, 0, 7, 0, 0, 7, 7, 0,\n",
       "       0, 7, 0, 7, 0, 0, 0, 7, 7, 7, 0, 7, 7, 7, 0, 0, 7, 0, 7, 0, 7, 0,\n",
       "       0, 7, 7, 0, 0, 7, 0, 7, 0, 0, 0, 7, 7, 7, 0, 7, 7, 7, 0, 0, 7, 0,\n",
       "       7, 0, 7, 0, 0, 7, 7, 0, 0, 7, 0, 7, 0, 0, 0, 7, 7, 7, 0, 7, 7, 7,\n",
       "       0, 0, 7, 0, 7, 0, 7, 0, 0, 7, 7, 0, 0, 7, 0, 7, 0, 0, 0, 7, 7, 7,\n",
       "       0, 7, 7, 7, 0, 7, 0, 7, 0, 7, 0, 0, 7, 7, 7, 0, 7, 0, 0, 0, 7, 7,\n",
       "       0, 7, 7, 7, 0, 0, 7, 0, 7, 0, 7, 0, 0, 7, 7, 0, 0, 7, 0, 7, 0, 0,\n",
       "       0, 7, 7, 7, 0, 7, 7, 7, 0, 0, 7, 0, 7, 0, 7, 0, 0, 7, 7, 0, 0, 7,\n",
       "       0, 7, 0, 0, 0, 7, 7, 7, 0, 7, 7, 7, 0, 0, 7, 0, 7, 0, 7, 0, 0, 7,\n",
       "       7, 0, 0, 7, 0, 7, 0, 0, 0, 7, 7, 7, 0, 7, 7, 7, 0, 0, 7, 0, 7, 0,\n",
       "       7, 0, 0, 7, 7, 0, 0, 7, 0, 7, 0, 0, 0, 7, 7, 7, 0, 7, 7, 7, 0, 0,\n",
       "       7, 0, 0, 7, 0, 0, 7, 7, 0, 0, 7, 0, 7, 0, 0, 7, 7, 7, 0, 7, 7, 7,\n",
       "       0, 0, 7, 0, 7, 0, 7, 0, 0, 7, 7, 0, 0, 7, 0, 7, 0, 0, 0, 7, 7, 7,\n",
       "       0, 7, 7, 7, 0])"
      ]
     },
     "execution_count": 37,
     "metadata": {},
     "output_type": "execute_result"
    }
   ],
   "source": [
    "Y_test"
   ]
  },
  {
   "cell_type": "code",
   "execution_count": 38,
   "metadata": {
    "ExecuteTime": {
     "end_time": "2020-10-16T21:25:24.616834Z",
     "start_time": "2020-10-16T21:25:24.612872Z"
    },
    "hidden": true
   },
   "outputs": [
    {
     "name": "stdout",
     "output_type": "stream",
     "text": [
      "[ 97 101 142 213 214 216 245 249 254]\n"
     ]
    }
   ],
   "source": [
    "fails = np.where(classification != Y_test)[0]\n",
    "print(fails)"
   ]
  },
  {
   "cell_type": "code",
   "execution_count": 39,
   "metadata": {
    "ExecuteTime": {
     "end_time": "2020-10-16T21:25:24.626809Z",
     "start_time": "2020-10-16T21:25:24.617833Z"
    },
    "hidden": true
   },
   "outputs": [
    {
     "name": "stdout",
     "output_type": "stream",
     "text": [
      "0.3525390625\n",
      "0.3525390625\n",
      "0.3525390625\n",
      "0.31640625\n",
      "0.1650390625\n",
      "0.3525390625\n",
      "0.2822265625\n",
      "0.3525390625\n",
      "0.2822265625\n"
     ]
    }
   ],
   "source": [
    "X_test = np.array(X_test)\n",
    "for x in X_test[fails]:\n",
    "    print(np.power((np.where(weights[0] == x)[0].shape[0] - np.where(weights[0] != x)[0].shape[0]) / x.shape[0], 2))"
   ]
  },
  {
   "cell_type": "code",
   "execution_count": 40,
   "metadata": {
    "ExecuteTime": {
     "end_time": "2020-10-16T21:25:26.149768Z",
     "start_time": "2020-10-16T21:25:26.141757Z"
    },
    "hidden": true
   },
   "outputs": [
    {
     "name": "stdout",
     "output_type": "stream",
     "text": [
      "[0.05065918 0.05700684 0.07275391 0.07971191 0.08117676 0.09973145\n",
      " 0.10131836 0.11132812 0.11340332 0.1151123  0.11535645 0.11621094\n",
      " 0.11694336 0.11791992 0.11853027 0.11901855 0.1192627  0.12109375\n",
      " 0.12268066 0.1237793  0.13598633 0.13757324 0.13793945 0.13891602\n",
      " 0.14038086 0.14221191 0.1427002  0.14367676 0.14746094 0.15637207\n",
      " 0.15710449 0.15905762 0.16040039 0.16174316 0.1619873  0.16210938\n",
      " 0.16271973 0.1628418  0.16296387 0.16320801 0.16540527 0.16564941\n",
      " 0.16625977 0.16650391 0.16662598 0.16699219 0.16723633 0.16870117\n",
      " 0.16931152 0.17077637 0.17077637 0.18273926 0.18457031 0.18481445\n",
      " 0.18481445 0.18493652 0.18566895 0.18579102 0.18640137 0.18652344\n",
      " 0.18652344 0.18688965 0.18725586 0.18811035 0.18823242 0.18823242\n",
      " 0.18933105 0.18945312 0.18969727 0.18994141 0.19055176 0.19055176\n",
      " 0.19067383 0.19128418 0.19152832 0.19213867 0.19226074 0.19250488\n",
      " 0.19250488 0.19274902 0.19335938 0.19372559 0.19396973 0.19421387\n",
      " 0.19519043 0.1953125  0.19580078 0.19592285 0.19616699 0.1965332\n",
      " 0.19677734 0.19873047 0.20019531 0.20397949 0.21020508 0.21069336\n",
      " 0.21203613 0.21228027 0.2130127  0.21447754 0.21472168 0.21484375\n",
      " 0.2154541  0.21582031 0.21655273 0.21655273 0.21691895 0.21801758\n",
      " 0.21813965 0.21862793 0.21862793 0.21936035 0.21984863 0.22009277\n",
      " 0.22131348 0.22241211 0.22302246 0.22302246 0.22412109 0.22412109\n",
      " 0.22424316 0.22436523 0.22460938 0.22473145 0.22509766 0.22619629\n",
      " 0.22631836 0.22827148 0.2286377  0.23657227 0.2388916  0.24438477\n",
      " 0.24511719 0.24536133 0.24536133 0.2454834  0.24621582 0.2467041\n",
      " 0.24682617 0.24768066 0.2487793  0.24902344 0.24914551 0.24963379\n",
      " 0.25048828 0.25073242 0.25097656 0.25146484 0.25183105 0.25219727\n",
      " 0.25244141 0.25439453 0.27392578 0.27416992 0.27587891 0.2767334\n",
      " 0.27746582 0.27783203 0.27868652 0.28051758 0.28210449 0.28210449\n",
      " 0.28356934 0.28405762 0.28417969 0.2845459  0.28869629 0.31335449\n",
      " 0.31628418 0.31774902 0.31799316 0.31896973 0.3190918  0.31933594\n",
      " 0.31982422 0.32336426 0.35290527 0.35656738 0.35876465]\n",
      "\n",
      "[0.16162109 0.27600098 0.2800293  0.31652832 0.34338379 0.34875488\n",
      " 0.35107422 0.35266113 0.35620117 0.3572998  0.38537598 0.38647461\n",
      " 0.3894043  0.39282227 0.42407227 0.42749023 0.42797852 0.42810059\n",
      " 0.42980957 0.42980957 0.43078613 0.43127441 0.43188477 0.43249512\n",
      " 0.43640137 0.46618652 0.46704102 0.46862793 0.46972656 0.47058105\n",
      " 0.47155762 0.47265625 0.47277832 0.4732666  0.47473145 0.47546387\n",
      " 0.47802734 0.47937012 0.50549316 0.50866699 0.51037598 0.51074219\n",
      " 0.51098633 0.51147461 0.51293945 0.51391602 0.51464844 0.51489258\n",
      " 0.51489258 0.51611328 0.5168457  0.51696777 0.51696777 0.51806641\n",
      " 0.5189209  0.52050781 0.52185059 0.5222168  0.52307129 0.52355957\n",
      " 0.52612305 0.53063965 0.54321289 0.55334473 0.55383301 0.55578613\n",
      " 0.5567627  0.55725098 0.55822754 0.55859375 0.55859375 0.55871582\n",
      " 0.5592041  0.55969238 0.56030273 0.56066895 0.56140137 0.56225586\n",
      " 0.56494141 0.56506348 0.5657959  0.56604004 0.56616211 0.56726074\n",
      " 0.56835938 0.56884766 0.57275391 0.57800293 0.6015625  0.60473633\n",
      " 0.60473633 0.60473633 0.60571289 0.60583496 0.60595703 0.6072998\n",
      " 0.6072998  0.60742188 0.60754395 0.6081543  0.60827637 0.60839844\n",
      " 0.60839844 0.60876465 0.60913086 0.609375   0.60986328 0.60998535\n",
      " 0.61010742 0.61035156 0.61071777 0.61108398 0.61242676 0.6126709\n",
      " 0.61279297 0.61376953 0.61401367 0.61523438 0.6159668  0.61682129\n",
      " 0.6171875  0.61804199 0.61877441 0.61938477 0.61975098 0.61999512\n",
      " 0.62145996 0.64575195 0.6505127  0.6541748  0.65539551 0.65673828\n",
      " 0.65734863 0.65771484 0.65783691 0.65808105 0.65856934 0.65917969\n",
      " 0.65991211 0.66064453 0.66162109 0.66210938 0.66345215 0.66381836\n",
      " 0.66491699 0.66503906 0.66638184 0.66662598 0.66723633 0.66931152\n",
      " 0.671875   0.69995117 0.70983887 0.71166992 0.7121582  0.7130127\n",
      " 0.71313477 0.71411133 0.71411133 0.71459961 0.71533203 0.71582031\n",
      " 0.71618652 0.7175293  0.71838379 0.71911621 0.72143555 0.75366211\n",
      " 0.76184082 0.765625   0.765625   0.765625   0.76623535 0.76647949\n",
      " 0.76782227 0.77050781 0.82092285 0.87719727]\n",
      "[0.16162109 0.27600098 0.2800293  0.31652832 0.34338379 0.34875488\n",
      " 0.35290527 0.35656738 0.35876465]\n"
     ]
    }
   ],
   "source": [
    "print(np.sort(readouts[np.where(Y_test == number_negative_class)]), end = '\\n\\n')\n",
    "print(np.sort(readouts[np.where(Y_test == number_positive_class)]))\n",
    "print(np.sort(readouts[fails]))"
   ]
  },
  {
   "cell_type": "code",
   "execution_count": 41,
   "metadata": {
    "ExecuteTime": {
     "end_time": "2020-10-16T21:25:26.758142Z",
     "start_time": "2020-10-16T21:25:26.548701Z"
    },
    "hidden": true
   },
   "outputs": [],
   "source": [
    "fig, axs = plt.subplots(3, int(np.ceil(len(fails) / 3)), figsize=(15,9))\n",
    "count = 0\n",
    "\n",
    "for i in range(3):\n",
    "    for j in range(int(np.ceil(len(fails) / 3))):\n",
    "        ax = axs[i][j]\n",
    "        \n",
    "        #c = ax.pcolor(thetas[i + j][1:].reshape(28, 28), cmap = 'gray')\n",
    "        try:\n",
    "            c = ax.imshow(np.array(X_test[fails[count]]).reshape(8, 8), cmap = 'gray_r', interpolation='nearest')\n",
    "            ax.axis('off')\n",
    "            ax.axis('equal')\n",
    "            ax.set_title(f'Classified as {classification[fails[count]]}').set_position([0.5, 1.1])\n",
    "            count += 1\n",
    "        except IndexError:\n",
    "            continue\n",
    "        \n",
    "fig.tight_layout()\n",
    "plt.colorbar(c)\n",
    "plt.show()"
   ]
  },
  {
   "cell_type": "code",
   "execution_count": 42,
   "metadata": {
    "ExecuteTime": {
     "end_time": "2020-10-16T21:25:42.571843Z",
     "start_time": "2020-10-16T21:25:42.565884Z"
    },
    "hidden": true
   },
   "outputs": [
    {
     "data": {
      "text/plain": [
       "Counter({0: 178, 7: 179})"
      ]
     },
     "execution_count": 42,
     "metadata": {},
     "output_type": "execute_result"
    }
   ],
   "source": [
    "Counter(Y_test)"
   ]
  },
  {
   "cell_type": "code",
   "execution_count": 43,
   "metadata": {
    "ExecuteTime": {
     "end_time": "2020-10-16T21:25:43.262088Z",
     "start_time": "2020-10-16T21:25:43.253145Z"
    },
    "hidden": true
   },
   "outputs": [
    {
     "data": {
      "text/plain": [
       "array([0.61804199, 0.13793945, 0.43640137, 0.17077637, 0.66064453,\n",
       "       0.12268066, 0.65734863, 0.60473633, 0.15637207, 0.22827148,\n",
       "       0.76184082, 0.51464844, 0.22424316, 0.52050781, 0.27746582,\n",
       "       0.60913086, 0.82092285, 0.765625  , 0.22631836, 0.21801758,\n",
       "       0.16870117, 0.42407227, 0.31933594, 0.24621582, 0.27392578,\n",
       "       0.60876465, 0.71533203, 0.21447754, 0.61376953, 0.21862793,\n",
       "       0.66491699, 0.18652344, 0.61938477, 0.6072998 , 0.11694336,\n",
       "       0.13891602, 0.60986328, 0.46972656, 0.21484375, 0.60839844,\n",
       "       0.11791992, 0.72143555, 0.6081543 , 0.47058105, 0.24511719,\n",
       "       0.24536133, 0.11853027, 0.7175293 , 0.28356934, 0.19335938,\n",
       "       0.66345215, 0.51696777, 0.12109375, 0.64575195, 0.25073242,\n",
       "       0.65917969, 0.1953125 , 0.55859375, 0.47155762, 0.22412109,\n",
       "       0.16564941, 0.77050781, 0.76623535, 0.19274902, 0.66381836,\n",
       "       0.08117676, 0.61279297, 0.65673828, 0.6159668 , 0.24682617,\n",
       "       0.21228027, 0.22619629, 0.60473633, 0.18579102, 0.19396973,\n",
       "       0.21984863, 0.65991211, 0.61071777, 0.24768066, 0.6505127 ,\n",
       "       0.21069336, 0.71166992, 0.28869629, 0.50866699, 0.61975098,\n",
       "       0.18823242, 0.31628418, 0.87719727, 0.53063965, 0.28405762,\n",
       "       0.71459961, 0.21203613, 0.60473633, 0.765625  , 0.56616211,\n",
       "       0.28417969, 0.21020508, 0.35290527, 0.61523438, 0.15905762,\n",
       "       0.18994141, 0.35876465, 0.61877441, 0.7130127 , 0.31774902,\n",
       "       0.47546387, 0.19372559, 0.52185059, 0.14221191, 0.6126709 ,\n",
       "       0.62145996, 0.18566895, 0.22412109, 0.6072998 , 0.46618652,\n",
       "       0.2467041 , 0.56726074, 0.16625977, 0.5567627 , 0.66210938,\n",
       "       0.5592041 , 0.14038086, 0.22009277, 0.16662598, 0.51293945,\n",
       "       0.27783203, 0.21582031, 0.14367676, 0.71582031, 0.42980957,\n",
       "       0.18945312, 0.35266113, 0.1628418 , 0.43249512, 0.05700684,\n",
       "       0.5222168 , 0.61108398, 0.09973145, 0.07971191, 0.65856934,\n",
       "       0.47277832, 0.18933105, 0.34338379, 0.22509766, 0.51147461,\n",
       "       0.60742188, 0.61035156, 0.15710449, 0.05065918, 0.21691895,\n",
       "       0.51806641, 0.11901855, 0.16699219, 0.18493652, 0.56506348,\n",
       "       0.5189209 , 0.19213867, 0.51696777, 0.2454834 , 0.71838379,\n",
       "       0.11340332, 0.71911621, 0.60583496, 0.1427002 , 0.18811035,\n",
       "       0.61401367, 0.51489258, 0.16040039, 0.55969238, 0.16210938,\n",
       "       0.66931152, 0.55822754, 0.51037598, 0.24902344, 0.16271973,\n",
       "       0.16296387, 0.60571289, 0.19055176, 0.13757324, 0.28051758,\n",
       "       0.47473145, 0.27416992, 0.5657959 , 0.25183105, 0.75366211,\n",
       "       0.21472168, 0.765625  , 0.50549316, 0.21655273, 0.11132812,\n",
       "       0.28210449, 0.6015625 , 0.24914551, 0.56884766, 0.46704102,\n",
       "       0.51074219, 0.22436523, 0.19580078, 0.7121582 , 0.16540527,\n",
       "       0.19616699, 0.19152832, 0.42797852, 0.57275391, 0.24536133,\n",
       "       0.71618652, 0.19128418, 0.5168457 , 0.16320801, 0.60754395,\n",
       "       0.61999512, 0.1619873 , 0.18823242, 0.31652832, 0.16162109,\n",
       "       0.1237793 , 0.34875488, 0.16931152, 0.70983887, 0.35620117,\n",
       "       0.52612305, 0.19421387, 0.1192627 , 0.20019531, 0.55871582,\n",
       "       0.18481445, 0.22460938, 0.13598633, 0.56030273, 0.66638184,\n",
       "       0.18688965, 0.43188477, 0.21936035, 0.3894043 , 0.11621094,\n",
       "       0.39282227, 0.47265625, 0.18457031, 0.25146484, 0.47802734,\n",
       "       0.51611328, 0.21655273, 0.55859375, 0.16723633, 0.35107422,\n",
       "       0.27600098, 0.42810059, 0.28210449, 0.25244141, 0.35656738,\n",
       "       0.56604004, 0.31982422, 0.14746094, 0.10131836, 0.2800293 ,\n",
       "       0.46862793, 0.25097656, 0.54321289, 0.2130127 , 0.71411133,\n",
       "       0.19592285, 0.69995117, 0.56066895, 0.21862793, 0.31799316,\n",
       "       0.6171875 , 0.61010742, 0.18969727, 0.51489258, 0.18481445,\n",
       "       0.60595703, 0.65539551, 0.51391602, 0.16174316, 0.21813965,\n",
       "       0.22302246, 0.76782227, 0.19873047, 0.24438477, 0.19677734,\n",
       "       0.42749023, 0.56225586, 0.25219727, 0.66503906, 0.16650391,\n",
       "       0.52307129, 0.19226074, 0.61242676, 0.71313477, 0.22473145,\n",
       "       0.23657227, 0.61682129, 0.56494141, 0.07275391, 0.56835938,\n",
       "       0.17077637, 0.4732666 , 0.38537598, 0.671875  , 0.27587891,\n",
       "       0.19067383, 0.1965332 , 0.66723633, 0.22241211, 0.2154541 ,\n",
       "       0.2286377 , 0.55334473, 0.66162109, 0.25048828, 0.66662598,\n",
       "       0.71411133, 0.27868652, 0.38647461, 0.76647949, 0.3190918 ,\n",
       "       0.2845459 , 0.43127441, 0.42980957, 0.2388916 , 0.56140137,\n",
       "       0.22131348, 0.3572998 , 0.52355957, 0.25439453, 0.18725586,\n",
       "       0.32336426, 0.55578613, 0.22302246, 0.31896973, 0.31335449,\n",
       "       0.60827637, 0.65783691, 0.19055176, 0.6541748 , 0.19250488,\n",
       "       0.65808105, 0.18640137, 0.55383301, 0.609375  , 0.11535645,\n",
       "       0.19519043, 0.60839844, 0.55725098, 0.2487793 , 0.43078613,\n",
       "       0.1151123 , 0.51098633, 0.47937012, 0.65771484, 0.18652344,\n",
       "       0.18273926, 0.19250488, 0.57800293, 0.24963379, 0.20397949,\n",
       "       0.2767334 , 0.60998535])"
      ]
     },
     "execution_count": 43,
     "metadata": {},
     "output_type": "execute_result"
    }
   ],
   "source": [
    "readouts"
   ]
  },
  {
   "cell_type": "code",
   "execution_count": 44,
   "metadata": {
    "ExecuteTime": {
     "end_time": "2020-10-16T21:26:01.018096Z",
     "start_time": "2020-10-16T21:26:01.014144Z"
    },
    "hidden": true
   },
   "outputs": [],
   "source": [
    "indexes = [i for i in range(len(readouts))]"
   ]
  },
  {
   "cell_type": "code",
   "execution_count": 45,
   "metadata": {
    "ExecuteTime": {
     "end_time": "2020-10-16T21:26:01.417062Z",
     "start_time": "2020-10-16T21:26:01.398079Z"
    },
    "hidden": true
   },
   "outputs": [
    {
     "data": {
      "text/plain": [
       "[(0, 0, 0.6180419921875),\n",
       " (1, 7, 0.137939453125),\n",
       " (2, 0, 0.4364013671875),\n",
       " (3, 7, 0.1707763671875),\n",
       " (4, 0, 0.66064453125),\n",
       " (5, 7, 0.1226806640625),\n",
       " (6, 0, 0.6573486328125),\n",
       " (7, 0, 0.604736328125),\n",
       " (8, 7, 0.1563720703125),\n",
       " (9, 7, 0.228271484375),\n",
       " (10, 0, 0.7618408203125),\n",
       " (11, 0, 0.5146484375),\n",
       " (12, 7, 0.2242431640625),\n",
       " (13, 0, 0.5205078125),\n",
       " (14, 7, 0.2774658203125),\n",
       " (15, 0, 0.609130859375),\n",
       " (16, 0, 0.8209228515625),\n",
       " (17, 0, 0.765625),\n",
       " (18, 7, 0.226318359375),\n",
       " (19, 7, 0.218017578125),\n",
       " (20, 7, 0.168701171875),\n",
       " (21, 0, 0.424072265625),\n",
       " (22, 7, 0.3193359375),\n",
       " (23, 7, 0.2462158203125),\n",
       " (24, 7, 0.27392578125),\n",
       " (25, 0, 0.6087646484375),\n",
       " (26, 0, 0.71533203125),\n",
       " (27, 7, 0.2144775390625),\n",
       " (28, 0, 0.61376953125),\n",
       " (29, 7, 0.2186279296875),\n",
       " (30, 0, 0.6649169921875),\n",
       " (31, 7, 0.1865234375),\n",
       " (32, 0, 0.619384765625),\n",
       " (33, 0, 0.6072998046875),\n",
       " (34, 7, 0.116943359375),\n",
       " (35, 7, 0.138916015625),\n",
       " (36, 0, 0.60986328125),\n",
       " (37, 0, 0.4697265625),\n",
       " (38, 7, 0.21484375),\n",
       " (39, 0, 0.6083984375),\n",
       " (40, 7, 0.117919921875),\n",
       " (41, 0, 0.721435546875),\n",
       " (42, 0, 0.608154296875),\n",
       " (43, 0, 0.4705810546875),\n",
       " (44, 7, 0.2451171875),\n",
       " (45, 7, 0.245361328125),\n",
       " (46, 7, 0.1185302734375),\n",
       " (47, 0, 0.717529296875),\n",
       " (48, 7, 0.2835693359375),\n",
       " (49, 7, 0.193359375),\n",
       " (50, 0, 0.6634521484375),\n",
       " (51, 0, 0.5169677734375),\n",
       " (52, 7, 0.12109375),\n",
       " (53, 0, 0.645751953125),\n",
       " (54, 7, 0.250732421875),\n",
       " (55, 0, 0.6591796875),\n",
       " (56, 7, 0.1953125),\n",
       " (57, 0, 0.55859375),\n",
       " (58, 0, 0.4715576171875),\n",
       " (59, 7, 0.22412109375),\n",
       " (60, 7, 0.1656494140625),\n",
       " (61, 0, 0.7705078125),\n",
       " (62, 0, 0.7662353515625),\n",
       " (63, 7, 0.1927490234375),\n",
       " (64, 0, 0.663818359375),\n",
       " (65, 7, 0.0811767578125),\n",
       " (66, 0, 0.61279296875),\n",
       " (67, 0, 0.65673828125),\n",
       " (68, 0, 0.615966796875),\n",
       " (69, 7, 0.246826171875),\n",
       " (70, 7, 0.2122802734375),\n",
       " (71, 7, 0.2261962890625),\n",
       " (72, 0, 0.604736328125),\n",
       " (73, 7, 0.185791015625),\n",
       " (74, 7, 0.1939697265625),\n",
       " (75, 7, 0.2198486328125),\n",
       " (76, 0, 0.659912109375),\n",
       " (77, 0, 0.6107177734375),\n",
       " (78, 7, 0.2476806640625),\n",
       " (79, 0, 0.6505126953125),\n",
       " (80, 7, 0.210693359375),\n",
       " (81, 0, 0.711669921875),\n",
       " (82, 7, 0.2886962890625),\n",
       " (83, 0, 0.5086669921875),\n",
       " (84, 0, 0.6197509765625),\n",
       " (85, 7, 0.188232421875),\n",
       " (86, 7, 0.3162841796875),\n",
       " (87, 0, 0.877197265625),\n",
       " (88, 0, 0.5306396484375),\n",
       " (89, 7, 0.2840576171875),\n",
       " (90, 0, 0.714599609375),\n",
       " (91, 7, 0.2120361328125),\n",
       " (92, 0, 0.604736328125),\n",
       " (93, 0, 0.765625),\n",
       " (94, 0, 0.566162109375),\n",
       " (95, 7, 0.2841796875),\n",
       " (96, 7, 0.210205078125),\n",
       " (97, 7, 0.3529052734375),\n",
       " (98, 0, 0.615234375),\n",
       " (99, 7, 0.1590576171875),\n",
       " (100, 7, 0.18994140625),\n",
       " (101, 7, 0.3587646484375),\n",
       " (102, 0, 0.6187744140625),\n",
       " (103, 0, 0.7130126953125),\n",
       " (104, 7, 0.3177490234375),\n",
       " (105, 0, 0.4754638671875),\n",
       " (106, 7, 0.1937255859375),\n",
       " (107, 0, 0.5218505859375),\n",
       " (108, 7, 0.1422119140625),\n",
       " (109, 0, 0.6126708984375),\n",
       " (110, 0, 0.6214599609375),\n",
       " (111, 7, 0.1856689453125),\n",
       " (112, 7, 0.22412109375),\n",
       " (113, 0, 0.6072998046875),\n",
       " (114, 0, 0.4661865234375),\n",
       " (115, 7, 0.2467041015625),\n",
       " (116, 0, 0.5672607421875),\n",
       " (117, 7, 0.166259765625),\n",
       " (118, 0, 0.5567626953125),\n",
       " (119, 0, 0.662109375),\n",
       " (120, 0, 0.5592041015625),\n",
       " (121, 7, 0.140380859375),\n",
       " (122, 7, 0.2200927734375),\n",
       " (123, 7, 0.1666259765625),\n",
       " (124, 0, 0.512939453125),\n",
       " (125, 7, 0.27783203125),\n",
       " (126, 7, 0.2158203125),\n",
       " (127, 7, 0.1436767578125),\n",
       " (128, 0, 0.7158203125),\n",
       " (129, 0, 0.4298095703125),\n",
       " (130, 7, 0.189453125),\n",
       " (131, 0, 0.3526611328125),\n",
       " (132, 7, 0.162841796875),\n",
       " (133, 0, 0.4324951171875),\n",
       " (134, 7, 0.0570068359375),\n",
       " (135, 0, 0.522216796875),\n",
       " (136, 0, 0.611083984375),\n",
       " (137, 7, 0.0997314453125),\n",
       " (138, 7, 0.0797119140625),\n",
       " (139, 0, 0.6585693359375),\n",
       " (140, 0, 0.4727783203125),\n",
       " (141, 7, 0.1893310546875),\n",
       " (142, 0, 0.3433837890625),\n",
       " (143, 7, 0.22509765625),\n",
       " (144, 0, 0.511474609375),\n",
       " (145, 0, 0.607421875),\n",
       " (146, 0, 0.6103515625),\n",
       " (147, 7, 0.1571044921875),\n",
       " (148, 7, 0.0506591796875),\n",
       " (149, 7, 0.2169189453125),\n",
       " (150, 0, 0.51806640625),\n",
       " (151, 7, 0.1190185546875),\n",
       " (152, 7, 0.1669921875),\n",
       " (153, 7, 0.1849365234375),\n",
       " (154, 0, 0.5650634765625),\n",
       " (155, 0, 0.5189208984375),\n",
       " (156, 7, 0.192138671875),\n",
       " (157, 0, 0.5169677734375),\n",
       " (158, 7, 0.2454833984375),\n",
       " (159, 0, 0.7183837890625),\n",
       " (160, 7, 0.1134033203125),\n",
       " (161, 0, 0.7191162109375),\n",
       " (162, 0, 0.6058349609375),\n",
       " (163, 7, 0.1427001953125),\n",
       " (164, 7, 0.1881103515625),\n",
       " (165, 0, 0.614013671875),\n",
       " (166, 0, 0.514892578125),\n",
       " (167, 7, 0.160400390625),\n",
       " (168, 0, 0.5596923828125),\n",
       " (169, 7, 0.162109375),\n",
       " (170, 0, 0.6693115234375),\n",
       " (171, 0, 0.5582275390625),\n",
       " (172, 0, 0.5103759765625),\n",
       " (173, 7, 0.2490234375),\n",
       " (174, 7, 0.1627197265625),\n",
       " (175, 7, 0.1629638671875),\n",
       " (176, 0, 0.605712890625),\n",
       " (177, 7, 0.1905517578125),\n",
       " (178, 7, 0.1375732421875),\n",
       " (179, 7, 0.280517578125),\n",
       " (180, 0, 0.4747314453125),\n",
       " (181, 7, 0.274169921875),\n",
       " (182, 0, 0.5657958984375),\n",
       " (183, 7, 0.2518310546875),\n",
       " (184, 0, 0.753662109375),\n",
       " (185, 7, 0.2147216796875),\n",
       " (186, 0, 0.765625),\n",
       " (187, 0, 0.5054931640625),\n",
       " (188, 7, 0.216552734375),\n",
       " (189, 7, 0.111328125),\n",
       " (190, 7, 0.2821044921875),\n",
       " (191, 0, 0.6015625),\n",
       " (192, 7, 0.2491455078125),\n",
       " (193, 0, 0.56884765625),\n",
       " (194, 0, 0.467041015625),\n",
       " (195, 0, 0.5107421875),\n",
       " (196, 7, 0.224365234375),\n",
       " (197, 7, 0.19580078125),\n",
       " (198, 0, 0.712158203125),\n",
       " (199, 7, 0.1654052734375),\n",
       " (200, 7, 0.1961669921875),\n",
       " (201, 7, 0.1915283203125),\n",
       " (202, 0, 0.427978515625),\n",
       " (203, 0, 0.57275390625),\n",
       " (204, 7, 0.245361328125),\n",
       " (205, 0, 0.7161865234375),\n",
       " (206, 7, 0.1912841796875),\n",
       " (207, 0, 0.516845703125),\n",
       " (208, 7, 0.1632080078125),\n",
       " (209, 0, 0.6075439453125),\n",
       " (210, 0, 0.6199951171875),\n",
       " (211, 7, 0.1619873046875),\n",
       " (212, 7, 0.188232421875),\n",
       " (213, 0, 0.3165283203125),\n",
       " (214, 0, 0.16162109375),\n",
       " (215, 7, 0.123779296875),\n",
       " (216, 0, 0.3487548828125),\n",
       " (217, 7, 0.1693115234375),\n",
       " (218, 0, 0.7098388671875),\n",
       " (219, 0, 0.356201171875),\n",
       " (220, 0, 0.526123046875),\n",
       " (221, 7, 0.1942138671875),\n",
       " (222, 7, 0.1192626953125),\n",
       " (223, 7, 0.2001953125),\n",
       " (224, 0, 0.5587158203125),\n",
       " (225, 7, 0.184814453125),\n",
       " (226, 7, 0.224609375),\n",
       " (227, 7, 0.135986328125),\n",
       " (228, 0, 0.560302734375),\n",
       " (229, 0, 0.6663818359375),\n",
       " (230, 7, 0.1868896484375),\n",
       " (231, 0, 0.431884765625),\n",
       " (232, 7, 0.2193603515625),\n",
       " (233, 0, 0.389404296875),\n",
       " (234, 7, 0.1162109375),\n",
       " (235, 0, 0.392822265625),\n",
       " (236, 0, 0.47265625),\n",
       " (237, 7, 0.1845703125),\n",
       " (238, 7, 0.25146484375),\n",
       " (239, 0, 0.47802734375),\n",
       " (240, 0, 0.51611328125),\n",
       " (241, 7, 0.216552734375),\n",
       " (242, 0, 0.55859375),\n",
       " (243, 7, 0.167236328125),\n",
       " (244, 0, 0.35107421875),\n",
       " (245, 0, 0.2760009765625),\n",
       " (246, 0, 0.4281005859375),\n",
       " (247, 7, 0.2821044921875),\n",
       " (248, 7, 0.25244140625),\n",
       " (249, 7, 0.3565673828125),\n",
       " (250, 0, 0.5660400390625),\n",
       " (251, 7, 0.31982421875),\n",
       " (252, 7, 0.1474609375),\n",
       " (253, 7, 0.101318359375),\n",
       " (254, 0, 0.280029296875),\n",
       " (255, 0, 0.4686279296875),\n",
       " (256, 7, 0.2509765625),\n",
       " (257, 0, 0.543212890625),\n",
       " (258, 7, 0.2130126953125),\n",
       " (259, 0, 0.714111328125),\n",
       " (260, 7, 0.1959228515625),\n",
       " (261, 0, 0.699951171875),\n",
       " (262, 0, 0.5606689453125),\n",
       " (263, 7, 0.2186279296875),\n",
       " (264, 7, 0.3179931640625),\n",
       " (265, 0, 0.6171875),\n",
       " (266, 0, 0.610107421875),\n",
       " (267, 7, 0.189697265625),\n",
       " (268, 0, 0.514892578125),\n",
       " (269, 7, 0.184814453125),\n",
       " (270, 0, 0.60595703125),\n",
       " (271, 0, 0.6553955078125),\n",
       " (272, 0, 0.513916015625),\n",
       " (273, 7, 0.1617431640625),\n",
       " (274, 7, 0.2181396484375),\n",
       " (275, 7, 0.2230224609375),\n",
       " (276, 0, 0.767822265625),\n",
       " (277, 7, 0.19873046875),\n",
       " (278, 7, 0.244384765625),\n",
       " (279, 7, 0.19677734375),\n",
       " (280, 0, 0.427490234375),\n",
       " (281, 0, 0.562255859375),\n",
       " (282, 7, 0.252197265625),\n",
       " (283, 0, 0.6650390625),\n",
       " (284, 7, 0.16650390625),\n",
       " (285, 0, 0.5230712890625),\n",
       " (286, 7, 0.1922607421875),\n",
       " (287, 0, 0.6124267578125),\n",
       " (288, 0, 0.713134765625),\n",
       " (289, 7, 0.2247314453125),\n",
       " (290, 7, 0.236572265625),\n",
       " (291, 0, 0.6168212890625),\n",
       " (292, 0, 0.56494140625),\n",
       " (293, 7, 0.07275390625),\n",
       " (294, 0, 0.568359375),\n",
       " (295, 7, 0.1707763671875),\n",
       " (296, 0, 0.4732666015625),\n",
       " (297, 0, 0.3853759765625),\n",
       " (298, 0, 0.671875),\n",
       " (299, 7, 0.27587890625),\n",
       " (300, 7, 0.190673828125),\n",
       " (301, 7, 0.196533203125),\n",
       " (302, 0, 0.667236328125),\n",
       " (303, 7, 0.222412109375),\n",
       " (304, 7, 0.2154541015625),\n",
       " (305, 7, 0.2286376953125),\n",
       " (306, 0, 0.5533447265625),\n",
       " (307, 0, 0.66162109375),\n",
       " (308, 7, 0.25048828125),\n",
       " (309, 0, 0.6666259765625),\n",
       " (310, 0, 0.714111328125),\n",
       " (311, 7, 0.2786865234375),\n",
       " (312, 0, 0.386474609375),\n",
       " (313, 0, 0.7664794921875),\n",
       " (314, 7, 0.319091796875),\n",
       " (315, 7, 0.2845458984375),\n",
       " (316, 0, 0.4312744140625),\n",
       " (317, 0, 0.4298095703125),\n",
       " (318, 7, 0.2388916015625),\n",
       " (319, 0, 0.5614013671875),\n",
       " (320, 7, 0.2213134765625),\n",
       " (321, 0, 0.3572998046875),\n",
       " (322, 0, 0.5235595703125),\n",
       " (323, 7, 0.25439453125),\n",
       " (324, 7, 0.187255859375),\n",
       " (325, 7, 0.3233642578125),\n",
       " (326, 0, 0.5557861328125),\n",
       " (327, 7, 0.2230224609375),\n",
       " (328, 7, 0.3189697265625),\n",
       " (329, 7, 0.3133544921875),\n",
       " (330, 0, 0.6082763671875),\n",
       " (331, 0, 0.6578369140625),\n",
       " (332, 7, 0.1905517578125),\n",
       " (333, 0, 0.6541748046875),\n",
       " (334, 7, 0.1925048828125),\n",
       " (335, 0, 0.6580810546875),\n",
       " (336, 7, 0.1864013671875),\n",
       " (337, 0, 0.5538330078125),\n",
       " (338, 0, 0.609375),\n",
       " (339, 7, 0.1153564453125),\n",
       " (340, 7, 0.1951904296875),\n",
       " (341, 0, 0.6083984375),\n",
       " (342, 0, 0.5572509765625),\n",
       " (343, 7, 0.248779296875),\n",
       " (344, 0, 0.4307861328125),\n",
       " (345, 7, 0.1151123046875),\n",
       " (346, 0, 0.510986328125),\n",
       " (347, 0, 0.4793701171875),\n",
       " (348, 0, 0.65771484375),\n",
       " (349, 7, 0.1865234375),\n",
       " (350, 7, 0.1827392578125),\n",
       " (351, 7, 0.1925048828125),\n",
       " (352, 0, 0.5780029296875),\n",
       " (353, 7, 0.2496337890625),\n",
       " (354, 7, 0.2039794921875),\n",
       " (355, 7, 0.2767333984375),\n",
       " (356, 0, 0.6099853515625)]"
      ]
     },
     "execution_count": 45,
     "metadata": {},
     "output_type": "execute_result"
    }
   ],
   "source": [
    "list(zip(indexes, Y_test, readouts))"
   ]
  },
  {
   "cell_type": "code",
   "execution_count": 46,
   "metadata": {
    "ExecuteTime": {
     "end_time": "2020-10-16T21:26:03.235166Z",
     "start_time": "2020-10-16T21:26:03.182307Z"
    },
    "hidden": true
   },
   "outputs": [
    {
     "data": {
      "text/plain": [
       "Text(0, 0.5, 'Training Readout')"
      ]
     },
     "execution_count": 46,
     "metadata": {},
     "output_type": "execute_result"
    }
   ],
   "source": [
    "#%matplotlib qt\n",
    "plt.scatter(Y_train, m[-1])\n",
    "plt.xlabel(\"Number\")\n",
    "plt.ylabel(\"Training Readout\")\n",
    "#%matplotlib inline"
   ]
  },
  {
   "cell_type": "code",
   "execution_count": 47,
   "metadata": {
    "ExecuteTime": {
     "end_time": "2020-10-16T21:26:05.438308Z",
     "start_time": "2020-10-16T21:26:05.381426Z"
    },
    "hidden": true
   },
   "outputs": [
    {
     "data": {
      "text/plain": [
       "[<matplotlib.lines.Line2D at 0x20e66674c88>]"
      ]
     },
     "execution_count": 47,
     "metadata": {},
     "output_type": "execute_result"
    }
   ],
   "source": [
    "#%matplotlib qt\n",
    "plt.scatter(Y_test, readouts)\n",
    "plt.xlabel(\"Number\")\n",
    "plt.ylabel(\"Prediction Readout\")\n",
    "plt.plot([i for i in range(number_negative_class, number_positive_class + 1)], [test_threshold for _ in range(number_negative_class, number_positive_class + 1)])\n",
    "plt.plot([i for i in range(min(number_negative_class, number_positive_class), max(number_negative_class, number_positive_class) + 1)], [test_threshold for _ in range(abs(number_negative_class - number_positive_class) + 1)])\n",
    "#%matplotlib inline"
   ]
  },
  {
   "cell_type": "code",
   "execution_count": 48,
   "metadata": {
    "ExecuteTime": {
     "end_time": "2020-10-16T21:26:10.172390Z",
     "start_time": "2020-10-16T21:26:10.117572Z"
    },
    "hidden": true
   },
   "outputs": [
    {
     "data": {
      "text/plain": [
       "[<matplotlib.lines.Line2D at 0x20e662765c8>]"
      ]
     },
     "execution_count": 48,
     "metadata": {},
     "output_type": "execute_result"
    }
   ],
   "source": [
    "classification_auxiliar = classification / np.max(classification)\n",
    "palette = np.array(sns.color_palette(\"hls\", 2))  #Choosing color palette \n",
    "plt.scatter(Y_test, readouts, lw=0, s=40, c=palette[classification_auxiliar.astype(np.int)])\n",
    "plt.plot([i for i in range(number_negative_class, number_positive_class + 1)], [test_threshold for _ in range(number_negative_class, number_positive_class + 1)])"
   ]
  },
  {
   "cell_type": "code",
   "execution_count": 49,
   "metadata": {
    "ExecuteTime": {
     "end_time": "2020-10-16T21:26:12.116405Z",
     "start_time": "2020-10-16T21:26:12.111386Z"
    },
    "hidden": true
   },
   "outputs": [
    {
     "data": {
      "text/plain": [
       "array([0, 7, 0, 7, 0, 7, 0, 0, 7, 7, 0, 0, 7, 0, 7, 0, 0, 0, 7, 7, 7, 0,\n",
       "       7, 7, 7, 0, 0, 7, 0, 7, 0, 7, 0, 0, 7, 7, 0, 0, 7, 0, 7, 0, 0, 0,\n",
       "       7, 7, 7, 0, 7, 7, 0, 0, 7, 0, 7, 0, 7, 0, 0, 7, 7, 0, 0, 7, 0, 7,\n",
       "       0, 0, 0, 7, 7, 7, 0, 7, 7, 7, 0, 0, 7, 0, 7, 0, 7, 0, 0, 7, 7, 0,\n",
       "       0, 7, 0, 7, 0, 0, 0, 7, 7, 7, 0, 7, 7, 7, 0, 0, 7, 0, 7, 0, 7, 0,\n",
       "       0, 7, 7, 0, 0, 7, 0, 7, 0, 0, 0, 7, 7, 7, 0, 7, 7, 7, 0, 0, 7, 0,\n",
       "       7, 0, 7, 0, 0, 7, 7, 0, 0, 7, 0, 7, 0, 0, 0, 7, 7, 7, 0, 7, 7, 7,\n",
       "       0, 0, 7, 0, 7, 0, 7, 0, 0, 7, 7, 0, 0, 7, 0, 7, 0, 0, 0, 7, 7, 7,\n",
       "       0, 7, 7, 7, 0, 7, 0, 7, 0, 7, 0, 0, 7, 7, 7, 0, 7, 0, 0, 0, 7, 7,\n",
       "       0, 7, 7, 7, 0, 0, 7, 0, 7, 0, 7, 0, 0, 7, 7, 0, 0, 7, 0, 7, 0, 0,\n",
       "       0, 7, 7, 7, 0, 7, 7, 7, 0, 0, 7, 0, 7, 0, 7, 0, 0, 7, 7, 0, 0, 7,\n",
       "       0, 7, 0, 0, 0, 7, 7, 7, 0, 7, 7, 7, 0, 0, 7, 0, 7, 0, 7, 0, 0, 7,\n",
       "       7, 0, 0, 7, 0, 7, 0, 0, 0, 7, 7, 7, 0, 7, 7, 7, 0, 0, 7, 0, 7, 0,\n",
       "       7, 0, 0, 7, 7, 0, 0, 7, 0, 7, 0, 0, 0, 7, 7, 7, 0, 7, 7, 7, 0, 0,\n",
       "       7, 0, 0, 7, 0, 0, 7, 7, 0, 0, 7, 0, 7, 0, 0, 7, 7, 7, 0, 7, 7, 7,\n",
       "       0, 0, 7, 0, 7, 0, 7, 0, 0, 7, 7, 0, 0, 7, 0, 7, 0, 0, 0, 7, 7, 7,\n",
       "       0, 7, 7, 7, 0])"
      ]
     },
     "execution_count": 49,
     "metadata": {},
     "output_type": "execute_result"
    }
   ],
   "source": [
    "Y_test"
   ]
  },
  {
   "cell_type": "code",
   "execution_count": 50,
   "metadata": {
    "ExecuteTime": {
     "end_time": "2020-10-16T21:26:13.097799Z",
     "start_time": "2020-10-16T21:26:13.044971Z"
    },
    "hidden": true
   },
   "outputs": [
    {
     "data": {
      "text/plain": [
       "<matplotlib.image.AxesImage at 0x20e663127c8>"
      ]
     },
     "execution_count": 50,
     "metadata": {},
     "output_type": "execute_result"
    }
   ],
   "source": [
    "plt.imshow(np.array(X_test[2]).reshape(8,8), cmap=plt.cm.gray_r, interpolation='nearest')"
   ]
  },
  {
   "cell_type": "code",
   "execution_count": 51,
   "metadata": {
    "ExecuteTime": {
     "end_time": "2020-10-16T21:26:14.650645Z",
     "start_time": "2020-10-16T21:26:14.645659Z"
    },
    "hidden": true
   },
   "outputs": [
    {
     "data": {
      "text/plain": [
       "array([[0., 0., 0., 0., 1., 1., 0., 0.],\n",
       "       [0., 0., 1., 1., 0., 1., 0., 0.],\n",
       "       [0., 0., 1., 1., 0., 0., 0., 0.],\n",
       "       [0., 0., 1., 0., 0., 0., 0., 0.],\n",
       "       [0., 0., 1., 0., 0., 0., 0., 0.],\n",
       "       [0., 0., 1., 0., 0., 1., 0., 0.],\n",
       "       [0., 0., 1., 1., 1., 1., 0., 0.],\n",
       "       [0., 0., 0., 1., 1., 0., 0., 0.]])"
      ]
     },
     "execution_count": 51,
     "metadata": {},
     "output_type": "execute_result"
    }
   ],
   "source": [
    "np.array(X_test[2]).reshape(8,8)"
   ]
  },
  {
   "cell_type": "code",
   "execution_count": 52,
   "metadata": {
    "ExecuteTime": {
     "end_time": "2020-10-16T21:26:15.237109Z",
     "start_time": "2020-10-16T21:26:15.181259Z"
    },
    "hidden": true
   },
   "outputs": [
    {
     "data": {
      "text/plain": [
       "<matplotlib.axes._subplots.AxesSubplot at 0x20e6631ae08>"
      ]
     },
     "execution_count": 52,
     "metadata": {},
     "output_type": "execute_result"
    }
   ],
   "source": [
    "import seaborn as sns\n",
    "sns.set_style('white')\n",
    "sns.distplot(readouts, kde=False)"
   ]
  },
  {
   "cell_type": "code",
   "execution_count": 53,
   "metadata": {
    "ExecuteTime": {
     "end_time": "2020-10-16T21:26:17.133005Z",
     "start_time": "2020-10-16T21:26:17.077191Z"
    },
    "hidden": true
   },
   "outputs": [
    {
     "data": {
      "text/plain": [
       "[<matplotlib.lines.Line2D at 0x20e666a5448>]"
      ]
     },
     "execution_count": 53,
     "metadata": {},
     "output_type": "execute_result"
    }
   ],
   "source": [
    "palette = np.array(sns.color_palette(\"hls\", 2))  #Choosing color palette \n",
    "plt.scatter(Y_train, m[-1], lw=0, s=40, c=palette[m[-1].astype(np.int)])\n",
    "plt.plot([i for i in range(number_negative_class, number_positive_class + 1)], [test_threshold for _ in range(number_negative_class, number_positive_class + 1)])"
   ]
  },
  {
   "cell_type": "code",
   "execution_count": 142,
   "metadata": {
    "ExecuteTime": {
     "end_time": "2020-10-16T23:50:48.557391Z",
     "start_time": "2020-10-16T23:50:48.552404Z"
    },
    "hidden": true
   },
   "outputs": [],
   "source": [
    "filename = 'weights_OvO_FullDataSet.txt'\n",
    "mode = 'a+'\n",
    "save_weight(filename = filename, mode = mode, weight = w)"
   ]
  },
  {
   "cell_type": "markdown",
   "metadata": {},
   "source": [
    "# Multi label prediction"
   ]
  },
  {
   "cell_type": "code",
   "execution_count": 10,
   "metadata": {
    "ExecuteTime": {
     "end_time": "2020-11-13T00:55:17.697152Z",
     "start_time": "2020-11-13T00:55:17.690173Z"
    }
   },
   "outputs": [],
   "source": [
    "weights_matrix = retrieve_weights_from_file(filename = 'weights_OvO_FullDataSet.txt', full = True)"
   ]
  },
  {
   "cell_type": "code",
   "execution_count": 11,
   "metadata": {
    "ExecuteTime": {
     "end_time": "2020-11-13T00:55:19.094565Z",
     "start_time": "2020-11-13T00:55:17.979539Z"
    }
   },
   "outputs": [],
   "source": [
    "print_weights_matrix(weights_matrix)"
   ]
  },
  {
   "cell_type": "code",
   "execution_count": 7,
   "metadata": {
    "ExecuteTime": {
     "end_time": "2020-10-17T00:30:12.378577Z",
     "start_time": "2020-10-17T00:30:12.358630Z"
    }
   },
   "outputs": [
    {
     "name": "stdout",
     "output_type": "stream",
     "text": [
      "[[array([0, 0, 0, 1, 1, 0, 0, 0, 0, 0, 1, 0, 0, 1, 0, 0, 0, 0, 1, 0, 0, 1,\n",
      "       0, 0, 0, 0, 1, 0, 0, 0, 0, 0, 0, 0, 1, 0, 0, 0, 0, 0, 0, 0, 1, 0,\n",
      "       0, 1, 0, 0, 0, 0, 1, 0, 1, 0, 0, 0, 0, 0, 0, 1, 0, 0, 0, 0])\n",
      "  array([1, 1, 1, 0, 0, 1, 1, 1, 1, 1, 1, 1, 0, 1, 1, 1, 1, 1, 1, 0, 0, 0,\n",
      "       1, 1, 1, 1, 1, 0, 1, 0, 1, 1, 1, 1, 1, 0, 0, 1, 1, 1, 1, 1, 1, 0,\n",
      "       0, 0, 1, 1, 1, 1, 1, 0, 0, 1, 1, 1, 1, 1, 1, 0, 0, 0, 1, 1])\n",
      "  array([1, 1, 0, 0, 1, 1, 1, 1, 1, 1, 0, 0, 1, 1, 1, 1, 1, 1, 0, 1, 1, 1,\n",
      "       1, 1, 1, 1, 1, 1, 0, 1, 1, 1, 1, 1, 1, 0, 1, 1, 1, 1, 1, 1, 1, 0,\n",
      "       1, 1, 1, 1, 1, 1, 1, 0, 1, 1, 1, 1, 1, 1, 0, 0, 0, 0, 1, 1])\n",
      "  array([1, 1, 1, 0, 0, 1, 1, 1, 1, 1, 0, 1, 0, 1, 1, 1, 1, 1, 1, 1, 0, 1,\n",
      "       1, 1, 1, 1, 1, 1, 0, 1, 1, 1, 1, 1, 1, 1, 0, 0, 1, 1, 1, 1, 1, 1,\n",
      "       1, 0, 1, 1, 1, 1, 1, 1, 1, 0, 1, 1, 1, 1, 0, 0, 0, 0, 1, 1])\n",
      "  array([1, 1, 1, 1, 0, 1, 1, 1, 1, 1, 1, 0, 1, 1, 1, 1, 1, 1, 0, 0, 1, 1,\n",
      "       1, 1, 1, 1, 0, 1, 0, 1, 1, 1, 1, 1, 0, 1, 1, 0, 1, 1, 1, 1, 1, 0,\n",
      "       0, 1, 1, 1, 1, 1, 1, 1, 0, 1, 1, 1, 1, 1, 1, 1, 1, 1, 1, 1])\n",
      "  array([1, 1, 0, 0, 0, 1, 1, 1, 1, 1, 0, 1, 1, 0, 1, 1, 1, 1, 0, 1, 1, 1,\n",
      "       1, 1, 1, 1, 0, 0, 0, 1, 1, 1, 1, 1, 1, 1, 0, 1, 1, 1, 1, 1, 1, 1,\n",
      "       0, 1, 1, 1, 1, 1, 1, 1, 0, 1, 1, 1, 1, 1, 0, 0, 0, 1, 1, 1])\n",
      "  array([1, 1, 1, 0, 1, 1, 1, 1, 1, 1, 0, 0, 1, 1, 1, 1, 1, 1, 0, 0, 1, 1,\n",
      "       1, 1, 1, 1, 0, 1, 1, 1, 1, 1, 1, 0, 0, 0, 0, 0, 1, 1, 1, 1, 0, 0,\n",
      "       0, 1, 0, 1, 1, 1, 0, 0, 1, 0, 0, 1, 1, 1, 1, 0, 0, 0, 1, 1])\n",
      "  array([1, 1, 0, 0, 0, 1, 1, 1, 1, 1, 1, 1, 0, 0, 1, 1, 1, 1, 1, 1, 1, 0,\n",
      "       0, 1, 1, 1, 1, 1, 1, 0, 1, 1, 1, 1, 1, 0, 0, 0, 1, 1, 1, 1, 1, 1,\n",
      "       0, 1, 1, 1, 1, 1, 1, 0, 1, 1, 1, 1, 1, 1, 1, 0, 1, 1, 1, 1])\n",
      "  array([1, 1, 1, 0, 1, 0, 1, 1, 1, 1, 0, 0, 0, 0, 1, 1, 1, 1, 0, 1, 1, 0,\n",
      "       1, 1, 1, 1, 0, 0, 0, 1, 1, 1, 1, 1, 1, 0, 0, 1, 1, 1, 1, 1, 1, 0,\n",
      "       0, 1, 1, 1, 1, 1, 0, 0, 0, 1, 1, 1, 1, 1, 1, 0, 0, 1, 1, 1])\n",
      "  array([1, 1, 1, 0, 0, 1, 1, 1, 1, 1, 0, 0, 0, 1, 1, 1, 1, 1, 0, 0, 0, 1,\n",
      "       1, 1, 1, 1, 1, 0, 0, 0, 1, 1, 1, 1, 1, 1, 1, 0, 1, 1, 1, 1, 1, 1,\n",
      "       0, 1, 1, 1, 1, 1, 0, 1, 1, 1, 1, 1, 1, 1, 1, 0, 0, 0, 1, 1])]\n",
      " [array([1, 1, 1, 0, 0, 1, 1, 1, 1, 1, 0, 0, 0, 0, 1, 1, 1, 1, 0, 1, 1, 0,\n",
      "       0, 1, 1, 1, 0, 1, 1, 1, 1, 1, 1, 1, 0, 1, 1, 0, 1, 1, 1, 1, 0, 1,\n",
      "       1, 0, 1, 1, 1, 1, 0, 0, 1, 0, 0, 1, 1, 1, 1, 1, 0, 0, 1, 1])\n",
      "  array([0, 0, 0, 0, 1, 1, 0, 0, 0, 0, 0, 0, 1, 1, 0, 0, 0, 0, 0, 0, 1, 1,\n",
      "       0, 0, 0, 0, 0, 1, 1, 1, 0, 0, 0, 0, 1, 1, 1, 0, 0, 0, 0, 0, 0, 0,\n",
      "       1, 0, 0, 0, 0, 0, 0, 0, 1, 0, 0, 0, 0, 0, 0, 0, 1, 1, 0, 0])\n",
      "  array([1, 1, 0, 0, 1, 1, 1, 1, 1, 1, 0, 0, 0, 1, 1, 1, 1, 1, 0, 1, 0, 0,\n",
      "       1, 1, 1, 1, 1, 1, 0, 0, 1, 1, 1, 1, 1, 1, 1, 1, 1, 1, 1, 1, 1, 1,\n",
      "       0, 1, 1, 1, 1, 1, 0, 0, 0, 0, 1, 1, 1, 1, 0, 0, 0, 0, 0, 1])\n",
      "  array([1, 1, 0, 0, 0, 0, 1, 1, 1, 1, 0, 1, 1, 0, 1, 1, 1, 1, 1, 1, 0, 0,\n",
      "       1, 1, 1, 1, 1, 0, 0, 0, 1, 1, 1, 1, 1, 1, 0, 0, 1, 1, 1, 1, 1, 1,\n",
      "       1, 0, 0, 1, 1, 1, 0, 1, 1, 0, 0, 1, 1, 1, 1, 0, 0, 0, 1, 1])\n",
      "  array([1, 1, 1, 1, 1, 1, 1, 1, 1, 1, 1, 0, 0, 0, 1, 1, 1, 1, 0, 1, 1, 1,\n",
      "       1, 1, 1, 1, 0, 1, 1, 0, 1, 1, 1, 0, 0, 1, 0, 0, 0, 1, 1, 1, 0, 0,\n",
      "       0, 1, 1, 1, 1, 1, 1, 1, 0, 1, 1, 1, 1, 1, 1, 1, 1, 1, 1, 1])\n",
      "  array([1, 1, 0, 0, 0, 0, 1, 1, 1, 1, 0, 0, 1, 1, 1, 1, 1, 1, 0, 1, 1, 0,\n",
      "       1, 1, 1, 1, 0, 0, 0, 1, 1, 1, 1, 1, 1, 1, 1, 1, 1, 1, 1, 1, 1, 1,\n",
      "       0, 1, 1, 1, 1, 1, 1, 0, 0, 1, 1, 1, 1, 1, 0, 0, 0, 1, 1, 1])\n",
      "  array([1, 1, 1, 0, 0, 1, 1, 1, 1, 1, 0, 0, 1, 1, 1, 1, 1, 1, 0, 1, 1, 1,\n",
      "       1, 1, 1, 1, 0, 1, 1, 1, 1, 1, 1, 1, 0, 0, 0, 0, 1, 1, 1, 1, 0, 0,\n",
      "       0, 0, 1, 1, 1, 1, 0, 0, 1, 0, 1, 1, 1, 1, 1, 1, 0, 0, 1, 1])\n",
      "  array([1, 1, 1, 0, 0, 0, 1, 1, 1, 1, 1, 0, 0, 0, 0, 1, 1, 1, 1, 1, 1, 0,\n",
      "       0, 1, 1, 1, 1, 1, 1, 0, 1, 1, 1, 1, 1, 1, 0, 0, 1, 1, 1, 1, 1, 0,\n",
      "       0, 1, 1, 1, 1, 1, 1, 0, 1, 1, 1, 1, 1, 1, 1, 1, 1, 1, 1, 1])\n",
      "  array([1, 1, 1, 0, 0, 1, 1, 1, 1, 1, 0, 1, 1, 0, 1, 1, 1, 1, 0, 1, 1, 0,\n",
      "       1, 1, 1, 1, 0, 0, 0, 1, 1, 1, 1, 1, 1, 0, 1, 1, 1, 1, 1, 1, 0, 0,\n",
      "       1, 1, 1, 1, 1, 1, 0, 1, 0, 0, 1, 1, 1, 1, 1, 0, 1, 1, 1, 1])\n",
      "  array([1, 1, 1, 0, 0, 1, 1, 1, 1, 1, 0, 0, 1, 1, 1, 1, 1, 1, 0, 0, 1, 1,\n",
      "       1, 1, 1, 1, 1, 0, 0, 0, 1, 1, 1, 1, 1, 1, 1, 0, 1, 1, 1, 1, 0, 1,\n",
      "       1, 1, 1, 1, 1, 1, 0, 1, 1, 0, 0, 1, 1, 1, 1, 0, 0, 0, 1, 1])]\n",
      " [array([1, 1, 1, 0, 0, 1, 1, 1, 1, 1, 0, 0, 0, 0, 1, 1, 1, 1, 0, 1, 1, 0,\n",
      "       1, 1, 1, 1, 0, 1, 1, 1, 1, 1, 1, 1, 0, 1, 1, 0, 1, 1, 1, 1, 1, 1,\n",
      "       1, 0, 1, 1, 1, 1, 1, 0, 0, 0, 0, 1, 1, 1, 1, 1, 0, 0, 1, 1])\n",
      "  array([1, 1, 1, 0, 0, 1, 1, 1, 1, 1, 1, 0, 0, 1, 1, 1, 1, 1, 1, 0, 0, 0,\n",
      "       1, 1, 1, 1, 1, 0, 0, 0, 1, 1, 1, 1, 0, 0, 0, 1, 1, 1, 1, 1, 1, 0,\n",
      "       0, 0, 1, 1, 1, 1, 1, 0, 0, 1, 1, 1, 1, 1, 1, 1, 0, 0, 1, 1])\n",
      "  array([0, 0, 1, 1, 1, 0, 0, 0, 0, 0, 1, 1, 1, 0, 0, 0, 0, 0, 1, 0, 1, 1,\n",
      "       0, 0, 0, 0, 1, 0, 0, 1, 0, 0, 0, 0, 0, 0, 1, 1, 0, 0, 0, 0, 0, 0,\n",
      "       1, 0, 0, 0, 0, 0, 0, 1, 1, 0, 0, 0, 0, 0, 1, 1, 1, 1, 1, 0])\n",
      "  array([1, 1, 0, 0, 0, 1, 1, 1, 1, 1, 0, 1, 0, 0, 1, 1, 1, 1, 1, 0, 0, 1,\n",
      "       1, 1, 1, 1, 1, 0, 0, 1, 1, 1, 1, 1, 1, 1, 1, 0, 1, 1, 1, 1, 1, 1,\n",
      "       1, 0, 1, 1, 1, 1, 1, 1, 1, 0, 1, 1, 1, 1, 0, 0, 0, 1, 1, 1])\n",
      "  array([1, 1, 1, 0, 0, 1, 1, 1, 1, 1, 1, 0, 1, 1, 1, 1, 1, 1, 0, 1, 1, 1,\n",
      "       1, 1, 1, 1, 0, 1, 1, 1, 0, 1, 1, 0, 0, 1, 1, 0, 1, 1, 1, 0, 0, 0,\n",
      "       0, 0, 1, 1, 1, 1, 0, 0, 0, 1, 1, 1, 1, 1, 1, 1, 0, 1, 1, 1])\n",
      "  array([1, 1, 1, 0, 0, 0, 1, 1, 1, 1, 0, 0, 1, 1, 1, 1, 1, 1, 0, 1, 1, 1,\n",
      "       1, 1, 1, 1, 0, 0, 0, 1, 1, 1, 1, 1, 0, 0, 1, 1, 1, 1, 1, 1, 1, 1,\n",
      "       0, 0, 1, 1, 1, 1, 1, 0, 0, 0, 1, 1, 1, 1, 1, 0, 0, 1, 1, 1])\n",
      "  array([1, 1, 1, 0, 1, 1, 1, 1, 1, 1, 0, 0, 1, 1, 1, 1, 1, 1, 0, 0, 1, 1,\n",
      "       1, 1, 1, 1, 0, 0, 1, 1, 1, 1, 1, 1, 0, 0, 0, 0, 1, 1, 1, 1, 0, 0,\n",
      "       1, 0, 1, 1, 1, 0, 0, 0, 0, 1, 1, 1, 1, 1, 1, 1, 0, 1, 1, 1])\n",
      "  array([1, 1, 1, 0, 0, 1, 1, 1, 1, 1, 1, 1, 0, 0, 0, 1, 1, 1, 1, 1, 1, 0,\n",
      "       0, 1, 1, 1, 1, 1, 0, 0, 1, 1, 1, 1, 1, 0, 0, 0, 1, 1, 1, 1, 1, 1,\n",
      "       0, 0, 1, 1, 1, 1, 1, 0, 1, 1, 1, 1, 1, 1, 1, 0, 1, 1, 1, 1])\n",
      "  array([1, 1, 1, 0, 0, 1, 1, 1, 1, 1, 0, 1, 1, 0, 1, 1, 1, 1, 0, 1, 1, 0,\n",
      "       1, 1, 1, 1, 0, 0, 0, 1, 1, 1, 1, 1, 0, 0, 1, 1, 1, 1, 1, 1, 0, 0,\n",
      "       1, 1, 1, 1, 1, 1, 0, 1, 0, 1, 1, 1, 1, 1, 1, 0, 1, 1, 1, 1])\n",
      "  array([1, 1, 1, 0, 0, 1, 1, 1, 1, 1, 0, 1, 1, 0, 1, 1, 1, 1, 0, 1, 1, 1,\n",
      "       1, 1, 1, 1, 0, 1, 0, 0, 1, 1, 1, 1, 1, 1, 1, 0, 1, 1, 1, 1, 1, 1,\n",
      "       1, 1, 0, 1, 1, 1, 1, 1, 1, 0, 0, 1, 1, 1, 1, 0, 0, 0, 1, 1])]\n",
      " [array([1, 1, 1, 0, 0, 0, 1, 1, 1, 1, 0, 0, 0, 1, 1, 1, 1, 1, 0, 1, 1, 0,\n",
      "       1, 1, 1, 1, 0, 1, 1, 0, 1, 1, 1, 1, 0, 1, 1, 0, 1, 1, 1, 1, 0, 1,\n",
      "       1, 0, 1, 1, 1, 1, 1, 0, 0, 1, 1, 1, 1, 1, 1, 1, 0, 0, 1, 1])\n",
      "  array([1, 1, 1, 1, 0, 1, 1, 1, 1, 1, 0, 0, 0, 0, 1, 1, 1, 1, 1, 0, 0, 0,\n",
      "       1, 1, 1, 1, 0, 0, 0, 1, 1, 1, 1, 1, 0, 0, 0, 1, 1, 1, 1, 1, 1, 0,\n",
      "       0, 1, 1, 1, 1, 1, 0, 0, 0, 0, 1, 1, 1, 1, 1, 1, 1, 1, 1, 1])\n",
      "  array([1, 1, 0, 0, 1, 1, 1, 1, 1, 1, 0, 0, 0, 1, 1, 1, 1, 1, 0, 1, 0, 1,\n",
      "       1, 1, 1, 1, 1, 1, 0, 1, 1, 1, 1, 1, 1, 0, 1, 1, 1, 1, 1, 1, 0, 1,\n",
      "       1, 1, 1, 1, 1, 1, 0, 0, 0, 0, 1, 1, 1, 1, 1, 0, 0, 1, 1, 1])\n",
      "  array([0, 0, 0, 1, 1, 0, 0, 0, 0, 0, 1, 1, 1, 1, 0, 0, 0, 0, 0, 0, 0, 1,\n",
      "       0, 0, 0, 0, 0, 0, 1, 0, 0, 0, 0, 0, 1, 1, 1, 1, 0, 0, 0, 0, 0, 0,\n",
      "       0, 1, 0, 0, 0, 0, 0, 0, 0, 1, 1, 0, 0, 0, 1, 1, 1, 1, 0, 0])\n",
      "  array([1, 1, 1, 1, 0, 1, 1, 1, 1, 1, 1, 0, 1, 1, 1, 1, 1, 1, 0, 0, 1, 1,\n",
      "       1, 1, 1, 1, 0, 1, 1, 0, 1, 1, 1, 1, 0, 1, 1, 0, 1, 1, 1, 1, 1, 0,\n",
      "       0, 1, 1, 1, 1, 1, 1, 1, 0, 1, 1, 1, 1, 1, 1, 0, 0, 1, 1, 1])\n",
      "  array([1, 1, 1, 0, 0, 0, 1, 1, 1, 1, 0, 0, 1, 1, 1, 1, 1, 1, 0, 1, 1, 1,\n",
      "       1, 1, 1, 1, 0, 0, 1, 1, 1, 1, 1, 1, 1, 0, 0, 1, 1, 1, 1, 1, 1, 1,\n",
      "       0, 1, 1, 1, 1, 1, 1, 1, 0, 1, 1, 1, 1, 1, 0, 0, 0, 1, 1, 1])\n",
      "  array([1, 1, 1, 0, 0, 1, 1, 1, 1, 1, 0, 0, 1, 1, 1, 1, 1, 1, 0, 0, 1, 1,\n",
      "       1, 1, 1, 1, 0, 1, 1, 1, 1, 1, 1, 0, 0, 0, 0, 0, 1, 1, 1, 1, 0, 0,\n",
      "       0, 0, 0, 1, 1, 1, 0, 0, 1, 0, 0, 1, 1, 1, 1, 0, 0, 0, 1, 1])\n",
      "  array([1, 1, 1, 0, 0, 1, 1, 1, 1, 1, 1, 1, 0, 1, 1, 1, 1, 1, 1, 1, 1, 0,\n",
      "       1, 1, 1, 1, 1, 1, 1, 1, 1, 1, 1, 1, 0, 0, 0, 0, 1, 1, 1, 1, 1, 0,\n",
      "       0, 1, 1, 1, 1, 1, 0, 0, 1, 1, 1, 1, 1, 1, 1, 0, 1, 1, 1, 1])\n",
      "  array([1, 1, 1, 1, 0, 1, 1, 1, 1, 1, 0, 0, 1, 0, 1, 1, 1, 1, 0, 1, 1, 0,\n",
      "       1, 1, 1, 1, 0, 0, 0, 0, 1, 1, 1, 1, 1, 0, 0, 1, 1, 1, 1, 1, 0, 0,\n",
      "       0, 1, 1, 1, 1, 1, 0, 0, 0, 1, 1, 1, 1, 1, 1, 0, 0, 1, 1, 1])\n",
      "  array([1, 1, 1, 0, 0, 1, 1, 1, 1, 1, 1, 1, 1, 0, 1, 1, 1, 1, 0, 1, 0, 0,\n",
      "       1, 1, 1, 1, 0, 0, 1, 0, 1, 1, 1, 1, 1, 1, 1, 0, 1, 1, 1, 1, 1, 1,\n",
      "       1, 1, 0, 1, 1, 1, 1, 1, 1, 1, 0, 1, 1, 1, 1, 0, 0, 0, 1, 1])]\n",
      " [array([1, 1, 1, 0, 0, 1, 1, 1, 1, 1, 0, 0, 0, 1, 1, 1, 1, 1, 0, 1, 1, 0,\n",
      "       1, 1, 1, 1, 0, 1, 1, 0, 0, 1, 1, 1, 0, 1, 1, 0, 0, 1, 1, 1, 0, 1,\n",
      "       1, 1, 0, 1, 1, 1, 0, 1, 1, 0, 1, 1, 1, 1, 1, 0, 0, 0, 1, 1])\n",
      "  array([1, 1, 1, 0, 0, 1, 1, 1, 1, 1, 1, 0, 0, 0, 1, 1, 1, 1, 1, 0, 0, 0,\n",
      "       1, 1, 1, 1, 1, 0, 0, 0, 1, 1, 1, 1, 1, 0, 0, 1, 1, 1, 1, 1, 1, 0,\n",
      "       0, 0, 1, 1, 1, 1, 0, 0, 0, 0, 1, 1, 1, 1, 1, 0, 0, 1, 1, 1])\n",
      "  array([1, 1, 0, 0, 1, 1, 1, 1, 1, 1, 0, 0, 0, 1, 1, 1, 1, 1, 0, 1, 0, 1,\n",
      "       1, 1, 1, 1, 1, 0, 0, 1, 1, 1, 1, 1, 1, 0, 1, 1, 1, 1, 1, 1, 1, 0,\n",
      "       1, 1, 1, 1, 1, 1, 1, 0, 0, 0, 1, 1, 1, 1, 1, 0, 0, 0, 1, 1])\n",
      "  array([1, 1, 0, 0, 0, 1, 1, 1, 1, 1, 1, 1, 0, 1, 1, 1, 1, 1, 1, 1, 0, 0,\n",
      "       1, 1, 1, 1, 1, 0, 1, 1, 1, 1, 1, 1, 1, 0, 0, 0, 1, 1, 1, 1, 1, 1,\n",
      "       1, 0, 0, 1, 1, 1, 0, 1, 1, 0, 1, 1, 1, 1, 0, 0, 0, 0, 1, 1])\n",
      "  array([0, 0, 0, 0, 1, 1, 0, 0, 0, 0, 0, 1, 1, 1, 0, 0, 0, 0, 1, 0, 0, 1,\n",
      "       0, 0, 0, 1, 1, 1, 1, 1, 1, 0, 0, 0, 0, 0, 1, 1, 0, 0, 0, 0, 0, 0,\n",
      "       1, 0, 0, 0, 0, 0, 0, 0, 1, 0, 0, 0, 0, 0, 0, 0, 1, 0, 0, 0])\n",
      "  array([1, 1, 0, 0, 0, 0, 0, 1, 1, 1, 0, 0, 0, 1, 1, 1, 1, 1, 0, 1, 1, 1,\n",
      "       1, 1, 1, 1, 0, 1, 0, 1, 1, 1, 1, 1, 1, 1, 0, 1, 1, 1, 1, 1, 1, 1,\n",
      "       0, 1, 1, 1, 1, 1, 1, 1, 0, 1, 1, 1, 1, 1, 0, 0, 0, 1, 1, 1])\n",
      "  array([1, 1, 1, 0, 1, 1, 1, 1, 1, 1, 0, 0, 1, 1, 1, 1, 1, 1, 0, 0, 1, 1,\n",
      "       1, 1, 1, 1, 0, 1, 1, 1, 1, 1, 1, 0, 0, 1, 1, 0, 1, 1, 1, 1, 0, 0,\n",
      "       0, 0, 0, 1, 1, 1, 0, 0, 1, 1, 0, 1, 1, 1, 1, 0, 0, 0, 1, 1])\n",
      "  array([1, 1, 1, 1, 0, 0, 1, 1, 1, 1, 0, 0, 0, 1, 0, 1, 1, 1, 1, 1, 1, 0,\n",
      "       1, 1, 1, 1, 1, 1, 0, 0, 1, 1, 1, 1, 1, 0, 0, 0, 1, 1, 1, 1, 1, 0,\n",
      "       0, 1, 1, 1, 1, 1, 1, 0, 0, 1, 1, 1, 1, 1, 1, 1, 1, 1, 1, 1])\n",
      "  array([1, 1, 1, 0, 0, 1, 1, 1, 1, 1, 0, 0, 1, 0, 1, 1, 1, 1, 0, 1, 1, 0,\n",
      "       1, 1, 1, 1, 0, 0, 0, 1, 1, 1, 1, 1, 1, 0, 1, 1, 1, 1, 1, 1, 0, 0,\n",
      "       1, 1, 1, 1, 1, 1, 0, 1, 0, 1, 1, 1, 1, 1, 0, 0, 0, 1, 1, 1])\n",
      "  array([1, 1, 1, 0, 0, 1, 1, 1, 1, 1, 0, 1, 1, 0, 1, 1, 1, 1, 0, 1, 1, 0,\n",
      "       1, 1, 1, 1, 0, 1, 1, 0, 1, 1, 1, 1, 1, 1, 1, 0, 1, 1, 1, 1, 1, 1,\n",
      "       1, 1, 0, 1, 1, 1, 0, 1, 1, 0, 0, 1, 1, 1, 1, 1, 0, 0, 1, 1])]\n",
      " [array([1, 1, 1, 1, 0, 1, 1, 1, 1, 1, 0, 0, 1, 0, 1, 1, 1, 1, 0, 1, 1, 0,\n",
      "       1, 1, 1, 1, 0, 1, 1, 0, 0, 1, 1, 1, 0, 1, 1, 0, 1, 1, 1, 1, 0, 1,\n",
      "       1, 1, 0, 1, 1, 1, 0, 1, 0, 0, 0, 1, 1, 1, 1, 0, 0, 1, 1, 1])\n",
      "  array([1, 1, 1, 1, 0, 1, 1, 1, 1, 1, 1, 0, 0, 1, 1, 1, 1, 1, 1, 0, 0, 0,\n",
      "       1, 1, 1, 1, 1, 0, 0, 0, 1, 1, 1, 1, 1, 0, 0, 1, 1, 1, 1, 1, 1, 0,\n",
      "       0, 0, 1, 1, 1, 1, 1, 1, 0, 1, 1, 1, 1, 1, 1, 0, 0, 0, 1, 1])\n",
      "  array([1, 1, 0, 0, 1, 1, 1, 1, 1, 0, 0, 0, 0, 1, 1, 1, 1, 1, 0, 0, 0, 1,\n",
      "       1, 1, 1, 1, 1, 1, 1, 1, 1, 1, 1, 1, 1, 0, 1, 1, 1, 1, 1, 1, 0, 1,\n",
      "       1, 1, 1, 1, 1, 1, 0, 0, 0, 0, 1, 1, 1, 1, 0, 0, 0, 0, 1, 1])\n",
      "  array([1, 1, 0, 0, 0, 1, 1, 1, 1, 1, 1, 1, 0, 1, 1, 1, 1, 1, 1, 1, 0, 1,\n",
      "       1, 1, 1, 1, 1, 1, 1, 1, 1, 1, 1, 1, 1, 1, 0, 0, 1, 1, 1, 1, 1, 1,\n",
      "       1, 0, 1, 1, 1, 1, 0, 1, 1, 0, 1, 1, 1, 1, 1, 0, 0, 0, 1, 1])\n",
      "  array([1, 1, 1, 0, 1, 1, 1, 1, 1, 1, 1, 0, 1, 1, 1, 1, 1, 1, 0, 0, 1, 0,\n",
      "       1, 1, 1, 1, 0, 1, 1, 0, 1, 1, 1, 0, 0, 0, 1, 0, 1, 1, 1, 1, 0, 1,\n",
      "       0, 0, 1, 1, 1, 1, 1, 0, 0, 1, 1, 1, 1, 1, 1, 1, 1, 1, 1, 1])\n",
      "  array([0, 0, 0, 1, 1, 1, 0, 0, 0, 0, 0, 1, 0, 0, 0, 0, 0, 0, 1, 1, 1, 1,\n",
      "       0, 0, 0, 0, 1, 1, 0, 1, 0, 0, 0, 0, 0, 0, 0, 1, 0, 0, 0, 0, 0, 0,\n",
      "       0, 1, 0, 0, 0, 0, 0, 0, 1, 0, 0, 0, 0, 0, 0, 1, 0, 0, 0, 0])\n",
      "  array([1, 1, 1, 0, 1, 1, 1, 1, 1, 1, 1, 0, 1, 1, 1, 1, 1, 1, 1, 0, 1, 1,\n",
      "       1, 1, 1, 1, 0, 1, 1, 1, 1, 1, 1, 1, 0, 0, 0, 0, 1, 1, 1, 1, 0, 0,\n",
      "       1, 0, 0, 1, 1, 1, 1, 0, 1, 0, 0, 1, 1, 1, 1, 1, 0, 0, 1, 1])\n",
      "  array([1, 1, 1, 0, 0, 1, 1, 1, 1, 1, 1, 0, 0, 0, 1, 1, 1, 1, 1, 1, 1, 0,\n",
      "       0, 1, 1, 1, 1, 1, 1, 0, 1, 1, 1, 1, 1, 1, 0, 0, 1, 1, 1, 1, 1, 1,\n",
      "       0, 1, 1, 1, 1, 1, 1, 0, 1, 1, 1, 1, 1, 1, 1, 0, 1, 1, 1, 1])\n",
      "  array([1, 1, 1, 0, 0, 1, 1, 1, 1, 1, 0, 1, 1, 0, 1, 1, 1, 1, 0, 1, 0, 0,\n",
      "       1, 1, 1, 1, 1, 0, 0, 1, 1, 1, 1, 1, 1, 0, 1, 1, 1, 1, 1, 1, 0, 0,\n",
      "       1, 1, 1, 1, 1, 1, 0, 1, 0, 1, 1, 1, 1, 1, 1, 0, 0, 1, 1, 1])\n",
      "  array([1, 1, 1, 0, 0, 1, 1, 1, 1, 1, 0, 0, 1, 1, 1, 1, 1, 1, 0, 1, 0, 0,\n",
      "       1, 1, 1, 1, 1, 1, 1, 0, 1, 1, 1, 1, 1, 1, 1, 0, 1, 1, 1, 1, 1, 1,\n",
      "       1, 1, 0, 1, 1, 1, 1, 1, 1, 1, 0, 1, 1, 1, 1, 0, 0, 0, 1, 1])]\n",
      " [array([1, 1, 1, 0, 0, 1, 1, 1, 1, 1, 0, 0, 1, 0, 1, 1, 1, 1, 0, 1, 1, 0,\n",
      "       1, 1, 1, 1, 0, 1, 1, 0, 0, 1, 1, 1, 0, 1, 1, 1, 0, 1, 1, 1, 0, 1,\n",
      "       1, 1, 1, 1, 1, 1, 0, 1, 0, 0, 0, 1, 1, 1, 1, 0, 0, 0, 1, 1])\n",
      "  array([1, 1, 1, 1, 0, 1, 1, 1, 1, 1, 1, 1, 0, 1, 1, 1, 1, 1, 1, 0, 0, 1,\n",
      "       1, 1, 1, 1, 1, 0, 0, 1, 1, 1, 1, 1, 1, 0, 0, 1, 1, 1, 1, 1, 1, 1,\n",
      "       0, 1, 1, 1, 1, 1, 0, 0, 0, 0, 1, 1, 1, 1, 1, 1, 0, 0, 1, 1])\n",
      "  array([1, 1, 0, 0, 1, 1, 1, 1, 1, 1, 0, 0, 0, 1, 1, 1, 1, 1, 0, 1, 0, 1,\n",
      "       1, 1, 1, 1, 1, 1, 1, 0, 1, 1, 1, 1, 1, 0, 1, 0, 1, 1, 1, 1, 1, 1,\n",
      "       0, 1, 1, 1, 1, 1, 0, 0, 0, 0, 1, 1, 1, 1, 0, 0, 0, 0, 0, 1])\n",
      "  array([1, 1, 0, 0, 0, 1, 1, 1, 1, 1, 0, 0, 0, 0, 1, 1, 1, 1, 1, 1, 0, 1,\n",
      "       1, 1, 1, 1, 1, 1, 0, 1, 1, 1, 1, 1, 1, 1, 1, 0, 1, 1, 1, 1, 1, 1,\n",
      "       1, 0, 0, 1, 1, 1, 0, 1, 0, 0, 1, 1, 1, 1, 0, 0, 0, 1, 1, 1])\n",
      "  array([1, 1, 1, 1, 0, 1, 1, 1, 1, 1, 1, 0, 1, 1, 1, 1, 1, 1, 0, 0, 1, 1,\n",
      "       1, 1, 1, 1, 0, 1, 1, 0, 0, 1, 1, 1, 0, 1, 1, 0, 1, 1, 1, 1, 1, 1,\n",
      "       0, 0, 1, 1, 1, 1, 1, 1, 0, 1, 1, 1, 1, 1, 1, 1, 0, 1, 1, 1])\n",
      "  array([1, 1, 0, 0, 0, 0, 1, 1, 1, 1, 0, 0, 0, 1, 1, 1, 1, 1, 0, 1, 1, 1,\n",
      "       1, 1, 1, 1, 0, 0, 0, 1, 1, 1, 1, 1, 1, 1, 0, 1, 1, 1, 1, 1, 1, 0,\n",
      "       1, 1, 1, 1, 1, 1, 1, 1, 0, 1, 1, 1, 1, 1, 0, 0, 0, 1, 1, 1])\n",
      "  array([0, 0, 0, 1, 0, 0, 0, 0, 0, 0, 1, 0, 0, 0, 0, 0, 0, 0, 1, 0, 0, 0,\n",
      "       0, 0, 0, 0, 1, 1, 0, 0, 0, 0, 0, 0, 1, 0, 0, 1, 0, 0, 0, 0, 1, 0,\n",
      "       0, 0, 1, 0, 0, 0, 1, 0, 0, 1, 1, 0, 0, 0, 0, 1, 1, 0, 0, 0])\n",
      "  array([1, 1, 1, 0, 0, 0, 1, 1, 1, 1, 1, 0, 0, 1, 0, 1, 1, 1, 1, 1, 1, 0,\n",
      "       1, 1, 1, 1, 1, 1, 0, 0, 1, 1, 1, 1, 1, 1, 0, 0, 1, 1, 1, 1, 1, 1,\n",
      "       0, 1, 1, 1, 1, 1, 1, 0, 1, 1, 1, 1, 1, 1, 1, 0, 1, 1, 1, 1])\n",
      "  array([1, 1, 1, 0, 0, 1, 1, 1, 1, 1, 0, 0, 0, 0, 1, 1, 1, 1, 0, 1, 1, 0,\n",
      "       1, 1, 1, 1, 1, 0, 0, 1, 1, 1, 1, 1, 1, 0, 1, 1, 1, 1, 1, 1, 0, 0,\n",
      "       1, 1, 1, 1, 1, 1, 0, 1, 0, 1, 1, 1, 1, 1, 1, 0, 1, 1, 1, 1])\n",
      "  array([1, 1, 1, 0, 0, 1, 1, 1, 1, 1, 0, 0, 0, 1, 1, 1, 1, 1, 0, 0, 0, 1,\n",
      "       1, 1, 1, 1, 1, 0, 0, 0, 1, 1, 1, 1, 1, 1, 1, 0, 1, 1, 1, 1, 1, 1,\n",
      "       1, 1, 0, 1, 1, 1, 1, 0, 1, 1, 1, 1, 1, 1, 1, 0, 0, 0, 1, 1])]\n",
      " [array([1, 1, 1, 0, 0, 1, 1, 1, 1, 1, 0, 0, 0, 1, 1, 1, 1, 1, 0, 1, 1, 0,\n",
      "       1, 1, 1, 1, 0, 1, 1, 0, 1, 1, 1, 1, 0, 1, 1, 1, 1, 1, 1, 1, 0, 1,\n",
      "       1, 1, 1, 1, 1, 1, 0, 1, 1, 0, 1, 1, 1, 1, 0, 0, 0, 1, 1, 1])\n",
      "  array([1, 1, 1, 1, 0, 1, 1, 1, 1, 1, 1, 0, 0, 1, 1, 1, 1, 1, 1, 0, 0, 0,\n",
      "       1, 1, 1, 1, 1, 0, 0, 1, 1, 1, 1, 1, 1, 0, 0, 1, 1, 1, 1, 1, 1, 0,\n",
      "       0, 0, 1, 1, 1, 1, 1, 1, 0, 1, 1, 1, 1, 1, 1, 1, 0, 0, 1, 1])\n",
      "  array([1, 1, 0, 0, 1, 1, 1, 1, 1, 1, 0, 0, 0, 1, 1, 1, 1, 1, 0, 1, 0, 1,\n",
      "       1, 1, 1, 1, 1, 1, 1, 1, 1, 1, 1, 1, 1, 1, 1, 1, 1, 1, 1, 1, 1, 1,\n",
      "       0, 0, 1, 1, 1, 1, 0, 0, 0, 1, 1, 1, 1, 1, 0, 0, 0, 0, 1, 1])\n",
      "  array([1, 1, 0, 0, 0, 0, 1, 1, 1, 1, 1, 1, 0, 1, 1, 1, 1, 1, 1, 1, 0, 1,\n",
      "       1, 1, 1, 1, 1, 0, 1, 1, 1, 1, 1, 1, 1, 1, 0, 0, 1, 1, 1, 1, 1, 1,\n",
      "       0, 0, 1, 1, 1, 1, 0, 1, 1, 0, 1, 1, 1, 1, 0, 0, 0, 0, 1, 1])\n",
      "  array([1, 1, 1, 0, 0, 1, 1, 1, 1, 1, 1, 0, 0, 1, 0, 1, 1, 1, 0, 0, 1, 1,\n",
      "       0, 1, 1, 1, 0, 1, 1, 0, 1, 1, 1, 0, 0, 0, 1, 0, 1, 1, 1, 0, 0, 0,\n",
      "       0, 1, 1, 1, 1, 1, 1, 1, 0, 1, 1, 1, 1, 1, 1, 1, 1, 1, 1, 1])\n",
      "  array([1, 1, 0, 0, 0, 1, 1, 1, 1, 0, 0, 0, 0, 1, 1, 1, 1, 1, 0, 1, 1, 1,\n",
      "       1, 1, 1, 1, 0, 0, 0, 1, 1, 1, 1, 1, 1, 1, 0, 1, 1, 1, 1, 1, 1, 1,\n",
      "       0, 1, 1, 1, 1, 1, 1, 1, 0, 1, 1, 1, 1, 1, 0, 0, 0, 1, 1, 1])\n",
      "  array([1, 1, 1, 0, 1, 1, 1, 1, 1, 1, 0, 0, 1, 1, 1, 1, 1, 1, 1, 0, 1, 1,\n",
      "       1, 1, 1, 1, 0, 1, 1, 1, 1, 1, 1, 1, 0, 0, 0, 1, 1, 1, 1, 1, 0, 0,\n",
      "       1, 0, 1, 1, 1, 1, 1, 0, 1, 0, 0, 1, 1, 1, 1, 0, 0, 0, 1, 1])\n",
      "  array([0, 0, 0, 1, 1, 1, 0, 0, 0, 0, 1, 0, 1, 1, 0, 0, 0, 0, 0, 0, 0, 1,\n",
      "       0, 0, 0, 0, 0, 0, 1, 1, 0, 0, 0, 0, 1, 1, 1, 1, 1, 0, 0, 0, 1, 1,\n",
      "       1, 0, 0, 0, 0, 0, 0, 1, 0, 0, 0, 0, 0, 0, 0, 1, 0, 0, 0, 0])\n",
      "  array([1, 1, 1, 0, 0, 1, 1, 1, 1, 1, 0, 1, 1, 0, 1, 1, 1, 1, 0, 1, 1, 0,\n",
      "       1, 1, 1, 1, 0, 0, 0, 1, 1, 1, 1, 1, 1, 0, 1, 1, 1, 1, 1, 1, 0, 1,\n",
      "       1, 1, 1, 1, 1, 1, 0, 1, 0, 1, 1, 1, 1, 1, 0, 0, 0, 1, 1, 1])\n",
      "  array([1, 1, 1, 0, 0, 1, 1, 1, 1, 1, 0, 0, 0, 0, 1, 1, 1, 1, 0, 0, 0, 1,\n",
      "       1, 1, 1, 1, 1, 0, 0, 0, 1, 1, 1, 1, 1, 1, 1, 0, 1, 1, 1, 1, 1, 1,\n",
      "       1, 1, 1, 1, 1, 1, 1, 1, 0, 0, 0, 1, 1, 1, 1, 0, 0, 0, 1, 1])]\n",
      " [array([1, 1, 1, 0, 0, 0, 1, 1, 1, 1, 0, 0, 1, 0, 1, 1, 1, 1, 0, 1, 1, 0,\n",
      "       1, 1, 1, 1, 1, 1, 1, 0, 0, 1, 1, 1, 0, 1, 1, 0, 0, 1, 1, 1, 0, 1,\n",
      "       1, 1, 0, 1, 1, 1, 0, 1, 0, 0, 1, 1, 1, 1, 1, 0, 0, 0, 1, 1])\n",
      "  array([1, 1, 1, 0, 0, 0, 1, 1, 1, 1, 1, 1, 0, 0, 1, 1, 1, 1, 0, 0, 0, 0,\n",
      "       1, 1, 1, 1, 0, 0, 0, 0, 1, 1, 1, 0, 0, 1, 0, 1, 1, 1, 1, 1, 1, 0,\n",
      "       0, 1, 1, 1, 1, 1, 1, 1, 0, 0, 1, 1, 1, 1, 1, 1, 0, 0, 1, 1])\n",
      "  array([1, 1, 0, 0, 1, 1, 1, 1, 1, 1, 0, 0, 1, 1, 1, 1, 1, 1, 1, 0, 0, 1,\n",
      "       1, 1, 1, 1, 1, 1, 0, 1, 1, 1, 1, 1, 1, 1, 0, 1, 1, 1, 1, 1, 1, 0,\n",
      "       1, 1, 1, 1, 1, 1, 0, 0, 0, 0, 1, 1, 1, 1, 1, 0, 0, 0, 0, 1])\n",
      "  array([1, 1, 0, 0, 0, 1, 1, 1, 1, 1, 1, 1, 1, 1, 1, 1, 1, 1, 1, 1, 0, 1,\n",
      "       1, 1, 1, 1, 1, 0, 0, 1, 1, 1, 1, 1, 1, 1, 1, 0, 1, 1, 1, 1, 1, 1,\n",
      "       1, 0, 1, 1, 1, 1, 1, 1, 1, 0, 1, 1, 1, 1, 0, 0, 0, 0, 1, 1])\n",
      "  array([1, 1, 1, 0, 1, 1, 1, 1, 1, 1, 1, 0, 0, 1, 1, 1, 1, 1, 0, 1, 1, 1,\n",
      "       1, 1, 1, 1, 0, 1, 1, 1, 1, 1, 1, 0, 0, 1, 0, 0, 1, 1, 1, 0, 0, 0,\n",
      "       0, 0, 1, 1, 1, 1, 0, 0, 0, 1, 1, 1, 1, 1, 1, 0, 0, 1, 1, 1])\n",
      "  array([1, 1, 0, 0, 0, 0, 1, 1, 1, 1, 0, 0, 1, 1, 1, 1, 1, 1, 0, 1, 1, 1,\n",
      "       1, 1, 1, 1, 0, 1, 0, 1, 1, 1, 1, 1, 1, 1, 0, 1, 1, 1, 1, 1, 1, 1,\n",
      "       0, 1, 1, 1, 1, 1, 1, 1, 0, 1, 1, 1, 1, 1, 1, 0, 1, 1, 1, 1])\n",
      "  array([1, 1, 1, 0, 0, 1, 1, 1, 1, 1, 0, 0, 1, 1, 1, 1, 1, 1, 0, 1, 1, 1,\n",
      "       1, 1, 1, 1, 0, 1, 1, 1, 1, 1, 1, 1, 0, 0, 0, 0, 1, 1, 1, 1, 0, 0,\n",
      "       0, 0, 1, 1, 1, 1, 0, 0, 1, 0, 0, 1, 1, 1, 1, 0, 0, 1, 0, 1])\n",
      "  array([1, 1, 0, 0, 0, 0, 1, 1, 1, 1, 1, 0, 0, 0, 0, 1, 1, 1, 1, 1, 1, 0,\n",
      "       0, 1, 1, 1, 1, 1, 1, 0, 1, 1, 1, 1, 1, 1, 0, 0, 1, 1, 1, 1, 1, 1,\n",
      "       0, 1, 1, 1, 1, 1, 1, 0, 1, 1, 1, 1, 1, 1, 1, 1, 1, 1, 1, 1])\n",
      "  array([0, 0, 0, 1, 1, 0, 0, 0, 0, 0, 1, 1, 1, 0, 0, 0, 0, 0, 1, 1, 1, 0,\n",
      "       0, 0, 0, 1, 1, 1, 1, 0, 0, 0, 0, 0, 1, 1, 1, 1, 0, 0, 0, 0, 1, 0,\n",
      "       0, 0, 1, 0, 0, 0, 1, 1, 0, 1, 1, 0, 0, 0, 0, 1, 1, 0, 0, 0])\n",
      "  array([1, 1, 1, 0, 0, 1, 1, 1, 1, 1, 0, 1, 0, 1, 1, 1, 1, 1, 0, 1, 1, 0,\n",
      "       1, 1, 1, 1, 0, 1, 0, 0, 1, 1, 1, 1, 1, 1, 1, 0, 1, 1, 1, 1, 1, 1,\n",
      "       1, 1, 0, 1, 1, 1, 1, 1, 1, 1, 0, 1, 1, 1, 1, 0, 0, 0, 1, 1])]\n",
      " [array([1, 1, 1, 0, 1, 1, 1, 1, 1, 1, 0, 0, 0, 0, 1, 1, 1, 1, 1, 0, 0, 0,\n",
      "       1, 1, 1, 1, 0, 1, 1, 1, 1, 1, 1, 1, 1, 1, 1, 1, 1, 1, 1, 1, 0, 0,\n",
      "       1, 0, 0, 1, 1, 1, 0, 0, 0, 0, 1, 1, 1, 1, 1, 1, 0, 1, 1, 1])\n",
      "  array([1, 1, 1, 0, 0, 0, 1, 1, 1, 1, 1, 0, 0, 0, 1, 1, 1, 1, 1, 0, 0, 0,\n",
      "       1, 1, 1, 1, 1, 0, 0, 1, 1, 1, 1, 1, 1, 1, 0, 1, 1, 1, 1, 1, 1, 0,\n",
      "       0, 0, 1, 1, 1, 1, 0, 0, 0, 1, 1, 1, 1, 1, 1, 0, 0, 0, 1, 1])\n",
      "  array([1, 1, 0, 0, 1, 1, 1, 1, 1, 1, 0, 0, 0, 1, 1, 1, 1, 1, 1, 1, 0, 1,\n",
      "       1, 1, 1, 1, 1, 1, 0, 1, 1, 1, 1, 1, 1, 1, 0, 1, 1, 1, 1, 1, 1, 0,\n",
      "       0, 1, 1, 1, 1, 1, 0, 0, 0, 0, 1, 1, 1, 1, 1, 0, 0, 0, 1, 1])\n",
      "  array([1, 1, 0, 0, 0, 0, 1, 1, 1, 1, 0, 1, 0, 0, 1, 1, 1, 1, 1, 1, 1, 0,\n",
      "       1, 1, 1, 1, 1, 1, 0, 1, 1, 1, 1, 1, 1, 0, 0, 0, 1, 1, 1, 1, 1, 1,\n",
      "       0, 1, 1, 1, 1, 1, 1, 1, 0, 0, 1, 1, 1, 1, 0, 0, 0, 1, 1, 1])\n",
      "  array([1, 1, 1, 0, 1, 1, 1, 1, 1, 1, 1, 0, 0, 1, 1, 1, 1, 1, 0, 1, 1, 1,\n",
      "       1, 1, 1, 1, 0, 1, 1, 1, 0, 1, 1, 0, 0, 1, 0, 0, 1, 1, 1, 0, 0, 0,\n",
      "       0, 0, 1, 1, 1, 1, 1, 0, 0, 1, 1, 1, 1, 1, 1, 0, 1, 1, 1, 1])\n",
      "  array([1, 1, 0, 0, 0, 0, 1, 1, 1, 1, 0, 0, 0, 1, 1, 1, 1, 1, 0, 1, 1, 1,\n",
      "       1, 1, 1, 1, 0, 0, 1, 1, 1, 1, 1, 1, 0, 0, 1, 1, 1, 1, 1, 1, 1, 0,\n",
      "       1, 1, 1, 1, 1, 1, 1, 0, 1, 1, 1, 1, 1, 1, 0, 0, 0, 1, 1, 1])\n",
      "  array([1, 1, 1, 0, 0, 1, 1, 1, 1, 1, 1, 0, 1, 1, 1, 1, 1, 1, 1, 1, 1, 1,\n",
      "       1, 1, 1, 1, 0, 0, 1, 1, 1, 1, 1, 1, 0, 0, 0, 1, 1, 1, 1, 1, 0, 0,\n",
      "       1, 0, 0, 1, 1, 1, 0, 0, 1, 1, 0, 1, 1, 1, 1, 1, 0, 0, 0, 1])\n",
      "  array([1, 1, 0, 0, 0, 0, 1, 1, 1, 1, 0, 1, 0, 0, 0, 1, 1, 1, 1, 1, 1, 0,\n",
      "       0, 1, 1, 1, 1, 1, 0, 0, 1, 1, 1, 1, 1, 0, 0, 0, 1, 1, 1, 1, 1, 1,\n",
      "       0, 1, 1, 1, 1, 1, 1, 0, 1, 1, 1, 1, 1, 1, 1, 0, 1, 1, 1, 1])\n",
      "  array([1, 1, 1, 0, 0, 1, 1, 1, 1, 1, 1, 0, 1, 0, 1, 1, 1, 1, 1, 0, 1, 0,\n",
      "       1, 1, 1, 1, 1, 0, 0, 1, 1, 1, 1, 1, 0, 0, 0, 1, 1, 1, 1, 1, 0, 0,\n",
      "       0, 0, 1, 1, 1, 1, 0, 0, 0, 0, 1, 1, 1, 1, 1, 0, 0, 1, 1, 1])\n",
      "  array([0, 0, 0, 0, 1, 1, 1, 0, 0, 0, 0, 1, 0, 1, 1, 0, 0, 0, 1, 0, 0, 1,\n",
      "       1, 0, 0, 0, 1, 1, 1, 1, 0, 0, 0, 0, 0, 0, 1, 1, 0, 0, 0, 0, 0, 0,\n",
      "       1, 1, 0, 0, 0, 0, 0, 0, 1, 0, 0, 0, 0, 0, 0, 0, 1, 0, 0, 0])]]\n"
     ]
    }
   ],
   "source": [
    "print(weights_matrix)"
   ]
  },
  {
   "cell_type": "code",
   "execution_count": 8,
   "metadata": {
    "ExecuteTime": {
     "end_time": "2020-10-17T00:31:37.091577Z",
     "start_time": "2020-10-17T00:31:37.013753Z"
    }
   },
   "outputs": [
    {
     "name": "stdout",
     "output_type": "stream",
     "text": [
      "Total count for digits: Counter({3: 183, 1: 182, 5: 182, 4: 181, 6: 181, 9: 180, 7: 179, 0: 178, 2: 177, 8: 174})\n"
     ]
    }
   ],
   "source": [
    "digits = datasets.load_digits()\n",
    "\n",
    "# Getting images and labels from digits\n",
    "images = digits.images\n",
    "targets = digits.target\n",
    "\n",
    "print(f'Total count for digits: {Counter(targets)}')\n",
    "# Splitting dataset\n",
    "#X_train, X_test, Y_train, Y_test = sklearn.model_selection.train_test_split(images, targets, test_size = 0.2, random_state = 10, shuffle = True)\n",
    "X_test, Y_test = images, targets"
   ]
  },
  {
   "cell_type": "code",
   "execution_count": 9,
   "metadata": {
    "ExecuteTime": {
     "end_time": "2020-10-17T00:31:50.866389Z",
     "start_time": "2020-10-17T00:31:50.630001Z"
    }
   },
   "outputs": [],
   "source": [
    "images_and_labels = list(zip(X_test, Y_test))\n",
    "for index, (image, label) in enumerate(images_and_labels[:20]):\n",
    "    plt.subplot(2, 10, index + 1)\n",
    "    plt.axis('off')\n",
    "    plt.imshow(image.reshape(8, 8), cmap=plt.cm.gray_r, interpolation='nearest')\n",
    "    plt.title('Test: %i' % label)"
   ]
  },
  {
   "cell_type": "code",
   "execution_count": 10,
   "metadata": {
    "ExecuteTime": {
     "end_time": "2020-10-17T00:31:55.304876Z",
     "start_time": "2020-10-17T00:31:55.222091Z"
    }
   },
   "outputs": [],
   "source": [
    "# Reshaping digits\n",
    "#X_train = X_train.reshape(X_train.shape[0], -1)\n",
    "X_test = X_test.reshape(X_test.shape[0], -1)\n",
    "\n",
    "\n",
    "# Preprocessing digits by mapping in interval\n",
    "for i in range(len(X_test)):\n",
    "    X_test[i] = np.array(list(map(lambda x : 0 if 0 <= x < 9 else 1, X_test[i])))\n",
    "    \n",
    "#for i in range(len(X_train)):\n",
    "#    X_train[i] = np.array(list(map(lambda x : 0 if 0 <= x < 9 else 1, X_train[i])))"
   ]
  },
  {
   "cell_type": "code",
   "execution_count": 11,
   "metadata": {
    "ExecuteTime": {
     "end_time": "2020-10-17T00:32:14.789968Z",
     "start_time": "2020-10-17T00:32:14.437752Z"
    }
   },
   "outputs": [],
   "source": [
    "images_and_labels = list(zip(X_test, Y_test))\n",
    "for index, (image, label) in enumerate(images_and_labels[:20]):\n",
    "    plt.subplot(2, 10, index + 1)\n",
    "    plt.axis('off')\n",
    "    plt.imshow(image.reshape(8, 8), cmap=plt.cm.gray_r, interpolation='nearest')\n",
    "    plt.title('Test: %i' % label)"
   ]
  },
  {
   "cell_type": "code",
   "execution_count": 13,
   "metadata": {
    "ExecuteTime": {
     "end_time": "2020-10-17T01:51:33.409640Z",
     "start_time": "2020-10-17T00:33:10.334156Z"
    },
    "scrolled": true
   },
   "outputs": [
    {
     "data": {
      "application/vnd.jupyter.widget-view+json": {
       "model_id": "ee75b40da50b47d5a7cc45e3d91b963e",
       "version_major": 2,
       "version_minor": 0
      },
      "text/plain": [
       "HBox(children=(FloatProgress(value=0.0, description='Predicting', max=1797.0, style=ProgressStyle(description_…"
      ]
     },
     "metadata": {},
     "output_type": "display_data"
    },
    {
     "name": "stdout",
     "output_type": "stream",
     "text": [
      "\n"
     ]
    },
    {
     "data": {
      "application/vnd.jupyter.widget-view+json": {
       "model_id": "d34a3228bac74857bd00f5f795e3ec1b",
       "version_major": 2,
       "version_minor": 0
      },
      "text/plain": [
       "HBox(children=(FloatProgress(value=0.0, description='Predicting', max=1797.0, style=ProgressStyle(description_…"
      ]
     },
     "metadata": {},
     "output_type": "display_data"
    },
    {
     "name": "stdout",
     "output_type": "stream",
     "text": [
      "\n"
     ]
    },
    {
     "data": {
      "application/vnd.jupyter.widget-view+json": {
       "model_id": "55b171c747c5460ea672d8fd83110bd2",
       "version_major": 2,
       "version_minor": 0
      },
      "text/plain": [
       "HBox(children=(FloatProgress(value=0.0, description='Predicting', max=1797.0, style=ProgressStyle(description_…"
      ]
     },
     "metadata": {},
     "output_type": "display_data"
    },
    {
     "name": "stdout",
     "output_type": "stream",
     "text": [
      "\n"
     ]
    },
    {
     "data": {
      "application/vnd.jupyter.widget-view+json": {
       "model_id": "55ba76704418471dba7daaf3a634d102",
       "version_major": 2,
       "version_minor": 0
      },
      "text/plain": [
       "HBox(children=(FloatProgress(value=0.0, description='Predicting', max=1797.0, style=ProgressStyle(description_…"
      ]
     },
     "metadata": {},
     "output_type": "display_data"
    },
    {
     "name": "stdout",
     "output_type": "stream",
     "text": [
      "\n"
     ]
    },
    {
     "data": {
      "application/vnd.jupyter.widget-view+json": {
       "model_id": "5ed581791b5a4fb0afc3197c4b491cf0",
       "version_major": 2,
       "version_minor": 0
      },
      "text/plain": [
       "HBox(children=(FloatProgress(value=0.0, description='Predicting', max=1797.0, style=ProgressStyle(description_…"
      ]
     },
     "metadata": {},
     "output_type": "display_data"
    },
    {
     "name": "stdout",
     "output_type": "stream",
     "text": [
      "\n"
     ]
    },
    {
     "data": {
      "application/vnd.jupyter.widget-view+json": {
       "model_id": "6aa8c50cf9674c6e8a1a95a5723d4656",
       "version_major": 2,
       "version_minor": 0
      },
      "text/plain": [
       "HBox(children=(FloatProgress(value=0.0, description='Predicting', max=1797.0, style=ProgressStyle(description_…"
      ]
     },
     "metadata": {},
     "output_type": "display_data"
    },
    {
     "name": "stdout",
     "output_type": "stream",
     "text": [
      "\n"
     ]
    },
    {
     "data": {
      "application/vnd.jupyter.widget-view+json": {
       "model_id": "7338fd0f546a426d9a9f30ceca495f32",
       "version_major": 2,
       "version_minor": 0
      },
      "text/plain": [
       "HBox(children=(FloatProgress(value=0.0, description='Predicting', max=1797.0, style=ProgressStyle(description_…"
      ]
     },
     "metadata": {},
     "output_type": "display_data"
    },
    {
     "name": "stdout",
     "output_type": "stream",
     "text": [
      "\n"
     ]
    },
    {
     "data": {
      "application/vnd.jupyter.widget-view+json": {
       "model_id": "36feafe0d3de40b58bf973de917f2b99",
       "version_major": 2,
       "version_minor": 0
      },
      "text/plain": [
       "HBox(children=(FloatProgress(value=0.0, description='Predicting', max=1797.0, style=ProgressStyle(description_…"
      ]
     },
     "metadata": {},
     "output_type": "display_data"
    },
    {
     "name": "stdout",
     "output_type": "stream",
     "text": [
      "\n"
     ]
    },
    {
     "data": {
      "application/vnd.jupyter.widget-view+json": {
       "model_id": "e5f0dd8ef56e43148b721e8393de105f",
       "version_major": 2,
       "version_minor": 0
      },
      "text/plain": [
       "HBox(children=(FloatProgress(value=0.0, description='Predicting', max=1797.0, style=ProgressStyle(description_…"
      ]
     },
     "metadata": {},
     "output_type": "display_data"
    },
    {
     "name": "stdout",
     "output_type": "stream",
     "text": [
      "\n"
     ]
    },
    {
     "data": {
      "application/vnd.jupyter.widget-view+json": {
       "model_id": "d0d6633818ad4add85fedd5d72c5e88e",
       "version_major": 2,
       "version_minor": 0
      },
      "text/plain": [
       "HBox(children=(FloatProgress(value=0.0, description='Predicting', max=1797.0, style=ProgressStyle(description_…"
      ]
     },
     "metadata": {},
     "output_type": "display_data"
    },
    {
     "name": "stdout",
     "output_type": "stream",
     "text": [
      "\n"
     ]
    },
    {
     "data": {
      "application/vnd.jupyter.widget-view+json": {
       "model_id": "284e9a641d594fd592e08917a5831c1c",
       "version_major": 2,
       "version_minor": 0
      },
      "text/plain": [
       "HBox(children=(FloatProgress(value=0.0, description='Predicting', max=1797.0, style=ProgressStyle(description_…"
      ]
     },
     "metadata": {},
     "output_type": "display_data"
    },
    {
     "name": "stdout",
     "output_type": "stream",
     "text": [
      "\n"
     ]
    },
    {
     "data": {
      "application/vnd.jupyter.widget-view+json": {
       "model_id": "e045fe059dc748558df6128316b62d21",
       "version_major": 2,
       "version_minor": 0
      },
      "text/plain": [
       "HBox(children=(FloatProgress(value=0.0, description='Predicting', max=1797.0, style=ProgressStyle(description_…"
      ]
     },
     "metadata": {},
     "output_type": "display_data"
    },
    {
     "name": "stdout",
     "output_type": "stream",
     "text": [
      "\n"
     ]
    },
    {
     "data": {
      "application/vnd.jupyter.widget-view+json": {
       "model_id": "4c2b64a885994369be19ac8e4579ef61",
       "version_major": 2,
       "version_minor": 0
      },
      "text/plain": [
       "HBox(children=(FloatProgress(value=0.0, description='Predicting', max=1797.0, style=ProgressStyle(description_…"
      ]
     },
     "metadata": {},
     "output_type": "display_data"
    },
    {
     "name": "stdout",
     "output_type": "stream",
     "text": [
      "\n"
     ]
    },
    {
     "data": {
      "application/vnd.jupyter.widget-view+json": {
       "model_id": "73cd97da5a9248fc89f23868277ccbf2",
       "version_major": 2,
       "version_minor": 0
      },
      "text/plain": [
       "HBox(children=(FloatProgress(value=0.0, description='Predicting', max=1797.0, style=ProgressStyle(description_…"
      ]
     },
     "metadata": {},
     "output_type": "display_data"
    },
    {
     "name": "stdout",
     "output_type": "stream",
     "text": [
      "\n"
     ]
    },
    {
     "data": {
      "application/vnd.jupyter.widget-view+json": {
       "model_id": "25b788c733eb47b4a54d73f5a17d1f54",
       "version_major": 2,
       "version_minor": 0
      },
      "text/plain": [
       "HBox(children=(FloatProgress(value=0.0, description='Predicting', max=1797.0, style=ProgressStyle(description_…"
      ]
     },
     "metadata": {},
     "output_type": "display_data"
    },
    {
     "name": "stdout",
     "output_type": "stream",
     "text": [
      "\n"
     ]
    },
    {
     "data": {
      "application/vnd.jupyter.widget-view+json": {
       "model_id": "f3c5a545d71348c4809d8288bbeb4578",
       "version_major": 2,
       "version_minor": 0
      },
      "text/plain": [
       "HBox(children=(FloatProgress(value=0.0, description='Predicting', max=1797.0, style=ProgressStyle(description_…"
      ]
     },
     "metadata": {},
     "output_type": "display_data"
    },
    {
     "name": "stdout",
     "output_type": "stream",
     "text": [
      "\n"
     ]
    },
    {
     "data": {
      "application/vnd.jupyter.widget-view+json": {
       "model_id": "94df8cd0c99243d7a6e425aaca02390a",
       "version_major": 2,
       "version_minor": 0
      },
      "text/plain": [
       "HBox(children=(FloatProgress(value=0.0, description='Predicting', max=1797.0, style=ProgressStyle(description_…"
      ]
     },
     "metadata": {},
     "output_type": "display_data"
    },
    {
     "name": "stdout",
     "output_type": "stream",
     "text": [
      "\n"
     ]
    },
    {
     "data": {
      "application/vnd.jupyter.widget-view+json": {
       "model_id": "dd20c518aeb4498bab4d44b3957d156e",
       "version_major": 2,
       "version_minor": 0
      },
      "text/plain": [
       "HBox(children=(FloatProgress(value=0.0, description='Predicting', max=1797.0, style=ProgressStyle(description_…"
      ]
     },
     "metadata": {},
     "output_type": "display_data"
    },
    {
     "name": "stdout",
     "output_type": "stream",
     "text": [
      "\n"
     ]
    },
    {
     "data": {
      "application/vnd.jupyter.widget-view+json": {
       "model_id": "6ac88722edec404e99023426470e3d85",
       "version_major": 2,
       "version_minor": 0
      },
      "text/plain": [
       "HBox(children=(FloatProgress(value=0.0, description='Predicting', max=1797.0, style=ProgressStyle(description_…"
      ]
     },
     "metadata": {},
     "output_type": "display_data"
    },
    {
     "name": "stdout",
     "output_type": "stream",
     "text": [
      "\n"
     ]
    },
    {
     "data": {
      "application/vnd.jupyter.widget-view+json": {
       "model_id": "2659aec678c44740bbd1b72aff222a97",
       "version_major": 2,
       "version_minor": 0
      },
      "text/plain": [
       "HBox(children=(FloatProgress(value=0.0, description='Predicting', max=1797.0, style=ProgressStyle(description_…"
      ]
     },
     "metadata": {},
     "output_type": "display_data"
    },
    {
     "name": "stdout",
     "output_type": "stream",
     "text": [
      "\n"
     ]
    },
    {
     "data": {
      "application/vnd.jupyter.widget-view+json": {
       "model_id": "662d1f77c7e9477fb3e2127b06fbff17",
       "version_major": 2,
       "version_minor": 0
      },
      "text/plain": [
       "HBox(children=(FloatProgress(value=0.0, description='Predicting', max=1797.0, style=ProgressStyle(description_…"
      ]
     },
     "metadata": {},
     "output_type": "display_data"
    },
    {
     "name": "stdout",
     "output_type": "stream",
     "text": [
      "\n"
     ]
    },
    {
     "data": {
      "application/vnd.jupyter.widget-view+json": {
       "model_id": "6db3dbb56fe24e549e322b92843d35ef",
       "version_major": 2,
       "version_minor": 0
      },
      "text/plain": [
       "HBox(children=(FloatProgress(value=0.0, description='Predicting', max=1797.0, style=ProgressStyle(description_…"
      ]
     },
     "metadata": {},
     "output_type": "display_data"
    },
    {
     "name": "stdout",
     "output_type": "stream",
     "text": [
      "\n"
     ]
    },
    {
     "data": {
      "application/vnd.jupyter.widget-view+json": {
       "model_id": "eb2c6c8bd9a44f39b50230b0f1996dbc",
       "version_major": 2,
       "version_minor": 0
      },
      "text/plain": [
       "HBox(children=(FloatProgress(value=0.0, description='Predicting', max=1797.0, style=ProgressStyle(description_…"
      ]
     },
     "metadata": {},
     "output_type": "display_data"
    },
    {
     "name": "stdout",
     "output_type": "stream",
     "text": [
      "\n"
     ]
    },
    {
     "data": {
      "application/vnd.jupyter.widget-view+json": {
       "model_id": "137a333f79c54bc8a018e6babb9e670b",
       "version_major": 2,
       "version_minor": 0
      },
      "text/plain": [
       "HBox(children=(FloatProgress(value=0.0, description='Predicting', max=1797.0, style=ProgressStyle(description_…"
      ]
     },
     "metadata": {},
     "output_type": "display_data"
    },
    {
     "name": "stdout",
     "output_type": "stream",
     "text": [
      "\n"
     ]
    },
    {
     "data": {
      "application/vnd.jupyter.widget-view+json": {
       "model_id": "ec6d67dc539842d4a46ef81a130c7232",
       "version_major": 2,
       "version_minor": 0
      },
      "text/plain": [
       "HBox(children=(FloatProgress(value=0.0, description='Predicting', max=1797.0, style=ProgressStyle(description_…"
      ]
     },
     "metadata": {},
     "output_type": "display_data"
    },
    {
     "name": "stdout",
     "output_type": "stream",
     "text": [
      "\n"
     ]
    },
    {
     "data": {
      "application/vnd.jupyter.widget-view+json": {
       "model_id": "8c0a922cc3a845119b43fea491c9ca25",
       "version_major": 2,
       "version_minor": 0
      },
      "text/plain": [
       "HBox(children=(FloatProgress(value=0.0, description='Predicting', max=1797.0, style=ProgressStyle(description_…"
      ]
     },
     "metadata": {},
     "output_type": "display_data"
    },
    {
     "name": "stdout",
     "output_type": "stream",
     "text": [
      "\n"
     ]
    },
    {
     "data": {
      "application/vnd.jupyter.widget-view+json": {
       "model_id": "4fee11bfd07941e3baf4dc7ed9c37d39",
       "version_major": 2,
       "version_minor": 0
      },
      "text/plain": [
       "HBox(children=(FloatProgress(value=0.0, description='Predicting', max=1797.0, style=ProgressStyle(description_…"
      ]
     },
     "metadata": {},
     "output_type": "display_data"
    },
    {
     "name": "stdout",
     "output_type": "stream",
     "text": [
      "\n"
     ]
    },
    {
     "data": {
      "application/vnd.jupyter.widget-view+json": {
       "model_id": "c20fb856d7ce419e87213b5db761ebe1",
       "version_major": 2,
       "version_minor": 0
      },
      "text/plain": [
       "HBox(children=(FloatProgress(value=0.0, description='Predicting', max=1797.0, style=ProgressStyle(description_…"
      ]
     },
     "metadata": {},
     "output_type": "display_data"
    },
    {
     "name": "stdout",
     "output_type": "stream",
     "text": [
      "\n"
     ]
    },
    {
     "data": {
      "application/vnd.jupyter.widget-view+json": {
       "model_id": "abf226a38f444e81a97240b1724e0e44",
       "version_major": 2,
       "version_minor": 0
      },
      "text/plain": [
       "HBox(children=(FloatProgress(value=0.0, description='Predicting', max=1797.0, style=ProgressStyle(description_…"
      ]
     },
     "metadata": {},
     "output_type": "display_data"
    },
    {
     "name": "stdout",
     "output_type": "stream",
     "text": [
      "\n"
     ]
    },
    {
     "data": {
      "application/vnd.jupyter.widget-view+json": {
       "model_id": "a703684ba95c4d069fa9bc58091dc54b",
       "version_major": 2,
       "version_minor": 0
      },
      "text/plain": [
       "HBox(children=(FloatProgress(value=0.0, description='Predicting', max=1797.0, style=ProgressStyle(description_…"
      ]
     },
     "metadata": {},
     "output_type": "display_data"
    },
    {
     "name": "stdout",
     "output_type": "stream",
     "text": [
      "\n"
     ]
    },
    {
     "data": {
      "application/vnd.jupyter.widget-view+json": {
       "model_id": "a08e621caf454600aa01ed651cf64d5a",
       "version_major": 2,
       "version_minor": 0
      },
      "text/plain": [
       "HBox(children=(FloatProgress(value=0.0, description='Predicting', max=1797.0, style=ProgressStyle(description_…"
      ]
     },
     "metadata": {},
     "output_type": "display_data"
    },
    {
     "name": "stdout",
     "output_type": "stream",
     "text": [
      "\n"
     ]
    },
    {
     "data": {
      "application/vnd.jupyter.widget-view+json": {
       "model_id": "2f04b3e4d95e4d20a3209bdde923c1c6",
       "version_major": 2,
       "version_minor": 0
      },
      "text/plain": [
       "HBox(children=(FloatProgress(value=0.0, description='Predicting', max=1797.0, style=ProgressStyle(description_…"
      ]
     },
     "metadata": {},
     "output_type": "display_data"
    },
    {
     "name": "stdout",
     "output_type": "stream",
     "text": [
      "\n"
     ]
    },
    {
     "data": {
      "application/vnd.jupyter.widget-view+json": {
       "model_id": "b467a446eaa14e17acabb4558caab385",
       "version_major": 2,
       "version_minor": 0
      },
      "text/plain": [
       "HBox(children=(FloatProgress(value=0.0, description='Predicting', max=1797.0, style=ProgressStyle(description_…"
      ]
     },
     "metadata": {},
     "output_type": "display_data"
    },
    {
     "name": "stdout",
     "output_type": "stream",
     "text": [
      "\n"
     ]
    },
    {
     "data": {
      "application/vnd.jupyter.widget-view+json": {
       "model_id": "2f8959476d6042aeaf677a13d48b4334",
       "version_major": 2,
       "version_minor": 0
      },
      "text/plain": [
       "HBox(children=(FloatProgress(value=0.0, description='Predicting', max=1797.0, style=ProgressStyle(description_…"
      ]
     },
     "metadata": {},
     "output_type": "display_data"
    },
    {
     "name": "stdout",
     "output_type": "stream",
     "text": [
      "\n"
     ]
    },
    {
     "data": {
      "application/vnd.jupyter.widget-view+json": {
       "model_id": "250fe41bbacf4efa8bd5dbe29437d0e0",
       "version_major": 2,
       "version_minor": 0
      },
      "text/plain": [
       "HBox(children=(FloatProgress(value=0.0, description='Predicting', max=1797.0, style=ProgressStyle(description_…"
      ]
     },
     "metadata": {},
     "output_type": "display_data"
    },
    {
     "name": "stdout",
     "output_type": "stream",
     "text": [
      "\n"
     ]
    },
    {
     "data": {
      "application/vnd.jupyter.widget-view+json": {
       "model_id": "2b5051001b9449b88b3c437091e5aab7",
       "version_major": 2,
       "version_minor": 0
      },
      "text/plain": [
       "HBox(children=(FloatProgress(value=0.0, description='Predicting', max=1797.0, style=ProgressStyle(description_…"
      ]
     },
     "metadata": {},
     "output_type": "display_data"
    },
    {
     "name": "stdout",
     "output_type": "stream",
     "text": [
      "\n"
     ]
    },
    {
     "data": {
      "application/vnd.jupyter.widget-view+json": {
       "model_id": "96523001006a419597c3ac71f1a1e9ca",
       "version_major": 2,
       "version_minor": 0
      },
      "text/plain": [
       "HBox(children=(FloatProgress(value=0.0, description='Predicting', max=1797.0, style=ProgressStyle(description_…"
      ]
     },
     "metadata": {},
     "output_type": "display_data"
    },
    {
     "name": "stdout",
     "output_type": "stream",
     "text": [
      "\n"
     ]
    },
    {
     "data": {
      "application/vnd.jupyter.widget-view+json": {
       "model_id": "1f784ff675cf45a89f5b11508ab7c1f7",
       "version_major": 2,
       "version_minor": 0
      },
      "text/plain": [
       "HBox(children=(FloatProgress(value=0.0, description='Predicting', max=1797.0, style=ProgressStyle(description_…"
      ]
     },
     "metadata": {},
     "output_type": "display_data"
    },
    {
     "name": "stdout",
     "output_type": "stream",
     "text": [
      "\n"
     ]
    },
    {
     "data": {
      "application/vnd.jupyter.widget-view+json": {
       "model_id": "6b32caba6b864aeb8628cbad736ea095",
       "version_major": 2,
       "version_minor": 0
      },
      "text/plain": [
       "HBox(children=(FloatProgress(value=0.0, description='Predicting', max=1797.0, style=ProgressStyle(description_…"
      ]
     },
     "metadata": {},
     "output_type": "display_data"
    },
    {
     "name": "stdout",
     "output_type": "stream",
     "text": [
      "\n"
     ]
    },
    {
     "data": {
      "application/vnd.jupyter.widget-view+json": {
       "model_id": "eb317be2d8db4fc0a32725d40e2e6821",
       "version_major": 2,
       "version_minor": 0
      },
      "text/plain": [
       "HBox(children=(FloatProgress(value=0.0, description='Predicting', max=1797.0, style=ProgressStyle(description_…"
      ]
     },
     "metadata": {},
     "output_type": "display_data"
    },
    {
     "name": "stdout",
     "output_type": "stream",
     "text": [
      "\n"
     ]
    },
    {
     "data": {
      "application/vnd.jupyter.widget-view+json": {
       "model_id": "40ebb1b0dfd947a3a92e19646b950f46",
       "version_major": 2,
       "version_minor": 0
      },
      "text/plain": [
       "HBox(children=(FloatProgress(value=0.0, description='Predicting', max=1797.0, style=ProgressStyle(description_…"
      ]
     },
     "metadata": {},
     "output_type": "display_data"
    },
    {
     "name": "stdout",
     "output_type": "stream",
     "text": [
      "\n"
     ]
    },
    {
     "data": {
      "application/vnd.jupyter.widget-view+json": {
       "model_id": "b830a4d9ccb649c08de9dd87e61a69dc",
       "version_major": 2,
       "version_minor": 0
      },
      "text/plain": [
       "HBox(children=(FloatProgress(value=0.0, description='Predicting', max=1797.0, style=ProgressStyle(description_…"
      ]
     },
     "metadata": {},
     "output_type": "display_data"
    },
    {
     "name": "stdout",
     "output_type": "stream",
     "text": [
      "\n"
     ]
    },
    {
     "data": {
      "application/vnd.jupyter.widget-view+json": {
       "model_id": "a637c29f85e846e18b144fad9aeec4e7",
       "version_major": 2,
       "version_minor": 0
      },
      "text/plain": [
       "HBox(children=(FloatProgress(value=0.0, description='Predicting', max=1797.0, style=ProgressStyle(description_…"
      ]
     },
     "metadata": {},
     "output_type": "display_data"
    },
    {
     "name": "stdout",
     "output_type": "stream",
     "text": [
      "\n"
     ]
    },
    {
     "data": {
      "application/vnd.jupyter.widget-view+json": {
       "model_id": "a69456f9ac4e492db2f7d459e0f72774",
       "version_major": 2,
       "version_minor": 0
      },
      "text/plain": [
       "HBox(children=(FloatProgress(value=0.0, description='Predicting', max=1797.0, style=ProgressStyle(description_…"
      ]
     },
     "metadata": {},
     "output_type": "display_data"
    },
    {
     "name": "stdout",
     "output_type": "stream",
     "text": [
      "\n"
     ]
    },
    {
     "data": {
      "application/vnd.jupyter.widget-view+json": {
       "model_id": "e8ffd72a67c249f5b2e5465ed4aa5d9c",
       "version_major": 2,
       "version_minor": 0
      },
      "text/plain": [
       "HBox(children=(FloatProgress(value=0.0, description='Predicting', max=1797.0, style=ProgressStyle(description_…"
      ]
     },
     "metadata": {},
     "output_type": "display_data"
    },
    {
     "name": "stdout",
     "output_type": "stream",
     "text": [
      "\n"
     ]
    },
    {
     "data": {
      "application/vnd.jupyter.widget-view+json": {
       "model_id": "357b5d245c4a475fa5279d59105cc941",
       "version_major": 2,
       "version_minor": 0
      },
      "text/plain": [
       "HBox(children=(FloatProgress(value=0.0, description='Predicting', max=1797.0, style=ProgressStyle(description_…"
      ]
     },
     "metadata": {},
     "output_type": "display_data"
    },
    {
     "name": "stdout",
     "output_type": "stream",
     "text": [
      "\n"
     ]
    },
    {
     "data": {
      "application/vnd.jupyter.widget-view+json": {
       "model_id": "92e448a701234922aa2c7feb7901558f",
       "version_major": 2,
       "version_minor": 0
      },
      "text/plain": [
       "HBox(children=(FloatProgress(value=0.0, description='Predicting', max=1797.0, style=ProgressStyle(description_…"
      ]
     },
     "metadata": {},
     "output_type": "display_data"
    },
    {
     "name": "stdout",
     "output_type": "stream",
     "text": [
      "\n"
     ]
    },
    {
     "data": {
      "application/vnd.jupyter.widget-view+json": {
       "model_id": "cc6aa9a2c13f44fd84008cd0928a7767",
       "version_major": 2,
       "version_minor": 0
      },
      "text/plain": [
       "HBox(children=(FloatProgress(value=0.0, description='Predicting', max=1797.0, style=ProgressStyle(description_…"
      ]
     },
     "metadata": {},
     "output_type": "display_data"
    },
    {
     "name": "stdout",
     "output_type": "stream",
     "text": [
      "\n"
     ]
    },
    {
     "data": {
      "application/vnd.jupyter.widget-view+json": {
       "model_id": "f9827964097845e699bf9dff8dfc145c",
       "version_major": 2,
       "version_minor": 0
      },
      "text/plain": [
       "HBox(children=(FloatProgress(value=0.0, description='Predicting', max=1797.0, style=ProgressStyle(description_…"
      ]
     },
     "metadata": {},
     "output_type": "display_data"
    },
    {
     "name": "stdout",
     "output_type": "stream",
     "text": [
      "\n"
     ]
    },
    {
     "data": {
      "application/vnd.jupyter.widget-view+json": {
       "model_id": "a9bbebe4cbb64fe18a4972c0de29773a",
       "version_major": 2,
       "version_minor": 0
      },
      "text/plain": [
       "HBox(children=(FloatProgress(value=0.0, description='Predicting', max=1797.0, style=ProgressStyle(description_…"
      ]
     },
     "metadata": {},
     "output_type": "display_data"
    },
    {
     "name": "stdout",
     "output_type": "stream",
     "text": [
      "\n"
     ]
    },
    {
     "data": {
      "application/vnd.jupyter.widget-view+json": {
       "model_id": "baac08cd9e0442cb80a2ad5fc8e92d7f",
       "version_major": 2,
       "version_minor": 0
      },
      "text/plain": [
       "HBox(children=(FloatProgress(value=0.0, description='Predicting', max=1797.0, style=ProgressStyle(description_…"
      ]
     },
     "metadata": {},
     "output_type": "display_data"
    },
    {
     "name": "stdout",
     "output_type": "stream",
     "text": [
      "\n"
     ]
    },
    {
     "data": {
      "application/vnd.jupyter.widget-view+json": {
       "model_id": "d4d144618c1542f185ff8cbf14bf9275",
       "version_major": 2,
       "version_minor": 0
      },
      "text/plain": [
       "HBox(children=(FloatProgress(value=0.0, description='Predicting', max=1797.0, style=ProgressStyle(description_…"
      ]
     },
     "metadata": {},
     "output_type": "display_data"
    },
    {
     "name": "stdout",
     "output_type": "stream",
     "text": [
      "\n"
     ]
    },
    {
     "data": {
      "application/vnd.jupyter.widget-view+json": {
       "model_id": "e15b2be120d643aba158c5af4169b088",
       "version_major": 2,
       "version_minor": 0
      },
      "text/plain": [
       "HBox(children=(FloatProgress(value=0.0, description='Predicting', max=1797.0, style=ProgressStyle(description_…"
      ]
     },
     "metadata": {},
     "output_type": "display_data"
    },
    {
     "name": "stdout",
     "output_type": "stream",
     "text": [
      "\n"
     ]
    },
    {
     "data": {
      "application/vnd.jupyter.widget-view+json": {
       "model_id": "4326ff41e6194f108d9b4bec0573e56f",
       "version_major": 2,
       "version_minor": 0
      },
      "text/plain": [
       "HBox(children=(FloatProgress(value=0.0, description='Predicting', max=1797.0, style=ProgressStyle(description_…"
      ]
     },
     "metadata": {},
     "output_type": "display_data"
    },
    {
     "name": "stdout",
     "output_type": "stream",
     "text": [
      "\n"
     ]
    },
    {
     "data": {
      "application/vnd.jupyter.widget-view+json": {
       "model_id": "7128f0aa84004768906c37affd02e922",
       "version_major": 2,
       "version_minor": 0
      },
      "text/plain": [
       "HBox(children=(FloatProgress(value=0.0, description='Predicting', max=1797.0, style=ProgressStyle(description_…"
      ]
     },
     "metadata": {},
     "output_type": "display_data"
    },
    {
     "name": "stdout",
     "output_type": "stream",
     "text": [
      "\n"
     ]
    }
   ],
   "source": [
    "N = -1\n",
    "test_threshold = .35\n",
    "Q = 6\n",
    "classification_patterns = X_test[:]\n",
    "classification_labels = Y_test[:]\n",
    "shots = 1024 * 8\n",
    "bias = 0.0\n",
    "\n",
    "classified_as, holder_for_most_common, holder_for_test, holder_for_readouts = multi_class_prediction(qubits = Q, classification_patterns = classification_patterns, shots = shots, test_threshold = test_threshold, weights_matrix = weights_matrix, bias = bias)"
   ]
  },
  {
   "cell_type": "code",
   "execution_count": 11,
   "metadata": {
    "ExecuteTime": {
     "end_time": "2020-03-24T01:58:29.293864Z",
     "start_time": "2020-03-24T01:58:25.196883Z"
    }
   },
   "outputs": [
    {
     "name": "stderr",
     "output_type": "stream",
     "text": [
      "C:\\Users\\jeff_\\Anaconda3\\lib\\site-packages\\ipykernel_launcher.py:18: UserWarning: Tight layout not applied. tight_layout cannot make axes width small enough to accommodate all axes decorations\n"
     ]
    },
    {
     "data": {
      "image/png": "[encoded data removed]",
      "text/plain": [
       "<Figure size 1080x648 with 202 Axes>"
      ]
     },
     "metadata": {
      "needs_background": "light"
     },
     "output_type": "display_data"
    }
   ],
   "source": [
    "fig, axs = plt.subplots(3, int(np.ceil(len(classification_patterns) / 3)), figsize=(15,9))\n",
    "count = 0\n",
    "\n",
    "for i in range(3):\n",
    "    for j in range(int(np.ceil(len(classification_patterns) / 3))):\n",
    "        ax = axs[i][j]\n",
    "        \n",
    "        #c = ax.pcolor(thetas[i + j][1:].reshape(28, 28), cmap = 'gray')\n",
    "        try:\n",
    "            c = ax.imshow(np.array(classification_patterns[count]).reshape(8, 8), cmap = 'gray_r', interpolation='nearest')\n",
    "            ax.axis('off')\n",
    "            ax.axis('equal')\n",
    "            ax.set_title(f'Clas. as {classified_as[count]} is {classification_labels[count]}').set_position([0.5, 1.1])\n",
    "            count += 1\n",
    "        except IndexError:\n",
    "            continue\n",
    "        \n",
    "fig.tight_layout()\n",
    "plt.colorbar(c)\n",
    "plt.show()"
   ]
  },
  {
   "cell_type": "code",
   "execution_count": 14,
   "metadata": {
    "ExecuteTime": {
     "end_time": "2020-10-17T02:21:46.887030Z",
     "start_time": "2020-10-17T02:21:46.882078Z"
    }
   },
   "outputs": [
    {
     "name": "stdout",
     "output_type": "stream",
     "text": [
      "Accuracy = 0.5698386199220924\n"
     ]
    }
   ],
   "source": [
    "accuracy = len(np.where(classification_labels == classified_as)[0]) / len(classification_labels)\n",
    "print(f'Accuracy = {accuracy}')"
   ]
  },
  {
   "cell_type": "code",
   "execution_count": 15,
   "metadata": {
    "ExecuteTime": {
     "end_time": "2020-10-17T02:21:49.494136Z",
     "start_time": "2020-10-17T02:21:49.490149Z"
    }
   },
   "outputs": [
    {
     "data": {
      "text/plain": [
       "array([[[0.0, 0.0, 0.0, ..., 0.0, 0.0, 0.0],\n",
       "        [0.0, 1.0, 1.0, ..., 1.0, 8.0, 9.0],\n",
       "        [0.0, 1.0, 2.0, ..., 2.0, 8.0, 9.0],\n",
       "        ...,\n",
       "        [0.0, 1.0, 2.0, ..., 7.0, 8.0, 9.0],\n",
       "        [0.0, 8.0, 8.0, ..., 8.0, 8.0, 9.0],\n",
       "        [0.0, 9.0, 9.0, ..., 9.0, 9.0, 9.0]],\n",
       "\n",
       "       [[0.0, 1.0, 0.0, ..., 0.0, 8.0, 9.0],\n",
       "        [1.0, 1.0, 1.0, ..., 1.0, 1.0, 1.0],\n",
       "        [0.0, 1.0, 2.0, ..., 2.0, 2.0, 2.0],\n",
       "        ...,\n",
       "        [0.0, 1.0, 2.0, ..., 7.0, 7.0, 9.0],\n",
       "        [8.0, 1.0, 2.0, ..., 7.0, 8.0, 8.0],\n",
       "        [9.0, 1.0, 2.0, ..., 9.0, 8.0, 9.0]],\n",
       "\n",
       "       [[0.0, 0.0, 0.0, ..., 0.0, 0.0, 0.0],\n",
       "        [0.0, 1.0, 1.0, ..., 1.0, 1.0, 1.0],\n",
       "        [0.0, 1.0, 2.0, ..., 2.0, 2.0, 2.0],\n",
       "        ...,\n",
       "        [0.0, 1.0, 2.0, ..., 7.0, 7.0, 7.0],\n",
       "        [0.0, 1.0, 2.0, ..., 7.0, 8.0, 8.0],\n",
       "        [0.0, 1.0, 2.0, ..., 7.0, 8.0, 9.0]],\n",
       "\n",
       "       ...,\n",
       "\n",
       "       [[0.0, 1.0, 0.0, ..., 0.0, 8.0, 0.0],\n",
       "        [1.0, 1.0, 1.0, ..., 1.0, 8.0, 1.0],\n",
       "        [0.0, 1.0, 2.0, ..., 2.0, 8.0, 2.0],\n",
       "        ...,\n",
       "        [0.0, 1.0, 2.0, ..., 7.0, 7.0, 7.0],\n",
       "        [8.0, 8.0, 8.0, ..., 7.0, 8.0, 8.0],\n",
       "        [0.0, 1.0, 2.0, ..., 7.0, 8.0, 9.0]],\n",
       "\n",
       "       [[0.0, 0.0, 0.0, ..., 0.0, 8.0, 0.0],\n",
       "        [0.0, 1.0, 1.0, ..., 1.0, 1.0, 1.0],\n",
       "        [0.0, 1.0, 2.0, ..., 2.0, 2.0, 9.0],\n",
       "        ...,\n",
       "        [0.0, 1.0, 2.0, ..., 7.0, 7.0, 9.0],\n",
       "        [8.0, 1.0, 2.0, ..., 7.0, 8.0, 9.0],\n",
       "        [0.0, 1.0, 9.0, ..., 9.0, 9.0, 9.0]],\n",
       "\n",
       "       [[0.0, 0.0, 2.0, ..., 0.0, 0.0, 9.0],\n",
       "        [0.0, 1.0, 1.0, ..., 1.0, 1.0, 9.0],\n",
       "        [2.0, 1.0, 2.0, ..., 2.0, 2.0, 2.0],\n",
       "        ...,\n",
       "        [0.0, 1.0, 2.0, ..., 7.0, 7.0, 7.0],\n",
       "        [0.0, 1.0, 2.0, ..., 7.0, 8.0, 8.0],\n",
       "        [9.0, 9.0, 2.0, ..., 7.0, 8.0, 9.0]]], dtype=object)"
      ]
     },
     "execution_count": 15,
     "metadata": {},
     "output_type": "execute_result"
    }
   ],
   "source": [
    "holder_for_test"
   ]
  },
  {
   "cell_type": "code",
   "execution_count": 16,
   "metadata": {
    "ExecuteTime": {
     "end_time": "2020-10-17T02:21:50.668162Z",
     "start_time": "2020-10-17T02:21:50.664173Z"
    }
   },
   "outputs": [],
   "source": [
    "# To print only two decimal places\n",
    "np.set_printoptions(precision=2)"
   ]
  },
  {
   "cell_type": "code",
   "execution_count": 17,
   "metadata": {
    "ExecuteTime": {
     "end_time": "2020-10-17T02:21:51.906463Z",
     "start_time": "2020-10-17T02:21:51.896514Z"
    }
   },
   "outputs": [
    {
     "data": {
      "text/plain": [
       "array([[[0.66, 0.16, 0.19, ..., 0.22, 0.34, 0.32],\n",
       "        [0.16, 0.11, 0.28, ..., 0.19, 0.53, 0.39],\n",
       "        [0.19, 0.28, 0.31, ..., 0.22, 0.43, 0.39],\n",
       "        ...,\n",
       "        [0.22, 0.19, 0.22, ..., 0.19, 0.51, 0.38],\n",
       "        [0.34, 0.53, 0.43, ..., 0.51, 0.29, 0.38],\n",
       "        [0.32, 0.39, 0.39, ..., 0.38, 0.38, 0.25]],\n",
       "\n",
       "       [[0.14, 0.6 , 0.32, ..., 0.28, 0.51, 0.39],\n",
       "        [0.6 , 0.42, 0.22, ..., 0.24, 0.28, 0.2 ],\n",
       "        [0.32, 0.22, 0.32, ..., 0.28, 0.27, 0.19],\n",
       "        ...,\n",
       "        [0.28, 0.24, 0.28, ..., 0.25, 0.28, 0.38],\n",
       "        [0.51, 0.28, 0.27, ..., 0.28, 0.28, 0.19],\n",
       "        [0.39, 0.2 , 0.19, ..., 0.38, 0.19, 0.2 ]],\n",
       "\n",
       "       [[0.09, 0.28, 0.14, ..., 0.17, 0.29, 0.14],\n",
       "        [0.28, 0.35, 0.22, ..., 0.26, 0.23, 0.19],\n",
       "        [0.14, 0.22, 0.15, ..., 0.17, 0.16, 0.1 ],\n",
       "        ...,\n",
       "        [0.17, 0.26, 0.17, ..., 0.25, 0.17, 0.2 ],\n",
       "        [0.29, 0.23, 0.16, ..., 0.17, 0.11, 0.09],\n",
       "        [0.14, 0.19, 0.1 , ..., 0.2 , 0.09, 0.14]],\n",
       "\n",
       "       ...,\n",
       "\n",
       "       [[0.33, 0.43, 0.25, ..., 0.12, 0.44, 0.32],\n",
       "        [0.43, 0.22, 0.28, ..., 0.1 , 0.43, 0.31],\n",
       "        [0.25, 0.28, 0.19, ..., 0.18, 0.43, 0.09],\n",
       "        ...,\n",
       "        [0.12, 0.1 , 0.18, ..., 0.25, 0.35, 0.25],\n",
       "        [0.44, 0.43, 0.43, ..., 0.35, 0.42, 0.1 ],\n",
       "        [0.32, 0.31, 0.09, ..., 0.25, 0.1 , 0.14]],\n",
       "\n",
       "       [[0.29, 0.31, 0.28, ..., 0.32, 0.4 , 0.35],\n",
       "        [0.31, 0.25, 0.25, ..., 0.23, 0.32, 0.35],\n",
       "        [0.28, 0.25, 0.35, ..., 0.32, 0.24, 0.43],\n",
       "        ...,\n",
       "        [0.32, 0.23, 0.32, ..., 0.22, 0.32, 0.43],\n",
       "        [0.4 , 0.32, 0.24, ..., 0.32, 0.25, 0.43],\n",
       "        [0.35, 0.35, 0.43, ..., 0.43, 0.43, 0.29]],\n",
       "\n",
       "       [[0.21, 0.25, 0.36, ..., 0.2 , 0.24, 0.36],\n",
       "        [0.25, 0.13, 0.31, ..., 0.08, 0.25, 0.52],\n",
       "        [0.36, 0.31, 0.22, ..., 0.19, 0.25, 0.22],\n",
       "        ...,\n",
       "        [0.2 , 0.08, 0.19, ..., 0.22, 0.25, 0.29],\n",
       "        [0.24, 0.25, 0.25, ..., 0.25, 0.4 , 0.22],\n",
       "        [0.36, 0.52, 0.22, ..., 0.29, 0.22, 0.12]]])"
      ]
     },
     "execution_count": 17,
     "metadata": {},
     "output_type": "execute_result"
    }
   ],
   "source": [
    "holder_for_readouts.astype(float)"
   ]
  },
  {
   "cell_type": "code",
   "execution_count": 18,
   "metadata": {
    "ExecuteTime": {
     "end_time": "2020-10-17T02:21:54.847530Z",
     "start_time": "2020-10-17T02:21:54.513234Z"
    }
   },
   "outputs": [],
   "source": [
    "fig, axs = plt.subplots(2,5, figsize=(15,9))\n",
    "count = 0\n",
    "\n",
    "for i in range(2):\n",
    "    for j in range(5):\n",
    "        ax = axs[i][j]\n",
    "        \n",
    "        #c = ax.pcolor(thetas[i + j][1:].reshape(28, 28), cmap = 'gray')\n",
    "        try:\n",
    "            c = ax.imshow(np.array(np.nan_to_num(holder_for_readouts.astype(float))[count].reshape(10,10)), cmap = 'hot', interpolation='nearest')\n",
    "            ax.axis('on')\n",
    "            #ax.axis('equal')\n",
    "            ax.set_title(f'Clas. as {classified_as[count]} is {classification_labels[count]}').set_position([0.5, 1.1])\n",
    "            count += 1\n",
    "        except IndexError:\n",
    "            continue\n",
    "        \n",
    "fig.tight_layout()\n",
    "norm = mpl.colors.Normalize(vmin=np.nan_to_num(holder_for_readouts.astype(float)).min(), vmax=np.nan_to_num(holder_for_readouts.astype(float)).max())\n",
    "plt.colorbar(c, norm = norm)\n",
    "plt.show()"
   ]
  },
  {
   "cell_type": "code",
   "execution_count": 19,
   "metadata": {
    "ExecuteTime": {
     "end_time": "2020-10-17T02:22:18.419145Z",
     "start_time": "2020-10-17T02:22:18.408142Z"
    }
   },
   "outputs": [
    {
     "data": {
      "text/plain": [
       "array([32, 33], dtype=int64)"
      ]
     },
     "execution_count": 19,
     "metadata": {},
     "output_type": "execute_result"
    }
   ],
   "source": [
    "np.nan_to_num(holder_for_readouts.astype(float))[9].flatten().argsort()[98:]"
   ]
  },
  {
   "cell_type": "code",
   "execution_count": 21,
   "metadata": {
    "ExecuteTime": {
     "end_time": "2020-10-17T02:22:31.692121Z",
     "start_time": "2020-10-17T02:22:31.661202Z"
    }
   },
   "outputs": [
    {
     "data": {
      "text/plain": [
       "array([[0, 8, 8, ..., 8, 1, 4],\n",
       "       [1, 0, 5, ..., 9, 0, 0],\n",
       "       [8, 1, 1, ..., 4, 3, 7],\n",
       "       ...,\n",
       "       [8, 6, 5, ..., 8, 3, 0],\n",
       "       [8, 6, 9, ..., 9, 9, 8],\n",
       "       [6, 9, 6, ..., 9, 8, 1]], dtype=int64)"
      ]
     },
     "execution_count": 21,
     "metadata": {},
     "output_type": "execute_result"
    }
   ],
   "source": [
    "np.argmax(np.nan_to_num(holder_for_readouts.astype(float)), axis = 1)"
   ]
  },
  {
   "cell_type": "code",
   "execution_count": 22,
   "metadata": {
    "ExecuteTime": {
     "end_time": "2020-10-17T02:22:33.077717Z",
     "start_time": "2020-10-17T02:22:33.064768Z"
    }
   },
   "outputs": [
    {
     "data": {
      "text/plain": [
       "array([ 0,  1, 38, ..., 25, 33, 19], dtype=int64)"
      ]
     },
     "execution_count": 22,
     "metadata": {},
     "output_type": "execute_result"
    }
   ],
   "source": [
    "np.array(list(map(np.argmax, np.nan_to_num(holder_for_readouts.astype(float)))))"
   ]
  },
  {
   "cell_type": "code",
   "execution_count": 23,
   "metadata": {
    "ExecuteTime": {
     "end_time": "2020-10-17T02:22:34.751162Z",
     "start_time": "2020-10-17T02:22:34.736201Z"
    }
   },
   "outputs": [
    {
     "data": {
      "text/plain": [
       "array([0, 1, 8, ..., 5, 3, 9], dtype=int64)"
      ]
     },
     "execution_count": 23,
     "metadata": {},
     "output_type": "execute_result"
    }
   ],
   "source": [
    "trick = np.array(list(map(np.argmax, np.nan_to_num(holder_for_readouts.astype(float))))) % 10\n",
    "trick"
   ]
  },
  {
   "cell_type": "code",
   "execution_count": 24,
   "metadata": {
    "ExecuteTime": {
     "end_time": "2020-10-17T02:22:35.975051Z",
     "start_time": "2020-10-17T02:22:35.970066Z"
    }
   },
   "outputs": [
    {
     "data": {
      "text/plain": [
       "array([0, 1, 2, ..., 8, 9, 8])"
      ]
     },
     "execution_count": 24,
     "metadata": {},
     "output_type": "execute_result"
    }
   ],
   "source": [
    "classification_labels"
   ]
  },
  {
   "cell_type": "code",
   "execution_count": 25,
   "metadata": {
    "ExecuteTime": {
     "end_time": "2020-10-17T02:22:37.125002Z",
     "start_time": "2020-10-17T02:22:37.119991Z"
    }
   },
   "outputs": [
    {
     "name": "stdout",
     "output_type": "stream",
     "text": [
      "Accuracy = 0.7089593767390094\n"
     ]
    }
   ],
   "source": [
    "accuracy = len(np.where(classification_labels == trick)[0]) / len(classification_labels)\n",
    "print(f'Accuracy = {accuracy}')"
   ]
  },
  {
   "cell_type": "code",
   "execution_count": 34,
   "metadata": {
    "ExecuteTime": {
     "end_time": "2020-10-17T02:25:57.461318Z",
     "start_time": "2020-10-17T02:25:57.417468Z"
    }
   },
   "outputs": [
    {
     "name": "stdout",
     "output_type": "stream",
     "text": [
      "[[11  1 10 ... 81 18  0]\n",
      " [66 49 94 ... 80  1 10]\n",
      " [66 46 64 ... 11 38 83]\n",
      " ...\n",
      " [41 14 92 ... 38 52 25]\n",
      " [24 42  4 ... 98 89 33]\n",
      " [17 71 41 ... 26 91 19]]\n",
      "[1 6 6 ... 4 2 1]\n"
     ]
    }
   ],
   "source": [
    "np.nan_to_num(holder_for_readouts.astype(float))[9].flatten().argsort()[98:]\n",
    "np.array(list(map(np.argsort, np.nan_to_num(holder_for_readouts.astype(float).reshape(1797, -1)))))[:, :]\n",
    "another_trick = np.array(list(map(np.argsort, np.nan_to_num(holder_for_readouts.astype(float).reshape(1797, -1)))))[:,:]\n",
    "print(another_trick)\n",
    "\n",
    "another_trick = another_trick[:, 0]\n",
    "another_trick = np.array(list(map(lambda x : x//10 if x > 9 else x, another_trick)))\n",
    "print(another_trick)"
   ]
  },
  {
   "cell_type": "code",
   "execution_count": 35,
   "metadata": {
    "ExecuteTime": {
     "end_time": "2020-10-17T02:25:59.931211Z",
     "start_time": "2020-10-17T02:25:59.928219Z"
    }
   },
   "outputs": [
    {
     "name": "stdout",
     "output_type": "stream",
     "text": [
      "Accuracy = 0.021702838063439065\n"
     ]
    }
   ],
   "source": [
    "accuracy = len(np.where(classification_labels == another_trick)[0]) / len(classification_labels)\n",
    "print(f'Accuracy = {accuracy}')"
   ]
  },
  {
   "cell_type": "code",
   "execution_count": 29,
   "metadata": {
    "ExecuteTime": {
     "end_time": "2020-10-17T02:25:12.712694Z",
     "start_time": "2020-10-17T02:25:12.704749Z"
    }
   },
   "outputs": [
    {
     "data": {
      "text/plain": [
       "array([[(0.0, 9), (3.0, 8), (8.0, 8), ..., (6.0, 4), (2.0, 3), (0.0, 1)],\n",
       "       [(1.0, 10), (5.0, 8), (2.0, 7), ..., (9.0, 4), (6.0, 2), (7.0, 2)],\n",
       "       [(0.0, 10), (1.0, 9), (2.0, 8), ..., (7.0, 4), (8.0, 3), (0.0, 1)],\n",
       "       ...,\n",
       "       [(8.0, 9), (0.0, 8), (1.0, 8), ..., (5.0, 5), (7.0, 3), (0.0, 1)],\n",
       "       [(0.0, 8), (3.0, 8), (1.0, 7), ..., (5.0, 3), (7.0, 3), (8.0, 2)],\n",
       "       [(2.0, 8), (0.0, 7), (3.0, 7), ..., (9.0, 4), (7.0, 3), (8.0, 2)]],\n",
       "      dtype=object)"
      ]
     },
     "execution_count": 29,
     "metadata": {},
     "output_type": "execute_result"
    }
   ],
   "source": [
    "holder_for_most_common"
   ]
  },
  {
   "cell_type": "code",
   "execution_count": 30,
   "metadata": {
    "ExecuteTime": {
     "end_time": "2020-10-17T02:25:16.533342Z",
     "start_time": "2020-10-17T02:25:16.528320Z"
    }
   },
   "outputs": [
    {
     "data": {
      "text/plain": [
       "array([0, 1, 2, ..., 8, 9, 8])"
      ]
     },
     "execution_count": 30,
     "metadata": {},
     "output_type": "execute_result"
    }
   ],
   "source": [
    "classification_labels"
   ]
  },
  {
   "cell_type": "code",
   "execution_count": 31,
   "metadata": {
    "ExecuteTime": {
     "end_time": "2020-10-17T02:25:17.433595Z",
     "start_time": "2020-10-17T02:25:17.423622Z"
    }
   },
   "outputs": [
    {
     "data": {
      "text/plain": [
       "array([0, 1, 0, ..., 8, 0, 2])"
      ]
     },
     "execution_count": 31,
     "metadata": {},
     "output_type": "execute_result"
    }
   ],
   "source": [
    "np.array(classified_as).astype(int)"
   ]
  },
  {
   "cell_type": "code",
   "execution_count": null,
   "metadata": {},
   "outputs": [],
   "source": []
  }
 ],
 "metadata": {
  "kernelspec": {
   "display_name": "Python 3",
   "language": "python",
   "name": "python3"
  },
  "language_info": {
   "codemirror_mode": {
    "name": "ipython",
    "version": 3
   },
   "file_extension": ".py",
   "mimetype": "text/x-python",
   "name": "python",
   "nbconvert_exporter": "python",
   "pygments_lexer": "ipython3",
   "version": "3.7.4"
  },
  "varInspector": {
   "cols": {
    "lenName": 16,
    "lenType": 16,
    "lenVar": 40
   },
   "kernels_config": {
    "python": {
     "delete_cmd_postfix": "",
     "delete_cmd_prefix": "del ",
     "library": "var_list.py",
     "varRefreshCmd": "print(var_dic_list())"
    },
    "r": {
     "delete_cmd_postfix": ") ",
     "delete_cmd_prefix": "rm(",
     "library": "var_list.r",
     "varRefreshCmd": "cat(var_dic_list()) "
    }
   },
   "position": {
    "height": "144px",
    "left": "1166px",
    "right": "20px",
    "top": "119px",
    "width": "350px"
   },
   "types_to_exclude": [
    "module",
    "function",
    "builtin_function_or_method",
    "instance",
    "_Feature"
   ],
   "window_display": false
  }
 },
 "nbformat": 4,
 "nbformat_minor": 2
}
