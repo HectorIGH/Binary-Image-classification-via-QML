{
 "cells": [
  {
   "cell_type": "markdown",
   "metadata": {
    "heading_collapsed": true
   },
   "source": [
    "# Imports"
   ]
  },
  {
   "cell_type": "code",
   "execution_count": 1,
   "metadata": {
    "ExecuteTime": {
     "end_time": "2020-09-14T03:24:03.388868Z",
     "start_time": "2020-09-14T03:24:00.289100Z"
    },
    "hidden": true
   },
   "outputs": [
    {
     "data": {
      "application/javascript": [
       "if (!(\"Notification\" in window)) {\n",
       "    alert(\"This browser does not support desktop notifications, so the %%notify magic will not work.\");\n",
       "} else if (Notification.permission !== 'granted' && Notification.permission !== 'denied') {\n",
       "    Notification.requestPermission(function (permission) {\n",
       "        if(!('permission' in Notification)) {\n",
       "            Notification.permission = permission;\n",
       "        }\n",
       "    })\n",
       "}\n"
      ],
      "text/plain": [
       "<IPython.core.display.Javascript object>"
      ]
     },
     "metadata": {},
     "output_type": "display_data"
    }
   ],
   "source": [
    "import numpy as np\n",
    "from collections import Counter\n",
    "import matplotlib.pyplot as plt\n",
    "import matplotlib.cm as cm\n",
    "import matplotlib as mpl\n",
    "import itertools\n",
    "import seaborn as sns\n",
    "import cv2\n",
    "import sklearn\n",
    "from sklearn import datasets\n",
    "from sklearn.metrics import accuracy_score, precision_score, recall_score, f1_score, confusion_matrix, roc_curve, auc\n",
    "from functools import partial, lru_cache\n",
    "from copy import copy\n",
    "from scipy.special import softmax, expit\n",
    "\n",
    "from qiskit import ClassicalRegister, QuantumRegister, QuantumCircuit, Aer, execute, IBMQ\n",
    "from qiskit.tools.visualization import circuit_drawer\n",
    "from qiskit.tools.visualization import plot_histogram\n",
    "from qiskit.extensions.unitary import unitary\n",
    "from qiskit.tools.monitor import job_monitor\n",
    "from qiskit.compiler import transpile, assemble\n",
    "S_simulator = Aer.backends(name = 'statevector_simulator')[0]\n",
    "M_simulator = Aer.backends(name = 'qasm_simulator')[0]\n",
    "\n",
    "import functools\n",
    "from tqdm import tqdm, tqdm_notebook, notebook\n",
    "from operator import itemgetter\n",
    "\n",
    "%matplotlib qt\n",
    "%load_ext jupyternotify"
   ]
  },
  {
   "cell_type": "markdown",
   "metadata": {
    "heading_collapsed": true
   },
   "source": [
    "# Auxiliar functions definition"
   ]
  },
  {
   "cell_type": "code",
   "execution_count": 2,
   "metadata": {
    "ExecuteTime": {
     "end_time": "2020-09-14T03:24:03.576367Z",
     "start_time": "2020-09-14T03:24:03.458631Z"
    },
    "hidden": true
   },
   "outputs": [],
   "source": [
    "def preprocess(vector):\n",
    "    \"\"\"\n",
    "    Input: a vector of size m = 2^N with entries in {-1, 1}.\n",
    "    Output: a (m, 2) numpy array with the form:\n",
    "    [[1 list([])]\n",
    "     [-1 list([])]\n",
    "     [1 list([])]\n",
    "     [1 list([])]]\n",
    "    where the frst column represents the sign and the second is the position in binary.\n",
    "    \"\"\"\n",
    "    # Factorize the sign\n",
    "    i_unsigned = np.multiply(-1, vector)\n",
    "    # To binary string\n",
    "    i_binary = [bin(int(n)) for n in i_unsigned]\n",
    "    # Remove the -0b or 0b par of the binary representation. bin(7) = 0b111 -> 111\n",
    "    for index, e in enumerate(i_binary):\n",
    "        if(e[0] == '-'):\n",
    "            #i_binary[index] = [-1, [int(e) for e in bin(index)[2:]]]\n",
    "            i_binary[index] = [-1, list(map(int, str(int(bin(index)[2:]))))]\n",
    "        else:\n",
    "            #i_binary[index] = [1, [int(e) for e in bin(index)[2:]]]\n",
    "            i_binary[index] = [1, list(map(int, str(int(bin(index)[2:]))))]\n",
    "            \n",
    "    n = int(np.log2(len(i_binary)))\n",
    "    for index, element in enumerate(i_binary):\n",
    "        if (len(element[1]) != n):\n",
    "            while (len(i_binary[index][1]) != n):\n",
    "                i_binary[index][1].insert(0, 0)\n",
    "    #for i in range(len(i_binary)):\n",
    "    #    i_binary[i][1] = i_binary[i][1][::-1]\n",
    "    i_binary = np.array(i_binary)\n",
    "    #print(i_binary)\n",
    "    return i_binary\n",
    "\n",
    "def check_z(binary):\n",
    "    \"\"\"\n",
    "    Input: a preprocessed vector via preprocess().\n",
    "    Output: a vector whose entries represents the qubit to perform a Z-gate.\n",
    "    \"\"\"\n",
    "    positive = True # Controls the sign to achieve\n",
    "    \n",
    "    if (int(binary[0][0]) < 0):\n",
    "        positive = False\n",
    "        \n",
    "    #print(f'The sign will be positive: {positive}')\n",
    "    z_index = []\n",
    "    for index, element in enumerate(binary):\n",
    "        counts = Counter(element[1])\n",
    "        #print(counts[1])\n",
    "        if (counts[1] == 1):\n",
    "            if (positive):\n",
    "                if (int(binary[index][0]) == -1):\n",
    "                    #print(f'Z gate in qubit {np.where(np.array(binary[2**i][1]) == 1)[0]}')\n",
    "                    z_index.append(int(np.where(np.array(binary[index][1]) == 1)[0][0]))\n",
    "            else:\n",
    "                if (int(binary[index][0]) == 1):\n",
    "                    #print(f'Z gate in qubit {np.where(np.array(binary[2**i][1]) == 1)[0]}')\n",
    "                    z_index.append(int(np.where(np.array(binary[index][1]) == 1)[0][0]))\n",
    "    #print(z_index)\n",
    "    #z_index = reindex(int(np.log2(len(i_binary))), z_index)\n",
    "    return z_index\n",
    "\n",
    "def apply_z(binary, Z):\n",
    "    \"\"\"\n",
    "    Input: the preprocessed vector and a vector containing the qubits to apply a Z-gate.\n",
    "    Output: the resultant vector with the signs flipped accordingly to the action of the Z-gates.\n",
    "    \"\"\"\n",
    "    '''for ind, e in enumerate(binary):\n",
    "        counts = Counter(e[1])\n",
    "        if counts[1] > 0:\n",
    "            ones = np.where(np.array(e[1]) == 1)[0]\n",
    "            #print(counts[1], e[1], ones)\n",
    "            for z in Z:\n",
    "                #print(f'z = {z}, ones = {ones}, changes = {z in ones}')\n",
    "                if (z in ones):\n",
    "                    binary[ind][0] *= -1'''\n",
    "    \n",
    "    for z in Z:\n",
    "        mask = np.array(list(map(lambda x : x[z] == 1, binary[:,1])))\n",
    "        binary[mask, 0] *= -1\n",
    "    \n",
    "    #print(binary)\n",
    "    return binary\n",
    "\n",
    "\n",
    "def check_cpz(binary):\n",
    "    \"\"\"\n",
    "    Input: the current preprocessed vector.\n",
    "    Output: the final desired vector and a vector whose elements are vectos containing the qubits to whom apply\n",
    "            the CPZ.\n",
    "    \"\"\"\n",
    "    CPZ = set()\n",
    "    n = int(np.log2(len(binary)))\n",
    "    #print(n)\n",
    "    sequence = 0\n",
    "    '''\n",
    "    # Ordered by the number of ones in its binary representation\n",
    "    aux_binary = sorted(binary, key = lambda item : Counter(item[1])[1])\n",
    "    \n",
    "    # Index holds the positions of the first appearance of n number of ones\n",
    "    index = []\n",
    "    cuenta = 1\n",
    "    for i, e in enumerate(aux_binary):\n",
    "        if (np.sum(e[1]) > cuenta):\n",
    "            index.append(i)\n",
    "            cuenta -= -1\n",
    "    \n",
    "    for ind in index: # Now ind holds where in the aux_binary star to appear elements with 2,3,... ones\n",
    "        for i in range(ind, len(aux_binary)):\n",
    "            if (aux_binary[i][0] != aux_binary[0][0]):\n",
    "                ones = np.where(np.array(aux_binary[i][1]) == 1)[0]\n",
    "                CPZ.add(tuple([sequence, tuple(ones)]))\n",
    "                sequence -= -1\n",
    "                \n",
    "                for j in range(ind, len(aux_binary)):\n",
    "                    pos = np.where(np.array(aux_binary[j][1]) == 1)[0]\n",
    "                    pos_set = set(pos)\n",
    "                    ones_set = set(ones)\n",
    "                    if (set.issubset(ones_set, pos_set)):\n",
    "                        aux_binary[j][0] *= -1\n",
    "        \n",
    "    \n",
    "    \n",
    "    \n",
    "    '''\n",
    "    for p in range(2, n + 1):\n",
    "        for ind, e in enumerate(binary):\n",
    "            counts = Counter(e[1])\n",
    "            #print(f'manifold of {p}')\n",
    "            if (counts[1] == p) and (binary[0][0] != e[0]):\n",
    "                ones = np.where(np.array(e[1]) == 1)[0]\n",
    "                #cadena = lambda a : str(a)\n",
    "                #unos = cadena(ones)[1:-1]\n",
    "                #CPZ.add(tuple(ones))\n",
    "                CPZ.add(tuple([sequence, tuple(ones)]))\n",
    "                #print(f'applying {tuple([sequence, tuple(ones)])} because {e}')\n",
    "                sequence += 1\n",
    "                \n",
    "                ones_set = set(ones)\n",
    "                mask = np.array(list(map(partial(check_set, ones_set) , binary[:, 1])))\n",
    "                \n",
    "                binary[mask, 0] *= -1\n",
    "                \n",
    "                #for ind, e in enumerate(binary):\n",
    "                #    pos = np.where(np.array(e[1]) == 1)[0]\n",
    "                #    pos_set = set(pos)\n",
    "                #    ones_set = set(ones)\n",
    "                #    if (set.issubset(ones_set, pos_set)):\n",
    "                #        binary[ind][0] *= -1\n",
    "                        #CPZ.append(ones)\n",
    "                        #print(f'C{p}Z = {ones}')\n",
    "    #'''\n",
    "    #print(binary)\n",
    "    CPZ = [list(ele) for _, ele in enumerate(CPZ)]\n",
    "    CPZ = sorted(CPZ, key = lambda l: l[0])\n",
    "    #print(CPZ)\n",
    "    CPZ = [list(e[1]) for e in CPZ]\n",
    "    #sett = [list(e) for e in sett]\n",
    "    #if(binary[0][0] < 0):\n",
    "    #    CPZ = list(map(partial(reindex, int(np.log2(len(binary)))), CPZ))\n",
    "    #CPZ = sorted(CPZ, key = lambda l: (len(l), l.sort()))\n",
    "    return CPZ\n",
    "\n",
    "def check_set(ones_set, pos_set):\n",
    "    return set.issubset(ones_set, set(np.where(np.array(pos_set) == 1)[0]))\n",
    "\n",
    "def vectorize(number, digits):\n",
    "    \"\"\"\n",
    "    Input: an integer in decimal form and the number of final digits as binary.\n",
    "    Output: its representation on binary as an array. Most significant bit as first element of the array.\n",
    "    \"\"\"\n",
    "    digits = 2**(np.ceil(np.log2(digits)))\n",
    "    binary_number = bin(number)[2:]\n",
    "    as_text = str(binary_number)\n",
    "    vectorized_number = [int(d) for d in as_text]\n",
    "    #print(vectorized_number)\n",
    "    if (digits < len(vectorized_number)):\n",
    "        digits = 2**(np.ceil(np.log2(len(vectorized_number))))\n",
    "    if (digits > len(vectorized_number)):\n",
    "        while (len(vectorized_number) != digits):\n",
    "            vectorized_number.insert(0, 0)\n",
    "    #print(vectorized_number)\n",
    "    return np.array(vectorized_number)\n",
    "\n",
    "def o_product(i, w):\n",
    "    return (np.abs(np.dot(i, w))/len(i))**2\n",
    "\n",
    "def sign(p):\n",
    "    #Can be substitute in code by:\n",
    "    #sign = lambda p : [(-1)**i for i in p]\n",
    "    #list(map(sign, inputs))\n",
    "    return [(-1)**i for i in p]\n",
    "\n",
    "def design(p):\n",
    "    return [1 if i < 0 else 0 for i in w]\n",
    "\n",
    "def reindex(N, change):\n",
    "    origin = np.array([i for i in range(N)])\n",
    "    destiny = np.flipud(origin)\n",
    "    \n",
    "    for index, element in enumerate(change):\n",
    "        #print(f'{element} -> {np.where(d == element)[0]}')\n",
    "        change[index] = np.where(destiny == element)[0][0]\n",
    "        \n",
    "    return change\n",
    "\n",
    "def U(qc, q, Z, CPZ):\n",
    "    for z in Z:\n",
    "        #print(f'Z gate in qubit {type(int(z))}')\n",
    "        qc.z(q[int(z)])\n",
    "    for cpz in CPZ:\n",
    "        controls = [q[int(i)] for i in cpz[:-1]]\n",
    "        target = q[int(cpz[-1])]\n",
    "        #print(f'CPZ gate with control {controls} and target {target}')\n",
    "        qc.h(cpz[-1])\n",
    "        #qc.mct(controls, target, None, mode='advanced')\n",
    "        \n",
    "        #try:\n",
    "        #    qc.mct(controls, target, None, mode='advanced')\n",
    "        #except AssertionError:\n",
    "            #print(\"Going to mode noancilla\")\n",
    "        qc.mct(controls, target, None, mode='noancilla')\n",
    "        \n",
    "        qc.h(cpz[-1])\n",
    "    return qc\n",
    "\n",
    "@lru_cache(maxsize = None)\n",
    "def gates_sequence(vector):\n",
    "    #print('Preprocessing')\n",
    "    binary = preprocess(vector)\n",
    "    #print('Getting Z gates')\n",
    "    Z_GATES = check_z(binary)\n",
    "    #print('Applying Z gates')\n",
    "    binary = apply_z(binary, Z_GATES)\n",
    "    #print('Getting CpZ gates')\n",
    "    CPZ_GATES = check_cpz(binary)\n",
    "    return Z_GATES, CPZ_GATES\n",
    "\n",
    "def perceptron(N = 1, shots = 512, z_gates_w = [], CPZ_gates_w = [], z_gates_i = [], CPZ_gates_i = [], simulation = True):\n",
    "    \n",
    "    q = QuantumRegister(N, name = 'q_r')\n",
    "    #A = QuantumRegister(1, name = 'auxiliar_ancillar')\n",
    "    a = QuantumRegister(1, name = 'a_r')\n",
    "    c = ClassicalRegister(1, name = 'c_r')\n",
    "    qc = QuantumCircuit(q, a, c, name = 'qc')\n",
    "\n",
    "    for index in range(N):\n",
    "        qc.h(q[index])\n",
    "\n",
    "        \n",
    "    qc = U(qc, q, z_gates_i, CPZ_gates_i)\n",
    "    qc = U(qc, q, z_gates_w, CPZ_gates_w)\n",
    "\n",
    "    for index in range(N):\n",
    "        qc.h(q[index])\n",
    "    \n",
    "    for index in range(N):\n",
    "        qc.x(q[index])\n",
    "\n",
    "    #qc.mct(q[:], a[0], None, mode='advanced')\n",
    "    \n",
    "    #try:\n",
    "    #    qc.mct(q[:], a[0], None, mode='advanced')\n",
    "    #except AssertionError:\n",
    "        #print(\"Going to mode noancilla\")\n",
    "    qc.mct(q[:], a[0], None, mode='noancilla')    \n",
    "        \n",
    "    qc.measure(a[0], c)\n",
    "    #print(qc)\n",
    "        \n",
    "    #results = execute(qc, backend = M_simulator, shots = shots).result()\n",
    "    \n",
    "    # Optimized\n",
    "    transpiled_circuit = transpile(qc, M_simulator, optimization_level = 1) # optimization_level = [0, 1, 2, 3]\n",
    "    job = M_simulator.run(assemble(transpiled_circuit, shots = shots))\n",
    "    results = job.result()\n",
    "    \n",
    "    #results = execute(qc, backend = qcomp, shots = shots, memory=True) # For Real Quantum Computing\n",
    "\n",
    "    #job_monitor(results) # For Real Quantum Computing\n",
    "        \n",
    "    #results = results.result() # For Real Quantum Computing\n",
    "    \n",
    "    # Optimized for Real Quantum Computer\n",
    "    #transpiled_circuit = transpile(qc, qcomp, optimization_level = 2) # optimization_level = 0,1,2,3\n",
    "    #job = M_simulator.run(assemble(transpiled_circuit, shots = shots))\n",
    "    #results = job.result()\n",
    "    \n",
    "    return results\n",
    "\n",
    "\n",
    "def fit(qubits = 1, X_train = np.array([[1]]), Y_train = np.array([[1]]), negative_class = 0, positive_class = 1, epochs = 1, shots = 64, threshold = 0.5, Ip = 0.5, In = 0.5, bias = 0):\n",
    "    # Train and return a weight vector\n",
    "    n = len(X_train)\n",
    "    result_matrix = np.zeros((epochs, len(X_train)))\n",
    "    np.random.seed(10)\n",
    "    \n",
    "    w = np.random.randint(2, size = 2**qubits) # Random generation of initial weight vector. Sign it at once.\n",
    "    \n",
    "    #w = np.array(X_train[23])\n",
    "    \n",
    "    #print(f'Starting training with qubits = {qubits}, train = {X_train}, target = {Y_train}, epochs = {epochs}, shots = {shots}, Ip = {Ip}, In = {In}')\n",
    "    #print(f'Initial weight vector = {w}')\n",
    "    \n",
    "    weights = []\n",
    "\n",
    "    for epoch in notebook.tqdm(range(epochs), desc = f'Epoches'):\n",
    "        errors = 0\n",
    "        correct = 0\n",
    "        for index, training_element in enumerate(notebook.tqdm(X_train, desc = f'Training {epoch}')):\n",
    "\n",
    "            pattern = sign(training_element) # Signing the training pattern.\n",
    "            \n",
    "            wei = sign(w) # Signing the weight vector\n",
    "            #print('Calculating Z gates')\n",
    "            #print(pattern)\n",
    "            z_gates_i, CPZ_gates_i = gates_sequence(tuple(pattern)) # Gates to apply to the training pattern vector\n",
    "            #print('Calculating CpZ gates')\n",
    "            z_gates_w, CPZ_gates_w = gates_sequence(tuple(wei)) # Gates to apply to the weight vector\n",
    "            \n",
    "            #print('Ahora sí, Quantum Realm')\n",
    "            \n",
    "            ############################  Quantum Proccess  ############################\n",
    "            \n",
    "            results = perceptron(qubits, shots, z_gates_w, CPZ_gates_w, z_gates_i, CPZ_gates_i)\n",
    "            \n",
    "            #########################  End of Quantum Proccess  #########################\n",
    "            \n",
    "            counts = results.get_counts()\n",
    "        \n",
    "            #list_count_value = [ (v,oq.From_binary(k)) for k, v in counts.items()]\n",
    "\n",
    "            #sorte = sorted(list_count_value, key = itemgetter(0))\n",
    "        \n",
    "            #readout = sorte[0][1] * sorte[0][0] / shots\n",
    "            \n",
    "            try:\n",
    "                readout = counts['1'] / shots\n",
    "            except KeyError:\n",
    "                readout = 0\n",
    "            \n",
    "            #print(readout)\n",
    "            \n",
    "            clazz = negative_class if (readout + bias) < threshold else positive_class # Classification part.\n",
    "            \n",
    "            result_matrix[epoch][index] = readout + bias\n",
    "            #print(f'Weight vector = {w} and Training element = {training_element}')\n",
    "            if (Y_train[index] == clazz):\n",
    "                # Correctly classified. We do not modify the weight vector and we continue.\n",
    "                correct -= -np.power(np.inf, np.log(1))\n",
    "                #if clazz:\n",
    "                    #Ip *= (n - correct) / float(n)\n",
    "                    #Ip *= 1.0 / np.log(3 + correct)\n",
    "                    #Ip *= np.exp(-0.001 * correct)\n",
    "                    #Ip *= 1.0 / (1.0 + 0.01 * correct)\n",
    "                    #Ip *= .982**np.floor((correct + 1) / 10)\n",
    "                #else:\n",
    "                    #In *= (n - correct) / float(n)\n",
    "                    #In *= 1.0 / np.log(3 + correct)\n",
    "                    #In *= np.exp(-0.001 * correct)\n",
    "                    #In *= 1.0 / (1.0 + 0.01 * correct)\n",
    "                    #In *= .982**np.floor((correct + 1) / 10)\n",
    "                continue # Skip the execution to the next iteration\n",
    "            # If we reach this point the classification was incorrect\n",
    "            #if (clazz < Y_train[index]): # Classified as 0 (negative) when is 1 (positive)\n",
    "            if (clazz == negative_class): # Classified as (negative) when is (positive)\n",
    "                # We flip +-1 signs Ip fraction where i and w coincide\n",
    "                coincide = np.argwhere(training_element == w).flatten()\n",
    "                pos = np.array(list(set(np.random.choice(coincide, int(np.floor(len(coincide) * Ip)), replace = False)))) if len(coincide) > 0 else np.array([])\n",
    "                #print(f'Missclasiffied as 0. Before changes: {Counter(w)} with len(coincide) * Ip = {int(np.ceil(len(coincide) * Ip))}')\n",
    "                #for indexed in pos:\n",
    "                    #print('entre en Ip')\n",
    "                #    w[indexed] = (w[indexed] + 1) % 2\n",
    "#                print(f'Coincide in {len(coincide)} and change {len(pos)} bits')\n",
    "                try:\n",
    "                    w[pos] = (w[pos] + 1) % 2\n",
    "                except IndexError:\n",
    "                    pass\n",
    "                #print(f'Missclasiffied as 0. After  changes: {Counter(w)} with len(coincide) * Ip = {int(np.ceil(len(coincide) * Ip))}')\n",
    "            else: # Classified as 1 (positive) when is 0 (negative)\n",
    "                # We flip +-1 signs In fraction where i and w coincide\n",
    "                coincide = np.argwhere(training_element == w).flatten()\n",
    "                pos = np.array(list(set(np.random.choice(coincide, int(np.floor(len(coincide) * In)), replace = False)))) if len(coincide) > 0 else np.array([])\n",
    "                #print(f'Missclasified as 1. Before changes: {Counter(w)} with len(coincide) * In = {int(np.ceil(len(coincide) * In))}')\n",
    "                #for indexed in pos:\n",
    "                    #print('entre en In')\n",
    "                #    w[indexed] = (w[indexed] + 1) % 2\n",
    "#                print(f'Coincide in {len(coincide)} and change {len(pos)} bits')\n",
    "                try:\n",
    "                    w[pos] = (w[pos] + 1) % 2\n",
    "                except IndexError:\n",
    "                    pass\n",
    "                #print(f'Missclasified as 1. After  changes: {Counter(w)} with len(coincide) * In = {int(np.ceil(len(coincide) * In))}')\n",
    "            errors -= -1\n",
    "        print(f'Errors = {errors} for accuracy of = {1 - errors/len(X_train)}')\n",
    "        #print(f'Final weight vector = {w}')\n",
    "        weights.append(w)\n",
    "    return w, result_matrix, weights\n",
    "\n",
    "def predict(qubits = 1, X_test = np.array([[1]]), negative_class = 0, positive_class = 1, shots = 64, threshold = 0.5, w = 0, bias = 0):\n",
    "    # Train and return a weight vector\n",
    "    result_matrix = np.zeros(len(X_test))\n",
    "    readout_matrix = np.zeros(len(X_test))\n",
    "    np.random.seed(10)\n",
    "    Y_predicted = np.zeros(len(X_test))\n",
    "    wei = sign(w) # Signing the weight vector\n",
    "    z_gates_w, CPZ_gates_w = gates_sequence(tuple(wei)) # Gates to apply to the weight vector\n",
    "    \n",
    "    #print(f'Starting predict with qubits = {qubits}, train = {X_test}, shots = {shots}')\n",
    "    #print(f'Passed weight vector = {w}')\n",
    "         \n",
    "    for index, training_element in enumerate(notebook.tqdm(X_test, desc = 'Predicting')):\n",
    "            \n",
    "        pattern = sign(training_element) # Signing the training pattern.\n",
    "            \n",
    "        z_gates_i, CPZ_gates_i = gates_sequence(tuple(pattern)) # Gates to apply to the training pattern vector\n",
    "            \n",
    "        ############################  Quantum Proccess  ############################\n",
    "            \n",
    "        results = perceptron(qubits, shots, z_gates_w, CPZ_gates_w, z_gates_i, CPZ_gates_i)\n",
    "            \n",
    "        #########################  End of Quantum Proccess  #########################\n",
    "            \n",
    "        counts = results.get_counts()\n",
    "        \n",
    "        #list_count_value = [ (v,oq.From_binary(k)) for k, v in counts.items()]\n",
    "\n",
    "        #sorte = sorted(list_count_value, key = itemgetter(0))\n",
    "        \n",
    "        #readout = sorte[0][1] * sorte[0][0] / shots\n",
    "        \n",
    "        try:\n",
    "            readout = counts['1'] / shots\n",
    "        except KeyError:\n",
    "            readout = 0\n",
    "        \n",
    "        #print(readout)\n",
    "            \n",
    "        clazz = negative_class if (readout + bias) < threshold else positive_class # Classification part.\n",
    "            \n",
    "        result_matrix[index] = clazz\n",
    "        \n",
    "        readout_matrix[index] = readout + bias\n",
    "\n",
    "    return result_matrix, readout_matrix\n",
    "\n",
    "def evaluate(Y_test, predicted, negative_class, positive_class):\n",
    "    correct = np.argwhere(Y_test == predicted)\n",
    "    accuracy = len(correct) / len(predicted)\n",
    "    ones_and_zeros = [Y_test[ind][0] for ind in correct]\n",
    "    counts = Counter(ones_and_zeros)\n",
    "    confusion_matrix = np.zeros((2,2))\n",
    "    \n",
    "    Y_test_aux = np.zeros_like(Y_test)\n",
    "    predicted_aux = np.zeros_like(predicted)\n",
    "    \n",
    "    #Y_test_aux[Y_test == negative_class] = 0\n",
    "    #predicted_aux[predicted == negative_class] = 0\n",
    "    Y_test_aux[Y_test == positive_class] = 1\n",
    "    predicted_aux[predicted == positive_class] = 1\n",
    "    \n",
    "    for i in range(len(predicted_aux)):\n",
    "        confusion_matrix[int(Y_test_aux[i])][int(predicted_aux[i])] += 1\n",
    "    return accuracy, counts, confusion_matrix\n",
    "\n",
    "def plot_confusion_matrix(cm, target_names = None, cmap = None, normalize = True, labels = True, title = 'Confusion Matrix'):\n",
    "    accuracy = np.trace(cm) / float(np.sum(cm))\n",
    "    misclass = 1 - accuracy\n",
    "    \n",
    "    if cmap is None:\n",
    "        cmap = plt.get_cmap('Blues')\n",
    "        \n",
    "    if normalize:\n",
    "        cm = cm.astype('float') / cm.sum(axis = 1)[:, np.newaxis]\n",
    "        \n",
    "    plt.figure(figsize = (8, 6))\n",
    "    plt.imshow(cm, interpolation = 'nearest', cmap = cmap)\n",
    "    plt.title(title)\n",
    "    plt.colorbar()\n",
    "    \n",
    "    thresh = cm.max() / 1.5 if normalize else cm.max() / 2\n",
    "    \n",
    "    if target_names is not None:\n",
    "        tick_marks = np.arange(len(target_names))\n",
    "        plt.xticks(tick_marks, target_names)\n",
    "        plt.yticks(tick_marks, target_names)\n",
    "        \n",
    "    if labels:\n",
    "        for i, j in itertools.product(range(cm.shape[0]), range(cm.shape[1])):\n",
    "            if normalize:\n",
    "                plt.text(j, i, \"{:0.4f}\".format(cm[i, j]), horizontalalignment = 'center', color = 'white' if cm[i, j] > thresh else 'black', fontsize = 20)\n",
    "            else:\n",
    "                plt.text(j, i, \"{:,}\".format(cm[i, j]), horizontalalignment = 'center', color = 'white' if cm[i, j] > thresh else 'black', fontsize = 20)\n",
    "    \n",
    "    plt.tight_layout()\n",
    "    plt.ylabel('True label')\n",
    "    plt.xlabel('Predicted label\\naccuracy = {:0.4f}; misclass = {:0.4f}'.format(accuracy, misclass))\n",
    "    plt.axis('equal')\n",
    "    plt.show()\n",
    "    \n",
    "def save_weight(filename = 'weights.txt', mode = 'a+', weight = []):\n",
    "    with open(filename, mode) as file:\n",
    "        file.write(f'{number_negative_class, number_positive_class}:')\n",
    "        for p in w:\n",
    "            file.write(f'{p},')\n",
    "        file.write('\\n')\n",
    "        \n",
    "def retrieve_weights_from_file(filename = 'weights.txt', full = False):\n",
    "    with open(filename, 'r+') as file:\n",
    "        lines = file.readlines()\n",
    "        \n",
    "        cuadratic = lambda w : int(np.abs((1 - np.sqrt(1 + 8 * w)) / 2))\n",
    "        \n",
    "        nc = int(np.sqrt(len(lines))) if full else cuadratic(len(lines))\n",
    "        \n",
    "        weights_matrix = np.empty((nc, nc), dtype = object)\n",
    "    \n",
    "        #print(weights_matrix)\n",
    "    \n",
    "        for line in lines:\n",
    "            #print(line, end = '\\n')\n",
    "            xy, peso = line.split(sep = ':')[0], line.split(sep = ':')[1]\n",
    "            weight = np.array(list(map(int , peso.split(sep = ',')[:-1])))\n",
    "            coordinates = [int(c) for c in xy if c.isdigit()]\n",
    "            #print(f'Coordenates: {coordinates[0], coordinates[1]}, weight: {weight}')\n",
    "            weights_matrix[coordinates[0]][coordinates[1]] = weight\n",
    "            if not full:\n",
    "                weights_matrix[coordinates[1]][coordinates[0]] = weight\n",
    "    \n",
    "        #print(weights_matrix)\n",
    "    return weights_matrix\n",
    "\n",
    "def retrieve_weights_from_file_total(filename = 'weights.txt'):\n",
    "    with open(filename, 'r+') as file:\n",
    "        lines = file.readlines()\n",
    "        \n",
    "        weights_vector = []\n",
    "        \n",
    "        for line in lines:\n",
    "            xy, peso = line.split(sep = ':')[0], line.split(sep = ':')[1]\n",
    "            weight = np.array(list(map(int , peso.split(sep = ',')[:-1])))\n",
    "            weights_vector.append(weight)\n",
    "            \n",
    "        \n",
    "    return np.array(weights_vector)\n",
    "\n",
    "def print_weights_matrix(weights_matrix):\n",
    "    n_classes = weights_matrix.shape[0]\n",
    "    fig, axs = plt.subplots(2, n_classes // 2, figsize=(20, 10))\n",
    "    count = 0\n",
    "\n",
    "    for i in range(2):\n",
    "        for j in range(n_classes // 2):\n",
    "            ax = axs[i][j]\n",
    "        \n",
    "            #c = ax.pcolor(thetas[i + j][1:].reshape(28, 28), cmap = 'gray')\n",
    "            try:\n",
    "                c = ax.imshow(weights_matrix[i * 5 + j].reshape(8, 8), cmap = 'gray_r', interpolation='nearest')\n",
    "                ax.axis('off')\n",
    "                ax.axis('equal')\n",
    "                ax.set_title(f'Weight vector for {i * 5 + j}').set_position([0.5, 0.9])\n",
    "                count += 1\n",
    "            except IndexError:\n",
    "                continue\n",
    "        \n",
    "    fig.tight_layout()\n",
    "    plt.colorbar(c)\n",
    "    plt.show()\n",
    "    \n",
    "def multi_class_prediction_OVA(qubits = 1, classification_patterns = np.array([[1]]), shots = 64, test_threshold = 0.35, weights_matrix = np.zeros((1,1)), bias = 0):\n",
    "\n",
    "    # Declaring and populating the Classification Matrix\n",
    "\n",
    "    patterns = len(classification_patterns)\n",
    "    holder_for_classes = np.zeros((patterns, 10), dtype = 'int64')\n",
    "    holder_for_readouts = np.zeros((patterns, 10), dtype = 'float64')\n",
    "    \n",
    "    '''for i, x in enumerate(classification_patterns):\n",
    "        for j, w in enumerate(weights_matrix):\n",
    "            asigned_class, read_out = predict(qubits = Q, X_test = [x], negative_class = j, positive_class = 10, shots = shots, threshold = test_threshold, w = weights_matrix[j], bias = bias)\n",
    "            holder_for_classes[i, j] = asigned_class\n",
    "            holder_for_readouts[i, j] = read_out'''\n",
    "            \n",
    "    for i, w in enumerate(weights_matrix):\n",
    "        asigned_class, read_out = predict(qubits = Q, X_test = classification_patterns, negative_class = i, positive_class = 10, shots = shots, threshold = test_threshold, w = weights_matrix[i], bias = bias)\n",
    "        holder_for_classes[: ,i] = asigned_class\n",
    "        holder_for_readouts[:, i] = read_out\n",
    "    \n",
    "    return holder_for_classes, holder_for_readouts"
   ]
  },
  {
   "cell_type": "markdown",
   "metadata": {},
   "source": [
    "# Training binary imbalanced classifiers $sklearn.datasets.load\\_digits()$"
   ]
  },
  {
   "cell_type": "code",
   "execution_count": 616,
   "metadata": {
    "ExecuteTime": {
     "end_time": "2020-09-13T06:46:55.637716Z",
     "start_time": "2020-09-13T06:46:55.572734Z"
    }
   },
   "outputs": [],
   "source": [
    "digits = datasets.load_digits()"
   ]
  },
  {
   "cell_type": "code",
   "execution_count": 617,
   "metadata": {
    "ExecuteTime": {
     "end_time": "2020-09-13T06:46:55.847865Z",
     "start_time": "2020-09-13T06:46:55.843875Z"
    }
   },
   "outputs": [],
   "source": [
    "# Getting images and labels from digits\n",
    "images = digits.images\n",
    "targets = digits.target"
   ]
  },
  {
   "cell_type": "code",
   "execution_count": 618,
   "metadata": {
    "ExecuteTime": {
     "end_time": "2020-09-13T06:46:56.240363Z",
     "start_time": "2020-09-13T06:46:56.236374Z"
    }
   },
   "outputs": [
    {
     "name": "stdout",
     "output_type": "stream",
     "text": [
      "Total count for digits: Counter({3: 183, 1: 182, 5: 182, 4: 181, 6: 181, 9: 180, 7: 179, 0: 178, 2: 177, 8: 174})\n"
     ]
    }
   ],
   "source": [
    "targets_count = Counter(targets)\n",
    "print(f'Total count for digits: {targets_count}')"
   ]
  },
  {
   "cell_type": "code",
   "execution_count": 619,
   "metadata": {
    "ExecuteTime": {
     "end_time": "2020-09-13T06:46:56.990640Z",
     "start_time": "2020-09-13T06:46:56.795550Z"
    }
   },
   "outputs": [],
   "source": [
    "images_and_labels = list(zip(digits.images, digits.target))\n",
    "for index, (image, label) in enumerate(images_and_labels[45:65]):\n",
    "    plt.subplot(2, 10, index + 1)\n",
    "    plt.axis('off')\n",
    "    plt.imshow(np.round(image / np.max(image)), cmap=plt.cm.gray_r, interpolation='nearest')\n",
    "    plt.title('Tr: %i' % label)"
   ]
  },
  {
   "cell_type": "code",
   "execution_count": 620,
   "metadata": {
    "ExecuteTime": {
     "end_time": "2020-09-13T06:47:01.366899Z",
     "start_time": "2020-09-13T06:47:01.363939Z"
    }
   },
   "outputs": [],
   "source": [
    "# Getting 0 and 1 from digits\n",
    "number_negative_class = 9\n",
    "number_positive_class = 10"
   ]
  },
  {
   "cell_type": "code",
   "execution_count": 621,
   "metadata": {
    "ExecuteTime": {
     "end_time": "2020-09-13T06:47:01.638737Z",
     "start_time": "2020-09-13T06:47:01.634774Z"
    }
   },
   "outputs": [],
   "source": [
    "targets[targets != number_negative_class] = number_positive_class"
   ]
  },
  {
   "cell_type": "code",
   "execution_count": 622,
   "metadata": {
    "ExecuteTime": {
     "end_time": "2020-09-13T06:47:01.888549Z",
     "start_time": "2020-09-13T06:47:01.883531Z"
    }
   },
   "outputs": [
    {
     "name": "stdout",
     "output_type": "stream",
     "text": [
      "Total count for digits: Counter({10: 1617, 9: 180})\n"
     ]
    }
   ],
   "source": [
    "targets_count = Counter(targets)\n",
    "print(f'Total count for digits: {targets_count}')"
   ]
  },
  {
   "cell_type": "code",
   "execution_count": 623,
   "metadata": {
    "ExecuteTime": {
     "end_time": "2020-09-13T06:47:02.134688Z",
     "start_time": "2020-09-13T06:47:02.131670Z"
    }
   },
   "outputs": [],
   "source": [
    "# NO SPLITTING FOR RESUSTITUTION ERROR MEASURE\n",
    "X_train = copy(images)\n",
    "X_test = copy(images)\n",
    "Y_train = copy(targets)\n",
    "Y_test = copy(targets)"
   ]
  },
  {
   "cell_type": "code",
   "execution_count": 624,
   "metadata": {
    "ExecuteTime": {
     "end_time": "2020-09-13T06:47:02.704706Z",
     "start_time": "2020-09-13T06:47:02.515066Z"
    }
   },
   "outputs": [],
   "source": [
    "images_and_labels = list(zip(X_test, Y_test))\n",
    "for index, (image, label) in enumerate(images_and_labels[10:30]):\n",
    "    plt.subplot(2, 10, index + 1)\n",
    "    plt.axis('off')\n",
    "    plt.imshow(image.reshape(8, 8), cmap=plt.cm.gray_r, interpolation='nearest')\n",
    "    plt.title('T: %i' % label)"
   ]
  },
  {
   "cell_type": "code",
   "execution_count": 625,
   "metadata": {
    "ExecuteTime": {
     "end_time": "2020-09-13T06:47:04.290417Z",
     "start_time": "2020-09-13T06:47:04.284465Z"
    }
   },
   "outputs": [],
   "source": [
    "# Reshaping digits\n",
    "X_train = X_train.reshape(X_train.shape[0], -1)\n",
    "X_test = X_test.reshape(X_test.shape[0], -1)"
   ]
  },
  {
   "cell_type": "code",
   "execution_count": 626,
   "metadata": {
    "ExecuteTime": {
     "end_time": "2020-09-13T06:47:04.696077Z",
     "start_time": "2020-09-13T06:47:04.692089Z"
    }
   },
   "outputs": [
    {
     "name": "stdout",
     "output_type": "stream",
     "text": [
      "(1797, 64)\n",
      "(1797, 64)\n"
     ]
    }
   ],
   "source": [
    "print(X_train.shape)\n",
    "print(X_test.shape)"
   ]
  },
  {
   "cell_type": "code",
   "execution_count": 627,
   "metadata": {
    "ExecuteTime": {
     "end_time": "2020-09-13T06:47:05.440737Z",
     "start_time": "2020-09-13T06:47:05.290784Z"
    }
   },
   "outputs": [],
   "source": [
    "# Preprocessing digits by mapping in interval\n",
    "\n",
    "for i in range(len(X_test)):\n",
    "    X_test[i] = np.array(list(map(lambda x : 0 if 0 <= x < 10 else 1, X_test[i])))\n",
    "    \n",
    "for i in range(len(X_train)):\n",
    "    X_train[i] = np.array(list(map(lambda x : 0 if 0 <= x < 10 else 1, X_train[i])))"
   ]
  },
  {
   "cell_type": "code",
   "execution_count": 628,
   "metadata": {
    "ExecuteTime": {
     "end_time": "2020-09-13T06:47:05.759529Z",
     "start_time": "2020-09-13T06:47:05.754504Z"
    }
   },
   "outputs": [
    {
     "data": {
      "text/plain": [
       "'X_train = X_train.tolist()\\nX_test = X_test.tolist()'"
      ]
     },
     "execution_count": 628,
     "metadata": {},
     "output_type": "execute_result"
    }
   ],
   "source": [
    "'''X_train = X_train.tolist()\n",
    "X_test = X_test.tolist()'''"
   ]
  },
  {
   "cell_type": "code",
   "execution_count": 629,
   "metadata": {
    "ExecuteTime": {
     "end_time": "2020-09-13T06:47:06.307197Z",
     "start_time": "2020-09-13T06:47:06.250312Z"
    }
   },
   "outputs": [
    {
     "data": {
      "text/plain": [
       "<matplotlib.colorbar.Colorbar at 0x17bfab7a908>"
      ]
     },
     "execution_count": 629,
     "metadata": {},
     "output_type": "execute_result"
    }
   ],
   "source": [
    "c = plt.imshow(np.array(X_train[35]).reshape(8, 8))\n",
    "plt.colorbar(c)"
   ]
  },
  {
   "cell_type": "markdown",
   "metadata": {},
   "source": [
    "## Fitting the classifier"
   ]
  },
  {
   "cell_type": "code",
   "execution_count": 631,
   "metadata": {
    "ExecuteTime": {
     "end_time": "2020-09-13T06:57:21.261112Z",
     "start_time": "2020-09-13T06:47:13.020185Z"
    }
   },
   "outputs": [
    {
     "data": {
      "application/vnd.jupyter.widget-view+json": {
       "model_id": "6c9f23633e744b0f9c9a8fe6e2f36473",
       "version_major": 2,
       "version_minor": 0
      },
      "text/plain": [
       "HBox(children=(FloatProgress(value=0.0, description='Epoches', max=1.0, style=ProgressStyle(description_width=…"
      ]
     },
     "metadata": {},
     "output_type": "display_data"
    },
    {
     "data": {
      "application/vnd.jupyter.widget-view+json": {
       "model_id": "02416fd4e59b4690baebcb6aaedd82ca",
       "version_major": 2,
       "version_minor": 0
      },
      "text/plain": [
       "HBox(children=(FloatProgress(value=0.0, description='Training 0', max=1797.0, style=ProgressStyle(description_…"
      ]
     },
     "metadata": {},
     "output_type": "display_data"
    },
    {
     "name": "stdout",
     "output_type": "stream",
     "text": [
      "\n",
      "Errors = 1267 for accuracy of = 0.2949360044518642\n",
      "\n"
     ]
    },
    {
     "data": {
      "application/vnd.jupyter.widget-view+json": {
       "model_id": "30135a568c8740f68c37f5f440ad8908",
       "version_major": 2,
       "version_minor": 0
      },
      "text/plain": [
       "HBox(children=(FloatProgress(value=0.0, description='Predicting', max=1797.0, style=ProgressStyle(description_…"
      ]
     },
     "metadata": {},
     "output_type": "display_data"
    },
    {
     "name": "stdout",
     "output_type": "stream",
     "text": [
      "\n",
      "acc: 0.36672231496939345, precision: 0.0905982905982906, recall: 0.5888888888888889, f1: 0.15703703703703703\n"
     ]
    },
    {
     "data": {
      "application/vnd.jupyter.widget-view+json": {
       "model_id": "4cfe9402093a4cfb852cf5d71938f663",
       "version_major": 2,
       "version_minor": 0
      },
      "text/plain": [
       "HBox(children=(FloatProgress(value=0.0, description='Epoches', max=1.0, style=ProgressStyle(description_width=…"
      ]
     },
     "metadata": {},
     "output_type": "display_data"
    },
    {
     "data": {
      "application/vnd.jupyter.widget-view+json": {
       "model_id": "7982e7fe2933454b8091ce860fa680ef",
       "version_major": 2,
       "version_minor": 0
      },
      "text/plain": [
       "HBox(children=(FloatProgress(value=0.0, description='Training 0', max=1797.0, style=ProgressStyle(description_…"
      ]
     },
     "metadata": {},
     "output_type": "display_data"
    },
    {
     "name": "stdout",
     "output_type": "stream",
     "text": [
      "\n",
      "Errors = 1272 for accuracy of = 0.29215358931552593\n",
      "\n"
     ]
    },
    {
     "data": {
      "application/vnd.jupyter.widget-view+json": {
       "model_id": "297ad7c793ff44f7a3202d52880ee7d6",
       "version_major": 2,
       "version_minor": 0
      },
      "text/plain": [
       "HBox(children=(FloatProgress(value=0.0, description='Predicting', max=1797.0, style=ProgressStyle(description_…"
      ]
     },
     "metadata": {},
     "output_type": "display_data"
    },
    {
     "name": "stdout",
     "output_type": "stream",
     "text": [
      "\n",
      "acc: 0.32109070673344464, precision: 0.10183767228177641, recall: 0.7388888888888889, f1: 0.17900403768506057\n"
     ]
    },
    {
     "data": {
      "application/vnd.jupyter.widget-view+json": {
       "model_id": "99b5926b57f94983b6cb027e45cc427c",
       "version_major": 2,
       "version_minor": 0
      },
      "text/plain": [
       "HBox(children=(FloatProgress(value=0.0, description='Epoches', max=1.0, style=ProgressStyle(description_width=…"
      ]
     },
     "metadata": {},
     "output_type": "display_data"
    },
    {
     "data": {
      "application/vnd.jupyter.widget-view+json": {
       "model_id": "63a462c753224912b140761ebaaccc87",
       "version_major": 2,
       "version_minor": 0
      },
      "text/plain": [
       "HBox(children=(FloatProgress(value=0.0, description='Training 0', max=1797.0, style=ProgressStyle(description_…"
      ]
     },
     "metadata": {},
     "output_type": "display_data"
    },
    {
     "name": "stdout",
     "output_type": "stream",
     "text": [
      "\n",
      "Errors = 1279 for accuracy of = 0.2882582081246522\n",
      "\n"
     ]
    },
    {
     "data": {
      "application/vnd.jupyter.widget-view+json": {
       "model_id": "5b4991a0b35a401bad4eafba324c0fd4",
       "version_major": 2,
       "version_minor": 0
      },
      "text/plain": [
       "HBox(children=(FloatProgress(value=0.0, description='Predicting', max=1797.0, style=ProgressStyle(description_…"
      ]
     },
     "metadata": {},
     "output_type": "display_data"
    },
    {
     "name": "stdout",
     "output_type": "stream",
     "text": [
      "\n",
      "acc: 0.31719532554257096, precision: 0.09387121799844841, recall: 0.6722222222222223, f1: 0.16473791695030635\n"
     ]
    },
    {
     "data": {
      "application/vnd.jupyter.widget-view+json": {
       "model_id": "3cb116ad43de41d193ab40f00945b3e2",
       "version_major": 2,
       "version_minor": 0
      },
      "text/plain": [
       "HBox(children=(FloatProgress(value=0.0, description='Epoches', max=1.0, style=ProgressStyle(description_width=…"
      ]
     },
     "metadata": {},
     "output_type": "display_data"
    },
    {
     "data": {
      "application/vnd.jupyter.widget-view+json": {
       "model_id": "1098196ddbdf4ccb93a5ca9418d1ec9c",
       "version_major": 2,
       "version_minor": 0
      },
      "text/plain": [
       "HBox(children=(FloatProgress(value=0.0, description='Training 0', max=1797.0, style=ProgressStyle(description_…"
      ]
     },
     "metadata": {},
     "output_type": "display_data"
    },
    {
     "name": "stdout",
     "output_type": "stream",
     "text": [
      "\n",
      "Errors = 1284 for accuracy of = 0.2854757929883138\n",
      "\n"
     ]
    },
    {
     "data": {
      "application/vnd.jupyter.widget-view+json": {
       "model_id": "e418302ac9e24a969ac79c9ab9d0eb62",
       "version_major": 2,
       "version_minor": 0
      },
      "text/plain": [
       "HBox(children=(FloatProgress(value=0.0, description='Predicting', max=1797.0, style=ProgressStyle(description_…"
      ]
     },
     "metadata": {},
     "output_type": "display_data"
    },
    {
     "name": "stdout",
     "output_type": "stream",
     "text": [
      "\n",
      "acc: 0.4079020589872009, precision: 0.1088495575221239, recall: 0.6833333333333333, f1: 0.18778625954198475\n"
     ]
    },
    {
     "data": {
      "application/vnd.jupyter.widget-view+json": {
       "model_id": "9b437c94dfec4839a71a566d57713dc6",
       "version_major": 2,
       "version_minor": 0
      },
      "text/plain": [
       "HBox(children=(FloatProgress(value=0.0, description='Epoches', max=1.0, style=ProgressStyle(description_width=…"
      ]
     },
     "metadata": {},
     "output_type": "display_data"
    },
    {
     "data": {
      "application/vnd.jupyter.widget-view+json": {
       "model_id": "f107a8799d9546569b5439adfc6abbb1",
       "version_major": 2,
       "version_minor": 0
      },
      "text/plain": [
       "HBox(children=(FloatProgress(value=0.0, description='Training 0', max=1797.0, style=ProgressStyle(description_…"
      ]
     },
     "metadata": {},
     "output_type": "display_data"
    },
    {
     "name": "stdout",
     "output_type": "stream",
     "text": [
      "\n",
      "Errors = 1257 for accuracy of = 0.3005008347245409\n",
      "\n"
     ]
    },
    {
     "data": {
      "application/vnd.jupyter.widget-view+json": {
       "model_id": "bb163c82f7ee499e93b995180eaedcc9",
       "version_major": 2,
       "version_minor": 0
      },
      "text/plain": [
       "HBox(children=(FloatProgress(value=0.0, description='Predicting', max=1797.0, style=ProgressStyle(description_…"
      ]
     },
     "metadata": {},
     "output_type": "display_data"
    },
    {
     "name": "stdout",
     "output_type": "stream",
     "text": [
      "\n",
      "acc: 0.3478018920422927, precision: 0.10883280757097792, recall: 0.7666666666666667, f1: 0.19060773480662985\n"
     ]
    },
    {
     "data": {
      "application/vnd.jupyter.widget-view+json": {
       "model_id": "892c4d284fba4346a4d9cc52d39847a1",
       "version_major": 2,
       "version_minor": 0
      },
      "text/plain": [
       "HBox(children=(FloatProgress(value=0.0, description='Epoches', max=1.0, style=ProgressStyle(description_width=…"
      ]
     },
     "metadata": {},
     "output_type": "display_data"
    },
    {
     "data": {
      "application/vnd.jupyter.widget-view+json": {
       "model_id": "4896be96a9944807b8aa89559dd698a8",
       "version_major": 2,
       "version_minor": 0
      },
      "text/plain": [
       "HBox(children=(FloatProgress(value=0.0, description='Training 0', max=1797.0, style=ProgressStyle(description_…"
      ]
     },
     "metadata": {},
     "output_type": "display_data"
    },
    {
     "name": "stdout",
     "output_type": "stream",
     "text": [
      "\n",
      "Errors = 1265 for accuracy of = 0.29604897050639956\n",
      "\n"
     ]
    },
    {
     "data": {
      "application/vnd.jupyter.widget-view+json": {
       "model_id": "efdaa99e031f4c3b89b1613704e1e874",
       "version_major": 2,
       "version_minor": 0
      },
      "text/plain": [
       "HBox(children=(FloatProgress(value=0.0, description='Predicting', max=1797.0, style=ProgressStyle(description_…"
      ]
     },
     "metadata": {},
     "output_type": "display_data"
    },
    {
     "name": "stdout",
     "output_type": "stream",
     "text": [
      "\n",
      "acc: 0.25264329437952143, precision: 0.09135628952916373, recall: 0.7222222222222222, f1: 0.16219588271990018\n"
     ]
    },
    {
     "data": {
      "application/vnd.jupyter.widget-view+json": {
       "model_id": "3032ee98d59f42d3ad8a41f5fcd87a8a",
       "version_major": 2,
       "version_minor": 0
      },
      "text/plain": [
       "HBox(children=(FloatProgress(value=0.0, description='Epoches', max=1.0, style=ProgressStyle(description_width=…"
      ]
     },
     "metadata": {},
     "output_type": "display_data"
    },
    {
     "data": {
      "application/vnd.jupyter.widget-view+json": {
       "model_id": "03d7148524364b999f45a589240fd362",
       "version_major": 2,
       "version_minor": 0
      },
      "text/plain": [
       "HBox(children=(FloatProgress(value=0.0, description='Training 0', max=1797.0, style=ProgressStyle(description_…"
      ]
     },
     "metadata": {},
     "output_type": "display_data"
    },
    {
     "name": "stdout",
     "output_type": "stream",
     "text": [
      "\n",
      "Errors = 1266 for accuracy of = 0.2954924874791319\n",
      "\n"
     ]
    },
    {
     "data": {
      "application/vnd.jupyter.widget-view+json": {
       "model_id": "0c43701f728346799d46c0cc32865338",
       "version_major": 2,
       "version_minor": 0
      },
      "text/plain": [
       "HBox(children=(FloatProgress(value=0.0, description='Predicting', max=1797.0, style=ProgressStyle(description_…"
      ]
     },
     "metadata": {},
     "output_type": "display_data"
    },
    {
     "name": "stdout",
     "output_type": "stream",
     "text": [
      "\n",
      "acc: 0.21702838063439064, precision: 0.07484407484407485, recall: 0.6, f1: 0.13308687615526804\n"
     ]
    },
    {
     "data": {
      "application/vnd.jupyter.widget-view+json": {
       "model_id": "27dd4e262b8e4fe7a84de5ad79ee8f9d",
       "version_major": 2,
       "version_minor": 0
      },
      "text/plain": [
       "HBox(children=(FloatProgress(value=0.0, description='Epoches', max=1.0, style=ProgressStyle(description_width=…"
      ]
     },
     "metadata": {},
     "output_type": "display_data"
    },
    {
     "data": {
      "application/vnd.jupyter.widget-view+json": {
       "model_id": "3398cb1826d74d2ea7f59e75bd9b09da",
       "version_major": 2,
       "version_minor": 0
      },
      "text/plain": [
       "HBox(children=(FloatProgress(value=0.0, description='Training 0', max=1797.0, style=ProgressStyle(description_…"
      ]
     },
     "metadata": {},
     "output_type": "display_data"
    },
    {
     "name": "stdout",
     "output_type": "stream",
     "text": [
      "\n",
      "Errors = 1243 for accuracy of = 0.3082915971062883\n",
      "\n"
     ]
    },
    {
     "data": {
      "application/vnd.jupyter.widget-view+json": {
       "model_id": "750540b3dcc34cb280cbe2f28a106892",
       "version_major": 2,
       "version_minor": 0
      },
      "text/plain": [
       "HBox(children=(FloatProgress(value=0.0, description='Predicting', max=1797.0, style=ProgressStyle(description_…"
      ]
     },
     "metadata": {},
     "output_type": "display_data"
    },
    {
     "name": "stdout",
     "output_type": "stream",
     "text": [
      "\n",
      "acc: 0.41958820255982193, precision: 0.13151152860802734, recall: 0.8555555555555555, f1: 0.22797927461139897\n"
     ]
    }
   ],
   "source": [
    "Q = 6\n",
    "test_threshold = .35\n",
    "rs = 0\n",
    "while rs < 0.80:\n",
    "    w, m, weights = fit(qubits = Q, X_train = X_train[:], Y_train = Y_train[:], negative_class = number_negative_class, positive_class = number_positive_class, epochs = 1, shots = 1024, threshold = 0.35, Ip = .8, In = .1, bias = 0.0)\n",
    "    classification, readouts = predict(qubits = Q, X_test = X_test, negative_class = number_negative_class, positive_class = number_positive_class, shots = 1024, threshold = test_threshold, w = weights[0], bias = 0.0)\n",
    "    acc = accuracy_score(Y_test, classification)\n",
    "    ps = precision_score(Y_test, classification, average = 'binary', pos_label = number_negative_class)\n",
    "    rs = recall_score(Y_test, classification, average = 'binary', pos_label = number_negative_class)\n",
    "    f1s = f1_score(Y_test, classification, average = 'binary', pos_label = number_negative_class)\n",
    "    print(f'acc: {acc}, precision: {ps}, recall: {rs}, f1: {f1s}')"
   ]
  },
  {
   "cell_type": "code",
   "execution_count": 131,
   "metadata": {
    "ExecuteTime": {
     "end_time": "2020-09-13T03:15:58.018195Z",
     "start_time": "2020-09-13T03:15:15.145326Z"
    },
    "collapsed": true
   },
   "outputs": [
    {
     "data": {
      "application/vnd.jupyter.widget-view+json": {
       "model_id": "a93de0399002485dbd98411e7db1a181",
       "version_major": 2,
       "version_minor": 0
      },
      "text/plain": [
       "HBox(children=(FloatProgress(value=0.0, description='Epoches', max=1.0, style=ProgressStyle(description_width=…"
      ]
     },
     "metadata": {},
     "output_type": "display_data"
    },
    {
     "data": {
      "application/vnd.jupyter.widget-view+json": {
       "model_id": "82a392cf04f54513852a1fecbf6eb57d",
       "version_major": 2,
       "version_minor": 0
      },
      "text/plain": [
       "HBox(children=(FloatProgress(value=0.0, description='Training 0', max=1797.0, style=ProgressStyle(description_…"
      ]
     },
     "metadata": {},
     "output_type": "display_data"
    },
    {
     "name": "stdout",
     "output_type": "stream",
     "text": [
      "Coincide in 34 and change 27 bits\n",
      "Coincide in 20 and change 16 bits\n",
      "Coincide in 19 and change 15 bits\n",
      "Coincide in 15 and change 12 bits\n",
      "Coincide in 16 and change 12 bits\n",
      "Coincide in 14 and change 11 bits\n",
      "Coincide in 23 and change 18 bits\n",
      "Coincide in 20 and change 16 bits\n",
      "Coincide in 15 and change 12 bits\n",
      "Coincide in 15 and change 12 bits\n",
      "Coincide in 19 and change 15 bits\n",
      "Coincide in 17 and change 13 bits\n",
      "Coincide in 20 and change 16 bits\n",
      "Coincide in 19 and change 15 bits\n",
      "Coincide in 20 and change 16 bits\n",
      "Coincide in 19 and change 15 bits\n",
      "Coincide in 17 and change 13 bits\n",
      "Coincide in 18 and change 14 bits\n",
      "Coincide in 19 and change 15 bits\n",
      "Coincide in 15 and change 12 bits\n",
      "Coincide in 19 and change 15 bits\n",
      "Coincide in 18 and change 14 bits\n",
      "Coincide in 16 and change 12 bits\n",
      "Coincide in 17 and change 13 bits\n",
      "Coincide in 17 and change 13 bits\n",
      "Coincide in 17 and change 13 bits\n",
      "Coincide in 18 and change 14 bits\n",
      "Coincide in 17 and change 13 bits\n",
      "Coincide in 20 and change 16 bits\n",
      "Coincide in 15 and change 12 bits\n",
      "Coincide in 18 and change 14 bits\n",
      "Coincide in 15 and change 12 bits\n",
      "Coincide in 16 and change 12 bits\n",
      "Coincide in 20 and change 16 bits\n",
      "Coincide in 15 and change 12 bits\n",
      "Coincide in 17 and change 13 bits\n",
      "Coincide in 18 and change 14 bits\n",
      "Coincide in 19 and change 15 bits\n",
      "Coincide in 17 and change 13 bits\n",
      "Coincide in 15 and change 12 bits\n",
      "Coincide in 14 and change 11 bits\n",
      "Coincide in 17 and change 13 bits\n",
      "Coincide in 21 and change 16 bits\n",
      "Coincide in 18 and change 14 bits\n",
      "Coincide in 16 and change 12 bits\n",
      "Coincide in 20 and change 16 bits\n",
      "Coincide in 19 and change 15 bits\n",
      "Coincide in 14 and change 11 bits\n",
      "Coincide in 18 and change 14 bits\n",
      "Coincide in 21 and change 16 bits\n",
      "Coincide in 14 and change 11 bits\n",
      "Coincide in 18 and change 14 bits\n",
      "Coincide in 14 and change 11 bits\n",
      "Coincide in 24 and change 19 bits\n",
      "Coincide in 17 and change 13 bits\n",
      "Coincide in 13 and change 1 bits\n",
      "Coincide in 14 and change 11 bits\n",
      "Coincide in 22 and change 17 bits\n",
      "Coincide in 17 and change 13 bits\n",
      "Coincide in 20 and change 16 bits\n",
      "Coincide in 18 and change 14 bits\n",
      "Coincide in 17 and change 13 bits\n",
      "Coincide in 20 and change 16 bits\n",
      "Coincide in 17 and change 13 bits\n",
      "Coincide in 14 and change 11 bits\n",
      "Coincide in 19 and change 15 bits\n",
      "Coincide in 20 and change 16 bits\n",
      "Coincide in 14 and change 11 bits\n",
      "Coincide in 14 and change 11 bits\n",
      "Coincide in 16 and change 12 bits\n",
      "Coincide in 15 and change 12 bits\n",
      "Coincide in 16 and change 12 bits\n",
      "Coincide in 25 and change 20 bits\n",
      "Coincide in 19 and change 15 bits\n",
      "Coincide in 18 and change 14 bits\n",
      "Coincide in 14 and change 11 bits\n",
      "Coincide in 14 and change 11 bits\n",
      "Coincide in 20 and change 16 bits\n",
      "Coincide in 13 and change 10 bits\n",
      "Coincide in 18 and change 14 bits\n",
      "Coincide in 15 and change 12 bits\n",
      "Coincide in 17 and change 13 bits\n",
      "Coincide in 15 and change 12 bits\n",
      "Coincide in 19 and change 15 bits\n",
      "Coincide in 16 and change 12 bits\n",
      "Coincide in 21 and change 16 bits\n",
      "Coincide in 16 and change 12 bits\n",
      "Coincide in 11 and change 1 bits\n",
      "Coincide in 16 and change 12 bits\n",
      "Coincide in 20 and change 16 bits\n",
      "Coincide in 25 and change 20 bits\n",
      "Coincide in 16 and change 12 bits\n",
      "Coincide in 24 and change 19 bits\n",
      "Coincide in 19 and change 15 bits\n",
      "Coincide in 20 and change 16 bits\n",
      "Coincide in 15 and change 12 bits\n",
      "Coincide in 17 and change 13 bits\n",
      "Coincide in 24 and change 19 bits\n",
      "Coincide in 19 and change 15 bits\n",
      "Coincide in 20 and change 16 bits\n",
      "Coincide in 18 and change 14 bits\n",
      "Coincide in 15 and change 12 bits\n",
      "Coincide in 16 and change 12 bits\n",
      "Coincide in 13 and change 10 bits\n",
      "Coincide in 15 and change 12 bits\n",
      "Coincide in 18 and change 14 bits\n",
      "Coincide in 15 and change 12 bits\n",
      "Coincide in 24 and change 19 bits\n",
      "Coincide in 20 and change 16 bits\n",
      "Coincide in 21 and change 16 bits\n",
      "Coincide in 21 and change 16 bits\n",
      "Coincide in 18 and change 14 bits\n",
      "Coincide in 20 and change 16 bits\n",
      "Coincide in 18 and change 14 bits\n",
      "Coincide in 15 and change 12 bits\n",
      "Coincide in 24 and change 19 bits\n",
      "Coincide in 19 and change 15 bits\n",
      "Coincide in 15 and change 12 bits\n",
      "Coincide in 14 and change 11 bits\n",
      "Coincide in 17 and change 13 bits\n",
      "Coincide in 14 and change 11 bits\n",
      "Coincide in 15 and change 12 bits\n",
      "Coincide in 23 and change 18 bits\n",
      "Coincide in 14 and change 11 bits\n",
      "Coincide in 16 and change 12 bits\n",
      "Coincide in 16 and change 12 bits\n",
      "Coincide in 14 and change 11 bits\n",
      "Coincide in 22 and change 17 bits\n",
      "Coincide in 19 and change 15 bits\n",
      "Coincide in 17 and change 13 bits\n",
      "Coincide in 15 and change 12 bits\n",
      "Coincide in 18 and change 14 bits\n",
      "Coincide in 14 and change 11 bits\n",
      "Coincide in 23 and change 18 bits\n",
      "Coincide in 19 and change 15 bits\n",
      "Coincide in 19 and change 15 bits\n",
      "Coincide in 19 and change 15 bits\n",
      "Coincide in 15 and change 12 bits\n",
      "Coincide in 18 and change 14 bits\n",
      "Coincide in 15 and change 12 bits\n",
      "Coincide in 22 and change 17 bits\n",
      "Coincide in 19 and change 15 bits\n",
      "Coincide in 16 and change 12 bits\n",
      "Coincide in 21 and change 16 bits\n",
      "Coincide in 15 and change 12 bits\n",
      "Coincide in 14 and change 11 bits\n",
      "Coincide in 15 and change 12 bits\n",
      "Coincide in 14 and change 11 bits\n",
      "Coincide in 15 and change 12 bits\n",
      "Coincide in 18 and change 14 bits\n",
      "Coincide in 20 and change 16 bits\n",
      "Coincide in 16 and change 12 bits\n",
      "Coincide in 22 and change 17 bits\n",
      "Coincide in 14 and change 11 bits\n",
      "Coincide in 20 and change 16 bits\n",
      "Coincide in 18 and change 14 bits\n",
      "Coincide in 24 and change 19 bits\n",
      "Coincide in 16 and change 12 bits\n",
      "Coincide in 15 and change 12 bits\n",
      "Coincide in 24 and change 19 bits\n",
      "Coincide in 18 and change 14 bits\n",
      "Coincide in 17 and change 13 bits\n",
      "Coincide in 18 and change 14 bits\n",
      "Coincide in 14 and change 11 bits\n",
      "Coincide in 18 and change 14 bits\n",
      "Coincide in 13 and change 10 bits\n",
      "Coincide in 18 and change 14 bits\n",
      "Coincide in 15 and change 12 bits\n",
      "Coincide in 19 and change 15 bits\n",
      "Coincide in 12 and change 1 bits\n",
      "Coincide in 13 and change 10 bits\n",
      "Coincide in 13 and change 10 bits\n",
      "Coincide in 14 and change 11 bits\n",
      "Coincide in 20 and change 16 bits\n",
      "Coincide in 15 and change 12 bits\n",
      "Coincide in 17 and change 13 bits\n",
      "Coincide in 24 and change 19 bits\n",
      "Coincide in 16 and change 12 bits\n",
      "Coincide in 22 and change 17 bits\n",
      "Coincide in 19 and change 15 bits\n",
      "Coincide in 21 and change 16 bits\n",
      "Coincide in 17 and change 13 bits\n",
      "Coincide in 15 and change 12 bits\n",
      "Coincide in 20 and change 16 bits\n",
      "Coincide in 17 and change 13 bits\n",
      "Coincide in 14 and change 11 bits\n",
      "Coincide in 13 and change 10 bits\n",
      "Coincide in 17 and change 13 bits\n",
      "Coincide in 16 and change 12 bits\n",
      "Coincide in 23 and change 18 bits\n",
      "Coincide in 16 and change 12 bits\n",
      "Coincide in 15 and change 12 bits\n",
      "Coincide in 22 and change 17 bits\n",
      "Coincide in 18 and change 14 bits\n",
      "Coincide in 15 and change 12 bits\n",
      "Coincide in 19 and change 15 bits\n",
      "Coincide in 19 and change 15 bits\n",
      "Coincide in 15 and change 12 bits\n",
      "Coincide in 15 and change 12 bits\n",
      "Coincide in 15 and change 12 bits\n",
      "Coincide in 22 and change 17 bits\n",
      "Coincide in 17 and change 13 bits\n",
      "Coincide in 20 and change 16 bits\n",
      "Coincide in 14 and change 11 bits\n",
      "Coincide in 14 and change 11 bits\n",
      "Coincide in 17 and change 13 bits\n",
      "Coincide in 16 and change 12 bits\n",
      "Coincide in 20 and change 16 bits\n",
      "Coincide in 16 and change 12 bits\n",
      "Coincide in 16 and change 12 bits\n",
      "Coincide in 18 and change 14 bits\n",
      "Coincide in 21 and change 16 bits\n",
      "Coincide in 19 and change 15 bits\n",
      "Coincide in 15 and change 12 bits\n",
      "Coincide in 20 and change 16 bits\n",
      "Coincide in 18 and change 14 bits\n",
      "Coincide in 27 and change 21 bits\n",
      "Coincide in 16 and change 12 bits\n",
      "Coincide in 17 and change 13 bits\n",
      "Coincide in 17 and change 13 bits\n",
      "Coincide in 14 and change 11 bits\n",
      "Coincide in 17 and change 13 bits\n",
      "Coincide in 17 and change 13 bits\n",
      "Coincide in 18 and change 14 bits\n",
      "Coincide in 15 and change 12 bits\n",
      "Coincide in 17 and change 13 bits\n",
      "Coincide in 15 and change 12 bits\n",
      "Coincide in 15 and change 12 bits\n",
      "Coincide in 17 and change 13 bits\n",
      "Coincide in 17 and change 13 bits\n",
      "Coincide in 20 and change 16 bits\n",
      "Coincide in 18 and change 14 bits\n",
      "Coincide in 19 and change 15 bits\n",
      "Coincide in 18 and change 14 bits\n",
      "Coincide in 18 and change 14 bits\n",
      "Coincide in 17 and change 13 bits\n",
      "Coincide in 15 and change 12 bits\n",
      "Coincide in 21 and change 16 bits\n",
      "Coincide in 15 and change 12 bits\n",
      "Coincide in 16 and change 12 bits\n",
      "Coincide in 20 and change 16 bits\n",
      "Coincide in 14 and change 11 bits\n",
      "Coincide in 17 and change 13 bits\n",
      "Coincide in 20 and change 16 bits\n",
      "Coincide in 14 and change 11 bits\n",
      "Coincide in 15 and change 12 bits\n"
     ]
    },
    {
     "name": "stdout",
     "output_type": "stream",
     "text": [
      "Coincide in 17 and change 13 bits\n",
      "Coincide in 16 and change 12 bits\n",
      "Coincide in 16 and change 12 bits\n",
      "Coincide in 16 and change 12 bits\n",
      "Coincide in 18 and change 14 bits\n",
      "Coincide in 20 and change 16 bits\n",
      "Coincide in 19 and change 15 bits\n",
      "Coincide in 17 and change 13 bits\n",
      "Coincide in 21 and change 16 bits\n",
      "Coincide in 16 and change 12 bits\n",
      "Coincide in 19 and change 15 bits\n",
      "Coincide in 17 and change 13 bits\n",
      "Coincide in 14 and change 11 bits\n",
      "Coincide in 18 and change 14 bits\n",
      "Coincide in 14 and change 11 bits\n",
      "Coincide in 16 and change 12 bits\n",
      "Coincide in 18 and change 14 bits\n",
      "Coincide in 20 and change 16 bits\n",
      "Coincide in 23 and change 18 bits\n",
      "Coincide in 19 and change 15 bits\n",
      "Coincide in 15 and change 12 bits\n",
      "Coincide in 17 and change 13 bits\n",
      "Coincide in 14 and change 11 bits\n",
      "Coincide in 9 and change 0 bits\n",
      "Coincide in 13 and change 10 bits\n",
      "Coincide in 16 and change 12 bits\n",
      "Coincide in 16 and change 12 bits\n",
      "Coincide in 14 and change 11 bits\n",
      "Coincide in 15 and change 12 bits\n",
      "Coincide in 18 and change 14 bits\n",
      "Coincide in 17 and change 13 bits\n",
      "Coincide in 17 and change 13 bits\n",
      "Coincide in 15 and change 12 bits\n",
      "Coincide in 15 and change 12 bits\n",
      "Coincide in 22 and change 17 bits\n",
      "Coincide in 18 and change 14 bits\n",
      "Coincide in 20 and change 16 bits\n",
      "Coincide in 18 and change 14 bits\n",
      "Coincide in 13 and change 10 bits\n",
      "Coincide in 12 and change 1 bits\n",
      "Coincide in 16 and change 12 bits\n",
      "Coincide in 17 and change 13 bits\n",
      "Coincide in 12 and change 1 bits\n",
      "Coincide in 15 and change 12 bits\n",
      "Coincide in 19 and change 15 bits\n",
      "Coincide in 17 and change 13 bits\n",
      "Coincide in 18 and change 14 bits\n",
      "Coincide in 12 and change 1 bits\n",
      "Coincide in 12 and change 1 bits\n",
      "Coincide in 15 and change 12 bits\n",
      "Coincide in 17 and change 13 bits\n",
      "Coincide in 17 and change 13 bits\n",
      "Coincide in 19 and change 15 bits\n",
      "Coincide in 16 and change 12 bits\n",
      "Coincide in 20 and change 16 bits\n",
      "Coincide in 15 and change 12 bits\n",
      "Coincide in 16 and change 12 bits\n",
      "Coincide in 13 and change 10 bits\n",
      "Coincide in 16 and change 12 bits\n",
      "Coincide in 14 and change 11 bits\n",
      "Coincide in 18 and change 14 bits\n",
      "Coincide in 17 and change 13 bits\n",
      "Coincide in 17 and change 13 bits\n",
      "Coincide in 12 and change 1 bits\n",
      "Coincide in 16 and change 12 bits\n",
      "Coincide in 20 and change 16 bits\n",
      "Coincide in 17 and change 13 bits\n",
      "Coincide in 13 and change 10 bits\n",
      "Coincide in 16 and change 12 bits\n",
      "Coincide in 18 and change 14 bits\n",
      "Coincide in 25 and change 20 bits\n",
      "Coincide in 27 and change 21 bits\n",
      "Coincide in 14 and change 11 bits\n",
      "Coincide in 17 and change 13 bits\n",
      "Coincide in 16 and change 12 bits\n",
      "Coincide in 13 and change 10 bits\n",
      "Coincide in 14 and change 11 bits\n",
      "Coincide in 19 and change 15 bits\n",
      "Coincide in 15 and change 12 bits\n",
      "Coincide in 17 and change 13 bits\n",
      "Coincide in 24 and change 19 bits\n",
      "Coincide in 19 and change 15 bits\n",
      "Coincide in 13 and change 10 bits\n",
      "Coincide in 13 and change 1 bits\n",
      "Coincide in 19 and change 15 bits\n",
      "Coincide in 20 and change 16 bits\n",
      "Coincide in 16 and change 12 bits\n",
      "Coincide in 15 and change 12 bits\n",
      "Coincide in 17 and change 13 bits\n",
      "Coincide in 17 and change 13 bits\n",
      "Coincide in 17 and change 13 bits\n",
      "Coincide in 19 and change 15 bits\n",
      "Coincide in 19 and change 15 bits\n",
      "Coincide in 17 and change 13 bits\n",
      "Coincide in 16 and change 12 bits\n",
      "Coincide in 16 and change 12 bits\n",
      "Coincide in 17 and change 13 bits\n",
      "Coincide in 22 and change 17 bits\n",
      "Coincide in 20 and change 16 bits\n",
      "Coincide in 18 and change 14 bits\n",
      "Coincide in 14 and change 11 bits\n",
      "Coincide in 21 and change 16 bits\n",
      "Coincide in 10 and change 1 bits\n",
      "Coincide in 14 and change 11 bits\n",
      "Coincide in 8 and change 0 bits\n",
      "Coincide in 17 and change 13 bits\n",
      "Coincide in 16 and change 12 bits\n",
      "Coincide in 14 and change 11 bits\n",
      "Coincide in 18 and change 14 bits\n",
      "Coincide in 20 and change 16 bits\n",
      "Coincide in 18 and change 14 bits\n",
      "Coincide in 19 and change 15 bits\n",
      "Coincide in 18 and change 14 bits\n",
      "Coincide in 16 and change 12 bits\n",
      "Coincide in 8 and change 0 bits\n",
      "Coincide in 15 and change 12 bits\n",
      "Coincide in 15 and change 12 bits\n",
      "Coincide in 17 and change 13 bits\n",
      "Coincide in 19 and change 15 bits\n",
      "Coincide in 16 and change 12 bits\n",
      "Coincide in 18 and change 14 bits\n",
      "Coincide in 17 and change 13 bits\n",
      "Coincide in 17 and change 13 bits\n",
      "Coincide in 15 and change 12 bits\n",
      "Coincide in 22 and change 17 bits\n",
      "Coincide in 19 and change 15 bits\n",
      "Coincide in 14 and change 11 bits\n",
      "Coincide in 23 and change 18 bits\n",
      "Coincide in 16 and change 12 bits\n",
      "Coincide in 15 and change 12 bits\n",
      "Coincide in 17 and change 13 bits\n",
      "Coincide in 15 and change 12 bits\n",
      "Coincide in 15 and change 12 bits\n",
      "Coincide in 13 and change 1 bits\n",
      "Coincide in 15 and change 12 bits\n",
      "Coincide in 14 and change 11 bits\n",
      "Coincide in 17 and change 13 bits\n",
      "Coincide in 19 and change 15 bits\n",
      "Coincide in 15 and change 12 bits\n",
      "Coincide in 18 and change 14 bits\n",
      "Coincide in 15 and change 12 bits\n",
      "Coincide in 19 and change 15 bits\n",
      "Coincide in 20 and change 16 bits\n",
      "Coincide in 17 and change 13 bits\n",
      "Coincide in 18 and change 14 bits\n",
      "Coincide in 17 and change 13 bits\n",
      "Coincide in 17 and change 13 bits\n",
      "Coincide in 14 and change 11 bits\n",
      "Coincide in 15 and change 12 bits\n",
      "Coincide in 19 and change 15 bits\n",
      "Coincide in 18 and change 14 bits\n",
      "Coincide in 13 and change 10 bits\n",
      "Coincide in 18 and change 14 bits\n",
      "Coincide in 18 and change 14 bits\n",
      "Coincide in 14 and change 11 bits\n",
      "Coincide in 14 and change 11 bits\n",
      "Coincide in 20 and change 16 bits\n",
      "Coincide in 21 and change 16 bits\n",
      "Coincide in 16 and change 12 bits\n",
      "Coincide in 14 and change 11 bits\n",
      "Coincide in 19 and change 15 bits\n",
      "Coincide in 20 and change 16 bits\n",
      "Coincide in 20 and change 16 bits\n",
      "Coincide in 16 and change 12 bits\n",
      "Coincide in 17 and change 13 bits\n",
      "Coincide in 16 and change 12 bits\n",
      "Coincide in 17 and change 13 bits\n",
      "Coincide in 18 and change 14 bits\n",
      "Coincide in 19 and change 15 bits\n",
      "Coincide in 15 and change 12 bits\n",
      "Coincide in 14 and change 11 bits\n",
      "Coincide in 16 and change 12 bits\n",
      "Coincide in 19 and change 15 bits\n",
      "Coincide in 16 and change 12 bits\n",
      "Coincide in 20 and change 16 bits\n",
      "Coincide in 18 and change 14 bits\n",
      "Coincide in 19 and change 15 bits\n",
      "Coincide in 17 and change 13 bits\n",
      "Coincide in 17 and change 13 bits\n",
      "Coincide in 17 and change 13 bits\n",
      "Coincide in 20 and change 16 bits\n",
      "Coincide in 19 and change 15 bits\n",
      "Coincide in 16 and change 12 bits\n",
      "Coincide in 19 and change 15 bits\n",
      "Coincide in 21 and change 16 bits\n",
      "Coincide in 21 and change 16 bits\n",
      "Coincide in 22 and change 17 bits\n",
      "Coincide in 18 and change 14 bits\n",
      "Coincide in 20 and change 16 bits\n",
      "Coincide in 17 and change 13 bits\n",
      "Coincide in 16 and change 12 bits\n",
      "Coincide in 19 and change 15 bits\n",
      "Coincide in 16 and change 12 bits\n",
      "Coincide in 15 and change 12 bits\n",
      "Coincide in 19 and change 15 bits\n",
      "Coincide in 20 and change 16 bits\n",
      "Coincide in 16 and change 12 bits\n",
      "Coincide in 12 and change 1 bits\n",
      "Coincide in 19 and change 15 bits\n",
      "Coincide in 15 and change 12 bits\n",
      "Coincide in 15 and change 12 bits\n",
      "Coincide in 15 and change 12 bits\n",
      "Coincide in 16 and change 12 bits\n",
      "Coincide in 14 and change 11 bits\n",
      "Coincide in 15 and change 12 bits\n",
      "Coincide in 15 and change 12 bits\n",
      "Coincide in 18 and change 14 bits\n",
      "Coincide in 20 and change 16 bits\n",
      "Coincide in 18 and change 14 bits\n",
      "Coincide in 17 and change 13 bits\n",
      "Coincide in 15 and change 12 bits\n",
      "Coincide in 20 and change 16 bits\n",
      "Coincide in 16 and change 12 bits\n",
      "Coincide in 15 and change 12 bits\n",
      "Coincide in 20 and change 16 bits\n",
      "Coincide in 15 and change 12 bits\n",
      "Coincide in 18 and change 14 bits\n",
      "Coincide in 21 and change 16 bits\n",
      "Coincide in 20 and change 16 bits\n",
      "Coincide in 15 and change 12 bits\n",
      "Coincide in 20 and change 16 bits\n",
      "Coincide in 22 and change 17 bits\n",
      "Coincide in 21 and change 16 bits\n",
      "Coincide in 28 and change 22 bits\n",
      "Coincide in 24 and change 19 bits\n",
      "Coincide in 16 and change 12 bits\n",
      "Coincide in 17 and change 13 bits\n",
      "Coincide in 17 and change 13 bits\n",
      "Coincide in 19 and change 15 bits\n",
      "Coincide in 19 and change 15 bits\n",
      "Coincide in 20 and change 16 bits\n",
      "Coincide in 17 and change 13 bits\n",
      "Coincide in 17 and change 13 bits\n",
      "Coincide in 16 and change 12 bits\n",
      "Coincide in 16 and change 12 bits\n",
      "Coincide in 13 and change 10 bits\n",
      "Coincide in 17 and change 13 bits\n",
      "Coincide in 17 and change 13 bits\n",
      "Coincide in 15 and change 12 bits\n",
      "Coincide in 14 and change 11 bits\n",
      "Coincide in 14 and change 11 bits\n",
      "Coincide in 26 and change 20 bits\n",
      "Coincide in 19 and change 15 bits\n"
     ]
    },
    {
     "name": "stdout",
     "output_type": "stream",
     "text": [
      "Coincide in 13 and change 10 bits\n",
      "Coincide in 19 and change 15 bits\n",
      "Coincide in 16 and change 12 bits\n",
      "Coincide in 17 and change 13 bits\n",
      "Coincide in 16 and change 12 bits\n",
      "Coincide in 20 and change 16 bits\n",
      "Coincide in 18 and change 14 bits\n",
      "Coincide in 15 and change 12 bits\n",
      "Coincide in 9 and change 0 bits\n",
      "Coincide in 9 and change 0 bits\n",
      "Coincide in 13 and change 10 bits\n",
      "Coincide in 19 and change 15 bits\n",
      "Coincide in 18 and change 14 bits\n",
      "Coincide in 15 and change 12 bits\n",
      "Coincide in 26 and change 20 bits\n",
      "Coincide in 20 and change 16 bits\n",
      "Coincide in 18 and change 14 bits\n",
      "Coincide in 23 and change 18 bits\n",
      "Coincide in 23 and change 18 bits\n",
      "Coincide in 18 and change 14 bits\n",
      "Coincide in 16 and change 12 bits\n",
      "Coincide in 20 and change 16 bits\n",
      "Coincide in 16 and change 12 bits\n",
      "Coincide in 19 and change 15 bits\n",
      "Coincide in 18 and change 14 bits\n",
      "Coincide in 16 and change 12 bits\n",
      "Coincide in 17 and change 13 bits\n",
      "Coincide in 12 and change 1 bits\n",
      "Coincide in 17 and change 13 bits\n",
      "Coincide in 18 and change 14 bits\n",
      "Coincide in 17 and change 13 bits\n",
      "Coincide in 19 and change 15 bits\n",
      "Coincide in 15 and change 12 bits\n",
      "Coincide in 14 and change 11 bits\n",
      "Coincide in 18 and change 14 bits\n",
      "Coincide in 21 and change 16 bits\n",
      "Coincide in 18 and change 14 bits\n",
      "Coincide in 19 and change 15 bits\n",
      "Coincide in 23 and change 18 bits\n",
      "Coincide in 21 and change 16 bits\n",
      "Coincide in 15 and change 12 bits\n",
      "Coincide in 20 and change 16 bits\n",
      "Coincide in 18 and change 14 bits\n",
      "Coincide in 16 and change 12 bits\n",
      "Coincide in 22 and change 17 bits\n",
      "Coincide in 14 and change 11 bits\n",
      "Coincide in 18 and change 14 bits\n",
      "Coincide in 16 and change 12 bits\n",
      "Coincide in 19 and change 15 bits\n",
      "Coincide in 17 and change 13 bits\n",
      "Coincide in 15 and change 12 bits\n",
      "Coincide in 12 and change 1 bits\n",
      "Coincide in 17 and change 13 bits\n",
      "Coincide in 19 and change 15 bits\n",
      "Coincide in 15 and change 12 bits\n",
      "Coincide in 21 and change 16 bits\n",
      "Coincide in 20 and change 16 bits\n",
      "Coincide in 16 and change 12 bits\n",
      "Coincide in 16 and change 12 bits\n",
      "Coincide in 13 and change 10 bits\n",
      "Coincide in 20 and change 16 bits\n",
      "Coincide in 16 and change 12 bits\n",
      "Coincide in 17 and change 13 bits\n",
      "Coincide in 15 and change 12 bits\n",
      "Coincide in 17 and change 13 bits\n",
      "Coincide in 18 and change 14 bits\n",
      "Coincide in 17 and change 13 bits\n",
      "Coincide in 12 and change 1 bits\n",
      "Coincide in 17 and change 13 bits\n",
      "Coincide in 16 and change 12 bits\n",
      "Coincide in 20 and change 16 bits\n",
      "Coincide in 19 and change 15 bits\n",
      "Coincide in 17 and change 13 bits\n",
      "Coincide in 16 and change 12 bits\n",
      "Coincide in 16 and change 12 bits\n",
      "Coincide in 20 and change 16 bits\n",
      "Coincide in 16 and change 12 bits\n",
      "Coincide in 20 and change 16 bits\n",
      "Coincide in 16 and change 12 bits\n",
      "Coincide in 18 and change 14 bits\n",
      "Coincide in 14 and change 11 bits\n",
      "Coincide in 24 and change 19 bits\n",
      "Coincide in 18 and change 14 bits\n",
      "Coincide in 20 and change 16 bits\n",
      "Coincide in 17 and change 13 bits\n",
      "Coincide in 22 and change 17 bits\n",
      "Coincide in 15 and change 12 bits\n",
      "Coincide in 17 and change 13 bits\n",
      "Coincide in 19 and change 15 bits\n",
      "Coincide in 15 and change 12 bits\n",
      "Coincide in 14 and change 11 bits\n",
      "Coincide in 15 and change 12 bits\n",
      "Coincide in 25 and change 20 bits\n",
      "Coincide in 19 and change 15 bits\n",
      "Coincide in 18 and change 14 bits\n",
      "Coincide in 14 and change 11 bits\n",
      "Coincide in 15 and change 12 bits\n",
      "Coincide in 17 and change 13 bits\n",
      "Coincide in 16 and change 12 bits\n",
      "Coincide in 21 and change 16 bits\n",
      "Coincide in 17 and change 13 bits\n",
      "Coincide in 14 and change 11 bits\n",
      "Coincide in 19 and change 15 bits\n",
      "Coincide in 15 and change 12 bits\n",
      "Coincide in 18 and change 14 bits\n",
      "Coincide in 15 and change 12 bits\n",
      "Coincide in 18 and change 14 bits\n",
      "Coincide in 20 and change 16 bits\n",
      "Coincide in 20 and change 16 bits\n",
      "Coincide in 12 and change 1 bits\n",
      "Coincide in 13 and change 10 bits\n",
      "Coincide in 13 and change 10 bits\n",
      "Coincide in 15 and change 12 bits\n",
      "Coincide in 14 and change 11 bits\n",
      "Coincide in 15 and change 12 bits\n",
      "Coincide in 22 and change 17 bits\n",
      "Coincide in 14 and change 11 bits\n",
      "Coincide in 18 and change 14 bits\n",
      "Coincide in 15 and change 12 bits\n",
      "Coincide in 14 and change 11 bits\n",
      "Coincide in 14 and change 11 bits\n",
      "Coincide in 19 and change 15 bits\n",
      "Coincide in 19 and change 15 bits\n",
      "Coincide in 13 and change 10 bits\n",
      "Coincide in 18 and change 14 bits\n",
      "Coincide in 18 and change 14 bits\n",
      "Coincide in 15 and change 12 bits\n",
      "Coincide in 11 and change 1 bits\n",
      "Coincide in 14 and change 11 bits\n",
      "Coincide in 14 and change 11 bits\n",
      "Coincide in 15 and change 12 bits\n",
      "Coincide in 16 and change 12 bits\n",
      "Coincide in 19 and change 15 bits\n",
      "Coincide in 19 and change 15 bits\n",
      "Coincide in 18 and change 14 bits\n",
      "Coincide in 15 and change 12 bits\n",
      "Coincide in 23 and change 18 bits\n",
      "Coincide in 22 and change 17 bits\n",
      "Coincide in 21 and change 16 bits\n",
      "Coincide in 19 and change 15 bits\n",
      "Coincide in 15 and change 12 bits\n",
      "Coincide in 14 and change 11 bits\n",
      "Coincide in 23 and change 18 bits\n",
      "Coincide in 21 and change 16 bits\n",
      "Coincide in 17 and change 13 bits\n",
      "Coincide in 16 and change 12 bits\n",
      "Coincide in 19 and change 15 bits\n",
      "Coincide in 10 and change 1 bits\n",
      "Coincide in 19 and change 15 bits\n",
      "Coincide in 17 and change 13 bits\n",
      "Coincide in 22 and change 17 bits\n",
      "Coincide in 26 and change 20 bits\n",
      "Coincide in 25 and change 20 bits\n",
      "Coincide in 13 and change 10 bits\n",
      "Coincide in 15 and change 12 bits\n",
      "Coincide in 18 and change 14 bits\n",
      "Coincide in 17 and change 13 bits\n",
      "Coincide in 13 and change 1 bits\n",
      "Coincide in 17 and change 13 bits\n",
      "Coincide in 16 and change 12 bits\n",
      "Coincide in 24 and change 19 bits\n",
      "Coincide in 21 and change 16 bits\n",
      "Coincide in 14 and change 11 bits\n",
      "Coincide in 17 and change 13 bits\n",
      "Coincide in 14 and change 11 bits\n",
      "Coincide in 14 and change 11 bits\n",
      "Coincide in 10 and change 1 bits\n",
      "Coincide in 16 and change 12 bits\n",
      "Coincide in 16 and change 12 bits\n",
      "Coincide in 15 and change 12 bits\n",
      "Coincide in 19 and change 15 bits\n",
      "Coincide in 22 and change 17 bits\n",
      "Coincide in 14 and change 11 bits\n",
      "Coincide in 21 and change 16 bits\n",
      "Coincide in 16 and change 12 bits\n",
      "Coincide in 14 and change 11 bits\n",
      "Coincide in 13 and change 10 bits\n",
      "Coincide in 16 and change 12 bits\n",
      "Coincide in 15 and change 12 bits\n",
      "Coincide in 14 and change 11 bits\n",
      "Coincide in 13 and change 10 bits\n",
      "Coincide in 26 and change 20 bits\n",
      "Coincide in 16 and change 12 bits\n",
      "Coincide in 21 and change 16 bits\n",
      "Coincide in 24 and change 19 bits\n",
      "Coincide in 13 and change 10 bits\n",
      "Coincide in 17 and change 13 bits\n",
      "Coincide in 15 and change 12 bits\n",
      "Coincide in 16 and change 12 bits\n",
      "Coincide in 21 and change 16 bits\n",
      "Coincide in 15 and change 12 bits\n",
      "Coincide in 13 and change 10 bits\n",
      "Coincide in 13 and change 10 bits\n",
      "Coincide in 20 and change 16 bits\n",
      "Coincide in 17 and change 13 bits\n",
      "Coincide in 21 and change 16 bits\n",
      "Coincide in 15 and change 12 bits\n",
      "Coincide in 15 and change 12 bits\n",
      "Coincide in 25 and change 20 bits\n",
      "Coincide in 21 and change 16 bits\n",
      "Coincide in 16 and change 12 bits\n",
      "Coincide in 17 and change 13 bits\n",
      "Coincide in 18 and change 14 bits\n",
      "Coincide in 17 and change 13 bits\n",
      "Coincide in 15 and change 12 bits\n",
      "Coincide in 16 and change 12 bits\n",
      "Coincide in 18 and change 14 bits\n",
      "Coincide in 29 and change 23 bits\n",
      "Coincide in 23 and change 18 bits\n",
      "Coincide in 20 and change 16 bits\n",
      "Coincide in 18 and change 14 bits\n",
      "Coincide in 22 and change 17 bits\n",
      "Coincide in 14 and change 11 bits\n",
      "Coincide in 19 and change 15 bits\n",
      "Coincide in 19 and change 15 bits\n",
      "Coincide in 18 and change 14 bits\n",
      "Coincide in 17 and change 13 bits\n",
      "Coincide in 17 and change 13 bits\n",
      "Coincide in 15 and change 12 bits\n",
      "Coincide in 15 and change 12 bits\n",
      "Coincide in 20 and change 16 bits\n",
      "Coincide in 20 and change 16 bits\n",
      "Coincide in 18 and change 14 bits\n",
      "Coincide in 16 and change 12 bits\n",
      "Coincide in 14 and change 11 bits\n",
      "Coincide in 17 and change 13 bits\n",
      "Coincide in 19 and change 15 bits\n",
      "Coincide in 24 and change 19 bits\n",
      "Coincide in 19 and change 15 bits\n",
      "Coincide in 24 and change 19 bits\n",
      "Coincide in 24 and change 19 bits\n",
      "Coincide in 17 and change 13 bits\n",
      "Coincide in 18 and change 14 bits\n",
      "Coincide in 14 and change 11 bits\n",
      "Coincide in 17 and change 13 bits\n",
      "Coincide in 17 and change 13 bits\n",
      "Coincide in 13 and change 10 bits\n",
      "Coincide in 19 and change 15 bits\n",
      "Coincide in 22 and change 17 bits\n",
      "Coincide in 20 and change 16 bits\n",
      "Coincide in 17 and change 13 bits\n",
      "Coincide in 21 and change 16 bits\n",
      "Coincide in 21 and change 16 bits\n",
      "Coincide in 15 and change 12 bits\n",
      "Coincide in 19 and change 15 bits\n",
      "Coincide in 14 and change 11 bits\n",
      "Coincide in 14 and change 11 bits\n"
     ]
    },
    {
     "name": "stdout",
     "output_type": "stream",
     "text": [
      "Coincide in 23 and change 18 bits\n",
      "Coincide in 21 and change 16 bits\n",
      "Coincide in 15 and change 12 bits\n",
      "Coincide in 19 and change 15 bits\n",
      "Coincide in 16 and change 12 bits\n",
      "Coincide in 19 and change 15 bits\n",
      "Coincide in 17 and change 13 bits\n",
      "Coincide in 14 and change 11 bits\n",
      "Coincide in 16 and change 12 bits\n",
      "Coincide in 15 and change 12 bits\n",
      "Coincide in 19 and change 15 bits\n",
      "Coincide in 21 and change 16 bits\n",
      "Coincide in 17 and change 13 bits\n",
      "Coincide in 17 and change 13 bits\n",
      "Coincide in 16 and change 12 bits\n",
      "Coincide in 14 and change 11 bits\n",
      "Coincide in 8 and change 0 bits\n",
      "Coincide in 15 and change 12 bits\n",
      "Coincide in 16 and change 12 bits\n",
      "Coincide in 22 and change 17 bits\n",
      "Coincide in 16 and change 12 bits\n",
      "Coincide in 18 and change 14 bits\n",
      "Coincide in 15 and change 12 bits\n",
      "Coincide in 14 and change 11 bits\n",
      "Coincide in 17 and change 13 bits\n",
      "Coincide in 17 and change 13 bits\n",
      "Coincide in 18 and change 14 bits\n",
      "Coincide in 16 and change 12 bits\n",
      "Coincide in 14 and change 11 bits\n",
      "Coincide in 16 and change 12 bits\n",
      "Coincide in 16 and change 12 bits\n",
      "Coincide in 19 and change 15 bits\n",
      "Coincide in 14 and change 11 bits\n",
      "Coincide in 13 and change 10 bits\n",
      "Coincide in 21 and change 16 bits\n",
      "Coincide in 15 and change 12 bits\n",
      "Coincide in 13 and change 10 bits\n",
      "Coincide in 24 and change 19 bits\n",
      "Coincide in 16 and change 12 bits\n",
      "Coincide in 15 and change 12 bits\n",
      "Coincide in 18 and change 14 bits\n",
      "Coincide in 19 and change 15 bits\n",
      "Coincide in 13 and change 10 bits\n",
      "Coincide in 14 and change 11 bits\n",
      "Coincide in 16 and change 12 bits\n",
      "Coincide in 16 and change 12 bits\n",
      "Coincide in 15 and change 12 bits\n",
      "Coincide in 22 and change 17 bits\n",
      "Coincide in 24 and change 19 bits\n",
      "Coincide in 15 and change 12 bits\n",
      "Coincide in 13 and change 10 bits\n",
      "Coincide in 20 and change 16 bits\n",
      "Coincide in 16 and change 12 bits\n",
      "Coincide in 16 and change 12 bits\n",
      "Coincide in 21 and change 16 bits\n",
      "Coincide in 18 and change 14 bits\n",
      "Coincide in 20 and change 16 bits\n",
      "Coincide in 14 and change 11 bits\n",
      "Coincide in 14 and change 11 bits\n",
      "Coincide in 18 and change 14 bits\n",
      "Coincide in 18 and change 14 bits\n",
      "Coincide in 20 and change 16 bits\n",
      "Coincide in 21 and change 16 bits\n",
      "Coincide in 18 and change 14 bits\n",
      "Coincide in 16 and change 12 bits\n",
      "Coincide in 15 and change 12 bits\n",
      "Coincide in 17 and change 13 bits\n",
      "Coincide in 19 and change 15 bits\n",
      "Coincide in 16 and change 12 bits\n",
      "Coincide in 18 and change 14 bits\n",
      "Coincide in 17 and change 13 bits\n",
      "Coincide in 20 and change 16 bits\n",
      "Coincide in 17 and change 13 bits\n",
      "Coincide in 16 and change 12 bits\n",
      "Coincide in 14 and change 11 bits\n",
      "Coincide in 18 and change 14 bits\n",
      "Coincide in 15 and change 12 bits\n",
      "Coincide in 16 and change 12 bits\n",
      "Coincide in 15 and change 12 bits\n",
      "Coincide in 18 and change 14 bits\n",
      "Coincide in 18 and change 14 bits\n",
      "Coincide in 13 and change 10 bits\n",
      "Coincide in 18 and change 14 bits\n",
      "Coincide in 18 and change 14 bits\n",
      "Coincide in 21 and change 16 bits\n",
      "Coincide in 15 and change 12 bits\n",
      "Coincide in 14 and change 11 bits\n",
      "Coincide in 11 and change 1 bits\n",
      "Coincide in 17 and change 13 bits\n",
      "Coincide in 23 and change 18 bits\n",
      "Coincide in 17 and change 13 bits\n",
      "Coincide in 23 and change 18 bits\n",
      "Coincide in 16 and change 12 bits\n",
      "Coincide in 26 and change 20 bits\n",
      "Coincide in 17 and change 13 bits\n",
      "Coincide in 17 and change 13 bits\n",
      "Coincide in 22 and change 17 bits\n",
      "Coincide in 20 and change 16 bits\n",
      "Coincide in 14 and change 11 bits\n",
      "Coincide in 24 and change 19 bits\n",
      "Coincide in 17 and change 13 bits\n",
      "Coincide in 16 and change 12 bits\n",
      "Coincide in 15 and change 12 bits\n",
      "Coincide in 14 and change 11 bits\n",
      "Coincide in 21 and change 16 bits\n",
      "Coincide in 19 and change 15 bits\n",
      "Coincide in 19 and change 15 bits\n",
      "Coincide in 18 and change 14 bits\n",
      "Coincide in 21 and change 16 bits\n",
      "Coincide in 18 and change 14 bits\n",
      "Coincide in 19 and change 15 bits\n",
      "Coincide in 23 and change 18 bits\n",
      "Coincide in 18 and change 14 bits\n",
      "Coincide in 24 and change 19 bits\n",
      "Coincide in 13 and change 1 bits\n",
      "Coincide in 16 and change 12 bits\n",
      "Coincide in 13 and change 10 bits\n",
      "Coincide in 21 and change 16 bits\n",
      "Coincide in 20 and change 16 bits\n",
      "Coincide in 18 and change 14 bits\n",
      "Coincide in 16 and change 12 bits\n",
      "Coincide in 17 and change 13 bits\n",
      "Coincide in 17 and change 13 bits\n",
      "Coincide in 21 and change 16 bits\n",
      "Coincide in 19 and change 15 bits\n",
      "Coincide in 15 and change 12 bits\n",
      "Coincide in 17 and change 13 bits\n",
      "Coincide in 20 and change 16 bits\n",
      "Coincide in 14 and change 11 bits\n",
      "Coincide in 20 and change 16 bits\n",
      "Coincide in 16 and change 12 bits\n",
      "Coincide in 14 and change 11 bits\n",
      "Coincide in 15 and change 12 bits\n",
      "Coincide in 19 and change 15 bits\n",
      "Coincide in 18 and change 14 bits\n",
      "Coincide in 17 and change 13 bits\n",
      "Coincide in 26 and change 20 bits\n",
      "Coincide in 19 and change 15 bits\n",
      "Coincide in 15 and change 12 bits\n",
      "Coincide in 25 and change 20 bits\n",
      "Coincide in 19 and change 15 bits\n",
      "Coincide in 19 and change 15 bits\n",
      "Coincide in 10 and change 1 bits\n",
      "Coincide in 15 and change 12 bits\n",
      "Coincide in 22 and change 17 bits\n",
      "Coincide in 15 and change 12 bits\n",
      "Coincide in 18 and change 14 bits\n",
      "Coincide in 19 and change 15 bits\n",
      "Coincide in 23 and change 18 bits\n",
      "Coincide in 17 and change 13 bits\n",
      "Coincide in 17 and change 13 bits\n",
      "Coincide in 16 and change 12 bits\n",
      "Coincide in 18 and change 14 bits\n",
      "Coincide in 17 and change 13 bits\n",
      "Coincide in 26 and change 20 bits\n",
      "Coincide in 21 and change 16 bits\n",
      "Coincide in 19 and change 15 bits\n",
      "Coincide in 17 and change 13 bits\n",
      "Coincide in 17 and change 13 bits\n",
      "Coincide in 15 and change 12 bits\n",
      "Coincide in 22 and change 17 bits\n",
      "Coincide in 22 and change 17 bits\n",
      "Coincide in 19 and change 15 bits\n",
      "Coincide in 19 and change 15 bits\n",
      "Coincide in 18 and change 14 bits\n",
      "Coincide in 22 and change 17 bits\n",
      "Coincide in 22 and change 17 bits\n",
      "Coincide in 21 and change 16 bits\n",
      "Coincide in 16 and change 12 bits\n",
      "Coincide in 23 and change 18 bits\n",
      "Coincide in 24 and change 19 bits\n",
      "Coincide in 20 and change 16 bits\n",
      "Coincide in 14 and change 11 bits\n",
      "Coincide in 22 and change 17 bits\n",
      "Coincide in 26 and change 20 bits\n",
      "Coincide in 15 and change 12 bits\n",
      "Coincide in 17 and change 13 bits\n",
      "Coincide in 18 and change 14 bits\n",
      "Coincide in 22 and change 17 bits\n",
      "Coincide in 14 and change 11 bits\n",
      "Coincide in 19 and change 15 bits\n",
      "Coincide in 17 and change 13 bits\n",
      "Coincide in 22 and change 17 bits\n",
      "Coincide in 22 and change 17 bits\n",
      "Coincide in 20 and change 16 bits\n",
      "Coincide in 17 and change 13 bits\n",
      "Coincide in 14 and change 11 bits\n",
      "Coincide in 19 and change 15 bits\n",
      "Coincide in 15 and change 12 bits\n",
      "Coincide in 17 and change 13 bits\n",
      "Coincide in 20 and change 16 bits\n",
      "Coincide in 16 and change 12 bits\n",
      "Coincide in 15 and change 12 bits\n",
      "Coincide in 18 and change 14 bits\n",
      "Coincide in 15 and change 12 bits\n",
      "Coincide in 14 and change 11 bits\n",
      "Coincide in 17 and change 13 bits\n",
      "Coincide in 18 and change 14 bits\n",
      "Coincide in 20 and change 16 bits\n",
      "Coincide in 16 and change 12 bits\n",
      "Coincide in 14 and change 11 bits\n",
      "Coincide in 18 and change 14 bits\n",
      "Coincide in 20 and change 16 bits\n",
      "Coincide in 18 and change 14 bits\n",
      "Coincide in 19 and change 15 bits\n",
      "Coincide in 17 and change 13 bits\n",
      "Coincide in 17 and change 13 bits\n",
      "Coincide in 21 and change 16 bits\n",
      "Coincide in 18 and change 14 bits\n",
      "Coincide in 18 and change 14 bits\n",
      "Coincide in 18 and change 14 bits\n",
      "Coincide in 20 and change 16 bits\n",
      "Coincide in 16 and change 12 bits\n",
      "Coincide in 13 and change 1 bits\n",
      "Coincide in 14 and change 11 bits\n",
      "Coincide in 19 and change 15 bits\n",
      "Coincide in 18 and change 14 bits\n",
      "Coincide in 13 and change 1 bits\n",
      "Coincide in 15 and change 12 bits\n",
      "Coincide in 18 and change 14 bits\n",
      "Coincide in 16 and change 12 bits\n",
      "Coincide in 17 and change 13 bits\n",
      "Coincide in 14 and change 11 bits\n",
      "Coincide in 17 and change 13 bits\n",
      "Coincide in 17 and change 13 bits\n",
      "Coincide in 17 and change 13 bits\n",
      "Coincide in 16 and change 12 bits\n",
      "Coincide in 18 and change 14 bits\n",
      "Coincide in 17 and change 13 bits\n",
      "Coincide in 16 and change 12 bits\n",
      "Coincide in 21 and change 16 bits\n",
      "Coincide in 19 and change 15 bits\n",
      "Coincide in 17 and change 13 bits\n",
      "Coincide in 19 and change 15 bits\n",
      "Coincide in 13 and change 10 bits\n",
      "Coincide in 26 and change 20 bits\n",
      "Coincide in 15 and change 12 bits\n",
      "Coincide in 14 and change 11 bits\n",
      "Coincide in 19 and change 15 bits\n",
      "Coincide in 15 and change 12 bits\n",
      "Coincide in 18 and change 14 bits\n",
      "Coincide in 12 and change 1 bits\n",
      "Coincide in 15 and change 12 bits\n",
      "Coincide in 15 and change 12 bits\n",
      "Coincide in 21 and change 16 bits\n",
      "Coincide in 21 and change 16 bits\n",
      "Coincide in 18 and change 14 bits\n",
      "Coincide in 21 and change 16 bits\n",
      "Coincide in 23 and change 18 bits\n",
      "Coincide in 21 and change 16 bits\n",
      "Coincide in 20 and change 16 bits\n",
      "Coincide in 25 and change 20 bits\n",
      "Coincide in 24 and change 19 bits\n",
      "Coincide in 25 and change 20 bits\n",
      "Coincide in 13 and change 10 bits\n",
      "Coincide in 17 and change 13 bits\n",
      "Coincide in 13 and change 10 bits\n"
     ]
    },
    {
     "name": "stdout",
     "output_type": "stream",
     "text": [
      "Coincide in 20 and change 16 bits\n",
      "Coincide in 20 and change 16 bits\n",
      "Coincide in 17 and change 13 bits\n",
      "Coincide in 20 and change 16 bits\n",
      "Coincide in 13 and change 1 bits\n",
      "Coincide in 22 and change 17 bits\n",
      "Coincide in 19 and change 15 bits\n",
      "Coincide in 14 and change 11 bits\n",
      "Coincide in 18 and change 14 bits\n",
      "Coincide in 16 and change 12 bits\n",
      "Coincide in 17 and change 13 bits\n",
      "Coincide in 18 and change 14 bits\n",
      "Coincide in 22 and change 17 bits\n",
      "Coincide in 19 and change 15 bits\n",
      "Coincide in 15 and change 12 bits\n",
      "Coincide in 17 and change 13 bits\n",
      "Coincide in 17 and change 13 bits\n",
      "Coincide in 19 and change 15 bits\n",
      "Coincide in 17 and change 13 bits\n",
      "Coincide in 13 and change 10 bits\n",
      "Coincide in 16 and change 12 bits\n",
      "Coincide in 24 and change 19 bits\n",
      "Coincide in 19 and change 15 bits\n",
      "Coincide in 18 and change 14 bits\n",
      "Coincide in 20 and change 16 bits\n",
      "Coincide in 18 and change 14 bits\n",
      "Coincide in 12 and change 1 bits\n",
      "Coincide in 18 and change 14 bits\n",
      "Coincide in 24 and change 19 bits\n",
      "Coincide in 19 and change 15 bits\n",
      "Coincide in 19 and change 15 bits\n",
      "Coincide in 17 and change 13 bits\n",
      "Coincide in 20 and change 16 bits\n",
      "Coincide in 19 and change 15 bits\n",
      "Coincide in 15 and change 12 bits\n",
      "Coincide in 15 and change 12 bits\n",
      "Coincide in 23 and change 18 bits\n",
      "Coincide in 19 and change 15 bits\n",
      "Coincide in 19 and change 15 bits\n",
      "Coincide in 18 and change 14 bits\n",
      "Coincide in 16 and change 12 bits\n",
      "Coincide in 21 and change 16 bits\n",
      "Coincide in 15 and change 12 bits\n",
      "Coincide in 16 and change 12 bits\n",
      "Coincide in 13 and change 1 bits\n",
      "Coincide in 14 and change 11 bits\n",
      "Coincide in 25 and change 20 bits\n",
      "Coincide in 14 and change 11 bits\n",
      "Coincide in 18 and change 14 bits\n",
      "Coincide in 24 and change 19 bits\n",
      "Coincide in 14 and change 11 bits\n",
      "Coincide in 19 and change 15 bits\n",
      "Coincide in 16 and change 12 bits\n",
      "Coincide in 11 and change 1 bits\n",
      "Coincide in 16 and change 12 bits\n",
      "Coincide in 10 and change 1 bits\n",
      "Coincide in 16 and change 12 bits\n",
      "Coincide in 19 and change 15 bits\n",
      "Coincide in 19 and change 15 bits\n",
      "Coincide in 17 and change 13 bits\n",
      "Coincide in 13 and change 10 bits\n",
      "Coincide in 15 and change 12 bits\n",
      "Coincide in 24 and change 19 bits\n",
      "Coincide in 19 and change 15 bits\n",
      "Coincide in 15 and change 12 bits\n",
      "Coincide in 23 and change 18 bits\n",
      "Coincide in 20 and change 16 bits\n",
      "Coincide in 22 and change 17 bits\n",
      "Coincide in 21 and change 16 bits\n",
      "Coincide in 17 and change 13 bits\n",
      "Coincide in 24 and change 19 bits\n",
      "Coincide in 18 and change 14 bits\n",
      "Coincide in 22 and change 17 bits\n",
      "Coincide in 14 and change 11 bits\n",
      "Coincide in 22 and change 17 bits\n",
      "Coincide in 13 and change 10 bits\n",
      "Coincide in 14 and change 11 bits\n",
      "Coincide in 19 and change 15 bits\n",
      "Coincide in 18 and change 14 bits\n",
      "Coincide in 16 and change 12 bits\n",
      "Coincide in 25 and change 20 bits\n",
      "Coincide in 18 and change 14 bits\n",
      "Coincide in 15 and change 12 bits\n",
      "Coincide in 19 and change 15 bits\n",
      "Coincide in 14 and change 11 bits\n",
      "Coincide in 18 and change 14 bits\n",
      "Coincide in 18 and change 14 bits\n",
      "Coincide in 16 and change 12 bits\n",
      "Coincide in 22 and change 17 bits\n",
      "Coincide in 17 and change 13 bits\n",
      "Coincide in 15 and change 12 bits\n",
      "Coincide in 18 and change 14 bits\n",
      "Coincide in 19 and change 15 bits\n",
      "Coincide in 17 and change 13 bits\n",
      "Coincide in 14 and change 11 bits\n",
      "Coincide in 15 and change 12 bits\n",
      "Coincide in 21 and change 16 bits\n",
      "Coincide in 21 and change 16 bits\n",
      "Coincide in 13 and change 10 bits\n",
      "Coincide in 18 and change 14 bits\n",
      "Coincide in 18 and change 14 bits\n",
      "Coincide in 17 and change 13 bits\n",
      "Coincide in 23 and change 18 bits\n",
      "Coincide in 14 and change 11 bits\n",
      "Coincide in 19 and change 15 bits\n",
      "Coincide in 14 and change 11 bits\n",
      "Coincide in 19 and change 15 bits\n",
      "Coincide in 21 and change 16 bits\n",
      "Coincide in 19 and change 15 bits\n",
      "Coincide in 18 and change 14 bits\n",
      "Coincide in 15 and change 12 bits\n",
      "Coincide in 14 and change 11 bits\n",
      "Coincide in 20 and change 16 bits\n",
      "Coincide in 18 and change 14 bits\n",
      "Coincide in 21 and change 16 bits\n",
      "Coincide in 17 and change 13 bits\n",
      "Coincide in 18 and change 14 bits\n",
      "Coincide in 22 and change 17 bits\n",
      "Coincide in 13 and change 1 bits\n",
      "Coincide in 10 and change 1 bits\n",
      "Coincide in 18 and change 14 bits\n",
      "Coincide in 15 and change 12 bits\n",
      "Coincide in 14 and change 11 bits\n",
      "Coincide in 20 and change 16 bits\n",
      "Coincide in 18 and change 14 bits\n",
      "Coincide in 23 and change 18 bits\n",
      "Coincide in 16 and change 12 bits\n",
      "Coincide in 18 and change 14 bits\n",
      "Coincide in 14 and change 11 bits\n",
      "Coincide in 16 and change 12 bits\n",
      "Coincide in 14 and change 11 bits\n",
      "Coincide in 16 and change 12 bits\n",
      "Coincide in 19 and change 15 bits\n",
      "Coincide in 23 and change 18 bits\n",
      "Coincide in 21 and change 16 bits\n",
      "Coincide in 15 and change 12 bits\n",
      "Coincide in 21 and change 16 bits\n",
      "Coincide in 14 and change 11 bits\n",
      "Coincide in 19 and change 15 bits\n",
      "Coincide in 16 and change 12 bits\n",
      "Coincide in 18 and change 14 bits\n",
      "Coincide in 25 and change 20 bits\n",
      "Coincide in 19 and change 15 bits\n",
      "Coincide in 24 and change 19 bits\n",
      "Coincide in 16 and change 12 bits\n",
      "Coincide in 13 and change 1 bits\n",
      "Coincide in 17 and change 13 bits\n",
      "Coincide in 13 and change 10 bits\n",
      "Coincide in 14 and change 11 bits\n",
      "Coincide in 16 and change 12 bits\n",
      "Coincide in 16 and change 12 bits\n",
      "Coincide in 20 and change 16 bits\n",
      "Coincide in 18 and change 14 bits\n",
      "Coincide in 23 and change 18 bits\n",
      "Coincide in 17 and change 13 bits\n",
      "Coincide in 25 and change 20 bits\n",
      "Coincide in 17 and change 13 bits\n",
      "Coincide in 23 and change 18 bits\n",
      "Coincide in 12 and change 1 bits\n",
      "Coincide in 16 and change 12 bits\n",
      "Coincide in 17 and change 13 bits\n",
      "Coincide in 17 and change 13 bits\n",
      "Coincide in 18 and change 14 bits\n",
      "Coincide in 16 and change 12 bits\n",
      "Coincide in 17 and change 13 bits\n",
      "Coincide in 18 and change 14 bits\n",
      "Coincide in 16 and change 12 bits\n",
      "Coincide in 19 and change 15 bits\n",
      "Coincide in 17 and change 13 bits\n",
      "Coincide in 13 and change 10 bits\n",
      "Coincide in 14 and change 11 bits\n",
      "Coincide in 24 and change 19 bits\n",
      "Coincide in 16 and change 12 bits\n",
      "Coincide in 15 and change 12 bits\n",
      "Coincide in 15 and change 12 bits\n",
      "Coincide in 14 and change 11 bits\n",
      "Coincide in 17 and change 13 bits\n",
      "Coincide in 24 and change 19 bits\n",
      "Coincide in 18 and change 14 bits\n",
      "Coincide in 13 and change 10 bits\n",
      "Coincide in 15 and change 12 bits\n",
      "Coincide in 18 and change 14 bits\n",
      "Coincide in 15 and change 12 bits\n",
      "Coincide in 15 and change 12 bits\n",
      "Coincide in 16 and change 12 bits\n",
      "Coincide in 19 and change 15 bits\n",
      "Coincide in 18 and change 14 bits\n",
      "Coincide in 18 and change 14 bits\n",
      "Coincide in 17 and change 13 bits\n",
      "Coincide in 22 and change 17 bits\n",
      "Coincide in 17 and change 13 bits\n",
      "Coincide in 14 and change 11 bits\n",
      "Coincide in 17 and change 13 bits\n",
      "Coincide in 16 and change 12 bits\n",
      "Coincide in 17 and change 13 bits\n",
      "Coincide in 19 and change 15 bits\n",
      "Coincide in 16 and change 12 bits\n",
      "Coincide in 17 and change 13 bits\n",
      "Coincide in 15 and change 12 bits\n",
      "Coincide in 14 and change 11 bits\n",
      "Coincide in 17 and change 13 bits\n",
      "Coincide in 19 and change 15 bits\n",
      "Coincide in 17 and change 13 bits\n",
      "Coincide in 20 and change 16 bits\n",
      "Coincide in 18 and change 14 bits\n",
      "Coincide in 19 and change 15 bits\n",
      "Coincide in 18 and change 14 bits\n",
      "Coincide in 19 and change 15 bits\n",
      "Coincide in 17 and change 13 bits\n",
      "Coincide in 15 and change 12 bits\n",
      "Coincide in 15 and change 12 bits\n",
      "Coincide in 16 and change 12 bits\n",
      "Coincide in 17 and change 13 bits\n",
      "Coincide in 15 and change 12 bits\n",
      "Coincide in 19 and change 15 bits\n",
      "Coincide in 19 and change 15 bits\n",
      "Coincide in 20 and change 16 bits\n",
      "Coincide in 17 and change 13 bits\n",
      "Coincide in 18 and change 14 bits\n",
      "Coincide in 18 and change 14 bits\n",
      "Coincide in 18 and change 14 bits\n",
      "Coincide in 14 and change 11 bits\n",
      "Coincide in 18 and change 14 bits\n",
      "Coincide in 17 and change 13 bits\n",
      "Coincide in 13 and change 10 bits\n",
      "Coincide in 17 and change 13 bits\n",
      "Coincide in 18 and change 14 bits\n",
      "Coincide in 15 and change 12 bits\n",
      "Coincide in 14 and change 11 bits\n",
      "Coincide in 19 and change 15 bits\n",
      "Coincide in 14 and change 11 bits\n",
      "Coincide in 17 and change 13 bits\n",
      "Coincide in 19 and change 15 bits\n",
      "Coincide in 19 and change 15 bits\n",
      "Coincide in 14 and change 11 bits\n",
      "Coincide in 15 and change 12 bits\n",
      "Coincide in 19 and change 15 bits\n",
      "Coincide in 14 and change 11 bits\n",
      "Coincide in 19 and change 15 bits\n",
      "Coincide in 18 and change 14 bits\n",
      "Coincide in 20 and change 16 bits\n",
      "Coincide in 17 and change 13 bits\n",
      "Coincide in 17 and change 13 bits\n",
      "Coincide in 18 and change 14 bits\n",
      "Coincide in 21 and change 16 bits\n"
     ]
    },
    {
     "name": "stdout",
     "output_type": "stream",
     "text": [
      "Coincide in 17 and change 13 bits\n",
      "Coincide in 19 and change 15 bits\n",
      "Coincide in 13 and change 10 bits\n",
      "Coincide in 15 and change 12 bits\n",
      "Coincide in 15 and change 12 bits\n",
      "Coincide in 15 and change 12 bits\n",
      "Coincide in 16 and change 12 bits\n",
      "Coincide in 14 and change 11 bits\n",
      "Coincide in 14 and change 11 bits\n",
      "Coincide in 16 and change 12 bits\n",
      "Coincide in 16 and change 12 bits\n",
      "Coincide in 16 and change 12 bits\n",
      "Coincide in 18 and change 14 bits\n",
      "Coincide in 18 and change 14 bits\n",
      "Coincide in 17 and change 13 bits\n",
      "Coincide in 12 and change 1 bits\n",
      "Coincide in 18 and change 14 bits\n",
      "Coincide in 13 and change 10 bits\n",
      "Coincide in 15 and change 12 bits\n",
      "Coincide in 15 and change 12 bits\n",
      "Coincide in 14 and change 11 bits\n",
      "Coincide in 17 and change 13 bits\n",
      "Coincide in 15 and change 12 bits\n",
      "Coincide in 23 and change 18 bits\n",
      "Coincide in 15 and change 12 bits\n",
      "Coincide in 14 and change 11 bits\n",
      "Coincide in 20 and change 16 bits\n",
      "Coincide in 17 and change 13 bits\n",
      "Coincide in 19 and change 15 bits\n",
      "Coincide in 14 and change 11 bits\n",
      "Coincide in 19 and change 15 bits\n",
      "Coincide in 19 and change 15 bits\n",
      "Coincide in 18 and change 14 bits\n",
      "Coincide in 18 and change 14 bits\n",
      "Coincide in 16 and change 12 bits\n",
      "Coincide in 16 and change 12 bits\n",
      "Coincide in 21 and change 16 bits\n",
      "Coincide in 18 and change 14 bits\n",
      "Coincide in 20 and change 16 bits\n",
      "Coincide in 22 and change 17 bits\n",
      "Coincide in 16 and change 12 bits\n",
      "Coincide in 15 and change 12 bits\n",
      "Coincide in 17 and change 13 bits\n",
      "Coincide in 19 and change 15 bits\n",
      "Coincide in 18 and change 14 bits\n",
      "Coincide in 18 and change 14 bits\n",
      "Coincide in 12 and change 1 bits\n",
      "\n",
      "Errors = 1285 for accuracy of = 0.2849193099610462\n",
      "\n"
     ]
    }
   ],
   "source": [
    "Q = 6\n",
    "w, m, weights = fit(qubits = Q, X_train = X_train[:], Y_train = Y_train[:], negative_class = number_negative_class, positive_class = number_positive_class, epochs = 1, shots = 1024, threshold = 0.35, Ip = .8, In = .1, bias = 0.0)"
   ]
  },
  {
   "cell_type": "code",
   "execution_count": 632,
   "metadata": {
    "ExecuteTime": {
     "end_time": "2020-09-13T07:00:09.466756Z",
     "start_time": "2020-09-13T07:00:09.393953Z"
    },
    "scrolled": true
   },
   "outputs": [
    {
     "data": {
      "text/plain": [
       "<matplotlib.colorbar.Colorbar at 0x17c042ed548>"
      ]
     },
     "execution_count": 632,
     "metadata": {},
     "output_type": "execute_result"
    }
   ],
   "source": [
    "c = plt.imshow(np.array(w).reshape(8, 8), cmap = 'gray_r')\n",
    "plt.colorbar(c)"
   ]
  },
  {
   "cell_type": "markdown",
   "metadata": {},
   "source": [
    "## Predicting and evaluating the trained classifier"
   ]
  },
  {
   "cell_type": "code",
   "execution_count": 635,
   "metadata": {
    "ExecuteTime": {
     "end_time": "2020-09-13T07:01:47.319410Z",
     "start_time": "2020-09-13T07:01:14.847238Z"
    }
   },
   "outputs": [
    {
     "data": {
      "application/vnd.jupyter.widget-view+json": {
       "model_id": "181a06f1dd094a4a9660439d83b27bcc",
       "version_major": 2,
       "version_minor": 0
      },
      "text/plain": [
       "HBox(children=(FloatProgress(value=0.0, description='Predicting', max=1797.0, style=ProgressStyle(description_…"
      ]
     },
     "metadata": {},
     "output_type": "display_data"
    },
    {
     "name": "stdout",
     "output_type": "stream",
     "text": [
      "\n"
     ]
    }
   ],
   "source": [
    "test_threshold = .35\n",
    "classification, readouts = predict(qubits = Q, X_test = X_test, negative_class = number_negative_class, positive_class = number_positive_class, shots = 1024, threshold = test_threshold, w = weights[0], bias = 0.0)"
   ]
  },
  {
   "cell_type": "code",
   "execution_count": 636,
   "metadata": {
    "ExecuteTime": {
     "end_time": "2020-09-13T07:01:47.329383Z",
     "start_time": "2020-09-13T07:01:47.320407Z"
    }
   },
   "outputs": [
    {
     "name": "stdout",
     "output_type": "stream",
     "text": [
      "Accuracy = 0.41958820255982193\n",
      "Counts = Counter({10: 599, 9: 155})\n",
      "Confusion Matrix = \n",
      "[[ 155.   25.]\n",
      " [1018.  599.]]\n"
     ]
    }
   ],
   "source": [
    "accuracy, counts, confusion_matriX = evaluate(Y_test, classification, number_negative_class, number_positive_class)\n",
    "print(f'Accuracy = {accuracy}')\n",
    "print(f'Counts = {counts}')\n",
    "print(f'Confusion Matrix = \\n{confusion_matriX}')"
   ]
  },
  {
   "cell_type": "code",
   "execution_count": 637,
   "metadata": {
    "ExecuteTime": {
     "end_time": "2020-09-13T07:03:05.357501Z",
     "start_time": "2020-09-13T07:03:05.269352Z"
    }
   },
   "outputs": [],
   "source": [
    "plot_confusion_matrix(confusion_matriX, target_names = np.array([number_negative_class, number_positive_class]), labels = True, normalize = False)"
   ]
  },
  {
   "cell_type": "code",
   "execution_count": 638,
   "metadata": {
    "ExecuteTime": {
     "end_time": "2020-09-13T07:03:15.929096Z",
     "start_time": "2020-09-13T07:03:15.925076Z"
    }
   },
   "outputs": [
    {
     "data": {
      "text/plain": [
       "array([[ 155.,   25.],\n",
       "       [1018.,  599.]])"
      ]
     },
     "execution_count": 638,
     "metadata": {},
     "output_type": "execute_result"
    }
   ],
   "source": [
    "confusion_matriX"
   ]
  },
  {
   "cell_type": "code",
   "execution_count": 639,
   "metadata": {
    "ExecuteTime": {
     "end_time": "2020-09-13T07:03:16.996373Z",
     "start_time": "2020-09-13T07:03:16.990388Z"
    }
   },
   "outputs": [
    {
     "data": {
      "text/plain": [
       "0.41958820255982193"
      ]
     },
     "execution_count": 639,
     "metadata": {},
     "output_type": "execute_result"
    }
   ],
   "source": [
    "accuracy_score(Y_test, classification)"
   ]
  },
  {
   "cell_type": "code",
   "execution_count": 640,
   "metadata": {
    "ExecuteTime": {
     "end_time": "2020-09-13T07:03:17.878885Z",
     "start_time": "2020-09-13T07:03:17.869904Z"
    }
   },
   "outputs": [
    {
     "data": {
      "text/plain": [
       "array([[ 155,   25],\n",
       "       [1018,  599]], dtype=int64)"
      ]
     },
     "execution_count": 640,
     "metadata": {},
     "output_type": "execute_result"
    }
   ],
   "source": [
    "confusion_matrix(Y_test, classification)"
   ]
  },
  {
   "cell_type": "code",
   "execution_count": 641,
   "metadata": {
    "ExecuteTime": {
     "end_time": "2020-09-13T07:03:18.836487Z",
     "start_time": "2020-09-13T07:03:18.829503Z"
    }
   },
   "outputs": [
    {
     "data": {
      "text/plain": [
       "0.13213981244671782"
      ]
     },
     "execution_count": 641,
     "metadata": {},
     "output_type": "execute_result"
    }
   ],
   "source": [
    "precision_score(Y_test, classification, average = 'binary', pos_label = number_negative_class)"
   ]
  },
  {
   "cell_type": "code",
   "execution_count": 642,
   "metadata": {
    "ExecuteTime": {
     "end_time": "2020-09-13T07:03:19.219123Z",
     "start_time": "2020-09-13T07:03:19.212142Z"
    }
   },
   "outputs": [
    {
     "data": {
      "text/plain": [
       "0.8611111111111112"
      ]
     },
     "execution_count": 642,
     "metadata": {},
     "output_type": "execute_result"
    }
   ],
   "source": [
    "recall_score(Y_test, classification, average = 'binary', pos_label = number_negative_class)"
   ]
  },
  {
   "cell_type": "code",
   "execution_count": 643,
   "metadata": {
    "ExecuteTime": {
     "end_time": "2020-09-13T07:03:19.901604Z",
     "start_time": "2020-09-13T07:03:19.894616Z"
    }
   },
   "outputs": [
    {
     "data": {
      "text/plain": [
       "0.22912047302291208"
      ]
     },
     "execution_count": 643,
     "metadata": {},
     "output_type": "execute_result"
    }
   ],
   "source": [
    "f1_score(Y_test, classification, average = 'binary', pos_label = number_negative_class)"
   ]
  },
  {
   "cell_type": "code",
   "execution_count": 644,
   "metadata": {
    "ExecuteTime": {
     "end_time": "2020-09-13T07:03:20.339755Z",
     "start_time": "2020-09-13T07:03:20.332778Z"
    }
   },
   "outputs": [
    {
     "data": {
      "text/plain": [
       "'The accuracy is 0.41958820255982193.'"
      ]
     },
     "execution_count": 644,
     "metadata": {},
     "output_type": "execute_result"
    },
    {
     "data": {
      "application/javascript": [
       "$(document).ready(\n",
       "    function() {\n",
       "        function appendUniqueDiv(){\n",
       "            // append a div with our uuid so we can check that it's already\n",
       "            // been sent and avoid duplicates on page reload\n",
       "            var notifiedDiv = document.createElement(\"div\")\n",
       "            notifiedDiv.id = \"89de95bd-0515-4249-80aa-fbad5a3e9f2f\"\n",
       "            element.append(notifiedDiv)\n",
       "        }\n",
       "\n",
       "        // only send notifications if the pageload is complete; this will\n",
       "        // help stop extra notifications when a saved notebook is loaded,\n",
       "        // which during testing gives us state \"interactive\", not \"complete\"\n",
       "        if (document.readyState === 'complete') {\n",
       "            // check for the div that signifies that the notification\n",
       "            // was already sent\n",
       "            if (document.getElementById(\"89de95bd-0515-4249-80aa-fbad5a3e9f2f\") === null) {\n",
       "                var notificationPayload = {\"requireInteraction\": false, \"icon\": \"/static/base/images/favicon.ico\", \"body\": \"The accuracy is 0.41958820255982193.\"};\n",
       "                if (Notification.permission !== 'denied') {\n",
       "                    if (Notification.permission !== 'granted') { \n",
       "                        Notification.requestPermission(function (permission) {\n",
       "                            if(!('permission' in Notification)) {\n",
       "                                Notification.permission = permission\n",
       "                            }\n",
       "                        })\n",
       "                    }\n",
       "                    if (Notification.permission === 'granted') {\n",
       "                    var notification = new Notification(\"Jupyter Notebook\", notificationPayload)\n",
       "                    appendUniqueDiv()\n",
       "                    notification.onclick = function () {\n",
       "                        window.focus();\n",
       "                        this.close();\n",
       "                        };\n",
       "                    } \n",
       "                }     \n",
       "            }\n",
       "        }\n",
       "    }\n",
       ")\n"
      ],
      "text/plain": [
       "<IPython.core.display.Javascript object>"
      ]
     },
     "metadata": {},
     "output_type": "display_data"
    }
   ],
   "source": [
    "%%notify -o\n",
    "f'The accuracy is {accuracy}.'"
   ]
  },
  {
   "cell_type": "code",
   "execution_count": 645,
   "metadata": {
    "ExecuteTime": {
     "end_time": "2020-09-13T07:04:18.794801Z",
     "start_time": "2020-09-13T07:04:18.715685Z"
    }
   },
   "outputs": [
    {
     "name": "stdout",
     "output_type": "stream",
     "text": [
      "AUC: 0.615775097917955\n"
     ]
    }
   ],
   "source": [
    "test = [0 if ele == number_negative_class else 1 for ele in Y_test]\n",
    "classi = [0 if ele == number_negative_class else 1 for ele in classification]\n",
    "\n",
    "fpr, tpr, thresholds = roc_curve(test, classi)\n",
    "\n",
    "def ROC_curve(fpr,tpr):\n",
    "    # Seaborn's beautiful styling\n",
    "    sns.set_style('darkgrid', {'axes.facecolor': '0.9'})\n",
    "    print('AUC: {}'.format(auc(fpr, tpr)))\n",
    "    plt.figure(figsize=(10, 8))\n",
    "    lw = 2\n",
    "    plt.plot(fpr, tpr, color='darkorange',\n",
    "             lw=lw, label='ROC curve')\n",
    "    plt.plot([0, 1], [0, 1], color='navy', lw=lw, linestyle='--')\n",
    "    plt.xlim([0.0, 1.0])\n",
    "    plt.ylim([0.0, 1.05])\n",
    "    plt.yticks([i/20.0 for i in range(21)], fontsize = 15)\n",
    "    plt.xticks([i/20.0 for i in range(21)], fontsize = 15)\n",
    "    plt.xlabel('False Positive Rate', fontsize = 20)\n",
    "    plt.ylabel('True Positive Rate', fontsize = 20)\n",
    "    plt.title('Receiver operating characteristic (ROC) Curve', fontsize = 20)\n",
    "    plt.legend(loc='lower right')\n",
    "    plt.show()\n",
    "\n",
    "ROC_curve(fpr,tpr)\n",
    "sns.set_style('white', {'axes.facecolor': '0.9'})\n"
   ]
  },
  {
   "cell_type": "markdown",
   "metadata": {
    "heading_collapsed": true
   },
   "source": [
    "## Manual process analysis"
   ]
  },
  {
   "cell_type": "code",
   "execution_count": 646,
   "metadata": {
    "ExecuteTime": {
     "end_time": "2020-09-13T07:04:34.056711Z",
     "start_time": "2020-09-13T07:04:34.051700Z"
    },
    "hidden": true
   },
   "outputs": [
    {
     "data": {
      "text/plain": [
       "array([10, 10, 10, ..., 10,  9, 10])"
      ]
     },
     "execution_count": 646,
     "metadata": {},
     "output_type": "execute_result"
    }
   ],
   "source": [
    "classification.astype(int)"
   ]
  },
  {
   "cell_type": "code",
   "execution_count": 647,
   "metadata": {
    "ExecuteTime": {
     "end_time": "2020-09-13T07:04:34.608212Z",
     "start_time": "2020-09-13T07:04:34.603229Z"
    },
    "hidden": true
   },
   "outputs": [
    {
     "data": {
      "text/plain": [
       "array([10, 10, 10, ..., 10,  9, 10])"
      ]
     },
     "execution_count": 647,
     "metadata": {},
     "output_type": "execute_result"
    }
   ],
   "source": [
    "Y_test"
   ]
  },
  {
   "cell_type": "code",
   "execution_count": 648,
   "metadata": {
    "ExecuteTime": {
     "end_time": "2020-09-13T07:04:35.126550Z",
     "start_time": "2020-09-13T07:04:35.123526Z"
    },
    "hidden": true
   },
   "outputs": [
    {
     "name": "stdout",
     "output_type": "stream",
     "text": [
      "[   4    5    7 ... 1788 1791 1792]\n"
     ]
    }
   ],
   "source": [
    "fails = np.where(classification != Y_test)[0]\n",
    "print(fails)"
   ]
  },
  {
   "cell_type": "code",
   "execution_count": 649,
   "metadata": {
    "ExecuteTime": {
     "end_time": "2020-09-13T07:04:35.715330Z",
     "start_time": "2020-09-13T07:04:35.555720Z"
    },
    "hidden": true
   },
   "outputs": [
    {
     "name": "stdout",
     "output_type": "stream",
     "text": [
      "0.3525390625\n",
      "0.31640625\n",
      "0.09765625\n",
      "0.25\n",
      "0.25\n",
      "0.2822265625\n",
      "0.31640625\n",
      "0.25\n",
      "0.2822265625\n",
      "0.31640625\n",
      "0.31640625\n",
      "0.25\n",
      "0.25\n",
      "0.25\n",
      "0.19140625\n",
      "0.2197265625\n",
      "0.25\n",
      "0.2822265625\n",
      "0.25\n",
      "0.31640625\n",
      "0.25\n",
      "0.31640625\n",
      "0.25\n",
      "0.1650390625\n",
      "0.2197265625\n",
      "0.1650390625\n",
      "0.2822265625\n",
      "0.25\n",
      "0.31640625\n",
      "0.2822265625\n",
      "0.1650390625\n",
      "0.2822265625\n",
      "0.2197265625\n",
      "0.3525390625\n",
      "0.31640625\n",
      "0.1650390625\n",
      "0.25\n",
      "0.3525390625\n",
      "0.2822265625\n",
      "0.25\n",
      "0.31640625\n",
      "0.1650390625\n",
      "0.390625\n",
      "0.2822265625\n",
      "0.25\n",
      "0.2197265625\n",
      "0.1650390625\n",
      "0.2822265625\n",
      "0.25\n",
      "0.2822265625\n",
      "0.2197265625\n",
      "0.3525390625\n",
      "0.2197265625\n",
      "0.19140625\n",
      "0.19140625\n",
      "0.3525390625\n",
      "0.3525390625\n",
      "0.31640625\n",
      "0.31640625\n",
      "0.25\n",
      "0.2822265625\n",
      "0.19140625\n",
      "0.140625\n",
      "0.25\n",
      "0.2822265625\n",
      "0.2822265625\n",
      "0.2197265625\n",
      "0.31640625\n",
      "0.31640625\n",
      "0.2822265625\n",
      "0.2822265625\n",
      "0.3525390625\n",
      "0.31640625\n",
      "0.2822265625\n",
      "0.390625\n",
      "0.0791015625\n",
      "0.140625\n",
      "0.2197265625\n",
      "0.2197265625\n",
      "0.2822265625\n",
      "0.140625\n",
      "0.31640625\n",
      "0.25\n",
      "0.31640625\n",
      "0.31640625\n",
      "0.3525390625\n",
      "0.31640625\n",
      "0.0791015625\n",
      "0.2822265625\n",
      "0.25\n",
      "0.1650390625\n",
      "0.25\n",
      "0.140625\n",
      "0.3525390625\n",
      "0.25\n",
      "0.2197265625\n",
      "0.1650390625\n",
      "0.31640625\n",
      "0.2822265625\n",
      "0.3525390625\n",
      "0.1181640625\n",
      "0.31640625\n",
      "0.2822265625\n",
      "0.3525390625\n",
      "0.2822265625\n",
      "0.25\n",
      "0.25\n",
      "0.2197265625\n",
      "0.140625\n",
      "0.2197265625\n",
      "0.31640625\n",
      "0.2822265625\n",
      "0.140625\n",
      "0.31640625\n",
      "0.1650390625\n",
      "0.25\n",
      "0.2822265625\n",
      "0.19140625\n",
      "0.31640625\n",
      "0.2822265625\n",
      "0.0791015625\n",
      "0.25\n",
      "0.25\n",
      "0.2197265625\n",
      "0.3525390625\n",
      "0.2197265625\n",
      "0.19140625\n",
      "0.2822265625\n",
      "0.2822265625\n",
      "0.390625\n",
      "0.1650390625\n",
      "0.25\n",
      "0.2822265625\n",
      "0.31640625\n",
      "0.25\n",
      "0.25\n",
      "0.2822265625\n",
      "0.2822265625\n",
      "0.31640625\n",
      "0.5166015625\n",
      "0.2822265625\n",
      "0.31640625\n",
      "0.19140625\n",
      "0.2822265625\n",
      "0.2822265625\n",
      "0.1650390625\n",
      "0.3525390625\n",
      "0.31640625\n",
      "0.3525390625\n",
      "0.2822265625\n",
      "0.25\n",
      "0.19140625\n",
      "0.1650390625\n",
      "0.31640625\n",
      "0.19140625\n",
      "0.31640625\n",
      "0.25\n",
      "0.25\n",
      "0.2197265625\n",
      "0.140625\n",
      "0.31640625\n",
      "0.2197265625\n",
      "0.2197265625\n",
      "0.2197265625\n",
      "0.31640625\n",
      "0.31640625\n",
      "0.31640625\n",
      "0.25\n",
      "0.31640625\n",
      "0.31640625\n",
      "0.31640625\n",
      "0.31640625\n",
      "0.25\n",
      "0.2822265625\n",
      "0.2822265625\n",
      "0.25\n",
      "0.1181640625\n",
      "0.1650390625\n",
      "0.2822265625\n",
      "0.25\n",
      "0.19140625\n",
      "0.2822265625\n",
      "0.140625\n",
      "0.31640625\n",
      "0.3525390625\n",
      "0.25\n",
      "0.25\n",
      "0.25\n",
      "0.31640625\n",
      "0.2822265625\n",
      "0.3525390625\n",
      "0.25\n",
      "0.25\n",
      "0.31640625\n",
      "0.3525390625\n",
      "0.2822265625\n",
      "0.2822265625\n",
      "0.2822265625\n",
      "0.25\n",
      "0.31640625\n",
      "0.1650390625\n",
      "0.25\n",
      "0.25\n",
      "0.31640625\n",
      "0.31640625\n",
      "0.2197265625\n",
      "0.25\n",
      "0.25\n",
      "0.31640625\n",
      "0.25\n",
      "0.2822265625\n",
      "0.2822265625\n",
      "0.25\n",
      "0.31640625\n",
      "0.31640625\n",
      "0.3525390625\n",
      "0.25\n",
      "0.31640625\n",
      "0.3525390625\n",
      "0.2822265625\n",
      "0.25\n",
      "0.47265625\n",
      "0.2822265625\n",
      "0.2822265625\n",
      "0.1181640625\n",
      "0.31640625\n",
      "0.2822265625\n",
      "0.31640625\n",
      "0.1181640625\n",
      "0.3525390625\n",
      "0.2822265625\n",
      "0.3525390625\n",
      "0.31640625\n",
      "0.2822265625\n",
      "0.25\n",
      "0.09765625\n",
      "0.25\n",
      "0.1650390625\n",
      "0.31640625\n",
      "0.1650390625\n",
      "0.390625\n",
      "0.2822265625\n",
      "0.3525390625\n",
      "0.31640625\n",
      "0.31640625\n",
      "0.3525390625\n",
      "0.0791015625\n",
      "0.2822265625\n",
      "0.2822265625\n",
      "0.2197265625\n",
      "0.2197265625\n",
      "0.47265625\n",
      "0.31640625\n",
      "0.25\n",
      "0.0791015625\n",
      "0.31640625\n",
      "0.2197265625\n",
      "0.2197265625\n",
      "0.2822265625\n",
      "0.2822265625\n",
      "0.3525390625\n",
      "0.390625\n",
      "0.2197265625\n",
      "0.2822265625\n",
      "0.25\n",
      "0.25\n",
      "0.31640625\n",
      "0.31640625\n",
      "0.2822265625\n",
      "0.3525390625\n",
      "0.25\n",
      "0.2822265625\n",
      "0.1181640625\n",
      "0.2822265625\n",
      "0.3525390625\n",
      "0.09765625\n",
      "0.2197265625\n",
      "0.31640625\n",
      "0.25\n",
      "0.390625\n",
      "0.2822265625\n",
      "0.1650390625\n",
      "0.3525390625\n",
      "0.31640625\n",
      "0.31640625\n",
      "0.3525390625\n",
      "0.19140625\n",
      "0.2822265625\n",
      "0.1650390625\n",
      "0.31640625\n",
      "0.25\n",
      "0.31640625\n",
      "0.3525390625\n",
      "0.3525390625\n",
      "0.2197265625\n",
      "0.25\n",
      "0.31640625\n",
      "0.31640625\n",
      "0.3525390625\n",
      "0.25\n",
      "0.2822265625\n",
      "0.19140625\n",
      "0.31640625\n",
      "0.25\n",
      "0.3525390625\n",
      "0.47265625\n",
      "0.1650390625\n",
      "0.1181640625\n",
      "0.2822265625\n",
      "0.2822265625\n",
      "0.31640625\n",
      "0.31640625\n",
      "0.2822265625\n",
      "0.31640625\n",
      "0.2197265625\n",
      "0.1181640625\n",
      "0.2197265625\n",
      "0.2197265625\n",
      "0.140625\n",
      "0.25\n",
      "0.2197265625\n",
      "0.19140625\n",
      "0.2822265625\n",
      "0.25\n",
      "0.25\n",
      "0.19140625\n",
      "0.09765625\n",
      "0.25\n",
      "0.2197265625\n",
      "0.2197265625\n",
      "0.19140625\n",
      "0.31640625\n",
      "0.31640625\n",
      "0.25\n",
      "0.2822265625\n",
      "0.2197265625\n",
      "0.25\n",
      "0.25\n",
      "0.1650390625\n",
      "0.31640625\n",
      "0.31640625\n",
      "0.25\n",
      "0.31640625\n",
      "0.140625\n",
      "0.2822265625\n",
      "0.1650390625\n",
      "0.31640625\n",
      "0.25\n",
      "0.2822265625\n",
      "0.3525390625\n",
      "0.31640625\n",
      "0.3525390625\n",
      "0.3525390625\n",
      "0.1650390625\n",
      "0.31640625\n",
      "0.2822265625\n",
      "0.19140625\n",
      "0.1650390625\n",
      "0.2822265625\n",
      "0.31640625\n",
      "0.25\n",
      "0.3525390625\n",
      "0.3525390625\n",
      "0.19140625\n",
      "0.31640625\n",
      "0.25\n",
      "0.2197265625\n",
      "0.25\n",
      "0.31640625\n",
      "0.2822265625\n",
      "0.2197265625\n",
      "0.19140625\n",
      "0.31640625\n",
      "0.19140625\n",
      "0.2822265625\n",
      "0.3525390625\n",
      "0.2822265625\n",
      "0.2822265625\n",
      "0.3525390625\n",
      "0.2822265625\n",
      "0.2822265625\n",
      "0.2197265625\n",
      "0.2197265625\n",
      "0.19140625\n",
      "0.31640625\n",
      "0.2197265625\n",
      "0.2822265625\n",
      "0.19140625\n",
      "0.2197265625\n",
      "0.31640625\n",
      "0.1181640625\n",
      "0.1650390625\n",
      "0.2197265625\n",
      "0.09765625\n",
      "0.2822265625\n",
      "0.19140625\n",
      "0.2197265625\n",
      "0.31640625\n",
      "0.2197265625\n",
      "0.2197265625\n",
      "0.140625\n",
      "0.1181640625\n",
      "0.3525390625\n",
      "0.19140625\n",
      "0.31640625\n",
      "0.3525390625\n",
      "0.390625\n",
      "0.2822265625\n",
      "0.25\n",
      "0.25\n",
      "0.2197265625\n",
      "0.1650390625\n",
      "0.19140625\n",
      "0.2197265625\n",
      "0.2197265625\n",
      "0.1650390625\n",
      "0.2822265625\n",
      "0.25\n",
      "0.2822265625\n",
      "0.2197265625\n",
      "0.1650390625\n",
      "0.31640625\n",
      "0.0791015625\n",
      "0.2822265625\n",
      "0.1650390625\n",
      "0.19140625\n",
      "0.2197265625\n",
      "0.19140625\n",
      "0.25\n",
      "0.2822265625\n",
      "0.2197265625\n",
      "0.2822265625\n",
      "0.1650390625\n",
      "0.2197265625\n",
      "0.1650390625\n",
      "0.25\n",
      "0.19140625\n",
      "0.1650390625\n",
      "0.19140625\n",
      "0.19140625\n",
      "0.1181640625\n",
      "0.2197265625\n",
      "0.2197265625\n",
      "0.2822265625\n",
      "0.2822265625\n",
      "0.2822265625\n",
      "0.31640625\n",
      "0.1650390625\n",
      "0.25\n",
      "0.25\n",
      "0.2822265625\n",
      "0.25\n",
      "0.31640625\n",
      "0.3525390625\n",
      "0.2197265625\n",
      "0.2197265625\n",
      "0.19140625\n",
      "0.2197265625\n",
      "0.2822265625\n",
      "0.3525390625\n",
      "0.2822265625\n",
      "0.2197265625\n",
      "0.19140625\n",
      "0.25\n",
      "0.2197265625\n",
      "0.2822265625\n",
      "0.2822265625\n",
      "0.2197265625\n",
      "0.2197265625\n",
      "0.31640625\n",
      "0.2822265625\n",
      "0.2822265625\n",
      "0.31640625\n",
      "0.31640625\n",
      "0.31640625\n",
      "0.31640625\n",
      "0.3525390625\n",
      "0.25\n",
      "0.25\n",
      "0.31640625\n",
      "0.31640625\n",
      "0.2822265625\n",
      "0.1650390625\n",
      "0.19140625\n",
      "0.25\n",
      "0.19140625\n",
      "0.2822265625\n",
      "0.31640625\n",
      "0.31640625\n",
      "0.2822265625\n",
      "0.31640625\n",
      "0.31640625\n",
      "0.31640625\n",
      "0.25\n",
      "0.2822265625\n",
      "0.2822265625\n",
      "0.2822265625\n",
      "0.31640625\n",
      "0.25\n",
      "0.1650390625\n",
      "0.2822265625\n",
      "0.25\n",
      "0.3525390625\n",
      "0.2822265625\n",
      "0.31640625\n",
      "0.31640625\n",
      "0.1181640625\n",
      "0.25\n",
      "0.2197265625\n",
      "0.2822265625\n",
      "0.25\n",
      "0.31640625\n",
      "0.2822265625\n",
      "0.1650390625\n",
      "0.2197265625\n",
      "0.31640625\n",
      "0.3525390625\n",
      "0.2197265625\n",
      "0.31640625\n",
      "0.19140625\n",
      "0.19140625\n",
      "0.2822265625\n",
      "0.3525390625\n",
      "0.31640625\n",
      "0.140625\n",
      "0.25\n",
      "0.2822265625\n",
      "0.140625\n",
      "0.2822265625\n",
      "0.140625\n",
      "0.25\n",
      "0.2197265625\n",
      "0.31640625\n",
      "0.1650390625\n",
      "0.25\n",
      "0.25\n",
      "0.1650390625\n",
      "0.2197265625\n",
      "0.2822265625\n",
      "0.2822265625\n",
      "0.2197265625\n",
      "0.1650390625\n",
      "0.25\n",
      "0.19140625\n",
      "0.25\n",
      "0.2822265625\n",
      "0.25\n",
      "0.31640625\n",
      "0.2197265625\n",
      "0.31640625\n",
      "0.1181640625\n",
      "0.25\n",
      "0.2822265625\n",
      "0.31640625\n",
      "0.2197265625\n",
      "0.2822265625\n",
      "0.25\n",
      "0.2197265625\n",
      "0.31640625\n",
      "0.19140625\n",
      "0.1650390625\n",
      "0.19140625\n",
      "0.31640625\n",
      "0.25\n",
      "0.3525390625\n",
      "0.31640625\n",
      "0.140625\n",
      "0.140625\n",
      "0.31640625\n",
      "0.2822265625\n",
      "0.31640625\n",
      "0.140625\n",
      "0.19140625\n",
      "0.25\n",
      "0.3525390625\n",
      "0.2822265625\n",
      "0.2197265625\n",
      "0.2197265625\n",
      "0.19140625\n",
      "0.31640625\n",
      "0.25\n",
      "0.31640625\n",
      "0.31640625\n",
      "0.25\n",
      "0.25\n",
      "0.25\n",
      "0.2197265625\n",
      "0.2197265625\n",
      "0.2822265625\n",
      "0.1650390625\n",
      "0.2822265625\n",
      "0.2822265625\n",
      "0.25\n",
      "0.2822265625\n",
      "0.09765625\n",
      "0.31640625\n",
      "0.25\n",
      "0.2822265625\n",
      "0.2197265625\n",
      "0.31640625\n",
      "0.25\n",
      "0.2197265625\n",
      "0.2197265625\n",
      "0.140625\n",
      "0.2197265625\n",
      "0.2822265625\n",
      "0.2822265625\n",
      "0.3525390625\n",
      "0.2822265625\n",
      "0.31640625\n",
      "0.2197265625\n",
      "0.19140625\n",
      "0.2822265625\n",
      "0.25\n",
      "0.2197265625\n",
      "0.3525390625\n",
      "0.25\n",
      "0.0478515625\n",
      "0.1181640625\n",
      "0.3525390625\n",
      "0.0791015625\n",
      "0.2197265625\n",
      "0.2822265625\n",
      "0.0791015625\n",
      "0.140625\n",
      "0.19140625\n",
      "0.2197265625\n",
      "0.19140625\n",
      "0.25\n",
      "0.31640625\n",
      "0.3525390625\n",
      "0.3525390625\n",
      "0.2822265625\n",
      "0.31640625\n",
      "0.2197265625\n",
      "0.2822265625\n",
      "0.2197265625\n",
      "0.140625\n",
      "0.2822265625\n",
      "0.09765625\n",
      "0.2197265625\n",
      "0.2197265625\n",
      "0.1650390625\n",
      "0.140625\n",
      "0.2822265625\n",
      "0.31640625\n",
      "0.1650390625\n",
      "0.2822265625\n",
      "0.09765625\n",
      "0.1650390625\n",
      "0.25\n",
      "0.25\n",
      "0.19140625\n",
      "0.2197265625\n",
      "0.140625\n",
      "0.2822265625\n",
      "0.2197265625\n",
      "0.2197265625\n",
      "0.2197265625\n",
      "0.31640625\n",
      "0.2822265625\n",
      "0.31640625\n",
      "0.2822265625\n",
      "0.19140625\n",
      "0.2197265625\n",
      "0.25\n",
      "0.31640625\n",
      "0.2197265625\n",
      "0.31640625\n",
      "0.31640625\n",
      "0.2822265625\n",
      "0.25\n",
      "0.19140625\n",
      "0.31640625\n",
      "0.19140625\n",
      "0.140625\n",
      "0.2197265625\n",
      "0.2822265625\n",
      "0.25\n",
      "0.2822265625\n",
      "0.2197265625\n",
      "0.19140625\n",
      "0.140625\n",
      "0.2197265625\n",
      "0.31640625\n",
      "0.31640625\n",
      "0.2822265625\n",
      "0.0791015625\n",
      "0.31640625\n",
      "0.2197265625\n",
      "0.140625\n",
      "0.1650390625\n",
      "0.25\n",
      "0.25\n",
      "0.2197265625\n",
      "0.25\n",
      "0.25\n",
      "0.09765625\n",
      "0.140625\n",
      "0.2197265625\n",
      "0.09765625\n",
      "0.25\n",
      "0.19140625\n",
      "0.25\n",
      "0.25\n",
      "0.19140625\n",
      "0.1650390625\n",
      "0.2822265625\n",
      "0.2197265625\n",
      "0.25\n",
      "0.2822265625\n",
      "0.25\n",
      "0.2197265625\n",
      "0.1181640625\n",
      "0.19140625\n",
      "0.2197265625\n",
      "0.31640625\n",
      "0.09765625\n",
      "0.25\n",
      "0.1650390625\n",
      "0.19140625\n",
      "0.2197265625\n",
      "0.2197265625\n",
      "0.31640625\n",
      "0.19140625\n",
      "0.3525390625\n",
      "0.2197265625\n",
      "0.2822265625\n",
      "0.2197265625\n",
      "0.140625\n",
      "0.2822265625\n",
      "0.2197265625\n",
      "0.19140625\n",
      "0.25\n",
      "0.1650390625\n",
      "0.2197265625\n",
      "0.19140625\n",
      "0.1650390625\n",
      "0.31640625\n",
      "0.2822265625\n",
      "0.2197265625\n",
      "0.25\n",
      "0.19140625\n",
      "0.2197265625\n",
      "0.2822265625\n",
      "0.19140625\n",
      "0.25\n",
      "0.2197265625\n",
      "0.1650390625\n",
      "0.19140625\n",
      "0.2822265625\n",
      "0.3525390625\n",
      "0.25\n",
      "0.19140625\n",
      "0.19140625\n",
      "0.140625\n",
      "0.2197265625\n",
      "0.2822265625\n",
      "0.25\n",
      "0.2197265625\n",
      "0.140625\n",
      "0.2197265625\n",
      "0.25\n",
      "0.140625\n",
      "0.19140625\n",
      "0.3525390625\n",
      "0.19140625\n",
      "0.25\n",
      "0.19140625\n",
      "0.19140625\n",
      "0.25\n",
      "0.19140625\n",
      "0.2822265625\n",
      "0.2197265625\n",
      "0.0478515625\n",
      "0.2822265625\n",
      "0.140625\n",
      "0.3525390625\n",
      "0.31640625\n",
      "0.19140625\n",
      "0.19140625\n",
      "0.2197265625\n",
      "0.31640625\n",
      "0.2197265625\n",
      "0.25\n",
      "0.1650390625\n",
      "0.2197265625\n",
      "0.1650390625\n",
      "0.19140625\n",
      "0.2197265625\n",
      "0.1650390625\n",
      "0.25\n",
      "0.19140625\n",
      "0.3525390625\n",
      "0.2822265625\n",
      "0.25\n",
      "0.1181640625\n",
      "0.09765625\n",
      "0.2197265625\n",
      "0.2197265625\n",
      "0.2822265625\n",
      "0.2822265625\n",
      "0.2197265625\n",
      "0.25\n",
      "0.2822265625\n",
      "0.1650390625\n",
      "0.2822265625\n",
      "0.1650390625\n",
      "0.31640625\n",
      "0.2197265625\n",
      "0.1650390625\n",
      "0.19140625\n",
      "0.25\n",
      "0.1650390625\n",
      "0.2822265625\n",
      "0.31640625\n",
      "0.25\n",
      "0.2197265625\n",
      "0.2822265625\n",
      "0.25\n",
      "0.31640625\n",
      "0.2822265625\n",
      "0.19140625\n",
      "0.25\n",
      "0.19140625\n",
      "0.25\n",
      "0.31640625\n",
      "0.1650390625\n",
      "0.31640625\n",
      "0.31640625\n",
      "0.1650390625\n",
      "0.31640625\n",
      "0.19140625\n",
      "0.25\n",
      "0.19140625\n",
      "0.31640625\n",
      "0.2822265625\n",
      "0.2822265625\n",
      "0.3525390625\n",
      "0.19140625\n",
      "0.2197265625\n",
      "0.2822265625\n",
      "0.25\n",
      "0.2197265625\n",
      "0.3525390625\n",
      "0.19140625\n",
      "0.25\n",
      "0.1650390625\n",
      "0.2197265625\n",
      "0.2822265625\n",
      "0.31640625\n",
      "0.2197265625\n",
      "0.1181640625\n",
      "0.25\n",
      "0.25\n",
      "0.2197265625\n",
      "0.2197265625\n",
      "0.2822265625\n",
      "0.31640625\n",
      "0.09765625\n",
      "0.31640625\n",
      "0.2197265625\n",
      "0.0625\n",
      "0.3525390625\n",
      "0.2822265625\n",
      "0.1181640625\n",
      "0.19140625\n",
      "0.31640625\n",
      "0.19140625\n",
      "0.1181640625\n",
      "0.1650390625\n",
      "0.2822265625\n",
      "0.2197265625\n",
      "0.2822265625\n",
      "0.31640625\n",
      "0.2197265625\n",
      "0.25\n",
      "0.2822265625\n",
      "0.25\n",
      "0.2822265625\n",
      "0.2197265625\n",
      "0.140625\n",
      "0.2197265625\n",
      "0.31640625\n",
      "0.25\n",
      "0.2822265625\n",
      "0.2822265625\n",
      "0.2822265625\n",
      "0.19140625\n",
      "0.09765625\n",
      "0.31640625\n",
      "0.3525390625\n",
      "0.25\n",
      "0.31640625\n",
      "0.2197265625\n",
      "0.2822265625\n",
      "0.2197265625\n",
      "0.1650390625\n",
      "0.3525390625\n",
      "0.3525390625\n",
      "0.09765625\n",
      "0.25\n",
      "0.2197265625\n",
      "0.2822265625\n",
      "0.1650390625\n",
      "0.0791015625\n",
      "0.2822265625\n",
      "0.2822265625\n",
      "0.3525390625\n",
      "0.19140625\n",
      "0.1181640625\n",
      "0.25\n",
      "0.2822265625\n",
      "0.1650390625\n",
      "0.1650390625\n",
      "0.2197265625\n",
      "0.2197265625\n",
      "0.25\n",
      "0.31640625\n",
      "0.3525390625\n",
      "0.2822265625\n",
      "0.31640625\n",
      "0.31640625\n",
      "0.31640625\n",
      "0.19140625\n",
      "0.1650390625\n",
      "0.31640625\n",
      "0.31640625\n",
      "0.2822265625\n",
      "0.25\n",
      "0.25\n",
      "0.2822265625\n",
      "0.2822265625\n",
      "0.2197265625\n",
      "0.390625\n",
      "0.31640625\n",
      "0.2822265625\n",
      "0.31640625\n",
      "0.2822265625\n",
      "0.31640625\n",
      "0.3525390625\n",
      "0.3525390625\n",
      "0.31640625\n",
      "0.25\n",
      "0.19140625\n",
      "0.2197265625\n",
      "0.31640625\n",
      "0.140625\n",
      "0.2822265625\n",
      "0.3525390625\n",
      "0.2197265625\n",
      "0.140625\n",
      "0.2822265625\n",
      "0.25\n",
      "0.2822265625\n",
      "0.2822265625\n",
      "0.2822265625\n",
      "0.2197265625\n",
      "0.31640625\n",
      "0.31640625\n",
      "0.31640625\n",
      "0.2822265625\n",
      "0.2822265625\n",
      "0.25\n",
      "0.2822265625\n",
      "0.2197265625\n",
      "0.25\n",
      "0.19140625\n",
      "0.2822265625\n",
      "0.25\n",
      "0.31640625\n",
      "0.3525390625\n",
      "0.31640625\n",
      "0.25\n",
      "0.140625\n",
      "0.2822265625\n",
      "0.3525390625\n",
      "0.3525390625\n",
      "0.3525390625\n",
      "0.3525390625\n",
      "0.2822265625\n",
      "0.25\n",
      "0.25\n",
      "0.5625\n",
      "0.2197265625\n",
      "0.19140625\n",
      "0.3525390625\n",
      "0.3525390625\n",
      "0.2822265625\n",
      "0.2822265625\n",
      "0.1181640625\n",
      "0.1650390625\n",
      "0.31640625\n",
      "0.3525390625\n",
      "0.19140625\n",
      "0.2822265625\n",
      "0.31640625\n",
      "0.31640625\n",
      "0.25\n",
      "0.25\n",
      "0.25\n",
      "0.31640625\n",
      "0.3525390625\n",
      "0.25\n",
      "0.31640625\n",
      "0.4306640625\n",
      "0.19140625\n",
      "0.2197265625\n",
      "0.19140625\n",
      "0.19140625\n",
      "0.25\n",
      "0.2822265625\n",
      "0.31640625\n",
      "0.25\n",
      "0.31640625\n",
      "0.31640625\n",
      "0.2197265625\n",
      "0.3525390625\n",
      "0.31640625\n",
      "0.25\n",
      "0.31640625\n",
      "0.140625\n",
      "0.2822265625\n",
      "0.390625\n",
      "0.31640625\n",
      "0.2822265625\n",
      "0.2822265625\n",
      "0.25\n",
      "0.25\n",
      "0.390625\n",
      "0.25\n",
      "0.31640625\n",
      "0.2197265625\n",
      "0.2822265625\n",
      "0.25\n",
      "0.3525390625\n",
      "0.25\n",
      "0.2822265625\n",
      "0.390625\n",
      "0.2822265625\n",
      "0.25\n",
      "0.2822265625\n",
      "0.3525390625\n"
     ]
    }
   ],
   "source": [
    "X_test = np.array(X_test)\n",
    "for x in X_test[fails]:\n",
    "    print(np.power((np.where(weights[0] == x)[0].shape[0] - np.where(weights[0] != x)[0].shape[0]) / x.shape[0], 2))"
   ]
  },
  {
   "cell_type": "code",
   "execution_count": 650,
   "metadata": {
    "ExecuteTime": {
     "end_time": "2020-09-13T07:04:36.147875Z",
     "start_time": "2020-09-13T07:04:36.139922Z"
    },
    "hidden": true
   },
   "outputs": [
    {
     "name": "stdout",
     "output_type": "stream",
     "text": [
      "[0.05859375 0.0625     0.06738281 0.06738281 0.06933594 0.0703125\n",
      " 0.078125   0.07910156 0.08496094 0.08691406 0.08886719 0.08984375\n",
      " 0.08984375 0.09570312 0.10742188 0.10742188 0.10839844 0.11230469\n",
      " 0.11523438 0.12109375 0.12304688 0.12304688 0.12695312 0.13183594\n",
      " 0.13183594 0.13476562 0.14257812 0.14941406 0.15234375 0.15332031\n",
      " 0.15820312 0.15917969 0.16015625 0.16113281 0.16308594 0.16308594\n",
      " 0.16503906 0.16503906 0.171875   0.17285156 0.17382812 0.17480469\n",
      " 0.17675781 0.17773438 0.17773438 0.1796875  0.1796875  0.18164062\n",
      " 0.18164062 0.18261719 0.18359375 0.18359375 0.18554688 0.18652344\n",
      " 0.18652344 0.18652344 0.1875     0.18847656 0.19042969 0.19238281\n",
      " 0.1953125  0.19921875 0.19921875 0.20117188 0.20507812 0.20507812\n",
      " 0.20605469 0.20996094 0.2109375  0.2109375  0.21484375 0.21777344\n",
      " 0.21777344 0.21972656 0.22167969 0.22363281 0.22460938 0.2265625\n",
      " 0.22753906 0.22949219 0.23242188 0.24023438 0.24609375 0.24707031\n",
      " 0.24707031 0.24804688 0.25195312 0.25292969 0.25390625 0.25488281\n",
      " 0.25683594 0.2578125  0.25976562 0.26269531 0.26269531 0.26464844\n",
      " 0.26464844 0.26464844 0.265625   0.27246094 0.27441406 0.27539062\n",
      " 0.28027344 0.28125    0.28125    0.28222656 0.28222656 0.28222656\n",
      " 0.28417969 0.28515625 0.28613281 0.2890625  0.29492188 0.29785156\n",
      " 0.29785156 0.29882812 0.29980469 0.30078125 0.30175781 0.3046875\n",
      " 0.3046875  0.3046875  0.30566406 0.30664062 0.30957031 0.30957031\n",
      " 0.31152344 0.31152344 0.3125     0.31347656 0.31347656 0.31640625\n",
      " 0.31835938 0.31835938 0.31933594 0.32226562 0.32519531 0.32519531\n",
      " 0.32617188 0.32714844 0.32714844 0.33007812 0.33007812 0.33398438\n",
      " 0.3359375  0.33789062 0.34082031 0.34082031 0.34179688 0.34277344\n",
      " 0.34375    0.34667969 0.34667969 0.34667969 0.34765625 0.3515625\n",
      " 0.35546875 0.35546875 0.35742188 0.35839844 0.36035156 0.36328125\n",
      " 0.36621094 0.37011719 0.37109375 0.37207031 0.37207031 0.37597656\n",
      " 0.37597656 0.37695312 0.38476562 0.39160156 0.39355469 0.40332031\n",
      " 0.45996094 0.4609375  0.46777344 0.484375   0.50195312 0.52441406]\n",
      "\n",
      "[0.04199219 0.046875   0.05664062 ... 0.77734375 0.80957031 0.82519531]\n",
      "[0.04199219 0.046875   0.05664062 ... 0.484375   0.50195312 0.52441406]\n"
     ]
    }
   ],
   "source": [
    "print(np.sort(readouts[np.where(Y_test == number_negative_class)]), end = '\\n\\n')\n",
    "print(np.sort(readouts[np.where(Y_test == number_positive_class)]))\n",
    "print(np.sort(readouts[fails]))"
   ]
  },
  {
   "cell_type": "code",
   "execution_count": 305,
   "metadata": {
    "ExecuteTime": {
     "end_time": "2020-09-13T04:50:41.657942Z",
     "start_time": "2020-09-13T04:50:37.396464Z"
    },
    "collapsed": true,
    "hidden": true
   },
   "outputs": [
    {
     "ename": "KeyboardInterrupt",
     "evalue": "",
     "output_type": "error",
     "traceback": [
      "\u001b[1;31m---------------------------------------------------------------------------\u001b[0m",
      "\u001b[1;31mKeyboardInterrupt\u001b[0m                         Traceback (most recent call last)",
      "\u001b[1;32m<ipython-input-305-dd269fbec58e>\u001b[0m in \u001b[0;36m<module>\u001b[1;34m\u001b[0m\n\u001b[1;32m----> 1\u001b[1;33m \u001b[0mfig\u001b[0m\u001b[1;33m,\u001b[0m \u001b[0maxs\u001b[0m \u001b[1;33m=\u001b[0m \u001b[0mplt\u001b[0m\u001b[1;33m.\u001b[0m\u001b[0msubplots\u001b[0m\u001b[1;33m(\u001b[0m\u001b[1;36m3\u001b[0m\u001b[1;33m,\u001b[0m \u001b[0mint\u001b[0m\u001b[1;33m(\u001b[0m\u001b[0mnp\u001b[0m\u001b[1;33m.\u001b[0m\u001b[0mceil\u001b[0m\u001b[1;33m(\u001b[0m\u001b[0mlen\u001b[0m\u001b[1;33m(\u001b[0m\u001b[0mfails\u001b[0m\u001b[1;33m)\u001b[0m \u001b[1;33m/\u001b[0m \u001b[1;36m3\u001b[0m\u001b[1;33m)\u001b[0m\u001b[1;33m)\u001b[0m\u001b[1;33m,\u001b[0m \u001b[0mfigsize\u001b[0m\u001b[1;33m=\u001b[0m\u001b[1;33m(\u001b[0m\u001b[1;36m15\u001b[0m\u001b[1;33m,\u001b[0m\u001b[1;36m9\u001b[0m\u001b[1;33m)\u001b[0m\u001b[1;33m)\u001b[0m\u001b[1;33m\u001b[0m\u001b[1;33m\u001b[0m\u001b[0m\n\u001b[0m\u001b[0;32m      2\u001b[0m \u001b[0mcount\u001b[0m \u001b[1;33m=\u001b[0m \u001b[1;36m0\u001b[0m\u001b[1;33m\u001b[0m\u001b[1;33m\u001b[0m\u001b[0m\n\u001b[0;32m      3\u001b[0m \u001b[1;33m\u001b[0m\u001b[0m\n\u001b[0;32m      4\u001b[0m \u001b[1;32mfor\u001b[0m \u001b[0mi\u001b[0m \u001b[1;32min\u001b[0m \u001b[0mrange\u001b[0m\u001b[1;33m(\u001b[0m\u001b[1;36m3\u001b[0m\u001b[1;33m)\u001b[0m\u001b[1;33m:\u001b[0m\u001b[1;33m\u001b[0m\u001b[1;33m\u001b[0m\u001b[0m\n\u001b[0;32m      5\u001b[0m     \u001b[1;32mfor\u001b[0m \u001b[0mj\u001b[0m \u001b[1;32min\u001b[0m \u001b[0mrange\u001b[0m\u001b[1;33m(\u001b[0m\u001b[0mint\u001b[0m\u001b[1;33m(\u001b[0m\u001b[0mnp\u001b[0m\u001b[1;33m.\u001b[0m\u001b[0mceil\u001b[0m\u001b[1;33m(\u001b[0m\u001b[0mlen\u001b[0m\u001b[1;33m(\u001b[0m\u001b[0mfails\u001b[0m\u001b[1;33m)\u001b[0m \u001b[1;33m/\u001b[0m \u001b[1;36m3\u001b[0m\u001b[1;33m)\u001b[0m\u001b[1;33m)\u001b[0m\u001b[1;33m)\u001b[0m\u001b[1;33m:\u001b[0m\u001b[1;33m\u001b[0m\u001b[1;33m\u001b[0m\u001b[0m\n",
      "\u001b[1;32m~\\Anaconda3\\lib\\site-packages\\matplotlib\\pyplot.py\u001b[0m in \u001b[0;36msubplots\u001b[1;34m(nrows, ncols, sharex, sharey, squeeze, subplot_kw, gridspec_kw, **fig_kw)\u001b[0m\n\u001b[0;32m   1210\u001b[0m     axs = fig.subplots(nrows=nrows, ncols=ncols, sharex=sharex, sharey=sharey,\n\u001b[0;32m   1211\u001b[0m                        \u001b[0msqueeze\u001b[0m\u001b[1;33m=\u001b[0m\u001b[0msqueeze\u001b[0m\u001b[1;33m,\u001b[0m \u001b[0msubplot_kw\u001b[0m\u001b[1;33m=\u001b[0m\u001b[0msubplot_kw\u001b[0m\u001b[1;33m,\u001b[0m\u001b[1;33m\u001b[0m\u001b[1;33m\u001b[0m\u001b[0m\n\u001b[1;32m-> 1212\u001b[1;33m                        gridspec_kw=gridspec_kw)\n\u001b[0m\u001b[0;32m   1213\u001b[0m     \u001b[1;32mreturn\u001b[0m \u001b[0mfig\u001b[0m\u001b[1;33m,\u001b[0m \u001b[0maxs\u001b[0m\u001b[1;33m\u001b[0m\u001b[1;33m\u001b[0m\u001b[0m\n\u001b[0;32m   1214\u001b[0m \u001b[1;33m\u001b[0m\u001b[0m\n",
      "\u001b[1;32m~\\Anaconda3\\lib\\site-packages\\matplotlib\\figure.py\u001b[0m in \u001b[0;36msubplots\u001b[1;34m(self, nrows, ncols, sharex, sharey, squeeze, subplot_kw, gridspec_kw)\u001b[0m\n\u001b[0;32m   1573\u001b[0m                 \u001b[0msubplot_kw\u001b[0m\u001b[1;33m[\u001b[0m\u001b[1;34m\"sharex\"\u001b[0m\u001b[1;33m]\u001b[0m \u001b[1;33m=\u001b[0m \u001b[0mshared_with\u001b[0m\u001b[1;33m[\u001b[0m\u001b[0msharex\u001b[0m\u001b[1;33m]\u001b[0m\u001b[1;33m\u001b[0m\u001b[1;33m\u001b[0m\u001b[0m\n\u001b[0;32m   1574\u001b[0m                 \u001b[0msubplot_kw\u001b[0m\u001b[1;33m[\u001b[0m\u001b[1;34m\"sharey\"\u001b[0m\u001b[1;33m]\u001b[0m \u001b[1;33m=\u001b[0m \u001b[0mshared_with\u001b[0m\u001b[1;33m[\u001b[0m\u001b[0msharey\u001b[0m\u001b[1;33m]\u001b[0m\u001b[1;33m\u001b[0m\u001b[1;33m\u001b[0m\u001b[0m\n\u001b[1;32m-> 1575\u001b[1;33m                 \u001b[0maxarr\u001b[0m\u001b[1;33m[\u001b[0m\u001b[0mrow\u001b[0m\u001b[1;33m,\u001b[0m \u001b[0mcol\u001b[0m\u001b[1;33m]\u001b[0m \u001b[1;33m=\u001b[0m \u001b[0mself\u001b[0m\u001b[1;33m.\u001b[0m\u001b[0madd_subplot\u001b[0m\u001b[1;33m(\u001b[0m\u001b[0mgs\u001b[0m\u001b[1;33m[\u001b[0m\u001b[0mrow\u001b[0m\u001b[1;33m,\u001b[0m \u001b[0mcol\u001b[0m\u001b[1;33m]\u001b[0m\u001b[1;33m,\u001b[0m \u001b[1;33m**\u001b[0m\u001b[0msubplot_kw\u001b[0m\u001b[1;33m)\u001b[0m\u001b[1;33m\u001b[0m\u001b[1;33m\u001b[0m\u001b[0m\n\u001b[0m\u001b[0;32m   1576\u001b[0m \u001b[1;33m\u001b[0m\u001b[0m\n\u001b[0;32m   1577\u001b[0m         \u001b[1;31m# turn off redundant tick labeling\u001b[0m\u001b[1;33m\u001b[0m\u001b[1;33m\u001b[0m\u001b[1;33m\u001b[0m\u001b[0m\n",
      "\u001b[1;32m~\\Anaconda3\\lib\\site-packages\\matplotlib\\figure.py\u001b[0m in \u001b[0;36madd_subplot\u001b[1;34m(self, *args, **kwargs)\u001b[0m\n\u001b[0;32m   1412\u001b[0m                     \u001b[0mself\u001b[0m\u001b[1;33m.\u001b[0m\u001b[0m_axstack\u001b[0m\u001b[1;33m.\u001b[0m\u001b[0mremove\u001b[0m\u001b[1;33m(\u001b[0m\u001b[0max\u001b[0m\u001b[1;33m)\u001b[0m\u001b[1;33m\u001b[0m\u001b[1;33m\u001b[0m\u001b[0m\n\u001b[0;32m   1413\u001b[0m \u001b[1;33m\u001b[0m\u001b[0m\n\u001b[1;32m-> 1414\u001b[1;33m             \u001b[0ma\u001b[0m \u001b[1;33m=\u001b[0m \u001b[0msubplot_class_factory\u001b[0m\u001b[1;33m(\u001b[0m\u001b[0mprojection_class\u001b[0m\u001b[1;33m)\u001b[0m\u001b[1;33m(\u001b[0m\u001b[0mself\u001b[0m\u001b[1;33m,\u001b[0m \u001b[1;33m*\u001b[0m\u001b[0margs\u001b[0m\u001b[1;33m,\u001b[0m \u001b[1;33m**\u001b[0m\u001b[0mkwargs\u001b[0m\u001b[1;33m)\u001b[0m\u001b[1;33m\u001b[0m\u001b[1;33m\u001b[0m\u001b[0m\n\u001b[0m\u001b[0;32m   1415\u001b[0m \u001b[1;33m\u001b[0m\u001b[0m\n\u001b[0;32m   1416\u001b[0m         \u001b[1;32mreturn\u001b[0m \u001b[0mself\u001b[0m\u001b[1;33m.\u001b[0m\u001b[0m_add_axes_internal\u001b[0m\u001b[1;33m(\u001b[0m\u001b[0mkey\u001b[0m\u001b[1;33m,\u001b[0m \u001b[0ma\u001b[0m\u001b[1;33m)\u001b[0m\u001b[1;33m\u001b[0m\u001b[1;33m\u001b[0m\u001b[0m\n",
      "\u001b[1;32m~\\Anaconda3\\lib\\site-packages\\matplotlib\\axes\\_subplots.py\u001b[0m in \u001b[0;36m__init__\u001b[1;34m(self, fig, *args, **kwargs)\u001b[0m\n\u001b[0;32m     67\u001b[0m \u001b[1;33m\u001b[0m\u001b[0m\n\u001b[0;32m     68\u001b[0m         \u001b[1;31m# _axes_class is set in the subplot_class_factory\u001b[0m\u001b[1;33m\u001b[0m\u001b[1;33m\u001b[0m\u001b[1;33m\u001b[0m\u001b[0m\n\u001b[1;32m---> 69\u001b[1;33m         \u001b[0mself\u001b[0m\u001b[1;33m.\u001b[0m\u001b[0m_axes_class\u001b[0m\u001b[1;33m.\u001b[0m\u001b[0m__init__\u001b[0m\u001b[1;33m(\u001b[0m\u001b[0mself\u001b[0m\u001b[1;33m,\u001b[0m \u001b[0mfig\u001b[0m\u001b[1;33m,\u001b[0m \u001b[0mself\u001b[0m\u001b[1;33m.\u001b[0m\u001b[0mfigbox\u001b[0m\u001b[1;33m,\u001b[0m \u001b[1;33m**\u001b[0m\u001b[0mkwargs\u001b[0m\u001b[1;33m)\u001b[0m\u001b[1;33m\u001b[0m\u001b[1;33m\u001b[0m\u001b[0m\n\u001b[0m\u001b[0;32m     70\u001b[0m         \u001b[1;31m# add a layout box to this, for both the full axis, and the poss\u001b[0m\u001b[1;33m\u001b[0m\u001b[1;33m\u001b[0m\u001b[1;33m\u001b[0m\u001b[0m\n\u001b[0;32m     71\u001b[0m         \u001b[1;31m# of the axis.  We need both because the axes may become smaller\u001b[0m\u001b[1;33m\u001b[0m\u001b[1;33m\u001b[0m\u001b[1;33m\u001b[0m\u001b[0m\n",
      "\u001b[1;32m~\\Anaconda3\\lib\\site-packages\\matplotlib\\axes\\_base.py\u001b[0m in \u001b[0;36m__init__\u001b[1;34m(self, fig, rect, facecolor, frameon, sharex, sharey, label, xscale, yscale, **kwargs)\u001b[0m\n\u001b[0;32m    493\u001b[0m         \u001b[0mself\u001b[0m\u001b[1;33m.\u001b[0m\u001b[0m_rasterization_zorder\u001b[0m \u001b[1;33m=\u001b[0m \u001b[1;32mNone\u001b[0m\u001b[1;33m\u001b[0m\u001b[1;33m\u001b[0m\u001b[0m\n\u001b[0;32m    494\u001b[0m         \u001b[0mself\u001b[0m\u001b[1;33m.\u001b[0m\u001b[0m_connected\u001b[0m \u001b[1;33m=\u001b[0m \u001b[1;33m{\u001b[0m\u001b[1;33m}\u001b[0m  \u001b[1;31m# a dict from events to (id, func)\u001b[0m\u001b[1;33m\u001b[0m\u001b[1;33m\u001b[0m\u001b[0m\n\u001b[1;32m--> 495\u001b[1;33m         \u001b[0mself\u001b[0m\u001b[1;33m.\u001b[0m\u001b[0mcla\u001b[0m\u001b[1;33m(\u001b[0m\u001b[1;33m)\u001b[0m\u001b[1;33m\u001b[0m\u001b[1;33m\u001b[0m\u001b[0m\n\u001b[0m\u001b[0;32m    496\u001b[0m \u001b[1;33m\u001b[0m\u001b[0m\n\u001b[0;32m    497\u001b[0m         \u001b[1;31m# funcs used to format x and y - fall back on major formatters\u001b[0m\u001b[1;33m\u001b[0m\u001b[1;33m\u001b[0m\u001b[1;33m\u001b[0m\u001b[0m\n",
      "\u001b[1;32m~\\Anaconda3\\lib\\site-packages\\matplotlib\\axes\\_base.py\u001b[0m in \u001b[0;36mcla\u001b[1;34m(self)\u001b[0m\n\u001b[0;32m   1043\u001b[0m         \u001b[0mself\u001b[0m\u001b[1;33m.\u001b[0m\u001b[0mcontainers\u001b[0m \u001b[1;33m=\u001b[0m \u001b[1;33m[\u001b[0m\u001b[1;33m]\u001b[0m\u001b[1;33m\u001b[0m\u001b[1;33m\u001b[0m\u001b[0m\n\u001b[0;32m   1044\u001b[0m \u001b[1;33m\u001b[0m\u001b[0m\n\u001b[1;32m-> 1045\u001b[1;33m         \u001b[0mself\u001b[0m\u001b[1;33m.\u001b[0m\u001b[0mgrid\u001b[0m\u001b[1;33m(\u001b[0m\u001b[1;32mFalse\u001b[0m\u001b[1;33m)\u001b[0m  \u001b[1;31m# Disable grid on init to use rcParameter\u001b[0m\u001b[1;33m\u001b[0m\u001b[1;33m\u001b[0m\u001b[0m\n\u001b[0m\u001b[0;32m   1046\u001b[0m         self.grid(self._gridOn, which=rcParams['axes.grid.which'],\n\u001b[0;32m   1047\u001b[0m                   axis=rcParams['axes.grid.axis'])\n",
      "\u001b[1;32m~\\Anaconda3\\lib\\site-packages\\matplotlib\\axes\\_base.py\u001b[0m in \u001b[0;36mgrid\u001b[1;34m(self, b, which, axis, **kwargs)\u001b[0m\n\u001b[0;32m   2783\u001b[0m         \u001b[0mcbook\u001b[0m\u001b[1;33m.\u001b[0m\u001b[0m_check_in_list\u001b[0m\u001b[1;33m(\u001b[0m\u001b[1;33m[\u001b[0m\u001b[1;34m'x'\u001b[0m\u001b[1;33m,\u001b[0m \u001b[1;34m'y'\u001b[0m\u001b[1;33m,\u001b[0m \u001b[1;34m'both'\u001b[0m\u001b[1;33m]\u001b[0m\u001b[1;33m,\u001b[0m \u001b[0maxis\u001b[0m\u001b[1;33m=\u001b[0m\u001b[0maxis\u001b[0m\u001b[1;33m)\u001b[0m\u001b[1;33m\u001b[0m\u001b[1;33m\u001b[0m\u001b[0m\n\u001b[0;32m   2784\u001b[0m         \u001b[1;32mif\u001b[0m \u001b[0maxis\u001b[0m \u001b[1;32min\u001b[0m \u001b[1;33m[\u001b[0m\u001b[1;34m'x'\u001b[0m\u001b[1;33m,\u001b[0m \u001b[1;34m'both'\u001b[0m\u001b[1;33m]\u001b[0m\u001b[1;33m:\u001b[0m\u001b[1;33m\u001b[0m\u001b[1;33m\u001b[0m\u001b[0m\n\u001b[1;32m-> 2785\u001b[1;33m             \u001b[0mself\u001b[0m\u001b[1;33m.\u001b[0m\u001b[0mxaxis\u001b[0m\u001b[1;33m.\u001b[0m\u001b[0mgrid\u001b[0m\u001b[1;33m(\u001b[0m\u001b[0mb\u001b[0m\u001b[1;33m,\u001b[0m \u001b[0mwhich\u001b[0m\u001b[1;33m=\u001b[0m\u001b[0mwhich\u001b[0m\u001b[1;33m,\u001b[0m \u001b[1;33m**\u001b[0m\u001b[0mkwargs\u001b[0m\u001b[1;33m)\u001b[0m\u001b[1;33m\u001b[0m\u001b[1;33m\u001b[0m\u001b[0m\n\u001b[0m\u001b[0;32m   2786\u001b[0m         \u001b[1;32mif\u001b[0m \u001b[0maxis\u001b[0m \u001b[1;32min\u001b[0m \u001b[1;33m[\u001b[0m\u001b[1;34m'y'\u001b[0m\u001b[1;33m,\u001b[0m \u001b[1;34m'both'\u001b[0m\u001b[1;33m]\u001b[0m\u001b[1;33m:\u001b[0m\u001b[1;33m\u001b[0m\u001b[1;33m\u001b[0m\u001b[0m\n\u001b[0;32m   2787\u001b[0m             \u001b[0mself\u001b[0m\u001b[1;33m.\u001b[0m\u001b[0myaxis\u001b[0m\u001b[1;33m.\u001b[0m\u001b[0mgrid\u001b[0m\u001b[1;33m(\u001b[0m\u001b[0mb\u001b[0m\u001b[1;33m,\u001b[0m \u001b[0mwhich\u001b[0m\u001b[1;33m=\u001b[0m\u001b[0mwhich\u001b[0m\u001b[1;33m,\u001b[0m \u001b[1;33m**\u001b[0m\u001b[0mkwargs\u001b[0m\u001b[1;33m)\u001b[0m\u001b[1;33m\u001b[0m\u001b[1;33m\u001b[0m\u001b[0m\n",
      "\u001b[1;32m~\\Anaconda3\\lib\\site-packages\\matplotlib\\axis.py\u001b[0m in \u001b[0;36mgrid\u001b[1;34m(self, b, which, **kwargs)\u001b[0m\n\u001b[0;32m   1475\u001b[0m                 \u001b[0mself\u001b[0m\u001b[1;33m.\u001b[0m\u001b[0m_gridOnMajor\u001b[0m \u001b[1;33m=\u001b[0m \u001b[0mb\u001b[0m\u001b[1;33m\u001b[0m\u001b[1;33m\u001b[0m\u001b[0m\n\u001b[0;32m   1476\u001b[0m             self.set_tick_params(which='major', gridOn=self._gridOnMajor,\n\u001b[1;32m-> 1477\u001b[1;33m                                  **gridkw)\n\u001b[0m\u001b[0;32m   1478\u001b[0m         \u001b[0mself\u001b[0m\u001b[1;33m.\u001b[0m\u001b[0mstale\u001b[0m \u001b[1;33m=\u001b[0m \u001b[1;32mTrue\u001b[0m\u001b[1;33m\u001b[0m\u001b[1;33m\u001b[0m\u001b[0m\n\u001b[0;32m   1479\u001b[0m \u001b[1;33m\u001b[0m\u001b[0m\n",
      "\u001b[1;32m~\\Anaconda3\\lib\\site-packages\\matplotlib\\axis.py\u001b[0m in \u001b[0;36mset_tick_params\u001b[1;34m(self, which, reset, **kw)\u001b[0m\n\u001b[0;32m    886\u001b[0m             \u001b[1;31m# apply the new kwargs to the existing ticks\u001b[0m\u001b[1;33m\u001b[0m\u001b[1;33m\u001b[0m\u001b[1;33m\u001b[0m\u001b[0m\n\u001b[0;32m    887\u001b[0m             \u001b[1;32mif\u001b[0m \u001b[0mwhich\u001b[0m \u001b[1;33m==\u001b[0m \u001b[1;34m'major'\u001b[0m \u001b[1;32mor\u001b[0m \u001b[0mwhich\u001b[0m \u001b[1;33m==\u001b[0m \u001b[1;34m'both'\u001b[0m\u001b[1;33m:\u001b[0m\u001b[1;33m\u001b[0m\u001b[1;33m\u001b[0m\u001b[0m\n\u001b[1;32m--> 888\u001b[1;33m                 \u001b[1;32mfor\u001b[0m \u001b[0mtick\u001b[0m \u001b[1;32min\u001b[0m \u001b[0mself\u001b[0m\u001b[1;33m.\u001b[0m\u001b[0mmajorTicks\u001b[0m\u001b[1;33m:\u001b[0m\u001b[1;33m\u001b[0m\u001b[1;33m\u001b[0m\u001b[0m\n\u001b[0m\u001b[0;32m    889\u001b[0m                     \u001b[0mtick\u001b[0m\u001b[1;33m.\u001b[0m\u001b[0m_apply_params\u001b[0m\u001b[1;33m(\u001b[0m\u001b[1;33m**\u001b[0m\u001b[0mkwtrans\u001b[0m\u001b[1;33m)\u001b[0m\u001b[1;33m\u001b[0m\u001b[1;33m\u001b[0m\u001b[0m\n\u001b[0;32m    890\u001b[0m             \u001b[1;32mif\u001b[0m \u001b[0mwhich\u001b[0m \u001b[1;33m==\u001b[0m \u001b[1;34m'minor'\u001b[0m \u001b[1;32mor\u001b[0m \u001b[0mwhich\u001b[0m \u001b[1;33m==\u001b[0m \u001b[1;34m'both'\u001b[0m\u001b[1;33m:\u001b[0m\u001b[1;33m\u001b[0m\u001b[1;33m\u001b[0m\u001b[0m\n",
      "\u001b[1;32m~\\Anaconda3\\lib\\site-packages\\matplotlib\\axis.py\u001b[0m in \u001b[0;36m__get__\u001b[1;34m(self, instance, cls)\u001b[0m\n\u001b[0;32m    667\u001b[0m             \u001b[1;32mif\u001b[0m \u001b[0mself\u001b[0m\u001b[1;33m.\u001b[0m\u001b[0m_major\u001b[0m\u001b[1;33m:\u001b[0m\u001b[1;33m\u001b[0m\u001b[1;33m\u001b[0m\u001b[0m\n\u001b[0;32m    668\u001b[0m                 \u001b[0minstance\u001b[0m\u001b[1;33m.\u001b[0m\u001b[0mmajorTicks\u001b[0m \u001b[1;33m=\u001b[0m \u001b[1;33m[\u001b[0m\u001b[1;33m]\u001b[0m\u001b[1;33m\u001b[0m\u001b[1;33m\u001b[0m\u001b[0m\n\u001b[1;32m--> 669\u001b[1;33m                 \u001b[0mtick\u001b[0m \u001b[1;33m=\u001b[0m \u001b[0minstance\u001b[0m\u001b[1;33m.\u001b[0m\u001b[0m_get_tick\u001b[0m\u001b[1;33m(\u001b[0m\u001b[0mmajor\u001b[0m\u001b[1;33m=\u001b[0m\u001b[1;32mTrue\u001b[0m\u001b[1;33m)\u001b[0m\u001b[1;33m\u001b[0m\u001b[1;33m\u001b[0m\u001b[0m\n\u001b[0m\u001b[0;32m    670\u001b[0m                 \u001b[0minstance\u001b[0m\u001b[1;33m.\u001b[0m\u001b[0mmajorTicks\u001b[0m\u001b[1;33m.\u001b[0m\u001b[0mappend\u001b[0m\u001b[1;33m(\u001b[0m\u001b[0mtick\u001b[0m\u001b[1;33m)\u001b[0m\u001b[1;33m\u001b[0m\u001b[1;33m\u001b[0m\u001b[0m\n\u001b[0;32m    671\u001b[0m                 \u001b[1;32mreturn\u001b[0m \u001b[0minstance\u001b[0m\u001b[1;33m.\u001b[0m\u001b[0mmajorTicks\u001b[0m\u001b[1;33m\u001b[0m\u001b[1;33m\u001b[0m\u001b[0m\n",
      "\u001b[1;32m~\\Anaconda3\\lib\\site-packages\\matplotlib\\axis.py\u001b[0m in \u001b[0;36m_get_tick\u001b[1;34m(self, major)\u001b[0m\n\u001b[0;32m   1931\u001b[0m         \u001b[1;32melse\u001b[0m\u001b[1;33m:\u001b[0m\u001b[1;33m\u001b[0m\u001b[1;33m\u001b[0m\u001b[0m\n\u001b[0;32m   1932\u001b[0m             \u001b[0mtick_kw\u001b[0m \u001b[1;33m=\u001b[0m \u001b[0mself\u001b[0m\u001b[1;33m.\u001b[0m\u001b[0m_minor_tick_kw\u001b[0m\u001b[1;33m\u001b[0m\u001b[1;33m\u001b[0m\u001b[0m\n\u001b[1;32m-> 1933\u001b[1;33m         \u001b[1;32mreturn\u001b[0m \u001b[0mXTick\u001b[0m\u001b[1;33m(\u001b[0m\u001b[0mself\u001b[0m\u001b[1;33m.\u001b[0m\u001b[0maxes\u001b[0m\u001b[1;33m,\u001b[0m \u001b[1;36m0\u001b[0m\u001b[1;33m,\u001b[0m \u001b[1;34m''\u001b[0m\u001b[1;33m,\u001b[0m \u001b[0mmajor\u001b[0m\u001b[1;33m=\u001b[0m\u001b[0mmajor\u001b[0m\u001b[1;33m,\u001b[0m \u001b[1;33m**\u001b[0m\u001b[0mtick_kw\u001b[0m\u001b[1;33m)\u001b[0m\u001b[1;33m\u001b[0m\u001b[1;33m\u001b[0m\u001b[0m\n\u001b[0m\u001b[0;32m   1934\u001b[0m \u001b[1;33m\u001b[0m\u001b[0m\n\u001b[0;32m   1935\u001b[0m     \u001b[1;32mdef\u001b[0m \u001b[0m_get_label\u001b[0m\u001b[1;33m(\u001b[0m\u001b[0mself\u001b[0m\u001b[1;33m)\u001b[0m\u001b[1;33m:\u001b[0m\u001b[1;33m\u001b[0m\u001b[1;33m\u001b[0m\u001b[0m\n",
      "\u001b[1;32m~\\Anaconda3\\lib\\site-packages\\matplotlib\\axis.py\u001b[0m in \u001b[0;36m__init__\u001b[1;34m(self, axes, loc, label, size, width, color, tickdir, pad, labelsize, labelcolor, zorder, gridOn, tick1On, tick2On, label1On, label2On, major, labelrotation, grid_color, grid_linestyle, grid_linewidth, grid_alpha, **kw)\u001b[0m\n\u001b[0;32m    156\u001b[0m         \u001b[0mself\u001b[0m\u001b[1;33m.\u001b[0m\u001b[0mapply_tickdir\u001b[0m\u001b[1;33m(\u001b[0m\u001b[0mtickdir\u001b[0m\u001b[1;33m)\u001b[0m\u001b[1;33m\u001b[0m\u001b[1;33m\u001b[0m\u001b[0m\n\u001b[0;32m    157\u001b[0m \u001b[1;33m\u001b[0m\u001b[0m\n\u001b[1;32m--> 158\u001b[1;33m         \u001b[0mself\u001b[0m\u001b[1;33m.\u001b[0m\u001b[0mtick1line\u001b[0m \u001b[1;33m=\u001b[0m \u001b[0mself\u001b[0m\u001b[1;33m.\u001b[0m\u001b[0m_get_tick1line\u001b[0m\u001b[1;33m(\u001b[0m\u001b[1;33m)\u001b[0m\u001b[1;33m\u001b[0m\u001b[1;33m\u001b[0m\u001b[0m\n\u001b[0m\u001b[0;32m    159\u001b[0m         \u001b[0mself\u001b[0m\u001b[1;33m.\u001b[0m\u001b[0mtick2line\u001b[0m \u001b[1;33m=\u001b[0m \u001b[0mself\u001b[0m\u001b[1;33m.\u001b[0m\u001b[0m_get_tick2line\u001b[0m\u001b[1;33m(\u001b[0m\u001b[1;33m)\u001b[0m\u001b[1;33m\u001b[0m\u001b[1;33m\u001b[0m\u001b[0m\n\u001b[0;32m    160\u001b[0m         \u001b[0mself\u001b[0m\u001b[1;33m.\u001b[0m\u001b[0mgridline\u001b[0m \u001b[1;33m=\u001b[0m \u001b[0mself\u001b[0m\u001b[1;33m.\u001b[0m\u001b[0m_get_gridline\u001b[0m\u001b[1;33m(\u001b[0m\u001b[1;33m)\u001b[0m\u001b[1;33m\u001b[0m\u001b[1;33m\u001b[0m\u001b[0m\n",
      "\u001b[1;32m~\\Anaconda3\\lib\\site-packages\\matplotlib\\axis.py\u001b[0m in \u001b[0;36m_get_tick1line\u001b[1;34m(self)\u001b[0m\n\u001b[0;32m    462\u001b[0m                           \u001b[0mlinestyle\u001b[0m\u001b[1;33m=\u001b[0m\u001b[1;34m'None'\u001b[0m\u001b[1;33m,\u001b[0m \u001b[0mmarker\u001b[0m\u001b[1;33m=\u001b[0m\u001b[0mself\u001b[0m\u001b[1;33m.\u001b[0m\u001b[0m_tickmarkers\u001b[0m\u001b[1;33m[\u001b[0m\u001b[1;36m0\u001b[0m\u001b[1;33m]\u001b[0m\u001b[1;33m,\u001b[0m\u001b[1;33m\u001b[0m\u001b[1;33m\u001b[0m\u001b[0m\n\u001b[0;32m    463\u001b[0m                           \u001b[0mmarkersize\u001b[0m\u001b[1;33m=\u001b[0m\u001b[0mself\u001b[0m\u001b[1;33m.\u001b[0m\u001b[0m_size\u001b[0m\u001b[1;33m,\u001b[0m\u001b[1;33m\u001b[0m\u001b[1;33m\u001b[0m\u001b[0m\n\u001b[1;32m--> 464\u001b[1;33m                           markeredgewidth=self._width, zorder=self._zorder)\n\u001b[0m\u001b[0;32m    465\u001b[0m         \u001b[0ml\u001b[0m\u001b[1;33m.\u001b[0m\u001b[0mset_transform\u001b[0m\u001b[1;33m(\u001b[0m\u001b[0mself\u001b[0m\u001b[1;33m.\u001b[0m\u001b[0maxes\u001b[0m\u001b[1;33m.\u001b[0m\u001b[0mget_xaxis_transform\u001b[0m\u001b[1;33m(\u001b[0m\u001b[0mwhich\u001b[0m\u001b[1;33m=\u001b[0m\u001b[1;34m'tick1'\u001b[0m\u001b[1;33m)\u001b[0m\u001b[1;33m)\u001b[0m\u001b[1;33m\u001b[0m\u001b[1;33m\u001b[0m\u001b[0m\n\u001b[0;32m    466\u001b[0m         \u001b[0mself\u001b[0m\u001b[1;33m.\u001b[0m\u001b[0m_set_artist_props\u001b[0m\u001b[1;33m(\u001b[0m\u001b[0ml\u001b[0m\u001b[1;33m)\u001b[0m\u001b[1;33m\u001b[0m\u001b[1;33m\u001b[0m\u001b[0m\n",
      "\u001b[1;32m~\\Anaconda3\\lib\\site-packages\\matplotlib\\lines.py\u001b[0m in \u001b[0;36m__init__\u001b[1;34m(self, xdata, ydata, linewidth, linestyle, color, marker, markersize, markeredgewidth, markeredgecolor, markerfacecolor, markerfacecoloralt, fillstyle, antialiased, dash_capstyle, solid_capstyle, dash_joinstyle, solid_joinstyle, pickradius, drawstyle, markevery, **kwargs)\u001b[0m\n\u001b[0;32m    380\u001b[0m         \u001b[0mself\u001b[0m\u001b[1;33m.\u001b[0m\u001b[0m_color\u001b[0m \u001b[1;33m=\u001b[0m \u001b[1;32mNone\u001b[0m\u001b[1;33m\u001b[0m\u001b[1;33m\u001b[0m\u001b[0m\n\u001b[0;32m    381\u001b[0m         \u001b[0mself\u001b[0m\u001b[1;33m.\u001b[0m\u001b[0mset_color\u001b[0m\u001b[1;33m(\u001b[0m\u001b[0mcolor\u001b[0m\u001b[1;33m)\u001b[0m\u001b[1;33m\u001b[0m\u001b[1;33m\u001b[0m\u001b[0m\n\u001b[1;32m--> 382\u001b[1;33m         \u001b[0mself\u001b[0m\u001b[1;33m.\u001b[0m\u001b[0m_marker\u001b[0m \u001b[1;33m=\u001b[0m \u001b[0mMarkerStyle\u001b[0m\u001b[1;33m(\u001b[0m\u001b[0mmarker\u001b[0m\u001b[1;33m,\u001b[0m \u001b[0mfillstyle\u001b[0m\u001b[1;33m)\u001b[0m\u001b[1;33m\u001b[0m\u001b[1;33m\u001b[0m\u001b[0m\n\u001b[0m\u001b[0;32m    383\u001b[0m \u001b[1;33m\u001b[0m\u001b[0m\n\u001b[0;32m    384\u001b[0m         \u001b[0mself\u001b[0m\u001b[1;33m.\u001b[0m\u001b[0m_markevery\u001b[0m \u001b[1;33m=\u001b[0m \u001b[1;32mNone\u001b[0m\u001b[1;33m\u001b[0m\u001b[1;33m\u001b[0m\u001b[0m\n",
      "\u001b[1;32m~\\Anaconda3\\lib\\site-packages\\matplotlib\\markers.py\u001b[0m in \u001b[0;36m__init__\u001b[1;34m(self, marker, fillstyle)\u001b[0m\n\u001b[0;32m    241\u001b[0m         \u001b[0mself\u001b[0m\u001b[1;33m.\u001b[0m\u001b[0m_marker_function\u001b[0m \u001b[1;33m=\u001b[0m \u001b[1;32mNone\u001b[0m\u001b[1;33m\u001b[0m\u001b[1;33m\u001b[0m\u001b[0m\n\u001b[0;32m    242\u001b[0m         \u001b[0mself\u001b[0m\u001b[1;33m.\u001b[0m\u001b[0mset_fillstyle\u001b[0m\u001b[1;33m(\u001b[0m\u001b[0mfillstyle\u001b[0m\u001b[1;33m)\u001b[0m\u001b[1;33m\u001b[0m\u001b[1;33m\u001b[0m\u001b[0m\n\u001b[1;32m--> 243\u001b[1;33m         \u001b[0mself\u001b[0m\u001b[1;33m.\u001b[0m\u001b[0mset_marker\u001b[0m\u001b[1;33m(\u001b[0m\u001b[0mmarker\u001b[0m\u001b[1;33m)\u001b[0m\u001b[1;33m\u001b[0m\u001b[1;33m\u001b[0m\u001b[0m\n\u001b[0m\u001b[0;32m    244\u001b[0m \u001b[1;33m\u001b[0m\u001b[0m\n\u001b[0;32m    245\u001b[0m     \u001b[1;32mdef\u001b[0m \u001b[0m_recache\u001b[0m\u001b[1;33m(\u001b[0m\u001b[0mself\u001b[0m\u001b[1;33m)\u001b[0m\u001b[1;33m:\u001b[0m\u001b[1;33m\u001b[0m\u001b[1;33m\u001b[0m\u001b[0m\n",
      "\u001b[1;32m~\\Anaconda3\\lib\\site-packages\\matplotlib\\markers.py\u001b[0m in \u001b[0;36mset_marker\u001b[1;34m(self, marker)\u001b[0m\n\u001b[0;32m    314\u001b[0m \u001b[1;33m\u001b[0m\u001b[0m\n\u001b[0;32m    315\u001b[0m         \u001b[0mself\u001b[0m\u001b[1;33m.\u001b[0m\u001b[0m_marker\u001b[0m \u001b[1;33m=\u001b[0m \u001b[0mmarker\u001b[0m\u001b[1;33m\u001b[0m\u001b[1;33m\u001b[0m\u001b[0m\n\u001b[1;32m--> 316\u001b[1;33m         \u001b[0mself\u001b[0m\u001b[1;33m.\u001b[0m\u001b[0m_recache\u001b[0m\u001b[1;33m(\u001b[0m\u001b[1;33m)\u001b[0m\u001b[1;33m\u001b[0m\u001b[1;33m\u001b[0m\u001b[0m\n\u001b[0m\u001b[0;32m    317\u001b[0m \u001b[1;33m\u001b[0m\u001b[0m\n\u001b[0;32m    318\u001b[0m     \u001b[1;32mdef\u001b[0m \u001b[0mget_path\u001b[0m\u001b[1;33m(\u001b[0m\u001b[0mself\u001b[0m\u001b[1;33m)\u001b[0m\u001b[1;33m:\u001b[0m\u001b[1;33m\u001b[0m\u001b[1;33m\u001b[0m\u001b[0m\n",
      "\u001b[1;32m~\\Anaconda3\\lib\\site-packages\\matplotlib\\markers.py\u001b[0m in \u001b[0;36m_recache\u001b[1;34m(self)\u001b[0m\n\u001b[0;32m    254\u001b[0m         \u001b[0mself\u001b[0m\u001b[1;33m.\u001b[0m\u001b[0m_capstyle\u001b[0m \u001b[1;33m=\u001b[0m \u001b[1;34m'butt'\u001b[0m\u001b[1;33m\u001b[0m\u001b[1;33m\u001b[0m\u001b[0m\n\u001b[0;32m    255\u001b[0m         \u001b[0mself\u001b[0m\u001b[1;33m.\u001b[0m\u001b[0m_filled\u001b[0m \u001b[1;33m=\u001b[0m \u001b[1;32mTrue\u001b[0m\u001b[1;33m\u001b[0m\u001b[1;33m\u001b[0m\u001b[0m\n\u001b[1;32m--> 256\u001b[1;33m         \u001b[0mself\u001b[0m\u001b[1;33m.\u001b[0m\u001b[0m_marker_function\u001b[0m\u001b[1;33m(\u001b[0m\u001b[1;33m)\u001b[0m\u001b[1;33m\u001b[0m\u001b[1;33m\u001b[0m\u001b[0m\n\u001b[0m\u001b[0;32m    257\u001b[0m \u001b[1;33m\u001b[0m\u001b[0m\n\u001b[0;32m    258\u001b[0m     \u001b[1;32mdef\u001b[0m \u001b[0m__bool__\u001b[0m\u001b[1;33m(\u001b[0m\u001b[0mself\u001b[0m\u001b[1;33m)\u001b[0m\u001b[1;33m:\u001b[0m\u001b[1;33m\u001b[0m\u001b[1;33m\u001b[0m\u001b[0m\n",
      "\u001b[1;32m~\\Anaconda3\\lib\\site-packages\\matplotlib\\markers.py\u001b[0m in \u001b[0;36m_set_tickdown\u001b[1;34m(self)\u001b[0m\n\u001b[0;32m    767\u001b[0m \u001b[1;33m\u001b[0m\u001b[0m\n\u001b[0;32m    768\u001b[0m     \u001b[1;32mdef\u001b[0m \u001b[0m_set_tickdown\u001b[0m\u001b[1;33m(\u001b[0m\u001b[0mself\u001b[0m\u001b[1;33m)\u001b[0m\u001b[1;33m:\u001b[0m\u001b[1;33m\u001b[0m\u001b[1;33m\u001b[0m\u001b[0m\n\u001b[1;32m--> 769\u001b[1;33m         \u001b[0mself\u001b[0m\u001b[1;33m.\u001b[0m\u001b[0m_transform\u001b[0m \u001b[1;33m=\u001b[0m \u001b[0mAffine2D\u001b[0m\u001b[1;33m(\u001b[0m\u001b[1;33m)\u001b[0m\u001b[1;33m.\u001b[0m\u001b[0mscale\u001b[0m\u001b[1;33m(\u001b[0m\u001b[1;36m1.0\u001b[0m\u001b[1;33m,\u001b[0m \u001b[1;33m-\u001b[0m\u001b[1;36m1.0\u001b[0m\u001b[1;33m)\u001b[0m\u001b[1;33m\u001b[0m\u001b[1;33m\u001b[0m\u001b[0m\n\u001b[0m\u001b[0;32m    770\u001b[0m         \u001b[0mself\u001b[0m\u001b[1;33m.\u001b[0m\u001b[0m_snap_threshold\u001b[0m \u001b[1;33m=\u001b[0m \u001b[1;36m1.0\u001b[0m\u001b[1;33m\u001b[0m\u001b[1;33m\u001b[0m\u001b[0m\n\u001b[0;32m    771\u001b[0m         \u001b[0mself\u001b[0m\u001b[1;33m.\u001b[0m\u001b[0m_filled\u001b[0m \u001b[1;33m=\u001b[0m \u001b[1;32mFalse\u001b[0m\u001b[1;33m\u001b[0m\u001b[1;33m\u001b[0m\u001b[0m\n",
      "\u001b[1;32m~\\Anaconda3\\lib\\site-packages\\matplotlib\\transforms.py\u001b[0m in \u001b[0;36mscale\u001b[1;34m(self, sx, sy)\u001b[0m\n\u001b[0;32m   1989\u001b[0m         scale_mtx = np.array(\n\u001b[0;32m   1990\u001b[0m             [[sx, 0.0, 0.0], [0.0, sy, 0.0], [0.0, 0.0, 1.0]], float)\n\u001b[1;32m-> 1991\u001b[1;33m         \u001b[0mself\u001b[0m\u001b[1;33m.\u001b[0m\u001b[0m_mtx\u001b[0m \u001b[1;33m=\u001b[0m \u001b[0mnp\u001b[0m\u001b[1;33m.\u001b[0m\u001b[0mdot\u001b[0m\u001b[1;33m(\u001b[0m\u001b[0mscale_mtx\u001b[0m\u001b[1;33m,\u001b[0m \u001b[0mself\u001b[0m\u001b[1;33m.\u001b[0m\u001b[0m_mtx\u001b[0m\u001b[1;33m)\u001b[0m\u001b[1;33m\u001b[0m\u001b[1;33m\u001b[0m\u001b[0m\n\u001b[0m\u001b[0;32m   1992\u001b[0m         \u001b[0mself\u001b[0m\u001b[1;33m.\u001b[0m\u001b[0minvalidate\u001b[0m\u001b[1;33m(\u001b[0m\u001b[1;33m)\u001b[0m\u001b[1;33m\u001b[0m\u001b[1;33m\u001b[0m\u001b[0m\n\u001b[0;32m   1993\u001b[0m         \u001b[1;32mreturn\u001b[0m \u001b[0mself\u001b[0m\u001b[1;33m\u001b[0m\u001b[1;33m\u001b[0m\u001b[0m\n",
      "\u001b[1;32m<__array_function__ internals>\u001b[0m in \u001b[0;36mdot\u001b[1;34m(*args, **kwargs)\u001b[0m\n",
      "\u001b[1;31mKeyboardInterrupt\u001b[0m: "
     ]
    }
   ],
   "source": [
    "fig, axs = plt.subplots(3, int(np.ceil(len(fails) / 3)), figsize=(15,9))\n",
    "count = 0\n",
    "\n",
    "for i in range(3):\n",
    "    for j in range(int(np.ceil(len(fails) / 3))):\n",
    "        ax = axs[i][j]\n",
    "        \n",
    "        #c = ax.pcolor(thetas[i + j][1:].reshape(28, 28), cmap = 'gray')\n",
    "        try:\n",
    "            c = ax.imshow(np.array(X_test[fails[count]]).reshape(8, 8), cmap = 'gray_r', interpolation='nearest')\n",
    "            ax.axis('off')\n",
    "            ax.axis('equal')\n",
    "            ax.set_title(f'Classified as {classification[fails[count]]}').set_position([0.5, 1.1])\n",
    "            count += 1\n",
    "        except IndexError:\n",
    "            continue\n",
    "        \n",
    "fig.tight_layout()\n",
    "plt.colorbar(c)\n",
    "plt.show()"
   ]
  },
  {
   "cell_type": "code",
   "execution_count": 651,
   "metadata": {
    "ExecuteTime": {
     "end_time": "2020-09-13T07:04:38.087588Z",
     "start_time": "2020-09-13T07:04:38.083605Z"
    },
    "hidden": true
   },
   "outputs": [
    {
     "data": {
      "text/plain": [
       "Counter({10: 1617, 9: 180})"
      ]
     },
     "execution_count": 651,
     "metadata": {},
     "output_type": "execute_result"
    }
   ],
   "source": [
    "Counter(Y_test)"
   ]
  },
  {
   "cell_type": "code",
   "execution_count": 652,
   "metadata": {
    "ExecuteTime": {
     "end_time": "2020-09-13T07:04:38.660093Z",
     "start_time": "2020-09-13T07:04:38.651118Z"
    },
    "hidden": true
   },
   "outputs": [
    {
     "data": {
      "text/plain": [
       "array([0.42871094, 0.45605469, 0.42089844, ..., 0.80957031, 0.32519531,\n",
       "       0.47167969])"
      ]
     },
     "execution_count": 652,
     "metadata": {},
     "output_type": "execute_result"
    }
   ],
   "source": [
    "readouts"
   ]
  },
  {
   "cell_type": "code",
   "execution_count": 653,
   "metadata": {
    "ExecuteTime": {
     "end_time": "2020-09-13T07:04:39.447220Z",
     "start_time": "2020-09-13T07:04:39.443205Z"
    },
    "hidden": true
   },
   "outputs": [],
   "source": [
    "indexes = [i for i in range(len(readouts))]"
   ]
  },
  {
   "cell_type": "code",
   "execution_count": 654,
   "metadata": {
    "ExecuteTime": {
     "end_time": "2020-09-13T07:04:40.126770Z",
     "start_time": "2020-09-13T07:04:40.083860Z"
    },
    "hidden": true
   },
   "outputs": [
    {
     "data": {
      "text/plain": [
       "[(0, 10, 0.4287109375),\n",
       " (1, 10, 0.4560546875),\n",
       " (2, 10, 0.4208984375),\n",
       " (3, 10, 0.4072265625),\n",
       " (4, 10, 0.3408203125),\n",
       " (5, 10, 0.3232421875),\n",
       " (6, 10, 0.5),\n",
       " (7, 10, 0.103515625),\n",
       " (8, 10, 0.4912109375),\n",
       " (9, 9, 0.1865234375),\n",
       " (10, 10, 0.3642578125),\n",
       " (11, 10, 0.2548828125),\n",
       " (12, 10, 0.2568359375),\n",
       " (13, 10, 0.2763671875),\n",
       " (14, 10, 0.4365234375),\n",
       " (15, 10, 0.326171875),\n",
       " (16, 10, 0.244140625),\n",
       " (17, 10, 0.28515625),\n",
       " (18, 10, 0.3125),\n",
       " (19, 9, 0.1318359375),\n",
       " (20, 10, 0.291015625),\n",
       " (21, 10, 0.2265625),\n",
       " (22, 10, 0.3603515625),\n",
       " (23, 10, 0.2490234375),\n",
       " (24, 10, 0.2509765625),\n",
       " (25, 10, 0.1865234375),\n",
       " (26, 10, 0.5498046875),\n",
       " (27, 10, 0.2099609375),\n",
       " (28, 10, 0.482421875),\n",
       " (29, 9, 0.2197265625),\n",
       " (30, 10, 0.2529296875),\n",
       " (31, 9, 0.123046875),\n",
       " (32, 10, 0.291015625),\n",
       " (33, 10, 0.267578125),\n",
       " (34, 10, 0.37109375),\n",
       " (35, 10, 0.3125),\n",
       " (36, 10, 0.4228515625),\n",
       " (37, 9, 0.1123046875),\n",
       " (38, 10, 0.2333984375),\n",
       " (39, 9, 0.2724609375),\n",
       " (40, 10, 0.4716796875),\n",
       " (41, 10, 0.3271484375),\n",
       " (42, 10, 0.248046875),\n",
       " (43, 10, 0.1650390625),\n",
       " (44, 10, 0.2431640625),\n",
       " (45, 10, 0.1611328125),\n",
       " (46, 10, 0.263671875),\n",
       " (47, 10, 0.251953125),\n",
       " (48, 10, 0.390625),\n",
       " (49, 10, 0.443359375),\n",
       " (50, 10, 0.30078125),\n",
       " (51, 10, 0.2783203125),\n",
       " (52, 10, 0.1767578125),\n",
       " (53, 10, 0.3740234375),\n",
       " (54, 10, 0.263671875),\n",
       " (55, 10, 0.4267578125),\n",
       " (56, 10, 0.212890625),\n",
       " (57, 10, 0.341796875),\n",
       " (58, 10, 0.4140625),\n",
       " (59, 10, 0.32421875),\n",
       " (60, 10, 0.169921875),\n",
       " (61, 10, 0.4306640625),\n",
       " (62, 10, 0.259765625),\n",
       " (63, 10, 0.330078125),\n",
       " (64, 10, 0.2939453125),\n",
       " (65, 10, 0.2783203125),\n",
       " (66, 10, 0.4091796875),\n",
       " (67, 10, 0.314453125),\n",
       " (68, 10, 0.1787109375),\n",
       " (69, 9, 0.384765625),\n",
       " (70, 10, 0.2734375),\n",
       " (71, 10, 0.2490234375),\n",
       " (72, 10, 0.4462890625),\n",
       " (73, 9, 0.2275390625),\n",
       " (74, 10, 0.3505859375),\n",
       " (75, 10, 0.201171875),\n",
       " (76, 10, 0.583984375),\n",
       " (77, 10, 0.166015625),\n",
       " (78, 10, 0.296875),\n",
       " (79, 10, 0.4921875),\n",
       " (80, 10, 0.2607421875),\n",
       " (81, 10, 0.296875),\n",
       " (82, 10, 0.4765625),\n",
       " (83, 10, 0.2333984375),\n",
       " (84, 10, 0.3603515625),\n",
       " (85, 10, 0.3466796875),\n",
       " (86, 10, 0.20703125),\n",
       " (87, 10, 0.3857421875),\n",
       " (88, 10, 0.4716796875),\n",
       " (89, 10, 0.19921875),\n",
       " (90, 10, 0.1865234375),\n",
       " (91, 10, 0.359375),\n",
       " (92, 9, 0.3583984375),\n",
       " (93, 10, 0.408203125),\n",
       " (94, 10, 0.345703125),\n",
       " (95, 10, 0.5087890625),\n",
       " (96, 10, 0.326171875),\n",
       " (97, 10, 0.330078125),\n",
       " (98, 10, 0.37890625),\n",
       " (99, 10, 0.5029296875),\n",
       " (100, 10, 0.2392578125),\n",
       " (101, 10, 0.30859375),\n",
       " (102, 10, 0.4423828125),\n",
       " (103, 10, 0.19921875),\n",
       " (104, 10, 0.5107421875),\n",
       " (105, 9, 0.173828125),\n",
       " (106, 10, 0.4033203125),\n",
       " (107, 10, 0.1259765625),\n",
       " (108, 10, 0.251953125),\n",
       " (109, 10, 0.294921875),\n",
       " (110, 10, 0.302734375),\n",
       " (111, 10, 0.22265625),\n",
       " (112, 10, 0.3046875),\n",
       " (113, 10, 0.4482421875),\n",
       " (114, 10, 0.6201171875),\n",
       " (115, 10, 0.310546875),\n",
       " (116, 10, 0.546875),\n",
       " (117, 10, 0.2919921875),\n",
       " (118, 10, 0.2822265625),\n",
       " (119, 9, 0.1796875),\n",
       " (120, 10, 0.345703125),\n",
       " (121, 10, 0.4296875),\n",
       " (122, 10, 0.4697265625),\n",
       " (123, 10, 0.57421875),\n",
       " (124, 10, 0.318359375),\n",
       " (125, 9, 0.318359375),\n",
       " (126, 10, 0.435546875),\n",
       " (127, 10, 0.2890625),\n",
       " (128, 9, 0.3916015625),\n",
       " (129, 10, 0.4404296875),\n",
       " (130, 10, 0.353515625),\n",
       " (131, 10, 0.07421875),\n",
       " (132, 10, 0.419921875),\n",
       " (133, 10, 0.130859375),\n",
       " (134, 10, 0.20703125),\n",
       " (135, 10, 0.2080078125),\n",
       " (136, 10, 0.27734375),\n",
       " (137, 10, 0.359375),\n",
       " (138, 10, 0.66796875),\n",
       " (139, 9, 0.3134765625),\n",
       " (140, 10, 0.3564453125),\n",
       " (141, 10, 0.140625),\n",
       " (142, 10, 0.330078125),\n",
       " (143, 10, 0.248046875),\n",
       " (144, 10, 0.3330078125),\n",
       " (145, 10, 0.455078125),\n",
       " (146, 10, 0.337890625),\n",
       " (147, 10, 0.447265625),\n",
       " (148, 10, 0.6435546875),\n",
       " (149, 9, 0.376953125),\n",
       " (150, 10, 0.3017578125),\n",
       " (151, 10, 0.091796875),\n",
       " (152, 10, 0.3603515625),\n",
       " (153, 10, 0.2841796875),\n",
       " (154, 10, 0.2529296875),\n",
       " (155, 10, 0.16796875),\n",
       " (156, 10, 0.486328125),\n",
       " (157, 10, 0.2548828125),\n",
       " (158, 10, 0.5048828125),\n",
       " (159, 9, 0.3271484375),\n",
       " (160, 10, 0.400390625),\n",
       " (161, 9, 0.2890625),\n",
       " (162, 10, 0.416015625),\n",
       " (163, 10, 0.142578125),\n",
       " (164, 10, 0.3154296875),\n",
       " (165, 10, 0.2431640625),\n",
       " (166, 10, 0.384765625),\n",
       " (167, 9, 0.2802734375),\n",
       " (168, 10, 0.6982421875),\n",
       " (169, 9, 0.3427734375),\n",
       " (170, 10, 0.4873046875),\n",
       " (171, 10, 0.4853515625),\n",
       " (172, 10, 0.2158203125),\n",
       " (173, 10, 0.17578125),\n",
       " (174, 10, 0.3251953125),\n",
       " (175, 10, 0.2802734375),\n",
       " (176, 10, 0.341796875),\n",
       " (177, 10, 0.1181640625),\n",
       " (178, 10, 0.4287109375),\n",
       " (179, 10, 0.314453125),\n",
       " (180, 10, 0.48828125),\n",
       " (181, 10, 0.365234375),\n",
       " (182, 10, 0.28125),\n",
       " (183, 10, 0.6044921875),\n",
       " (184, 10, 0.34375),\n",
       " (185, 10, 0.427734375),\n",
       " (186, 10, 0.2880859375),\n",
       " (187, 10, 0.6025390625),\n",
       " (188, 10, 0.4453125),\n",
       " (189, 10, 0.2607421875),\n",
       " (190, 10, 0.2568359375),\n",
       " (191, 10, 0.21484375),\n",
       " (192, 10, 0.123046875),\n",
       " (193, 10, 0.23828125),\n",
       " (194, 10, 0.3037109375),\n",
       " (195, 10, 0.42578125),\n",
       " (196, 10, 0.3583984375),\n",
       " (197, 10, 0.3759765625),\n",
       " (198, 10, 0.38671875),\n",
       " (199, 9, 0.3466796875),\n",
       " (200, 10, 0.2978515625),\n",
       " (201, 10, 0.3564453125),\n",
       " (202, 10, 0.4140625),\n",
       " (203, 9, 0.2646484375),\n",
       " (204, 10, 0.126953125),\n",
       " (205, 10, 0.4931640625),\n",
       " (206, 10, 0.4599609375),\n",
       " (207, 10, 0.5107421875),\n",
       " (208, 10, 0.5185546875),\n",
       " (209, 10, 0.3271484375),\n",
       " (210, 10, 0.1533203125),\n",
       " (211, 10, 0.21875),\n",
       " (212, 10, 0.3564453125),\n",
       " (213, 10, 0.267578125),\n",
       " (214, 10, 0.376953125),\n",
       " (215, 10, 0.1884765625),\n",
       " (216, 10, 0.3095703125),\n",
       " (217, 10, 0.302734375),\n",
       " (218, 10, 0.0771484375),\n",
       " (219, 10, 0.251953125),\n",
       " (220, 9, 0.3193359375),\n",
       " (221, 10, 0.234375),\n",
       " (222, 10, 0.21484375),\n",
       " (223, 10, 0.33984375),\n",
       " (224, 10, 0.46484375),\n",
       " (225, 10, 0.357421875),\n",
       " (226, 10, 0.2353515625),\n",
       " (227, 10, 0.162109375),\n",
       " (228, 10, 0.35546875),\n",
       " (229, 10, 0.4287109375),\n",
       " (230, 10, 0.2802734375),\n",
       " (231, 10, 0.3076171875),\n",
       " (232, 10, 0.4111328125),\n",
       " (233, 9, 0.3720703125),\n",
       " (234, 10, 0.169921875),\n",
       " (235, 10, 0.236328125),\n",
       " (236, 10, 0.2666015625),\n",
       " (237, 10, 0.322265625),\n",
       " (238, 10, 0.384765625),\n",
       " (239, 10, 0.353515625),\n",
       " (240, 10, 0.2568359375),\n",
       " (241, 10, 0.423828125),\n",
       " (242, 10, 0.6962890625),\n",
       " (243, 10, 0.4990234375),\n",
       " (244, 10, 0.5703125),\n",
       " (245, 10, 0.224609375),\n",
       " (246, 10, 0.27734375),\n",
       " (247, 10, 0.2978515625),\n",
       " (248, 10, 0.7705078125),\n",
       " (249, 10, 0.568359375),\n",
       " (250, 10, 0.330078125),\n",
       " (251, 9, 0.337890625),\n",
       " (252, 10, 0.3857421875),\n",
       " (253, 10, 0.466796875),\n",
       " (254, 9, 0.501953125),\n",
       " (255, 10, 0.560546875),\n",
       " (256, 10, 0.5390625),\n",
       " (257, 10, 0.5830078125),\n",
       " (258, 10, 0.2626953125),\n",
       " (259, 10, 0.3232421875),\n",
       " (260, 10, 0.1923828125),\n",
       " (261, 10, 0.2958984375),\n",
       " (262, 10, 0.3017578125),\n",
       " (263, 10, 0.1689453125),\n",
       " (264, 10, 0.38671875),\n",
       " (265, 9, 0.357421875),\n",
       " (266, 10, 0.46875),\n",
       " (267, 10, 0.2900390625),\n",
       " (268, 10, 0.369140625),\n",
       " (269, 10, 0.408203125),\n",
       " (270, 10, 0.3486328125),\n",
       " (271, 10, 0.3896484375),\n",
       " (272, 10, 0.2861328125),\n",
       " (273, 10, 0.2578125),\n",
       " (274, 10, 0.3642578125),\n",
       " (275, 9, 0.3046875),\n",
       " (276, 10, 0.39453125),\n",
       " (277, 10, 0.3779296875),\n",
       " (278, 10, 0.3916015625),\n",
       " (279, 10, 0.201171875),\n",
       " (280, 10, 0.1591796875),\n",
       " (281, 10, 0.3203125),\n",
       " (282, 10, 0.36328125),\n",
       " (283, 10, 0.2041015625),\n",
       " (284, 10, 0.3828125),\n",
       " (285, 9, 0.275390625),\n",
       " (286, 10, 0.2919921875),\n",
       " (287, 9, 0.1953125),\n",
       " (288, 10, 0.2451171875),\n",
       " (289, 10, 0.259765625),\n",
       " (290, 10, 0.224609375),\n",
       " (291, 10, 0.1376953125),\n",
       " (292, 10, 0.3056640625),\n",
       " (293, 9, 0.318359375),\n",
       " (294, 10, 0.46484375),\n",
       " (295, 9, 0.123046875),\n",
       " (296, 10, 0.4375),\n",
       " (297, 10, 0.2275390625),\n",
       " (298, 10, 0.6123046875),\n",
       " (299, 10, 0.2294921875),\n",
       " (300, 10, 0.1865234375),\n",
       " (301, 10, 0.4375),\n",
       " (302, 10, 0.3037109375),\n",
       " (303, 10, 0.5810546875),\n",
       " (304, 10, 0.3134765625),\n",
       " (305, 10, 0.306640625),\n",
       " (306, 10, 0.2412109375),\n",
       " (307, 10, 0.3251953125),\n",
       " (308, 10, 0.310546875),\n",
       " (309, 10, 0.3095703125),\n",
       " (310, 10, 0.30859375),\n",
       " (311, 10, 0.4072265625),\n",
       " (312, 10, 0.2236328125),\n",
       " (313, 10, 0.29296875),\n",
       " (314, 10, 0.296875),\n",
       " (315, 10, 0.24609375),\n",
       " (316, 10, 0.3828125),\n",
       " (317, 10, 0.1162109375),\n",
       " (318, 10, 0.158203125),\n",
       " (319, 10, 0.2861328125),\n",
       " (320, 10, 0.2392578125),\n",
       " (321, 10, 0.1884765625),\n",
       " (322, 10, 0.2890625),\n",
       " (323, 10, 0.1533203125),\n",
       " (324, 10, 0.3046875),\n",
       " (325, 9, 0.28125),\n",
       " (326, 10, 0.6572265625),\n",
       " (327, 10, 0.35546875),\n",
       " (328, 10, 0.3408203125),\n",
       " (329, 9, 0.333984375),\n",
       " (330, 10, 0.2451171875),\n",
       " (331, 10, 0.4638671875),\n",
       " (332, 10, 0.423828125),\n",
       " (333, 10, 0.232421875),\n",
       " (334, 10, 0.4072265625),\n",
       " (335, 10, 0.361328125),\n",
       " (336, 10, 0.4619140625),\n",
       " (337, 10, 0.4619140625),\n",
       " (338, 10, 0.2822265625),\n",
       " (339, 10, 0.3681640625),\n",
       " (340, 10, 0.298828125),\n",
       " (341, 10, 0.267578125),\n",
       " (342, 10, 0.4033203125),\n",
       " (343, 10, 0.3427734375),\n",
       " (344, 10, 0.26171875),\n",
       " (345, 10, 0.275390625),\n",
       " (346, 10, 0.5810546875),\n",
       " (347, 10, 0.3291015625),\n",
       " (348, 9, 0.224609375),\n",
       " (349, 10, 0.498046875),\n",
       " (350, 10, 0.328125),\n",
       " (351, 10, 0.2978515625),\n",
       " (352, 10, 0.5712890625),\n",
       " (353, 10, 0.271484375),\n",
       " (354, 10, 0.291015625),\n",
       " (355, 10, 0.5126953125),\n",
       " (356, 10, 0.2421875),\n",
       " (357, 10, 0.4267578125),\n",
       " (358, 10, 0.3486328125),\n",
       " (359, 10, 0.173828125),\n",
       " (360, 10, 0.25),\n",
       " (361, 9, 0.31640625),\n",
       " (362, 10, 0.2431640625),\n",
       " (363, 10, 0.6513671875),\n",
       " (364, 10, 0.326171875),\n",
       " (365, 10, 0.3916015625),\n",
       " (366, 10, 0.3076171875),\n",
       " (367, 10, 0.2060546875),\n",
       " (368, 10, 0.3798828125),\n",
       " (369, 10, 0.28515625),\n",
       " (370, 10, 0.4501953125),\n",
       " (371, 10, 0.2578125),\n",
       " (372, 10, 0.3076171875),\n",
       " (373, 10, 0.236328125),\n",
       " (374, 10, 0.2919921875),\n",
       " (375, 9, 0.16015625),\n",
       " (376, 10, 0.2646484375),\n",
       " (377, 10, 0.2490234375),\n",
       " (378, 10, 0.37109375),\n",
       " (379, 10, 0.5390625),\n",
       " (380, 10, 0.310546875),\n",
       " (381, 9, 0.0849609375),\n",
       " (382, 10, 0.310546875),\n",
       " (383, 10, 0.5986328125),\n",
       " (384, 9, 0.2841796875),\n",
       " (385, 10, 0.34375),\n",
       " (386, 10, 0.369140625),\n",
       " (387, 10, 0.2529296875),\n",
       " (388, 10, 0.3828125),\n",
       " (389, 10, 0.349609375),\n",
       " (390, 10, 0.3447265625),\n",
       " (391, 10, 0.271484375),\n",
       " (392, 10, 0.4921875),\n",
       " (393, 10, 0.248046875),\n",
       " (394, 10, 0.5029296875),\n",
       " (395, 9, 0.4599609375),\n",
       " (396, 10, 0.404296875),\n",
       " (397, 10, 0.4169921875),\n",
       " (398, 10, 0.4033203125),\n",
       " (399, 10, 0.396484375),\n",
       " (400, 10, 0.2587890625),\n",
       " (401, 10, 0.314453125),\n",
       " (402, 10, 0.5712890625),\n",
       " (403, 10, 0.1103515625),\n",
       " (404, 10, 0.443359375),\n",
       " (405, 9, 0.322265625),\n",
       " (406, 10, 0.431640625),\n",
       " (407, 10, 0.365234375),\n",
       " (408, 10, 0.32421875),\n",
       " (409, 10, 0.4287109375),\n",
       " (410, 10, 0.2685546875),\n",
       " (411, 10, 0.3125),\n",
       " (412, 10, 0.5244140625),\n",
       " (413, 10, 0.1220703125),\n",
       " (414, 10, 0.34765625),\n",
       " (415, 9, 0.3125),\n",
       " (416, 10, 0.2724609375),\n",
       " (417, 9, 0.3662109375),\n",
       " (418, 10, 0.392578125),\n",
       " (419, 10, 0.533203125),\n",
       " (420, 10, 0.3603515625),\n",
       " (421, 10, 0.3193359375),\n",
       " (422, 10, 0.357421875),\n",
       " (423, 9, 0.3466796875),\n",
       " (424, 10, 0.662109375),\n",
       " (425, 9, 0.3046875),\n",
       " (426, 10, 0.5390625),\n",
       " (427, 10, 0.294921875),\n",
       " (428, 10, 0.2373046875),\n",
       " (429, 10, 0.091796875),\n",
       " (430, 10, 0.2822265625),\n",
       " (431, 10, 0.4228515625),\n",
       " (432, 10, 0.17578125),\n",
       " (433, 10, 0.373046875),\n",
       " (434, 10, 0.4130859375),\n",
       " (435, 10, 0.373046875),\n",
       " (436, 10, 0.41796875),\n",
       " (437, 10, 0.3212890625),\n",
       " (438, 10, 0.17578125),\n",
       " (439, 10, 0.341796875),\n",
       " (440, 10, 0.271484375),\n",
       " (441, 10, 0.3359375),\n",
       " (442, 10, 0.3193359375),\n",
       " (443, 10, 0.326171875),\n",
       " (444, 10, 0.3173828125),\n",
       " (445, 10, 0.4443359375),\n",
       " (446, 10, 0.384765625),\n",
       " (447, 10, 0.068359375),\n",
       " (448, 10, 0.3818359375),\n",
       " (449, 10, 0.3828125),\n",
       " (450, 10, 0.2724609375),\n",
       " (451, 10, 0.4736328125),\n",
       " (452, 10, 0.552734375),\n",
       " (453, 10, 0.4501953125),\n",
       " (454, 10, 0.2998046875),\n",
       " (455, 9, 0.2861328125),\n",
       " (456, 10, 0.224609375),\n",
       " (457, 10, 0.216796875),\n",
       " (458, 10, 0.3720703125),\n",
       " (459, 9, 0.484375),\n",
       " (460, 10, 0.365234375),\n",
       " (461, 10, 0.322265625),\n",
       " (462, 10, 0.4375),\n",
       " (463, 10, 0.380859375),\n",
       " (464, 10, 0.39453125),\n",
       " (465, 10, 0.255859375),\n",
       " (466, 10, 0.455078125),\n",
       " (467, 10, 0.083984375),\n",
       " (468, 10, 0.4951171875),\n",
       " (469, 10, 0.3642578125),\n",
       " (470, 10, 0.3818359375),\n",
       " (471, 10, 0.3037109375),\n",
       " (472, 10, 0.2353515625),\n",
       " (473, 10, 0.2236328125),\n",
       " (474, 10, 0.27734375),\n",
       " (475, 10, 0.5966796875),\n",
       " (476, 10, 0.3056640625),\n",
       " (477, 10, 0.3310546875),\n",
       " (478, 9, 0.3935546875),\n",
       " (479, 10, 0.4228515625),\n",
       " (480, 10, 0.24609375),\n",
       " (481, 10, 0.2841796875),\n",
       " (482, 10, 0.2197265625),\n",
       " (483, 10, 0.2470703125),\n",
       " (484, 10, 0.302734375),\n",
       " (485, 10, 0.302734375),\n",
       " (486, 10, 0.2822265625),\n",
       " (487, 10, 0.337890625),\n",
       " (488, 10, 0.2470703125),\n",
       " (489, 10, 0.3974609375),\n",
       " (490, 10, 0.5126953125),\n",
       " (491, 9, 0.306640625),\n",
       " (492, 10, 0.3916015625),\n",
       " (493, 10, 0.2626953125),\n",
       " (494, 10, 0.10546875),\n",
       " (495, 10, 0.412109375),\n",
       " (496, 10, 0.283203125),\n",
       " (497, 10, 0.3388671875),\n",
       " (498, 10, 0.0986328125),\n",
       " (499, 10, 0.2216796875),\n",
       " (500, 10, 0.3203125),\n",
       " (501, 10, 0.25),\n",
       " (502, 10, 0.34765625),\n",
       " (503, 10, 0.2724609375),\n",
       " (504, 10, 0.1552734375),\n",
       " (505, 9, 0.3701171875),\n",
       " (506, 10, 0.2958984375),\n",
       " (507, 10, 0.3046875),\n",
       " (508, 10, 0.470703125),\n",
       " (509, 10, 0.66015625),\n",
       " (510, 10, 0.44921875),\n",
       " (511, 9, 0.3271484375),\n",
       " (512, 10, 0.423828125),\n",
       " (513, 10, 0.4638671875),\n",
       " (514, 9, 0.3408203125),\n",
       " (515, 10, 0.3720703125),\n",
       " (516, 10, 0.33984375),\n",
       " (517, 10, 0.357421875),\n",
       " (518, 10, 0.3759765625),\n",
       " (519, 10, 0.205078125),\n",
       " (520, 10, 0.29296875),\n",
       " (521, 10, 0.150390625),\n",
       " (522, 10, 0.5078125),\n",
       " (523, 10, 0.302734375),\n",
       " (524, 10, 0.26171875),\n",
       " (525, 9, 0.3115234375),\n",
       " (526, 10, 0.3095703125),\n",
       " (527, 10, 0.3271484375),\n",
       " (528, 10, 0.4228515625),\n",
       " (529, 10, 0.3271484375),\n",
       " (530, 10, 0.22265625),\n",
       " (531, 10, 0.248046875),\n",
       " (532, 10, 0.3203125),\n",
       " (533, 10, 0.3017578125),\n",
       " (534, 10, 0.4375),\n",
       " (535, 9, 0.3115234375),\n",
       " (536, 10, 0.3427734375),\n",
       " (537, 10, 0.392578125),\n",
       " (538, 10, 0.2529296875),\n",
       " (539, 10, 0.29296875),\n",
       " (540, 10, 0.388671875),\n",
       " (541, 10, 0.19140625),\n",
       " (542, 10, 0.310546875),\n",
       " (543, 10, 0.2412109375),\n",
       " (544, 10, 0.427734375),\n",
       " (545, 9, 0.0869140625),\n",
       " (546, 10, 0.34375),\n",
       " (547, 9, 0.4677734375),\n",
       " (548, 10, 0.16796875),\n",
       " (549, 10, 0.11328125),\n",
       " (550, 10, 0.40234375),\n",
       " (551, 10, 0.2685546875),\n",
       " (552, 10, 0.2939453125),\n",
       " (553, 9, 0.2109375),\n",
       " (554, 10, 0.33203125),\n",
       " (555, 9, 0.1650390625),\n",
       " (556, 10, 0.4228515625),\n",
       " (557, 10, 0.3095703125),\n",
       " (558, 10, 0.2919921875),\n",
       " (559, 10, 0.3408203125),\n",
       " (560, 10, 0.2021484375),\n",
       " (561, 10, 0.119140625),\n",
       " (562, 10, 0.224609375),\n",
       " (563, 10, 0.4111328125),\n",
       " (564, 10, 0.2138671875),\n",
       " (565, 10, 0.138671875),\n",
       " (566, 10, 0.2412109375),\n",
       " (567, 10, 0.2265625),\n",
       " (568, 10, 0.177734375),\n",
       " (569, 10, 0.2900390625),\n",
       " (570, 10, 0.357421875),\n",
       " (571, 10, 0.2275390625),\n",
       " (572, 10, 0.248046875),\n",
       " (573, 10, 0.19140625),\n",
       " (574, 10, 0.462890625),\n",
       " (575, 10, 0.095703125),\n",
       " (576, 10, 0.259765625),\n",
       " (577, 10, 0.2099609375),\n",
       " (578, 10, 0.2275390625),\n",
       " (579, 10, 0.1767578125),\n",
       " (580, 10, 0.3115234375),\n",
       " (581, 10, 0.3603515625),\n",
       " (582, 10, 0.310546875),\n",
       " (583, 10, 0.23046875),\n",
       " (584, 10, 0.2685546875),\n",
       " (585, 9, 0.30078125),\n",
       " (586, 10, 0.228515625),\n",
       " (587, 10, 0.255859375),\n",
       " (588, 10, 0.24609375),\n",
       " (589, 9, 0.1865234375),\n",
       " (590, 10, 0.1640625),\n",
       " (591, 10, 0.3046875),\n",
       " (592, 10, 0.2978515625),\n",
       " (593, 10, 0.23046875),\n",
       " (594, 10, 0.3916015625),\n",
       " (595, 10, 0.3232421875),\n",
       " (596, 10, 0.439453125),\n",
       " (597, 10, 0.109375),\n",
       " (598, 10, 0.28125),\n",
       " (599, 10, 0.1748046875),\n",
       " (600, 10, 0.2822265625),\n",
       " (601, 10, 0.244140625),\n",
       " (602, 10, 0.28515625),\n",
       " (603, 10, 0.4111328125),\n",
       " (604, 10, 0.515625),\n",
       " (605, 10, 0.3408203125),\n",
       " (606, 10, 0.330078125),\n",
       " (607, 10, 0.34375),\n",
       " (608, 9, 0.232421875),\n",
       " (609, 10, 0.341796875),\n",
       " (610, 10, 0.1728515625),\n",
       " (611, 10, 0.3115234375),\n",
       " (612, 10, 0.4091796875),\n",
       " (613, 10, 0.26953125),\n",
       " (614, 10, 0.1875),\n",
       " (615, 10, 0.5986328125),\n",
       " (616, 10, 0.154296875),\n",
       " (617, 10, 0.30078125),\n",
       " (618, 10, 0.2978515625),\n",
       " (619, 10, 0.2763671875),\n",
       " (620, 10, 0.36328125),\n",
       " (621, 9, 0.28125),\n",
       " (622, 10, 0.349609375),\n",
       " (623, 10, 0.3955078125),\n",
       " (624, 10, 0.349609375),\n",
       " (625, 10, 0.1923828125),\n",
       " (626, 10, 0.326171875),\n",
       " (627, 10, 0.251953125),\n",
       " (628, 10, 0.20703125),\n",
       " (629, 10, 0.2666015625),\n",
       " (630, 10, 0.294921875),\n",
       " (631, 10, 0.2578125),\n",
       " (632, 10, 0.2392578125),\n",
       " (633, 10, 0.1962890625),\n",
       " (634, 10, 0.3212890625),\n",
       " (635, 9, 0.2177734375),\n",
       " (636, 10, 0.1826171875),\n",
       " (637, 10, 0.2978515625),\n",
       " (638, 10, 0.345703125),\n",
       " (639, 10, 0.296875),\n",
       " (640, 10, 0.28515625),\n",
       " (641, 9, 0.3017578125),\n",
       " (642, 10, 0.34375),\n",
       " (643, 10, 0.3525390625),\n",
       " (644, 9, 0.2578125),\n",
       " (645, 10, 0.37890625),\n",
       " (646, 10, 0.2763671875),\n",
       " (647, 10, 0.4794921875),\n",
       " (648, 10, 0.5087890625),\n",
       " (649, 10, 0.4091796875),\n",
       " (650, 10, 0.283203125),\n",
       " (651, 10, 0.2177734375),\n",
       " (652, 10, 0.2138671875),\n",
       " (653, 10, 0.181640625),\n",
       " (654, 10, 0.4853515625),\n",
       " (655, 9, 0.1591796875),\n",
       " (656, 10, 0.3701171875),\n",
       " (657, 10, 0.6279296875),\n",
       " (658, 10, 0.626953125),\n",
       " (659, 10, 0.310546875),\n",
       " (660, 10, 0.212890625),\n",
       " (661, 10, 0.28125),\n",
       " (662, 10, 0.1943359375),\n",
       " (663, 10, 0.21484375),\n",
       " (664, 10, 0.3349609375),\n",
       " (665, 9, 0.0791015625),\n",
       " (666, 10, 0.365234375),\n",
       " (667, 10, 0.4814453125),\n",
       " (668, 10, 0.37890625),\n",
       " (669, 10, 0.375),\n",
       " (670, 10, 0.1298828125),\n",
       " (671, 10, 0.1572265625),\n",
       " (672, 10, 0.2177734375),\n",
       " (673, 10, 0.0966796875),\n",
       " (674, 10, 0.37890625),\n",
       " (675, 9, 0.1083984375),\n",
       " (676, 10, 0.3095703125),\n",
       " (677, 9, 0.078125),\n",
       " (678, 10, 0.193359375),\n",
       " (679, 10, 0.212890625),\n",
       " (680, 10, 0.3232421875),\n",
       " (681, 10, 0.2412109375),\n",
       " (682, 10, 0.4453125),\n",
       " (683, 9, 0.1923828125),\n",
       " (684, 10, 0.4990234375),\n",
       " (685, 9, 0.107421875),\n",
       " (686, 10, 0.5302734375),\n",
       " (687, 10, 0.2001953125),\n",
       " (688, 10, 0.3984375),\n",
       " (689, 10, 0.1259765625),\n",
       " (690, 10, 0.11328125),\n",
       " (691, 10, 0.31640625),\n",
       " (692, 10, 0.36328125),\n",
       " (693, 10, 0.380859375),\n",
       " (694, 10, 0.37109375),\n",
       " (695, 10, 0.49609375),\n",
       " (696, 10, 0.5),\n",
       " (697, 10, 0.560546875),\n",
       " (698, 10, 0.2109375),\n",
       " (699, 10, 0.322265625),\n",
       " (700, 10, 0.515625),\n",
       " (701, 10, 0.3369140625),\n",
       " (702, 10, 0.42578125),\n",
       " (703, 10, 0.345703125),\n",
       " (704, 10, 0.2724609375),\n",
       " (705, 10, 0.2412109375),\n",
       " (706, 10, 0.234375),\n",
       " (707, 10, 0.2275390625),\n",
       " (708, 10, 0.1611328125),\n",
       " (709, 10, 0.380859375),\n",
       " (710, 10, 0.1787109375),\n",
       " (711, 10, 0.2158203125),\n",
       " (712, 10, 0.2138671875),\n",
       " (713, 10, 0.1669921875),\n",
       " (714, 10, 0.2783203125),\n",
       " (715, 9, 0.0673828125),\n",
       " (716, 10, 0.4130859375),\n",
       " (717, 10, 0.251953125),\n",
       " (718, 10, 0.3544921875),\n",
       " (719, 9, 0.158203125),\n",
       " (720, 10, 0.267578125),\n",
       " (721, 10, 0.521484375),\n",
       " (722, 10, 0.5234375),\n",
       " (723, 10, 0.49609375),\n",
       " (724, 10, 0.439453125),\n",
       " (725, 10, 0.3896484375),\n",
       " (726, 10, 0.4189453125),\n",
       " (727, 10, 0.1953125),\n",
       " (728, 10, 0.1962890625),\n",
       " (729, 10, 0.3671875),\n",
       " (730, 10, 0.3330078125),\n",
       " (731, 10, 0.373046875),\n",
       " (732, 10, 0.0859375),\n",
       " (733, 10, 0.2880859375),\n",
       " (734, 10, 0.177734375),\n",
       " (735, 10, 0.1865234375),\n",
       " (736, 10, 0.4619140625),\n",
       " (737, 10, 0.376953125),\n",
       " (738, 9, 0.0673828125),\n",
       " (739, 10, 0.634765625),\n",
       " (740, 10, 0.1962890625),\n",
       " (741, 10, 0.1982421875),\n",
       " (742, 10, 0.77734375),\n",
       " (743, 10, 0.2451171875),\n",
       " (744, 10, 0.396484375),\n",
       " (745, 10, 0.2919921875),\n",
       " (746, 10, 0.2275390625),\n",
       " (747, 10, 0.423828125),\n",
       " (748, 10, 0.259765625),\n",
       " (749, 10, 0.3701171875),\n",
       " (750, 10, 0.1689453125),\n",
       " (751, 9, 0.08984375),\n",
       " (752, 10, 0.25),\n",
       " (753, 10, 0.427734375),\n",
       " (754, 10, 0.1611328125),\n",
       " (755, 10, 0.2548828125),\n",
       " (756, 10, 0.357421875),\n",
       " (757, 10, 0.1845703125),\n",
       " (758, 10, 0.1669921875),\n",
       " (759, 10, 0.54296875),\n",
       " (760, 10, 0.46484375),\n",
       " (761, 10, 0.55078125),\n",
       " (762, 10, 0.4990234375),\n",
       " (763, 10, 0.19921875),\n",
       " (764, 10, 0.1904296875),\n",
       " (765, 9, 0.0693359375),\n",
       " (766, 10, 0.126953125),\n",
       " (767, 10, 0.259765625),\n",
       " (768, 10, 0.5390625),\n",
       " (769, 10, 0.4814453125),\n",
       " (770, 10, 0.1962890625),\n",
       " (771, 9, 0.12109375),\n",
       " (772, 10, 0.5029296875),\n",
       " (773, 10, 0.390625),\n",
       " (774, 9, 0.15234375),\n",
       " (775, 10, 0.490234375),\n",
       " (776, 10, 0.27734375),\n",
       " (777, 10, 0.5439453125),\n",
       " (778, 10, 0.2578125),\n",
       " (779, 10, 0.27734375),\n",
       " (780, 10, 0.3916015625),\n",
       " (781, 10, 0.361328125),\n",
       " (782, 10, 0.3583984375),\n",
       " (783, 10, 0.3212890625),\n",
       " (784, 10, 0.4013671875),\n",
       " (785, 9, 0.1875),\n",
       " (786, 10, 0.17578125),\n",
       " (787, 10, 0.4501953125),\n",
       " (788, 10, 0.2607421875),\n",
       " (789, 10, 0.224609375),\n",
       " (790, 10, 0.3779296875),\n",
       " (791, 10, 0.267578125),\n",
       " (792, 10, 0.3779296875),\n",
       " (793, 10, 0.2626953125),\n",
       " (794, 10, 0.3193359375),\n",
       " (795, 9, 0.1796875),\n",
       " (796, 10, 0.349609375),\n",
       " (797, 10, 0.625),\n",
       " (798, 10, 0.376953125),\n",
       " (799, 10, 0.2216796875),\n",
       " (800, 10, 0.2236328125),\n",
       " (801, 10, 0.197265625),\n",
       " (802, 10, 0.4384765625),\n",
       " (803, 10, 0.2080078125),\n",
       " (804, 10, 0.5146484375),\n",
       " (805, 9, 0.2265625),\n",
       " (806, 10, 0.291015625),\n",
       " (807, 9, 0.1728515625),\n",
       " (808, 10, 0.345703125),\n",
       " (809, 10, 0.2822265625),\n",
       " (810, 10, 0.4111328125),\n",
       " (811, 10, 0.43359375),\n",
       " (812, 10, 0.4052734375),\n",
       " (813, 9, 0.05859375),\n",
       " (814, 10, 0.4521484375),\n",
       " (815, 9, 0.3095703125),\n",
       " (816, 10, 0.3818359375),\n",
       " (817, 10, 0.1923828125),\n",
       " (818, 10, 0.6767578125),\n",
       " (819, 10, 0.193359375),\n",
       " (820, 10, 0.24609375),\n",
       " (821, 10, 0.3984375),\n",
       " (822, 10, 0.205078125),\n",
       " (823, 10, 0.6982421875),\n",
       " (824, 10, 0.2783203125),\n",
       " (825, 10, 0.2822265625),\n",
       " (826, 10, 0.365234375),\n",
       " (827, 10, 0.3603515625),\n",
       " (828, 10, 0.2509765625),\n",
       " (829, 10, 0.2158203125),\n",
       " (830, 10, 0.447265625),\n",
       " (831, 10, 0.318359375),\n",
       " (832, 10, 0.3701171875),\n",
       " (833, 10, 0.5126953125),\n",
       " (834, 10, 0.39453125),\n",
       " (835, 10, 0.53515625),\n",
       " (836, 10, 0.4267578125),\n",
       " (837, 10, 0.279296875),\n",
       " (838, 10, 0.2705078125),\n",
       " (839, 10, 0.3046875),\n",
       " (840, 10, 0.2939453125),\n",
       " (841, 10, 0.40625),\n",
       " (842, 10, 0.37890625),\n",
       " (843, 10, 0.330078125),\n",
       " (844, 10, 0.4453125),\n",
       " (845, 9, 0.171875),\n",
       " (846, 10, 0.5185546875),\n",
       " (847, 10, 0.33203125),\n",
       " (848, 10, 0.3984375),\n",
       " (849, 9, 0.35546875),\n",
       " (850, 10, 0.2802734375),\n",
       " (851, 10, 0.2431640625),\n",
       " (852, 10, 0.66015625),\n",
       " (853, 10, 0.4326171875),\n",
       " (854, 10, 0.484375),\n",
       " (855, 10, 0.3681640625),\n",
       " (856, 10, 0.5732421875),\n",
       " (857, 10, 0.310546875),\n",
       " (858, 10, 0.3095703125),\n",
       " (859, 10, 0.310546875),\n",
       " (860, 10, 0.44140625),\n",
       " (861, 10, 0.5126953125),\n",
       " (862, 10, 0.177734375),\n",
       " (863, 10, 0.19921875),\n",
       " (864, 10, 0.353515625),\n",
       " (865, 10, 0.2373046875),\n",
       " (866, 10, 0.6044921875),\n",
       " (867, 10, 0.197265625),\n",
       " (868, 9, 0.2998046875),\n",
       " (869, 10, 0.52734375),\n",
       " (870, 10, 0.26171875),\n",
       " (871, 10, 0.296875),\n",
       " (872, 10, 0.5341796875),\n",
       " (873, 10, 0.3271484375),\n",
       " (874, 10, 0.3720703125),\n",
       " (875, 10, 0.583984375),\n",
       " (876, 10, 0.3505859375),\n",
       " (877, 10, 0.2685546875),\n",
       " (878, 10, 0.36328125),\n",
       " (879, 10, 0.3271484375),\n",
       " (880, 10, 0.341796875),\n",
       " (881, 9, 0.3251953125),\n",
       " (882, 10, 0.33203125),\n",
       " (883, 10, 0.37890625),\n",
       " (884, 10, 0.2470703125),\n",
       " (885, 10, 0.2763671875),\n",
       " (886, 10, 0.2939453125),\n",
       " (887, 10, 0.291015625),\n",
       " (888, 10, 0.34765625),\n",
       " (889, 10, 0.2626953125),\n",
       " (890, 10, 0.4208984375),\n",
       " (891, 10, 0.1767578125),\n",
       " (892, 10, 0.3701171875),\n",
       " (893, 10, 0.3876953125),\n",
       " (894, 10, 0.29296875),\n",
       " (895, 9, 0.3095703125),\n",
       " (896, 10, 0.244140625),\n",
       " (897, 10, 0.349609375),\n",
       " (898, 10, 0.5263671875),\n",
       " (899, 10, 0.6279296875),\n",
       " (900, 10, 0.2578125),\n",
       " (901, 9, 0.3466796875),\n",
       " (902, 10, 0.3388671875),\n",
       " (903, 10, 0.515625),\n",
       " (904, 9, 0.34765625),\n",
       " (905, 10, 0.3623046875),\n",
       " (906, 10, 0.3564453125),\n",
       " (907, 10, 0.3369140625),\n",
       " (908, 10, 0.11328125),\n",
       " (909, 10, 0.255859375),\n",
       " (910, 10, 0.19140625),\n",
       " (911, 10, 0.2734375),\n",
       " (912, 10, 0.3544921875),\n",
       " (913, 10, 0.4599609375),\n",
       " (914, 9, 0.181640625),\n",
       " (915, 10, 0.236328125),\n",
       " (916, 10, 0.42578125),\n",
       " (917, 10, 0.30859375),\n",
       " (918, 10, 0.27734375),\n",
       " (919, 10, 0.169921875),\n",
       " (920, 10, 0.2216796875),\n",
       " (921, 10, 0.3935546875),\n",
       " (922, 10, 0.466796875),\n",
       " (923, 10, 0.5673828125),\n",
       " (924, 9, 0.18359375),\n",
       " (925, 10, 0.298828125),\n",
       " (926, 10, 0.3447265625),\n",
       " (927, 10, 0.2353515625),\n",
       " (928, 10, 0.3154296875),\n",
       " (929, 10, 0.171875),\n",
       " (930, 10, 0.1884765625),\n",
       " (931, 10, 0.3095703125),\n",
       " (932, 10, 0.34375),\n",
       " (933, 10, 0.462890625),\n",
       " (934, 9, 0.095703125),\n",
       " (935, 10, 0.33203125),\n",
       " (936, 9, 0.294921875),\n",
       " (937, 10, 0.1455078125),\n",
       " (938, 10, 0.2626953125),\n",
       " (939, 10, 0.2705078125),\n",
       " (940, 10, 0.1591796875),\n",
       " (941, 10, 0.279296875),\n",
       " (942, 9, 0.1865234375),\n",
       " (943, 10, 0.517578125),\n",
       " (944, 9, 0.1630859375),\n",
       " (945, 10, 0.625),\n",
       " (946, 10, 0.1279296875),\n",
       " (947, 10, 0.2490234375),\n",
       " (948, 10, 0.4169921875),\n",
       " (949, 10, 0.19921875),\n",
       " (950, 10, 0.3349609375),\n",
       " (951, 10, 0.169921875),\n",
       " (952, 10, 0.2568359375),\n",
       " (953, 10, 0.2490234375),\n",
       " (954, 10, 0.5146484375),\n",
       " (955, 10, 0.4873046875),\n",
       " (956, 10, 0.1552734375),\n",
       " (957, 10, 0.3720703125),\n",
       " (958, 10, 0.2265625),\n",
       " (959, 10, 0.3037109375),\n",
       " (960, 10, 0.4345703125),\n",
       " (961, 10, 0.28125),\n",
       " (962, 10, 0.21875),\n",
       " (963, 10, 0.3837890625),\n",
       " (964, 10, 0.166015625),\n",
       " (965, 10, 0.248046875),\n",
       " (966, 10, 0.185546875),\n",
       " (967, 10, 0.224609375),\n",
       " (968, 10, 0.2880859375),\n",
       " (969, 10, 0.419921875),\n",
       " (970, 10, 0.24609375),\n",
       " (971, 9, 0.1533203125),\n",
       " (972, 10, 0.3125),\n",
       " (973, 10, 0.232421875),\n",
       " (974, 10, 0.294921875),\n",
       " (975, 9, 0.1748046875),\n",
       " (976, 10, 0.10546875),\n",
       " (977, 10, 0.2451171875),\n",
       " (978, 10, 0.390625),\n",
       " (979, 10, 0.2939453125),\n",
       " (980, 10, 0.3134765625),\n",
       " (981, 10, 0.234375),\n",
       " (982, 10, 0.2841796875),\n",
       " (983, 10, 0.3525390625),\n",
       " (984, 10, 0.244140625),\n",
       " (985, 10, 0.24609375),\n",
       " (986, 10, 0.3564453125),\n",
       " (987, 10, 0.333984375),\n",
       " (988, 10, 0.1875),\n",
       " (989, 10, 0.1875),\n",
       " (990, 10, 0.185546875),\n",
       " (991, 10, 0.322265625),\n",
       " (992, 10, 0.2529296875),\n",
       " (993, 9, 0.134765625),\n",
       " (994, 10, 0.3408203125),\n",
       " (995, 10, 0.3134765625),\n",
       " (996, 10, 0.1376953125),\n",
       " (997, 10, 0.4453125),\n",
       " (998, 10, 0.1279296875),\n",
       " (999, 10, 0.3623046875),\n",
       " ...]"
      ]
     },
     "execution_count": 654,
     "metadata": {},
     "output_type": "execute_result"
    }
   ],
   "source": [
    "list(zip(indexes, Y_test, readouts))"
   ]
  },
  {
   "cell_type": "code",
   "execution_count": 655,
   "metadata": {
    "ExecuteTime": {
     "end_time": "2020-09-13T07:04:40.771598Z",
     "start_time": "2020-09-13T07:04:40.714718Z"
    },
    "hidden": true
   },
   "outputs": [
    {
     "data": {
      "text/plain": [
       "Text(0, 0.5, 'Training Readout')"
      ]
     },
     "execution_count": 655,
     "metadata": {},
     "output_type": "execute_result"
    }
   ],
   "source": [
    "#%matplotlib qt\n",
    "plt.scatter(Y_train, m[-1])\n",
    "plt.xlabel(\"Number\")\n",
    "plt.ylabel(\"Training Readout\")\n",
    "#%matplotlib inline"
   ]
  },
  {
   "cell_type": "code",
   "execution_count": 656,
   "metadata": {
    "ExecuteTime": {
     "end_time": "2020-09-13T07:04:42.636160Z",
     "start_time": "2020-09-13T07:04:42.580312Z"
    },
    "hidden": true
   },
   "outputs": [
    {
     "data": {
      "text/plain": [
       "[<matplotlib.lines.Line2D at 0x17c06292788>]"
      ]
     },
     "execution_count": 656,
     "metadata": {},
     "output_type": "execute_result"
    }
   ],
   "source": [
    "#%matplotlib qt\n",
    "plt.scatter(Y_test, readouts)\n",
    "plt.xlabel(\"Number\")\n",
    "plt.ylabel(\"Prediction Readout\")\n",
    "plt.plot([i for i in range(number_negative_class, number_positive_class + 1)], [test_threshold for _ in range(number_negative_class, number_positive_class + 1)])\n",
    "plt.plot([i for i in range(min(number_negative_class, number_positive_class), max(number_negative_class, number_positive_class) + 1)], [test_threshold for _ in range(abs(number_negative_class - number_positive_class) + 1)])\n",
    "#%matplotlib inline"
   ]
  },
  {
   "cell_type": "code",
   "execution_count": 657,
   "metadata": {
    "ExecuteTime": {
     "end_time": "2020-09-13T07:04:45.105831Z",
     "start_time": "2020-09-13T07:04:45.050979Z"
    },
    "hidden": true
   },
   "outputs": [
    {
     "data": {
      "text/plain": [
       "[<matplotlib.lines.Line2D at 0x17c063d43c8>]"
      ]
     },
     "execution_count": 657,
     "metadata": {},
     "output_type": "execute_result"
    }
   ],
   "source": [
    "classification_auxiliar = classification / np.max(classification)\n",
    "palette = np.array(sns.color_palette(\"hls\", 2))  #Choosing color palette \n",
    "plt.scatter(Y_test, readouts, lw=0, s=40, c=palette[classification_auxiliar.astype(np.int)])\n",
    "plt.plot([i for i in range(number_negative_class, number_positive_class + 1)], [test_threshold for _ in range(number_negative_class, number_positive_class + 1)])"
   ]
  },
  {
   "cell_type": "code",
   "execution_count": 658,
   "metadata": {
    "ExecuteTime": {
     "end_time": "2020-09-13T07:04:46.904885Z",
     "start_time": "2020-09-13T07:04:46.898866Z"
    },
    "hidden": true
   },
   "outputs": [
    {
     "data": {
      "text/plain": [
       "array([10, 10, 10, ..., 10,  9, 10])"
      ]
     },
     "execution_count": 658,
     "metadata": {},
     "output_type": "execute_result"
    }
   ],
   "source": [
    "Y_test"
   ]
  },
  {
   "cell_type": "code",
   "execution_count": 659,
   "metadata": {
    "ExecuteTime": {
     "end_time": "2020-09-13T07:04:47.981403Z",
     "start_time": "2020-09-13T07:04:47.933498Z"
    },
    "hidden": true
   },
   "outputs": [
    {
     "data": {
      "text/plain": [
       "<matplotlib.image.AxesImage at 0x17c06559a88>"
      ]
     },
     "execution_count": 659,
     "metadata": {},
     "output_type": "execute_result"
    }
   ],
   "source": [
    "plt.imshow(np.array(X_test[2]).reshape(8,8), cmap=plt.cm.gray_r, interpolation='nearest')"
   ]
  },
  {
   "cell_type": "code",
   "execution_count": 660,
   "metadata": {
    "ExecuteTime": {
     "end_time": "2020-09-13T07:04:49.704647Z",
     "start_time": "2020-09-13T07:04:49.698663Z"
    },
    "hidden": true
   },
   "outputs": [
    {
     "data": {
      "text/plain": [
       "array([[0., 0., 0., 0., 1., 1., 0., 0.],\n",
       "       [0., 0., 0., 1., 1., 1., 0., 0.],\n",
       "       [0., 0., 0., 1., 0., 1., 0., 0.],\n",
       "       [0., 0., 0., 0., 1., 1., 0., 0.],\n",
       "       [0., 0., 0., 1., 1., 0., 0., 0.],\n",
       "       [0., 0., 1., 1., 0., 0., 0., 0.],\n",
       "       [0., 0., 1., 1., 1., 1., 0., 0.],\n",
       "       [0., 0., 0., 0., 1., 1., 0., 0.]])"
      ]
     },
     "execution_count": 660,
     "metadata": {},
     "output_type": "execute_result"
    }
   ],
   "source": [
    "np.array(X_test[2]).reshape(8,8)"
   ]
  },
  {
   "cell_type": "code",
   "execution_count": 661,
   "metadata": {
    "ExecuteTime": {
     "end_time": "2020-09-13T07:04:50.692772Z",
     "start_time": "2020-09-13T07:04:50.596034Z"
    },
    "hidden": true
   },
   "outputs": [
    {
     "data": {
      "text/plain": [
       "<matplotlib.axes._subplots.AxesSubplot at 0x17c06209fc8>"
      ]
     },
     "execution_count": 661,
     "metadata": {},
     "output_type": "execute_result"
    }
   ],
   "source": [
    "import seaborn as sns\n",
    "sns.set_style('white')\n",
    "sns.distplot(readouts, bins = 100, kde = False)"
   ]
  },
  {
   "cell_type": "code",
   "execution_count": 662,
   "metadata": {
    "ExecuteTime": {
     "end_time": "2020-09-13T07:04:51.799145Z",
     "start_time": "2020-09-13T07:04:51.747284Z"
    },
    "hidden": true
   },
   "outputs": [
    {
     "data": {
      "text/plain": [
       "[<matplotlib.lines.Line2D at 0x17c13df2c08>]"
      ]
     },
     "execution_count": 662,
     "metadata": {},
     "output_type": "execute_result"
    }
   ],
   "source": [
    "palette = np.array(sns.color_palette(\"hls\", 2))  #Choosing color palette \n",
    "plt.scatter(Y_train, m[-1], lw=0, s=40, c=palette[m[-1].astype(np.int)])\n",
    "plt.plot([i for i in range(number_negative_class, number_positive_class + 1)], [test_threshold for _ in range(number_negative_class, number_positive_class + 1)])"
   ]
  },
  {
   "cell_type": "code",
   "execution_count": 663,
   "metadata": {
    "ExecuteTime": {
     "end_time": "2020-09-13T07:04:54.023880Z",
     "start_time": "2020-09-13T07:04:54.018919Z"
    },
    "hidden": true
   },
   "outputs": [],
   "source": [
    "filename = 'weights_OvA.txt'\n",
    "mode = 'a+'\n",
    "save_weight(filename = filename, mode = mode, weight = w)"
   ]
  },
  {
   "cell_type": "markdown",
   "metadata": {
    "heading_collapsed": true
   },
   "source": [
    "# Multi label prediction"
   ]
  },
  {
   "cell_type": "code",
   "execution_count": 3,
   "metadata": {
    "ExecuteTime": {
     "end_time": "2020-09-14T03:24:11.397301Z",
     "start_time": "2020-09-14T03:24:11.393282Z"
    },
    "hidden": true
   },
   "outputs": [],
   "source": [
    "weights_vector = retrieve_weights_from_file_total(filename = 'weights_OvA.txt')"
   ]
  },
  {
   "cell_type": "code",
   "execution_count": 4,
   "metadata": {
    "ExecuteTime": {
     "end_time": "2020-09-14T03:24:17.178325Z",
     "start_time": "2020-09-14T03:24:16.897041Z"
    },
    "hidden": true
   },
   "outputs": [],
   "source": [
    "print_weights_matrix(weights_vector)"
   ]
  },
  {
   "cell_type": "code",
   "execution_count": 5,
   "metadata": {
    "ExecuteTime": {
     "end_time": "2020-09-14T03:24:18.511251Z",
     "start_time": "2020-09-14T03:24:18.504260Z"
    },
    "hidden": true
   },
   "outputs": [
    {
     "name": "stdout",
     "output_type": "stream",
     "text": [
      "[[1 1 1 0 1 1 1 1 1 1 0 0 1 1 1 1 1 1 0 0 0 0 1 1 1 1 1 0 0 1 1 1 1 1 1 0\n",
      "  0 0 1 1 1 1 1 0 0 0 1 1 1 1 1 0 0 0 1 1 1 1 1 1 0 1 1 1]\n",
      " [1 1 1 1 0 1 1 1 1 1 0 0 0 0 1 1 1 1 0 1 1 0 1 1 1 1 0 0 0 0 1 1 1 1 1 1\n",
      "  0 0 1 1 1 1 0 0 1 0 1 1 1 1 1 1 1 0 1 1 1 1 1 0 0 1 1 1]\n",
      " [1 1 1 0 1 1 1 1 1 1 0 0 0 0 1 1 1 1 0 1 1 0 1 1 1 1 0 0 1 1 1 1 1 1 1 0\n",
      "  0 0 1 1 1 1 1 1 1 0 1 1 1 1 0 1 1 0 1 1 1 1 1 1 0 0 1 1]\n",
      " [1 1 1 0 1 1 1 1 1 1 0 0 0 1 1 1 1 1 0 1 1 0 1 1 1 1 0 0 1 0 1 1 1 1 1 0\n",
      "  0 0 1 1 1 1 0 1 1 0 1 1 1 1 1 1 1 0 1 1 1 1 1 1 0 0 1 1]\n",
      " [1 1 1 0 1 1 1 1 1 1 0 0 0 0 1 1 1 1 0 1 1 0 1 1 1 1 0 0 1 0 1 1 1 1 1 0\n",
      "  1 0 1 1 1 1 1 1 1 0 1 1 1 1 1 0 1 0 1 1 1 1 1 0 0 1 1 1]\n",
      " [1 1 1 0 1 1 1 1 1 1 0 0 1 0 1 1 1 1 0 0 1 0 1 1 1 1 1 0 0 0 1 1 1 1 0 0\n",
      "  0 0 1 1 1 1 0 1 1 0 1 1 1 1 0 0 1 0 1 1 1 1 1 0 0 1 1 1]\n",
      " [1 1 1 1 1 1 1 1 1 1 0 0 0 0 1 1 1 1 0 1 1 0 1 1 1 1 0 0 1 0 1 1 1 1 1 0\n",
      "  0 1 1 1 1 1 1 1 1 0 1 1 1 1 1 1 1 0 1 1 1 1 1 0 0 1 1 1]\n",
      " [1 1 1 0 0 1 1 1 1 1 0 0 0 1 1 1 1 1 0 1 1 0 1 1 1 1 0 0 1 0 1 1 1 1 1 0\n",
      "  0 0 1 1 1 1 1 0 1 0 1 1 1 1 1 1 1 0 1 1 1 1 1 0 0 0 1 1]\n",
      " [1 1 1 0 0 1 1 1 1 1 0 0 0 1 1 1 1 1 0 1 1 0 1 1 1 1 0 1 0 0 1 1 1 1 1 1\n",
      "  1 0 1 1 1 1 1 1 1 0 1 1 1 1 1 1 1 0 1 1 1 1 1 1 0 1 1 1]\n",
      " [1 1 1 0 0 1 1 1 1 1 0 0 0 1 1 1 1 1 0 0 1 0 1 1 1 1 1 0 0 1 1 1 1 1 1 0\n",
      "  0 1 1 1 1 1 0 0 0 0 1 1 1 1 0 0 0 0 1 1 1 1 1 0 0 1 1 1]]\n"
     ]
    }
   ],
   "source": [
    "print(weights_vector)"
   ]
  },
  {
   "cell_type": "code",
   "execution_count": 6,
   "metadata": {
    "ExecuteTime": {
     "end_time": "2020-09-14T03:24:19.645182Z",
     "start_time": "2020-09-14T03:24:19.568368Z"
    },
    "hidden": true
   },
   "outputs": [
    {
     "name": "stdout",
     "output_type": "stream",
     "text": [
      "Total count for digits: Counter({3: 183, 1: 182, 5: 182, 4: 181, 6: 181, 9: 180, 7: 179, 0: 178, 2: 177, 8: 174})\n"
     ]
    }
   ],
   "source": [
    "digits = datasets.load_digits()\n",
    "\n",
    "# Getting images and labels from digits\n",
    "images = digits.images\n",
    "targets = digits.target\n",
    "\n",
    "print(f'Total count for digits: {Counter(targets)}')\n",
    "# Splitting dataset\n",
    "#X_train, X_test, Y_train, Y_test = sklearn.model_selection.train_test_split(images, targets, test_size = 0.2, random_state = 10, shuffle = True)\n",
    "X_test, Y_test = images, targets"
   ]
  },
  {
   "cell_type": "code",
   "execution_count": 7,
   "metadata": {
    "ExecuteTime": {
     "end_time": "2020-09-14T03:24:20.255905Z",
     "start_time": "2020-09-14T03:24:20.088170Z"
    },
    "hidden": true
   },
   "outputs": [],
   "source": [
    "images_and_labels = list(zip(X_test, Y_test))\n",
    "for index, (image, label) in enumerate(images_and_labels[:20]):\n",
    "    plt.subplot(2, 10, index + 1)\n",
    "    plt.axis('off')\n",
    "    plt.imshow(image.reshape(8, 8), cmap=plt.cm.gray_r, interpolation='nearest')\n",
    "    plt.title('Test: %i' % label)"
   ]
  },
  {
   "cell_type": "code",
   "execution_count": 8,
   "metadata": {
    "ExecuteTime": {
     "end_time": "2020-09-14T03:24:21.318254Z",
     "start_time": "2020-09-14T03:24:21.240464Z"
    },
    "hidden": true
   },
   "outputs": [],
   "source": [
    "# Reshaping digits\n",
    "#X_train = X_train.reshape(X_train.shape[0], -1)\n",
    "X_test = X_test.reshape(X_test.shape[0], -1)\n",
    "\n",
    "\n",
    "# Preprocessing digits by mapping in interval\n",
    "for i in range(len(X_test)):\n",
    "    X_test[i] = np.array(list(map(lambda x : 0 if 0 <= x < 9 else 1, X_test[i])))\n",
    "    \n",
    "#for i in range(len(X_train)):\n",
    "#    X_train[i] = np.array(list(map(lambda x : 0 if 0 <= x < 9 else 1, X_train[i])))"
   ]
  },
  {
   "cell_type": "code",
   "execution_count": 9,
   "metadata": {
    "ExecuteTime": {
     "end_time": "2020-09-14T03:24:22.784893Z",
     "start_time": "2020-09-14T03:24:22.705095Z"
    },
    "hidden": true
   },
   "outputs": [
    {
     "name": "stderr",
     "output_type": "stream",
     "text": [
      "C:\\Users\\jeff_\\Anaconda3\\lib\\site-packages\\ipykernel_launcher.py:3: MatplotlibDeprecationWarning: Adding an axes using the same arguments as a previous axes currently reuses the earlier instance.  In a future version, a new instance will always be created and returned.  Meanwhile, this warning can be suppressed, and the future behavior ensured, by passing a unique label to each axes instance.\n",
      "  This is separate from the ipykernel package so we can avoid doing imports until\n"
     ]
    }
   ],
   "source": [
    "images_and_labels = list(zip(X_test, Y_test))\n",
    "for index, (image, label) in enumerate(images_and_labels[:20]):\n",
    "    plt.subplot(2, 10, index + 1)\n",
    "    plt.axis('off')\n",
    "    plt.imshow(image.reshape(8, 8), cmap=plt.cm.gray_r, interpolation='nearest')\n",
    "    plt.title('T: %i' % label)"
   ]
  },
  {
   "cell_type": "code",
   "execution_count": 10,
   "metadata": {
    "ExecuteTime": {
     "end_time": "2020-09-14T03:30:31.473868Z",
     "start_time": "2020-09-14T03:24:47.242060Z"
    },
    "hidden": true,
    "scrolled": true
   },
   "outputs": [
    {
     "data": {
      "application/vnd.jupyter.widget-view+json": {
       "model_id": "63be373b67074fa99a1110ed35e273cd",
       "version_major": 2,
       "version_minor": 0
      },
      "text/plain": [
       "HBox(children=(FloatProgress(value=0.0, description='Predicting', max=1796.0, style=ProgressStyle(description_…"
      ]
     },
     "metadata": {},
     "output_type": "display_data"
    },
    {
     "name": "stdout",
     "output_type": "stream",
     "text": [
      "\n"
     ]
    },
    {
     "data": {
      "application/vnd.jupyter.widget-view+json": {
       "model_id": "2a1db008a4044bd2bf4d4d520b579b07",
       "version_major": 2,
       "version_minor": 0
      },
      "text/plain": [
       "HBox(children=(FloatProgress(value=0.0, description='Predicting', max=1796.0, style=ProgressStyle(description_…"
      ]
     },
     "metadata": {},
     "output_type": "display_data"
    },
    {
     "name": "stdout",
     "output_type": "stream",
     "text": [
      "\n"
     ]
    },
    {
     "data": {
      "application/vnd.jupyter.widget-view+json": {
       "model_id": "8eeefffc7e8a4bf38fd5143fb052ebc8",
       "version_major": 2,
       "version_minor": 0
      },
      "text/plain": [
       "HBox(children=(FloatProgress(value=0.0, description='Predicting', max=1796.0, style=ProgressStyle(description_…"
      ]
     },
     "metadata": {},
     "output_type": "display_data"
    },
    {
     "name": "stdout",
     "output_type": "stream",
     "text": [
      "\n"
     ]
    },
    {
     "data": {
      "application/vnd.jupyter.widget-view+json": {
       "model_id": "102d0df29a404d1f8c6d30ac67dd94a5",
       "version_major": 2,
       "version_minor": 0
      },
      "text/plain": [
       "HBox(children=(FloatProgress(value=0.0, description='Predicting', max=1796.0, style=ProgressStyle(description_…"
      ]
     },
     "metadata": {},
     "output_type": "display_data"
    },
    {
     "name": "stdout",
     "output_type": "stream",
     "text": [
      "\n"
     ]
    },
    {
     "data": {
      "application/vnd.jupyter.widget-view+json": {
       "model_id": "6d576c7a5d2c419e9909e4954b2db13a",
       "version_major": 2,
       "version_minor": 0
      },
      "text/plain": [
       "HBox(children=(FloatProgress(value=0.0, description='Predicting', max=1796.0, style=ProgressStyle(description_…"
      ]
     },
     "metadata": {},
     "output_type": "display_data"
    },
    {
     "name": "stdout",
     "output_type": "stream",
     "text": [
      "\n"
     ]
    },
    {
     "data": {
      "application/vnd.jupyter.widget-view+json": {
       "model_id": "6252ace913cb4906abeffd579788395e",
       "version_major": 2,
       "version_minor": 0
      },
      "text/plain": [
       "HBox(children=(FloatProgress(value=0.0, description='Predicting', max=1796.0, style=ProgressStyle(description_…"
      ]
     },
     "metadata": {},
     "output_type": "display_data"
    },
    {
     "name": "stdout",
     "output_type": "stream",
     "text": [
      "\n"
     ]
    },
    {
     "data": {
      "application/vnd.jupyter.widget-view+json": {
       "model_id": "386382e615d84d3ea19c503b628e3c46",
       "version_major": 2,
       "version_minor": 0
      },
      "text/plain": [
       "HBox(children=(FloatProgress(value=0.0, description='Predicting', max=1796.0, style=ProgressStyle(description_…"
      ]
     },
     "metadata": {},
     "output_type": "display_data"
    },
    {
     "name": "stdout",
     "output_type": "stream",
     "text": [
      "\n"
     ]
    },
    {
     "data": {
      "application/vnd.jupyter.widget-view+json": {
       "model_id": "8d9ad455e2cd4c189dd26b7956150975",
       "version_major": 2,
       "version_minor": 0
      },
      "text/plain": [
       "HBox(children=(FloatProgress(value=0.0, description='Predicting', max=1796.0, style=ProgressStyle(description_…"
      ]
     },
     "metadata": {},
     "output_type": "display_data"
    },
    {
     "name": "stdout",
     "output_type": "stream",
     "text": [
      "\n"
     ]
    },
    {
     "data": {
      "application/vnd.jupyter.widget-view+json": {
       "model_id": "58dbccb4eead4db3a5d17f39689467ec",
       "version_major": 2,
       "version_minor": 0
      },
      "text/plain": [
       "HBox(children=(FloatProgress(value=0.0, description='Predicting', max=1796.0, style=ProgressStyle(description_…"
      ]
     },
     "metadata": {},
     "output_type": "display_data"
    },
    {
     "name": "stdout",
     "output_type": "stream",
     "text": [
      "\n"
     ]
    },
    {
     "data": {
      "application/vnd.jupyter.widget-view+json": {
       "model_id": "67df35cd9ccf4d42b9df22eeda391e89",
       "version_major": 2,
       "version_minor": 0
      },
      "text/plain": [
       "HBox(children=(FloatProgress(value=0.0, description='Predicting', max=1796.0, style=ProgressStyle(description_…"
      ]
     },
     "metadata": {},
     "output_type": "display_data"
    },
    {
     "name": "stdout",
     "output_type": "stream",
     "text": [
      "\n"
     ]
    }
   ],
   "source": [
    "N = -1\n",
    "test_threshold = .35\n",
    "Q = 6\n",
    "classification_patterns = X_test[:N]\n",
    "classification_labels = Y_test[:N]\n",
    "shots = 1024\n",
    "bias = 0.0\n",
    "\n",
    "holder_for_classes, holder_for_readouts = multi_class_prediction_OVA(qubits = Q, classification_patterns = classification_patterns, shots = shots, test_threshold = test_threshold, weights_matrix = weights_vector, bias = bias)"
   ]
  },
  {
   "cell_type": "code",
   "execution_count": 11,
   "metadata": {
    "ExecuteTime": {
     "end_time": "2020-09-14T03:36:14.508661Z",
     "start_time": "2020-09-14T03:36:14.504729Z"
    },
    "hidden": true
   },
   "outputs": [],
   "source": [
    "# To print only two decimal places\n",
    "np.set_printoptions(precision = 2)"
   ]
  },
  {
   "cell_type": "code",
   "execution_count": 12,
   "metadata": {
    "ExecuteTime": {
     "end_time": "2020-09-14T03:36:15.916891Z",
     "start_time": "2020-09-14T03:36:15.910880Z"
    },
    "hidden": true
   },
   "outputs": [
    {
     "data": {
      "text/plain": [
       "array([[ 0, 10, 10, ..., 10, 10, 10],\n",
       "       [10,  1,  2, ...,  7,  8, 10],\n",
       "       [ 0,  1,  2, ...,  7,  8, 10],\n",
       "       ...,\n",
       "       [ 0, 10,  2, ...,  7, 10, 10],\n",
       "       [10,  1,  2, ...,  7,  8, 10],\n",
       "       [ 0, 10, 10, ..., 10, 10,  9]], dtype=int64)"
      ]
     },
     "execution_count": 12,
     "metadata": {},
     "output_type": "execute_result"
    }
   ],
   "source": [
    "holder_for_classes"
   ]
  },
  {
   "cell_type": "code",
   "execution_count": 13,
   "metadata": {
    "ExecuteTime": {
     "end_time": "2020-09-14T03:36:20.883388Z",
     "start_time": "2020-09-14T03:36:20.880397Z"
    },
    "hidden": true
   },
   "outputs": [],
   "source": [
    "mx, my = np.where(holder_for_classes == 10)"
   ]
  },
  {
   "cell_type": "code",
   "execution_count": 14,
   "metadata": {
    "ExecuteTime": {
     "end_time": "2020-09-14T03:36:23.134441Z",
     "start_time": "2020-09-14T03:36:23.128457Z"
    },
    "hidden": true
   },
   "outputs": [],
   "source": [
    "for i, j in zip(mx, my):\n",
    "    holder_for_readouts[i, j] = 0"
   ]
  },
  {
   "cell_type": "code",
   "execution_count": 15,
   "metadata": {
    "ExecuteTime": {
     "end_time": "2020-09-14T03:36:25.956272Z",
     "start_time": "2020-09-14T03:36:25.951285Z"
    },
    "hidden": true
   },
   "outputs": [
    {
     "name": "stdout",
     "output_type": "stream",
     "text": [
      "[[0.23 0.   0.   ... 0.   0.   0.  ]\n",
      " [0.   0.24 0.23 ... 0.28 0.16 0.  ]\n",
      " [0.18 0.25 0.16 ... 0.21 0.16 0.  ]\n",
      " ...\n",
      " [0.23 0.   0.32 ... 0.33 0.   0.  ]\n",
      " [0.   0.34 0.25 ... 0.29 0.2  0.  ]\n",
      " [0.33 0.   0.   ... 0.   0.   0.3 ]]\n"
     ]
    }
   ],
   "source": [
    "print(holder_for_readouts)"
   ]
  },
  {
   "cell_type": "code",
   "execution_count": 25,
   "metadata": {
    "ExecuteTime": {
     "end_time": "2020-09-14T03:38:03.043099Z",
     "start_time": "2020-09-14T03:38:03.039129Z"
    },
    "hidden": true
   },
   "outputs": [],
   "source": [
    "classified_as = np.argmax(holder_for_readouts, axis = 1)"
   ]
  },
  {
   "cell_type": "code",
   "execution_count": 82,
   "metadata": {
    "ExecuteTime": {
     "end_time": "2020-09-14T03:03:24.608008Z",
     "start_time": "2020-09-14T03:03:24.254969Z"
    },
    "hidden": true
   },
   "outputs": [],
   "source": [
    "fig, axs = plt.subplots(3, int(np.ceil(len(classification_patterns) / 3)), figsize=(15,9))\n",
    "count = 0\n",
    "\n",
    "for i in range(3):\n",
    "    for j in range(int(np.ceil(len(classification_patterns) / 3))):\n",
    "        ax = axs[i][j]\n",
    "        \n",
    "        #c = ax.pcolor(thetas[i + j][1:].reshape(28, 28), cmap = 'gray')\n",
    "        try:\n",
    "            c = ax.imshow(np.array(classification_patterns[count]).reshape(8, 8), cmap = 'gray_r', interpolation='nearest')\n",
    "            ax.axis('off')\n",
    "            ax.axis('equal')\n",
    "            ax.set_title(f'Clas. as {classified_as[count]} is {classification_labels[count]}').set_position([0.5, 1.1])\n",
    "            count += 1\n",
    "        except IndexError:\n",
    "            continue\n",
    "        \n",
    "fig.tight_layout()\n",
    "plt.colorbar(c)\n",
    "plt.show()"
   ]
  },
  {
   "cell_type": "code",
   "execution_count": 26,
   "metadata": {
    "ExecuteTime": {
     "end_time": "2020-09-14T03:38:07.593861Z",
     "start_time": "2020-09-14T03:38:07.588874Z"
    },
    "hidden": true
   },
   "outputs": [
    {
     "name": "stdout",
     "output_type": "stream",
     "text": [
      "Accuracy = 0.09855233853006681\n"
     ]
    }
   ],
   "source": [
    "accuracy = len(np.where(classification_labels == classified_as)[0]) / len(classification_labels)\n",
    "print(f'Accuracy = {accuracy}')"
   ]
  },
  {
   "cell_type": "code",
   "execution_count": 18,
   "metadata": {
    "ExecuteTime": {
     "end_time": "2020-09-14T03:36:47.504406Z",
     "start_time": "2020-09-14T03:36:47.414637Z"
    },
    "hidden": true
   },
   "outputs": [],
   "source": [
    "fig, ax = plt.subplots(1, 1, figsize=(15,9))\n",
    "\n",
    "c = ax.imshow(holder_for_readouts, cmap = 'hot', interpolation='nearest')\n",
    "ax.axis('on')\n",
    "#ax.axis('equal')\n",
    "ax.set_title(f'Heatmap for Readouts').set_position([0.5, 1.1])\n",
    "        \n",
    "fig.tight_layout()\n",
    "norm = mpl.colors.Normalize(vmin=np.nan_to_num(holder_for_readouts.astype(float)).min(), vmax=np.nan_to_num(holder_for_readouts.astype(float)).max())\n",
    "plt.colorbar(c, norm = norm)\n",
    "plt.show()"
   ]
  },
  {
   "cell_type": "markdown",
   "metadata": {
    "hidden": true
   },
   "source": [
    "## Evaluating"
   ]
  },
  {
   "cell_type": "code",
   "execution_count": 27,
   "metadata": {
    "ExecuteTime": {
     "end_time": "2020-09-14T03:38:11.160472Z",
     "start_time": "2020-09-14T03:38:11.148504Z"
    },
    "hidden": true
   },
   "outputs": [
    {
     "data": {
      "text/plain": [
       "array([[43, 12, 14, 18, 13, 10, 11, 17, 10, 30],\n",
       "       [22, 24, 11, 11,  6, 25,  9, 50,  9, 15],\n",
       "       [38, 13,  5,  6, 12, 16,  2, 24, 11, 50],\n",
       "       [24, 25, 15, 11, 16, 11, 18, 10, 36, 17],\n",
       "       [26, 35,  1, 12,  5, 19, 13, 18, 20, 32],\n",
       "       [18, 16, 18, 14, 25,  9, 10, 24, 13, 35],\n",
       "       [14, 12, 10, 31, 18, 20, 16, 28,  8, 24],\n",
       "       [17, 25,  4,  3, 22, 29, 17, 25, 16, 21],\n",
       "       [50, 11, 12, 10, 17, 14, 17, 16, 11, 15],\n",
       "       [27, 19, 11, 20, 10, 21, 13, 15, 16, 28]], dtype=int64)"
      ]
     },
     "execution_count": 27,
     "metadata": {},
     "output_type": "execute_result"
    }
   ],
   "source": [
    "conf = confusion_matrix(classification_labels, classified_as)\n",
    "conf"
   ]
  },
  {
   "cell_type": "code",
   "execution_count": 28,
   "metadata": {
    "ExecuteTime": {
     "end_time": "2020-09-14T03:38:11.876232Z",
     "start_time": "2020-09-14T03:38:11.734581Z"
    },
    "hidden": true
   },
   "outputs": [],
   "source": [
    "plot_confusion_matrix(conf, target_names = np.unique(classification_labels), labels = True, normalize = False)"
   ]
  },
  {
   "cell_type": "code",
   "execution_count": 29,
   "metadata": {
    "ExecuteTime": {
     "end_time": "2020-09-14T03:46:44.972209Z",
     "start_time": "2020-09-14T03:46:44.965228Z"
    },
    "hidden": true
   },
   "outputs": [
    {
     "data": {
      "text/plain": [
       "0.09855233853006681"
      ]
     },
     "execution_count": 29,
     "metadata": {},
     "output_type": "execute_result"
    }
   ],
   "source": [
    "accuracy_score(classification_labels, classified_as)"
   ]
  },
  {
   "cell_type": "code",
   "execution_count": 30,
   "metadata": {
    "ExecuteTime": {
     "end_time": "2020-09-14T03:46:46.284670Z",
     "start_time": "2020-09-14T03:46:46.273699Z"
    },
    "hidden": true
   },
   "outputs": [
    {
     "data": {
      "text/plain": [
       "array([[43, 12, 14, 18, 13, 10, 11, 17, 10, 30],\n",
       "       [22, 24, 11, 11,  6, 25,  9, 50,  9, 15],\n",
       "       [38, 13,  5,  6, 12, 16,  2, 24, 11, 50],\n",
       "       [24, 25, 15, 11, 16, 11, 18, 10, 36, 17],\n",
       "       [26, 35,  1, 12,  5, 19, 13, 18, 20, 32],\n",
       "       [18, 16, 18, 14, 25,  9, 10, 24, 13, 35],\n",
       "       [14, 12, 10, 31, 18, 20, 16, 28,  8, 24],\n",
       "       [17, 25,  4,  3, 22, 29, 17, 25, 16, 21],\n",
       "       [50, 11, 12, 10, 17, 14, 17, 16, 11, 15],\n",
       "       [27, 19, 11, 20, 10, 21, 13, 15, 16, 28]], dtype=int64)"
      ]
     },
     "execution_count": 30,
     "metadata": {},
     "output_type": "execute_result"
    }
   ],
   "source": [
    "confusion_matrix(classification_labels, classified_as)"
   ]
  },
  {
   "cell_type": "code",
   "execution_count": 31,
   "metadata": {
    "ExecuteTime": {
     "end_time": "2020-09-14T03:46:47.192223Z",
     "start_time": "2020-09-14T03:46:47.185241Z"
    },
    "hidden": true
   },
   "outputs": [
    {
     "data": {
      "text/plain": [
       "array([0.15, 0.12, 0.05, 0.08, 0.03, 0.05, 0.13, 0.11, 0.07, 0.1 ])"
      ]
     },
     "execution_count": 31,
     "metadata": {},
     "output_type": "execute_result"
    }
   ],
   "source": [
    "precision_score(classification_labels, classified_as, average = None)"
   ]
  },
  {
   "cell_type": "code",
   "execution_count": 32,
   "metadata": {
    "ExecuteTime": {
     "end_time": "2020-09-14T03:46:50.152273Z",
     "start_time": "2020-09-14T03:46:50.145259Z"
    },
    "hidden": true
   },
   "outputs": [
    {
     "data": {
      "text/plain": [
       "array([0.24, 0.13, 0.03, 0.06, 0.03, 0.05, 0.09, 0.14, 0.06, 0.16])"
      ]
     },
     "execution_count": 32,
     "metadata": {},
     "output_type": "execute_result"
    }
   ],
   "source": [
    "recall_score(classification_labels, classified_as, average = None)"
   ]
  },
  {
   "cell_type": "code",
   "execution_count": 33,
   "metadata": {
    "ExecuteTime": {
     "end_time": "2020-09-14T03:46:51.030870Z",
     "start_time": "2020-09-14T03:46:51.024886Z"
    },
    "hidden": true
   },
   "outputs": [
    {
     "data": {
      "text/plain": [
       "array([0.19, 0.13, 0.04, 0.07, 0.03, 0.05, 0.1 , 0.12, 0.07, 0.13])"
      ]
     },
     "execution_count": 33,
     "metadata": {},
     "output_type": "execute_result"
    }
   ],
   "source": [
    "f1_score(classification_labels, classified_as, average = None)"
   ]
  },
  {
   "cell_type": "code",
   "execution_count": null,
   "metadata": {
    "hidden": true
   },
   "outputs": [],
   "source": []
  }
 ],
 "metadata": {
  "kernelspec": {
   "display_name": "Python 3",
   "language": "python",
   "name": "python3"
  },
  "language_info": {
   "codemirror_mode": {
    "name": "ipython",
    "version": 3
   },
   "file_extension": ".py",
   "mimetype": "text/x-python",
   "name": "python",
   "nbconvert_exporter": "python",
   "pygments_lexer": "ipython3",
   "version": "3.7.4"
  },
  "varInspector": {
   "cols": {
    "lenName": 16,
    "lenType": 16,
    "lenVar": 40
   },
   "kernels_config": {
    "python": {
     "delete_cmd_postfix": "",
     "delete_cmd_prefix": "del ",
     "library": "var_list.py",
     "varRefreshCmd": "print(var_dic_list())"
    },
    "r": {
     "delete_cmd_postfix": ") ",
     "delete_cmd_prefix": "rm(",
     "library": "var_list.r",
     "varRefreshCmd": "cat(var_dic_list()) "
    }
   },
   "position": {
    "height": "144px",
    "left": "1166px",
    "right": "20px",
    "top": "119px",
    "width": "350px"
   },
   "types_to_exclude": [
    "module",
    "function",
    "builtin_function_or_method",
    "instance",
    "_Feature"
   ],
   "window_display": false
  }
 },
 "nbformat": 4,
 "nbformat_minor": 2
}
