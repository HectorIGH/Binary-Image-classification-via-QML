{
 "cells": [
  {
   "cell_type": "markdown",
   "metadata": {
    "heading_collapsed": true
   },
   "source": [
    "# Imports"
   ]
  },
  {
   "cell_type": "code",
   "execution_count": 17,
   "metadata": {
    "ExecuteTime": {
     "end_time": "2020-12-23T03:41:06.699844Z",
     "start_time": "2020-12-23T03:41:06.644991Z"
    },
    "hidden": true
   },
   "outputs": [],
   "source": [
    "import numpy as np\n",
    "from collections import Counter\n",
    "import matplotlib.pyplot as plt\n",
    "import matplotlib.cm as cm\n",
    "import matplotlib as mpl\n",
    "import itertools\n",
    "import seaborn as sns\n",
    "import cv2\n",
    "import sklearn\n",
    "import functools\n",
    "import os\n",
    "from sklearn.utils import shuffle\n",
    "from sklearn import datasets\n",
    "from sklearn.metrics import accuracy_score, precision_score, recall_score, f1_score, confusion_matrix, roc_curve, auc\n",
    "from functools import partial, lru_cache\n",
    "from copy import copy\n",
    "from tqdm import tqdm, tqdm_notebook, notebook\n",
    "from operator import itemgetter\n",
    "from livelossplot import PlotLosses\n",
    "\n",
    "from qiskit import ClassicalRegister, QuantumRegister, QuantumCircuit, Aer, execute, IBMQ\n",
    "from qiskit.tools.visualization import circuit_drawer\n",
    "from qiskit.tools.visualization import plot_histogram\n",
    "from qiskit.extensions.unitary import unitary\n",
    "from qiskit.tools.monitor import job_monitor\n",
    "from qiskit.compiler import transpile, assemble\n",
    "S_simulator = Aer.backends(name = 'statevector_simulator')[0]\n",
    "M_simulator = Aer.backends(name = 'qasm_simulator')[0]\n",
    "\n",
    "%matplotlib inline"
   ]
  },
  {
   "cell_type": "markdown",
   "metadata": {
    "heading_collapsed": true
   },
   "source": [
    "# Auxiliar functions definition"
   ]
  },
  {
   "cell_type": "code",
   "execution_count": 41,
   "metadata": {
    "ExecuteTime": {
     "end_time": "2020-12-23T03:52:52.535594Z",
     "start_time": "2020-12-23T03:52:52.467743Z"
    },
    "hidden": true,
    "scrolled": true
   },
   "outputs": [],
   "source": [
    "def preprocess(vector):\n",
    "    i_unsigned = np.multiply(-1, vector)\n",
    "    i_binary = [bin(int(n)) for n in i_unsigned]\n",
    "    for index, e in enumerate(i_binary):\n",
    "        if(e[0] == '-'):\n",
    "            i_binary[index] = [-1, list(map(int, str(int(bin(index)[2:]))))]\n",
    "        else:\n",
    "            i_binary[index] = [1, list(map(int, str(int(bin(index)[2:]))))]\n",
    "            \n",
    "    n = int(np.log2(len(i_binary)))\n",
    "    for index, element in enumerate(i_binary):\n",
    "        if (len(element[1]) != n):\n",
    "            while (len(i_binary[index][1]) != n):\n",
    "                i_binary[index][1].insert(0, 0)\n",
    "    i_binary = np.array(i_binary)\n",
    "    return i_binary\n",
    "\n",
    "def check_z(binary):\n",
    "    positive = True # Controls the sign to achieve\n",
    "    \n",
    "    if (int(binary[0][0]) < 0):\n",
    "        positive = False\n",
    "        \n",
    "    z_index = []\n",
    "    for index, element in enumerate(binary):\n",
    "        counts = Counter(element[1])\n",
    "        if (counts[1] == 1):\n",
    "            if (positive):\n",
    "                if (int(binary[index][0]) == -1):\n",
    "                    z_index.append(int(np.where(np.array(binary[index][1]) == 1)[0][0]))\n",
    "            else:\n",
    "                if (int(binary[index][0]) == 1):\n",
    "                    z_index.append(int(np.where(np.array(binary[index][1]) == 1)[0][0]))\n",
    "    return z_index\n",
    "\n",
    "def apply_z(binary, Z):    \n",
    "    for z in Z:\n",
    "        mask = np.array(list(map(lambda x : x[z] == 1, binary[:,1])))\n",
    "        binary[mask, 0] *= -1\n",
    "    \n",
    "    return binary\n",
    "\n",
    "\n",
    "def check_cpz(binary):\n",
    "    CPZ = set()\n",
    "    n = int(np.log2(len(binary)))\n",
    "    sequence = 0\n",
    "\n",
    "    for p in range(2, n + 1):\n",
    "        for ind, e in enumerate(binary):\n",
    "            counts = Counter(e[1])\n",
    "            if (counts[1] == p) and (binary[0][0] != e[0]):\n",
    "                ones = np.where(np.array(e[1]) == 1)[0]\n",
    "                CPZ.add(tuple([sequence, tuple(ones)]))\n",
    "                sequence += 1\n",
    "                \n",
    "                ones_set = set(ones)\n",
    "                mask = np.array(list(map(partial(check_set, ones_set) , binary[:, 1])))\n",
    "                \n",
    "                binary[mask, 0] *= -1\n",
    "                \n",
    "    CPZ = [list(ele) for _, ele in enumerate(CPZ)]\n",
    "    CPZ = sorted(CPZ, key = lambda l: l[0])\n",
    "    CPZ = [list(e[1]) for e in CPZ]\n",
    "    return CPZ\n",
    "\n",
    "def check_set(ones_set, pos_set):\n",
    "    return set.issubset(ones_set, set(np.where(np.array(pos_set) == 1)[0]))\n",
    "\n",
    "def vectorize(number, digits):\n",
    "    digits = 2**(np.ceil(np.log2(digits)))\n",
    "    binary_number = bin(number)[2:]\n",
    "    as_text = str(binary_number)\n",
    "    vectorized_number = [int(d) for d in as_text]\n",
    "    if (digits < len(vectorized_number)):\n",
    "        digits = 2**(np.ceil(np.log2(len(vectorized_number))))\n",
    "    if (digits > len(vectorized_number)):\n",
    "        while (len(vectorized_number) != digits):\n",
    "            vectorized_number.insert(0, 0)\n",
    "    return np.array(vectorized_number)\n",
    "\n",
    "def o_product(i, w):\n",
    "    return (np.abs(np.dot(i, w))/len(i))**2\n",
    "\n",
    "def sign(p):\n",
    "    #Can be substitute in code by:\n",
    "    #sign = lambda p : [(-1)**i for i in p]\n",
    "    #list(map(sign, inputs))\n",
    "    return [(-1)**i for i in p]\n",
    "\n",
    "def design(p):\n",
    "    return [1 if i < 0 else 0 for i in w]\n",
    "\n",
    "def reindex(N, change):\n",
    "    origin = np.array([i for i in range(N)])\n",
    "    destiny = np.flipud(origin)\n",
    "    \n",
    "    for index, element in enumerate(change):\n",
    "        change[index] = np.where(destiny == element)[0][0]\n",
    "        \n",
    "    return change\n",
    "\n",
    "def U(qc, q, Z, CPZ):\n",
    "    for z in Z:\n",
    "        qc.z(q[int(z)])\n",
    "    for cpz in CPZ:\n",
    "        controls = [q[int(i)] for i in cpz[:-1]]\n",
    "        target = q[int(cpz[-1])]\n",
    "        qc.h(cpz[-1])\n",
    "        qc.mct(controls, target, None, mode='noancilla')\n",
    "        \n",
    "        qc.h(cpz[-1])\n",
    "    return qc\n",
    "\n",
    "#@lru_cache(maxsize = None)\n",
    "def gates_sequence(vector):\n",
    "    binary = preprocess(vector)\n",
    "    Z_GATES = check_z(binary)\n",
    "    binary = apply_z(binary, Z_GATES)\n",
    "    CPZ_GATES = check_cpz(binary)\n",
    "    return Z_GATES, CPZ_GATES\n",
    "\n",
    "def perceptron(N = 1, shots = 512, z_gates_w = [], CPZ_gates_w = [], z_gates_i = [], CPZ_gates_i = [], simulation = True):\n",
    "    \n",
    "    q = QuantumRegister(N, name = 'q_r')\n",
    "    a = QuantumRegister(1, name = 'a_r')\n",
    "    c = ClassicalRegister(1, name = 'c_r')\n",
    "    qc = QuantumCircuit(q, a, c, name = 'qc')\n",
    "\n",
    "    for index in range(N):\n",
    "        qc.h(q[index])\n",
    "\n",
    "        \n",
    "    qc = U(qc, q, z_gates_i, CPZ_gates_i)\n",
    "    qc = U(qc, q, z_gates_w, CPZ_gates_w)\n",
    "\n",
    "    for index in range(N):\n",
    "        qc.h(q[index])\n",
    "    \n",
    "    for index in range(N):\n",
    "        qc.x(q[index])\n",
    "\n",
    "    qc.mct(q[:], a[0], None, mode='noancilla')    \n",
    "        \n",
    "    qc.measure(a[0], c)\n",
    "    \n",
    "    # Optimized\n",
    "    transpiled_circuit = transpile(qc, M_simulator, optimization_level = 1) # optimization_level = [0, 1, 2, 3]\n",
    "    job = M_simulator.run(assemble(transpiled_circuit, shots = shots))\n",
    "    results = job.result()\n",
    "    \n",
    "    return results\n",
    "\n",
    "\n",
    "def fit(qubits = 1, X_train = np.array([[1]]), Y_train = np.array([[1]]), negative_class = 0, positive_class = 1, epochs = 1, shots = 64, threshold = 0.5, Ip = 0.5, In = 0.5, bias = 0, weight_passed = []):\n",
    "    n = len(X_train)\n",
    "    result_matrix = np.zeros((epochs, len(X_train)))\n",
    "    np.random.seed(10)\n",
    "    \n",
    "    w = weight_passed\n",
    "    #w = np.random.randint(2, size = 2**qubits) # Random generation of initial weight vector. Sign it at once.\n",
    "    \n",
    "    #w = np.array(X_train[23])\n",
    "    \n",
    "    weights = []\n",
    "\n",
    "    for epoch in notebook.tqdm(range(epochs), desc = f'Epoches'):\n",
    "        errors = 0\n",
    "        correct = 0\n",
    "        for index, training_element in enumerate(notebook.tqdm(X_train, desc = f'Training {epoch}')):\n",
    "\n",
    "            pattern = sign(training_element) # Signing the training pattern.\n",
    "            \n",
    "            wei = sign(w) # Signing the weight vector\n",
    "            z_gates_i, CPZ_gates_i = gates_sequence(tuple(pattern)) # Gates to apply to the training pattern vector\n",
    "            z_gates_w, CPZ_gates_w = gates_sequence(tuple(wei)) # Gates to apply to the weight vector\n",
    "            \n",
    "            ############################  Quantum Proccess  ############################\n",
    "            \n",
    "            results = perceptron(qubits, shots, z_gates_w, CPZ_gates_w, z_gates_i, CPZ_gates_i)\n",
    "            \n",
    "            #########################  End of Quantum Proccess  #########################\n",
    "            \n",
    "            counts = results.get_counts()\n",
    "        \n",
    "            try:\n",
    "                readout = counts['1'] / shots\n",
    "            except KeyError:\n",
    "                readout = 0\n",
    "            \n",
    "            clazz = negative_class if activation(readout + bias) < threshold else positive_class # Classification part.\n",
    "            \n",
    "            result_matrix[epoch][index] = readout + bias\n",
    "            if (Y_train[index] == clazz):\n",
    "                correct -= -np.power(np.inf, np.log(1))\n",
    "                continue # Skip the execution to the next iteration\n",
    "            if (clazz == negative_class): # Classified as (negative) when is (positive)\n",
    "                coincide = np.argwhere(training_element == w).flatten()\n",
    "                pos = np.array(list(set(np.random.choice(coincide, int(np.floor(len(coincide) * Ip)), replace = False)))) if len(coincide) > 0 else np.array([])\n",
    "                try:\n",
    "                    w[pos] = (w[pos] + 1) % 2\n",
    "                except IndexError:\n",
    "                    pass\n",
    "            else: # Classified as 1 (positive) when is 0 (negative)\n",
    "                coincide = np.argwhere(training_element == w).flatten()\n",
    "                pos = np.array(list(set(np.random.choice(coincide, int(np.floor(len(coincide) * In)), replace = False)))) if len(coincide) > 0 else np.array([])\n",
    "                try:\n",
    "                    w[pos] = (w[pos] + 1) % 2\n",
    "                except IndexError:\n",
    "                    pass\n",
    "            errors -= -1\n",
    "        print(f'Errors = {errors} for accuracy of = {1 - errors/len(X_train)}')\n",
    "        weights.append(w)\n",
    "    return w, result_matrix, weights, (1 - errors/len(X_train) , errors/len(X_train))\n",
    "\n",
    "def predict(qubits = 1, X_test = np.array([[1]]), negative_class = 0, positive_class = 1, shots = 64, threshold = 0.5, w = 0, bias = 0):\n",
    "    # Train and return a weight vector\n",
    "    result_matrix = np.zeros(len(X_test))\n",
    "    readout_matrix = np.zeros(len(X_test))\n",
    "    np.random.seed(10)\n",
    "    Y_predicted = np.zeros(len(X_test))\n",
    "    wei = sign(w) # Signing the weight vector\n",
    "    z_gates_w, CPZ_gates_w = gates_sequence(tuple(wei)) # Gates to apply to the weight vector\n",
    "    \n",
    "    for index, training_element in enumerate(notebook.tqdm(X_test, desc = 'Predicting')):\n",
    "            \n",
    "        pattern = sign(training_element) # Signing the training pattern.\n",
    "            \n",
    "        z_gates_i, CPZ_gates_i = gates_sequence(tuple(pattern)) # Gates to apply to the training pattern vector\n",
    "            \n",
    "        ############################  Quantum Proccess  ############################\n",
    "            \n",
    "        results = perceptron(qubits, shots, z_gates_w, CPZ_gates_w, z_gates_i, CPZ_gates_i)\n",
    "            \n",
    "        #########################  End of Quantum Proccess  #########################\n",
    "            \n",
    "        counts = results.get_counts()\n",
    "        \n",
    "        try:\n",
    "            readout = counts['1'] / shots\n",
    "        except KeyError:\n",
    "            readout = 0\n",
    "        \n",
    "        clazz = negative_class if activation(readout + bias) < threshold else positive_class # Classification part.\n",
    "            \n",
    "        result_matrix[index] = clazz\n",
    "        \n",
    "        readout_matrix[index] = readout + bias\n",
    "\n",
    "    return result_matrix, readout_matrix\n",
    "\n",
    "def evaluate(Y_test, predicted, negative_class, positive_class):\n",
    "    correct = np.argwhere(Y_test == predicted)\n",
    "    accuracy = len(correct) / len(predicted)\n",
    "    ones_and_zeros = [Y_test[ind][0] for ind in correct]\n",
    "    counts = Counter(ones_and_zeros)\n",
    "    confusion_matrix = np.zeros((2,2))\n",
    "    \n",
    "    Y_test_aux = np.zeros_like(Y_test)\n",
    "    predicted_aux = np.zeros_like(predicted)\n",
    "    \n",
    "    Y_test_aux[Y_test == positive_class] = 1\n",
    "    predicted_aux[predicted == positive_class] = 1\n",
    "    \n",
    "    for i in range(len(predicted_aux)):\n",
    "        confusion_matrix[int(Y_test_aux[i])][int(predicted_aux[i])] += 1\n",
    "    return accuracy, counts, confusion_matrix\n",
    "\n",
    "def plot_confusion_matrix(cm, target_names = None, cmap = None, normalize = True, labels = True, title = 'Confusion Matrix'):\n",
    "    accuracy = np.trace(cm) / float(np.sum(cm))\n",
    "    misclass = 1 - accuracy\n",
    "    \n",
    "    if cmap is None:\n",
    "        cmap = plt.get_cmap('Blues')\n",
    "        \n",
    "    if normalize:\n",
    "        cm = cm.astype('float') / cm.sum(axis = 1)[:, np.newaxis]\n",
    "        \n",
    "    plt.figure(figsize = (8, 6))\n",
    "    plt.imshow(cm, interpolation = 'nearest', cmap = cmap)\n",
    "    plt.title(title)\n",
    "    plt.colorbar()\n",
    "    \n",
    "    thresh = cm.max() / 1.5 if normalize else cm.max() / 2\n",
    "    \n",
    "    if target_names is not None:\n",
    "        tick_marks = np.arange(len(target_names))\n",
    "        plt.xticks(tick_marks, target_names)\n",
    "        plt.yticks(tick_marks, target_names)\n",
    "        \n",
    "    if labels:\n",
    "        for i, j in itertools.product(range(cm.shape[0]), range(cm.shape[1])):\n",
    "            if normalize:\n",
    "                plt.text(j, i, \"{:0.4f}\".format(cm[i, j]), horizontalalignment = 'center', color = 'white' if cm[i, j] > thresh else 'black')\n",
    "            else:\n",
    "                plt.text(j, i, \"{:,}\".format(cm[i, j]), horizontalalignment = 'center', color = 'white' if cm[i, j] > thresh else 'black')\n",
    "    \n",
    "    plt.tight_layout()\n",
    "    plt.ylabel('True label')\n",
    "    plt.xlabel('Predicted label\\naccuracy = {:0.4f}; misclass = {:0.4f}'.format(accuracy, misclass))\n",
    "    plt.axis('equal')\n",
    "    plt.show()\n",
    "    \n",
    "def save_weight(filename = 'weights.txt', mode = 'a+', weight = []):\n",
    "    with open(filename, mode) as file:\n",
    "        file.write(f'{number_negative_class, number_positive_class}:')\n",
    "        for p in w:\n",
    "            file.write(f'{p},')\n",
    "        file.write('\\n')\n",
    "        \n",
    "def retrieve_weights_from_file(filename = 'weights.txt', full = False):\n",
    "    with open(filename, 'r+') as file:\n",
    "        lines = file.readlines()\n",
    "        \n",
    "        cuadratic = lambda w : int(np.abs((1 - np.sqrt(1 + 8 * w)) / 2))\n",
    "        \n",
    "        nc = int(np.sqrt(len(lines))) if full else cuadratic(len(lines))\n",
    "        \n",
    "        weights_matrix = np.empty((nc, nc), dtype = object)\n",
    "    \n",
    "        for line in lines:\n",
    "            xy, peso = line.split(sep = ':')[0], line.split(sep = ':')[1]\n",
    "            weight = np.array(list(map(int , peso.split(sep = ',')[:-1])))\n",
    "            coordinates = [int(c) for c in xy if c.isdigit()]\n",
    "            weights_matrix[coordinates[0]][coordinates[1]] = weight\n",
    "            if not full:\n",
    "                weights_matrix[coordinates[1]][coordinates[0]] = weight\n",
    "    \n",
    "    return weights_matrix\n",
    "\n",
    "def print_weights_matrix(weights_matrix):\n",
    "    n_classes = weights_matrix.shape[0]\n",
    "    fig, axs = plt.subplots(n_classes, n_classes, figsize=(20,10))\n",
    "    count = 0\n",
    "\n",
    "    for i in range(n_classes):\n",
    "        for j in range(n_classes):\n",
    "            ax = axs[i][j]\n",
    "        \n",
    "            try:\n",
    "                c = ax.imshow(weights_matrix[i][j].reshape(16, 16), cmap = 'gray_r', interpolation='nearest')\n",
    "                ax.axis('off')\n",
    "                ax.axis('equal')\n",
    "                ax.set_title(f'Weight vector for {i, j}').set_position([0.5, 1.1])\n",
    "                count += 1\n",
    "            except IndexError:\n",
    "                continue\n",
    "        \n",
    "    fig.tight_layout()\n",
    "    plt.colorbar(c)\n",
    "    plt.show()\n",
    "    \n",
    "def multi_class_prediction(qubits = 1, classification_patterns = np.array([[1]]), shots = 64, test_threshold = 0.35, weights_matrix = np.zeros((1,1)), bias = 0):\n",
    "    depth = len(classification_patterns)\n",
    "    rows = weights_matrix.shape[0]\n",
    "    columns = weights_matrix.shape[1]\n",
    "    holder_for_test = np.empty((depth, rows, columns), dtype = object)\n",
    "    holder_for_readouts = np.empty((depth, rows, columns), dtype = object)\n",
    "\n",
    "    for i, row_weights in enumerate(weights_matrix):\n",
    "\n",
    "        for j, row_x_column_weight in enumerate(row_weights):\n",
    "            if (j < i):\n",
    "                continue\n",
    "            asigned_class, read_outs = predict(qubits = Q, X_test = classification_patterns, negative_class = i, positive_class = j, shots = shots, threshold = test_threshold, w = weights_matrix[i][j], bias = bias)\n",
    "            for z_index, clazz in enumerate(asigned_class):\n",
    "                holder_for_test[z_index][i][j] = clazz\n",
    "                holder_for_test[z_index][j][i] = clazz\n",
    "                holder_for_readouts[z_index][i][j] = read_outs[z_index]\n",
    "                holder_for_readouts[z_index][j][i] = read_outs[z_index]\n",
    "\n",
    "    holder_for_most_common = np.empty((depth, rows), dtype = object)\n",
    "    for z, matrix in enumerate(holder_for_test):\n",
    "        for j, row in enumerate(matrix):\n",
    "            holder_for_most_common[z][j] = Counter(row).most_common(1)[0]\n",
    "\n",
    "    for i in range(depth):\n",
    "        holder_for_most_common[i] = sorted(holder_for_most_common[i], key = lambda l:l[1], reverse = True)\n",
    "\n",
    "    classified_as = []\n",
    "    for i in range(depth):\n",
    "        classified_as.append(holder_for_most_common[i][0][0])\n",
    "    \n",
    "    return classified_as, holder_for_most_common, holder_for_test, holder_for_readouts"
   ]
  },
  {
   "cell_type": "code",
   "execution_count": 5,
   "metadata": {
    "ExecuteTime": {
     "end_time": "2020-12-23T03:39:00.306258Z",
     "start_time": "2020-12-23T03:39:00.300500Z"
    },
    "hidden": true
   },
   "outputs": [],
   "source": [
    "def activation(x):\n",
    "        #z = 1.0 / (1.0 + np.exp(-x))\n",
    "        #z = np.tanh(x)\n",
    "        #z = np.log(x + 1e-9)\n",
    "        z = x\n",
    "        return z"
   ]
  },
  {
   "cell_type": "markdown",
   "metadata": {
    "heading_collapsed": true
   },
   "source": [
    "# Training binary classifiers $Semeion Handwritten Digit$"
   ]
  },
  {
   "cell_type": "code",
   "execution_count": 6,
   "metadata": {
    "ExecuteTime": {
     "end_time": "2020-12-23T03:39:17.986892Z",
     "start_time": "2020-12-23T03:39:17.980916Z"
    },
    "hidden": true
   },
   "outputs": [
    {
     "name": "stdout",
     "output_type": "stream",
     "text": [
      "C:\\Users\\jeff_\\Dropbox\\Jupyter Notebooks\\Quantum\\Thesis\\Binary Image classification via QML\\Datasets\\Semeion\n"
     ]
    }
   ],
   "source": [
    "DATASET_PATH = os.path.sep.join([os.getcwd(), \"Datasets\", \"Semeion\"])\n",
    "print(DATASET_PATH)"
   ]
  },
  {
   "cell_type": "code",
   "execution_count": 7,
   "metadata": {
    "ExecuteTime": {
     "end_time": "2020-12-23T03:39:23.545761Z",
     "start_time": "2020-12-23T03:39:23.291131Z"
    },
    "hidden": true
   },
   "outputs": [],
   "source": [
    "data = np.loadtxt(os.path.sep.join([DATASET_PATH, \"semeion.data\"]))"
   ]
  },
  {
   "cell_type": "code",
   "execution_count": 8,
   "metadata": {
    "ExecuteTime": {
     "end_time": "2020-12-23T03:39:25.624776Z",
     "start_time": "2020-12-23T03:39:25.620785Z"
    },
    "hidden": true
   },
   "outputs": [],
   "source": [
    "images = data[:,:-10]\n",
    "labels_oh = data[:,-10:]"
   ]
  },
  {
   "cell_type": "code",
   "execution_count": 9,
   "metadata": {
    "ExecuteTime": {
     "end_time": "2020-12-23T03:39:27.008113Z",
     "start_time": "2020-12-23T03:39:27.004124Z"
    },
    "hidden": true
   },
   "outputs": [],
   "source": [
    "targets = np.argmax(labels_oh, axis = 1)"
   ]
  },
  {
   "cell_type": "code",
   "execution_count": 10,
   "metadata": {
    "ExecuteTime": {
     "end_time": "2020-12-23T03:39:27.432682Z",
     "start_time": "2020-12-23T03:39:27.428721Z"
    },
    "hidden": true
   },
   "outputs": [
    {
     "name": "stdout",
     "output_type": "stream",
     "text": [
      "Total count for digits: Counter({1: 162, 0: 161, 4: 161, 6: 161, 2: 159, 3: 159, 5: 159, 7: 158, 9: 158, 8: 155})\n"
     ]
    }
   ],
   "source": [
    "targets_count = Counter(targets)\n",
    "print(f'Total count for digits: {targets_count}')"
   ]
  },
  {
   "cell_type": "code",
   "execution_count": 11,
   "metadata": {
    "ExecuteTime": {
     "end_time": "2020-12-23T03:39:36.148711Z",
     "start_time": "2020-12-23T03:39:36.141715Z"
    },
    "hidden": true
   },
   "outputs": [
    {
     "name": "stdout",
     "output_type": "stream",
     "text": [
      "(321,)\n",
      "(321, 256)\n"
     ]
    }
   ],
   "source": [
    "# Getting 0 and 1 from digits\n",
    "number_negative_class = 1\n",
    "number_positive_class = 2\n",
    "\n",
    "zo_targets = []\n",
    "zo_images = []\n",
    "for i in range(len(targets)):\n",
    "    if (targets[i] == number_negative_class or targets[i] == number_positive_class):\n",
    "        zo_targets.append(targets[i])\n",
    "        zo_images.append(images[i])\n",
    "        \n",
    "zo_targets = np.array(zo_targets, dtype = 'int')\n",
    "zo_images = np.array(zo_images, dtype = 'int')\n",
    "print(zo_targets.shape)\n",
    "print(zo_images.shape)"
   ]
  },
  {
   "cell_type": "code",
   "execution_count": 12,
   "metadata": {
    "ExecuteTime": {
     "end_time": "2020-12-23T03:40:00.466683Z",
     "start_time": "2020-12-23T03:40:00.460719Z"
    },
    "hidden": true
   },
   "outputs": [],
   "source": [
    "# Splitting digits into training and test\n",
    "X_train, X_test, Y_train, Y_test = sklearn.model_selection.train_test_split(zo_images, zo_targets, test_size = 0.2, random_state = 10, shuffle = True)"
   ]
  },
  {
   "cell_type": "code",
   "execution_count": 14,
   "metadata": {
    "ExecuteTime": {
     "end_time": "2020-12-23T03:40:26.519738Z",
     "start_time": "2020-12-23T03:40:26.516746Z"
    },
    "hidden": true
   },
   "outputs": [],
   "source": [
    "# Shuffling when no splitting\n",
    "#zo_images, zo_targets = shuffle(zo_images, zo_targets, random_state = 0)"
   ]
  },
  {
   "cell_type": "code",
   "execution_count": 15,
   "metadata": {
    "ExecuteTime": {
     "end_time": "2020-12-23T03:40:29.160165Z",
     "start_time": "2020-12-23T03:40:29.155178Z"
    },
    "hidden": true
   },
   "outputs": [],
   "source": [
    "# NO SPLITTING FOR RESUSTITUTION ERROR MEASURE\n",
    "X_train = copy(zo_images)\n",
    "X_test = copy(zo_images)\n",
    "Y_train = copy(zo_targets)\n",
    "Y_test = copy(zo_targets)"
   ]
  },
  {
   "cell_type": "code",
   "execution_count": 16,
   "metadata": {
    "ExecuteTime": {
     "end_time": "2020-12-23T03:40:43.463066Z",
     "start_time": "2020-12-23T03:40:43.196785Z"
    },
    "hidden": true
   },
   "outputs": [
    {
     "data": {
      "image/png": "[encoded data removed]",
      "text/plain": [
       "<Figure size 432x288 with 2 Axes>"
      ]
     },
     "metadata": {
      "needs_background": "light"
     },
     "output_type": "display_data"
    }
   ],
   "source": [
    "fig, axs = plt.subplots(1, 2, constrained_layout=True)\n",
    "\n",
    "ax0 = axs[0]\n",
    "ax0.imshow(X_train[-1].reshape(16, 16), cmap = 'gray_r')\n",
    "ax0.axis('equal')\n",
    "ax0.set_title(f'Instance')\n",
    "\n",
    "ax1 = axs[1]\n",
    "ax1.imshow(X_train[5].reshape(16, 16), cmap = 'gray_r')\n",
    "ax1.axis('equal')\n",
    "ax1.set_title(f'Instance')\n",
    "\n",
    "fig.suptitle('Original Sample Instances', fontsize=16)\n",
    "plt.show()"
   ]
  },
  {
   "cell_type": "markdown",
   "metadata": {
    "hidden": true
   },
   "source": [
    "## Fitting the classifier"
   ]
  },
  {
   "cell_type": "code",
   "execution_count": 18,
   "metadata": {
    "ExecuteTime": {
     "end_time": "2020-12-23T03:41:15.593893Z",
     "start_time": "2020-12-23T03:41:15.587908Z"
    },
    "hidden": true
   },
   "outputs": [],
   "source": [
    "groups = {'acccuracy': ['acc', 'val_acc'], 'log-loss': ['loss', 'val_loss']}\n",
    "plotlosses = PlotLosses(groups=groups)\n",
    "%matplotlib inline"
   ]
  },
  {
   "cell_type": "code",
   "execution_count": 19,
   "metadata": {
    "ExecuteTime": {
     "end_time": "2020-12-23T03:45:21.449238Z",
     "start_time": "2020-12-23T03:41:45.228221Z"
    },
    "hidden": true,
    "scrolled": true
   },
   "outputs": [
    {
     "data": {
      "image/png": "[encoded data removed]",
      "text/plain": [
       "<Figure size 864x576 with 2 Axes>"
      ]
     },
     "metadata": {
      "needs_background": "light"
     },
     "output_type": "display_data"
    },
    {
     "name": "stdout",
     "output_type": "stream",
     "text": [
      "acccuracy\n",
      "\ttraining         \t (min:    0.564, max:    0.564, cur:    0.564)\n",
      "\tvalidation       \t (min:    0.698, max:    0.698, cur:    0.698)\n",
      "log-loss\n",
      "\ttraining         \t (min:    0.436, max:    0.436, cur:    0.436)\n",
      "\tvalidation       \t (min:    0.302, max:    0.302, cur:    0.302)\n"
     ]
    }
   ],
   "source": [
    "Q = 8\n",
    "test_threshold = 0.109375\n",
    "acc = 0\n",
    "bias = 0\n",
    "w = X_train[Y_train == number_negative_class][0].astype(int)\n",
    "shots = 8192\n",
    "while acc < 0.6:\n",
    "    w, m, weights, ae = fit(qubits = Q, X_train = X_train[:], Y_train = Y_train[:], negative_class = number_negative_class, positive_class = number_positive_class, epochs = 1, shots = shots, threshold = test_threshold, Ip = .8, In = .1, bias = bias, weight_passed = w)\n",
    "    classification, readouts = predict(qubits = Q, X_test = X_test, negative_class = number_negative_class, positive_class = number_positive_class, shots = 1024, threshold = test_threshold, w = weights[0], bias = 0.0)\n",
    "    acc = accuracy_score(Y_test, classification)\n",
    "    ps = precision_score(Y_test, classification, average = 'binary', pos_label = number_negative_class)\n",
    "    rs = recall_score(Y_test, classification, average = 'binary', pos_label = number_negative_class)\n",
    "    f1s = f1_score(Y_test, classification, average = 'binary', pos_label = number_negative_class)\n",
    "    print(f'acc: {acc}, precision: {ps}, recall: {rs}, f1: {f1s}')\n",
    "    plotlosses.update({\n",
    "        'acc': ae[0],\n",
    "        'val_acc': acc,\n",
    "        'loss': ae[1],\n",
    "        'val_loss': 1. - acc\n",
    "    })\n",
    "    plotlosses.send()"
   ]
  },
  {
   "cell_type": "code",
   "execution_count": 20,
   "metadata": {
    "ExecuteTime": {
     "end_time": "2020-12-23T03:45:21.602826Z",
     "start_time": "2020-12-23T03:45:21.450202Z"
    },
    "hidden": true,
    "scrolled": true
   },
   "outputs": [
    {
     "data": {
      "image/png": "[encoded data removed]",
      "text/plain": [
       "<Figure size 432x288 with 2 Axes>"
      ]
     },
     "metadata": {
      "needs_background": "light"
     },
     "output_type": "display_data"
    }
   ],
   "source": [
    "c = plt.imshow(np.array(w).reshape(16, 16), cmap = 'gray_r')\n",
    "plt.title(\"Weight Vector\")\n",
    "plt.colorbar(c)\n",
    "plt.show()\n",
    "\n",
    "# Uncomment for plotting in full screen\n",
    "# %matplotlib inline\n",
    "# figManager = plt.get_current_fig_manager()\n",
    "# figManager.window.showMaximized()"
   ]
  },
  {
   "cell_type": "markdown",
   "metadata": {
    "heading_collapsed": true,
    "hidden": true
   },
   "source": [
    "## Predicting and evaluating the trained classifier"
   ]
  },
  {
   "cell_type": "code",
   "execution_count": 21,
   "metadata": {
    "ExecuteTime": {
     "end_time": "2020-12-23T03:46:50.887138Z",
     "start_time": "2020-12-23T03:45:21.603848Z"
    },
    "hidden": true,
    "scrolled": true
   },
   "outputs": [
    {
     "data": {
      "application/vnd.jupyter.widget-view+json": {
       "model_id": "a4bc730592d74670b835367cfb8f40ea",
       "version_major": 2,
       "version_minor": 0
      },
      "text/plain": [
       "HBox(children=(FloatProgress(value=0.0, description='Predicting', max=321.0, style=ProgressStyle(description_w…"
      ]
     },
     "metadata": {},
     "output_type": "display_data"
    },
    {
     "name": "stdout",
     "output_type": "stream",
     "text": [
      "\n"
     ]
    }
   ],
   "source": [
    "test_threshold = 0.109375\n",
    "classification, readouts = predict(qubits = Q, X_test = X_test, negative_class = number_negative_class, positive_class = number_positive_class, shots = shots, threshold = test_threshold, w = weights[-1], bias = bias)"
   ]
  },
  {
   "cell_type": "code",
   "execution_count": 22,
   "metadata": {
    "ExecuteTime": {
     "end_time": "2020-12-23T03:46:50.893078Z",
     "start_time": "2020-12-23T03:46:50.888091Z"
    },
    "hidden": true
   },
   "outputs": [
    {
     "name": "stdout",
     "output_type": "stream",
     "text": [
      "Accuracy = 0.7040498442367601\n",
      "Counts = Counter({1: 138, 2: 88})\n",
      "Confusion Matrix = \n",
      "[[138.  24.]\n",
      " [ 71.  88.]]\n"
     ]
    }
   ],
   "source": [
    "accuracy, counts, confusion_matriX = evaluate(Y_test, classification, number_negative_class, number_positive_class)\n",
    "print(f'Accuracy = {accuracy}')\n",
    "print(f'Counts = {counts}')\n",
    "print(f'Confusion Matrix = \\n{confusion_matriX}')"
   ]
  },
  {
   "cell_type": "code",
   "execution_count": 23,
   "metadata": {
    "ExecuteTime": {
     "end_time": "2020-12-23T03:46:51.044705Z",
     "start_time": "2020-12-23T03:46:50.895072Z"
    },
    "hidden": true
   },
   "outputs": [
    {
     "data": {
      "image/png": "[encoded data removed]",
      "text/plain": [
       "<Figure size 576x432 with 2 Axes>"
      ]
     },
     "metadata": {
      "needs_background": "light"
     },
     "output_type": "display_data"
    }
   ],
   "source": [
    "plot_confusion_matrix(confusion_matriX, target_names = np.array([number_negative_class, number_positive_class]), labels = True, normalize = False)"
   ]
  },
  {
   "cell_type": "code",
   "execution_count": 24,
   "metadata": {
    "ExecuteTime": {
     "end_time": "2020-12-23T03:46:51.049684Z",
     "start_time": "2020-12-23T03:46:51.045668Z"
    },
    "hidden": true
   },
   "outputs": [
    {
     "data": {
      "text/plain": [
       "0.7040498442367601"
      ]
     },
     "execution_count": 24,
     "metadata": {},
     "output_type": "execute_result"
    }
   ],
   "source": [
    "accuracy_score(Y_test, classification)"
   ]
  },
  {
   "cell_type": "code",
   "execution_count": 25,
   "metadata": {
    "ExecuteTime": {
     "end_time": "2020-12-23T03:46:51.058665Z",
     "start_time": "2020-12-23T03:46:51.050656Z"
    },
    "hidden": true
   },
   "outputs": [
    {
     "data": {
      "text/plain": [
       "array([[138,  24],\n",
       "       [ 71,  88]], dtype=int64)"
      ]
     },
     "execution_count": 25,
     "metadata": {},
     "output_type": "execute_result"
    }
   ],
   "source": [
    "confusion_matrix(Y_test, classification)"
   ]
  },
  {
   "cell_type": "code",
   "execution_count": 26,
   "metadata": {
    "ExecuteTime": {
     "end_time": "2020-12-23T03:46:51.065643Z",
     "start_time": "2020-12-23T03:46:51.060629Z"
    },
    "hidden": true
   },
   "outputs": [
    {
     "data": {
      "text/plain": [
       "0.6602870813397129"
      ]
     },
     "execution_count": 26,
     "metadata": {},
     "output_type": "execute_result"
    }
   ],
   "source": [
    "precision_score(Y_test, classification, average = 'binary', pos_label = number_negative_class)"
   ]
  },
  {
   "cell_type": "code",
   "execution_count": 27,
   "metadata": {
    "ExecuteTime": {
     "end_time": "2020-12-23T03:46:51.073596Z",
     "start_time": "2020-12-23T03:46:51.066613Z"
    },
    "hidden": true
   },
   "outputs": [
    {
     "data": {
      "text/plain": [
       "0.8518518518518519"
      ]
     },
     "execution_count": 27,
     "metadata": {},
     "output_type": "execute_result"
    }
   ],
   "source": [
    "recall_score(Y_test, classification, average = 'binary', pos_label = number_negative_class)"
   ]
  },
  {
   "cell_type": "code",
   "execution_count": 28,
   "metadata": {
    "ExecuteTime": {
     "end_time": "2020-12-23T03:46:51.079611Z",
     "start_time": "2020-12-23T03:46:51.074593Z"
    },
    "hidden": true
   },
   "outputs": [
    {
     "data": {
      "text/plain": [
       "0.7439353099730459"
      ]
     },
     "execution_count": 28,
     "metadata": {},
     "output_type": "execute_result"
    }
   ],
   "source": [
    "f1_score(Y_test, classification, average = 'binary', pos_label = number_negative_class)"
   ]
  },
  {
   "cell_type": "code",
   "execution_count": 29,
   "metadata": {
    "ExecuteTime": {
     "end_time": "2020-12-23T03:46:51.085596Z",
     "start_time": "2020-12-23T03:46:51.080576Z"
    },
    "hidden": true
   },
   "outputs": [
    {
     "data": {
      "text/plain": [
       "0.7230006835269993"
      ]
     },
     "execution_count": 29,
     "metadata": {},
     "output_type": "execute_result"
    }
   ],
   "source": [
    "# Average Precision Score\n",
    "precision_score(Y_test, classification, average = 'macro')"
   ]
  },
  {
   "cell_type": "code",
   "execution_count": 30,
   "metadata": {
    "ExecuteTime": {
     "end_time": "2020-12-23T03:46:51.092544Z",
     "start_time": "2020-12-23T03:46:51.086560Z"
    },
    "hidden": true
   },
   "outputs": [
    {
     "data": {
      "text/plain": [
       "0.7026554856743537"
      ]
     },
     "execution_count": 30,
     "metadata": {},
     "output_type": "execute_result"
    }
   ],
   "source": [
    "# Average Recall Score\n",
    "recall_score(Y_test, classification, average = 'macro')"
   ]
  },
  {
   "cell_type": "code",
   "execution_count": 31,
   "metadata": {
    "ExecuteTime": {
     "end_time": "2020-12-23T03:46:51.099525Z",
     "start_time": "2020-12-23T03:46:51.093566Z"
    },
    "hidden": true
   },
   "outputs": [
    {
     "data": {
      "text/plain": [
       "0.6966909022189953"
      ]
     },
     "execution_count": 31,
     "metadata": {},
     "output_type": "execute_result"
    }
   ],
   "source": [
    "# Average F1 Score\n",
    "f1_score(Y_test, classification, average = 'macro')"
   ]
  },
  {
   "cell_type": "code",
   "execution_count": 32,
   "metadata": {
    "ExecuteTime": {
     "end_time": "2020-12-23T03:46:51.372264Z",
     "start_time": "2020-12-23T03:46:51.100523Z"
    },
    "hidden": true
   },
   "outputs": [
    {
     "name": "stdout",
     "output_type": "stream",
     "text": [
      "AUC: 0.7026554856743535\n"
     ]
    },
    {
     "data": {
      "image/png": "[encoded data removed]",
      "text/plain": [
       "<Figure size 720x576 with 1 Axes>"
      ]
     },
     "metadata": {},
     "output_type": "display_data"
    }
   ],
   "source": [
    "from sklearn.metrics import roc_curve, auc\n",
    "\n",
    "test = [0 if ele == number_negative_class else 1 for ele in Y_test]\n",
    "classi = [0 if ele == number_negative_class else 1 for ele in classification]\n",
    "\n",
    "fpr, tpr, thresholds = roc_curve(test, classi)\n",
    "\n",
    "def ROC_curve(fpr,tpr):\n",
    "    # Seaborn's beautiful styling\n",
    "    sns.set_style('darkgrid', {'axes.facecolor': '0.9'})\n",
    "    print('AUC: {}'.format(auc(fpr, tpr)))\n",
    "    plt.figure(figsize=(10, 8))\n",
    "    lw = 2\n",
    "    plt.plot(fpr, tpr, color='darkorange',\n",
    "             lw=lw, label='ROC curve')\n",
    "    plt.plot([0, 1], [0, 1], color='navy', lw=lw, linestyle='--')\n",
    "    plt.xlim([0.0, 1.0])\n",
    "    plt.ylim([0.0, 1.05])\n",
    "    plt.yticks([i/20.0 for i in range(21)])\n",
    "    plt.xticks([i/20.0 for i in range(21)])\n",
    "    plt.xlabel('False Positive Rate')\n",
    "    plt.ylabel('True Positive Rate')\n",
    "    plt.title('Receiver operating characteristic (ROC) Curve')\n",
    "    plt.legend(loc='lower right')\n",
    "    plt.show()\n",
    "    \n",
    "ROC_curve(fpr,tpr)\n",
    "sns.set_style('white', {'axes.facecolor': '0.9'})"
   ]
  },
  {
   "cell_type": "markdown",
   "metadata": {
    "heading_collapsed": true,
    "hidden": true
   },
   "source": [
    "## Manual process analysis"
   ]
  },
  {
   "cell_type": "code",
   "execution_count": 33,
   "metadata": {
    "ExecuteTime": {
     "end_time": "2020-12-23T03:49:16.191698Z",
     "start_time": "2020-12-23T03:49:16.187709Z"
    },
    "hidden": true
   },
   "outputs": [
    {
     "name": "stdout",
     "output_type": "stream",
     "text": [
      "[  2   5   7  12  20  22  26  27  28  32  33  34  36  39  42  56  60  62\n",
      "  64  65  66  69  71  72  73  74  76  79  81  99 100 101 102 106 107 108\n",
      " 111 114 116 123 139 140 143 148 154 155 156 162 163 167 178 179 190 194\n",
      " 195 202 205 206 207 208 209 212 215 217 218 221 225 230 233 234 235 239\n",
      " 242 247 256 258 283 285 286 287 288 289 291 293 295 297 300 301 303 305\n",
      " 307 309 310 313 316]\n"
     ]
    }
   ],
   "source": [
    "# Getting the errors\n",
    "fails = np.where(classification != Y_test)[0]\n",
    "print(fails)"
   ]
  },
  {
   "cell_type": "code",
   "execution_count": 34,
   "metadata": {
    "ExecuteTime": {
     "end_time": "2020-12-23T03:49:31.539453Z",
     "start_time": "2020-12-23T03:49:29.828009Z"
    },
    "hidden": true
   },
   "outputs": [
    {
     "name": "stderr",
     "output_type": "stream",
     "text": [
      "C:\\Users\\jeff_\\Anaconda3\\lib\\site-packages\\ipykernel_launcher.py:19: UserWarning: Tight layout not applied. tight_layout cannot make axes width small enough to accommodate all axes decorations\n"
     ]
    },
    {
     "data": {
      "image/png": "[encoded data removed]",
      "text/plain": [
       "<Figure size 1080x648 with 97 Axes>"
      ]
     },
     "metadata": {},
     "output_type": "display_data"
    }
   ],
   "source": [
    "# Plotting all the errors. Not writtenf to look good.\n",
    "fig, axs = plt.subplots(3, int(np.ceil(len(fails) / 3)), figsize=(15,9))\n",
    "count = 0\n",
    "\n",
    "for i in range(3):\n",
    "    for j in range(int(np.ceil(len(fails) / 3))):\n",
    "        ax = axs[i][j]\n",
    "        \n",
    "        #c = ax.pcolor(thetas[i + j][1:].reshape(28, 28), cmap = 'gray')\n",
    "        try:\n",
    "            c = ax.imshow(np.array(X_test[fails[count]]).reshape(16, 16), cmap = 'gray_r', interpolation='nearest')\n",
    "            ax.axis('off')\n",
    "            ax.axis('equal')\n",
    "            ax.set_title(f'Classified as {classification[fails[count]]}').set_position([0.5, 1.1])\n",
    "            count += 1\n",
    "        except IndexError:\n",
    "            continue\n",
    "        \n",
    "fig.tight_layout()\n",
    "plt.colorbar(c)\n",
    "plt.show()"
   ]
  },
  {
   "cell_type": "code",
   "execution_count": 35,
   "metadata": {
    "ExecuteTime": {
     "end_time": "2020-12-23T03:49:43.163890Z",
     "start_time": "2020-12-23T03:49:42.980347Z"
    },
    "hidden": true
   },
   "outputs": [
    {
     "data": {
      "image/png": "[encoded data removed]",
      "text/plain": [
       "<Figure size 432x288 with 1 Axes>"
      ]
     },
     "metadata": {},
     "output_type": "display_data"
    }
   ],
   "source": [
    "plt.scatter(Y_train, m[-1])\n",
    "plt.plot([i for i in range(number_negative_class, number_positive_class + 1)], [test_threshold for _ in range(number_negative_class, number_positive_class + 1)])\n",
    "plt.plot([i for i in range(min(number_negative_class, number_positive_class), max(number_negative_class, number_positive_class) + 1)], [test_threshold for _ in range(abs(number_negative_class - number_positive_class) + 1)])\n",
    "plt.xlabel(\"Classes\")\n",
    "plt.ylabel(\"Readout\")\n",
    "plt.title(\"Training Readouts and Threshold\")\n",
    "plt.show()"
   ]
  },
  {
   "cell_type": "code",
   "execution_count": 36,
   "metadata": {
    "ExecuteTime": {
     "end_time": "2020-12-23T03:49:49.986750Z",
     "start_time": "2020-12-23T03:49:49.803207Z"
    },
    "hidden": true
   },
   "outputs": [
    {
     "data": {
      "image/png": "[encoded data removed]",
      "text/plain": [
       "<Figure size 432x288 with 1 Axes>"
      ]
     },
     "metadata": {},
     "output_type": "display_data"
    }
   ],
   "source": [
    "plt.scatter(Y_test, readouts)\n",
    "plt.plot([i for i in range(number_negative_class, number_positive_class + 1)], [test_threshold for _ in range(number_negative_class, number_positive_class + 1)])\n",
    "plt.plot([i for i in range(min(number_negative_class, number_positive_class), max(number_negative_class, number_positive_class) + 1)], [test_threshold for _ in range(abs(number_negative_class - number_positive_class) + 1)])\n",
    "plt.xlabel(\"Classes\")\n",
    "plt.ylabel(\"Readout\")\n",
    "plt.title(\"Prediction Readout\")\n",
    "plt.show()"
   ]
  },
  {
   "cell_type": "code",
   "execution_count": 37,
   "metadata": {
    "ExecuteTime": {
     "end_time": "2020-12-23T03:50:01.491687Z",
     "start_time": "2020-12-23T03:50:01.300234Z"
    },
    "hidden": true
   },
   "outputs": [
    {
     "data": {
      "image/png": "[encoded data removed]",
      "text/plain": [
       "<Figure size 432x288 with 1 Axes>"
      ]
     },
     "metadata": {},
     "output_type": "display_data"
    }
   ],
   "source": [
    "sns.set_style('white')\n",
    "sns.distplot(readouts, bins = 10, kde=False)\n",
    "plt.title(\"Histogram distirbution of prediction readouts\")\n",
    "plt.show()"
   ]
  },
  {
   "cell_type": "code",
   "execution_count": 38,
   "metadata": {
    "ExecuteTime": {
     "end_time": "2020-12-23T03:50:17.869325Z",
     "start_time": "2020-12-23T03:50:17.866333Z"
    },
    "hidden": true
   },
   "outputs": [],
   "source": [
    "# Saving to file\n",
    "#filename = 'weights_semeion_OvO.txt'\n",
    "#mode = 'a+'\n",
    "#save_weight(filename = filename, mode = mode, weight = w)"
   ]
  },
  {
   "cell_type": "markdown",
   "metadata": {
    "heading_collapsed": true
   },
   "source": [
    "# Multi label prediction"
   ]
  },
  {
   "cell_type": "markdown",
   "metadata": {
    "heading_collapsed": true,
    "hidden": true
   },
   "source": [
    "### Loading all the $n\\times n$ binary classifiers for naive multiclass classification. Not fully curated"
   ]
  },
  {
   "cell_type": "code",
   "execution_count": 39,
   "metadata": {
    "ExecuteTime": {
     "end_time": "2020-12-23T03:51:06.424865Z",
     "start_time": "2020-12-23T03:51:06.404918Z"
    },
    "hidden": true
   },
   "outputs": [],
   "source": [
    "FILE_PATH = os.path.sep.join([os.getcwd(), \"Semeion\", \"OvO\"])\n",
    "weights_matrix = retrieve_weights_from_file(filename = os.path.sep.join([FILE_PATH, \"weights_semeion_OvO.txt\"]), full = True)"
   ]
  },
  {
   "cell_type": "code",
   "execution_count": 42,
   "metadata": {
    "ExecuteTime": {
     "end_time": "2020-12-23T03:53:11.212270Z",
     "start_time": "2020-12-23T03:53:09.035128Z"
    },
    "hidden": true
   },
   "outputs": [
    {
     "data": {
      "image/png": "[encoded data removed]",
      "text/plain": [
       "<Figure size 1440x720 with 101 Axes>"
      ]
     },
     "metadata": {},
     "output_type": "display_data"
    }
   ],
   "source": [
    "print_weights_matrix(weights_matrix)"
   ]
  },
  {
   "cell_type": "code",
   "execution_count": 43,
   "metadata": {
    "ExecuteTime": {
     "end_time": "2020-12-23T03:53:49.667541Z",
     "start_time": "2020-12-23T03:53:49.443109Z"
    },
    "hidden": true
   },
   "outputs": [
    {
     "name": "stdout",
     "output_type": "stream",
     "text": [
      "Total count for digits: Counter({1: 162, 0: 161, 4: 161, 6: 161, 2: 159, 3: 159, 5: 159, 7: 158, 9: 158, 8: 155})\n"
     ]
    }
   ],
   "source": [
    "data = np.loadtxt(os.path.sep.join([DATASET_PATH, \"semeion.data\"]))\n",
    "\n",
    "# Getting images and labels from semeion\n",
    "images = data[:,:-10]\n",
    "labels_oh = data[:,-10:]\n",
    "targets = np.argmax(labels_oh, axis = 1)\n",
    "\n",
    "print(f'Total count for digits: {Counter(targets)}')\n",
    "# Splitting dataset\n",
    "#X_train, X_test, Y_train, Y_test = sklearn.model_selection.train_test_split(images, targets, test_size = 0.2, random_state = 10, shuffle = True)\n",
    "X_test, Y_test = images, targets"
   ]
  },
  {
   "cell_type": "code",
   "execution_count": 44,
   "metadata": {
    "ExecuteTime": {
     "end_time": "2020-12-23T03:54:01.496387Z",
     "start_time": "2020-12-23T03:53:59.682305Z"
    },
    "hidden": true
   },
   "outputs": [
    {
     "data": {
      "image/png": "[encoded data removed]",
      "text/plain": [
       "<Figure size 432x288 with 20 Axes>"
      ]
     },
     "metadata": {},
     "output_type": "display_data"
    }
   ],
   "source": [
    "images_and_labels = list(zip(X_test, Y_test))\n",
    "for index, (image, label) in enumerate(images_and_labels[:20]):\n",
    "    plt.subplot(2, 10, index + 1)\n",
    "    plt.axis('off')\n",
    "    plt.imshow(image.reshape(16, 16), cmap=plt.cm.gray_r, interpolation='nearest')\n",
    "    plt.title('T: %i' % label)"
   ]
  },
  {
   "cell_type": "code",
   "execution_count": 46,
   "metadata": {
    "ExecuteTime": {
     "end_time": "2020-12-23T04:00:36.397657Z",
     "start_time": "2020-12-23T03:54:48.796056Z"
    },
    "hidden": true,
    "scrolled": true
   },
   "outputs": [
    {
     "data": {
      "application/vnd.jupyter.widget-view+json": {
       "model_id": "008f2ccd419940218d2d5022dc267762",
       "version_major": 2,
       "version_minor": 0
      },
      "text/plain": [
       "HBox(children=(FloatProgress(value=0.0, description='Predicting', max=20.0, style=ProgressStyle(description_wi…"
      ]
     },
     "metadata": {},
     "output_type": "display_data"
    },
    {
     "name": "stdout",
     "output_type": "stream",
     "text": [
      "\n"
     ]
    },
    {
     "data": {
      "application/vnd.jupyter.widget-view+json": {
       "model_id": "760061ee9f1b46f5953fad89e8484cf8",
       "version_major": 2,
       "version_minor": 0
      },
      "text/plain": [
       "HBox(children=(FloatProgress(value=0.0, description='Predicting', max=20.0, style=ProgressStyle(description_wi…"
      ]
     },
     "metadata": {},
     "output_type": "display_data"
    },
    {
     "name": "stdout",
     "output_type": "stream",
     "text": [
      "\n"
     ]
    },
    {
     "data": {
      "application/vnd.jupyter.widget-view+json": {
       "model_id": "0fc9818fabc94c3186914a420d60affa",
       "version_major": 2,
       "version_minor": 0
      },
      "text/plain": [
       "HBox(children=(FloatProgress(value=0.0, description='Predicting', max=20.0, style=ProgressStyle(description_wi…"
      ]
     },
     "metadata": {},
     "output_type": "display_data"
    },
    {
     "name": "stdout",
     "output_type": "stream",
     "text": [
      "\n"
     ]
    },
    {
     "data": {
      "application/vnd.jupyter.widget-view+json": {
       "model_id": "35d48ba236ec4b79ba3d62b1590676be",
       "version_major": 2,
       "version_minor": 0
      },
      "text/plain": [
       "HBox(children=(FloatProgress(value=0.0, description='Predicting', max=20.0, style=ProgressStyle(description_wi…"
      ]
     },
     "metadata": {},
     "output_type": "display_data"
    },
    {
     "name": "stdout",
     "output_type": "stream",
     "text": [
      "\n"
     ]
    },
    {
     "data": {
      "application/vnd.jupyter.widget-view+json": {
       "model_id": "03c196e3a9ba4656a1f43037a74507cd",
       "version_major": 2,
       "version_minor": 0
      },
      "text/plain": [
       "HBox(children=(FloatProgress(value=0.0, description='Predicting', max=20.0, style=ProgressStyle(description_wi…"
      ]
     },
     "metadata": {},
     "output_type": "display_data"
    },
    {
     "name": "stdout",
     "output_type": "stream",
     "text": [
      "\n"
     ]
    },
    {
     "data": {
      "application/vnd.jupyter.widget-view+json": {
       "model_id": "32eeb1488fb44235b0bfe06efc7706b4",
       "version_major": 2,
       "version_minor": 0
      },
      "text/plain": [
       "HBox(children=(FloatProgress(value=0.0, description='Predicting', max=20.0, style=ProgressStyle(description_wi…"
      ]
     },
     "metadata": {},
     "output_type": "display_data"
    },
    {
     "name": "stdout",
     "output_type": "stream",
     "text": [
      "\n"
     ]
    },
    {
     "data": {
      "application/vnd.jupyter.widget-view+json": {
       "model_id": "b19aaebc4ec646f6a051132c80230e7d",
       "version_major": 2,
       "version_minor": 0
      },
      "text/plain": [
       "HBox(children=(FloatProgress(value=0.0, description='Predicting', max=20.0, style=ProgressStyle(description_wi…"
      ]
     },
     "metadata": {},
     "output_type": "display_data"
    },
    {
     "name": "stdout",
     "output_type": "stream",
     "text": [
      "\n"
     ]
    },
    {
     "data": {
      "application/vnd.jupyter.widget-view+json": {
       "model_id": "4beb6616c7ae48a0865501eb3b871e85",
       "version_major": 2,
       "version_minor": 0
      },
      "text/plain": [
       "HBox(children=(FloatProgress(value=0.0, description='Predicting', max=20.0, style=ProgressStyle(description_wi…"
      ]
     },
     "metadata": {},
     "output_type": "display_data"
    },
    {
     "name": "stdout",
     "output_type": "stream",
     "text": [
      "\n"
     ]
    },
    {
     "data": {
      "application/vnd.jupyter.widget-view+json": {
       "model_id": "01cb0f5a9d81401aa408b782e31de4a0",
       "version_major": 2,
       "version_minor": 0
      },
      "text/plain": [
       "HBox(children=(FloatProgress(value=0.0, description='Predicting', max=20.0, style=ProgressStyle(description_wi…"
      ]
     },
     "metadata": {},
     "output_type": "display_data"
    },
    {
     "name": "stdout",
     "output_type": "stream",
     "text": [
      "\n"
     ]
    },
    {
     "data": {
      "application/vnd.jupyter.widget-view+json": {
       "model_id": "9741910ede524e2dae92cf30c4e5dd20",
       "version_major": 2,
       "version_minor": 0
      },
      "text/plain": [
       "HBox(children=(FloatProgress(value=0.0, description='Predicting', max=20.0, style=ProgressStyle(description_wi…"
      ]
     },
     "metadata": {},
     "output_type": "display_data"
    },
    {
     "name": "stdout",
     "output_type": "stream",
     "text": [
      "\n"
     ]
    },
    {
     "data": {
      "application/vnd.jupyter.widget-view+json": {
       "model_id": "6ccecc53b07c4efca8a2eedbd32c7b7f",
       "version_major": 2,
       "version_minor": 0
      },
      "text/plain": [
       "HBox(children=(FloatProgress(value=0.0, description='Predicting', max=20.0, style=ProgressStyle(description_wi…"
      ]
     },
     "metadata": {},
     "output_type": "display_data"
    },
    {
     "name": "stdout",
     "output_type": "stream",
     "text": [
      "\n"
     ]
    },
    {
     "data": {
      "application/vnd.jupyter.widget-view+json": {
       "model_id": "a81ea2238816412dbc5f60b9ab0fc78e",
       "version_major": 2,
       "version_minor": 0
      },
      "text/plain": [
       "HBox(children=(FloatProgress(value=0.0, description='Predicting', max=20.0, style=ProgressStyle(description_wi…"
      ]
     },
     "metadata": {},
     "output_type": "display_data"
    },
    {
     "name": "stdout",
     "output_type": "stream",
     "text": [
      "\n"
     ]
    },
    {
     "data": {
      "application/vnd.jupyter.widget-view+json": {
       "model_id": "adabd112f8804ee8a585935da5f267cc",
       "version_major": 2,
       "version_minor": 0
      },
      "text/plain": [
       "HBox(children=(FloatProgress(value=0.0, description='Predicting', max=20.0, style=ProgressStyle(description_wi…"
      ]
     },
     "metadata": {},
     "output_type": "display_data"
    },
    {
     "name": "stdout",
     "output_type": "stream",
     "text": [
      "\n"
     ]
    },
    {
     "data": {
      "application/vnd.jupyter.widget-view+json": {
       "model_id": "0815d6e686a4406094b5b28ffb5484f3",
       "version_major": 2,
       "version_minor": 0
      },
      "text/plain": [
       "HBox(children=(FloatProgress(value=0.0, description='Predicting', max=20.0, style=ProgressStyle(description_wi…"
      ]
     },
     "metadata": {},
     "output_type": "display_data"
    },
    {
     "name": "stdout",
     "output_type": "stream",
     "text": [
      "\n"
     ]
    },
    {
     "data": {
      "application/vnd.jupyter.widget-view+json": {
       "model_id": "b19f11086996419aa912c0a36f7f7dbd",
       "version_major": 2,
       "version_minor": 0
      },
      "text/plain": [
       "HBox(children=(FloatProgress(value=0.0, description='Predicting', max=20.0, style=ProgressStyle(description_wi…"
      ]
     },
     "metadata": {},
     "output_type": "display_data"
    },
    {
     "name": "stdout",
     "output_type": "stream",
     "text": [
      "\n"
     ]
    },
    {
     "data": {
      "application/vnd.jupyter.widget-view+json": {
       "model_id": "fb298037ca944ffbb447317e053bbcb2",
       "version_major": 2,
       "version_minor": 0
      },
      "text/plain": [
       "HBox(children=(FloatProgress(value=0.0, description='Predicting', max=20.0, style=ProgressStyle(description_wi…"
      ]
     },
     "metadata": {},
     "output_type": "display_data"
    },
    {
     "name": "stdout",
     "output_type": "stream",
     "text": [
      "\n"
     ]
    },
    {
     "data": {
      "application/vnd.jupyter.widget-view+json": {
       "model_id": "ec0dcecd6793481ab8551f4a4d53ac5a",
       "version_major": 2,
       "version_minor": 0
      },
      "text/plain": [
       "HBox(children=(FloatProgress(value=0.0, description='Predicting', max=20.0, style=ProgressStyle(description_wi…"
      ]
     },
     "metadata": {},
     "output_type": "display_data"
    },
    {
     "name": "stdout",
     "output_type": "stream",
     "text": [
      "\n"
     ]
    },
    {
     "data": {
      "application/vnd.jupyter.widget-view+json": {
       "model_id": "6d648023adc04a95a6dab96ad182d2c4",
       "version_major": 2,
       "version_minor": 0
      },
      "text/plain": [
       "HBox(children=(FloatProgress(value=0.0, description='Predicting', max=20.0, style=ProgressStyle(description_wi…"
      ]
     },
     "metadata": {},
     "output_type": "display_data"
    },
    {
     "name": "stdout",
     "output_type": "stream",
     "text": [
      "\n"
     ]
    },
    {
     "data": {
      "application/vnd.jupyter.widget-view+json": {
       "model_id": "2f49cd9be84e449f83f4cf296cdd67c4",
       "version_major": 2,
       "version_minor": 0
      },
      "text/plain": [
       "HBox(children=(FloatProgress(value=0.0, description='Predicting', max=20.0, style=ProgressStyle(description_wi…"
      ]
     },
     "metadata": {},
     "output_type": "display_data"
    },
    {
     "name": "stdout",
     "output_type": "stream",
     "text": [
      "\n"
     ]
    },
    {
     "data": {
      "application/vnd.jupyter.widget-view+json": {
       "model_id": "6ac1e16078d24221bdc7bea86fe666e4",
       "version_major": 2,
       "version_minor": 0
      },
      "text/plain": [
       "HBox(children=(FloatProgress(value=0.0, description='Predicting', max=20.0, style=ProgressStyle(description_wi…"
      ]
     },
     "metadata": {},
     "output_type": "display_data"
    },
    {
     "name": "stdout",
     "output_type": "stream",
     "text": [
      "\n"
     ]
    },
    {
     "data": {
      "application/vnd.jupyter.widget-view+json": {
       "model_id": "ed2f3c62c8e6414fb40a4b9e2e7d9fee",
       "version_major": 2,
       "version_minor": 0
      },
      "text/plain": [
       "HBox(children=(FloatProgress(value=0.0, description='Predicting', max=20.0, style=ProgressStyle(description_wi…"
      ]
     },
     "metadata": {},
     "output_type": "display_data"
    },
    {
     "name": "stdout",
     "output_type": "stream",
     "text": [
      "\n"
     ]
    },
    {
     "data": {
      "application/vnd.jupyter.widget-view+json": {
       "model_id": "f2beb11f6d2a4b2f88cde994cfb37511",
       "version_major": 2,
       "version_minor": 0
      },
      "text/plain": [
       "HBox(children=(FloatProgress(value=0.0, description='Predicting', max=20.0, style=ProgressStyle(description_wi…"
      ]
     },
     "metadata": {},
     "output_type": "display_data"
    },
    {
     "name": "stdout",
     "output_type": "stream",
     "text": [
      "\n"
     ]
    },
    {
     "data": {
      "application/vnd.jupyter.widget-view+json": {
       "model_id": "81a97cf7070946958824683943719878",
       "version_major": 2,
       "version_minor": 0
      },
      "text/plain": [
       "HBox(children=(FloatProgress(value=0.0, description='Predicting', max=20.0, style=ProgressStyle(description_wi…"
      ]
     },
     "metadata": {},
     "output_type": "display_data"
    },
    {
     "name": "stdout",
     "output_type": "stream",
     "text": [
      "\n"
     ]
    },
    {
     "data": {
      "application/vnd.jupyter.widget-view+json": {
       "model_id": "56847731c8e24d00b17faf410c989586",
       "version_major": 2,
       "version_minor": 0
      },
      "text/plain": [
       "HBox(children=(FloatProgress(value=0.0, description='Predicting', max=20.0, style=ProgressStyle(description_wi…"
      ]
     },
     "metadata": {},
     "output_type": "display_data"
    },
    {
     "name": "stdout",
     "output_type": "stream",
     "text": [
      "\n"
     ]
    },
    {
     "data": {
      "application/vnd.jupyter.widget-view+json": {
       "model_id": "a3ea66f9921648a1ace5173e211f76f4",
       "version_major": 2,
       "version_minor": 0
      },
      "text/plain": [
       "HBox(children=(FloatProgress(value=0.0, description='Predicting', max=20.0, style=ProgressStyle(description_wi…"
      ]
     },
     "metadata": {},
     "output_type": "display_data"
    },
    {
     "name": "stdout",
     "output_type": "stream",
     "text": [
      "\n"
     ]
    },
    {
     "data": {
      "application/vnd.jupyter.widget-view+json": {
       "model_id": "e42c36eb01474c4398cae8f853986b0d",
       "version_major": 2,
       "version_minor": 0
      },
      "text/plain": [
       "HBox(children=(FloatProgress(value=0.0, description='Predicting', max=20.0, style=ProgressStyle(description_wi…"
      ]
     },
     "metadata": {},
     "output_type": "display_data"
    },
    {
     "name": "stdout",
     "output_type": "stream",
     "text": [
      "\n"
     ]
    },
    {
     "data": {
      "application/vnd.jupyter.widget-view+json": {
       "model_id": "dabcde99a2174a50b6960cae649db42c",
       "version_major": 2,
       "version_minor": 0
      },
      "text/plain": [
       "HBox(children=(FloatProgress(value=0.0, description='Predicting', max=20.0, style=ProgressStyle(description_wi…"
      ]
     },
     "metadata": {},
     "output_type": "display_data"
    },
    {
     "name": "stdout",
     "output_type": "stream",
     "text": [
      "\n"
     ]
    },
    {
     "data": {
      "application/vnd.jupyter.widget-view+json": {
       "model_id": "0118d28cafe643fb969e9116a419e9c7",
       "version_major": 2,
       "version_minor": 0
      },
      "text/plain": [
       "HBox(children=(FloatProgress(value=0.0, description='Predicting', max=20.0, style=ProgressStyle(description_wi…"
      ]
     },
     "metadata": {},
     "output_type": "display_data"
    },
    {
     "name": "stdout",
     "output_type": "stream",
     "text": [
      "\n"
     ]
    },
    {
     "data": {
      "application/vnd.jupyter.widget-view+json": {
       "model_id": "0ad3e3e04e0f482c85817e8b29c8b60b",
       "version_major": 2,
       "version_minor": 0
      },
      "text/plain": [
       "HBox(children=(FloatProgress(value=0.0, description='Predicting', max=20.0, style=ProgressStyle(description_wi…"
      ]
     },
     "metadata": {},
     "output_type": "display_data"
    },
    {
     "name": "stdout",
     "output_type": "stream",
     "text": [
      "\n"
     ]
    },
    {
     "data": {
      "application/vnd.jupyter.widget-view+json": {
       "model_id": "fd04c01940eb462eb4bd88275cbb0ef0",
       "version_major": 2,
       "version_minor": 0
      },
      "text/plain": [
       "HBox(children=(FloatProgress(value=0.0, description='Predicting', max=20.0, style=ProgressStyle(description_wi…"
      ]
     },
     "metadata": {},
     "output_type": "display_data"
    },
    {
     "name": "stdout",
     "output_type": "stream",
     "text": [
      "\n"
     ]
    },
    {
     "data": {
      "application/vnd.jupyter.widget-view+json": {
       "model_id": "ae7ce4c7d3f846ef8f7a90b61a3a6c3b",
       "version_major": 2,
       "version_minor": 0
      },
      "text/plain": [
       "HBox(children=(FloatProgress(value=0.0, description='Predicting', max=20.0, style=ProgressStyle(description_wi…"
      ]
     },
     "metadata": {},
     "output_type": "display_data"
    },
    {
     "name": "stdout",
     "output_type": "stream",
     "text": [
      "\n"
     ]
    },
    {
     "data": {
      "application/vnd.jupyter.widget-view+json": {
       "model_id": "203e9b9a07514b7e95a5f6ff37e997f7",
       "version_major": 2,
       "version_minor": 0
      },
      "text/plain": [
       "HBox(children=(FloatProgress(value=0.0, description='Predicting', max=20.0, style=ProgressStyle(description_wi…"
      ]
     },
     "metadata": {},
     "output_type": "display_data"
    },
    {
     "name": "stdout",
     "output_type": "stream",
     "text": [
      "\n"
     ]
    },
    {
     "data": {
      "application/vnd.jupyter.widget-view+json": {
       "model_id": "07362da4b79346b8aa3192846522b0c6",
       "version_major": 2,
       "version_minor": 0
      },
      "text/plain": [
       "HBox(children=(FloatProgress(value=0.0, description='Predicting', max=20.0, style=ProgressStyle(description_wi…"
      ]
     },
     "metadata": {},
     "output_type": "display_data"
    },
    {
     "name": "stdout",
     "output_type": "stream",
     "text": [
      "\n"
     ]
    },
    {
     "data": {
      "application/vnd.jupyter.widget-view+json": {
       "model_id": "f9ec505a6f734018bb44f466ea31b1f1",
       "version_major": 2,
       "version_minor": 0
      },
      "text/plain": [
       "HBox(children=(FloatProgress(value=0.0, description='Predicting', max=20.0, style=ProgressStyle(description_wi…"
      ]
     },
     "metadata": {},
     "output_type": "display_data"
    },
    {
     "name": "stdout",
     "output_type": "stream",
     "text": [
      "\n"
     ]
    },
    {
     "data": {
      "application/vnd.jupyter.widget-view+json": {
       "model_id": "218da6b9931245859e17cfdad9efd959",
       "version_major": 2,
       "version_minor": 0
      },
      "text/plain": [
       "HBox(children=(FloatProgress(value=0.0, description='Predicting', max=20.0, style=ProgressStyle(description_wi…"
      ]
     },
     "metadata": {},
     "output_type": "display_data"
    },
    {
     "name": "stdout",
     "output_type": "stream",
     "text": [
      "\n"
     ]
    },
    {
     "data": {
      "application/vnd.jupyter.widget-view+json": {
       "model_id": "2bb212dd74984d5285846f24ac785f9f",
       "version_major": 2,
       "version_minor": 0
      },
      "text/plain": [
       "HBox(children=(FloatProgress(value=0.0, description='Predicting', max=20.0, style=ProgressStyle(description_wi…"
      ]
     },
     "metadata": {},
     "output_type": "display_data"
    },
    {
     "name": "stdout",
     "output_type": "stream",
     "text": [
      "\n"
     ]
    },
    {
     "data": {
      "application/vnd.jupyter.widget-view+json": {
       "model_id": "6e748526bf10494996fc014d5f5c1708",
       "version_major": 2,
       "version_minor": 0
      },
      "text/plain": [
       "HBox(children=(FloatProgress(value=0.0, description='Predicting', max=20.0, style=ProgressStyle(description_wi…"
      ]
     },
     "metadata": {},
     "output_type": "display_data"
    },
    {
     "name": "stdout",
     "output_type": "stream",
     "text": [
      "\n"
     ]
    },
    {
     "data": {
      "application/vnd.jupyter.widget-view+json": {
       "model_id": "9e9fda5f17d0425a944fc9be5d1e7713",
       "version_major": 2,
       "version_minor": 0
      },
      "text/plain": [
       "HBox(children=(FloatProgress(value=0.0, description='Predicting', max=20.0, style=ProgressStyle(description_wi…"
      ]
     },
     "metadata": {},
     "output_type": "display_data"
    },
    {
     "name": "stdout",
     "output_type": "stream",
     "text": [
      "\n"
     ]
    },
    {
     "data": {
      "application/vnd.jupyter.widget-view+json": {
       "model_id": "0ccc76cdad8543f5b356c2b4f530026a",
       "version_major": 2,
       "version_minor": 0
      },
      "text/plain": [
       "HBox(children=(FloatProgress(value=0.0, description='Predicting', max=20.0, style=ProgressStyle(description_wi…"
      ]
     },
     "metadata": {},
     "output_type": "display_data"
    },
    {
     "name": "stdout",
     "output_type": "stream",
     "text": [
      "\n"
     ]
    },
    {
     "data": {
      "application/vnd.jupyter.widget-view+json": {
       "model_id": "630116daf61d48fda55fa4b61acfaa55",
       "version_major": 2,
       "version_minor": 0
      },
      "text/plain": [
       "HBox(children=(FloatProgress(value=0.0, description='Predicting', max=20.0, style=ProgressStyle(description_wi…"
      ]
     },
     "metadata": {},
     "output_type": "display_data"
    },
    {
     "name": "stdout",
     "output_type": "stream",
     "text": [
      "\n"
     ]
    },
    {
     "data": {
      "application/vnd.jupyter.widget-view+json": {
       "model_id": "a0468040f8234669ad40ecc6508fe69e",
       "version_major": 2,
       "version_minor": 0
      },
      "text/plain": [
       "HBox(children=(FloatProgress(value=0.0, description='Predicting', max=20.0, style=ProgressStyle(description_wi…"
      ]
     },
     "metadata": {},
     "output_type": "display_data"
    },
    {
     "name": "stdout",
     "output_type": "stream",
     "text": [
      "\n"
     ]
    },
    {
     "data": {
      "application/vnd.jupyter.widget-view+json": {
       "model_id": "d63051df40e944d6b361a290301323e6",
       "version_major": 2,
       "version_minor": 0
      },
      "text/plain": [
       "HBox(children=(FloatProgress(value=0.0, description='Predicting', max=20.0, style=ProgressStyle(description_wi…"
      ]
     },
     "metadata": {},
     "output_type": "display_data"
    },
    {
     "name": "stdout",
     "output_type": "stream",
     "text": [
      "\n"
     ]
    },
    {
     "data": {
      "application/vnd.jupyter.widget-view+json": {
       "model_id": "eb2862e3d1764d74b88522d45600ac9f",
       "version_major": 2,
       "version_minor": 0
      },
      "text/plain": [
       "HBox(children=(FloatProgress(value=0.0, description='Predicting', max=20.0, style=ProgressStyle(description_wi…"
      ]
     },
     "metadata": {},
     "output_type": "display_data"
    },
    {
     "name": "stdout",
     "output_type": "stream",
     "text": [
      "\n"
     ]
    },
    {
     "data": {
      "application/vnd.jupyter.widget-view+json": {
       "model_id": "85c7f4b27e8e49098686e2c5c36b1e1c",
       "version_major": 2,
       "version_minor": 0
      },
      "text/plain": [
       "HBox(children=(FloatProgress(value=0.0, description='Predicting', max=20.0, style=ProgressStyle(description_wi…"
      ]
     },
     "metadata": {},
     "output_type": "display_data"
    },
    {
     "name": "stdout",
     "output_type": "stream",
     "text": [
      "\n"
     ]
    },
    {
     "data": {
      "application/vnd.jupyter.widget-view+json": {
       "model_id": "f7c8cef3f7f34b46acac2232742ee86d",
       "version_major": 2,
       "version_minor": 0
      },
      "text/plain": [
       "HBox(children=(FloatProgress(value=0.0, description='Predicting', max=20.0, style=ProgressStyle(description_wi…"
      ]
     },
     "metadata": {},
     "output_type": "display_data"
    },
    {
     "name": "stdout",
     "output_type": "stream",
     "text": [
      "\n"
     ]
    },
    {
     "data": {
      "application/vnd.jupyter.widget-view+json": {
       "model_id": "d26d9a619257454188ad5906b14ae9bf",
       "version_major": 2,
       "version_minor": 0
      },
      "text/plain": [
       "HBox(children=(FloatProgress(value=0.0, description='Predicting', max=20.0, style=ProgressStyle(description_wi…"
      ]
     },
     "metadata": {},
     "output_type": "display_data"
    },
    {
     "name": "stdout",
     "output_type": "stream",
     "text": [
      "\n"
     ]
    },
    {
     "data": {
      "application/vnd.jupyter.widget-view+json": {
       "model_id": "3a44db351b9d4b11874eb7835276efc3",
       "version_major": 2,
       "version_minor": 0
      },
      "text/plain": [
       "HBox(children=(FloatProgress(value=0.0, description='Predicting', max=20.0, style=ProgressStyle(description_wi…"
      ]
     },
     "metadata": {},
     "output_type": "display_data"
    },
    {
     "name": "stdout",
     "output_type": "stream",
     "text": [
      "\n"
     ]
    },
    {
     "data": {
      "application/vnd.jupyter.widget-view+json": {
       "model_id": "df9e50dc8e4c4094a3cef35258095f86",
       "version_major": 2,
       "version_minor": 0
      },
      "text/plain": [
       "HBox(children=(FloatProgress(value=0.0, description='Predicting', max=20.0, style=ProgressStyle(description_wi…"
      ]
     },
     "metadata": {},
     "output_type": "display_data"
    },
    {
     "name": "stdout",
     "output_type": "stream",
     "text": [
      "\n"
     ]
    },
    {
     "data": {
      "application/vnd.jupyter.widget-view+json": {
       "model_id": "78e2606ed0474ba89a7fbf9704dd9894",
       "version_major": 2,
       "version_minor": 0
      },
      "text/plain": [
       "HBox(children=(FloatProgress(value=0.0, description='Predicting', max=20.0, style=ProgressStyle(description_wi…"
      ]
     },
     "metadata": {},
     "output_type": "display_data"
    },
    {
     "name": "stdout",
     "output_type": "stream",
     "text": [
      "\n"
     ]
    },
    {
     "data": {
      "application/vnd.jupyter.widget-view+json": {
       "model_id": "bbeeeaed349646a6bbe0f245204c12e8",
       "version_major": 2,
       "version_minor": 0
      },
      "text/plain": [
       "HBox(children=(FloatProgress(value=0.0, description='Predicting', max=20.0, style=ProgressStyle(description_wi…"
      ]
     },
     "metadata": {},
     "output_type": "display_data"
    },
    {
     "name": "stdout",
     "output_type": "stream",
     "text": [
      "\n"
     ]
    },
    {
     "data": {
      "application/vnd.jupyter.widget-view+json": {
       "model_id": "c50e5e7485a34590bd3eaa32f1bf287b",
       "version_major": 2,
       "version_minor": 0
      },
      "text/plain": [
       "HBox(children=(FloatProgress(value=0.0, description='Predicting', max=20.0, style=ProgressStyle(description_wi…"
      ]
     },
     "metadata": {},
     "output_type": "display_data"
    },
    {
     "name": "stdout",
     "output_type": "stream",
     "text": [
      "\n"
     ]
    },
    {
     "data": {
      "application/vnd.jupyter.widget-view+json": {
       "model_id": "4e41941d596d44738da3f89260e1c675",
       "version_major": 2,
       "version_minor": 0
      },
      "text/plain": [
       "HBox(children=(FloatProgress(value=0.0, description='Predicting', max=20.0, style=ProgressStyle(description_wi…"
      ]
     },
     "metadata": {},
     "output_type": "display_data"
    },
    {
     "name": "stdout",
     "output_type": "stream",
     "text": [
      "\n"
     ]
    },
    {
     "data": {
      "application/vnd.jupyter.widget-view+json": {
       "model_id": "d506919403e24d49b29ddb61e4e60175",
       "version_major": 2,
       "version_minor": 0
      },
      "text/plain": [
       "HBox(children=(FloatProgress(value=0.0, description='Predicting', max=20.0, style=ProgressStyle(description_wi…"
      ]
     },
     "metadata": {},
     "output_type": "display_data"
    },
    {
     "name": "stdout",
     "output_type": "stream",
     "text": [
      "\n"
     ]
    },
    {
     "data": {
      "application/vnd.jupyter.widget-view+json": {
       "model_id": "fc2f11c43e874596be60ba1406e7e963",
       "version_major": 2,
       "version_minor": 0
      },
      "text/plain": [
       "HBox(children=(FloatProgress(value=0.0, description='Predicting', max=20.0, style=ProgressStyle(description_wi…"
      ]
     },
     "metadata": {},
     "output_type": "display_data"
    },
    {
     "name": "stdout",
     "output_type": "stream",
     "text": [
      "\n"
     ]
    },
    {
     "data": {
      "application/vnd.jupyter.widget-view+json": {
       "model_id": "06405f63222844089ca15032f0fcc072",
       "version_major": 2,
       "version_minor": 0
      },
      "text/plain": [
       "HBox(children=(FloatProgress(value=0.0, description='Predicting', max=20.0, style=ProgressStyle(description_wi…"
      ]
     },
     "metadata": {},
     "output_type": "display_data"
    },
    {
     "name": "stdout",
     "output_type": "stream",
     "text": [
      "\n"
     ]
    }
   ],
   "source": [
    "N = 20\n",
    "test_threshold = 0.109375\n",
    "Q = 8\n",
    "classification_patterns = X_test[:N]\n",
    "classification_labels = Y_test[:N]\n",
    "shots = 1024 * 8\n",
    "bias = 0.0\n",
    "\n",
    "classified_as, holder_for_most_common, holder_for_test, holder_for_readouts = multi_class_prediction(qubits = Q, classification_patterns = classification_patterns, shots = shots, test_threshold = test_threshold, weights_matrix = weights_matrix, bias = bias)"
   ]
  },
  {
   "cell_type": "code",
   "execution_count": 47,
   "metadata": {
    "ExecuteTime": {
     "end_time": "2020-12-23T04:00:36.981096Z",
     "start_time": "2020-12-23T04:00:36.398661Z"
    },
    "hidden": true
   },
   "outputs": [
    {
     "data": {
      "image/png": "[encoded data removed]",
      "text/plain": [
       "<Figure size 1080x648 with 22 Axes>"
      ]
     },
     "metadata": {},
     "output_type": "display_data"
    }
   ],
   "source": [
    "##########################\n",
    "# Do not run, since it is not optimized it will show a horrible plot\n",
    "# and it will take too much time to process.\n",
    "##########################\n",
    "\n",
    "# Plotting misclassifications\n",
    "\n",
    "fig, axs = plt.subplots(3, int(np.ceil(len(classification_patterns) / 3)), figsize=(15,9))\n",
    "count = 0\n",
    "\n",
    "for i in range(3):\n",
    "    for j in range(int(np.ceil(len(classification_patterns) / 3))):\n",
    "        ax = axs[i][j]\n",
    "        \n",
    "        #c = ax.pcolor(thetas[i + j][1:].reshape(28, 28), cmap = 'gray')\n",
    "        try:\n",
    "            c = ax.imshow(np.array(classification_patterns[count]).reshape(16, 16), cmap = 'gray_r', interpolation='nearest')\n",
    "            ax.axis('off')\n",
    "            ax.axis('equal')\n",
    "            ax.set_title(f'Clas. as {classified_as[count]} is {classification_labels[count]}').set_position([0.5, 1.1])\n",
    "            count += 1\n",
    "        except IndexError:\n",
    "            continue\n",
    "        \n",
    "fig.tight_layout()\n",
    "plt.colorbar(c)\n",
    "plt.show()"
   ]
  },
  {
   "cell_type": "markdown",
   "metadata": {
    "heading_collapsed": true,
    "hidden": true
   },
   "source": [
    "## Measure performance\n",
    "#### Some ways to measure the model performance"
   ]
  },
  {
   "cell_type": "code",
   "execution_count": 48,
   "metadata": {
    "ExecuteTime": {
     "end_time": "2020-12-23T04:00:36.987046Z",
     "start_time": "2020-12-23T04:00:36.982061Z"
    },
    "hidden": true
   },
   "outputs": [
    {
     "name": "stdout",
     "output_type": "stream",
     "text": [
      "Accuracy = 1.0\n"
     ]
    }
   ],
   "source": [
    "accuracy = len(np.where(classification_labels == classified_as)[0]) / len(classification_labels)\n",
    "print(f'Accuracy = {accuracy}')"
   ]
  },
  {
   "cell_type": "code",
   "execution_count": 49,
   "metadata": {
    "ExecuteTime": {
     "end_time": "2020-12-23T04:00:36.994028Z",
     "start_time": "2020-12-23T04:00:36.989042Z"
    },
    "hidden": true
   },
   "outputs": [
    {
     "data": {
      "text/plain": [
       "array([[[0.0, 0.0, 0.0, ..., 0.0, 0.0, 0.0],\n",
       "        [0.0, 1.0, 1.0, ..., 1.0, 1.0, 1.0],\n",
       "        [0.0, 1.0, 2.0, ..., 2.0, 2.0, 2.0],\n",
       "        ...,\n",
       "        [0.0, 1.0, 2.0, ..., 7.0, 7.0, 7.0],\n",
       "        [0.0, 1.0, 2.0, ..., 7.0, 8.0, 8.0],\n",
       "        [0.0, 1.0, 2.0, ..., 7.0, 8.0, 9.0]],\n",
       "\n",
       "       [[0.0, 0.0, 0.0, ..., 0.0, 0.0, 0.0],\n",
       "        [0.0, 1.0, 1.0, ..., 1.0, 1.0, 1.0],\n",
       "        [0.0, 1.0, 2.0, ..., 2.0, 2.0, 2.0],\n",
       "        ...,\n",
       "        [0.0, 1.0, 2.0, ..., 7.0, 7.0, 7.0],\n",
       "        [0.0, 1.0, 2.0, ..., 7.0, 8.0, 8.0],\n",
       "        [0.0, 1.0, 2.0, ..., 7.0, 8.0, 9.0]],\n",
       "\n",
       "       [[0.0, 0.0, 0.0, ..., 0.0, 0.0, 0.0],\n",
       "        [0.0, 1.0, 1.0, ..., 1.0, 8.0, 1.0],\n",
       "        [0.0, 1.0, 2.0, ..., 2.0, 2.0, 2.0],\n",
       "        ...,\n",
       "        [0.0, 1.0, 2.0, ..., 7.0, 7.0, 7.0],\n",
       "        [0.0, 8.0, 2.0, ..., 7.0, 8.0, 8.0],\n",
       "        [0.0, 1.0, 2.0, ..., 7.0, 8.0, 9.0]],\n",
       "\n",
       "       ...,\n",
       "\n",
       "       [[0.0, 0.0, 0.0, ..., 0.0, 0.0, 0.0],\n",
       "        [0.0, 1.0, 1.0, ..., 1.0, 1.0, 9.0],\n",
       "        [0.0, 1.0, 2.0, ..., 2.0, 2.0, 2.0],\n",
       "        ...,\n",
       "        [0.0, 1.0, 2.0, ..., 7.0, 7.0, 7.0],\n",
       "        [0.0, 1.0, 2.0, ..., 7.0, 8.0, 8.0],\n",
       "        [0.0, 9.0, 2.0, ..., 7.0, 8.0, 9.0]],\n",
       "\n",
       "       [[0.0, 0.0, 0.0, ..., 0.0, 0.0, 0.0],\n",
       "        [0.0, 1.0, 1.0, ..., 1.0, 1.0, 1.0],\n",
       "        [0.0, 1.0, 2.0, ..., 2.0, 2.0, 2.0],\n",
       "        ...,\n",
       "        [0.0, 1.0, 2.0, ..., 7.0, 7.0, 7.0],\n",
       "        [0.0, 1.0, 2.0, ..., 7.0, 8.0, 8.0],\n",
       "        [0.0, 1.0, 2.0, ..., 7.0, 8.0, 9.0]],\n",
       "\n",
       "       [[0.0, 0.0, 0.0, ..., 0.0, 0.0, 0.0],\n",
       "        [0.0, 1.0, 1.0, ..., 1.0, 1.0, 1.0],\n",
       "        [0.0, 1.0, 2.0, ..., 2.0, 2.0, 2.0],\n",
       "        ...,\n",
       "        [0.0, 1.0, 2.0, ..., 7.0, 7.0, 7.0],\n",
       "        [0.0, 1.0, 2.0, ..., 7.0, 8.0, 8.0],\n",
       "        [0.0, 1.0, 2.0, ..., 7.0, 8.0, 9.0]]], dtype=object)"
      ]
     },
     "execution_count": 49,
     "metadata": {},
     "output_type": "execute_result"
    }
   ],
   "source": [
    "holder_for_test"
   ]
  },
  {
   "cell_type": "code",
   "execution_count": 50,
   "metadata": {
    "ExecuteTime": {
     "end_time": "2020-12-23T04:00:36.999026Z",
     "start_time": "2020-12-23T04:00:36.995025Z"
    },
    "hidden": true
   },
   "outputs": [],
   "source": [
    "# To print only two decimal places\n",
    "np.set_printoptions(precision=2)"
   ]
  },
  {
   "cell_type": "code",
   "execution_count": 51,
   "metadata": {
    "ExecuteTime": {
     "end_time": "2020-12-23T04:00:37.009985Z",
     "start_time": "2020-12-23T04:00:37.001010Z"
    },
    "hidden": true
   },
   "outputs": [
    {
     "data": {
      "text/plain": [
       "array([[[2.32e-03, 0.00e+00, 3.42e-03, ..., 1.22e-04, 1.02e-01,\n",
       "         4.64e-03],\n",
       "        [0.00e+00, 1.34e-03, 3.58e-02, ..., 2.69e-03, 6.67e-02,\n",
       "         9.77e-03],\n",
       "        [3.42e-03, 3.58e-02, 4.03e-03, ..., 0.00e+00, 1.02e-01,\n",
       "         3.66e-03],\n",
       "        ...,\n",
       "        [1.22e-04, 2.69e-03, 0.00e+00, ..., 2.44e-04, 2.56e-02,\n",
       "         6.10e-04],\n",
       "        [1.02e-01, 6.67e-02, 1.02e-01, ..., 2.56e-02, 1.44e-02,\n",
       "         3.66e-04],\n",
       "        [4.64e-03, 9.77e-03, 3.66e-03, ..., 6.10e-04, 3.66e-04,\n",
       "         3.12e-02]],\n",
       "\n",
       "       [[2.22e-01, 0.00e+00, 8.54e-03, ..., 4.64e-03, 6.10e-03,\n",
       "         8.28e-02],\n",
       "        [0.00e+00, 8.54e-04, 6.25e-02, ..., 1.79e-02, 3.34e-02,\n",
       "         9.79e-02],\n",
       "        [8.54e-03, 6.25e-02, 8.30e-03, ..., 1.99e-02, 8.30e-03,\n",
       "         1.92e-02],\n",
       "        ...,\n",
       "        [4.64e-03, 1.79e-02, 1.99e-02, ..., 3.17e-03, 3.66e-04,\n",
       "         6.42e-02],\n",
       "        [6.10e-03, 3.34e-02, 8.30e-03, ..., 3.66e-04, 5.40e-02,\n",
       "         8.94e-02],\n",
       "        [8.28e-02, 9.79e-02, 1.92e-02, ..., 6.42e-02, 8.94e-02,\n",
       "         1.70e-02]],\n",
       "\n",
       "       [[7.64e-02, 2.70e-02, 4.13e-02, ..., 2.93e-03, 3.50e-02,\n",
       "         2.37e-02],\n",
       "        [2.70e-02, 1.87e-02, 7.64e-02, ..., 1.95e-02, 1.13e-01,\n",
       "         5.38e-02],\n",
       "        [4.13e-02, 7.64e-02, 7.12e-02, ..., 1.61e-02, 3.30e-02,\n",
       "         2.33e-02],\n",
       "        ...,\n",
       "        [2.93e-03, 1.95e-02, 1.61e-02, ..., 1.12e-02, 3.78e-03,\n",
       "         3.14e-02],\n",
       "        [3.50e-02, 1.13e-01, 3.30e-02, ..., 3.78e-03, 9.02e-02,\n",
       "         9.40e-03],\n",
       "        [2.37e-02, 5.38e-02, 2.33e-02, ..., 3.14e-02, 9.40e-03,\n",
       "         1.15e-02]],\n",
       "\n",
       "       ...,\n",
       "\n",
       "       [[4.37e-01, 8.54e-04, 1.10e-02, ..., 1.22e-04, 2.81e-03,\n",
       "         7.81e-03],\n",
       "        [8.54e-04, 0.00e+00, 8.19e-02, ..., 1.22e-03, 1.99e-02,\n",
       "         1.12e-01],\n",
       "        [1.10e-02, 8.19e-02, 1.51e-02, ..., 3.42e-03, 4.15e-03,\n",
       "         2.86e-02],\n",
       "        ...,\n",
       "        [1.22e-04, 1.22e-03, 3.42e-03, ..., 6.47e-03, 0.00e+00,\n",
       "         1.56e-02],\n",
       "        [2.81e-03, 1.99e-02, 4.15e-03, ..., 0.00e+00, 1.00e-02,\n",
       "         4.92e-02],\n",
       "        [7.81e-03, 1.12e-01, 2.86e-02, ..., 1.56e-02, 4.92e-02,\n",
       "         5.10e-02]],\n",
       "\n",
       "       [[1.85e-01, 1.68e-02, 4.33e-02, ..., 9.03e-03, 1.22e-03,\n",
       "         9.78e-02],\n",
       "        [1.68e-02, 8.30e-03, 6.14e-02, ..., 1.70e-02, 9.64e-03,\n",
       "         4.85e-02],\n",
       "        [4.33e-02, 6.14e-02, 3.49e-02, ..., 3.93e-02, 5.25e-03,\n",
       "         3.21e-02],\n",
       "        ...,\n",
       "        [9.03e-03, 1.70e-02, 3.93e-02, ..., 2.50e-02, 1.22e-04,\n",
       "         9.77e-02],\n",
       "        [1.22e-03, 9.64e-03, 5.25e-03, ..., 1.22e-04, 1.64e-02,\n",
       "         3.47e-02],\n",
       "        [9.78e-02, 4.85e-02, 3.21e-02, ..., 9.77e-02, 3.47e-02,\n",
       "         3.28e-02]],\n",
       "\n",
       "       [[1.13e-01, 1.53e-02, 8.06e-03, ..., 3.66e-04, 2.28e-02,\n",
       "         2.44e-04],\n",
       "        [1.53e-02, 1.12e-02, 1.59e-02, ..., 1.49e-02, 5.27e-02,\n",
       "         2.83e-02],\n",
       "        [8.06e-03, 1.59e-02, 4.20e-02, ..., 1.00e-02, 2.40e-02,\n",
       "         3.05e-02],\n",
       "        ...,\n",
       "        [3.66e-04, 1.49e-02, 1.00e-02, ..., 6.35e-03, 2.69e-03,\n",
       "         1.22e-03],\n",
       "        [2.28e-02, 5.27e-02, 2.40e-02, ..., 2.69e-03, 9.53e-02,\n",
       "         6.98e-02],\n",
       "        [2.44e-04, 2.83e-02, 3.05e-02, ..., 1.22e-03, 6.98e-02,\n",
       "         1.22e-04]]])"
      ]
     },
     "execution_count": 51,
     "metadata": {},
     "output_type": "execute_result"
    }
   ],
   "source": [
    "holder_for_readouts.astype(float)"
   ]
  },
  {
   "cell_type": "code",
   "execution_count": 52,
   "metadata": {
    "ExecuteTime": {
     "end_time": "2020-12-23T04:00:37.953462Z",
     "start_time": "2020-12-23T04:00:37.011993Z"
    },
    "hidden": true
   },
   "outputs": [
    {
     "data": {
      "image/png": "[encoded data removed]",
      "text/plain": [
       "<Figure size 1080x648 with 11 Axes>"
      ]
     },
     "metadata": {},
     "output_type": "display_data"
    }
   ],
   "source": [
    "fig, axs = plt.subplots(2,5, figsize=(15,9))\n",
    "count = 0\n",
    "\n",
    "for i in range(2):\n",
    "    for j in range(5):\n",
    "        ax = axs[i][j]\n",
    "        \n",
    "        #c = ax.pcolor(thetas[i + j][1:].reshape(28, 28), cmap = 'gray')\n",
    "        try:\n",
    "            c = ax.imshow(np.array(np.nan_to_num(holder_for_readouts.astype(float))[count].reshape(10,10)), cmap = 'hot', interpolation='nearest')\n",
    "            ax.axis('on')\n",
    "            #ax.axis('equal')\n",
    "            ax.set_title(f'Clas. as {classified_as[count]} is {classification_labels[count]}').set_position([0.5, 1.1])\n",
    "            count += 1\n",
    "        except IndexError:\n",
    "            continue\n",
    "        \n",
    "fig.tight_layout()\n",
    "norm = mpl.colors.Normalize(vmin=np.nan_to_num(holder_for_readouts.astype(float)).min(), vmax=np.nan_to_num(holder_for_readouts.astype(float)).max())\n",
    "plt.colorbar(c, norm = norm)\n",
    "plt.show()"
   ]
  },
  {
   "cell_type": "code",
   "execution_count": 53,
   "metadata": {
    "ExecuteTime": {
     "end_time": "2020-12-23T04:00:37.964433Z",
     "start_time": "2020-12-23T04:00:37.955456Z"
    },
    "hidden": true
   },
   "outputs": [
    {
     "data": {
      "text/plain": [
       "array([26, 62], dtype=int64)"
      ]
     },
     "execution_count": 53,
     "metadata": {},
     "output_type": "execute_result"
    }
   ],
   "source": [
    "np.nan_to_num(holder_for_readouts.astype(float))[9].flatten().argsort()[98:]"
   ]
  },
  {
   "cell_type": "code",
   "execution_count": 54,
   "metadata": {
    "ExecuteTime": {
     "end_time": "2020-12-23T04:00:37.992414Z",
     "start_time": "2020-12-23T04:00:37.965474Z"
    },
    "hidden": true
   },
   "outputs": [
    {
     "data": {
      "text/plain": [
       "array([[8, 8, 8, 8, 6, 8, 4, 8, 0, 9],\n",
       "       [0, 9, 5, 9, 6, 5, 1, 9, 9, 1],\n",
       "       [6, 6, 6, 4, 6, 2, 4, 5, 1, 1],\n",
       "       [6, 9, 6, 4, 6, 2, 2, 9, 1, 1],\n",
       "       [6, 8, 2, 6, 6, 8, 0, 2, 1, 1],\n",
       "       [0, 5, 1, 9, 9, 5, 9, 9, 9, 0],\n",
       "       [0, 2, 1, 6, 6, 2, 1, 9, 9, 1],\n",
       "       [0, 2, 6, 6, 6, 2, 4, 9, 9, 1],\n",
       "       [6, 9, 6, 5, 6, 2, 2, 3, 8, 1],\n",
       "       [0, 9, 6, 4, 5, 4, 2, 9, 8, 2],\n",
       "       [0, 9, 6, 4, 6, 2, 4, 9, 8, 1],\n",
       "       [6, 9, 6, 0, 6, 2, 4, 1, 1, 1],\n",
       "       [0, 2, 1, 6, 6, 2, 0, 5, 1, 9],\n",
       "       [0, 5, 1, 9, 9, 5, 9, 9, 2, 7],\n",
       "       [6, 9, 6, 4, 6, 6, 4, 9, 1, 1],\n",
       "       [0, 2, 1, 6, 6, 5, 4, 9, 8, 1],\n",
       "       [0, 6, 5, 6, 6, 2, 4, 2, 9, 9],\n",
       "       [0, 9, 6, 6, 6, 2, 2, 9, 9, 1],\n",
       "       [0, 5, 1, 9, 9, 1, 9, 9, 9, 3],\n",
       "       [0, 8, 6, 5, 6, 2, 2, 1, 8, 8]], dtype=int64)"
      ]
     },
     "execution_count": 54,
     "metadata": {},
     "output_type": "execute_result"
    }
   ],
   "source": [
    "np.argmax(np.nan_to_num(holder_for_readouts.astype(float)), axis = 1)"
   ]
  },
  {
   "cell_type": "code",
   "execution_count": 55,
   "metadata": {
    "ExecuteTime": {
     "end_time": "2020-12-23T04:00:38.000342Z",
     "start_time": "2020-12-23T04:00:37.994353Z"
    },
    "hidden": true
   },
   "outputs": [
    {
     "data": {
      "text/plain": [
       "array([ 8,  0, 46, 26, 22,  0,  0,  0, 26, 26,  0, 46,  0,  0, 46,  0,  0,\n",
       "        0,  0,  0], dtype=int64)"
      ]
     },
     "execution_count": 55,
     "metadata": {},
     "output_type": "execute_result"
    }
   ],
   "source": [
    "np.array(list(map(np.argmax, np.nan_to_num(holder_for_readouts.astype(float)))))"
   ]
  },
  {
   "cell_type": "code",
   "execution_count": 56,
   "metadata": {
    "ExecuteTime": {
     "end_time": "2020-12-23T04:00:38.007336Z",
     "start_time": "2020-12-23T04:00:38.002331Z"
    },
    "hidden": true
   },
   "outputs": [
    {
     "data": {
      "text/plain": [
       "array([8, 0, 6, 6, 2, 0, 0, 0, 6, 6, 0, 6, 0, 0, 6, 0, 0, 0, 0, 0],\n",
       "      dtype=int64)"
      ]
     },
     "execution_count": 56,
     "metadata": {},
     "output_type": "execute_result"
    }
   ],
   "source": [
    "trick = np.array(list(map(np.argmax, np.nan_to_num(holder_for_readouts.astype(float))))) % 10\n",
    "trick"
   ]
  },
  {
   "cell_type": "code",
   "execution_count": 57,
   "metadata": {
    "ExecuteTime": {
     "end_time": "2020-12-23T04:00:38.015302Z",
     "start_time": "2020-12-23T04:00:38.009323Z"
    },
    "hidden": true
   },
   "outputs": [
    {
     "data": {
      "text/plain": [
       "array([0, 0, 0, 0, 0, 0, 0, 0, 0, 0, 0, 0, 0, 0, 0, 0, 0, 0, 0, 0],\n",
       "      dtype=int64)"
      ]
     },
     "execution_count": 57,
     "metadata": {},
     "output_type": "execute_result"
    }
   ],
   "source": [
    "classification_labels"
   ]
  },
  {
   "cell_type": "code",
   "execution_count": 58,
   "metadata": {
    "ExecuteTime": {
     "end_time": "2020-12-23T04:00:38.021279Z",
     "start_time": "2020-12-23T04:00:38.017292Z"
    },
    "hidden": true
   },
   "outputs": [
    {
     "name": "stdout",
     "output_type": "stream",
     "text": [
      "Accuracy = 0.6\n"
     ]
    }
   ],
   "source": [
    "accuracy = len(np.where(classification_labels == trick)[0]) / len(classification_labels)\n",
    "print(f'Accuracy = {accuracy}')"
   ]
  },
  {
   "cell_type": "code",
   "execution_count": 59,
   "metadata": {
    "ExecuteTime": {
     "end_time": "2020-12-23T04:00:38.033249Z",
     "start_time": "2020-12-23T04:00:38.023274Z"
    },
    "hidden": true
   },
   "outputs": [
    {
     "name": "stdout",
     "output_type": "stream",
     "text": [
      "[[53 51 15 ... 82  8 80]\n",
      " [23  1 32 ... 25 55  0]\n",
      " [68 86 58 ...  6 46 64]\n",
      " ...\n",
      " [67  3 78 ... 62 26  0]\n",
      " [38 83 84 ... 51 15  0]\n",
      " [95 65 59 ... 26 62  0]]\n",
      "[5 2 6 5 5 8 4 1 7 7 1 1 9 1 7 7 5 6 3 9]\n"
     ]
    }
   ],
   "source": [
    "np.nan_to_num(holder_for_readouts.astype(float))[9].flatten().argsort()[98:]\n",
    "np.array(list(map(np.argsort, np.nan_to_num(holder_for_readouts.astype(float).reshape(N, -1)))))[:, :]\n",
    "another_trick = np.array(list(map(np.argsort, np.nan_to_num(holder_for_readouts.astype(float).reshape(N, -1)))))[:,:]\n",
    "print(another_trick)\n",
    "\n",
    "another_trick = another_trick[:, 0]\n",
    "another_trick = np.array(list(map(lambda x : x//10 if x > 9 else x, another_trick)))\n",
    "print(another_trick)"
   ]
  },
  {
   "cell_type": "code",
   "execution_count": 60,
   "metadata": {
    "ExecuteTime": {
     "end_time": "2020-12-23T04:00:38.038235Z",
     "start_time": "2020-12-23T04:00:38.034246Z"
    },
    "hidden": true
   },
   "outputs": [
    {
     "name": "stdout",
     "output_type": "stream",
     "text": [
      "Accuracy = 0.0\n"
     ]
    }
   ],
   "source": [
    "accuracy = len(np.where(classification_labels == another_trick)[0]) / len(classification_labels)\n",
    "print(f'Accuracy = {accuracy}')"
   ]
  },
  {
   "cell_type": "code",
   "execution_count": 61,
   "metadata": {
    "ExecuteTime": {
     "end_time": "2020-12-23T04:00:38.044218Z",
     "start_time": "2020-12-23T04:00:38.039232Z"
    },
    "hidden": true
   },
   "outputs": [
    {
     "data": {
      "text/plain": [
       "array([[(0.0, 10), (1.0, 9), (2.0, 8), (3.0, 7), (4.0, 6), (5.0, 5),\n",
       "        (6.0, 4), (7.0, 3), (8.0, 2), (0.0, 1)],\n",
       "       [(0.0, 10), (1.0, 9), (2.0, 8), (3.0, 7), (4.0, 6), (5.0, 5),\n",
       "        (6.0, 4), (7.0, 3), (8.0, 2), (0.0, 1)],\n",
       "       [(0.0, 9), (6.0, 8), (1.0, 7), (2.0, 7), (3.0, 6), (4.0, 6),\n",
       "        (5.0, 5), (7.0, 3), (8.0, 3), (0.0, 1)],\n",
       "       [(0.0, 9), (1.0, 9), (3.0, 7), (6.0, 7), (2.0, 6), (5.0, 6),\n",
       "        (4.0, 5), (7.0, 3), (8.0, 2), (0.0, 1)],\n",
       "       [(0.0, 10), (1.0, 9), (2.0, 8), (3.0, 7), (4.0, 6), (5.0, 5),\n",
       "        (6.0, 4), (7.0, 3), (8.0, 2), (0.0, 1)],\n",
       "       [(0.0, 10), (1.0, 9), (2.0, 8), (3.0, 7), (4.0, 6), (5.0, 5),\n",
       "        (6.0, 4), (7.0, 3), (8.0, 2), (0.0, 1)],\n",
       "       [(0.0, 10), (1.0, 8), (2.0, 8), (3.0, 7), (4.0, 6), (5.0, 6),\n",
       "        (6.0, 4), (7.0, 3), (8.0, 2), (0.0, 1)],\n",
       "       [(0.0, 10), (1.0, 9), (2.0, 8), (3.0, 7), (4.0, 6), (5.0, 5),\n",
       "        (6.0, 4), (7.0, 3), (8.0, 2), (0.0, 1)],\n",
       "       [(0.0, 10), (1.0, 9), (2.0, 7), (3.0, 7), (4.0, 6), (5.0, 5),\n",
       "        (6.0, 5), (7.0, 3), (8.0, 2), (0.0, 1)],\n",
       "       [(0.0, 10), (1.0, 9), (2.0, 8), (3.0, 7), (4.0, 6), (5.0, 5),\n",
       "        (6.0, 4), (7.0, 3), (8.0, 2), (0.0, 1)],\n",
       "       [(0.0, 10), (1.0, 8), (2.0, 8), (3.0, 7), (4.0, 5), (5.0, 5),\n",
       "        (6.0, 5), (7.0, 3), (8.0, 2), (9.0, 2)],\n",
       "       [(0.0, 9), (1.0, 9), (2.0, 8), (3.0, 7), (6.0, 6), (4.0, 5),\n",
       "        (5.0, 5), (7.0, 3), (8.0, 2), (0.0, 1)],\n",
       "       [(0.0, 9), (2.0, 8), (6.0, 8), (1.0, 7), (3.0, 7), (4.0, 5),\n",
       "        (5.0, 5), (7.0, 3), (8.0, 2), (0.0, 1)],\n",
       "       [(0.0, 10), (1.0, 9), (2.0, 8), (3.0, 7), (4.0, 6), (5.0, 5),\n",
       "        (6.0, 4), (7.0, 3), (8.0, 2), (0.0, 1)],\n",
       "       [(0.0, 9), (1.0, 9), (2.0, 8), (3.0, 7), (6.0, 6), (4.0, 5),\n",
       "        (5.0, 5), (7.0, 3), (8.0, 2), (0.0, 1)],\n",
       "       [(0.0, 10), (2.0, 9), (1.0, 8), (3.0, 7), (4.0, 6), (5.0, 5),\n",
       "        (6.0, 4), (7.0, 3), (8.0, 2), (0.0, 1)],\n",
       "       [(0.0, 9), (1.0, 9), (2.0, 8), (3.0, 7), (6.0, 6), (4.0, 5),\n",
       "        (5.0, 5), (7.0, 3), (8.0, 2), (0.0, 1)],\n",
       "       [(0.0, 9), (1.0, 8), (2.0, 7), (3.0, 7), (4.0, 6), (6.0, 6),\n",
       "        (5.0, 5), (7.0, 3), (8.0, 2), (9.0, 2)],\n",
       "       [(0.0, 10), (1.0, 8), (2.0, 8), (3.0, 7), (4.0, 6), (5.0, 6),\n",
       "        (6.0, 4), (7.0, 3), (8.0, 2), (0.0, 1)],\n",
       "       [(0.0, 10), (1.0, 9), (2.0, 8), (3.0, 7), (4.0, 6), (5.0, 5),\n",
       "        (6.0, 4), (7.0, 3), (8.0, 2), (0.0, 1)]], dtype=object)"
      ]
     },
     "execution_count": 61,
     "metadata": {},
     "output_type": "execute_result"
    }
   ],
   "source": [
    "holder_for_most_common"
   ]
  },
  {
   "cell_type": "code",
   "execution_count": 62,
   "metadata": {
    "ExecuteTime": {
     "end_time": "2020-12-23T04:00:38.050202Z",
     "start_time": "2020-12-23T04:00:38.045216Z"
    },
    "hidden": true
   },
   "outputs": [
    {
     "data": {
      "text/plain": [
       "array([0, 0, 0, 0, 0, 0, 0, 0, 0, 0, 0, 0, 0, 0, 0, 0, 0, 0, 0, 0],\n",
       "      dtype=int64)"
      ]
     },
     "execution_count": 62,
     "metadata": {},
     "output_type": "execute_result"
    }
   ],
   "source": [
    "classification_labels"
   ]
  },
  {
   "cell_type": "code",
   "execution_count": 63,
   "metadata": {
    "ExecuteTime": {
     "end_time": "2020-12-23T04:00:38.056186Z",
     "start_time": "2020-12-23T04:00:38.051201Z"
    },
    "hidden": true
   },
   "outputs": [
    {
     "data": {
      "text/plain": [
       "array([0, 0, 0, 0, 0, 0, 0, 0, 0, 0, 0, 0, 0, 0, 0, 0, 0, 0, 0, 0])"
      ]
     },
     "execution_count": 63,
     "metadata": {},
     "output_type": "execute_result"
    }
   ],
   "source": [
    "np.array(classified_as).astype(int)"
   ]
  }
 ],
 "metadata": {
  "kernelspec": {
   "display_name": "Python 3",
   "language": "python",
   "name": "python3"
  },
  "language_info": {
   "codemirror_mode": {
    "name": "ipython",
    "version": 3
   },
   "file_extension": ".py",
   "mimetype": "text/x-python",
   "name": "python",
   "nbconvert_exporter": "python",
   "pygments_lexer": "ipython3",
   "version": "3.7.4"
  },
  "varInspector": {
   "cols": {
    "lenName": 16,
    "lenType": 16,
    "lenVar": 40
   },
   "kernels_config": {
    "python": {
     "delete_cmd_postfix": "",
     "delete_cmd_prefix": "del ",
     "library": "var_list.py",
     "varRefreshCmd": "print(var_dic_list())"
    },
    "r": {
     "delete_cmd_postfix": ") ",
     "delete_cmd_prefix": "rm(",
     "library": "var_list.r",
     "varRefreshCmd": "cat(var_dic_list()) "
    }
   },
   "position": {
    "height": "144px",
    "left": "1166px",
    "right": "20px",
    "top": "119px",
    "width": "350px"
   },
   "types_to_exclude": [
    "module",
    "function",
    "builtin_function_or_method",
    "instance",
    "_Feature"
   ],
   "window_display": false
  }
 },
 "nbformat": 4,
 "nbformat_minor": 2
}
